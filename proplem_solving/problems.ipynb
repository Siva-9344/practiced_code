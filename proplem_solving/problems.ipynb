{
 "cells": [
  {
   "cell_type": "code",
   "execution_count": 8,
   "id": "a023f9bb-8b61-40f9-a7af-e664c706df3b",
   "metadata": {},
   "outputs": [
    {
     "name": "stdin",
     "output_type": "stream",
     "text": [
      " dog\n"
     ]
    },
    {
     "name": "stdout",
     "output_type": "stream",
     "text": [
      "god\n"
     ]
    }
   ],
   "source": [
    "# Reverse a String\n",
    "a = input()\n",
    "result = a[::-1]\n",
    "print(result)"
   ]
  },
  {
   "cell_type": "code",
   "execution_count": 13,
   "id": "73f5dc1d-42e6-4d5c-8a7c-aecd80696bf8",
   "metadata": {},
   "outputs": [
    {
     "name": "stdin",
     "output_type": "stream",
     "text": [
      " dog\n"
     ]
    },
    {
     "name": "stdout",
     "output_type": "stream",
     "text": [
      "Not palindrome\n"
     ]
    }
   ],
   "source": [
    "#Check for Palindrome\n",
    "a = input()\n",
    "if a == a[::-1]:\n",
    "    print(\"this is palindrome\")\n",
    "else:\n",
    "    print('Not palindrome')"
   ]
  },
  {
   "cell_type": "code",
   "execution_count": 17,
   "id": "dff5d24f-744a-4afc-bbb2-862b706764c3",
   "metadata": {},
   "outputs": [
    {
     "name": "stdout",
     "output_type": "stream",
     "text": [
      "8\n",
      "2\n"
     ]
    }
   ],
   "source": [
    "#Find the Maximum in a List\n",
    "a =  [3, 5, 7, 2, 8]\n",
    "max_num = max(a)\n",
    "min_num = min(a)\n",
    "print(max_num)\n",
    "print(min_num)"
   ]
  },
  {
   "cell_type": "code",
   "execution_count": 22,
   "id": "195a0ddf-8cd2-4226-92ce-5283c287be2a",
   "metadata": {},
   "outputs": [
    {
     "name": "stdin",
     "output_type": "stream",
     "text": [
      " 12345\n"
     ]
    },
    {
     "name": "stdout",
     "output_type": "stream",
     "text": [
      "15\n"
     ]
    }
   ],
   "source": [
    "#Sum of Digits of a Number\n",
    "a = input()\n",
    "b = 0\n",
    "for i in a:\n",
    "    b = b+int(i)\n",
    "print(b)    \n",
    "    "
   ]
  },
  {
   "cell_type": "code",
   "execution_count": 8,
   "id": "70e9c4b8-3f82-4f3e-85f3-a6394c2c6925",
   "metadata": {},
   "outputs": [
    {
     "name": "stdout",
     "output_type": "stream",
     "text": [
      "1\n",
      "2\n",
      "Fizz\n",
      "4\n",
      "buzz\n",
      "Fizz\n",
      "7\n",
      "8\n",
      "Fizz\n",
      "buzz\n",
      "11\n",
      "Fizz\n",
      "13\n",
      "14\n",
      "FizzBuzz\n",
      "16\n",
      "17\n",
      "Fizz\n",
      "19\n",
      "buzz\n",
      "Fizz\n",
      "22\n",
      "23\n",
      "Fizz\n",
      "buzz\n",
      "26\n",
      "Fizz\n",
      "28\n",
      "29\n",
      "FizzBuzz\n",
      "31\n",
      "32\n",
      "Fizz\n",
      "34\n",
      "buzz\n",
      "Fizz\n",
      "37\n",
      "38\n",
      "Fizz\n",
      "buzz\n",
      "41\n",
      "Fizz\n",
      "43\n",
      "44\n",
      "FizzBuzz\n",
      "46\n",
      "47\n",
      "Fizz\n",
      "49\n",
      "buzz\n",
      "Fizz\n",
      "52\n",
      "53\n",
      "Fizz\n",
      "buzz\n",
      "56\n",
      "Fizz\n",
      "58\n",
      "59\n",
      "FizzBuzz\n",
      "61\n",
      "62\n",
      "Fizz\n",
      "64\n",
      "buzz\n",
      "Fizz\n",
      "67\n",
      "68\n",
      "Fizz\n",
      "buzz\n",
      "71\n",
      "Fizz\n",
      "73\n",
      "74\n",
      "FizzBuzz\n",
      "76\n",
      "77\n",
      "Fizz\n",
      "79\n",
      "buzz\n",
      "Fizz\n",
      "82\n",
      "83\n",
      "Fizz\n",
      "buzz\n",
      "86\n",
      "Fizz\n",
      "88\n",
      "89\n",
      "FizzBuzz\n",
      "91\n",
      "92\n",
      "Fizz\n",
      "94\n",
      "buzz\n",
      "Fizz\n",
      "97\n",
      "98\n",
      "Fizz\n",
      "buzz\n"
     ]
    }
   ],
   "source": [
    "'''FizzBuzz Problem\n",
    "Write a program that prints numbers from 1 to 100. But for multiples of 3, print \"Fizz\" instead of the number, and for multiples of 5, print \"Buzz\". \n",
    "For numbers that are multiples of both 3 and 5, print \"FizzBuzz\".'''\n",
    "\n",
    "for i in range (1,101):\n",
    "    if (i%3 == 0) and (i%5 == 0):\n",
    "        print('FizzBuzz')\n",
    "    elif (i%3 == 0):\n",
    "        print('Fizz')\n",
    "    elif (i%5 == 0):\n",
    "        print('buzz')\n",
    "    else:\n",
    "        print(i)\n"
   ]
  },
  {
   "cell_type": "code",
   "execution_count": 10,
   "id": "4e319750-e8bf-4681-85e0-d5e9819de32c",
   "metadata": {},
   "outputs": [
    {
     "name": "stdout",
     "output_type": "stream",
     "text": [
      "99\n"
     ]
    }
   ],
   "source": [
    "#Find the Largest Element in a List\n",
    "a = [10, 25, 8, 99, 30] \n",
    "print(max(a))"
   ]
  },
  {
   "cell_type": "code",
   "execution_count": 11,
   "id": "fb54ea54-04b4-4ec7-9cb8-f3ec03411b85",
   "metadata": {},
   "outputs": [
    {
     "name": "stdin",
     "output_type": "stream",
     "text": [
      " 123\n"
     ]
    },
    {
     "name": "stdout",
     "output_type": "stream",
     "text": [
      "6\n"
     ]
    }
   ],
   "source": [
    "#Sum of Digits\n",
    "a = input()\n",
    "j = 0\n",
    "for i in a:\n",
    "    j = j+int(i)\n",
    "print(j)    \n",
    "    "
   ]
  },
  {
   "cell_type": "code",
   "execution_count": 14,
   "id": "535f3f90-f3b5-478d-abd5-cab15353c77d",
   "metadata": {},
   "outputs": [
    {
     "name": "stdin",
     "output_type": "stream",
     "text": [
      " hello\n"
     ]
    },
    {
     "name": "stdout",
     "output_type": "stream",
     "text": [
      "olleh\n"
     ]
    }
   ],
   "source": [
    "#Reverse a String\n",
    "a = input()\n",
    "b = a[::-1]\n",
    "print(b)"
   ]
  },
  {
   "cell_type": "code",
   "execution_count": 18,
   "id": "9fec6a44-f1a1-485d-9673-cc8aa44cc410",
   "metadata": {},
   "outputs": [
    {
     "name": "stdout",
     "output_type": "stream",
     "text": [
      "45\n"
     ]
    }
   ],
   "source": [
    "#Second Largest Element in a List\n",
    "a = [10, 20, 4, 45, 99]\n",
    "b = sorted(a)\n",
    "print(b[-2])"
   ]
  },
  {
   "cell_type": "code",
   "execution_count": null,
   "id": "8e75763e-aaf9-4cc4-8f4b-db6aa047bdce",
   "metadata": {},
   "outputs": [
    {
     "name": "stdin",
     "output_type": "stream",
     "text": [
      " hell\n"
     ]
    }
   ],
   "source": [
    "#Anagram Check\n",
    "#Write a function that checks whether two strings are anagrams (contain the same characters in different orders).\n",
    "\n",
    "def are_arnagrams(a,b):\n",
    "    return sorted(a) == sorted(b)\n",
    "   \n",
    "\n",
    "a = input()\n",
    "b = input()\n",
    "    "
   ]
  },
  {
   "cell_type": "code",
   "execution_count": 2,
   "id": "0dbe2aa4-82b1-48cd-b37f-dc6d266f8a96",
   "metadata": {},
   "outputs": [
    {
     "name": "stdout",
     "output_type": "stream",
     "text": [
      "1\n",
      "2\n",
      "3\n",
      "4\n",
      "5\n",
      "6\n",
      "7\n",
      "8\n",
      "9\n",
      "10\n"
     ]
    }
   ],
   "source": [
    "#while loop\n",
    "i = 1\n",
    "while i <= 10:\n",
    "    print(i)\n",
    "    i = i+1    "
   ]
  },
  {
   "cell_type": "code",
   "execution_count": 10,
   "id": "888ef5d0-4040-49b4-babb-18aa63f6e59f",
   "metadata": {},
   "outputs": [
    {
     "name": "stdout",
     "output_type": "stream",
     "text": [
      "1\n",
      "2\n",
      "3\n",
      "4\n",
      "5\n"
     ]
    }
   ],
   "source": [
    "i = 1\n",
    "while i<=10:\n",
    "    print(i)\n",
    "    if i == 5:\n",
    "        break   \n",
    "    i = i+1\n",
    "   \n"
   ]
  },
  {
   "cell_type": "code",
   "execution_count": 1,
   "id": "70d71e4e-b4d5-44ef-9271-88faed6a0b27",
   "metadata": {},
   "outputs": [
    {
     "name": "stdout",
     "output_type": "stream",
     "text": [
      "1\n",
      "3\n",
      "4\n",
      "5\n"
     ]
    }
   ],
   "source": [
    "# Skipping values using continue\n",
    "i = 0\n",
    "while i < 5:\n",
    "    i = i+1\n",
    "    if i == 2:\n",
    "        continue\n",
    "    print(i)    \n",
    "       "
   ]
  },
  {
   "cell_type": "code",
   "execution_count": 6,
   "id": "20f207be-534d-4450-b9a5-996187e867d0",
   "metadata": {},
   "outputs": [
    {
     "name": "stdout",
     "output_type": "stream",
     "text": [
      "1\n",
      "2\n",
      "3\n",
      "4\n",
      "5\n"
     ]
    }
   ],
   "source": [
    "# Problem 1: Print numbers from 1 to 5\n",
    "i = 1\n",
    "while i<=5:\n",
    "    print(i)\n",
    "    i = i+1\n",
    "    \n",
    "\n",
    "\n",
    "    \n",
    "    "
   ]
  },
  {
   "cell_type": "code",
   "execution_count": 2,
   "id": "53574929-4223-47cf-b5a9-076e7dcd878c",
   "metadata": {},
   "outputs": [
    {
     "name": "stdout",
     "output_type": "stream",
     "text": [
      "5.0\n"
     ]
    }
   ],
   "source": [
    "# find missing one number.\n",
    "\n",
    "arr = [1, 2, 4, 6, 3, 7, 8]\n",
    "# Output: 5\n",
    "\n",
    "n = len(arr)+1\n",
    "\n",
    "total = n*(n+1)/2\n",
    "finded = total - sum(arr)\n",
    "print(finded)\n"
   ]
  },
  {
   "cell_type": "code",
   "execution_count": 11,
   "id": "914c6468-4b94-4ff8-b4e0-0f94df7a295a",
   "metadata": {},
   "outputs": [
    {
     "name": "stdout",
     "output_type": "stream",
     "text": [
      "Counter({'apple': 3, 'banana': 2, 'orange': 1})\n"
     ]
    }
   ],
   "source": [
    "#  Count Frequency of Each Element\n",
    "\n",
    "arr = ['apple', 'banana', 'apple', 'orange', 'banana', 'apple']\n",
    "# Output: {'apple': 3, 'banana': 2, 'orange': 1}\n",
    "\n",
    "from collections import Counter\n",
    "frq = Counter(arr)\n",
    "print(frq)"
   ]
  },
  {
   "cell_type": "code",
   "execution_count": 18,
   "id": "ee0d37b9-7967-4554-9aae-cfb0e69bde3f",
   "metadata": {},
   "outputs": [
    {
     "name": "stdout",
     "output_type": "stream",
     "text": [
      "ollleh\n"
     ]
    }
   ],
   "source": [
    "\n",
    "# reverse string\n",
    "a = 'helllo'\n",
    "\n",
    "res = ''\n",
    "for char in a:\n",
    "    res = char + res\n",
    "print(res)"
   ]
  },
  {
   "cell_type": "code",
   "execution_count": 8,
   "id": "7ec3b4cf-67e7-4446-bff0-bcb81fa150e9",
   "metadata": {},
   "outputs": [
    {
     "name": "stdout",
     "output_type": "stream",
     "text": [
      "Number of vowels: 4\n"
     ]
    }
   ],
   "source": [
    "# ✅ Problem 1: Count Vowels in a String\n",
    "\n",
    "def count(s):\n",
    "    vowels = 'aeiouAEIOU'\n",
    "    count = 0\n",
    "    for char in s:\n",
    "        if char in vowels:\n",
    "            count = count+1\n",
    "    return count\n",
    "input_str = count('Sivaraman')\n",
    "print('Number of vowels:',input_str)\n",
    "\n",
    "\n"
   ]
  },
  {
   "cell_type": "code",
   "execution_count": 31,
   "id": "3fd0ad13-cc98-4c09-873d-4a1a2c28c34f",
   "metadata": {},
   "outputs": [
    {
     "name": "stdin",
     "output_type": "stream",
     "text": [
      " 13\n"
     ]
    },
    {
     "name": "stdout",
     "output_type": "stream",
     "text": [
      "Yes 13 is prime Number\n"
     ]
    }
   ],
   "source": [
    "# ✅ Problem 2: Check if a Number is Prime\n",
    "def is_prime(n):\n",
    "    if n < 1:\n",
    "        return 'You should Enter above 0'\n",
    "    for i in range (2, int(n**0.5)+1): # square root value eg: 25 sqrt value is 5 then range is convert 2,3,4 then after divisible and check.\n",
    "        if n%i == 0:\n",
    "            return False\n",
    "    return True\n",
    "\n",
    "n = int(input())\n",
    "check = is_prime(n)\n",
    "\n",
    "if check == True:\n",
    "    print(f'Yes {n} is prime Number')\n",
    "\n",
    "else:\n",
    "    print(f'No {n} is Not prime Number. ')\n",
    "     "
   ]
  },
  {
   "cell_type": "code",
   "execution_count": 10,
   "id": "0c6354df-2458-431b-9ec1-0e83ec8cf004",
   "metadata": {},
   "outputs": [
    {
     "name": "stdout",
     "output_type": "stream",
     "text": [
      "1.4142135623730951\n"
     ]
    }
   ],
   "source": [
    "print(2**0.5)"
   ]
  },
  {
   "cell_type": "code",
   "execution_count": 12,
   "id": "d684d1b0-bbf7-4560-a033-9c4658794f6b",
   "metadata": {},
   "outputs": [
    {
     "name": "stdout",
     "output_type": "stream",
     "text": [
      "5.47213595499958\n"
     ]
    }
   ],
   "source": [
    "print((20**0.5)+1)"
   ]
  },
  {
   "cell_type": "code",
   "execution_count": 3,
   "id": "3a0ffd8a-af0d-4b7f-a8d2-f7581c95e589",
   "metadata": {},
   "outputs": [
    {
     "data": {
      "text/plain": [
       "'\\n\\nPurpose:\\n\\n\\n\\n 1) This line says: \"Run this part only if this file is opened directly.\" 🟢\\n\\n\\n\\n 2) Yes runs: If you run the file yourself (python file.py) 👨\\u200d💻\\n\\n\\n\\n 3) No run: If someone else imports your file into their code 📥\\n\\n\\n\\n 4) Keeps your functions reusable without extra code running 🔁\\n\\n\\n\\n 5) Helps organize code like: write code at the bottom, keep functions on top 📦\\n\\n\\n\\n#Python #PythonProgramming #LearnPython #CodingForBeginners  \\n\\n#CodeNewbie #ProgrammingBasics #PythonTips #DeveloperLife  \\n\\n#100DaysOfCode #PythonLearning #TechForBeginners #WomenWhoCode  \\n\\n#DataScienceWithPython #AutomationWithPython #PythonCommunity\\n'"
      ]
     },
     "execution_count": 3,
     "metadata": {},
     "output_type": "execute_result"
    }
   ],
   "source": [
    "# if __name__ == \"__main__\":\n",
    "\n",
    "\n",
    "'''\n",
    "\n",
    "Purpose:\n",
    "\n",
    "\n",
    "\n",
    " 1) This line says: \"Run this part only if this file is opened directly.\" 🟢\n",
    "\n",
    "\n",
    "\n",
    " 2) Yes runs: If you run the file yourself (python file.py) 👨‍💻\n",
    "\n",
    "\n",
    "\n",
    " 3) No run: If someone else imports your file into their code 📥\n",
    "\n",
    "\n",
    "\n",
    " 4) Keeps your functions reusable without extra code running 🔁\n",
    "\n",
    "\n",
    "\n",
    " 5) Helps organize code like: write code at the bottom, keep functions on top 📦\n",
    "\n",
    "\n",
    "\n",
    "#Python #PythonProgramming #LearnPython #CodingForBeginners  \n",
    "\n",
    "#CodeNewbie #ProgrammingBasics #PythonTips #DeveloperLife  \n",
    "\n",
    "#100DaysOfCode #PythonLearning #TechForBeginners #WomenWhoCode  \n",
    "\n",
    "#DataScienceWithPython #AutomationWithPython #PythonCommunity\n",
    "'''"
   ]
  },
  {
   "cell_type": "code",
   "execution_count": 15,
   "id": "2a58109b-5b78-4f7c-8437-cb506f16722e",
   "metadata": {},
   "outputs": [
    {
     "name": "stdout",
     "output_type": "stream",
     "text": [
      "second_largest_num : 7\n"
     ]
    }
   ],
   "source": [
    "# Problem 3: Find the Second Largest Number in a List\n",
    "\n",
    "def sec_larg_num(num):\n",
    "    nums =  list(set(num))\n",
    "    nums.sort()\n",
    "    return nums[-2] if len(nums)>=2 else 'None'\n",
    "numbers = [1,2,7,9,5,4]\n",
    "print('second_largest_num :', sec_larg_num(numbers) )\n",
    "\n"
   ]
  },
  {
   "cell_type": "code",
   "execution_count": 16,
   "id": "d1178f56-ee9b-43b4-976b-b26fe0950a4b",
   "metadata": {},
   "outputs": [
    {
     "name": "stdin",
     "output_type": "stream",
     "text": [
      " i have the car\n"
     ]
    },
    {
     "name": "stdout",
     "output_type": "stream",
     "text": [
      "reversed : car the have i\n"
     ]
    }
   ],
   "source": [
    "# Reverse Words in a Sentence\n",
    "def reverse_words(sentence):\n",
    "    return ' '.join(sentence.split()[::-1])\n",
    "\n",
    "text = input()\n",
    "print('reversed :', reverse_words(text))"
   ]
  },
  {
   "cell_type": "code",
   "execution_count": 40,
   "id": "b52cdbec-022c-4d1a-896a-46bdd5ddc309",
   "metadata": {},
   "outputs": [
    {
     "name": "stdin",
     "output_type": "stream",
     "text": [
      " 132\n"
     ]
    },
    {
     "name": "stdout",
     "output_type": "stream",
     "text": [
      "sum of the digit : 6\n"
     ]
    }
   ],
   "source": [
    "# Sum of Digits in a Number\n",
    "\n",
    "n = input()\n",
    "\n",
    "for i in n:\n",
    "    j = [int(i) for i in n]\n",
    "print(\"sum of the digit :\",sum(j))\n",
    "    "
   ]
  },
  {
   "cell_type": "code",
   "execution_count": 8,
   "id": "a085ef84-dc4f-4626-863a-78ebcacf6d06",
   "metadata": {},
   "outputs": [
    {
     "name": "stdout",
     "output_type": "stream",
     "text": [
      "sum of the digit : 9\n"
     ]
    }
   ],
   "source": [
    "# Sum of Digits in a Number\n",
    "\n",
    "def sum_of_digit(n):\n",
    "    return sum(int(i) for i in str(n))\n",
    "\n",
    "print(\"sum of the digit :\", sum_of_digit(12312))"
   ]
  },
  {
   "cell_type": "code",
   "execution_count": 10,
   "id": "57459f0a-14f5-4695-9d41-e1285a1d826a",
   "metadata": {},
   "outputs": [
    {
     "name": "stdout",
     "output_type": "stream",
     "text": [
      "[0, 2]\n"
     ]
    }
   ],
   "source": [
    "# Two Sum with Indices\n",
    "'''\n",
    "def two_sum(nums, target):\n",
    "    seen = {}\n",
    "    for i, num in enumerate(nums):\n",
    "        diff = target - num\n",
    "        if diff in seen:\n",
    "            return [seen[diff], i]\n",
    "        seen[num] = i\n",
    "\n",
    "print(two_sum([2, 7, 11, 15], 9))\n",
    "\n",
    "'''\n",
    "def two_sum(nums, target):\n",
    "    seen = {} # stored value in dictionary format\n",
    "    for i, num in enumerate(nums):  # i show the index, num show the value\n",
    "        diff = target-num  # find the diff value\n",
    "        if diff in seen:           \n",
    "           return [seen[diff],i]\n",
    "        seen[num] = i # this is helped store the value and index like {2:0}  2 value present in 0 index  \n",
    "print(two_sum([2,4,7,10,14],9))\n"
   ]
  },
  {
   "cell_type": "code",
   "execution_count": 13,
   "id": "c21cea30-725a-4a2e-a5e4-8181f423124b",
   "metadata": {},
   "outputs": [
    {
     "name": "stdout",
     "output_type": "stream",
     "text": [
      "aet\n",
      "aet\n",
      "ant\n",
      "aet\n",
      "ant\n",
      "abt\n"
     ]
    }
   ],
   "source": [
    "a = [\"eat\", \"tea\", \"tan\", \"ate\", \"nat\", \"bat\"]\n",
    "for word in a:\n",
    "    key = ''.join(sorted(word))\n",
    "    print(key)\n",
    "\n",
    "#key = ''.join(sorted(word))"
   ]
  },
  {
   "cell_type": "code",
   "execution_count": 15,
   "id": "77963aa5-cf9c-46fe-91c8-1c231ee07802",
   "metadata": {},
   "outputs": [
    {
     "name": "stdout",
     "output_type": "stream",
     "text": [
      "[['eat', 'tea', 'ate'], ['tan', 'nat'], ['bat']]\n"
     ]
    }
   ],
   "source": [
    "# Group Anagrams\n",
    "'''\n",
    "from collections import defaultdict\n",
    "\n",
    "def group_anagrams(strs):\n",
    "    anagram_map = defaultdict(list)\n",
    "    for word in strs:\n",
    "        key = ''.join(sorted(word))\n",
    "        anagram_map[key].append(word)\n",
    "    return list(anagram_map.values())\n",
    "\n",
    "print(group_anagrams([\"eat\", \"tea\", \"tan\", \"ate\", \"nat\", \"bat\"]))\n",
    "\n",
    "Example:\n",
    "Input: [\"eat\", \"tea\", \"tan\", \"ate\", \"nat\", \"bat\"]\n",
    "Output: [['eat', 'tea', 'ate'], ['tan', 'nat'], ['bat']]\n",
    "'''\n",
    "\n",
    "from collections import defaultdict   # collection is one of the module, defaultdict is class or functions.\n",
    "\n",
    "def group_anagrams(strs):\n",
    "    anagram_map = defaultdict(list) # it is used to create like this ====> {'':[]}\n",
    "    for word in strs:\n",
    "        key = ''.join(sorted(word)) # eg : convert like this ['eat']----> ['a','e','t']---> aet\n",
    "        anagram_map[key].append(word)\n",
    "    return list(anagram_map.values())\n",
    "\n",
    "print(group_anagrams([\"eat\", \"tea\", \"tan\", \"ate\", \"nat\", \"bat\"]))  \n",
    "\n",
    "# very easy may be it will take some time."
   ]
  },
  {
   "cell_type": "code",
   "execution_count": null,
   "id": "daaa7971-c0ab-482d-a853-0066ecd3180b",
   "metadata": {},
   "outputs": [],
   "source": []
  }
 ],
 "metadata": {
  "kernelspec": {
   "display_name": "Python 3 (ipykernel)",
   "language": "python",
   "name": "python3"
  },
  "language_info": {
   "codemirror_mode": {
    "name": "ipython",
    "version": 3
   },
   "file_extension": ".py",
   "mimetype": "text/x-python",
   "name": "python",
   "nbconvert_exporter": "python",
   "pygments_lexer": "ipython3",
   "version": "3.13.0"
  }
 },
 "nbformat": 4,
 "nbformat_minor": 5
}
