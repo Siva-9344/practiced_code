{
 "cells": [
  {
   "cell_type": "code",
   "execution_count": 2,
   "id": "d2c8c216-07ab-44ec-a3b7-9cd21c996c57",
   "metadata": {},
   "outputs": [
    {
     "name": "stdout",
     "output_type": "stream",
     "text": [
      "     CustomerId        Name  CreditScore  Country  Gender  Age  Tenure  \\\n",
      "0      15634602    Hargrave          619   France  Female   42       2   \n",
      "1      15634602    Hargrave          619   France  Female   42       2   \n",
      "2      15634602        Onio          502   France  Female   42       8   \n",
      "3      15634602        Onio          502   France  Female   42       8   \n",
      "4      15737888    Mitchell          850    Spain  Female   43       2   \n",
      "..          ...         ...          ...      ...     ...  ...     ...   \n",
      "448    15694860    Uspensky          675   France  Female   38       6   \n",
      "449    15658169        Cook          778    Spain  Female   47       6   \n",
      "450    15794396     Newbold          494  Germany  Female   38       7   \n",
      "451    15785798  Uchechukwu          850   France    Male   40       9   \n",
      "452    15710825       Ch'en          592    Spain    Male   31       7   \n",
      "\n",
      "       Balance  NumOfProducts     Salary       Date      Dep  \n",
      "0         0.00              1  101348.88 2023-01-01     Bank  \n",
      "1         0.00              1  101348.88 2023-01-02     Bank  \n",
      "2    159660.80              3  112542.58 2023-01-03     Bank  \n",
      "3    159660.80              3  112542.58 2023-01-04     Bank  \n",
      "4    125510.82              1   79084.10 2023-01-05     Bank  \n",
      "..         ...            ...        ...        ...      ...  \n",
      "448   68065.80              1  138777.00 2025-01-31  Entrepr  \n",
      "449  127299.34              2  124694.99 2025-01-31  Entrepr  \n",
      "450  174937.64              1   40084.32 2025-01-31  Entrepr  \n",
      "451       0.00              2  119232.33 2025-01-31  Entrepr  \n",
      "452  110071.10              1   43921.36 2025-01-31  Entrepr  \n",
      "\n",
      "[453 rows x 12 columns]\n"
     ]
    }
   ],
   "source": [
    "import pandas as pd\n",
    "file_path = r\"C:\\Users\\Sivaraman\\Desktop\\study\\data analytics\\Data (for practice)\\bank_details_withdate.xlsx\"\n",
    "df = pd.read_excel(file_path)\n",
    "print(df)\n"
   ]
  },
  {
   "cell_type": "code",
   "execution_count": 4,
   "id": "c4168c52-e9d3-4372-8335-f77b2a860883",
   "metadata": {},
   "outputs": [
    {
     "name": "stdout",
     "output_type": "stream",
     "text": [
      "Date        2023-01-01  2023-01-02  2023-01-03  2023-01-04  2023-01-05  \\\n",
      "CustomerId                                                               \n",
      "15566111           NaN         NaN         NaN         NaN         NaN   \n",
      "15566594           NaN         NaN         NaN         NaN         NaN   \n",
      "15568240           NaN         NaN         NaN         NaN         NaN   \n",
      "15568748           NaN         NaN         NaN         NaN         NaN   \n",
      "15568982           NaN         NaN         NaN         NaN         NaN   \n",
      "...                ...         ...         ...         ...         ...   \n",
      "15812191           NaN         NaN         NaN         NaN         NaN   \n",
      "15812518           NaN         NaN         NaN         NaN         NaN   \n",
      "15812878           NaN         NaN         NaN         NaN         NaN   \n",
      "15813163           NaN         NaN         NaN         NaN         NaN   \n",
      "15813844           NaN         NaN         NaN         NaN         NaN   \n",
      "\n",
      "Date        2023-01-06  2023-01-07  2023-01-08  2023-01-09  2023-01-10  ...  \\\n",
      "CustomerId                                                              ...   \n",
      "15566111           NaN         NaN         NaN         NaN         NaN  ...   \n",
      "15566594           NaN         NaN         NaN         NaN         NaN  ...   \n",
      "15568240           NaN         NaN         NaN         NaN         NaN  ...   \n",
      "15568748           NaN         NaN         NaN         NaN         NaN  ...   \n",
      "15568982           NaN         NaN         NaN         NaN         NaN  ...   \n",
      "...                ...         ...         ...         ...         ...  ...   \n",
      "15812191           NaN         NaN         NaN         NaN         NaN  ...   \n",
      "15812518           NaN         NaN         NaN         NaN         NaN  ...   \n",
      "15812878           NaN         NaN         NaN         NaN         NaN  ...   \n",
      "15813163           NaN         NaN         NaN         NaN         NaN  ...   \n",
      "15813844           NaN         NaN         NaN         NaN         NaN  ...   \n",
      "\n",
      "Date        2025-01-22  2025-01-23  2025-01-24  2025-01-25  2025-01-26  \\\n",
      "CustomerId                                                               \n",
      "15566111           NaN         NaN         NaN         NaN         NaN   \n",
      "15566594           NaN         NaN         NaN         NaN         NaN   \n",
      "15568240           NaN         NaN         NaN         NaN         NaN   \n",
      "15568748           NaN         NaN         NaN         NaN         NaN   \n",
      "15568982           NaN         NaN         NaN         NaN         NaN   \n",
      "...                ...         ...         ...         ...         ...   \n",
      "15812191           NaN         NaN         NaN         NaN         NaN   \n",
      "15812518           NaN         NaN         NaN         NaN         NaN   \n",
      "15812878           NaN         NaN         NaN         NaN         NaN   \n",
      "15813163           NaN         NaN         NaN         NaN         NaN   \n",
      "15813844           NaN         NaN         NaN         NaN         NaN   \n",
      "\n",
      "Date        2025-01-27  2025-01-28  2025-01-29  2025-01-30  2025-01-31  \n",
      "CustomerId                                                              \n",
      "15566111           NaN         NaN         NaN         NaN         NaN  \n",
      "15566594           NaN         NaN         NaN         NaN         NaN  \n",
      "15568240           NaN         NaN         NaN         NaN         NaN  \n",
      "15568748           NaN         NaN         NaN         NaN         NaN  \n",
      "15568982           NaN         NaN         NaN         NaN         NaN  \n",
      "...                ...         ...         ...         ...         ...  \n",
      "15812191           NaN         NaN         NaN         NaN         NaN  \n",
      "15812518           NaN         NaN         NaN         NaN         NaN  \n",
      "15812878           NaN         NaN         NaN         NaN         NaN  \n",
      "15813163           NaN         NaN         NaN         NaN         NaN  \n",
      "15813844           NaN         NaN         NaN         NaN         NaN  \n",
      "\n",
      "[437 rows x 427 columns]\n"
     ]
    }
   ],
   "source": [
    "'''pivot_df = df.pivot(index='CustomerId', columns='Date', values='Balance')\n",
    "print(pivot_df)'''\n",
    "\n",
    "pivot_df = df.pivot(index = 'CustomerId', columns = 'Date', values = 'Balance')\n",
    "print(pivot_df)"
   ]
  },
  {
   "cell_type": "code",
   "execution_count": 5,
   "id": "462a2284-d6a9-4050-9338-d8c9222acd8e",
   "metadata": {},
   "outputs": [
    {
     "name": "stdout",
     "output_type": "stream",
     "text": [
      "datetime64[ns]\n"
     ]
    }
   ],
   "source": [
    "print(df['Date'].dtypes)"
   ]
  },
  {
   "cell_type": "code",
   "execution_count": 6,
   "id": "74763813-54d6-4053-8bf9-ef8a7dc083aa",
   "metadata": {},
   "outputs": [
    {
     "name": "stdout",
     "output_type": "stream",
     "text": [
      "         CreditScore\n",
      "Country             \n",
      "France    647.673367\n",
      "Germany   648.076336\n",
      "Spain     646.747967\n"
     ]
    }
   ],
   "source": [
    "#1️⃣ Pivot Table on a Single Column\n",
    "#Find the average CreditScore for each Country\n",
    "'''pivot1 = df.pivot_table(values=\"CreditScore\", index=\"Country\", aggfunc=\"mean\")\n",
    "print(pivot1)\n",
    "'''\n",
    "pivot1 = df.pivot_table(values ='CreditScore', index = 'Country', aggfunc = 'mean')\n",
    "print(pivot1)"
   ]
  },
  {
   "cell_type": "code",
   "execution_count": 7,
   "id": "4e19a849-7f26-47c2-9144-a752da55c36f",
   "metadata": {},
   "outputs": [
    {
     "name": "stdout",
     "output_type": "stream",
     "text": [
      "               Balance         Salary\n",
      "Country                              \n",
      "France    56104.252261   99156.221206\n",
      "Germany  117872.832977  109465.909160\n",
      "Spain     61225.397967  104636.270325\n"
     ]
    }
   ],
   "source": [
    "#2️⃣ Multiple Aggregations in Pivot Table\n",
    "#Find the average Salary and Balance per Country\n",
    "'''pivot2 = df.pivot_table(values=[\"Salary\", \"Balance\"], index=\"Country\", aggfunc=\"mean\")\n",
    "print(pivot2)\n",
    "'''\n",
    "pivot2 = df.pivot_table(values = ['Salary', 'Balance'], index = 'Country', aggfunc = 'mean')\n",
    "print(pivot2)"
   ]
  },
  {
   "cell_type": "code",
   "execution_count": 8,
   "id": "be850cbb-a089-4fd5-89e2-914aced24855",
   "metadata": {},
   "outputs": [
    {
     "name": "stdout",
     "output_type": "stream",
     "text": [
      "                   Balance\n",
      "Country Gender            \n",
      "France  Female  5018052.83\n",
      "        Male    6146693.37\n",
      "Germany Female  7131160.01\n",
      "        Male    8310181.11\n",
      "Spain   Female  3895961.88\n",
      "        Male    3634762.07\n"
     ]
    }
   ],
   "source": [
    "#3️⃣ Group by Multiple Columns\n",
    "#Find the total Balance for each Country and Gender\n",
    "\n",
    "pivot3 = df.pivot_table(index = ['Country', 'Gender'], values = 'Balance', aggfunc = 'sum')\n",
    "print(pivot3)"
   ]
  },
  {
   "cell_type": "code",
   "execution_count": 10,
   "id": "9efe0989-80a6-4268-afb9-0ff1d369c9b9",
   "metadata": {},
   "outputs": [
    {
     "name": "stdout",
     "output_type": "stream",
     "text": [
      "Gender          Female           Male\n",
      "Country                              \n",
      "France   106223.828851   93666.204554\n",
      "Germany  114906.375667  104868.331831\n",
      "Spain     98425.288305  110362.019375\n"
     ]
    }
   ],
   "source": [
    "#4️⃣ Using Columns Parameter\n",
    "#Show Salary distribution across Country and Gender\n",
    "'''pivot4 = df.pivot_table(values=\"Salary\", index=\"Country\", columns=\"Gender\", aggfunc=\"mean\")\n",
    "print(pivot4)\n",
    "'''\n",
    "pivot4 = df.pivot_table(values = 'Salary', index = 'Country', columns = 'Gender', aggfunc = 'mean')\n",
    "print(pivot4)"
   ]
  },
  {
   "cell_type": "code",
   "execution_count": 11,
   "id": "3a4413fc-4833-4ec8-b64d-341980c04ba7",
   "metadata": {},
   "outputs": [
    {
     "name": "stdout",
     "output_type": "stream",
     "text": [
      "             min        max           mean\n",
      "          Salary     Salary         Salary\n",
      "Country                                   \n",
      "France    371.05  199638.56   99156.221206\n",
      "Germany  2319.96  199725.39  109465.909160\n",
      "Spain     417.41  199304.74  104636.270325\n"
     ]
    }
   ],
   "source": [
    "#5️⃣ Pivot with Multiple Aggregations\n",
    "#Find the mean and max Salary per Country\n",
    "'''pivot5 = df.pivot_table(values=\"Salary\", index=\"Country\", aggfunc=[\"mean\", \"max\"])\n",
    "print(pivot5)\n",
    "'''\n",
    "pivot5 = df.pivot_table(index = 'Country', values = 'Salary', aggfunc =['min', 'max', 'mean'])\n",
    "print(pivot5)"
   ]
  },
  {
   "cell_type": "code",
   "execution_count": 13,
   "id": "679d4b29-0afa-44ee-b75a-5533888c7b24",
   "metadata": {},
   "outputs": [
    {
     "name": "stdout",
     "output_type": "stream",
     "text": [
      "                     Balance                                        \\\n",
      "NumOfProducts              1              2           3          4   \n",
      "Country                                                              \n",
      "France          81048.214947   31458.441800   79830.400        NaN   \n",
      "Germany        115787.226714  120325.839815  117969.544  124396.09   \n",
      "Spain           97405.355500   28583.095254       0.000        NaN   \n",
      "\n",
      "                     Salary                                       \n",
      "NumOfProducts             1              2           3         4  \n",
      "Country                                                           \n",
      "France         99589.577684   98636.931000  101846.260       NaN  \n",
      "Germany        99077.452143  125119.844259  100084.024  73860.37  \n",
      "Spain          95319.353667  110041.039153  164669.680       NaN  \n"
     ]
    }
   ],
   "source": [
    "#6️⃣ Show Salary and Balance using NumOfProducts as Columns\n",
    "'''pivot6 = df.pivot_table(values=[\"Salary\", \"Balance\"], index=\"Country\", columns=\"NumOfProducts\", aggfunc=\"mean\")\n",
    "print(pivot6)\n",
    "'''\n",
    "pivot6 = df.pivot_table(columns = 'NumOfProducts', index = 'Country',values = ['Salary', 'Balance'])\n",
    "print(pivot6)"
   ]
  },
  {
   "cell_type": "code",
   "execution_count": 17,
   "id": "4e6db956-558a-4142-991a-991b2f120f2d",
   "metadata": {},
   "outputs": [
    {
     "name": "stdout",
     "output_type": "stream",
     "text": [
      "NumOfProducts          1          2   3   4\n",
      "Age Country                                \n",
      "19  Germany     75888.20        NaN NaN NaN\n",
      "20  Germany          NaN  119714.25 NaN NaN\n",
      "21  France      98373.26  340244.15 NaN NaN\n",
      "    Spain      113157.22        NaN NaN NaN\n",
      "22  France           NaN  174185.98 NaN NaN\n",
      "...                  ...        ...  ..  ..\n",
      "73  France      97259.25        NaN NaN NaN\n",
      "75  Germany          NaN  106307.91 NaN NaN\n",
      "    Spain            NaN       0.00 NaN NaN\n",
      "79  France           NaN       0.00 NaN NaN\n",
      "80  France           NaN       0.00 NaN NaN\n",
      "\n",
      "[119 rows x 4 columns]\n"
     ]
    }
   ],
   "source": [
    "# Show Balance per Age and Country with NumOfProducts as Columns\n",
    "'''pivot7 = df.pivot_table(values=\"Balance\", index=[\"Age\", \"Country\"], columns=\"NumOfProducts\", aggfunc=\"sum\")\n",
    "print(pivot7)\n",
    "'''\n",
    "pivot7 = df.pivot_table(values = 'Balance', index = ['Age', 'Country'], columns = 'NumOfProducts', aggfunc = 'sum')\n",
    "print(pivot7)"
   ]
  },
  {
   "cell_type": "code",
   "execution_count": 19,
   "id": "d8597e51-fdb6-40b5-9c5e-0edc2ebb836e",
   "metadata": {},
   "outputs": [
    {
     "name": "stdout",
     "output_type": "stream",
     "text": [
      "               Balance\n",
      "Date                  \n",
      "2023-01-01        0.00\n",
      "2023-01-02        0.00\n",
      "2023-01-03   159660.80\n",
      "2023-01-04   159660.80\n",
      "2023-01-05   125510.82\n",
      "...                ...\n",
      "2025-01-27   137946.39\n",
      "2025-01-28   127892.57\n",
      "2025-01-29   101084.36\n",
      "2025-01-30   114754.08\n",
      "2025-01-31  1581402.46\n",
      "\n",
      "[427 rows x 1 columns]\n"
     ]
    }
   ],
   "source": [
    "#8️⃣ Find the Balance Trend Over Time\n",
    "'''pivot8 = df.pivot_table(values=\"Balance\", index=\"Date\", aggfunc=\"sum\")\n",
    "print(pivot8)\n",
    "'''\n",
    "pivot8 = df.pivot_table(index = 'Date', values = 'Balance', aggfunc = 'sum')\n",
    "print(pivot8)"
   ]
  },
  {
   "cell_type": "code",
   "execution_count": 24,
   "id": "21cbdb3b-9ef6-4ed3-b60d-aaf16b2ada44",
   "metadata": {},
   "outputs": [
    {
     "name": "stdout",
     "output_type": "stream",
     "text": [
      "                Salary\n",
      "Country               \n",
      "France    99156.221206\n",
      "Germany  109465.909160\n",
      "Spain    104636.270325\n",
      "Total    103625.570353\n"
     ]
    }
   ],
   "source": [
    "#9️⃣ Adding Margins for Total\n",
    "#Find the average Salary per Country and add a Total row\n",
    "pivot9 = df.pivot_table(index = 'Country', values = 'Salary', aggfunc = 'mean', margins = True, margins_name = 'Total')\n",
    "print(pivot9)\n"
   ]
  },
  {
   "cell_type": "code",
   "execution_count": 28,
   "id": "ba15266d-d634-4cb2-bb4a-74100227dacd",
   "metadata": {},
   "outputs": [
    {
     "name": "stdout",
     "output_type": "stream",
     "text": [
      "                   Balance                                        Salary  \\\n",
      "NumOfProducts            1           2          3          4           1   \n",
      "Country Gender                                                             \n",
      "France  Female  2927119.55  1771611.68  319321.60        NaN  4507227.36   \n",
      "        Male    4772460.87  1374232.50        NaN        NaN  4953782.52   \n",
      "Germany Female  3782137.85  2861697.29  372278.13  115046.74  3452810.60   \n",
      "        Male    4322968.02  3635898.06  217569.59  133745.44  3482611.05   \n",
      "Spain   Female  3172504.50   723457.38       0.00        NaN  2923069.48   \n",
      "        Male    2671816.83   962945.24        NaN        NaN  2796091.74   \n",
      "\n",
      "                                                  \n",
      "NumOfProducts            2          3          4  \n",
      "Country Gender                                    \n",
      "France  Female  4326860.71  407385.04        NaN  \n",
      "        Male    5536832.39        NaN        NaN  \n",
      "Germany Female  2992745.15  329479.91  119346.88  \n",
      "        Male    3763726.44  170940.21   28373.86  \n",
      "Spain   Female  2225343.81  658678.72        NaN  \n",
      "        Male    4267077.50        NaN        NaN  \n"
     ]
    }
   ],
   "source": [
    "#🔟 Pivot Table with Multiple Indexes and Columns\n",
    "#Find Balance and Salary grouped by Country and Gender, split by NumOfProducts\n",
    "'''pivot10 = df.pivot_table(values=[\"Balance\", \"Salary\"], index=[\"Country\", \"Gender\"], columns=\"NumOfProducts\", aggfunc=\"sum\")\n",
    "print(pivot10)\n",
    "'''\n",
    "pivot10 = df.pivot_table(index = ['Country', 'Gender'], values = ['Salary', 'Balance'], columns = 'NumOfProducts', aggfunc = 'sum')\n",
    "print(pivot10)"
   ]
  },
  {
   "cell_type": "code",
   "execution_count": 29,
   "id": "67fdc844-93ae-4882-bdb1-ab0aa7791286",
   "metadata": {},
   "outputs": [],
   "source": [
    "# pivot_table() is completed then next pivot()"
   ]
  },
  {
   "cell_type": "code",
   "execution_count": 31,
   "id": "28d6c52c-f863-4f2c-9809-2f2fc2343566",
   "metadata": {},
   "outputs": [
    {
     "name": "stdout",
     "output_type": "stream",
     "text": [
      "   CustomerId      Name  CreditScore Country  Gender  Age  Tenure    Balance  \\\n",
      "0    15634602  Hargrave          619  France  Female   42       2       0.00   \n",
      "1    15634602  Hargrave          619  France  Female   42       2       0.00   \n",
      "2    15634602      Onio          502  France  Female   42       8  159660.80   \n",
      "3    15737888  Mitchell          850   Spain  Female   43       2  125510.82   \n",
      "4    15737888  Mitchell          850   Spain  Female   43       2  125510.82   \n",
      "\n",
      "   NumOfProducts     Salary        Date   Dep  \n",
      "0              1  101348.88  01-01-2023  Bank  \n",
      "1              1  101348.88  02-01-2023  Bank  \n",
      "2              3  112542.58  03-01-2023  Bank  \n",
      "3              1   79084.10  04-01-2023  Bank  \n",
      "4              1   79084.10  05-01-2023  Bank  \n"
     ]
    }
   ],
   "source": [
    "# create the new the data for practice pivot() function in data reshaping\n",
    "import pandas as pd\n",
    "Data = {\"CustomerId\": [15634602, 15634602, 15634602, 15737888, 15737888],\n",
    "       \"Name\": [\"Hargrave\", \"Hargrave\", \"Onio\", \"Mitchell\", \"Mitchell\"],\n",
    "       \"CreditScore\": [619, 619, 502, 850, 850],\n",
    "       \"Country\": [\"France\", \"France\", \"France\", \"Spain\", \"Spain\"],\n",
    "       \"Gender\": [\"Female\", \"Female\", \"Female\", \"Female\", \"Female\"],\"Age\": [42, 42, 42, 43, 43],\n",
    "       \"Tenure\": [2, 2, 8, 2, 2],\n",
    "       \"Balance\": [0, 0, 159660.8, 125510.82, 125510.82],\n",
    "       \"NumOfProducts\": [1, 1, 3, 1, 1],\n",
    "       \"Salary\": [101348.88, 101348.88, 112542.58, 79084.1, 79084.1],\n",
    "       \"Date\": [\"01-01-2023\", \"02-01-2023\", \"03-01-2023\", \"04-01-2023\", \"05-01-2023\"],\n",
    "    \"Dep\": [\"Bank\", \"Bank\", \"Bank\", \"Bank\", \"Bank\"]\n",
    "       }\n",
    "dfn = pd.DataFrame(Data)\n",
    "print(dfn)"
   ]
  },
  {
   "cell_type": "code",
   "execution_count": 32,
   "id": "94465050-db4a-4844-9853-fda694fa0d1f",
   "metadata": {},
   "outputs": [],
   "source": [
    "#pivot() characteristics\n",
    "# 1) No Duplicate Index-Column Pairs\n",
    "# 2)Columns Should Be Categorical, Categorcial mean:(could be categories like Red, Blue, Green, etc. These are categories, not numbers or continuous values.)\n",
    "# 3)Values Should Be Meaningful\n",
    "# 4)Missing Data Appears as NaN"
   ]
  },
  {
   "cell_type": "code",
   "execution_count": 36,
   "id": "4a82b821-97f7-4744-be38-11986acce74b",
   "metadata": {},
   "outputs": [
    {
     "name": "stdout",
     "output_type": "stream",
     "text": [
      "CustomerId  15634602   15737888\n",
      "Date                           \n",
      "01-01-2023       0.0        NaN\n",
      "02-01-2023       0.0        NaN\n",
      "03-01-2023  159660.8        NaN\n",
      "04-01-2023       NaN  125510.82\n",
      "05-01-2023       NaN  125510.82\n"
     ]
    }
   ],
   "source": [
    "# 1️⃣ Pivot: Reshape Data to Find Balance by CustomerId and Date\n",
    "'''pivot1 = df.pivot(index=\"Date\", columns=\"CustomerId\", values=\"Balance\")\n",
    "print(pivot1)\n",
    "'''\n",
    "pivot1 = dfn.pivot(columns = ['CustomerId'],index = 'Date', values = 'Balance')\n",
    "print(pivot1)"
   ]
  },
  {
   "cell_type": "code",
   "execution_count": 43,
   "id": "a2c9b32d-54f0-4468-9509-df52d2593d19",
   "metadata": {},
   "outputs": [
    {
     "ename": "ValueError",
     "evalue": "Index contains duplicate entries, cannot reshape",
     "output_type": "error",
     "traceback": [
      "\u001b[1;31m---------------------------------------------------------------------------\u001b[0m",
      "\u001b[1;31mValueError\u001b[0m                                Traceback (most recent call last)",
      "Cell \u001b[1;32mIn[43], line 2\u001b[0m\n\u001b[0;32m      1\u001b[0m \u001b[38;5;66;03m#2️⃣ Pivot: Reshape Data to Find Salary by CustomerId and Gender\u001b[39;00m\n\u001b[1;32m----> 2\u001b[0m pivot2 \u001b[38;5;241m=\u001b[39m \u001b[43mdf\u001b[49m\u001b[38;5;241;43m.\u001b[39;49m\u001b[43mpivot\u001b[49m\u001b[43m(\u001b[49m\u001b[43mindex\u001b[49m\u001b[38;5;241;43m=\u001b[39;49m\u001b[38;5;124;43m\"\u001b[39;49m\u001b[38;5;124;43mGender\u001b[39;49m\u001b[38;5;124;43m\"\u001b[39;49m\u001b[43m,\u001b[49m\u001b[43m \u001b[49m\u001b[43mcolumns\u001b[49m\u001b[38;5;241;43m=\u001b[39;49m\u001b[38;5;124;43m\"\u001b[39;49m\u001b[38;5;124;43mCustomerId\u001b[39;49m\u001b[38;5;124;43m\"\u001b[39;49m\u001b[43m,\u001b[49m\u001b[43m \u001b[49m\u001b[43mvalues\u001b[49m\u001b[38;5;241;43m=\u001b[39;49m\u001b[38;5;124;43m\"\u001b[39;49m\u001b[38;5;124;43mSalary\u001b[39;49m\u001b[38;5;124;43m\"\u001b[39;49m\u001b[43m)\u001b[49m\n\u001b[0;32m      3\u001b[0m \u001b[38;5;28mprint\u001b[39m(pivot2)\n\u001b[0;32m      5\u001b[0m \u001b[38;5;124;03m'''pivot2 = dfn.pivot(columns = 'Gender', index = 'CustomerId', values = 'Salary')\u001b[39;00m\n\u001b[0;32m      6\u001b[0m \u001b[38;5;124;03mprint(pivot2)'''\u001b[39;00m\n",
      "File \u001b[1;32m~\\AppData\\Local\\Programs\\Python\\Python313\\Lib\\site-packages\\pandas\\core\\frame.py:9339\u001b[0m, in \u001b[0;36mDataFrame.pivot\u001b[1;34m(self, columns, index, values)\u001b[0m\n\u001b[0;32m   9332\u001b[0m \u001b[38;5;129m@Substitution\u001b[39m(\u001b[38;5;124m\"\u001b[39m\u001b[38;5;124m\"\u001b[39m)\n\u001b[0;32m   9333\u001b[0m \u001b[38;5;129m@Appender\u001b[39m(_shared_docs[\u001b[38;5;124m\"\u001b[39m\u001b[38;5;124mpivot\u001b[39m\u001b[38;5;124m\"\u001b[39m])\n\u001b[0;32m   9334\u001b[0m \u001b[38;5;28;01mdef\u001b[39;00m \u001b[38;5;21mpivot\u001b[39m(\n\u001b[0;32m   9335\u001b[0m     \u001b[38;5;28mself\u001b[39m, \u001b[38;5;241m*\u001b[39m, columns, index\u001b[38;5;241m=\u001b[39mlib\u001b[38;5;241m.\u001b[39mno_default, values\u001b[38;5;241m=\u001b[39mlib\u001b[38;5;241m.\u001b[39mno_default\n\u001b[0;32m   9336\u001b[0m ) \u001b[38;5;241m-\u001b[39m\u001b[38;5;241m>\u001b[39m DataFrame:\n\u001b[0;32m   9337\u001b[0m     \u001b[38;5;28;01mfrom\u001b[39;00m \u001b[38;5;21;01mpandas\u001b[39;00m\u001b[38;5;21;01m.\u001b[39;00m\u001b[38;5;21;01mcore\u001b[39;00m\u001b[38;5;21;01m.\u001b[39;00m\u001b[38;5;21;01mreshape\u001b[39;00m\u001b[38;5;21;01m.\u001b[39;00m\u001b[38;5;21;01mpivot\u001b[39;00m \u001b[38;5;28;01mimport\u001b[39;00m pivot\n\u001b[1;32m-> 9339\u001b[0m     \u001b[38;5;28;01mreturn\u001b[39;00m \u001b[43mpivot\u001b[49m\u001b[43m(\u001b[49m\u001b[38;5;28;43mself\u001b[39;49m\u001b[43m,\u001b[49m\u001b[43m \u001b[49m\u001b[43mindex\u001b[49m\u001b[38;5;241;43m=\u001b[39;49m\u001b[43mindex\u001b[49m\u001b[43m,\u001b[49m\u001b[43m \u001b[49m\u001b[43mcolumns\u001b[49m\u001b[38;5;241;43m=\u001b[39;49m\u001b[43mcolumns\u001b[49m\u001b[43m,\u001b[49m\u001b[43m \u001b[49m\u001b[43mvalues\u001b[49m\u001b[38;5;241;43m=\u001b[39;49m\u001b[43mvalues\u001b[49m\u001b[43m)\u001b[49m\n",
      "File \u001b[1;32m~\\AppData\\Local\\Programs\\Python\\Python313\\Lib\\site-packages\\pandas\\core\\reshape\\pivot.py:570\u001b[0m, in \u001b[0;36mpivot\u001b[1;34m(data, columns, index, values)\u001b[0m\n\u001b[0;32m    566\u001b[0m         indexed \u001b[38;5;241m=\u001b[39m data\u001b[38;5;241m.\u001b[39m_constructor_sliced(data[values]\u001b[38;5;241m.\u001b[39m_values, index\u001b[38;5;241m=\u001b[39mmultiindex)\n\u001b[0;32m    567\u001b[0m \u001b[38;5;66;03m# error: Argument 1 to \"unstack\" of \"DataFrame\" has incompatible type \"Union\u001b[39;00m\n\u001b[0;32m    568\u001b[0m \u001b[38;5;66;03m# [List[Any], ExtensionArray, ndarray[Any, Any], Index, Series]\"; expected\u001b[39;00m\n\u001b[0;32m    569\u001b[0m \u001b[38;5;66;03m# \"Hashable\"\u001b[39;00m\n\u001b[1;32m--> 570\u001b[0m result \u001b[38;5;241m=\u001b[39m \u001b[43mindexed\u001b[49m\u001b[38;5;241;43m.\u001b[39;49m\u001b[43munstack\u001b[49m\u001b[43m(\u001b[49m\u001b[43mcolumns_listlike\u001b[49m\u001b[43m)\u001b[49m  \u001b[38;5;66;03m# type: ignore[arg-type]\u001b[39;00m\n\u001b[0;32m    571\u001b[0m result\u001b[38;5;241m.\u001b[39mindex\u001b[38;5;241m.\u001b[39mnames \u001b[38;5;241m=\u001b[39m [\n\u001b[0;32m    572\u001b[0m     name \u001b[38;5;28;01mif\u001b[39;00m name \u001b[38;5;129;01mis\u001b[39;00m \u001b[38;5;129;01mnot\u001b[39;00m lib\u001b[38;5;241m.\u001b[39mno_default \u001b[38;5;28;01melse\u001b[39;00m \u001b[38;5;28;01mNone\u001b[39;00m \u001b[38;5;28;01mfor\u001b[39;00m name \u001b[38;5;129;01min\u001b[39;00m result\u001b[38;5;241m.\u001b[39mindex\u001b[38;5;241m.\u001b[39mnames\n\u001b[0;32m    573\u001b[0m ]\n\u001b[0;32m    575\u001b[0m \u001b[38;5;28;01mreturn\u001b[39;00m result\n",
      "File \u001b[1;32m~\\AppData\\Local\\Programs\\Python\\Python313\\Lib\\site-packages\\pandas\\core\\series.py:4615\u001b[0m, in \u001b[0;36mSeries.unstack\u001b[1;34m(self, level, fill_value, sort)\u001b[0m\n\u001b[0;32m   4570\u001b[0m \u001b[38;5;250m\u001b[39m\u001b[38;5;124;03m\"\"\"\u001b[39;00m\n\u001b[0;32m   4571\u001b[0m \u001b[38;5;124;03mUnstack, also known as pivot, Series with MultiIndex to produce DataFrame.\u001b[39;00m\n\u001b[0;32m   4572\u001b[0m \n\u001b[1;32m   (...)\u001b[0m\n\u001b[0;32m   4611\u001b[0m \u001b[38;5;124;03mb    2    4\u001b[39;00m\n\u001b[0;32m   4612\u001b[0m \u001b[38;5;124;03m\"\"\"\u001b[39;00m\n\u001b[0;32m   4613\u001b[0m \u001b[38;5;28;01mfrom\u001b[39;00m \u001b[38;5;21;01mpandas\u001b[39;00m\u001b[38;5;21;01m.\u001b[39;00m\u001b[38;5;21;01mcore\u001b[39;00m\u001b[38;5;21;01m.\u001b[39;00m\u001b[38;5;21;01mreshape\u001b[39;00m\u001b[38;5;21;01m.\u001b[39;00m\u001b[38;5;21;01mreshape\u001b[39;00m \u001b[38;5;28;01mimport\u001b[39;00m unstack\n\u001b[1;32m-> 4615\u001b[0m \u001b[38;5;28;01mreturn\u001b[39;00m \u001b[43munstack\u001b[49m\u001b[43m(\u001b[49m\u001b[38;5;28;43mself\u001b[39;49m\u001b[43m,\u001b[49m\u001b[43m \u001b[49m\u001b[43mlevel\u001b[49m\u001b[43m,\u001b[49m\u001b[43m \u001b[49m\u001b[43mfill_value\u001b[49m\u001b[43m,\u001b[49m\u001b[43m \u001b[49m\u001b[43msort\u001b[49m\u001b[43m)\u001b[49m\n",
      "File \u001b[1;32m~\\AppData\\Local\\Programs\\Python\\Python313\\Lib\\site-packages\\pandas\\core\\reshape\\reshape.py:517\u001b[0m, in \u001b[0;36munstack\u001b[1;34m(obj, level, fill_value, sort)\u001b[0m\n\u001b[0;32m    515\u001b[0m \u001b[38;5;28;01mif\u001b[39;00m is_1d_only_ea_dtype(obj\u001b[38;5;241m.\u001b[39mdtype):\n\u001b[0;32m    516\u001b[0m     \u001b[38;5;28;01mreturn\u001b[39;00m _unstack_extension_series(obj, level, fill_value, sort\u001b[38;5;241m=\u001b[39msort)\n\u001b[1;32m--> 517\u001b[0m unstacker \u001b[38;5;241m=\u001b[39m \u001b[43m_Unstacker\u001b[49m\u001b[43m(\u001b[49m\n\u001b[0;32m    518\u001b[0m \u001b[43m    \u001b[49m\u001b[43mobj\u001b[49m\u001b[38;5;241;43m.\u001b[39;49m\u001b[43mindex\u001b[49m\u001b[43m,\u001b[49m\u001b[43m \u001b[49m\u001b[43mlevel\u001b[49m\u001b[38;5;241;43m=\u001b[39;49m\u001b[43mlevel\u001b[49m\u001b[43m,\u001b[49m\u001b[43m \u001b[49m\u001b[43mconstructor\u001b[49m\u001b[38;5;241;43m=\u001b[39;49m\u001b[43mobj\u001b[49m\u001b[38;5;241;43m.\u001b[39;49m\u001b[43m_constructor_expanddim\u001b[49m\u001b[43m,\u001b[49m\u001b[43m \u001b[49m\u001b[43msort\u001b[49m\u001b[38;5;241;43m=\u001b[39;49m\u001b[43msort\u001b[49m\n\u001b[0;32m    519\u001b[0m \u001b[43m\u001b[49m\u001b[43m)\u001b[49m\n\u001b[0;32m    520\u001b[0m \u001b[38;5;28;01mreturn\u001b[39;00m unstacker\u001b[38;5;241m.\u001b[39mget_result(\n\u001b[0;32m    521\u001b[0m     obj\u001b[38;5;241m.\u001b[39m_values, value_columns\u001b[38;5;241m=\u001b[39m\u001b[38;5;28;01mNone\u001b[39;00m, fill_value\u001b[38;5;241m=\u001b[39mfill_value\n\u001b[0;32m    522\u001b[0m )\n",
      "File \u001b[1;32m~\\AppData\\Local\\Programs\\Python\\Python313\\Lib\\site-packages\\pandas\\core\\reshape\\reshape.py:154\u001b[0m, in \u001b[0;36m_Unstacker.__init__\u001b[1;34m(self, index, level, constructor, sort)\u001b[0m\n\u001b[0;32m    146\u001b[0m \u001b[38;5;28;01mif\u001b[39;00m num_cells \u001b[38;5;241m>\u001b[39m np\u001b[38;5;241m.\u001b[39miinfo(np\u001b[38;5;241m.\u001b[39mint32)\u001b[38;5;241m.\u001b[39mmax:\n\u001b[0;32m    147\u001b[0m     warnings\u001b[38;5;241m.\u001b[39mwarn(\n\u001b[0;32m    148\u001b[0m         \u001b[38;5;124mf\u001b[39m\u001b[38;5;124m\"\u001b[39m\u001b[38;5;124mThe following operation may generate \u001b[39m\u001b[38;5;132;01m{\u001b[39;00mnum_cells\u001b[38;5;132;01m}\u001b[39;00m\u001b[38;5;124m cells \u001b[39m\u001b[38;5;124m\"\u001b[39m\n\u001b[0;32m    149\u001b[0m         \u001b[38;5;124mf\u001b[39m\u001b[38;5;124m\"\u001b[39m\u001b[38;5;124min the resulting pandas object.\u001b[39m\u001b[38;5;124m\"\u001b[39m,\n\u001b[0;32m    150\u001b[0m         PerformanceWarning,\n\u001b[0;32m    151\u001b[0m         stacklevel\u001b[38;5;241m=\u001b[39mfind_stack_level(),\n\u001b[0;32m    152\u001b[0m     )\n\u001b[1;32m--> 154\u001b[0m \u001b[38;5;28;43mself\u001b[39;49m\u001b[38;5;241;43m.\u001b[39;49m\u001b[43m_make_selectors\u001b[49m\u001b[43m(\u001b[49m\u001b[43m)\u001b[49m\n",
      "File \u001b[1;32m~\\AppData\\Local\\Programs\\Python\\Python313\\Lib\\site-packages\\pandas\\core\\reshape\\reshape.py:210\u001b[0m, in \u001b[0;36m_Unstacker._make_selectors\u001b[1;34m(self)\u001b[0m\n\u001b[0;32m    207\u001b[0m mask\u001b[38;5;241m.\u001b[39mput(selector, \u001b[38;5;28;01mTrue\u001b[39;00m)\n\u001b[0;32m    209\u001b[0m \u001b[38;5;28;01mif\u001b[39;00m mask\u001b[38;5;241m.\u001b[39msum() \u001b[38;5;241m<\u001b[39m \u001b[38;5;28mlen\u001b[39m(\u001b[38;5;28mself\u001b[39m\u001b[38;5;241m.\u001b[39mindex):\n\u001b[1;32m--> 210\u001b[0m     \u001b[38;5;28;01mraise\u001b[39;00m \u001b[38;5;167;01mValueError\u001b[39;00m(\u001b[38;5;124m\"\u001b[39m\u001b[38;5;124mIndex contains duplicate entries, cannot reshape\u001b[39m\u001b[38;5;124m\"\u001b[39m)\n\u001b[0;32m    212\u001b[0m \u001b[38;5;28mself\u001b[39m\u001b[38;5;241m.\u001b[39mgroup_index \u001b[38;5;241m=\u001b[39m comp_index\n\u001b[0;32m    213\u001b[0m \u001b[38;5;28mself\u001b[39m\u001b[38;5;241m.\u001b[39mmask \u001b[38;5;241m=\u001b[39m mask\n",
      "\u001b[1;31mValueError\u001b[0m: Index contains duplicate entries, cannot reshape"
     ]
    }
   ],
   "source": [
    "#2️⃣ Pivot: Reshape Data to Find Salary by CustomerId and Gender\n",
    "pivot2 = df.pivot(index=\"Gender\", columns=\"CustomerId\", values=\"Salary\")\n",
    "print(pivot2)\n",
    "\n",
    "'''pivot2 = dfn.pivot(columns = 'Gender', index = 'CustomerId', values = 'Salary')\n",
    "print(pivot2)'''\n",
    "dfn = dfn.drop_duplicates()"
   ]
  },
  {
   "cell_type": "code",
   "execution_count": 42,
   "id": "f292a4a1-b209-41ac-ac9b-75e7b9797c64",
   "metadata": {},
   "outputs": [
    {
     "name": "stdout",
     "output_type": "stream",
     "text": [
      "   CustomerId      Name  CreditScore Country  Gender  Age  Tenure    Balance  \\\n",
      "0    15634602  Hargrave          619  France  Female   42       2       0.00   \n",
      "1    15634602  Hargrave          619  France  Female   42       2       0.00   \n",
      "2    15634602      Onio          502  France  Female   42       8  159660.80   \n",
      "3    15737888  Mitchell          850   Spain  Female   43       2  125510.82   \n",
      "4    15737888  Mitchell          850   Spain  Female   43       2  125510.82   \n",
      "\n",
      "   NumOfProducts     Salary        Date   Dep  \n",
      "0              1  101348.88  01-01-2023  Bank  \n",
      "1              1  101348.88  02-01-2023  Bank  \n",
      "2              3  112542.58  03-01-2023  Bank  \n",
      "3              1   79084.10  04-01-2023  Bank  \n",
      "4              1   79084.10  05-01-2023  Bank  \n"
     ]
    }
   ],
   "source": [
    "print(dfn)"
   ]
  },
  {
   "cell_type": "code",
   "execution_count": 44,
   "id": "dfb3c8b6-6591-417f-b1e4-a326ee2f84e5",
   "metadata": {},
   "outputs": [
    {
     "name": "stdout",
     "output_type": "stream",
     "text": [
      "  Country  Gender  NumOfProducts  Balance  Salary\n",
      "0   India    Male              1     5000   30000\n",
      "1     USA  Female              2     6000   35000\n",
      "2   India  Female              1     7000   32000\n",
      "3     USA    Male              2     8000   37000\n",
      "4  Canada  Female              3     9000   38000\n"
     ]
    }
   ],
   "source": [
    "import pandas as pd\n",
    "\n",
    "# Create a DataFrame with unique data (no duplicates)\n",
    "data = {\n",
    "    'Country': ['India', 'USA', 'India', 'USA', 'Canada'],\n",
    "    'Gender': ['Male', 'Female', 'Female', 'Male', 'Female'],\n",
    "    'NumOfProducts': [1, 2, 1, 2, 3],\n",
    "    'Balance': [5000, 6000, 7000, 8000, 9000],\n",
    "    'Salary': [30000, 35000, 32000, 37000, 38000]\n",
    "}\n",
    "\n",
    "dfn = pd.DataFrame(data)\n",
    "\n",
    "print(dfn)\n"
   ]
  },
  {
   "cell_type": "code",
   "execution_count": 47,
   "id": "43703d15-5649-49de-9913-704d0e09c3dd",
   "metadata": {},
   "outputs": [
    {
     "ename": "TypeError",
     "evalue": "DataFrame.pivot() missing 1 required keyword-only argument: 'columns'",
     "output_type": "error",
     "traceback": [
      "\u001b[1;31m---------------------------------------------------------------------------\u001b[0m",
      "\u001b[1;31mTypeError\u001b[0m                                 Traceback (most recent call last)",
      "Cell \u001b[1;32mIn[47], line 2\u001b[0m\n\u001b[0;32m      1\u001b[0m \u001b[38;5;66;03m# 2️⃣ Pivot: Reshape Data to Find Salary by CustomerId and Gender\u001b[39;00m\n\u001b[1;32m----> 2\u001b[0m pivot1 \u001b[38;5;241m=\u001b[39m \u001b[43mdf\u001b[49m\u001b[38;5;241;43m.\u001b[39;49m\u001b[43mpivot\u001b[49m\u001b[43m(\u001b[49m\u001b[43mindex\u001b[49m\u001b[43m \u001b[49m\u001b[38;5;241;43m=\u001b[39;49m\u001b[43m \u001b[49m\u001b[38;5;124;43m'\u001b[39;49m\u001b[38;5;124;43mGender\u001b[39;49m\u001b[38;5;124;43m'\u001b[39;49m\u001b[43m,\u001b[49m\u001b[43m \u001b[49m\u001b[43mvalues\u001b[49m\u001b[43m \u001b[49m\u001b[38;5;241;43m=\u001b[39;49m\u001b[43m \u001b[49m\u001b[38;5;124;43m\"\u001b[39;49m\u001b[38;5;124;43mSalary\u001b[39;49m\u001b[38;5;124;43m\"\u001b[39;49m\u001b[43m)\u001b[49m\n\u001b[0;32m      3\u001b[0m \u001b[38;5;28mprint\u001b[39m(pivot1)\n",
      "\u001b[1;31mTypeError\u001b[0m: DataFrame.pivot() missing 1 required keyword-only argument: 'columns'"
     ]
    }
   ],
   "source": [
    "# 2️⃣ Pivot: Reshape Data to Find Salary by CustomerId and Gender\n",
    "pivot1 = df.pivot(index = 'Gender', values = \"Salary\")\n",
    "print(pivot1)"
   ]
  },
  {
   "cell_type": "code",
   "execution_count": 49,
   "id": "ea6e5787-7ff2-4538-b531-e843c12095ea",
   "metadata": {},
   "outputs": [
    {
     "name": "stdout",
     "output_type": "stream",
     "text": [
      "     CustomerId        Name  CreditScore  Country  Gender  Age  Tenure  \\\n",
      "0      15634602    Hargrave          619   France  Female   42       2   \n",
      "1      15634602    Hargrave          619   France  Female   42       2   \n",
      "2      15634602        Onio          502   France  Female   42       8   \n",
      "3      15634602        Onio          502   France  Female   42       8   \n",
      "4      15737888    Mitchell          850    Spain  Female   43       2   \n",
      "..          ...         ...          ...      ...     ...  ...     ...   \n",
      "448    15694860    Uspensky          675   France  Female   38       6   \n",
      "449    15658169        Cook          778    Spain  Female   47       6   \n",
      "450    15794396     Newbold          494  Germany  Female   38       7   \n",
      "451    15785798  Uchechukwu          850   France    Male   40       9   \n",
      "452    15710825       Ch'en          592    Spain    Male   31       7   \n",
      "\n",
      "       Balance  NumOfProducts     Salary       Date      Dep  \n",
      "0         0.00              1  101348.88 2023-01-01     Bank  \n",
      "1         0.00              1  101348.88 2023-01-02     Bank  \n",
      "2    159660.80              3  112542.58 2023-01-03     Bank  \n",
      "3    159660.80              3  112542.58 2023-01-04     Bank  \n",
      "4    125510.82              1   79084.10 2023-01-05     Bank  \n",
      "..         ...            ...        ...        ...      ...  \n",
      "448   68065.80              1  138777.00 2025-01-31  Entrepr  \n",
      "449  127299.34              2  124694.99 2025-01-31  Entrepr  \n",
      "450  174937.64              1   40084.32 2025-01-31  Entrepr  \n",
      "451       0.00              2  119232.33 2025-01-31  Entrepr  \n",
      "452  110071.10              1   43921.36 2025-01-31  Entrepr  \n",
      "\n",
      "[453 rows x 12 columns]\n",
      "0        Hargrave\n",
      "2            Onio\n",
      "4        Mitchell\n",
      "5             Chu\n",
      "6        Bartlett\n",
      "          ...    \n",
      "448      Uspensky\n",
      "449          Cook\n",
      "450       Newbold\n",
      "451    Uchechukwu\n",
      "452         Ch'en\n",
      "Name: Name, Length: 375, dtype: object\n"
     ]
    }
   ],
   "source": [
    "dfn = df.copy()\n",
    "print(dfn)\n",
    "dfn = dfn['Name'].drop_duplicates()\n",
    "print(dfn)"
   ]
  },
  {
   "cell_type": "code",
   "execution_count": 53,
   "id": "bc8f65de-78ee-4555-9f48-2ca5603ffa7e",
   "metadata": {},
   "outputs": [
    {
     "name": "stdout",
     "output_type": "stream",
     "text": [
      "object\n",
      "0        Hargrave\n",
      "2            Onio\n",
      "4        Mitchell\n",
      "5             Chu\n",
      "6        Bartlett\n",
      "          ...    \n",
      "448      Uspensky\n",
      "449          Cook\n",
      "450       Newbold\n",
      "451    Uchechukwu\n",
      "452         Ch'en\n",
      "Name: Name, Length: 375, dtype: object\n"
     ]
    }
   ],
   "source": [
    "print(dfn.dtypes)\n",
    "print(dfn)"
   ]
  },
  {
   "cell_type": "code",
   "execution_count": 54,
   "id": "86107b30-7376-4677-a84e-fc4b32054cf2",
   "metadata": {},
   "outputs": [
    {
     "ename": "ValueError",
     "evalue": "Index contains duplicate entries, cannot reshape",
     "output_type": "error",
     "traceback": [
      "\u001b[1;31m---------------------------------------------------------------------------\u001b[0m",
      "\u001b[1;31mValueError\u001b[0m                                Traceback (most recent call last)",
      "Cell \u001b[1;32mIn[54], line 1\u001b[0m\n\u001b[1;32m----> 1\u001b[0m pivot3 \u001b[38;5;241m=\u001b[39m \u001b[43mdf\u001b[49m\u001b[38;5;241;43m.\u001b[39;49m\u001b[43mpivot\u001b[49m\u001b[43m(\u001b[49m\u001b[43mindex\u001b[49m\u001b[38;5;241;43m=\u001b[39;49m\u001b[38;5;124;43m\"\u001b[39;49m\u001b[38;5;124;43mCountry\u001b[39;49m\u001b[38;5;124;43m\"\u001b[39;49m\u001b[43m,\u001b[49m\u001b[43m \u001b[49m\u001b[43mcolumns\u001b[49m\u001b[38;5;241;43m=\u001b[39;49m\u001b[38;5;124;43m\"\u001b[39;49m\u001b[38;5;124;43mName\u001b[39;49m\u001b[38;5;124;43m\"\u001b[39;49m\u001b[43m,\u001b[49m\u001b[43m \u001b[49m\u001b[43mvalues\u001b[49m\u001b[38;5;241;43m=\u001b[39;49m\u001b[38;5;124;43m\"\u001b[39;49m\u001b[38;5;124;43mCreditScore\u001b[39;49m\u001b[38;5;124;43m\"\u001b[39;49m\u001b[43m)\u001b[49m\n\u001b[0;32m      2\u001b[0m \u001b[38;5;28mprint\u001b[39m(pivot3)\n",
      "File \u001b[1;32m~\\AppData\\Local\\Programs\\Python\\Python313\\Lib\\site-packages\\pandas\\core\\frame.py:9339\u001b[0m, in \u001b[0;36mDataFrame.pivot\u001b[1;34m(self, columns, index, values)\u001b[0m\n\u001b[0;32m   9332\u001b[0m \u001b[38;5;129m@Substitution\u001b[39m(\u001b[38;5;124m\"\u001b[39m\u001b[38;5;124m\"\u001b[39m)\n\u001b[0;32m   9333\u001b[0m \u001b[38;5;129m@Appender\u001b[39m(_shared_docs[\u001b[38;5;124m\"\u001b[39m\u001b[38;5;124mpivot\u001b[39m\u001b[38;5;124m\"\u001b[39m])\n\u001b[0;32m   9334\u001b[0m \u001b[38;5;28;01mdef\u001b[39;00m \u001b[38;5;21mpivot\u001b[39m(\n\u001b[0;32m   9335\u001b[0m     \u001b[38;5;28mself\u001b[39m, \u001b[38;5;241m*\u001b[39m, columns, index\u001b[38;5;241m=\u001b[39mlib\u001b[38;5;241m.\u001b[39mno_default, values\u001b[38;5;241m=\u001b[39mlib\u001b[38;5;241m.\u001b[39mno_default\n\u001b[0;32m   9336\u001b[0m ) \u001b[38;5;241m-\u001b[39m\u001b[38;5;241m>\u001b[39m DataFrame:\n\u001b[0;32m   9337\u001b[0m     \u001b[38;5;28;01mfrom\u001b[39;00m \u001b[38;5;21;01mpandas\u001b[39;00m\u001b[38;5;21;01m.\u001b[39;00m\u001b[38;5;21;01mcore\u001b[39;00m\u001b[38;5;21;01m.\u001b[39;00m\u001b[38;5;21;01mreshape\u001b[39;00m\u001b[38;5;21;01m.\u001b[39;00m\u001b[38;5;21;01mpivot\u001b[39;00m \u001b[38;5;28;01mimport\u001b[39;00m pivot\n\u001b[1;32m-> 9339\u001b[0m     \u001b[38;5;28;01mreturn\u001b[39;00m \u001b[43mpivot\u001b[49m\u001b[43m(\u001b[49m\u001b[38;5;28;43mself\u001b[39;49m\u001b[43m,\u001b[49m\u001b[43m \u001b[49m\u001b[43mindex\u001b[49m\u001b[38;5;241;43m=\u001b[39;49m\u001b[43mindex\u001b[49m\u001b[43m,\u001b[49m\u001b[43m \u001b[49m\u001b[43mcolumns\u001b[49m\u001b[38;5;241;43m=\u001b[39;49m\u001b[43mcolumns\u001b[49m\u001b[43m,\u001b[49m\u001b[43m \u001b[49m\u001b[43mvalues\u001b[49m\u001b[38;5;241;43m=\u001b[39;49m\u001b[43mvalues\u001b[49m\u001b[43m)\u001b[49m\n",
      "File \u001b[1;32m~\\AppData\\Local\\Programs\\Python\\Python313\\Lib\\site-packages\\pandas\\core\\reshape\\pivot.py:570\u001b[0m, in \u001b[0;36mpivot\u001b[1;34m(data, columns, index, values)\u001b[0m\n\u001b[0;32m    566\u001b[0m         indexed \u001b[38;5;241m=\u001b[39m data\u001b[38;5;241m.\u001b[39m_constructor_sliced(data[values]\u001b[38;5;241m.\u001b[39m_values, index\u001b[38;5;241m=\u001b[39mmultiindex)\n\u001b[0;32m    567\u001b[0m \u001b[38;5;66;03m# error: Argument 1 to \"unstack\" of \"DataFrame\" has incompatible type \"Union\u001b[39;00m\n\u001b[0;32m    568\u001b[0m \u001b[38;5;66;03m# [List[Any], ExtensionArray, ndarray[Any, Any], Index, Series]\"; expected\u001b[39;00m\n\u001b[0;32m    569\u001b[0m \u001b[38;5;66;03m# \"Hashable\"\u001b[39;00m\n\u001b[1;32m--> 570\u001b[0m result \u001b[38;5;241m=\u001b[39m \u001b[43mindexed\u001b[49m\u001b[38;5;241;43m.\u001b[39;49m\u001b[43munstack\u001b[49m\u001b[43m(\u001b[49m\u001b[43mcolumns_listlike\u001b[49m\u001b[43m)\u001b[49m  \u001b[38;5;66;03m# type: ignore[arg-type]\u001b[39;00m\n\u001b[0;32m    571\u001b[0m result\u001b[38;5;241m.\u001b[39mindex\u001b[38;5;241m.\u001b[39mnames \u001b[38;5;241m=\u001b[39m [\n\u001b[0;32m    572\u001b[0m     name \u001b[38;5;28;01mif\u001b[39;00m name \u001b[38;5;129;01mis\u001b[39;00m \u001b[38;5;129;01mnot\u001b[39;00m lib\u001b[38;5;241m.\u001b[39mno_default \u001b[38;5;28;01melse\u001b[39;00m \u001b[38;5;28;01mNone\u001b[39;00m \u001b[38;5;28;01mfor\u001b[39;00m name \u001b[38;5;129;01min\u001b[39;00m result\u001b[38;5;241m.\u001b[39mindex\u001b[38;5;241m.\u001b[39mnames\n\u001b[0;32m    573\u001b[0m ]\n\u001b[0;32m    575\u001b[0m \u001b[38;5;28;01mreturn\u001b[39;00m result\n",
      "File \u001b[1;32m~\\AppData\\Local\\Programs\\Python\\Python313\\Lib\\site-packages\\pandas\\core\\series.py:4615\u001b[0m, in \u001b[0;36mSeries.unstack\u001b[1;34m(self, level, fill_value, sort)\u001b[0m\n\u001b[0;32m   4570\u001b[0m \u001b[38;5;250m\u001b[39m\u001b[38;5;124;03m\"\"\"\u001b[39;00m\n\u001b[0;32m   4571\u001b[0m \u001b[38;5;124;03mUnstack, also known as pivot, Series with MultiIndex to produce DataFrame.\u001b[39;00m\n\u001b[0;32m   4572\u001b[0m \n\u001b[1;32m   (...)\u001b[0m\n\u001b[0;32m   4611\u001b[0m \u001b[38;5;124;03mb    2    4\u001b[39;00m\n\u001b[0;32m   4612\u001b[0m \u001b[38;5;124;03m\"\"\"\u001b[39;00m\n\u001b[0;32m   4613\u001b[0m \u001b[38;5;28;01mfrom\u001b[39;00m \u001b[38;5;21;01mpandas\u001b[39;00m\u001b[38;5;21;01m.\u001b[39;00m\u001b[38;5;21;01mcore\u001b[39;00m\u001b[38;5;21;01m.\u001b[39;00m\u001b[38;5;21;01mreshape\u001b[39;00m\u001b[38;5;21;01m.\u001b[39;00m\u001b[38;5;21;01mreshape\u001b[39;00m \u001b[38;5;28;01mimport\u001b[39;00m unstack\n\u001b[1;32m-> 4615\u001b[0m \u001b[38;5;28;01mreturn\u001b[39;00m \u001b[43munstack\u001b[49m\u001b[43m(\u001b[49m\u001b[38;5;28;43mself\u001b[39;49m\u001b[43m,\u001b[49m\u001b[43m \u001b[49m\u001b[43mlevel\u001b[49m\u001b[43m,\u001b[49m\u001b[43m \u001b[49m\u001b[43mfill_value\u001b[49m\u001b[43m,\u001b[49m\u001b[43m \u001b[49m\u001b[43msort\u001b[49m\u001b[43m)\u001b[49m\n",
      "File \u001b[1;32m~\\AppData\\Local\\Programs\\Python\\Python313\\Lib\\site-packages\\pandas\\core\\reshape\\reshape.py:517\u001b[0m, in \u001b[0;36munstack\u001b[1;34m(obj, level, fill_value, sort)\u001b[0m\n\u001b[0;32m    515\u001b[0m \u001b[38;5;28;01mif\u001b[39;00m is_1d_only_ea_dtype(obj\u001b[38;5;241m.\u001b[39mdtype):\n\u001b[0;32m    516\u001b[0m     \u001b[38;5;28;01mreturn\u001b[39;00m _unstack_extension_series(obj, level, fill_value, sort\u001b[38;5;241m=\u001b[39msort)\n\u001b[1;32m--> 517\u001b[0m unstacker \u001b[38;5;241m=\u001b[39m \u001b[43m_Unstacker\u001b[49m\u001b[43m(\u001b[49m\n\u001b[0;32m    518\u001b[0m \u001b[43m    \u001b[49m\u001b[43mobj\u001b[49m\u001b[38;5;241;43m.\u001b[39;49m\u001b[43mindex\u001b[49m\u001b[43m,\u001b[49m\u001b[43m \u001b[49m\u001b[43mlevel\u001b[49m\u001b[38;5;241;43m=\u001b[39;49m\u001b[43mlevel\u001b[49m\u001b[43m,\u001b[49m\u001b[43m \u001b[49m\u001b[43mconstructor\u001b[49m\u001b[38;5;241;43m=\u001b[39;49m\u001b[43mobj\u001b[49m\u001b[38;5;241;43m.\u001b[39;49m\u001b[43m_constructor_expanddim\u001b[49m\u001b[43m,\u001b[49m\u001b[43m \u001b[49m\u001b[43msort\u001b[49m\u001b[38;5;241;43m=\u001b[39;49m\u001b[43msort\u001b[49m\n\u001b[0;32m    519\u001b[0m \u001b[43m\u001b[49m\u001b[43m)\u001b[49m\n\u001b[0;32m    520\u001b[0m \u001b[38;5;28;01mreturn\u001b[39;00m unstacker\u001b[38;5;241m.\u001b[39mget_result(\n\u001b[0;32m    521\u001b[0m     obj\u001b[38;5;241m.\u001b[39m_values, value_columns\u001b[38;5;241m=\u001b[39m\u001b[38;5;28;01mNone\u001b[39;00m, fill_value\u001b[38;5;241m=\u001b[39mfill_value\n\u001b[0;32m    522\u001b[0m )\n",
      "File \u001b[1;32m~\\AppData\\Local\\Programs\\Python\\Python313\\Lib\\site-packages\\pandas\\core\\reshape\\reshape.py:154\u001b[0m, in \u001b[0;36m_Unstacker.__init__\u001b[1;34m(self, index, level, constructor, sort)\u001b[0m\n\u001b[0;32m    146\u001b[0m \u001b[38;5;28;01mif\u001b[39;00m num_cells \u001b[38;5;241m>\u001b[39m np\u001b[38;5;241m.\u001b[39miinfo(np\u001b[38;5;241m.\u001b[39mint32)\u001b[38;5;241m.\u001b[39mmax:\n\u001b[0;32m    147\u001b[0m     warnings\u001b[38;5;241m.\u001b[39mwarn(\n\u001b[0;32m    148\u001b[0m         \u001b[38;5;124mf\u001b[39m\u001b[38;5;124m\"\u001b[39m\u001b[38;5;124mThe following operation may generate \u001b[39m\u001b[38;5;132;01m{\u001b[39;00mnum_cells\u001b[38;5;132;01m}\u001b[39;00m\u001b[38;5;124m cells \u001b[39m\u001b[38;5;124m\"\u001b[39m\n\u001b[0;32m    149\u001b[0m         \u001b[38;5;124mf\u001b[39m\u001b[38;5;124m\"\u001b[39m\u001b[38;5;124min the resulting pandas object.\u001b[39m\u001b[38;5;124m\"\u001b[39m,\n\u001b[0;32m    150\u001b[0m         PerformanceWarning,\n\u001b[0;32m    151\u001b[0m         stacklevel\u001b[38;5;241m=\u001b[39mfind_stack_level(),\n\u001b[0;32m    152\u001b[0m     )\n\u001b[1;32m--> 154\u001b[0m \u001b[38;5;28;43mself\u001b[39;49m\u001b[38;5;241;43m.\u001b[39;49m\u001b[43m_make_selectors\u001b[49m\u001b[43m(\u001b[49m\u001b[43m)\u001b[49m\n",
      "File \u001b[1;32m~\\AppData\\Local\\Programs\\Python\\Python313\\Lib\\site-packages\\pandas\\core\\reshape\\reshape.py:210\u001b[0m, in \u001b[0;36m_Unstacker._make_selectors\u001b[1;34m(self)\u001b[0m\n\u001b[0;32m    207\u001b[0m mask\u001b[38;5;241m.\u001b[39mput(selector, \u001b[38;5;28;01mTrue\u001b[39;00m)\n\u001b[0;32m    209\u001b[0m \u001b[38;5;28;01mif\u001b[39;00m mask\u001b[38;5;241m.\u001b[39msum() \u001b[38;5;241m<\u001b[39m \u001b[38;5;28mlen\u001b[39m(\u001b[38;5;28mself\u001b[39m\u001b[38;5;241m.\u001b[39mindex):\n\u001b[1;32m--> 210\u001b[0m     \u001b[38;5;28;01mraise\u001b[39;00m \u001b[38;5;167;01mValueError\u001b[39;00m(\u001b[38;5;124m\"\u001b[39m\u001b[38;5;124mIndex contains duplicate entries, cannot reshape\u001b[39m\u001b[38;5;124m\"\u001b[39m)\n\u001b[0;32m    212\u001b[0m \u001b[38;5;28mself\u001b[39m\u001b[38;5;241m.\u001b[39mgroup_index \u001b[38;5;241m=\u001b[39m comp_index\n\u001b[0;32m    213\u001b[0m \u001b[38;5;28mself\u001b[39m\u001b[38;5;241m.\u001b[39mmask \u001b[38;5;241m=\u001b[39m mask\n",
      "\u001b[1;31mValueError\u001b[0m: Index contains duplicate entries, cannot reshape"
     ]
    }
   ],
   "source": [
    "pivot3 = df.pivot(index=\"Country\", columns=\"Name\", values=\"CreditScore\")\n",
    "print(pivot3)\n"
   ]
  },
  {
   "cell_type": "code",
   "execution_count": 55,
   "id": "4626e1ea-9af5-4478-9fc8-2405c64126c5",
   "metadata": {},
   "outputs": [
    {
     "ename": "ValueError",
     "evalue": "Index contains duplicate entries, cannot reshape",
     "output_type": "error",
     "traceback": [
      "\u001b[1;31m---------------------------------------------------------------------------\u001b[0m",
      "\u001b[1;31mValueError\u001b[0m                                Traceback (most recent call last)",
      "Cell \u001b[1;32mIn[55], line 1\u001b[0m\n\u001b[1;32m----> 1\u001b[0m pivot7 \u001b[38;5;241m=\u001b[39m \u001b[43mdf\u001b[49m\u001b[38;5;241;43m.\u001b[39;49m\u001b[43mpivot\u001b[49m\u001b[43m(\u001b[49m\u001b[43mindex\u001b[49m\u001b[38;5;241;43m=\u001b[39;49m\u001b[38;5;124;43m\"\u001b[39;49m\u001b[38;5;124;43mName\u001b[39;49m\u001b[38;5;124;43m\"\u001b[39;49m\u001b[43m,\u001b[49m\u001b[43m \u001b[49m\u001b[43mcolumns\u001b[49m\u001b[38;5;241;43m=\u001b[39;49m\u001b[38;5;124;43m\"\u001b[39;49m\u001b[38;5;124;43mDep\u001b[39;49m\u001b[38;5;124;43m\"\u001b[39;49m\u001b[43m,\u001b[49m\u001b[43m \u001b[49m\u001b[43mvalues\u001b[49m\u001b[38;5;241;43m=\u001b[39;49m\u001b[38;5;124;43m\"\u001b[39;49m\u001b[38;5;124;43mSalary\u001b[39;49m\u001b[38;5;124;43m\"\u001b[39;49m\u001b[43m)\u001b[49m\n\u001b[0;32m      2\u001b[0m \u001b[38;5;28mprint\u001b[39m(pivot7)\n",
      "File \u001b[1;32m~\\AppData\\Local\\Programs\\Python\\Python313\\Lib\\site-packages\\pandas\\core\\frame.py:9339\u001b[0m, in \u001b[0;36mDataFrame.pivot\u001b[1;34m(self, columns, index, values)\u001b[0m\n\u001b[0;32m   9332\u001b[0m \u001b[38;5;129m@Substitution\u001b[39m(\u001b[38;5;124m\"\u001b[39m\u001b[38;5;124m\"\u001b[39m)\n\u001b[0;32m   9333\u001b[0m \u001b[38;5;129m@Appender\u001b[39m(_shared_docs[\u001b[38;5;124m\"\u001b[39m\u001b[38;5;124mpivot\u001b[39m\u001b[38;5;124m\"\u001b[39m])\n\u001b[0;32m   9334\u001b[0m \u001b[38;5;28;01mdef\u001b[39;00m \u001b[38;5;21mpivot\u001b[39m(\n\u001b[0;32m   9335\u001b[0m     \u001b[38;5;28mself\u001b[39m, \u001b[38;5;241m*\u001b[39m, columns, index\u001b[38;5;241m=\u001b[39mlib\u001b[38;5;241m.\u001b[39mno_default, values\u001b[38;5;241m=\u001b[39mlib\u001b[38;5;241m.\u001b[39mno_default\n\u001b[0;32m   9336\u001b[0m ) \u001b[38;5;241m-\u001b[39m\u001b[38;5;241m>\u001b[39m DataFrame:\n\u001b[0;32m   9337\u001b[0m     \u001b[38;5;28;01mfrom\u001b[39;00m \u001b[38;5;21;01mpandas\u001b[39;00m\u001b[38;5;21;01m.\u001b[39;00m\u001b[38;5;21;01mcore\u001b[39;00m\u001b[38;5;21;01m.\u001b[39;00m\u001b[38;5;21;01mreshape\u001b[39;00m\u001b[38;5;21;01m.\u001b[39;00m\u001b[38;5;21;01mpivot\u001b[39;00m \u001b[38;5;28;01mimport\u001b[39;00m pivot\n\u001b[1;32m-> 9339\u001b[0m     \u001b[38;5;28;01mreturn\u001b[39;00m \u001b[43mpivot\u001b[49m\u001b[43m(\u001b[49m\u001b[38;5;28;43mself\u001b[39;49m\u001b[43m,\u001b[49m\u001b[43m \u001b[49m\u001b[43mindex\u001b[49m\u001b[38;5;241;43m=\u001b[39;49m\u001b[43mindex\u001b[49m\u001b[43m,\u001b[49m\u001b[43m \u001b[49m\u001b[43mcolumns\u001b[49m\u001b[38;5;241;43m=\u001b[39;49m\u001b[43mcolumns\u001b[49m\u001b[43m,\u001b[49m\u001b[43m \u001b[49m\u001b[43mvalues\u001b[49m\u001b[38;5;241;43m=\u001b[39;49m\u001b[43mvalues\u001b[49m\u001b[43m)\u001b[49m\n",
      "File \u001b[1;32m~\\AppData\\Local\\Programs\\Python\\Python313\\Lib\\site-packages\\pandas\\core\\reshape\\pivot.py:570\u001b[0m, in \u001b[0;36mpivot\u001b[1;34m(data, columns, index, values)\u001b[0m\n\u001b[0;32m    566\u001b[0m         indexed \u001b[38;5;241m=\u001b[39m data\u001b[38;5;241m.\u001b[39m_constructor_sliced(data[values]\u001b[38;5;241m.\u001b[39m_values, index\u001b[38;5;241m=\u001b[39mmultiindex)\n\u001b[0;32m    567\u001b[0m \u001b[38;5;66;03m# error: Argument 1 to \"unstack\" of \"DataFrame\" has incompatible type \"Union\u001b[39;00m\n\u001b[0;32m    568\u001b[0m \u001b[38;5;66;03m# [List[Any], ExtensionArray, ndarray[Any, Any], Index, Series]\"; expected\u001b[39;00m\n\u001b[0;32m    569\u001b[0m \u001b[38;5;66;03m# \"Hashable\"\u001b[39;00m\n\u001b[1;32m--> 570\u001b[0m result \u001b[38;5;241m=\u001b[39m \u001b[43mindexed\u001b[49m\u001b[38;5;241;43m.\u001b[39;49m\u001b[43munstack\u001b[49m\u001b[43m(\u001b[49m\u001b[43mcolumns_listlike\u001b[49m\u001b[43m)\u001b[49m  \u001b[38;5;66;03m# type: ignore[arg-type]\u001b[39;00m\n\u001b[0;32m    571\u001b[0m result\u001b[38;5;241m.\u001b[39mindex\u001b[38;5;241m.\u001b[39mnames \u001b[38;5;241m=\u001b[39m [\n\u001b[0;32m    572\u001b[0m     name \u001b[38;5;28;01mif\u001b[39;00m name \u001b[38;5;129;01mis\u001b[39;00m \u001b[38;5;129;01mnot\u001b[39;00m lib\u001b[38;5;241m.\u001b[39mno_default \u001b[38;5;28;01melse\u001b[39;00m \u001b[38;5;28;01mNone\u001b[39;00m \u001b[38;5;28;01mfor\u001b[39;00m name \u001b[38;5;129;01min\u001b[39;00m result\u001b[38;5;241m.\u001b[39mindex\u001b[38;5;241m.\u001b[39mnames\n\u001b[0;32m    573\u001b[0m ]\n\u001b[0;32m    575\u001b[0m \u001b[38;5;28;01mreturn\u001b[39;00m result\n",
      "File \u001b[1;32m~\\AppData\\Local\\Programs\\Python\\Python313\\Lib\\site-packages\\pandas\\core\\series.py:4615\u001b[0m, in \u001b[0;36mSeries.unstack\u001b[1;34m(self, level, fill_value, sort)\u001b[0m\n\u001b[0;32m   4570\u001b[0m \u001b[38;5;250m\u001b[39m\u001b[38;5;124;03m\"\"\"\u001b[39;00m\n\u001b[0;32m   4571\u001b[0m \u001b[38;5;124;03mUnstack, also known as pivot, Series with MultiIndex to produce DataFrame.\u001b[39;00m\n\u001b[0;32m   4572\u001b[0m \n\u001b[1;32m   (...)\u001b[0m\n\u001b[0;32m   4611\u001b[0m \u001b[38;5;124;03mb    2    4\u001b[39;00m\n\u001b[0;32m   4612\u001b[0m \u001b[38;5;124;03m\"\"\"\u001b[39;00m\n\u001b[0;32m   4613\u001b[0m \u001b[38;5;28;01mfrom\u001b[39;00m \u001b[38;5;21;01mpandas\u001b[39;00m\u001b[38;5;21;01m.\u001b[39;00m\u001b[38;5;21;01mcore\u001b[39;00m\u001b[38;5;21;01m.\u001b[39;00m\u001b[38;5;21;01mreshape\u001b[39;00m\u001b[38;5;21;01m.\u001b[39;00m\u001b[38;5;21;01mreshape\u001b[39;00m \u001b[38;5;28;01mimport\u001b[39;00m unstack\n\u001b[1;32m-> 4615\u001b[0m \u001b[38;5;28;01mreturn\u001b[39;00m \u001b[43munstack\u001b[49m\u001b[43m(\u001b[49m\u001b[38;5;28;43mself\u001b[39;49m\u001b[43m,\u001b[49m\u001b[43m \u001b[49m\u001b[43mlevel\u001b[49m\u001b[43m,\u001b[49m\u001b[43m \u001b[49m\u001b[43mfill_value\u001b[49m\u001b[43m,\u001b[49m\u001b[43m \u001b[49m\u001b[43msort\u001b[49m\u001b[43m)\u001b[49m\n",
      "File \u001b[1;32m~\\AppData\\Local\\Programs\\Python\\Python313\\Lib\\site-packages\\pandas\\core\\reshape\\reshape.py:517\u001b[0m, in \u001b[0;36munstack\u001b[1;34m(obj, level, fill_value, sort)\u001b[0m\n\u001b[0;32m    515\u001b[0m \u001b[38;5;28;01mif\u001b[39;00m is_1d_only_ea_dtype(obj\u001b[38;5;241m.\u001b[39mdtype):\n\u001b[0;32m    516\u001b[0m     \u001b[38;5;28;01mreturn\u001b[39;00m _unstack_extension_series(obj, level, fill_value, sort\u001b[38;5;241m=\u001b[39msort)\n\u001b[1;32m--> 517\u001b[0m unstacker \u001b[38;5;241m=\u001b[39m \u001b[43m_Unstacker\u001b[49m\u001b[43m(\u001b[49m\n\u001b[0;32m    518\u001b[0m \u001b[43m    \u001b[49m\u001b[43mobj\u001b[49m\u001b[38;5;241;43m.\u001b[39;49m\u001b[43mindex\u001b[49m\u001b[43m,\u001b[49m\u001b[43m \u001b[49m\u001b[43mlevel\u001b[49m\u001b[38;5;241;43m=\u001b[39;49m\u001b[43mlevel\u001b[49m\u001b[43m,\u001b[49m\u001b[43m \u001b[49m\u001b[43mconstructor\u001b[49m\u001b[38;5;241;43m=\u001b[39;49m\u001b[43mobj\u001b[49m\u001b[38;5;241;43m.\u001b[39;49m\u001b[43m_constructor_expanddim\u001b[49m\u001b[43m,\u001b[49m\u001b[43m \u001b[49m\u001b[43msort\u001b[49m\u001b[38;5;241;43m=\u001b[39;49m\u001b[43msort\u001b[49m\n\u001b[0;32m    519\u001b[0m \u001b[43m\u001b[49m\u001b[43m)\u001b[49m\n\u001b[0;32m    520\u001b[0m \u001b[38;5;28;01mreturn\u001b[39;00m unstacker\u001b[38;5;241m.\u001b[39mget_result(\n\u001b[0;32m    521\u001b[0m     obj\u001b[38;5;241m.\u001b[39m_values, value_columns\u001b[38;5;241m=\u001b[39m\u001b[38;5;28;01mNone\u001b[39;00m, fill_value\u001b[38;5;241m=\u001b[39mfill_value\n\u001b[0;32m    522\u001b[0m )\n",
      "File \u001b[1;32m~\\AppData\\Local\\Programs\\Python\\Python313\\Lib\\site-packages\\pandas\\core\\reshape\\reshape.py:154\u001b[0m, in \u001b[0;36m_Unstacker.__init__\u001b[1;34m(self, index, level, constructor, sort)\u001b[0m\n\u001b[0;32m    146\u001b[0m \u001b[38;5;28;01mif\u001b[39;00m num_cells \u001b[38;5;241m>\u001b[39m np\u001b[38;5;241m.\u001b[39miinfo(np\u001b[38;5;241m.\u001b[39mint32)\u001b[38;5;241m.\u001b[39mmax:\n\u001b[0;32m    147\u001b[0m     warnings\u001b[38;5;241m.\u001b[39mwarn(\n\u001b[0;32m    148\u001b[0m         \u001b[38;5;124mf\u001b[39m\u001b[38;5;124m\"\u001b[39m\u001b[38;5;124mThe following operation may generate \u001b[39m\u001b[38;5;132;01m{\u001b[39;00mnum_cells\u001b[38;5;132;01m}\u001b[39;00m\u001b[38;5;124m cells \u001b[39m\u001b[38;5;124m\"\u001b[39m\n\u001b[0;32m    149\u001b[0m         \u001b[38;5;124mf\u001b[39m\u001b[38;5;124m\"\u001b[39m\u001b[38;5;124min the resulting pandas object.\u001b[39m\u001b[38;5;124m\"\u001b[39m,\n\u001b[0;32m    150\u001b[0m         PerformanceWarning,\n\u001b[0;32m    151\u001b[0m         stacklevel\u001b[38;5;241m=\u001b[39mfind_stack_level(),\n\u001b[0;32m    152\u001b[0m     )\n\u001b[1;32m--> 154\u001b[0m \u001b[38;5;28;43mself\u001b[39;49m\u001b[38;5;241;43m.\u001b[39;49m\u001b[43m_make_selectors\u001b[49m\u001b[43m(\u001b[49m\u001b[43m)\u001b[49m\n",
      "File \u001b[1;32m~\\AppData\\Local\\Programs\\Python\\Python313\\Lib\\site-packages\\pandas\\core\\reshape\\reshape.py:210\u001b[0m, in \u001b[0;36m_Unstacker._make_selectors\u001b[1;34m(self)\u001b[0m\n\u001b[0;32m    207\u001b[0m mask\u001b[38;5;241m.\u001b[39mput(selector, \u001b[38;5;28;01mTrue\u001b[39;00m)\n\u001b[0;32m    209\u001b[0m \u001b[38;5;28;01mif\u001b[39;00m mask\u001b[38;5;241m.\u001b[39msum() \u001b[38;5;241m<\u001b[39m \u001b[38;5;28mlen\u001b[39m(\u001b[38;5;28mself\u001b[39m\u001b[38;5;241m.\u001b[39mindex):\n\u001b[1;32m--> 210\u001b[0m     \u001b[38;5;28;01mraise\u001b[39;00m \u001b[38;5;167;01mValueError\u001b[39;00m(\u001b[38;5;124m\"\u001b[39m\u001b[38;5;124mIndex contains duplicate entries, cannot reshape\u001b[39m\u001b[38;5;124m\"\u001b[39m)\n\u001b[0;32m    212\u001b[0m \u001b[38;5;28mself\u001b[39m\u001b[38;5;241m.\u001b[39mgroup_index \u001b[38;5;241m=\u001b[39m comp_index\n\u001b[0;32m    213\u001b[0m \u001b[38;5;28mself\u001b[39m\u001b[38;5;241m.\u001b[39mmask \u001b[38;5;241m=\u001b[39m mask\n",
      "\u001b[1;31mValueError\u001b[0m: Index contains duplicate entries, cannot reshape"
     ]
    }
   ],
   "source": [
    "pivot7 = df.pivot(index=\"Name\", columns=\"Dep\", values=\"Salary\")\n",
    "print(pivot7)\n"
   ]
  },
  {
   "cell_type": "code",
   "execution_count": 1,
   "id": "1a262cee-90b0-4d62-9ec0-caec266b8fa6",
   "metadata": {},
   "outputs": [
    {
     "data": {
      "text/plain": [
       "'\\n         Date Product     variable  value\\n0  2025-01-01       A  Total_Sales    100\\n1  2025-01-02       B  Total_Sales    150\\n2  2025-01-01       A      Returns      5\\n3  2025-01-02       B      Returns      8\\n'"
      ]
     },
     "execution_count": 1,
     "metadata": {},
     "output_type": "execute_result"
    }
   ],
   "source": [
    "# pd.melt() (unpivot) it si very easy & this is helps to create the charts easily for visualization\n",
    "# example\n",
    "\n",
    "# uses ===> It converts wide data into long data — so you go from many columns to fewer columns and more rows. This is helpful for charts or grouped analysis.\n",
    "\n",
    "''' 📊 Imagine this sample data (before melting):'''\n",
    "\n",
    "'''\n",
    "code: \n",
    "import pandas as pd\n",
    "\n",
    "# Sample data (wide format)\n",
    "sales_data = pd.DataFrame({\n",
    "    'Date': ['2025-01-01', '2025-01-02'],\n",
    "    'Product': ['A', 'B'],\n",
    "    'Total_Sales': [100, 150],\n",
    "    'Returns': [5, 8]\n",
    "})\n",
    "\n",
    "print(sales_data)\n",
    "\n",
    "Output:\n",
    "\n",
    "\n",
    "         Date Product  Total_Sales  Returns\n",
    "0  2025-01-01       A          100        5\n",
    "1  2025-01-02       B          150        8\n",
    "'''\n",
    "\n",
    " # 🔄 Now melt it using pd.melt():\n",
    "# code\n",
    "'''\n",
    "melted = pd.melt(sales_data, id_vars=['Date', 'Product'], value_vars=['Total_Sales', 'Returns'])\n",
    "print(melted)\n",
    "'''\n",
    "# output\n",
    "'''\n",
    "         Date Product     variable  value\n",
    "0  2025-01-01       A  Total_Sales    100\n",
    "1  2025-01-02       B  Total_Sales    150\n",
    "2  2025-01-01       A      Returns      5\n",
    "3  2025-01-02       B      Returns      8\n",
    "'''\n"
   ]
  },
  {
   "cell_type": "code",
   "execution_count": 8,
   "id": "bb5b4d4f-d13b-4e9c-99b6-e4ab6fc32d2a",
   "metadata": {},
   "outputs": [
    {
     "name": "stdout",
     "output_type": "stream",
     "text": [
      "Original data\n",
      "         Date product  Total_Sales  Returns\n",
      "0  2025-01-01       A          100        5\n",
      "1  2025-01-02       B          150        8\n",
      "\n",
      "After melted\n",
      "         Date product     variable  value\n",
      "0  2025-01-01       A  Total_Sales    100\n",
      "1  2025-01-02       B  Total_Sales    150\n",
      "2  2025-01-01       A      Returns      5\n",
      "3  2025-01-02       B      Returns      8\n"
     ]
    }
   ],
   "source": [
    "# 1)\n",
    "\n",
    "import pandas as pd\n",
    "\n",
    "df = pd.DataFrame({\n",
    "    'Date': ['2025-01-01', '2025-01-02'],\n",
    "    'product': ['A', 'B'],\n",
    "    'Total_Sales': [100, 150],\n",
    "    'Returns' : [5, 8]\n",
    "})\n",
    "print('Original data')\n",
    "print(df)\n",
    "\n",
    "# melted = pd.melt(sales_data, id_vars=['Date', 'Product'], value_vars=['Total_Sales', 'Returns'])\n",
    "print()\n",
    "print('After melted')\n",
    "\n",
    "\n",
    "melted = pd.melt(df, id_vars = ['Date', 'product'], value_vars = ['Total_Sales', 'Returns'])\n",
    "print(melted)\n"
   ]
  },
  {
   "cell_type": "code",
   "execution_count": 9,
   "id": "b5a83fca-f869-4a40-a8d5-7aeb09d2079e",
   "metadata": {},
   "outputs": [
    {
     "data": {
      "text/plain": [
       "'\\n🧠 Why melt?\\nThis makes it easy to:\\n\\nPlot charts (like bar plots grouped by metric)\\n\\nUse groupby() on variable\\n\\nAnalyze trends in different metrics over time\\n'"
      ]
     },
     "execution_count": 9,
     "metadata": {},
     "output_type": "execute_result"
    }
   ],
   "source": [
    "'''\n",
    "🧠 Why melt?\n",
    "This makes it easy to:\n",
    "\n",
    "Plot charts (like bar plots grouped by metric)\n",
    "\n",
    "Use groupby() on variable\n",
    "\n",
    "Analyze trends in different metrics over time\n",
    "'''"
   ]
  },
  {
   "cell_type": "code",
   "execution_count": 13,
   "id": "962ac1db-ee6c-4a4f-824f-380706cc3464",
   "metadata": {},
   "outputs": [
    {
     "name": "stdout",
     "output_type": "stream",
     "text": [
      "  Student  Math  Science\n",
      "0   Alice    90       85\n",
      "1     Bob    80       75\n",
      "\n",
      "After\n",
      "  Student variable  value\n",
      "0   Alice     Math     90\n",
      "1     Bob     Math     80\n",
      "2   Alice  Science     85\n",
      "3     Bob  Science     75\n"
     ]
    }
   ],
   "source": [
    "# Example 1: Student Scores\n",
    "import pandas as pd\n",
    "\n",
    "df = pd.DataFrame({\n",
    "    'Student': ['Alice', 'Bob'],\n",
    "    'Math': [90, 80],\n",
    "    'Science': [85, 75]\n",
    "})\n",
    "\n",
    "print(df)\n",
    "print()\n",
    "print('After :')\n",
    "melted = pd.melt(df, id_vars = ['Student'], value_vars = ['Math', 'Science'])\n",
    "print(melted)"
   ]
  },
  {
   "cell_type": "code",
   "execution_count": 17,
   "id": "04c5d083-dcd3-43ee-8689-2faf0bad649f",
   "metadata": {},
   "outputs": [
    {
     "name": "stdout",
     "output_type": "stream",
     "text": [
      "      City  Jan  Feb\n",
      "0  Chennai   30   32\n",
      "1    Delhi   15   18\n",
      "\n",
      "After\n",
      "      City Month  Tem\n",
      "0  Chennai   Jan   30\n",
      "1    Delhi   Jan   15\n",
      "2  Chennai   Feb   32\n",
      "3    Delhi   Feb   18\n"
     ]
    }
   ],
   "source": [
    "#  Example 2: Monthly Temperature Data\n",
    "df = pd.DataFrame({\n",
    "    'City': ['Chennai', 'Delhi'],\n",
    "    'Jan': [30, 15],\n",
    "    'Feb': [32, 18]\n",
    "})\n",
    "\n",
    "print(df)\n",
    "print()\n",
    "print('After :')\n",
    "\n",
    "'''\n",
    "melted_temp = pd.melt(temp_data, id_vars=['City'], value_vars=['Jan', 'Feb'], var_name='Month', value_name='Temperature')\n",
    "print(melted_temp)\n",
    "\n",
    "'''\n",
    "melted = pd.melt(df, id_vars = ['City'], value_vars = ['Jan', 'Feb'], var_name = 'Month', value_name = 'Tem')\n",
    "print(melted)"
   ]
  },
  {
   "cell_type": "code",
   "execution_count": 28,
   "id": "9fe93ad3-48b5-4e60-afe8-dc05143a8b7c",
   "metadata": {},
   "outputs": [
    {
     "name": "stdout",
     "output_type": "stream",
     "text": [
      "  Employee  IT_Salary  HR_Salary  Marketing_Salary\n",
      "0     John       5000       4000              3500\n",
      "1    Alice       4500       3500              3000\n",
      "2      Bob       5500       3900              3200\n",
      "\n",
      "After :\n",
      "  Employee               Dep  Salary\n",
      "0     John         IT_Salary    5000\n",
      "1    Alice         IT_Salary    4500\n",
      "2      Bob         IT_Salary    5500\n",
      "3     John         HR_Salary    4000\n",
      "4    Alice         HR_Salary    3500\n",
      "5      Bob         HR_Salary    3900\n",
      "6     John  Marketing_Salary    3500\n",
      "7    Alice  Marketing_Salary    3000\n",
      "8      Bob  Marketing_Salary    3200\n"
     ]
    }
   ],
   "source": [
    "#  Example 3: Employee Salaries for Different Departments\n",
    "\n",
    "import pandas as pd\n",
    "\n",
    "df = pd.DataFrame({\n",
    "    'Employee': ['John', 'Alice', 'Bob'],\n",
    "    'IT_Salary': [5000, 4500, 5500],\n",
    "    'HR_Salary': [4000, 3500, 3900],\n",
    "    'Marketing_Salary': [3500, 3000, 3200]\n",
    "})\n",
    "print(df)\n",
    "print()\n",
    "print('After :')\n",
    "\n",
    "melted = pd.melt(df, id_vars = ['Employee'], value_vars = ['IT_Salary', 'HR_Salary', 'Marketing_Salary'], var_name = 'Dep', value_name = 'Salary')\n",
    "print(melted)"
   ]
  },
  {
   "cell_type": "code",
   "execution_count": 30,
   "id": "22d8cb5a-6dcd-421f-9e83-d6dd8a453a65",
   "metadata": {},
   "outputs": [
    {
     "name": "stdout",
     "output_type": "stream",
     "text": [
      "  Product  Jan_Sales  Feb_Sales  Mar_Sales\n",
      "0       A        200        210        220\n",
      "1       B        150        160        170\n",
      "2       C        180        170        160\n",
      "\n",
      "After: \n",
      "  Product Monthly_sales  Sales\n",
      "0       A     Jan_Sales    200\n",
      "1       B     Jan_Sales    150\n",
      "2       C     Jan_Sales    180\n",
      "3       A     Feb_Sales    210\n",
      "4       B     Feb_Sales    160\n",
      "5       C     Feb_Sales    170\n",
      "6       A     Mar_Sales    220\n",
      "7       B     Mar_Sales    170\n",
      "8       C     Mar_Sales    160\n"
     ]
    }
   ],
   "source": [
    "#  Example 4: Product Sales Over Months\n",
    "df = pd.DataFrame({\n",
    "    'Product': ['A', 'B', 'C'],\n",
    "    'Jan_Sales': [200, 150, 180],\n",
    "    'Feb_Sales': [210, 160, 170],\n",
    "    'Mar_Sales': [220, 170, 160]\n",
    "})\n",
    "\n",
    "print(df)\n",
    "print()\n",
    "print('After: ')\n",
    "\n",
    "melted = pd.melt(df, id_vars = ['Product'], value_vars = ['Jan_Sales', 'Feb_Sales', 'Mar_Sales'], var_name = 'Monthly_sales', value_name = 'Sales')\n",
    "print(melted)\n"
   ]
  },
  {
   "cell_type": "code",
   "execution_count": 37,
   "id": "42de189d-97c9-4db9-a844-85ba1b1d1632",
   "metadata": {},
   "outputs": [
    {
     "name": "stdout",
     "output_type": "stream",
     "text": [
      "          City  Morning_Temperature  Afternoon_Temperature  \\\n",
      "0     New York                   50                     70   \n",
      "1  Los Angeles                   60                     80   \n",
      "2      Chicago                   45                     65   \n",
      "\n",
      "   Evening_Temperature  \n",
      "0                   60  \n",
      "1                   70  \n",
      "2                   55  \n",
      "\n",
      "After :\n",
      "Actually pd.melt(Data Reshaping) is does increase row decrease column\n",
      "\n",
      "          City               Day_Time  Temp\n",
      "0     New York    Morning_Temperature    50\n",
      "1  Los Angeles    Morning_Temperature    60\n",
      "2      Chicago    Morning_Temperature    45\n",
      "3     New York  Afternoon_Temperature    70\n",
      "4  Los Angeles  Afternoon_Temperature    80\n",
      "5      Chicago  Afternoon_Temperature    65\n",
      "6     New York    Evening_Temperature    60\n",
      "7  Los Angeles    Evening_Temperature    70\n",
      "8      Chicago    Evening_Temperature    55\n"
     ]
    }
   ],
   "source": [
    "#  Example 5: Temperature for Different Cities\n",
    "\n",
    "df = pd.DataFrame({\n",
    "    'City': ['New York', 'Los Angeles', 'Chicago'],\n",
    "    'Morning_Temperature': [50, 60, 45],\n",
    "    'Afternoon_Temperature': [70, 80, 65],\n",
    "    'Evening_Temperature': [60, 70, 55]\n",
    "})\n",
    "print(df)\n",
    "print()\n",
    "print('After :')\n",
    "melted = pd.melt(df, id_vars = ['City'], value_vars = ['Morning_Temperature', 'Afternoon_Temperature','Evening_Temperature'], \n",
    "                 var_name = 'Day_Time', value_name = 'Temp') # these are helps to easily create charts and analysis.\n",
    "print('Actually pd.melt(Data Reshaping) is does increase row decrease column')\n",
    "print()\n",
    "print(melted)"
   ]
  },
  {
   "cell_type": "code",
   "execution_count": 39,
   "id": "a1ff1b59-1f3d-41c2-b99a-e68704ed601b",
   "metadata": {},
   "outputs": [
    {
     "name": "stdout",
     "output_type": "stream",
     "text": [
      "  Product  2025-04-01  2025-04-02  2025-04-03\n",
      "0       A         100         110         120\n",
      "1       B         150         160         170\n",
      "2       C         200         190         180\n",
      "\n",
      "After :\n",
      "\n",
      "  Product        Date  Sales\n",
      "0       A  2025-04-01    100\n",
      "1       B  2025-04-01    150\n",
      "2       C  2025-04-01    200\n",
      "3       A  2025-04-02    110\n",
      "4       B  2025-04-02    160\n",
      "5       C  2025-04-02    190\n",
      "6       A  2025-04-03    120\n",
      "7       B  2025-04-03    170\n",
      "8       C  2025-04-03    180\n"
     ]
    }
   ],
   "source": [
    "#  Example 6: Sales for Multiple Products Over Different Days\n",
    "\n",
    "df = pd.DataFrame({\n",
    "    'Product': ['A', 'B', 'C'],\n",
    "    '2025-04-01': [100, 150, 200],\n",
    "    '2025-04-02': [110, 160, 190],\n",
    "    '2025-04-03': [120, 170, 180]\n",
    "})\n",
    "\n",
    "print(df)\n",
    "print()\n",
    "print('After :')\n",
    "print()\n",
    "melted = pd.melt(df, id_vars = ['Product'], value_vars = ['2025-04-01', '2025-04-02', '2025-04-03' ], var_name = 'Date', value_name = 'Sales')\n",
    "print(melted)"
   ]
  },
  {
   "cell_type": "code",
   "execution_count": null,
   "id": "427cec19-f734-45c8-a69e-c8ebba3e04d8",
   "metadata": {},
   "outputs": [],
   "source": []
  }
 ],
 "metadata": {
  "kernelspec": {
   "display_name": "Python 3 (ipykernel)",
   "language": "python",
   "name": "python3"
  },
  "language_info": {
   "codemirror_mode": {
    "name": "ipython",
    "version": 3
   },
   "file_extension": ".py",
   "mimetype": "text/x-python",
   "name": "python",
   "nbconvert_exporter": "python",
   "pygments_lexer": "ipython3",
   "version": "3.13.0"
  }
 },
 "nbformat": 4,
 "nbformat_minor": 5
}
