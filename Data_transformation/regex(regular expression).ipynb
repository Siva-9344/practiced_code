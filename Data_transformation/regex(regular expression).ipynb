{
 "cells": [
  {
   "cell_type": "code",
   "execution_count": 12,
   "id": "bfd2c4d3-d477-484c-bba4-fa7f295b8511",
   "metadata": {},
   "outputs": [],
   "source": [
    "# Perfect! Learning regex (regular expressions) in Pandas is a game-changer for real-world data cleaning and transformation\n",
    "# Common Regex Symbols\n",
    "\n",
    "'''\n",
    "^  : Matches the beginning of a string.  \n",
    "$  : Matches the end of a string.  \n",
    ".  : Matches any single character except newline.  \n",
    "*  : Matches 0 or more repetitions of the previous character.  \n",
    "+  : Matches 1 or more repetitions of the previous character.  \n",
    "?  : Matches 0 or 1 of the previous character.  \n",
    "[] : Matches any one character inside the brackets.  \n",
    "[^]: Matches any one character NOT inside the brackets.  \n",
    "() : Groups patterns together.  \n",
    "|  : Acts like OR between expressions.  \n",
    "\n",
    "'''\n",
    "\n",
    "#  Extract Email Username & Domain\n",
    "import pandas as pd\n",
    "df = pd.DataFrame({'Email': ['john.doe@gmail.com', 'alice_smith@yahoo.com']})\n",
    "\n"
   ]
  },
  {
   "cell_type": "code",
   "execution_count": 8,
   "id": "ef1060e5-e2f6-4e12-b4d0-3de05c3b5aab",
   "metadata": {},
   "outputs": [
    {
     "name": "stdout",
     "output_type": "stream",
     "text": [
      "                   Email\n",
      "0     john.doe@gmail.com\n",
      "1  alice_smith@yahoo.com\n"
     ]
    }
   ],
   "source": [
    "print(df)\n"
   ]
  },
  {
   "cell_type": "code",
   "execution_count": 15,
   "id": "80f51520-4fee-45bf-8361-fb3e663151c2",
   "metadata": {},
   "outputs": [
    {
     "name": "stdout",
     "output_type": "stream",
     "text": [
      "                   Email     Username     Domain\n",
      "0     john.doe@gmail.com     john.doe  gmail.com\n",
      "1  alice_smith@yahoo.com  alice_smith  yahoo.com\n"
     ]
    }
   ],
   "source": [
    "# explantion\n",
    "'''\n",
    "Regex part\t    What it does\n",
    "[^@]+\t        Everything before @\n",
    "@\t            The @ symbol itself\n",
    ".+\t            Everything after @\n",
    "'''\n",
    "\n",
    "df[['Username','Domain']] = df['Email'].str.extract(r'([^@]+)@(.+)')\n",
    "print(df)\n",
    "# Extract username and domain"
   ]
  },
  {
   "cell_type": "code",
   "execution_count": 23,
   "id": "6024e993-a413-4797-a92d-f3eb7bcc9e19",
   "metadata": {},
   "outputs": [
    {
     "name": "stdout",
     "output_type": "stream",
     "text": [
      "                      Text       Phnum\n",
      "0    Call me at 9876543210  9876543210\n",
      "1  My number is 9123456789  9123456789\n"
     ]
    }
   ],
   "source": [
    "#  Extract Phone Numbers\n",
    "df = pd.DataFrame({'Text': ['Call me at 9876543210', 'My number is 9123456789']})\n",
    "df['Phnum'] = df['Text'].str.extract(r'(\\b\\d{10}\\b)') \n",
    "# \\b Meaning: This is a word boundary. eg:abc9876543210xyz----->  \\b9876543210\\b, output: 9876543210\n",
    "# \\d{10} matches exactly 10 digits (9876543210).\n",
    "\n",
    "\n",
    "print(df)\n"
   ]
  },
  {
   "cell_type": "code",
   "execution_count": 32,
   "id": "e9506394-3c4d-486a-9386-02056074af5d",
   "metadata": {},
   "outputs": [
    {
     "name": "stdout",
     "output_type": "stream",
     "text": [
      "               Info        date\n",
      "0  Date: 2025-04-12  2025-04-12\n",
      "1   DOB: 12/04/1999  12/04/1999\n"
     ]
    }
   ],
   "source": [
    "#  Extract Dates in Various Formats\n",
    "df = pd.DataFrame({\"Info\": ['Date: 2025-04-12', 'DOB: 12/04/1999']})\n",
    "df['date'] = df['Info'].str.extract(r'(\\d{2}/\\d{2}/\\d{4}|\\d{4}-\\d{2}-\\d{2})')\n",
    "# carefull space will not come and format should correct that time only output is come / very easy\n",
    "# r'(\\d{4}-\\d{2}-\\d{2}|\\d{2}/\\d{2}/\\d{4})'\n",
    "\n",
    "print(df)"
   ]
  },
  {
   "cell_type": "code",
   "execution_count": 40,
   "id": "7e505195-994c-4b54-9d75-be60167f6691",
   "metadata": {},
   "outputs": [
    {
     "name": "stdout",
     "output_type": "stream",
     "text": [
      "    EmpId prefix   Id\n",
      "0  EMP001    EMP  001\n",
      "1   ID456     ID  456\n",
      "2  EMP999    EMP  999\n"
     ]
    }
   ],
   "source": [
    "#  Extract Alphanumeric Codes (e.g., EMP001, ID456)\n",
    "df = pd.DataFrame({'EmpId': ['EMP001', 'ID456', 'EMP999']})\n",
    "df[['prefix', 'Id']] = df['EmpId'].str.extract(r'([A-Z]+)(\\d+)')\n",
    "                                               \n",
    "print(df)"
   ]
  },
  {
   "cell_type": "code",
   "execution_count": 5,
   "id": "07bf461d-898d-4e81-90bb-4310bf1941a9",
   "metadata": {},
   "outputs": [
    {
     "name": "stdout",
     "output_type": "stream",
     "text": [
      "                      URL        Domain\n",
      "0  https://www.google.com    google.com\n",
      "1     http://facebook.com  facebook.com\n"
     ]
    },
    {
     "name": "stderr",
     "output_type": "stream",
     "text": [
      "<>:3: SyntaxWarning: invalid escape sequence '\\.'\n",
      "<>:3: SyntaxWarning: invalid escape sequence '\\.'\n",
      "C:\\Users\\Sivaraman\\AppData\\Local\\Temp\\ipykernel_3744\\1146355491.py:3: SyntaxWarning: invalid escape sequence '\\.'\n",
      "  '''\n"
     ]
    }
   ],
   "source": [
    "# Extract Website Domain from URL\n",
    "import pandas as pd\n",
    "'''\n",
    "df = pd.DataFrame({\n",
    "    'URL': ['https://www.google.com', 'http://facebook.com']\n",
    "})\n",
    "\n",
    "df['Domain'] = df['URL'].str.extract(r'https?://(?:www\\.)?([^/]+)')\n",
    "print(df)'''\n",
    "\n",
    "df = pd.DataFrame({'URL': ['https://www.google.com', 'http://facebook.com']})\n",
    "df['Domain'] = df['URL'].str.extract(r\"https?://(?:www\\.)?([^/]+)\")    # easy but little bit confused incase if u have time just learn again.\n",
    "print(df)"
   ]
  },
  {
   "cell_type": "code",
   "execution_count": 7,
   "id": "bb92b907-09b2-4220-8847-9636f8ee19cb",
   "metadata": {},
   "outputs": [
    {
     "name": "stdout",
     "output_type": "stream",
     "text": [
      "                       Text                    Names\n",
      "0       My name is John Doe          [My, John, Doe]\n",
      "1  Hello from Alice Johnson  [Hello, Alice, Johnson]\n"
     ]
    }
   ],
   "source": [
    "#🔑 Summary: findall vs extract\n",
    "#Method\tReturns\tUse when...\n",
    "\n",
    "#) .str.findall()\tA list of all matches\tYou want all matching names/words\n",
    "#) .str.extract()\tThe first match only\tYou want to capture a single item per row\n",
    "\n",
    "# Extract Capitalized Words (like names)\n",
    "df = pd.DataFrame({'Text': ['My name is John Doe', 'Hello from Alice Johnson']})\n",
    "df['Names'] = df['Text'].str.findall(r'\\b[A-Z][a-z]+\\b')\n",
    "print(df)\n"
   ]
  },
  {
   "cell_type": "code",
   "execution_count": 13,
   "id": "5dd0729d-0682-4337-b9a8-74cfc504ed19",
   "metadata": {},
   "outputs": [
    {
     "name": "stdout",
     "output_type": "stream",
     "text": [
      "            Product        Cleaned\n",
      "0    iPhone@12#Pro!     iPhone1Pro\n",
      "1  Galaxy$S21*Ultra  GalaxyS1Ultra\n"
     ]
    }
   ],
   "source": [
    "# Remove Special Characters\n",
    "\n",
    "df = pd.DataFrame({'Product': ['iPhone@12#Pro!', 'Galaxy$S21*Ultra']})\n",
    "df['Cleaned'] = df['Product'].str.replace(r'[^A-Za-z0-1]+', '', regex = True)\n",
    "\n",
    "print(df)"
   ]
  },
  {
   "cell_type": "code",
   "execution_count": 14,
   "id": "b1ffe712-a82e-45d4-922b-29736f016488",
   "metadata": {},
   "outputs": [
    {
     "name": "stdout",
     "output_type": "stream",
     "text": [
      "['support@example.com', 'hr@company.org']\n"
     ]
    }
   ],
   "source": [
    "# Extract Email Addresses\n",
    "import re\n",
    "\n",
    "text = \"Contact us at support@example.com or hr@company.org\" # emails = re.findall(r'\\b[\\w.-]+@[\\w.-]+\\.\\w+\\b', text)\n",
    "emails = re.findall(r\"\\b[\\w.-]+@[\\w.-]+\\.\\w+\\b\", text) # very easy\n",
    "print(emails)\n"
   ]
  },
  {
   "cell_type": "code",
   "execution_count": 16,
   "id": "b9c71374-0d78-4fc5-9cc7-081a1b89dd3e",
   "metadata": {},
   "outputs": [
    {
     "name": "stdout",
     "output_type": "stream",
     "text": [
      "This is a messy sentence.\n"
     ]
    }
   ],
   "source": [
    "# Replace Multiple Spaces with a Single Space\n",
    "text = \"This    is   a    messy   sentence.\"  # cleaned = re.sub(r'\\s+', ' ', text), # sub mean substitute\n",
    "cleaned = re.sub(r'\\s+', ' ', text)\n",
    "print(cleaned)\n"
   ]
  },
  {
   "cell_type": "code",
   "execution_count": 17,
   "id": "e95d8424-e865-4f34-8659-3f3cffa40926",
   "metadata": {},
   "outputs": [
    {
     "name": "stdout",
     "output_type": "stream",
     "text": [
      "Today's date is 13-04-2025 and yesterday was 12-04-2025.\n"
     ]
    }
   ],
   "source": [
    "# Standardize Date Format (DD-MM-YYYY)\n",
    "text = \"Today's date is 2025/04/13 and yesterday was 2025-04-12.\" # standardized = re.sub(r'(\\d{4})[-/](\\d{2})[-/](\\d{2})', r'\\3-\\2-\\1', text)\n",
    "standardize = re.sub(r'(\\d{4})[-/](\\d{2})[-/](\\d{2})', r'\\3-\\2-\\1', text) # very easy\n",
    "print(standardize)"
   ]
  },
  {
   "cell_type": "code",
   "execution_count": 18,
   "id": "017e0223-ada2-4bf5-8e21-7511be300265",
   "metadata": {},
   "outputs": [
    {
     "name": "stdout",
     "output_type": "stream",
     "text": [
      "['$999', '$199', '$1299']\n"
     ]
    }
   ],
   "source": [
    "# Extract All Prices from Text\n",
    "text = \"Products: iPhone - $999, AirPods - $199, MacBook - $1299.\" # prices = re.findall(r'\\$\\d+', text)\n",
    "prices = re.findall(r'\\$\\d+', text)\n",
    "print(prices)\n"
   ]
  },
  {
   "cell_type": "code",
   "execution_count": 19,
   "id": "342d9763-13ae-4c2c-9f27-403adabcc473",
   "metadata": {},
   "outputs": [
    {
     "name": "stdout",
     "output_type": "stream",
     "text": [
      "Call me at xxx-xxx-xxx or xxx-xxx-xxx.\n"
     ]
    }
   ],
   "source": [
    "# Mask Phone Numbers\n",
    "text = \"Call me at 987-654-3210 or 123-456-7890.\" # re.sub(r'\\d{3}-\\d{3}-\\d{4}', 'XXX-XXX-XXXX', text)\n",
    "masked = re.sub(r'\\d{3}-\\d{3}-\\d{4}', 'xxx-xxx-xxx', text) \n",
    "print(masked)\n"
   ]
  },
  {
   "cell_type": "code",
   "execution_count": 22,
   "id": "ae3218dc-464b-45c9-a917-22a18b1c541f",
   "metadata": {},
   "outputs": [
    {
     "name": "stdout",
     "output_type": "stream",
     "text": [
      "[('', 'www.google.com'), ('', 'example.org')]\n",
      "['www.google.com', 'example.org']\n"
     ]
    }
   ],
   "source": [
    "#  Extract Domain Names from URLs\n",
    "\n",
    "text = \"Visit https://www.google.com or http://example.org for more info.\"\n",
    "#domains = re.findall(r'https?://(www\\.)?([\\w.-]+)', text) # easy tha once again paru\n",
    "#print([match[1] for match in domains])\n",
    "\n",
    "domains = re.findall(r'https?://(wwww/.)?([\\w.-]+)', text)\n",
    "print(domains)\n",
    "print([match[1] for match in domains])"
   ]
  },
  {
   "cell_type": "code",
   "execution_count": 4,
   "id": "57cf4f96-ee62-4079-9f75-ee26df276014",
   "metadata": {},
   "outputs": [
    {
     "name": "stdout",
     "output_type": "stream",
     "text": [
      "Hello world!\n"
     ]
    }
   ],
   "source": [
    "#Remove HTML Tags\n",
    "import re\n",
    "text = \"<div>Hello <b>world</b>!</div>\"\n",
    "cleaned = re.sub(r'<[^>]+>','', text)  #< literaaly, [^>] matching except this >, + one or more character, > literally.\n",
    "print(cleaned)\n"
   ]
  },
  {
   "cell_type": "code",
   "execution_count": null,
   "id": "9ac3000d-6303-483d-a8d4-bd56238c0438",
   "metadata": {},
   "outputs": [],
   "source": []
  }
 ],
 "metadata": {
  "kernelspec": {
   "display_name": "Python 3 (ipykernel)",
   "language": "python",
   "name": "python3"
  },
  "language_info": {
   "codemirror_mode": {
    "name": "ipython",
    "version": 3
   },
   "file_extension": ".py",
   "mimetype": "text/x-python",
   "name": "python",
   "nbconvert_exporter": "python",
   "pygments_lexer": "ipython3",
   "version": "3.13.0"
  }
 },
 "nbformat": 4,
 "nbformat_minor": 5
}
