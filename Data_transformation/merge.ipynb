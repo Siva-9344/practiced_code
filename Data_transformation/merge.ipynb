{
 "cells": [
  {
   "cell_type": "code",
   "execution_count": 13,
   "id": "5dc22626-40f6-4601-bd60-c542c95aa37f",
   "metadata": {},
   "outputs": [
    {
     "name": "stdout",
     "output_type": "stream",
     "text": [
      "Customers DataFrame\n",
      "   Orders_ID  Customer_Id  Product_Id  Order_Amount\n",
      "0        101            1        1001           250\n",
      "1        102            2        1002           450\n",
      "2        103            2        1003           300\n",
      "3        104            4        1001           150\n",
      "4        105            5        1002           400\n",
      "\n",
      "Orders DataFrame\n",
      "   Customer_Id Customer_Name\n",
      "0            1         Alice\n",
      "1            2           Bob\n",
      "2            3       Charlie\n",
      "3            4         David\n",
      "\n",
      "Products DataFrame\n",
      "   Product_Id Product_Name  Price\n",
      "0        1001       Laptop   1000\n",
      "1        1002   Smartphone    600\n",
      "2        1003       Tablet    400\n"
     ]
    }
   ],
   "source": [
    "import pandas as pd\n",
    "\n",
    "# Customers DataFrame\n",
    "'''\n",
    "customers = pd.DataFrame({\n",
    "    'customer_id': [1, 2, 3, 4],\n",
    "    'customer_name': ['Alice', 'Bob', 'Charlie', 'David']\n",
    "})\n",
    "\n",
    "# Orders DataFrame\n",
    "orders = pd.DataFrame({\n",
    "    'order_id': [101, 102, 103, 104, 105],\n",
    "    'customer_id': [1, 2, 2, 4, 5],\n",
    "    'product_id': [1001, 1002, 1003, 1001, 1002],\n",
    "    'order_amount': [250, 450, 300, 150, 400]\n",
    "})\n",
    "\n",
    "# Products DataFrame\n",
    "products = pd.DataFrame({\n",
    "    'product_id': [1001, 1002, 1003],\n",
    "    'product_name': ['Laptop', 'Smartphone', 'Tablet'],\n",
    "    'price': [1000, 600, 400]\n",
    "})'''\n",
    "import pandas as pd\n",
    "\n",
    "# Customers DataFrame\n",
    "customers = pd.DataFrame({'Customer_Id': [1, 2, 3, 4],  # dataframe: 1\n",
    "                         'Customer_Name': ['Alice', 'Bob', 'Charlie', 'David']})\n",
    "\n",
    "\n",
    "# Orders DataFrame\n",
    "orders = pd.DataFrame({'Orders_ID': [101, 102, 103, 104, 105], # dataframe: 2\n",
    "                      'Customer_Id': [1, 2, 2, 4, 5],\n",
    "                      'Product_Id': [1001, 1002, 1003, 1001, 1002],\n",
    "                     'Order_Amount': [250, 450, 300, 150, 400]})\n",
    "\n",
    "# Products DataFrame\n",
    "products = pd.DataFrame({'Product_Id': [1001, 1002, 1003],\n",
    "                        'Product_Name': ['Laptop', 'Smartphone', 'Tablet'],\n",
    "                        'Price': [1000, 600, 400]})\n",
    "\n",
    "\n",
    "\n",
    "\n",
    "print(\"Customers DataFrame\") \n",
    "print(orders)\n",
    "print()\n",
    "print(\"Orders DataFrame\")\n",
    "print(customers)\n",
    "print()\n",
    "print('Products DataFrame')\n",
    "print(products)"
   ]
  },
  {
   "cell_type": "code",
   "execution_count": 17,
   "id": "dcf2c5ae-1027-4628-9008-9c35bae5f415",
   "metadata": {},
   "outputs": [
    {
     "name": "stdout",
     "output_type": "stream",
     "text": [
      "emp_table :\n",
      "   emp_id emp_name  dept_id\n",
      "0     101    Alice        1\n",
      "1     102      Bob        2\n",
      "2     103  Charlie        1\n",
      "3     104    David        3\n",
      "\n",
      "dep_table:\n",
      "   dept_id dept_name\n",
      "0        1        HR\n",
      "1        2   Finance\n"
     ]
    }
   ],
   "source": [
    "# Example 1: Left Join (All Employees + Dept Info)\n",
    "\n",
    "import pandas as pd\n",
    "\n",
    "employees = pd.DataFrame({\n",
    "    'emp_id': [101, 102, 103, 104],\n",
    "    'emp_name': ['Alice', 'Bob', 'Charlie', 'David'],\n",
    "    'dept_id': [1, 2, 1, 3]\n",
    "})\n",
    "\n",
    "departments = pd.DataFrame({\n",
    "    'dept_id': [1, 2],\n",
    "    'dept_name': ['HR', 'Finance']\n",
    "})\n",
    "print('emp_table :')\n",
    "print(employees)\n",
    "print()\n",
    "print('dep_table:')\n",
    "print(departments)"
   ]
  },
  {
   "cell_type": "code",
   "execution_count": 18,
   "id": "b49f05ad-f1dc-4b6e-94f8-6a1c5176b389",
   "metadata": {},
   "outputs": [
    {
     "name": "stdout",
     "output_type": "stream",
     "text": [
      "   emp_id emp_name  dept_id dept_name\n",
      "0     101    Alice        1        HR\n",
      "1     102      Bob        2   Finance\n",
      "2     103  Charlie        1        HR\n",
      "3     104    David        3       NaN\n"
     ]
    }
   ],
   "source": [
    "# Left join: keep all employees\n",
    "# emp_info = pd.merge(employees, departments, on='dept_id', how='left') \n",
    "#print(emp_info)"
   ]
  },
  {
   "cell_type": "code",
   "execution_count": 21,
   "id": "67149216-683f-4f43-8559-3686cab0269e",
   "metadata": {},
   "outputs": [
    {
     "name": "stdout",
     "output_type": "stream",
     "text": [
      "   emp_id emp_name  dept_id dept_name\n",
      "0     101    Alice        1        HR\n",
      "1     102      Bob        2   Finance\n",
      "2     103  Charlie        1        HR\n",
      "3     104    David        3       NaN\n"
     ]
    }
   ],
   "source": [
    "emp_info = pd.merge(employees, departments, on = 'dept_id', how = 'left')\n",
    "print(emp_info)\n",
    "'''\n",
    "David’s department ID 3 doesn’t exist in departments → dept_name = NaN.\n",
    "'''"
   ]
  },
  {
   "cell_type": "code",
   "execution_count": 22,
   "id": "28aa2635-f950-49c4-a987-f9a28db24001",
   "metadata": {},
   "outputs": [
    {
     "name": "stdout",
     "output_type": "stream",
     "text": [
      "   emp_id emp_name  dept_id dept_name\n",
      "0     101    Alice        1        HR\n",
      "1     103  Charlie        1        HR\n",
      "2     102      Bob        2   Finance\n"
     ]
    }
   ],
   "source": [
    "# Example 2: Right Join (All Departments + Employees)\n",
    "emp_info1 = pd.merge(employees, departments, on = 'dept_id', how = 'right')\n",
    "print(emp_info1)\n",
    "\n",
    "'''\n",
    "➡️ Only employees that matched dept 1 and 2.\n",
    "(No David, because his dept isn’t in departments).\n",
    "'''"
   ]
  },
  {
   "cell_type": "code",
   "execution_count": 24,
   "id": "308b785f-4611-4a44-9aa9-151983af7ffb",
   "metadata": {},
   "outputs": [
    {
     "name": "stdout",
     "output_type": "stream",
     "text": [
      "orders_table\n",
      "   order_id  customer_id  amount\n",
      "0       201            1     500\n",
      "1       202            2     700\n",
      "2       203            4     300\n",
      "\n",
      "customers_table\n",
      "   customer_id customer_name\n",
      "0            1         Alice\n",
      "1            2           Bob\n",
      "2            3       Charlie\n"
     ]
    }
   ],
   "source": [
    "# Example 3: Inner Join (Only Matching Orders & Customers)\n",
    "\n",
    "orders = pd.DataFrame({\n",
    "    'order_id': [201, 202, 203],\n",
    "    'customer_id': [1, 2, 4],\n",
    "    'amount': [500, 700, 300]\n",
    "})\n",
    "\n",
    "customers = pd.DataFrame({\n",
    "    'customer_id': [1, 2, 3],\n",
    "    'customer_name': ['Alice', 'Bob', 'Charlie']\n",
    "})\n",
    "\n",
    "print('orders_table')\n",
    "print(orders)\n",
    "print()\n",
    "print('customers_table')\n",
    "print(customers)"
   ]
  },
  {
   "cell_type": "code",
   "execution_count": 25,
   "id": "33b86851-b23a-4797-8489-462d6552df95",
   "metadata": {},
   "outputs": [
    {
     "name": "stdout",
     "output_type": "stream",
     "text": [
      "   order_id  customer_id  amount customer_name\n",
      "0       201            1     500         Alice\n",
      "1       202            2     700           Bob\n"
     ]
    }
   ],
   "source": [
    "# Inner Join (Only Matching Orders & Customers)\n",
    "order_info = pd.merge(orders, customers, on = 'customer_id', how = 'inner')\n",
    "print(order_info)\n",
    "\n",
    "# ➡️ customer_id=4 was dropped because it doesn’t exist in customers."
   ]
  },
  {
   "cell_type": "code",
   "execution_count": 26,
   "id": "b3d744fa-ab80-46b3-8884-92fb8b6e393e",
   "metadata": {},
   "outputs": [
    {
     "name": "stdout",
     "output_type": "stream",
     "text": [
      "   id value1\n",
      "0   1      A\n",
      "1   2      B\n",
      "2   3      C\n",
      "\n",
      "   id value2\n",
      "0   2      X\n",
      "1   3      Y\n",
      "2   4      Z\n"
     ]
    }
   ],
   "source": [
    "# ❓Quiz Time — Pick the correct output\n",
    "\n",
    "df1 = pd.DataFrame({\n",
    "    'id': [1, 2, 3],\n",
    "    'value1': ['A', 'B', 'C']\n",
    "})\n",
    "\n",
    "df2 = pd.DataFrame({\n",
    "    'id': [2, 3, 4],\n",
    "    'value2': ['X', 'Y', 'Z']\n",
    "})\n",
    "\n",
    "print(df1)\n",
    "print()\n",
    "print(df2)"
   ]
  },
  {
   "cell_type": "code",
   "execution_count": 31,
   "id": "67549af5-6e56-48f4-8649-9b1f4735a96b",
   "metadata": {},
   "outputs": [
    {
     "name": "stdout",
     "output_type": "stream",
     "text": [
      "customers_table :\n",
      "   customer_id customer_name\n",
      "0            1         Alice\n",
      "1            2           Bob\n",
      "2            3       Charlie\n",
      "\n",
      "products_table :\n",
      "   product_id product_name  price\n",
      "0         101       Laptop   1000\n",
      "1         102        Phone    600\n",
      "2         103       Tablet    400\n",
      "\n",
      "orders_tables :\n",
      "   order_id  customer_id  product_id  quantity\n",
      "0       201            1         101         1\n",
      "1       202            2         102         2\n",
      "2       203            1         103         1\n",
      "3       204            4         101         1\n"
     ]
    }
   ],
   "source": [
    "# quiz\n",
    "\n",
    "# customers table: \n",
    "customers = pd.DataFrame({\n",
    "    'customer_id': [1, 2, 3],\n",
    "    'customer_name': ['Alice', 'Bob', 'Charlie']\n",
    "})\n",
    "\n",
    "# products table:\n",
    "\n",
    "products = pd.DataFrame({\n",
    "    'product_id': [101, 102, 103],\n",
    "    'product_name': ['Laptop', 'Phone', 'Tablet'],\n",
    "    'price': [1000, 600, 400]\n",
    "})\n",
    "\n",
    "# ordrs table: \n",
    "\n",
    "orders = pd.DataFrame({\n",
    "    'order_id': [201, 202, 203, 204],\n",
    "    'customer_id': [1, 2, 1, 4],\n",
    "    'product_id': [101, 102, 103, 101],\n",
    "    'quantity': [1, 2, 1, 1]\n",
    "})\n",
    "\n",
    "print('customers_table :')\n",
    "print(customers)\n",
    "print()\n",
    "print('products_table :')      \n",
    "print(products)\n",
    "print()\n",
    "print('orders_tables :')\n",
    "print(orders)\n",
    "\n",
    "\n"
   ]
  },
  {
   "cell_type": "code",
   "execution_count": 47,
   "id": "e4e0ffea-8bd4-4125-a515-0df9779c435c",
   "metadata": {},
   "outputs": [
    {
     "name": "stdout",
     "output_type": "stream",
     "text": [
      "   order_id customer_name product_name  quantity  price  total_amount\n",
      "0       201         Alice       Laptop         1   1000          1000\n",
      "1       202           Bob        Phone         2    600          1200\n",
      "2       203         Alice       Tablet         1    400           400\n",
      "3       204           NaN       Laptop         1   1000          1000\n"
     ]
    }
   ],
   "source": [
    "#🎯 Task:\n",
    "\n",
    "\n",
    "# Use appropriate merge() functions to create a final order summary table that shows:\n",
    "# like: order_id | customer_name | product_name | quantity | price | total_amount\n",
    "\n",
    "# first merge customer and order table\n",
    "\n",
    "merge1 = pd.merge(customers, orders, on = 'customer_id', how = 'right')\n",
    "\n",
    "# next merge merge1 & products table\n",
    "final_info = pd.merge(merge1, products, on = 'product_id', how = 'inner')\n",
    "\n",
    "'''❌ Step 3: Fix this line 👇'''\n",
    "# final_info['total_amount'] = final_info['price'].sum()\n",
    "'''\n",
    "\n",
    "# correct code\n",
    "# Calculate total amount\n",
    "final_info['total_amount'] = final_info['price'] * final_info['quantity']\n",
    "\n",
    "'''\n",
    "final_info['total_amount'] = final_info['quantity'] * final_info['price']\n",
    "\n",
    "\n",
    "print(final_info[['order_id', 'customer_name', 'product_name', 'quantity', 'price', 'total_amount']])"
   ]
  },
  {
   "cell_type": "code",
   "execution_count": 4,
   "id": "de6835ec-0f5f-4a6e-a23f-15b8ab61dc8d",
   "metadata": {},
   "outputs": [
    {
     "name": "stdout",
     "output_type": "stream",
     "text": [
      "customers_table :\n",
      "   customer_id customer_name\n",
      "0            1         Alice\n",
      "1            2           Bob\n",
      "2            3       Charlie\n",
      "3            4         David\n",
      "\n",
      "products_table :\n",
      "   product_id product_name  price\n",
      "0        1001       Laptop   1000\n",
      "1        1002   Smartphone    600\n",
      "2        1003       Tablet    400\n",
      "\n",
      "orders_tables :\n",
      "   order_id  customer_id  product_id  order_amount\n",
      "0       101            1        1001           250\n",
      "1       102            2        1002           450\n",
      "2       103            2        1003           300\n",
      "3       104            4        1001           150\n",
      "4       105            5        1002           400\n"
     ]
    }
   ],
   "source": [
    "\n",
    "import pandas as pd\n",
    "customers = pd.DataFrame({\n",
    "    'customer_id': [1, 2, 3, 4],\n",
    "    'customer_name': ['Alice', 'Bob', 'Charlie', 'David']\n",
    "})\n",
    "\n",
    "# Orders DataFrame\n",
    "orders = pd.DataFrame({\n",
    "    'order_id': [101, 102, 103, 104, 105],\n",
    "    'customer_id': [1, 2, 2, 4, 5],\n",
    "    'product_id': [1001, 1002, 1003, 1001, 1002],\n",
    "    'order_amount': [250, 450, 300, 150, 400]\n",
    "})\n",
    "\n",
    "# Products DataFrame\n",
    "products = pd.DataFrame({\n",
    "    'product_id': [1001, 1002, 1003],\n",
    "    'product_name': ['Laptop', 'Smartphone', 'Tablet'],\n",
    "    'price': [1000, 600, 400]})\n",
    "\n",
    "print('customers_table :')\n",
    "print(customers)\n",
    "print()\n",
    "print('products_table :')      \n",
    "print(products)\n",
    "print()\n",
    "print('orders_tables :')\n",
    "print(orders)\n",
    "\n",
    "\n",
    "    "
   ]
  },
  {
   "cell_type": "code",
   "execution_count": 10,
   "id": "ae9f432b-552a-4dd4-b547-3360469430d9",
   "metadata": {},
   "outputs": [
    {
     "name": "stdout",
     "output_type": "stream",
     "text": [
      "Students: \n",
      "   student_id   name\n",
      "0           1   Riya\n",
      "1           2   Arun\n",
      "2           3  Sneha\n",
      "\n",
      "courses:\n",
      "   student_id        course\n",
      "0           1        Python\n",
      "1           3  Data Science\n"
     ]
    }
   ],
   "source": [
    "import pandas as pd\n",
    "\n",
    "students = pd.DataFrame({\n",
    "    'student_id': [1, 2, 3],\n",
    "    'name': ['Riya', 'Arun', 'Sneha']\n",
    "})\n",
    "\n",
    "courses = pd.DataFrame({\n",
    "    'student_id': [1, 3],\n",
    "    'course': ['Python', 'Data Science']\n",
    "})\n",
    "\n",
    "print('Students: ')\n",
    "print(students)\n",
    "print()\n",
    "print('courses:')\n",
    "print(courses)"
   ]
  },
  {
   "cell_type": "code",
   "execution_count": 12,
   "id": "21e27504-0987-4e63-bfa8-c9ac47771193",
   "metadata": {},
   "outputs": [
    {
     "name": "stdout",
     "output_type": "stream",
     "text": [
      "   student_id   name        course\n",
      "0           1   Riya        Python\n",
      "1           3  Sneha  Data Science\n"
     ]
    }
   ],
   "source": [
    "# INNER JOIN\n",
    "\n",
    "merge = pd.merge(students, courses, on = 'student_id', how = 'inner')\n",
    "print(merge)"
   ]
  },
  {
   "cell_type": "code",
   "execution_count": 13,
   "id": "4c40c01e-474c-4157-967b-d0687ee0900d",
   "metadata": {},
   "outputs": [
    {
     "name": "stdout",
     "output_type": "stream",
     "text": [
      "   author_id author_name     book_title\n",
      "0          1      Kavita  Magic of Mind\n",
      "1          2       Manoj     Code Smart\n",
      "2          3        Rita            NaN\n"
     ]
    }
   ],
   "source": [
    " # LEFT JOIN – Practice in Pandas\n",
    "\n",
    "authors = pd.DataFrame({\n",
    "    'author_id': [1, 2, 3],\n",
    "    'author_name': ['Kavita', 'Manoj', 'Rita']\n",
    "})\n",
    "\n",
    "books = pd.DataFrame({\n",
    "    'author_id': [1, 2],\n",
    "    'book_title': ['Magic of Mind', 'Code Smart']\n",
    "})\n",
    "\n",
    "result = pd.merge(authors, books, on = 'author_id', how = 'left')\n",
    "print(result)\n"
   ]
  },
  {
   "cell_type": "code",
   "execution_count": 16,
   "id": "c21a722b-564b-4cd9-8ca4-d37e28173eb7",
   "metadata": {},
   "outputs": [
    {
     "name": "stdout",
     "output_type": "stream",
     "text": [
      "   teacher_id teacher_name  subject\n",
      "0           1         Neha     Math\n",
      "1           2         Ravi      NaN\n",
      "2           3          NaN  English\n"
     ]
    }
   ],
   "source": [
    "# FULL OUTER JOIN – Practice in Pandas\n",
    "\n",
    "teachers = pd.DataFrame({\n",
    "    'teacher_id': [1, 2],\n",
    "    'teacher_name': ['Neha', 'Ravi']\n",
    "})\n",
    "\n",
    "classes = pd.DataFrame({\n",
    "    'teacher_id': [1, 3],\n",
    "    'subject': ['Math', 'English']\n",
    "})\n",
    "\n",
    "result = pd.merge(teachers, classes, on = 'teacher_id', how = 'outer')\n",
    "print(result)\n"
   ]
  },
  {
   "cell_type": "code",
   "execution_count": 18,
   "id": "10eb25f6-cafb-47a4-9c1e-bef4a1c0cd6a",
   "metadata": {},
   "outputs": [
    {
     "name": "stdout",
     "output_type": "stream",
     "text": [
      "employees:\n",
      "   emp_id emp_name department\n",
      "0       1    Alice         HR\n",
      "1       2      Bob         IT\n",
      "2       3  Charlie    Finance\n",
      "3       4    David  Marketing\n",
      "4       5      Eve         IT\n",
      "5       6    Frank         HR\n",
      "6       7    Grace    Finance\n",
      "\n",
      "salaries :\n",
      "   emp_id  salary\n",
      "0       2   60000\n",
      "1       3   70000\n",
      "2       4   80000\n",
      "3       6   65000\n",
      "4       8   75000\n"
     ]
    }
   ],
   "source": [
    "\n",
    "# Common Data for JOIN Practice\n",
    "\n",
    "import pandas as pd\n",
    "\n",
    "# 🔹 Employees Table\n",
    "employees = pd.DataFrame({\n",
    "    'emp_id': [1, 2, 3, 4, 5, 6, 7],\n",
    "    'emp_name': ['Alice', 'Bob', 'Charlie', 'David', 'Eve', 'Frank', 'Grace'],\n",
    "    'department': ['HR', 'IT', 'Finance', 'Marketing', 'IT', 'HR', 'Finance']\n",
    "})\n",
    "\n",
    "# 🔹 Salaries Table\n",
    "salaries = pd.DataFrame({\n",
    "    'emp_id': [2, 3, 4, 6, 8],\n",
    "    'salary': [60000, 70000, 80000, 65000, 75000]\n",
    "})\n",
    "\n",
    "print('employees :')\n",
    "print(employees)\n",
    "print()\n",
    "print('salaries :')\n",
    "print(salaries)\n"
   ]
  },
  {
   "cell_type": "code",
   "execution_count": 19,
   "id": "e699641c-2645-453b-872e-e226ff2924d8",
   "metadata": {},
   "outputs": [
    {
     "name": "stdout",
     "output_type": "stream",
     "text": [
      "   emp_id emp_name department  salary\n",
      "0       2      Bob         IT   60000\n",
      "1       3  Charlie    Finance   70000\n",
      "2       4    David  Marketing   80000\n",
      "3       6    Frank         HR   65000\n"
     ]
    }
   ],
   "source": [
    "# INNER JOIN (inner join is show only which rows are all match)\n",
    "\n",
    "merge = pd.merge(employees, salaries, on = 'emp_id', how = 'inner')\n",
    "print(merge)\n"
   ]
  },
  {
   "cell_type": "code",
   "execution_count": 24,
   "id": "fcc81e35-6dce-4f3a-95e4-6cbf3b6bf87b",
   "metadata": {},
   "outputs": [
    {
     "name": "stdout",
     "output_type": "stream",
     "text": [
      "   emp_id emp_name department   salary\n",
      "0       1    Alice         HR      NaN\n",
      "1       2      Bob         IT  60000.0\n",
      "2       3  Charlie    Finance  70000.0\n",
      "3       4    David  Marketing  80000.0\n",
      "4       5      Eve         IT      NaN\n",
      "5       6    Frank         HR  65000.0\n",
      "6       7    Grace    Finance      NaN\n"
     ]
    }
   ],
   "source": [
    "# 2️⃣ LEFT JOIN\n",
    "merge1 = pd.merge(employees, salaries, on = 'emp_id', how = 'left')\n",
    "print(merge1)"
   ]
  },
  {
   "cell_type": "code",
   "execution_count": 29,
   "id": "dbecbd1b-48c8-4801-98a2-9cd6f971a08d",
   "metadata": {},
   "outputs": [
    {
     "name": "stdout",
     "output_type": "stream",
     "text": [
      "   emp_id emp_name department  salary\n",
      "0       2      Bob         IT   60000\n",
      "1       3  Charlie    Finance   70000\n",
      "2       4    David  Marketing   80000\n",
      "3       6    Frank         HR   65000\n",
      "4       8      NaN        NaN   75000\n"
     ]
    }
   ],
   "source": [
    "# 3️⃣ RIGHT JOIN\n",
    "\n",
    "merge2 = pd.merge(employees, salaries, on = 'emp_id', how = 'right' )\n",
    "print(merge2)\n"
   ]
  },
  {
   "cell_type": "code",
   "execution_count": 30,
   "id": "c8b2f356-00c8-4df6-9f20-223067ec2052",
   "metadata": {},
   "outputs": [
    {
     "name": "stdout",
     "output_type": "stream",
     "text": [
      "   emp_id emp_name department   salary\n",
      "0       1    Alice         HR      NaN\n",
      "1       2      Bob         IT  60000.0\n",
      "2       3  Charlie    Finance  70000.0\n",
      "3       4    David  Marketing  80000.0\n",
      "4       5      Eve         IT      NaN\n",
      "5       6    Frank         HR  65000.0\n",
      "6       7    Grace    Finance      NaN\n",
      "7       8      NaN        NaN  75000.0\n"
     ]
    }
   ],
   "source": [
    "#  FULL OUTER JOIN\n",
    "merge = pd.merge(employees, salaries, on = 'emp_id', how = 'outer')\n",
    "print(merge)"
   ]
  },
  {
   "cell_type": "code",
   "execution_count": null,
   "id": "be140cec-b295-4b1d-ab02-7e31fd689353",
   "metadata": {},
   "outputs": [],
   "source": []
  }
 ],
 "metadata": {
  "kernelspec": {
   "display_name": "Python 3 (ipykernel)",
   "language": "python",
   "name": "python3"
  },
  "language_info": {
   "codemirror_mode": {
    "name": "ipython",
    "version": 3
   },
   "file_extension": ".py",
   "mimetype": "text/x-python",
   "name": "python",
   "nbconvert_exporter": "python",
   "pygments_lexer": "ipython3",
   "version": "3.13.0"
  }
 },
 "nbformat": 4,
 "nbformat_minor": 5
}
