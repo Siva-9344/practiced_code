{
 "cells": [
  {
   "cell_type": "code",
   "execution_count": 1,
   "id": "ce4a17ce-bd17-479f-a833-38f00964bd2e",
   "metadata": {},
   "outputs": [
    {
     "name": "stdout",
     "output_type": "stream",
     "text": [
      "     CustomerId        Name  CreditScore  Country  Gender  Age  Tenure  \\\n",
      "0      15634602    Hargrave          619   France  Female   42       2   \n",
      "1      15634602    Hargrave          619   France  Female   42       2   \n",
      "2      15634602        Onio          502   France  Female   42       8   \n",
      "3      15634602        Onio          502   France  Female   42       8   \n",
      "4      15737888    Mitchell          850    Spain  Female   43       2   \n",
      "..          ...         ...          ...      ...     ...  ...     ...   \n",
      "448    15694860    Uspensky          675   France  Female   38       6   \n",
      "449    15658169        Cook          778    Spain  Female   47       6   \n",
      "450    15794396     Newbold          494  Germany  Female   38       7   \n",
      "451    15785798  Uchechukwu          850   France    Male   40       9   \n",
      "452    15710825       Ch'en          592    Spain    Male   31       7   \n",
      "\n",
      "       Balance  NumOfProducts     Salary       Date      Dep  Cumulative_Sal  \\\n",
      "0         0.00              1  101348.88 2023-01-01     Bank       101348.88   \n",
      "1         0.00              1  101348.88 2023-01-02     Bank       202697.76   \n",
      "2    159660.80              3  112542.58 2023-01-03     Bank       315240.34   \n",
      "3    159660.80              3  112542.58 2023-01-04     Bank       427782.92   \n",
      "4    125510.82              1   79084.10 2023-01-05     Bank       506867.02   \n",
      "..         ...            ...        ...        ...      ...             ...   \n",
      "448   68065.80              1  138777.00 2025-01-31  Entrepr      2519950.55   \n",
      "449  127299.34              2  124694.99 2025-01-31  Entrepr      2644645.54   \n",
      "450  174937.64              1   40084.32 2025-01-31  Entrepr      2684729.86   \n",
      "451       0.00              2  119232.33 2025-01-31  Entrepr      2803962.19   \n",
      "452  110071.10              1   43921.36 2025-01-31  Entrepr      2847883.55   \n",
      "\n",
      "           Avg_Sal  \n",
      "0     81025.139412  \n",
      "1     81025.139412  \n",
      "2     81025.139412  \n",
      "3     81025.139412  \n",
      "4     81025.139412  \n",
      "..             ...  \n",
      "448  105477.168519  \n",
      "449  105477.168519  \n",
      "450  105477.168519  \n",
      "451  105477.168519  \n",
      "452  105477.168519  \n",
      "\n",
      "[453 rows x 14 columns]\n"
     ]
    }
   ],
   "source": [
    "import pandas as pd\n",
    "file_path = r\"C:\\Users\\Sivaraman\\Desktop\\study\\data analytics\\Data (for practice)\\Bank_details_new1.xlsx\"\n",
    "df = pd.read_excel(file_path)\n",
    "print(df)"
   ]
  },
  {
   "cell_type": "code",
   "execution_count": 4,
   "id": "4685fa25-2d2b-40ba-8298-75ee2b956982",
   "metadata": {},
   "outputs": [
    {
     "name": "stdout",
     "output_type": "stream",
     "text": [
      "        Salary    dep_avg_sal\n",
      "0    101348.88   81025.139412\n",
      "1    101348.88   81025.139412\n",
      "2    112542.58   81025.139412\n",
      "3    112542.58   81025.139412\n",
      "4     79084.10   81025.139412\n",
      "..         ...            ...\n",
      "448  138777.00  105477.168519\n",
      "449  124694.99  105477.168519\n",
      "450   40084.32  105477.168519\n",
      "451  119232.33  105477.168519\n",
      "452   43921.36  105477.168519\n",
      "\n",
      "[453 rows x 2 columns]\n"
     ]
    }
   ],
   "source": [
    "#transform() - Same shape transformation (vectorized)\n",
    "#Add group mean\n",
    "df['dep_avg_sal'] = df.groupby('Dep')['Salary'].transform('mean')\n",
    "print(df[['Salary', 'dep_avg_sal']])\n",
    "\n",
    "\n"
   ]
  },
  {
   "cell_type": "code",
   "execution_count": 5,
   "id": "649acc85-bca4-4498-a1a8-2b1932dd6f98",
   "metadata": {},
   "outputs": [
    {
     "name": "stdout",
     "output_type": "stream",
     "text": [
      "        Salary  Norm_sal\n",
      "0    101348.88  0.567726\n",
      "1    101348.88  0.567726\n",
      "2    112542.58  0.880413\n",
      "3    112542.58  0.880413\n",
      "4     79084.10 -0.054221\n",
      "..         ...       ...\n",
      "448  138777.00  0.747110\n",
      "449  124694.99  0.431168\n",
      "450   40084.32 -1.467144\n",
      "451  119232.33  0.308609\n",
      "452   43921.36 -1.381057\n",
      "\n",
      "[453 rows x 2 columns]\n"
     ]
    }
   ],
   "source": [
    "#You're normalizing the salaries within each department using Z-score normalization.\n",
    "\n",
    "#uses\n",
    "'''\n",
    "✅ Why is this useful?\n",
    "Some departments might have higher or lower salary ranges.\n",
    "\n",
    "Normalizing helps when comparing data across groups.\n",
    "\n",
    "Especially useful in machine learning and statistical analysis.\n",
    "'''\n",
    "\n",
    "df['Norm_sal'] = df.groupby('Dep')['Salary'].transform(lambda x : (x-x.mean())/ x.std() )\n",
    "print(df[['Salary', 'Norm_sal']])"
   ]
  },
  {
   "cell_type": "code",
   "execution_count": 7,
   "id": "f8212e8e-bf7f-429c-9a87-7ef2c0c8205a",
   "metadata": {},
   "outputs": [
    {
     "name": "stdout",
     "output_type": "stream",
     "text": [
      "         Dep    Max_sal\n",
      "0       Bank  149756.71\n",
      "1       Bank  149756.71\n",
      "2       Bank  149756.71\n",
      "3       Bank  149756.71\n",
      "4       Bank  149756.71\n",
      "..       ...        ...\n",
      "448  Entrepr  199645.45\n",
      "449  Entrepr  199645.45\n",
      "450  Entrepr  199645.45\n",
      "451  Entrepr  199645.45\n",
      "452  Entrepr  199645.45\n",
      "\n",
      "[453 rows x 2 columns]\n"
     ]
    }
   ],
   "source": [
    "# Find max in each group\n",
    "df['Max_sal'] = df.groupby('Dep')['Salary'].transform('max')\n",
    "print(df[['Dep', 'Max_sal']])"
   ]
  },
  {
   "cell_type": "code",
   "execution_count": 14,
   "id": "01b9a9cf-35f7-47a7-b67f-89b7e66d4004",
   "metadata": {},
   "outputs": [
    {
     "name": "stdout",
     "output_type": "stream",
     "text": [
      "   CustomerId        Name  CreditScore  Country  Gender  Age  Tenure  \\\n",
      "0    15574012         Chu          645    Spain    Male   44       8   \n",
      "1    15599792     Dimauro          545   France  Female   26       1   \n",
      "2    15676715   Madukaego          640   France    Male   68       9   \n",
      "3    15625047         Yen          846   France  Female   38       5   \n",
      "4    15661670    Chidozie          524  Germany  Female   31       8   \n",
      "5    15743040  Kuznetsova          724  Germany    Male   41       2   \n",
      "6    15577657    McDonald          732   France    Male   41       8   \n",
      "7    15755196      Lavine          834   France  Female   49       2   \n",
      "\n",
      "     Balance  NumOfProducts     Salary       Date  Cumulative_Sal  \\\n",
      "0  113755.78              2  149756.71 2023-01-06       656623.73   \n",
      "1       0.00              2  199638.56 2024-02-25      2767624.70   \n",
      "2       0.00              2  199493.38 2024-06-13      7627290.64   \n",
      "3       0.00              1  187616.16 2023-02-23       187616.16   \n",
      "4  107818.63              1  199725.39 2023-05-28      7046658.59   \n",
      "5  127892.57              2  199645.45 2025-01-28       658966.01   \n",
      "6       0.00              2  170886.17 2023-01-21       398701.42   \n",
      "7  131394.56              1  194365.76 2023-03-14      1257544.04   \n",
      "\n",
      "         Avg_Sal    dep_avg_sal  Norm_sal    Max_sal  \n",
      "0   81025.139412   81025.139412  1.919958  149756.71  \n",
      "1  103670.349855  103670.349855  1.681423  199638.56  \n",
      "2  104797.498897  104797.498897  1.586118  199493.38  \n",
      "3  121433.960000  121433.960000  1.228416  187616.16  \n",
      "4  103442.183353  103442.183353  1.603298  199725.39  \n",
      "5  105477.168519  105477.168519  2.112745  199645.45  \n",
      "6   94951.165714   94951.165714  1.113860  170886.17  \n",
      "7  111233.181250  111233.181250  1.597314  194365.76  \n"
     ]
    }
   ],
   "source": [
    "# apply() - Custom group logic (can change structure)\n",
    "# 1. Get top salary per department\n",
    "top_sal = df.groupby('Dep').apply(lambda x : x.nlargest(1, 'Salary'), include_groups = False).reset_index(drop = True)\n",
    "print(top_sal)\n",
    "\n",
    "# include_groups = False, its is used to prevent the warning\n",
    "\n",
    "'''By default, the grouping column 'Dep' is included in each group x.\n",
    "\n",
    "But in newer versions (and future ones), pandas plans to exclude the grouping column from the group x by default.'''\n"
   ]
  },
  {
   "cell_type": "code",
   "execution_count": 20,
   "id": "ef329b06-5bb5-4ab7-b1a4-349600c8d763",
   "metadata": {},
   "outputs": [
    {
     "name": "stdout",
     "output_type": "stream",
     "text": [
      "        Dep    Max_Sal   Min_Sal      Range\n",
      "0      Bank  149756.71   5097.67  144659.04\n",
      "1  Business  199638.56   4861.72  194776.84\n",
      "2       Clg  199493.38    371.05  199122.33\n",
      "3        DA  187616.16  38433.35  149182.81\n",
      "4   Doctors  199725.39    600.36  199125.03\n",
      "5   Entrepr  199645.45  27474.81  172170.64\n",
      "6        IT  170886.17   8487.75  162398.42\n",
      "7    Police  194365.76  27822.99  166542.77\n"
     ]
    }
   ],
   "source": [
    "#  Custom aggregation with multiple columns\n",
    "\n",
    "def custom_summ(x):\n",
    "    return pd.Series({\n",
    "        'Max_Sal' : x['Salary'].max(),\n",
    "        'Min_Sal' : x['Salary'].min(),\n",
    "        'Range' : x['Salary'].max() - x['Salary'].min()\n",
    "    })\n",
    "summary = df.groupby('Dep').apply(custom_summ, include_groups = False).reset_index() # include_groups = False it is used to prevent the old and new version error.\n",
    "print(summary)\n",
    "\n",
    "# sometime one kind of warning is came.\n",
    "#what is tells you\n",
    "\n",
    "'''🟡 What is DeprecationWarning?\n",
    "It’s a warning that tells you:\n",
    "\n",
    "⚠️ “This thing you’re using still works now, but it might stop working in future versions of Python or Pandas.'''\n",
    "\n",
    "# fix it: include_groups = False"
   ]
  },
  {
   "cell_type": "code",
   "execution_count": 28,
   "id": "3e141503-0581-49b2-9af8-c9609bccb36c",
   "metadata": {},
   "outputs": [
    {
     "name": "stdout",
     "output_type": "stream",
     "text": [
      "        Salary  Salary_rank\n",
      "0    101348.88          5.5\n",
      "1    101348.88          5.5\n",
      "2    112542.58          3.5\n",
      "3    112542.58          3.5\n",
      "4     79084.10          8.0\n",
      "..         ...          ...\n",
      "448  138777.00          6.0\n",
      "449  124694.99         10.0\n",
      "450   40084.32         26.0\n",
      "451  119232.33         13.0\n",
      "452   43921.36         24.0\n",
      "\n",
      "[453 rows x 2 columns]\n"
     ]
    }
   ],
   "source": [
    "# Add Rank within group\n",
    "\n",
    "\n",
    "df['Salary_rank'] = df.groupby('Dep')['Salary'].transform(lambda x: x.rank(ascending = False))\n",
    "print(df[['Salary', 'Salary_rank']])\n",
    "\n",
    "# .apply() might break if your DataFrame's row order/index is changed. .transform() is always safe ✅"
   ]
  },
  {
   "cell_type": "code",
   "execution_count": null,
   "id": "12f2fb36-1ef7-4e02-a1f2-3ed996995847",
   "metadata": {},
   "outputs": [],
   "source": []
  }
 ],
 "metadata": {
  "kernelspec": {
   "display_name": "Python 3 (ipykernel)",
   "language": "python",
   "name": "python3"
  },
  "language_info": {
   "codemirror_mode": {
    "name": "ipython",
    "version": 3
   },
   "file_extension": ".py",
   "mimetype": "text/x-python",
   "name": "python",
   "nbconvert_exporter": "python",
   "pygments_lexer": "ipython3",
   "version": "3.13.0"
  }
 },
 "nbformat": 4,
 "nbformat_minor": 5
}
