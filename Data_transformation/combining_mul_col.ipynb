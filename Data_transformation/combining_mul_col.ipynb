{
 "cells": [
  {
   "cell_type": "code",
   "execution_count": 1,
   "id": "515be1f1-4026-4887-ac86-6ce12d56fe46",
   "metadata": {},
   "outputs": [
    {
     "name": "stdout",
     "output_type": "stream",
     "text": [
      "     CustomerId        Name  CreditScore  Country  Gender  Age  Tenure  \\\n",
      "0      15634602    Hargrave          619   France  Female   42       2   \n",
      "1      15634602    Hargrave          619   France  Female   42       2   \n",
      "2      15634602        Onio          502   France  Female   42       8   \n",
      "3      15634602        Onio          502   France  Female   42       8   \n",
      "4      15737888    Mitchell          850    Spain  Female   43       2   \n",
      "..          ...         ...          ...      ...     ...  ...     ...   \n",
      "448    15694860    Uspensky          675   France  Female   38       6   \n",
      "449    15658169        Cook          778    Spain  Female   47       6   \n",
      "450    15794396     Newbold          494  Germany  Female   38       7   \n",
      "451    15785798  Uchechukwu          850   France    Male   40       9   \n",
      "452    15710825       Ch'en          592    Spain    Male   31       7   \n",
      "\n",
      "       Balance  NumOfProducts     Salary       Date      Dep  \n",
      "0         0.00              1  101348.88 2023-01-01     Bank  \n",
      "1         0.00              1  101348.88 2023-01-02     Bank  \n",
      "2    159660.80              3  112542.58 2023-01-03     Bank  \n",
      "3    159660.80              3  112542.58 2023-01-04     Bank  \n",
      "4    125510.82              1   79084.10 2023-01-05     Bank  \n",
      "..         ...            ...        ...        ...      ...  \n",
      "448   68065.80              1  138777.00 2025-01-31  Entrepr  \n",
      "449  127299.34              2  124694.99 2025-01-31  Entrepr  \n",
      "450  174937.64              1   40084.32 2025-01-31  Entrepr  \n",
      "451       0.00              2  119232.33 2025-01-31  Entrepr  \n",
      "452  110071.10              1   43921.36 2025-01-31  Entrepr  \n",
      "\n",
      "[453 rows x 12 columns]\n"
     ]
    }
   ],
   "source": [
    "import pandas as pd\n",
    "file_path = r\"C:\\Users\\Sivaraman\\Desktop\\study\\data analytics\\Data (for practice)\\bank_details_withdate.xlsx\"\n",
    "df = pd.read_excel(file_path)\n",
    "print(df)"
   ]
  },
  {
   "cell_type": "code",
   "execution_count": 3,
   "id": "34fe3be4-d84d-45ef-88bd-2c693c99c711",
   "metadata": {},
   "outputs": [
    {
     "name": "stdout",
     "output_type": "stream",
     "text": [
      "           Name  Country       Name-Country\n",
      "0      Hargrave   France    Hargrave-France\n",
      "1      Hargrave   France    Hargrave-France\n",
      "2          Onio   France        Onio-France\n",
      "3          Onio   France        Onio-France\n",
      "4      Mitchell    Spain     Mitchell-Spain\n",
      "..          ...      ...                ...\n",
      "448    Uspensky   France    Uspensky-France\n",
      "449        Cook    Spain         Cook-Spain\n",
      "450     Newbold  Germany    Newbold-Germany\n",
      "451  Uchechukwu   France  Uchechukwu-France\n",
      "452       Ch'en    Spain        Ch'en-Spain\n",
      "\n",
      "[453 rows x 3 columns]\n"
     ]
    }
   ],
   "source": [
    "# Combining Name and Country\n",
    "df['Name-Country'] = df['Name'] +\"-\"+df['Country']\n",
    "print(df[['Name','Country','Name-Country']])"
   ]
  },
  {
   "cell_type": "code",
   "execution_count": 4,
   "id": "878010c4-835d-461b-8160-674564647c14",
   "metadata": {},
   "outputs": [
    {
     "name": "stdout",
     "output_type": "stream",
     "text": [
      "0        Hargrave-France\n",
      "1        Hargrave-France\n",
      "2            Onio-France\n",
      "3            Onio-France\n",
      "4         Mitchell-Spain\n",
      "             ...        \n",
      "448      Uspensky-France\n",
      "449           Cook-Spain\n",
      "450      Newbold-Germany\n",
      "451    Uchechukwu-France\n",
      "452          Ch'en-Spain\n",
      "Name: Name_Country, Length: 453, dtype: object\n"
     ]
    }
   ],
   "source": [
    "# Combining Name and Country, same thing but diffrent way\n",
    "df['Name_Country'] = df['Name'].str.cat(df['Country'], sep = '-')\n",
    "print(df['Name_Country'])"
   ]
  },
  {
   "cell_type": "code",
   "execution_count": 6,
   "id": "5f88780e-b297-436b-8adf-36d5e962fe4d",
   "metadata": {},
   "outputs": [
    {
     "name": "stdout",
     "output_type": "stream",
     "text": [
      "0        Hargrave-France\n",
      "1        Hargrave-France\n",
      "2            Onio-France\n",
      "3            Onio-France\n",
      "4         Mitchell-Spain\n",
      "             ...        \n",
      "448      Uspensky-France\n",
      "449           Cook-Spain\n",
      "450      Newbold-Germany\n",
      "451    Uchechukwu-France\n",
      "452          Ch'en-Spain\n",
      "Name: Name_Country, Length: 453, dtype: object\n"
     ]
    }
   ],
   "source": [
    "df['Name_Country'] = df['Name'].str.cat(df['Country'], sep = '-', na_rep = 'Unknown') # na_rep is used to handle missing value.\n",
    "print(df['Name_Country'])"
   ]
  },
  {
   "cell_type": "code",
   "execution_count": 19,
   "id": "09af0fcf-6fef-4360-a643-fca63a417123",
   "metadata": {},
   "outputs": [
    {
     "name": "stdout",
     "output_type": "stream",
     "text": [
      "0        Hargrave (France) - 42 years\n",
      "1        Hargrave (France) - 42 years\n",
      "2            Onio (France) - 42 years\n",
      "3            Onio (France) - 42 years\n",
      "4         Mitchell (Spain) - 43 years\n",
      "                    ...              \n",
      "448      Uspensky (France) - 38 years\n",
      "449           Cook (Spain) - 47 years\n",
      "450      Newbold (Germany) - 38 years\n",
      "451    Uchechukwu (France) - 40 years\n",
      "452          Ch'en (Spain) - 31 years\n",
      "Name: CustomerInfo, Length: 453, dtype: object\n"
     ]
    }
   ],
   "source": [
    "#Using apply() with lambda Function\n",
    "df['CustomerInfo'] = df.apply(lambda x: f\"{x['Name']} ({x['Country']}) - {x['Age']} years\", axis = 1)\n",
    "print(df['CustomerInfo'])"
   ]
  },
  {
   "cell_type": "code",
   "execution_count": 29,
   "id": "4157e570-141c-4bf4-8a05-5f21d83c4153",
   "metadata": {},
   "outputs": [
    {
     "name": "stdout",
     "output_type": "stream",
     "text": [
      "0      Hargrave|France|Female\n",
      "1      Hargrave|France|Female\n",
      "2          Onio|France|Female\n",
      "3          Onio|France|Female\n",
      "4       Mitchell|Spain|Female\n",
      "                ...          \n",
      "448    Uspensky|France|Female\n",
      "449         Cook|Spain|Female\n",
      "450    Newbold|Germany|Female\n",
      "451    Uchechukwu|France|Male\n",
      "452          Ch'en|Spain|Male\n",
      "Name: Combined, Length: 453, dtype: object\n",
      "\n",
      "0        Hargrave|France|42\n",
      "1        Hargrave|France|42\n",
      "2            Onio|France|42\n",
      "3            Onio|France|42\n",
      "4         Mitchell|Spain|43\n",
      "               ...         \n",
      "448      Uspensky|France|38\n",
      "449           Cook|Spain|47\n",
      "450      Newbold|Germany|38\n",
      "451    Uchechukwu|France|40\n",
      "452          Ch'en|Spain|31\n",
      "Name: Combined2, Length: 453, dtype: object\n"
     ]
    }
   ],
   "source": [
    "#Using agg() for Multiple Columns\n",
    "#agg() is useful for custom join operations.\n",
    "\n",
    "df['Combined'] = df[['Name', 'Country', 'Gender']].agg('|'.join, axis = 1)\n",
    "print(df['Combined'])\n",
    "print()\n",
    "df['Combined2'] = df[['Name','Country','Age']].astype(str).agg('|'.join, axis = 1)\n",
    "print(df['Combined2'])"
   ]
  },
  {
   "cell_type": "code",
   "execution_count": 31,
   "id": "e7dfc2f5-1bf3-4286-88a4-79074dea8b87",
   "metadata": {},
   "outputs": [
    {
     "name": "stdout",
     "output_type": "stream",
     "text": [
      "0        Hargrave|42|France\n",
      "1        Hargrave|42|France\n",
      "2            Onio|42|France\n",
      "3            Onio|42|France\n",
      "4         Mitchell|43|Spain\n",
      "               ...         \n",
      "448      Uspensky|38|France\n",
      "449           Cook|47|Spain\n",
      "450      Newbold|38|Germany\n",
      "451    Uchechukwu|40|France\n",
      "452          Ch'en|31|Spain\n",
      "Name: Combined3, Length: 453, dtype: object\n"
     ]
    }
   ],
   "source": [
    " #Using map() and join()\n",
    "#If all columns are strings, join() can be a neat solution\n",
    "'''df[\"Combined\"] = df[[\"Name\", \"Country\", \"Gender\"]].astype(str).apply(lambda x: \" | \".join(x), axis=1)\n",
    "'''\n",
    "df['Combined3'] = df[['Name','Age','Country']].astype(str).apply(lambda x: \"|\".join(x), axis = 1)\n",
    "print(df['Combined3'])\n",
    "\n"
   ]
  },
  {
   "cell_type": "code",
   "execution_count": 32,
   "id": "ef785ad3-ab0a-4f7d-8a54-09b3f9b32c05",
   "metadata": {},
   "outputs": [
    {
     "name": "stdout",
     "output_type": "stream",
     "text": [
      "0        15634602|Hargrave|42|France\n",
      "1        15634602|Hargrave|42|France\n",
      "2            15634602|Onio|42|France\n",
      "3            15634602|Onio|42|France\n",
      "4         15737888|Mitchell|43|Spain\n",
      "                   ...              \n",
      "448      15694860|Uspensky|38|France\n",
      "449           15658169|Cook|47|Spain\n",
      "450      15794396|Newbold|38|Germany\n",
      "451    15785798|Uchechukwu|40|France\n",
      "452          15710825|Ch'en|31|Spain\n",
      "Name: Details, Length: 453, dtype: object\n"
     ]
    }
   ],
   "source": [
    "#Using astype(str) for Non-String Columns\n",
    "df['Details'] = df['CustomerId'].astype(str)+ '|' + df['Name']+ '|' + df['Age'].astype(str) + '|'+ df['Country']\n",
    "print(df['Details'])\n"
   ]
  },
  {
   "cell_type": "code",
   "execution_count": 40,
   "id": "c994174d-290b-4237-95b0-95e1f9983796",
   "metadata": {},
   "outputs": [
    {
     "name": "stdout",
     "output_type": "stream",
     "text": [
      "0             Hargrave\n",
      "1             Hargrave\n",
      "2      Low CreditScore\n",
      "3      Low CreditScore\n",
      "4             Mitchell\n",
      "            ...       \n",
      "448           Uspensky\n",
      "449               Cook\n",
      "450    Low CreditScore\n",
      "451         Uchechukwu\n",
      "452    Low CreditScore\n",
      "Name: Name_Conditional, Length: 453, dtype: object\n",
      "\n",
      "Conditional:this guys getting salary above 1L\n",
      "0        Hargrave\n",
      "1        Hargrave\n",
      "2            Onio\n",
      "3            Onio\n",
      "4      Low Salary\n",
      "          ...    \n",
      "448      Uspensky\n",
      "449          Cook\n",
      "450    Low Salary\n",
      "451    Uchechukwu\n",
      "452    Low Salary\n",
      "Name: Name_Conditional, Length: 453, dtype: object\n"
     ]
    }
   ],
   "source": [
    "# Combining Columns with Conditions\n",
    "#Useful when merging data conditionally.\n",
    "print('Conditional:this codition depond on creaditscore')\n",
    "'''df[\"Name_Conditional\"] = df.apply(lambda x: x[\"Name\"] if x[\"CreditScore\"] > 600 else \"Low Credit\", axis=1)\n",
    "'''\n",
    "df['Name_Conditional'] = df.apply(lambda x: x['Name'] if x['CreditScore'] > 600 else \"Low CreditScore\",axis = 1)\n",
    "print(df['Name_Conditional'])\n",
    "\n",
    "print()\n",
    "print('Conditional:this guys getting salary above 1L')\n",
    "\n",
    "df['Name_Conditional'] = df.apply(lambda x:x['Name'] if x['Salary'] > 100000 else 'Low Salary', axis = 1)\n",
    "print(df['Name_Conditional'])\n"
   ]
  },
  {
   "cell_type": "code",
   "execution_count": 47,
   "id": "de5f9775-db8c-458b-a8a4-04f743825af7",
   "metadata": {},
   "outputs": [
    {
     "name": "stdout",
     "output_type": "stream",
     "text": [
      "0      15634602|2023-01-01\n",
      "1      15634602|2023-01-02\n",
      "2      15634602|2023-01-03\n",
      "3      15634602|2023-01-04\n",
      "4      15737888|2023-01-05\n",
      "              ...         \n",
      "448    15694860|2025-01-31\n",
      "449    15658169|2025-01-31\n",
      "450    15794396|2025-01-31\n",
      "451    15785798|2025-01-31\n",
      "452    15710825|2025-01-31\n",
      "Name: Unique, Length: 453, dtype: object\n"
     ]
    }
   ],
   "source": [
    "#Creating a Unique ID\n",
    "#Sometimes, you may need a composite unique key.\n",
    "df['Unique'] = df['CustomerId'].astype(str) + '|' + df['Date'].astype(str)\n",
    "print(df['Unique'])"
   ]
  },
  {
   "cell_type": "code",
   "execution_count": 50,
   "id": "910c82aa-5754-434d-9386-34de24a6b239",
   "metadata": {},
   "outputs": [
    {
     "name": "stdout",
     "output_type": "stream",
     "text": [
      "0      33989.293333\n",
      "1      33989.293333\n",
      "2      90901.793333\n",
      "3      90901.793333\n",
      "4      68481.640000\n",
      "           ...     \n",
      "448    69172.600000\n",
      "449    84257.443333\n",
      "450    71838.653333\n",
      "451    40027.443333\n",
      "452    51528.153333\n",
      "Name: Avg_Fin, Length: 453, dtype: float64\n"
     ]
    }
   ],
   "source": [
    "#Creating an \"Avg_Financials\" Feature\n",
    "df['Avg_Fin'] = df[['Salary', 'Balance', 'CreditScore']].mean(axis = 1)\n",
    "print(df['Avg_Fin'])"
   ]
  },
  {
   "cell_type": "code",
   "execution_count": 52,
   "id": "f7e25c23-31f5-48b3-afef-6ad3c7bd5a07",
   "metadata": {},
   "outputs": [
    {
     "name": "stdout",
     "output_type": "stream",
     "text": [
      "0       50674.440\n",
      "1       50674.440\n",
      "2           0.000\n",
      "3           0.000\n",
      "4      102297.460\n",
      "          ...    \n",
      "448    103421.400\n",
      "449    125997.165\n",
      "450         0.000\n",
      "451     59616.165\n",
      "452         0.000\n",
      "Name: Avg_HighCredit, Length: 453, dtype: float64\n"
     ]
    }
   ],
   "source": [
    "#Mean Based on a Condition\n",
    "#Average Financial Strength Only for High Credit Score Customers\n",
    "'''df[\"Avg_HighCredit\"] = df.apply(lambda x: x[[\"Balance\", \"Salary\"]].mean() if x[\"CreditScore\"] > 600 else 0, axis=1)\n",
    "'''\n",
    "\n",
    "df['Avg_HighCredit'] = df.apply(lambda x: x[['Salary', 'Balance']].mean() if x['CreditScore'] > 600 else 0, axis = 1)\n",
    "print(df['Avg_HighCredit'])"
   ]
  },
  {
   "cell_type": "code",
   "execution_count": 1,
   "id": "76236137-9075-480d-96f2-fc3177c3efe5",
   "metadata": {},
   "outputs": [
    {
     "data": {
      "text/plain": [
       "'✅ Single square brackets (x[\"Balance\"]) → Selects one column (single value).\\n✅ Double square brackets (x[[\"Balance\", \"Salary\"]]) → Selects multiple columns (subset of row).\\n✅ Necessary for .mean() when averaging multiple columns inside apply().'"
      ]
     },
     "execution_count": 1,
     "metadata": {},
     "output_type": "execute_result"
    }
   ],
   "source": [
    "#hint\n",
    "'''✅ Single square brackets (x[\"Balance\"]) → Selects one column (single value).\n",
    "✅ Double square brackets (x[[\"Balance\", \"Salary\"]]) → Selects multiple columns (subset of row).\n",
    "✅ Necessary for .mean() when averaging multiple columns inside apply().'''\n"
   ]
  },
  {
   "cell_type": "code",
   "execution_count": 2,
   "id": "581b4ee0-e529-4027-a72b-c7ed23551fbe",
   "metadata": {},
   "outputs": [
    {
     "ename": "NameError",
     "evalue": "name 'df' is not defined",
     "output_type": "error",
     "traceback": [
      "\u001b[1;31m---------------------------------------------------------------------------\u001b[0m",
      "\u001b[1;31mNameError\u001b[0m                                 Traceback (most recent call last)",
      "Cell \u001b[1;32mIn[2], line 4\u001b[0m\n\u001b[0;32m      1\u001b[0m \u001b[38;5;66;03m#Mean with Custom Weighting\u001b[39;00m\n\u001b[0;32m      2\u001b[0m \u001b[38;5;66;03m#If Balance is more important than Salary, we can give it a higher weight.\u001b[39;00m\n\u001b[1;32m----> 4\u001b[0m df[\u001b[38;5;124m'\u001b[39m\u001b[38;5;124mweighted_financial_scaore\u001b[39m\u001b[38;5;124m'\u001b[39m] \u001b[38;5;241m=\u001b[39m \u001b[43mdf\u001b[49m\u001b[38;5;241m.\u001b[39mapply(\u001b[38;5;28;01mlambda\u001b[39;00m x: (\u001b[38;5;241m0.7\u001b[39m \u001b[38;5;241m*\u001b[39m x[\u001b[38;5;124m'\u001b[39m\u001b[38;5;124mSalary\u001b[39m\u001b[38;5;124m'\u001b[39m] \u001b[38;5;241m+\u001b[39m \u001b[38;5;241m0.3\u001b[39m \u001b[38;5;241m*\u001b[39m x[\u001b[38;5;124m'\u001b[39m\u001b[38;5;124mBalance\u001b[39m\u001b[38;5;124m'\u001b[39m]), axis \u001b[38;5;241m=\u001b[39m \u001b[38;5;241m1\u001b[39m)\n\u001b[0;32m      5\u001b[0m \u001b[38;5;28mprint\u001b[39m(df[\u001b[38;5;124m'\u001b[39m\u001b[38;5;124mweighted_financial_scaore\u001b[39m\u001b[38;5;124m'\u001b[39m])\n",
      "\u001b[1;31mNameError\u001b[0m: name 'df' is not defined"
     ]
    }
   ],
   "source": [
    "#Mean with Custom Weighting\n",
    "#If Balance is more important than Salary, we can give it a higher weight.\n",
    "\n",
    "df['weighted_financial_scaore'] = df.apply(lambda x: (0.7 * x['Salary'] + 0.3 * x['Balance']), axis = 1)\n",
    "print(df['weighted_financial_scaore'])"
   ]
  },
  {
   "cell_type": "code",
   "execution_count": 3,
   "id": "4df26153-a2df-404c-ac17-9c1507a11c56",
   "metadata": {},
   "outputs": [
    {
     "name": "stdout",
     "output_type": "stream",
     "text": [
      "     CustomerId        Name  CreditScore  Country  Gender  Age  Tenure  \\\n",
      "0      15634602    Hargrave          619   France  Female   42       2   \n",
      "1      15634602    Hargrave          619   France  Female   42       2   \n",
      "2      15634602        Onio          502   France  Female   42       8   \n",
      "3      15634602        Onio          502   France  Female   42       8   \n",
      "4      15737888    Mitchell          850    Spain  Female   43       2   \n",
      "..          ...         ...          ...      ...     ...  ...     ...   \n",
      "448    15694860    Uspensky          675   France  Female   38       6   \n",
      "449    15658169        Cook          778    Spain  Female   47       6   \n",
      "450    15794396     Newbold          494  Germany  Female   38       7   \n",
      "451    15785798  Uchechukwu          850   France    Male   40       9   \n",
      "452    15710825       Ch'en          592    Spain    Male   31       7   \n",
      "\n",
      "       Balance  NumOfProducts     Salary       Date      Dep  \n",
      "0         0.00              1  101348.88 2023-01-01     Bank  \n",
      "1         0.00              1  101348.88 2023-01-02     Bank  \n",
      "2    159660.80              3  112542.58 2023-01-03     Bank  \n",
      "3    159660.80              3  112542.58 2023-01-04     Bank  \n",
      "4    125510.82              1   79084.10 2023-01-05     Bank  \n",
      "..         ...            ...        ...        ...      ...  \n",
      "448   68065.80              1  138777.00 2025-01-31  Entrepr  \n",
      "449  127299.34              2  124694.99 2025-01-31  Entrepr  \n",
      "450  174937.64              1   40084.32 2025-01-31  Entrepr  \n",
      "451       0.00              2  119232.33 2025-01-31  Entrepr  \n",
      "452  110071.10              1   43921.36 2025-01-31  Entrepr  \n",
      "\n",
      "[453 rows x 12 columns]\n"
     ]
    }
   ],
   "source": [
    "import pandas as pd\n",
    "file_path = r\"C:\\Users\\Sivaraman\\Desktop\\study\\data analytics\\Data (for practice)\\bank_details_withdate.xlsx\"\n",
    "df = pd.read_excel(file_path)\n",
    "print(df)"
   ]
  },
  {
   "cell_type": "code",
   "execution_count": 4,
   "id": "a192d420-3181-446f-9618-fd539d3fb471",
   "metadata": {},
   "outputs": [
    {
     "name": "stdout",
     "output_type": "stream",
     "text": [
      "0       70944.216\n",
      "1       70944.216\n",
      "2      126678.046\n",
      "3      126678.046\n",
      "4       93012.116\n",
      "          ...    \n",
      "448    117563.640\n",
      "449    125476.295\n",
      "450     80540.316\n",
      "451     83462.631\n",
      "452     63766.282\n",
      "Name: weighted_financial_scaore, Length: 453, dtype: float64\n"
     ]
    }
   ],
   "source": [
    "#Mean with Custom Weighting\n",
    "#If Balance is more important than Salary, we can give it a higher weight.\n",
    "\n",
    "df['weighted_financial_scaore'] = df.apply(lambda x: (0.7 * x['Salary'] + 0.3 * x['Balance']), axis = 1)\n",
    "print(df['weighted_financial_scaore'])"
   ]
  },
  {
   "cell_type": "code",
   "execution_count": 7,
   "id": "fa002d46-f5d1-4bb1-af47-5794e500960e",
   "metadata": {},
   "outputs": [
    {
     "name": "stdout",
     "output_type": "stream",
     "text": [
      "        Salary  Avg_sal_per_cus\n",
      "0    101348.88        106945.73\n",
      "1    101348.88        106945.73\n",
      "2    112542.58        106945.73\n",
      "3    112542.58        106945.73\n",
      "4     79084.10         79084.10\n",
      "..         ...              ...\n",
      "448  138777.00        138777.00\n",
      "449  124694.99        124694.99\n",
      "450   40084.32         40084.32\n",
      "451  119232.33        119232.33\n",
      "452   43921.36         43921.36\n",
      "\n",
      "[453 rows x 2 columns]\n"
     ]
    }
   ],
   "source": [
    "# Group-wise Mean for Feature Engineering\n",
    "# Average Salary per Customer\n",
    "df['Avg_sal_per_cus'] = df.groupby('CustomerId')['Salary'].transform('mean') # groupby is used for that mean is applied every each row\n",
    "print(df[['Salary','Avg_sal_per_cus']])"
   ]
  },
  {
   "cell_type": "code",
   "execution_count": 14,
   "id": "1c175144-63d7-4397-8fb6-30e5839f3f01",
   "metadata": {},
   "outputs": [
    {
     "name": "stdout",
     "output_type": "stream",
     "text": [
      "        Salary  Rolling_avg_sal\n",
      "0    101348.88       101348.880\n",
      "1    101348.88       101348.880\n",
      "2    112542.58       106945.730\n",
      "3    112542.58       112542.580\n",
      "4     79084.10        95813.340\n",
      "..         ...              ...\n",
      "448  138777.00       119605.415\n",
      "449  124694.99       131735.995\n",
      "450   40084.32        82389.655\n",
      "451  119232.33        79658.325\n",
      "452   43921.36        81576.845\n",
      "\n",
      "[453 rows x 2 columns]\n"
     ]
    }
   ],
   "source": [
    "# Rolling Mean (Moving Average)\n",
    "# If analyzing trends over time, a moving average can be useful.\n",
    "#df[\"Rolling_Avg_Salary\"] = df[\"Salary\"].rolling(window=2, min_periods=1).mean()\n",
    "\n",
    "df['Rolling_avg_sal'] = df['Salary'].rolling(window = 2, min_periods = 1).mean()\n",
    "print(df[['Salary', 'Rolling_avg_sal']])"
   ]
  },
  {
   "cell_type": "code",
   "execution_count": 13,
   "id": "aed4e1fc-2695-4ed9-9c0e-12e78a9018b6",
   "metadata": {},
   "outputs": [
    {
     "name": "stdout",
     "output_type": "stream",
     "text": [
      "Index(['CustomerId', 'Name', 'CreditScore', 'Country', 'Gender', 'Age',\n",
      "       'Tenure', 'Balance', 'NumOfProducts', 'Salary', 'Date', 'Dep',\n",
      "       'weighted_financial_scaore', 'Avg_sal_per_cus', 'Rolling_avg_sal'],\n",
      "      dtype='object')\n"
     ]
    }
   ],
   "source": [
    "print(df.columns)"
   ]
  },
  {
   "cell_type": "code",
   "execution_count": null,
   "id": "cd29547b-882f-4acc-8777-3d5894318f81",
   "metadata": {},
   "outputs": [],
   "source": []
  }
 ],
 "metadata": {
  "kernelspec": {
   "display_name": "Python 3 (ipykernel)",
   "language": "python",
   "name": "python3"
  },
  "language_info": {
   "codemirror_mode": {
    "name": "ipython",
    "version": 3
   },
   "file_extension": ".py",
   "mimetype": "text/x-python",
   "name": "python",
   "nbconvert_exporter": "python",
   "pygments_lexer": "ipython3",
   "version": "3.13.0"
  }
 },
 "nbformat": 4,
 "nbformat_minor": 5
}
