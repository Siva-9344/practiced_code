{
 "cells": [
  {
   "cell_type": "code",
   "execution_count": 13,
   "id": "fd57485e-6725-47c5-9295-d334cef31246",
   "metadata": {},
   "outputs": [],
   "source": [
    "import pandas as pd\n",
    "\n",
    "df = pd.DataFrame({\n",
    "    'Full_Name': ['John-Smith', 'Alice-Johnson', 'Bob-Lee']\n",
    "})"
   ]
  },
  {
   "cell_type": "code",
   "execution_count": 14,
   "id": "32b96f28-9511-4b82-9561-07bc0683e2e3",
   "metadata": {},
   "outputs": [
    {
     "name": "stdout",
     "output_type": "stream",
     "text": [
      "       Full_Name\n",
      "0     John-Smith\n",
      "1  Alice-Johnson\n",
      "2        Bob-Lee\n"
     ]
    }
   ],
   "source": [
    "print(df)"
   ]
  },
  {
   "cell_type": "code",
   "execution_count": 15,
   "id": "19a7ecf6-f7ed-46f3-b396-66a8e3a8563f",
   "metadata": {},
   "outputs": [
    {
     "name": "stdout",
     "output_type": "stream",
     "text": [
      "       Full_Name First_name Last_name\n",
      "0     John-Smith       John     Smith\n",
      "1  Alice-Johnson      Alice   Johnson\n",
      "2        Bob-Lee        Bob       Lee\n"
     ]
    }
   ],
   "source": [
    "# Split Column by Delimiter (e.g., space, comma, hyphen)\n",
    "# Use .str.split() to split text.\n",
    "\n",
    "df[['First_name', 'Last_name']] = df['Full_Name'].str.split('-' , expand = True)\n",
    "print(df)\n"
   ]
  },
  {
   "cell_type": "code",
   "execution_count": 16,
   "id": "9f4312b6-5832-4a7f-83fc-b621583b668e",
   "metadata": {},
   "outputs": [
    {
     "name": "stdout",
     "output_type": "stream",
     "text": [
      "             Email\n",
      "0   john@gmail.com\n",
      "1  alice@yahoo.com\n",
      "2  bob@outlook.com\n"
     ]
    }
   ],
   "source": [
    "df = pd.DataFrame({\n",
    "    'Email': ['john@gmail.com', 'alice@yahoo.com', 'bob@outlook.com']\n",
    "})\n",
    "print(df)"
   ]
  },
  {
   "cell_type": "code",
   "execution_count": 17,
   "id": "6210d660-7030-4e2c-875b-8ad94db8ed0a",
   "metadata": {},
   "outputs": [
    {
     "name": "stdout",
     "output_type": "stream",
     "text": [
      "             Email       Domain\n",
      "0   john@gmail.com    gmail.com\n",
      "1  alice@yahoo.com    yahoo.com\n",
      "2  bob@outlook.com  outlook.com\n"
     ]
    }
   ],
   "source": [
    "df['Domain'] = df['Email'].str.split('@').str[1]\n",
    "print(df)"
   ]
  },
  {
   "cell_type": "code",
   "execution_count": 18,
   "id": "9c070917-5381-46f8-a351-32cc18ac2c1f",
   "metadata": {},
   "outputs": [
    {
     "name": "stdout",
     "output_type": "stream",
     "text": [
      "                    Location\n",
      "0   USA-California-San Diego\n",
      "1  India-Karnataka-Bangalore\n"
     ]
    }
   ],
   "source": [
    "df = pd.DataFrame({\n",
    "    'Location': ['USA-California-San Diego', 'India-Karnataka-Bangalore']\n",
    "})\n",
    "\n",
    "print(df)"
   ]
  },
  {
   "cell_type": "code",
   "execution_count": 20,
   "id": "e573a447-b094-4129-8d36-2f2a2ef07f6d",
   "metadata": {},
   "outputs": [
    {
     "name": "stdout",
     "output_type": "stream",
     "text": [
      "                    Location Country       State       City\n",
      "0   USA-California-San Diego     USA  California  San Diego\n",
      "1  India-Karnataka-Bangalore   India   Karnataka  Bangalore\n"
     ]
    }
   ],
   "source": [
    "df[['Country', 'State', 'City']] = df['Location'].str.split('-', n = 2, expand = True)\n",
    "print(df)"
   ]
  },
  {
   "cell_type": "code",
   "execution_count": 25,
   "id": "45f03d98-fc45-4ffc-96e2-2c56463a1b4e",
   "metadata": {},
   "outputs": [
    {
     "name": "stdout",
     "output_type": "stream",
     "text": [
      "           ID\n",
      "0  EMP001-USA\n",
      "1  EMP002-IND\n",
      "2   EMP003-UK\n"
     ]
    }
   ],
   "source": [
    "df = pd.DataFrame({\n",
    "    'ID': ['EMP001-USA', 'EMP002-IND', 'EMP003-UK']\n",
    "})\n",
    "print(df)"
   ]
  },
  {
   "cell_type": "code",
   "execution_count": 29,
   "id": "6460daa6-f213-4e95-bd97-1d73be0c08ac",
   "metadata": {},
   "outputs": [
    {
     "name": "stdout",
     "output_type": "stream",
     "text": [
      "           ID  Emp_ID Country_Code\n",
      "0  EMP001-USA  EMP001          USA\n",
      "1  EMP002-IND  EMP002          IND\n",
      "2   EMP003-UK  EMP003           UK\n"
     ]
    }
   ],
   "source": [
    "df[['Emp_ID', 'Country_Code']] = df['ID'].str.extract(r'(\\w+)-(\\w+)')\n",
    "print(df)\n",
    "\n",
    "'''\n",
    "Metacharacters: These are special characters in regex that have a meaning beyond their literal form:\n",
    "\n",
    ". — Matches any single character (except newline).\n",
    "\n",
    "\\d — Matches any digit (0-9).\n",
    "\n",
    "\\w — Matches any word character (letters, digits, or underscores).\n",
    "\n",
    "\\s — Matches any whitespace (space, tab, newline).\n",
    "\n",
    "+ — Matches one or more of the previous character or group.\n",
    "'''"
   ]
  },
  {
   "cell_type": "code",
   "execution_count": 39,
   "id": "4cfddb7d-3ed6-4f83-b4f6-e2dd8aa6e291",
   "metadata": {},
   "outputs": [
    {
     "name": "stdout",
     "output_type": "stream",
     "text": [
      "             Timestamp\n",
      "0  2025-04-12 10:30:00\n",
      "1  2025-04-11 14:45:00\n"
     ]
    }
   ],
   "source": [
    "# Split DateTime column\n",
    "\n",
    "df = pd.DataFrame({'Timestamp': ['2025-04-12 10:30:00', '2025-04-11 14:45:00']})\n",
    "print(df)\n",
    "\n"
   ]
  },
  {
   "cell_type": "code",
   "execution_count": 41,
   "id": "57fd32c7-60b8-4dd3-bc8f-64862f58bc3d",
   "metadata": {},
   "outputs": [
    {
     "name": "stdout",
     "output_type": "stream",
     "text": [
      "             Timestamp\n",
      "0  2025-04-12 10:30:00\n",
      "1  2025-04-11 14:45:00\n",
      "             Timestamp        Date      Time\n",
      "0  2025-04-12 10:30:00  2025-04-12  10:30:00\n",
      "1  2025-04-11 14:45:00  2025-04-11  14:45:00\n"
     ]
    }
   ],
   "source": [
    "df = pd.DataFrame({'Timestamp': ['2025-04-12 10:30:00', '2025-04-11 14:45:00']})\n",
    "print(df)\n",
    "df['Date'] = pd.to_datetime(df['Timestamp']).dt.date\n",
    "df['Time'] = pd.to_datetime(df['Timestamp']).dt.time\n",
    "print(df)"
   ]
  },
  {
   "cell_type": "code",
   "execution_count": null,
   "id": "176cabe4-5870-468f-92b0-5f9133299e6e",
   "metadata": {},
   "outputs": [],
   "source": []
  }
 ],
 "metadata": {
  "kernelspec": {
   "display_name": "Python 3 (ipykernel)",
   "language": "python",
   "name": "python3"
  },
  "language_info": {
   "codemirror_mode": {
    "name": "ipython",
    "version": 3
   },
   "file_extension": ".py",
   "mimetype": "text/x-python",
   "name": "python",
   "nbconvert_exporter": "python",
   "pygments_lexer": "ipython3",
   "version": "3.13.0"
  }
 },
 "nbformat": 4,
 "nbformat_minor": 5
}
