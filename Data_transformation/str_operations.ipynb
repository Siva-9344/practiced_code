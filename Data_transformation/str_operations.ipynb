{
 "cells": [
  {
   "cell_type": "code",
   "execution_count": 2,
   "id": "6fbd27b7-aa58-4ec4-93d3-0f986ee2f5a0",
   "metadata": {},
   "outputs": [
    {
     "name": "stdout",
     "output_type": "stream",
     "text": [
      "     CustomerId        Name  CreditScore  Country  Gender  Age  Tenure  \\\n",
      "0      15634602    Hargrave          619   France  Female   42       2   \n",
      "1      15634602    Hargrave          619   France  Female   42       2   \n",
      "2      15634602        Onio          502   France  Female   42       8   \n",
      "3      15634602        Onio          502   France  Female   42       8   \n",
      "4      15737888    Mitchell          850    Spain  Female   43       2   \n",
      "..          ...         ...          ...      ...     ...  ...     ...   \n",
      "448    15694860    Uspensky          675   France  Female   38       6   \n",
      "449    15658169        Cook          778    Spain  Female   47       6   \n",
      "450    15794396     Newbold          494  Germany  Female   38       7   \n",
      "451    15785798  Uchechukwu          850   France    Male   40       9   \n",
      "452    15710825       Ch'en          592    Spain    Male   31       7   \n",
      "\n",
      "       Balance  NumOfProducts     Salary       Date      Dep  \n",
      "0         0.00              1  101348.88 2023-01-01     Bank  \n",
      "1         0.00              1  101348.88 2023-01-02     Bank  \n",
      "2    159660.80              3  112542.58 2023-01-03     Bank  \n",
      "3    159660.80              3  112542.58 2023-01-04     Bank  \n",
      "4    125510.82              1   79084.10 2023-01-05     Bank  \n",
      "..         ...            ...        ...        ...      ...  \n",
      "448   68065.80              1  138777.00 2025-01-31  Entrepr  \n",
      "449  127299.34              2  124694.99 2025-01-31  Entrepr  \n",
      "450  174937.64              1   40084.32 2025-01-31  Entrepr  \n",
      "451       0.00              2  119232.33 2025-01-31  Entrepr  \n",
      "452  110071.10              1   43921.36 2025-01-31  Entrepr  \n",
      "\n",
      "[453 rows x 12 columns]\n"
     ]
    }
   ],
   "source": [
    "import pandas as pd\n",
    "file_path = \"C:/Users/Sivaraman/Desktop/study/data analytics/Data (for practice)/bank_details_withdate.xlsx\"\n",
    "df = pd.read_excel(file_path)\n",
    "print(df)"
   ]
  },
  {
   "cell_type": "code",
   "execution_count": 4,
   "id": "d25ab308-f10f-4066-93c7-1ddcd2d52472",
   "metadata": {},
   "outputs": [],
   "source": [
    "# handling case sensitivity\n",
    "df['Name'] = df['Name'].str.lower()"
   ]
  },
  {
   "cell_type": "code",
   "execution_count": 6,
   "id": "3b71bf3b-ec33-4e08-9a02-80dba9554914",
   "metadata": {},
   "outputs": [],
   "source": [
    "df.columns = df.columns.str.lower()"
   ]
  },
  {
   "cell_type": "code",
   "execution_count": 7,
   "id": "6ba41f43-2d32-401a-9477-d4df6a09642a",
   "metadata": {},
   "outputs": [
    {
     "data": {
      "text/plain": [
       "Index(['customerid', 'name', 'creditscore', 'country', 'gender', 'age',\n",
       "       'tenure', 'balance', 'numofproducts', 'salary', 'date', 'dep'],\n",
       "      dtype='object')"
      ]
     },
     "execution_count": 7,
     "metadata": {},
     "output_type": "execute_result"
    }
   ],
   "source": [
    "df.columns"
   ]
  },
  {
   "cell_type": "code",
   "execution_count": 8,
   "id": "f2cc3390-477a-490d-9f68-3a7f3208684c",
   "metadata": {},
   "outputs": [
    {
     "data": {
      "text/plain": [
       "Index(['CUSTOMERID', 'NAME', 'CREDITSCORE', 'COUNTRY', 'GENDER', 'AGE',\n",
       "       'TENURE', 'BALANCE', 'NUMOFPRODUCTS', 'SALARY', 'DATE', 'DEP'],\n",
       "      dtype='object')"
      ]
     },
     "execution_count": 8,
     "metadata": {},
     "output_type": "execute_result"
    }
   ],
   "source": [
    "df.columns = df.columns.str.upper()\n",
    "df.columns"
   ]
  },
  {
   "cell_type": "code",
   "execution_count": 11,
   "id": "d57cdf7c-6c6c-4adf-a933-28ac34985e2b",
   "metadata": {},
   "outputs": [],
   "source": [
    "'''df = df.applymap(lambda x: x.lower() if isinstance(x, str) else x)\n",
    "'''\n",
    "\n",
    "df1 = df.apply(lambda x: x.lower() if isinstance(x, str) else x)"
   ]
  },
  {
   "cell_type": "code",
   "execution_count": 12,
   "id": "bb336129-c5b0-4acb-b3c1-3560cae87ecc",
   "metadata": {},
   "outputs": [
    {
     "name": "stdout",
     "output_type": "stream",
     "text": [
      "     CUSTOMERID        NAME  CREDITSCORE  COUNTRY  GENDER  AGE  TENURE  \\\n",
      "0      15634602    hargrave          619   France  Female   42       2   \n",
      "1      15634602    hargrave          619   France  Female   42       2   \n",
      "2      15634602        onio          502   France  Female   42       8   \n",
      "3      15634602        onio          502   France  Female   42       8   \n",
      "4      15737888    mitchell          850    Spain  Female   43       2   \n",
      "..          ...         ...          ...      ...     ...  ...     ...   \n",
      "448    15694860    uspensky          675   France  Female   38       6   \n",
      "449    15658169        cook          778    Spain  Female   47       6   \n",
      "450    15794396     newbold          494  Germany  Female   38       7   \n",
      "451    15785798  uchechukwu          850   France    Male   40       9   \n",
      "452    15710825       ch'en          592    Spain    Male   31       7   \n",
      "\n",
      "       BALANCE  NUMOFPRODUCTS     SALARY       DATE      DEP  \n",
      "0         0.00              1  101348.88 2023-01-01     Bank  \n",
      "1         0.00              1  101348.88 2023-01-02     Bank  \n",
      "2    159660.80              3  112542.58 2023-01-03     Bank  \n",
      "3    159660.80              3  112542.58 2023-01-04     Bank  \n",
      "4    125510.82              1   79084.10 2023-01-05     Bank  \n",
      "..         ...            ...        ...        ...      ...  \n",
      "448   68065.80              1  138777.00 2025-01-31  Entrepr  \n",
      "449  127299.34              2  124694.99 2025-01-31  Entrepr  \n",
      "450  174937.64              1   40084.32 2025-01-31  Entrepr  \n",
      "451       0.00              2  119232.33 2025-01-31  Entrepr  \n",
      "452  110071.10              1   43921.36 2025-01-31  Entrepr  \n",
      "\n",
      "[453 rows x 12 columns]\n"
     ]
    }
   ],
   "source": [
    "print(df1)"
   ]
  },
  {
   "cell_type": "code",
   "execution_count": 22,
   "id": "5ba76a64-c57c-4857-b6df-effcdcb0de88",
   "metadata": {},
   "outputs": [],
   "source": [
    "df1 = df.astype('str')"
   ]
  },
  {
   "cell_type": "code",
   "execution_count": 14,
   "id": "e71d16c2-bc55-432a-9c54-bd9ea1527e3d",
   "metadata": {},
   "outputs": [
    {
     "name": "stdout",
     "output_type": "stream",
     "text": [
      "     CUSTOMERID        NAME  CREDITSCORE  COUNTRY  GENDER  AGE  TENURE  \\\n",
      "0      15634602    hargrave          619   France  Female   42       2   \n",
      "1      15634602    hargrave          619   France  Female   42       2   \n",
      "2      15634602        onio          502   France  Female   42       8   \n",
      "3      15634602        onio          502   France  Female   42       8   \n",
      "4      15737888    mitchell          850    Spain  Female   43       2   \n",
      "..          ...         ...          ...      ...     ...  ...     ...   \n",
      "448    15694860    uspensky          675   France  Female   38       6   \n",
      "449    15658169        cook          778    Spain  Female   47       6   \n",
      "450    15794396     newbold          494  Germany  Female   38       7   \n",
      "451    15785798  uchechukwu          850   France    Male   40       9   \n",
      "452    15710825       ch'en          592    Spain    Male   31       7   \n",
      "\n",
      "       BALANCE  NUMOFPRODUCTS     SALARY       DATE      DEP  \n",
      "0         0.00              1  101348.88 2023-01-01     Bank  \n",
      "1         0.00              1  101348.88 2023-01-02     Bank  \n",
      "2    159660.80              3  112542.58 2023-01-03     Bank  \n",
      "3    159660.80              3  112542.58 2023-01-04     Bank  \n",
      "4    125510.82              1   79084.10 2023-01-05     Bank  \n",
      "..         ...            ...        ...        ...      ...  \n",
      "448   68065.80              1  138777.00 2025-01-31  Entrepr  \n",
      "449  127299.34              2  124694.99 2025-01-31  Entrepr  \n",
      "450  174937.64              1   40084.32 2025-01-31  Entrepr  \n",
      "451       0.00              2  119232.33 2025-01-31  Entrepr  \n",
      "452  110071.10              1   43921.36 2025-01-31  Entrepr  \n",
      "\n",
      "[453 rows x 12 columns]\n"
     ]
    }
   ],
   "source": [
    "print(df1)"
   ]
  },
  {
   "cell_type": "code",
   "execution_count": 23,
   "id": "d8085c98-c209-4a17-921c-a02ab609f483",
   "metadata": {},
   "outputs": [
    {
     "data": {
      "text/plain": [
       "CUSTOMERID       object\n",
       "NAME             object\n",
       "CREDITSCORE      object\n",
       "COUNTRY          object\n",
       "GENDER           object\n",
       "AGE              object\n",
       "TENURE           object\n",
       "BALANCE          object\n",
       "NUMOFPRODUCTS    object\n",
       "SALARY           object\n",
       "DATE             object\n",
       "DEP              object\n",
       "dtype: object"
      ]
     },
     "execution_count": 23,
     "metadata": {},
     "output_type": "execute_result"
    }
   ],
   "source": [
    "df1.dtypes"
   ]
  },
  {
   "cell_type": "code",
   "execution_count": 18,
   "id": "d52daea6-d777-4801-9f16-9fa57cbbd08e",
   "metadata": {},
   "outputs": [],
   "source": [
    "df['NAME'] = df['NAME'].astype(str)"
   ]
  },
  {
   "cell_type": "code",
   "execution_count": 27,
   "id": "6909ba15-c5a4-426a-8896-f2f276b4ef0a",
   "metadata": {},
   "outputs": [
    {
     "ename": "AttributeError",
     "evalue": "'builtin_function_or_method' object has no attribute 'capitalize'",
     "output_type": "error",
     "traceback": [
      "\u001b[1;31m---------------------------------------------------------------------------\u001b[0m",
      "\u001b[1;31mAttributeError\u001b[0m                            Traceback (most recent call last)",
      "Cell \u001b[1;32mIn[27], line 1\u001b[0m\n\u001b[1;32m----> 1\u001b[0m df1\u001b[38;5;241m.\u001b[39mcolumns \u001b[38;5;241m=\u001b[39m [\u001b[43mcol\u001b[49m\u001b[38;5;241;43m.\u001b[39;49m\u001b[43mcapitalize\u001b[49m() \u001b[38;5;28;01mfor\u001b[39;00m col \u001b[38;5;129;01min\u001b[39;00m df1\u001b[38;5;241m.\u001b[39mcolumns]\n",
      "\u001b[1;31mAttributeError\u001b[0m: 'builtin_function_or_method' object has no attribute 'capitalize'"
     ]
    }
   ],
   "source": [
    "df1.columns = [col.capitalize() for col in df1.columns]"
   ]
  },
  {
   "cell_type": "code",
   "execution_count": 25,
   "id": "8b5831ad-0e12-4f59-9f04-a748c478d0c1",
   "metadata": {},
   "outputs": [
    {
     "name": "stdout",
     "output_type": "stream",
     "text": [
      "Index([<built-in method capitalize of str object at 0x000002A06952DD30>,\n",
      "       <built-in method capitalize of str object at 0x000002A0673F81E0>,\n",
      "       <built-in method capitalize of str object at 0x000002A06952DCF0>,\n",
      "       <built-in method capitalize of str object at 0x000002A069376F70>,\n",
      "       <built-in method capitalize of str object at 0x000002A06940F120>,\n",
      "       <built-in method capitalize of str object at 0x000002A06940F150>,\n",
      "       <built-in method capitalize of str object at 0x000002A06940F180>,\n",
      "       <built-in method capitalize of str object at 0x000002A06940F1E0>,\n",
      "       <built-in method capitalize of str object at 0x000002A06952DCB0>,\n",
      "       <built-in method capitalize of str object at 0x000002A06940F2A0>,\n",
      "       <built-in method capitalize of str object at 0x000002A06940F0F0>,\n",
      "       <built-in method capitalize of str object at 0x000002A06940F360>],\n",
      "      dtype='object')\n"
     ]
    }
   ],
   "source": [
    "print(df1.columns)"
   ]
  },
  {
   "cell_type": "code",
   "execution_count": 26,
   "id": "575d37fe-2bb9-43c8-8953-f73e244ae649",
   "metadata": {},
   "outputs": [
    {
     "data": {
      "text/plain": [
       "Index([<built-in method capitalize of str object at 0x000002A06952DD30>,\n",
       "       <built-in method capitalize of str object at 0x000002A0673F81E0>,\n",
       "       <built-in method capitalize of str object at 0x000002A06952DCF0>,\n",
       "       <built-in method capitalize of str object at 0x000002A069376F70>,\n",
       "       <built-in method capitalize of str object at 0x000002A06940F120>,\n",
       "       <built-in method capitalize of str object at 0x000002A06940F150>,\n",
       "       <built-in method capitalize of str object at 0x000002A06940F180>,\n",
       "       <built-in method capitalize of str object at 0x000002A06940F1E0>,\n",
       "       <built-in method capitalize of str object at 0x000002A06952DCB0>,\n",
       "       <built-in method capitalize of str object at 0x000002A06940F2A0>,\n",
       "       <built-in method capitalize of str object at 0x000002A06940F0F0>,\n",
       "       <built-in method capitalize of str object at 0x000002A06940F360>],\n",
       "      dtype='object')"
      ]
     },
     "execution_count": 26,
     "metadata": {},
     "output_type": "execute_result"
    }
   ],
   "source": [
    "df1.columns"
   ]
  },
  {
   "cell_type": "code",
   "execution_count": 28,
   "id": "ffabb681-e539-4d21-a444-160ec8bd7ff9",
   "metadata": {},
   "outputs": [],
   "source": [
    "df1.columns = [col.capitalize() for col in df.columns]"
   ]
  },
  {
   "cell_type": "code",
   "execution_count": 29,
   "id": "988e0fbc-7dde-4a94-a512-0347dba241d2",
   "metadata": {},
   "outputs": [
    {
     "data": {
      "text/plain": [
       "Index(['Customerid', 'Name', 'Creditscore', 'Country', 'Gender', 'Age',\n",
       "       'Tenure', 'Balance', 'Numofproducts', 'Salary', 'Date', 'Dep'],\n",
       "      dtype='object')"
      ]
     },
     "execution_count": 29,
     "metadata": {},
     "output_type": "execute_result"
    }
   ],
   "source": [
    "df1.columns"
   ]
  },
  {
   "cell_type": "code",
   "execution_count": 30,
   "id": "c83a5bbd-5189-47fa-97a3-2eb73a6db1f6",
   "metadata": {},
   "outputs": [],
   "source": [
    "df1 = df1.astype(str)"
   ]
  },
  {
   "cell_type": "code",
   "execution_count": 31,
   "id": "390359bc-ef4e-480d-b490-a90256c23191",
   "metadata": {},
   "outputs": [
    {
     "data": {
      "text/plain": [
       "Customerid       object\n",
       "Name             object\n",
       "Creditscore      object\n",
       "Country          object\n",
       "Gender           object\n",
       "Age              object\n",
       "Tenure           object\n",
       "Balance          object\n",
       "Numofproducts    object\n",
       "Salary           object\n",
       "Date             object\n",
       "Dep              object\n",
       "dtype: object"
      ]
     },
     "execution_count": 31,
     "metadata": {},
     "output_type": "execute_result"
    }
   ],
   "source": [
    "df1.dtypes"
   ]
  },
  {
   "cell_type": "code",
   "execution_count": 33,
   "id": "ea9d3758-bb9c-421c-9daa-2d49af56899b",
   "metadata": {},
   "outputs": [
    {
     "data": {
      "text/plain": [
       "Customerid       object\n",
       "Name             object\n",
       "Creditscore      object\n",
       "Country          object\n",
       "Gender           object\n",
       "Age              object\n",
       "Tenure           object\n",
       "Balance          object\n",
       "Numofproducts    object\n",
       "Salary           object\n",
       "Date             object\n",
       "Dep              object\n",
       "dtype: object"
      ]
     },
     "execution_count": 33,
     "metadata": {},
     "output_type": "execute_result"
    }
   ],
   "source": [
    "df1.head().dtypes"
   ]
  },
  {
   "cell_type": "code",
   "execution_count": 34,
   "id": "f6545587-b040-434e-b541-e4ef472d7ca5",
   "metadata": {},
   "outputs": [
    {
     "name": "stdout",
     "output_type": "stream",
     "text": [
      "<class 'str'>\n"
     ]
    }
   ],
   "source": [
    "print(type(df1['Customerid'][0]))"
   ]
  },
  {
   "cell_type": "code",
   "execution_count": 35,
   "id": "29a3b842-2a68-4c0c-be2a-f020559976e9",
   "metadata": {},
   "outputs": [
    {
     "name": "stdout",
     "output_type": "stream",
     "text": [
      "    Customerid        Name Creditscore  Country  Gender Age Tenure    Balance  \\\n",
      "0     15634602    hargrave         619   France  Female  42      2        0.0   \n",
      "1     15634602    hargrave         619   France  Female  42      2        0.0   \n",
      "2     15634602        onio         502   France  Female  42      8   159660.8   \n",
      "3     15634602        onio         502   France  Female  42      8   159660.8   \n",
      "4     15737888    mitchell         850    Spain  Female  43      2  125510.82   \n",
      "..         ...         ...         ...      ...     ...  ..    ...        ...   \n",
      "448   15694860    uspensky         675   France  Female  38      6    68065.8   \n",
      "449   15658169        cook         778    Spain  Female  47      6  127299.34   \n",
      "450   15794396     newbold         494  Germany  Female  38      7  174937.64   \n",
      "451   15785798  uchechukwu         850   France    Male  40      9        0.0   \n",
      "452   15710825       ch'en         592    Spain    Male  31      7   110071.1   \n",
      "\n",
      "    Numofproducts     Salary        Date      Dep  \n",
      "0               1  101348.88  2023-01-01     Bank  \n",
      "1               1  101348.88  2023-01-02     Bank  \n",
      "2               3  112542.58  2023-01-03     Bank  \n",
      "3               3  112542.58  2023-01-04     Bank  \n",
      "4               1    79084.1  2023-01-05     Bank  \n",
      "..            ...        ...         ...      ...  \n",
      "448             1   138777.0  2025-01-31  Entrepr  \n",
      "449             2  124694.99  2025-01-31  Entrepr  \n",
      "450             1   40084.32  2025-01-31  Entrepr  \n",
      "451             2  119232.33  2025-01-31  Entrepr  \n",
      "452             1   43921.36  2025-01-31  Entrepr  \n",
      "\n",
      "[453 rows x 12 columns]\n"
     ]
    }
   ],
   "source": [
    "print(df1)"
   ]
  },
  {
   "cell_type": "code",
   "execution_count": 37,
   "id": "bb620740-297a-49af-be85-749736b6df51",
   "metadata": {},
   "outputs": [
    {
     "ename": "AttributeError",
     "evalue": "'DataFrame' object has no attribute 'str'",
     "output_type": "error",
     "traceback": [
      "\u001b[1;31m---------------------------------------------------------------------------\u001b[0m",
      "\u001b[1;31mAttributeError\u001b[0m                            Traceback (most recent call last)",
      "\u001b[1;32m~\\AppData\\Local\\Temp\\ipykernel_6900\\2470059005.py\u001b[0m in \u001b[0;36m?\u001b[1;34m()\u001b[0m\n\u001b[1;32m----> 1\u001b[1;33m \u001b[0mdf1\u001b[0m \u001b[1;33m=\u001b[0m \u001b[0mdf1\u001b[0m\u001b[1;33m.\u001b[0m\u001b[0mstr\u001b[0m\u001b[1;33m.\u001b[0m\u001b[0mupper\u001b[0m\u001b[1;33m(\u001b[0m\u001b[1;33m)\u001b[0m\u001b[1;33m\u001b[0m\u001b[1;33m\u001b[0m\u001b[0m\n\u001b[0m\u001b[0;32m      2\u001b[0m \u001b[0mprint\u001b[0m\u001b[1;33m(\u001b[0m\u001b[0mdf1\u001b[0m\u001b[1;33m)\u001b[0m\u001b[1;33m\u001b[0m\u001b[1;33m\u001b[0m\u001b[0m\n",
      "\u001b[1;32m~\\AppData\\Local\\Programs\\Python\\Python313\\Lib\\site-packages\\pandas\\core\\generic.py\u001b[0m in \u001b[0;36m?\u001b[1;34m(self, name)\u001b[0m\n\u001b[0;32m   6295\u001b[0m             \u001b[1;32mand\u001b[0m \u001b[0mname\u001b[0m \u001b[1;32mnot\u001b[0m \u001b[1;32min\u001b[0m \u001b[0mself\u001b[0m\u001b[1;33m.\u001b[0m\u001b[0m_accessors\u001b[0m\u001b[1;33m\u001b[0m\u001b[1;33m\u001b[0m\u001b[0m\n\u001b[0;32m   6296\u001b[0m             \u001b[1;32mand\u001b[0m \u001b[0mself\u001b[0m\u001b[1;33m.\u001b[0m\u001b[0m_info_axis\u001b[0m\u001b[1;33m.\u001b[0m\u001b[0m_can_hold_identifiers_and_holds_name\u001b[0m\u001b[1;33m(\u001b[0m\u001b[0mname\u001b[0m\u001b[1;33m)\u001b[0m\u001b[1;33m\u001b[0m\u001b[1;33m\u001b[0m\u001b[0m\n\u001b[0;32m   6297\u001b[0m         \u001b[1;33m)\u001b[0m\u001b[1;33m:\u001b[0m\u001b[1;33m\u001b[0m\u001b[1;33m\u001b[0m\u001b[0m\n\u001b[0;32m   6298\u001b[0m             \u001b[1;32mreturn\u001b[0m \u001b[0mself\u001b[0m\u001b[1;33m[\u001b[0m\u001b[0mname\u001b[0m\u001b[1;33m]\u001b[0m\u001b[1;33m\u001b[0m\u001b[1;33m\u001b[0m\u001b[0m\n\u001b[1;32m-> 6299\u001b[1;33m         \u001b[1;32mreturn\u001b[0m \u001b[0mobject\u001b[0m\u001b[1;33m.\u001b[0m\u001b[0m__getattribute__\u001b[0m\u001b[1;33m(\u001b[0m\u001b[0mself\u001b[0m\u001b[1;33m,\u001b[0m \u001b[0mname\u001b[0m\u001b[1;33m)\u001b[0m\u001b[1;33m\u001b[0m\u001b[1;33m\u001b[0m\u001b[0m\n\u001b[0m",
      "\u001b[1;31mAttributeError\u001b[0m: 'DataFrame' object has no attribute 'str'"
     ]
    }
   ],
   "source": [
    "df1 = df1.str.upper()\n",
    "print(df1)"
   ]
  },
  {
   "cell_type": "code",
   "execution_count": 38,
   "id": "ed4f3308-4fe5-4367-84d3-b2cab5530696",
   "metadata": {},
   "outputs": [],
   "source": [
    "'''df1 = df1.apply(lambda x: x.str.upper() if x.dtype == \"object\" else x)\n",
    "print(df1)\n",
    "'''\n",
    "df1 = df1.apply(lambda x: x.str.upper() if x.dtypes == 'object' else x)"
   ]
  },
  {
   "cell_type": "code",
   "execution_count": 39,
   "id": "4d9e38bb-3997-433b-bbb6-2597aea02a94",
   "metadata": {},
   "outputs": [
    {
     "name": "stdout",
     "output_type": "stream",
     "text": [
      "    Customerid        Name Creditscore  Country  Gender Age Tenure    Balance  \\\n",
      "0     15634602    HARGRAVE         619   FRANCE  FEMALE  42      2        0.0   \n",
      "1     15634602    HARGRAVE         619   FRANCE  FEMALE  42      2        0.0   \n",
      "2     15634602        ONIO         502   FRANCE  FEMALE  42      8   159660.8   \n",
      "3     15634602        ONIO         502   FRANCE  FEMALE  42      8   159660.8   \n",
      "4     15737888    MITCHELL         850    SPAIN  FEMALE  43      2  125510.82   \n",
      "..         ...         ...         ...      ...     ...  ..    ...        ...   \n",
      "448   15694860    USPENSKY         675   FRANCE  FEMALE  38      6    68065.8   \n",
      "449   15658169        COOK         778    SPAIN  FEMALE  47      6  127299.34   \n",
      "450   15794396     NEWBOLD         494  GERMANY  FEMALE  38      7  174937.64   \n",
      "451   15785798  UCHECHUKWU         850   FRANCE    MALE  40      9        0.0   \n",
      "452   15710825       CH'EN         592    SPAIN    MALE  31      7   110071.1   \n",
      "\n",
      "    Numofproducts     Salary        Date      Dep  \n",
      "0               1  101348.88  2023-01-01     BANK  \n",
      "1               1  101348.88  2023-01-02     BANK  \n",
      "2               3  112542.58  2023-01-03     BANK  \n",
      "3               3  112542.58  2023-01-04     BANK  \n",
      "4               1    79084.1  2023-01-05     BANK  \n",
      "..            ...        ...         ...      ...  \n",
      "448             1   138777.0  2025-01-31  ENTREPR  \n",
      "449             2  124694.99  2025-01-31  ENTREPR  \n",
      "450             1   40084.32  2025-01-31  ENTREPR  \n",
      "451             2  119232.33  2025-01-31  ENTREPR  \n",
      "452             1   43921.36  2025-01-31  ENTREPR  \n",
      "\n",
      "[453 rows x 12 columns]\n"
     ]
    }
   ],
   "source": [
    "print(df1)"
   ]
  },
  {
   "cell_type": "code",
   "execution_count": 42,
   "id": "7cb5b226-6943-450e-a514-d0369a511139",
   "metadata": {},
   "outputs": [],
   "source": [
    "df1 = df1.apply(lambda x: x.str.lower() if x.dtypes == 'object' else x)"
   ]
  },
  {
   "cell_type": "raw",
   "id": "868ad1b3-149e-4792-bce3-1ad9f9fcb3e9",
   "metadata": {},
   "source": [
    "print(df1)"
   ]
  },
  {
   "cell_type": "code",
   "execution_count": 43,
   "id": "5b0b4373-dff6-4e60-9bda-37662b2b9d16",
   "metadata": {},
   "outputs": [
    {
     "name": "stdout",
     "output_type": "stream",
     "text": [
      "    Customerid        Name Creditscore  Country  Gender Age Tenure    Balance  \\\n",
      "0     15634602    hargrave         619   france  female  42      2        0.0   \n",
      "1     15634602    hargrave         619   france  female  42      2        0.0   \n",
      "2     15634602        onio         502   france  female  42      8   159660.8   \n",
      "3     15634602        onio         502   france  female  42      8   159660.8   \n",
      "4     15737888    mitchell         850    spain  female  43      2  125510.82   \n",
      "..         ...         ...         ...      ...     ...  ..    ...        ...   \n",
      "448   15694860    uspensky         675   france  female  38      6    68065.8   \n",
      "449   15658169        cook         778    spain  female  47      6  127299.34   \n",
      "450   15794396     newbold         494  germany  female  38      7  174937.64   \n",
      "451   15785798  uchechukwu         850   france    male  40      9        0.0   \n",
      "452   15710825       ch'en         592    spain    male  31      7   110071.1   \n",
      "\n",
      "    Numofproducts     Salary        Date      Dep  \n",
      "0               1  101348.88  2023-01-01     bank  \n",
      "1               1  101348.88  2023-01-02     bank  \n",
      "2               3  112542.58  2023-01-03     bank  \n",
      "3               3  112542.58  2023-01-04     bank  \n",
      "4               1    79084.1  2023-01-05     bank  \n",
      "..            ...        ...         ...      ...  \n",
      "448             1   138777.0  2025-01-31  entrepr  \n",
      "449             2  124694.99  2025-01-31  entrepr  \n",
      "450             1   40084.32  2025-01-31  entrepr  \n",
      "451             2  119232.33  2025-01-31  entrepr  \n",
      "452             1   43921.36  2025-01-31  entrepr  \n",
      "\n",
      "[453 rows x 12 columns]\n"
     ]
    }
   ],
   "source": [
    "print(df1)"
   ]
  },
  {
   "cell_type": "code",
   "execution_count": 46,
   "id": "7bdfc093-8f28-4d38-b9b1-eac786096765",
   "metadata": {},
   "outputs": [],
   "source": [
    "df1.columns = [col.capitalize() for col in df1.columns]"
   ]
  },
  {
   "cell_type": "code",
   "execution_count": 47,
   "id": "22a5c0bc-3689-4476-89e8-334902eb8de8",
   "metadata": {},
   "outputs": [],
   "source": [
    "# removing unwanted spaces\n",
    "df1['Name'] = df1['Name'].str.strip()"
   ]
  },
  {
   "cell_type": "code",
   "execution_count": 48,
   "id": "4cf40168-5231-445e-863e-18c9d385f6c2",
   "metadata": {},
   "outputs": [
    {
     "data": {
      "text/html": [
       "<div>\n",
       "<style scoped>\n",
       "    .dataframe tbody tr th:only-of-type {\n",
       "        vertical-align: middle;\n",
       "    }\n",
       "\n",
       "    .dataframe tbody tr th {\n",
       "        vertical-align: top;\n",
       "    }\n",
       "\n",
       "    .dataframe thead th {\n",
       "        text-align: right;\n",
       "    }\n",
       "</style>\n",
       "<table border=\"1\" class=\"dataframe\">\n",
       "  <thead>\n",
       "    <tr style=\"text-align: right;\">\n",
       "      <th></th>\n",
       "      <th>Customerid</th>\n",
       "      <th>Name</th>\n",
       "      <th>Creditscore</th>\n",
       "      <th>Country</th>\n",
       "      <th>Gender</th>\n",
       "      <th>Age</th>\n",
       "      <th>Tenure</th>\n",
       "      <th>Balance</th>\n",
       "      <th>Numofproducts</th>\n",
       "      <th>Salary</th>\n",
       "      <th>Date</th>\n",
       "      <th>Dep</th>\n",
       "    </tr>\n",
       "  </thead>\n",
       "  <tbody>\n",
       "    <tr>\n",
       "      <th>0</th>\n",
       "      <td>15634602</td>\n",
       "      <td>hargrave</td>\n",
       "      <td>619</td>\n",
       "      <td>france</td>\n",
       "      <td>female</td>\n",
       "      <td>42</td>\n",
       "      <td>2</td>\n",
       "      <td>0.0</td>\n",
       "      <td>1</td>\n",
       "      <td>101348.88</td>\n",
       "      <td>2023-01-01</td>\n",
       "      <td>bank</td>\n",
       "    </tr>\n",
       "    <tr>\n",
       "      <th>1</th>\n",
       "      <td>15634602</td>\n",
       "      <td>hargrave</td>\n",
       "      <td>619</td>\n",
       "      <td>france</td>\n",
       "      <td>female</td>\n",
       "      <td>42</td>\n",
       "      <td>2</td>\n",
       "      <td>0.0</td>\n",
       "      <td>1</td>\n",
       "      <td>101348.88</td>\n",
       "      <td>2023-01-02</td>\n",
       "      <td>bank</td>\n",
       "    </tr>\n",
       "    <tr>\n",
       "      <th>2</th>\n",
       "      <td>15634602</td>\n",
       "      <td>onio</td>\n",
       "      <td>502</td>\n",
       "      <td>france</td>\n",
       "      <td>female</td>\n",
       "      <td>42</td>\n",
       "      <td>8</td>\n",
       "      <td>159660.8</td>\n",
       "      <td>3</td>\n",
       "      <td>112542.58</td>\n",
       "      <td>2023-01-03</td>\n",
       "      <td>bank</td>\n",
       "    </tr>\n",
       "    <tr>\n",
       "      <th>3</th>\n",
       "      <td>15634602</td>\n",
       "      <td>onio</td>\n",
       "      <td>502</td>\n",
       "      <td>france</td>\n",
       "      <td>female</td>\n",
       "      <td>42</td>\n",
       "      <td>8</td>\n",
       "      <td>159660.8</td>\n",
       "      <td>3</td>\n",
       "      <td>112542.58</td>\n",
       "      <td>2023-01-04</td>\n",
       "      <td>bank</td>\n",
       "    </tr>\n",
       "    <tr>\n",
       "      <th>6</th>\n",
       "      <td>15574012</td>\n",
       "      <td>bartlett</td>\n",
       "      <td>822</td>\n",
       "      <td>france</td>\n",
       "      <td>male</td>\n",
       "      <td>50</td>\n",
       "      <td>7</td>\n",
       "      <td>0.0</td>\n",
       "      <td>2</td>\n",
       "      <td>10062.8</td>\n",
       "      <td>2023-01-07</td>\n",
       "      <td>bank</td>\n",
       "    </tr>\n",
       "    <tr>\n",
       "      <th>...</th>\n",
       "      <td>...</td>\n",
       "      <td>...</td>\n",
       "      <td>...</td>\n",
       "      <td>...</td>\n",
       "      <td>...</td>\n",
       "      <td>...</td>\n",
       "      <td>...</td>\n",
       "      <td>...</td>\n",
       "      <td>...</td>\n",
       "      <td>...</td>\n",
       "      <td>...</td>\n",
       "      <td>...</td>\n",
       "    </tr>\n",
       "    <tr>\n",
       "      <th>445</th>\n",
       "      <td>15803406</td>\n",
       "      <td>ross</td>\n",
       "      <td>748</td>\n",
       "      <td>france</td>\n",
       "      <td>female</td>\n",
       "      <td>26</td>\n",
       "      <td>1</td>\n",
       "      <td>77780.29</td>\n",
       "      <td>1</td>\n",
       "      <td>183049.41</td>\n",
       "      <td>2025-01-31</td>\n",
       "      <td>entrepr</td>\n",
       "    </tr>\n",
       "    <tr>\n",
       "      <th>446</th>\n",
       "      <td>15730460</td>\n",
       "      <td>oleary</td>\n",
       "      <td>722</td>\n",
       "      <td>france</td>\n",
       "      <td>male</td>\n",
       "      <td>37</td>\n",
       "      <td>2</td>\n",
       "      <td>0.0</td>\n",
       "      <td>1</td>\n",
       "      <td>120906.83</td>\n",
       "      <td>2025-01-31</td>\n",
       "      <td>entrepr</td>\n",
       "    </tr>\n",
       "    <tr>\n",
       "      <th>447</th>\n",
       "      <td>15644572</td>\n",
       "      <td>turnbull</td>\n",
       "      <td>501</td>\n",
       "      <td>france</td>\n",
       "      <td>male</td>\n",
       "      <td>40</td>\n",
       "      <td>4</td>\n",
       "      <td>125832.2</td>\n",
       "      <td>1</td>\n",
       "      <td>100433.83</td>\n",
       "      <td>2025-01-31</td>\n",
       "      <td>entrepr</td>\n",
       "    </tr>\n",
       "    <tr>\n",
       "      <th>448</th>\n",
       "      <td>15694860</td>\n",
       "      <td>uspensky</td>\n",
       "      <td>675</td>\n",
       "      <td>france</td>\n",
       "      <td>female</td>\n",
       "      <td>38</td>\n",
       "      <td>6</td>\n",
       "      <td>68065.8</td>\n",
       "      <td>1</td>\n",
       "      <td>138777.0</td>\n",
       "      <td>2025-01-31</td>\n",
       "      <td>entrepr</td>\n",
       "    </tr>\n",
       "    <tr>\n",
       "      <th>451</th>\n",
       "      <td>15785798</td>\n",
       "      <td>uchechukwu</td>\n",
       "      <td>850</td>\n",
       "      <td>france</td>\n",
       "      <td>male</td>\n",
       "      <td>40</td>\n",
       "      <td>9</td>\n",
       "      <td>0.0</td>\n",
       "      <td>2</td>\n",
       "      <td>119232.33</td>\n",
       "      <td>2025-01-31</td>\n",
       "      <td>entrepr</td>\n",
       "    </tr>\n",
       "  </tbody>\n",
       "</table>\n",
       "<p>199 rows × 12 columns</p>\n",
       "</div>"
      ],
      "text/plain": [
       "    Customerid        Name Creditscore Country  Gender Age Tenure   Balance  \\\n",
       "0     15634602    hargrave         619  france  female  42      2       0.0   \n",
       "1     15634602    hargrave         619  france  female  42      2       0.0   \n",
       "2     15634602        onio         502  france  female  42      8  159660.8   \n",
       "3     15634602        onio         502  france  female  42      8  159660.8   \n",
       "6     15574012    bartlett         822  france    male  50      7       0.0   \n",
       "..         ...         ...         ...     ...     ...  ..    ...       ...   \n",
       "445   15803406        ross         748  france  female  26      1  77780.29   \n",
       "446   15730460      oleary         722  france    male  37      2       0.0   \n",
       "447   15644572    turnbull         501  france    male  40      4  125832.2   \n",
       "448   15694860    uspensky         675  france  female  38      6   68065.8   \n",
       "451   15785798  uchechukwu         850  france    male  40      9       0.0   \n",
       "\n",
       "    Numofproducts     Salary        Date      Dep  \n",
       "0               1  101348.88  2023-01-01     bank  \n",
       "1               1  101348.88  2023-01-02     bank  \n",
       "2               3  112542.58  2023-01-03     bank  \n",
       "3               3  112542.58  2023-01-04     bank  \n",
       "6               2    10062.8  2023-01-07     bank  \n",
       "..            ...        ...         ...      ...  \n",
       "445             1  183049.41  2025-01-31  entrepr  \n",
       "446             1  120906.83  2025-01-31  entrepr  \n",
       "447             1  100433.83  2025-01-31  entrepr  \n",
       "448             1   138777.0  2025-01-31  entrepr  \n",
       "451             2  119232.33  2025-01-31  entrepr  \n",
       "\n",
       "[199 rows x 12 columns]"
      ]
     },
     "execution_count": 48,
     "metadata": {},
     "output_type": "execute_result"
    }
   ],
   "source": [
    "'''df[df[\"Country\"].str.contains(\"FRANCE\", case=False)]\n",
    "'''\n",
    "df1[df1['Country'].str.contains('FRANCE', case = False)]"
   ]
  },
  {
   "cell_type": "code",
   "execution_count": 50,
   "id": "c05af84e-339b-4bc0-a46d-df077b42be58",
   "metadata": {},
   "outputs": [],
   "source": [
    "df1['Country'] = df1['Country'].str.replace('france','french')"
   ]
  },
  {
   "cell_type": "code",
   "execution_count": 51,
   "id": "d2d5596e-7937-405a-b170-d7d7993a9567",
   "metadata": {},
   "outputs": [
    {
     "data": {
      "text/plain": [
       "0       french\n",
       "1       french\n",
       "2       french\n",
       "3       french\n",
       "4        spain\n",
       "        ...   \n",
       "448     french\n",
       "449      spain\n",
       "450    germany\n",
       "451     french\n",
       "452      spain\n",
       "Name: Country, Length: 453, dtype: object"
      ]
     },
     "execution_count": 51,
     "metadata": {},
     "output_type": "execute_result"
    }
   ],
   "source": [
    "df1['Country']"
   ]
  },
  {
   "cell_type": "code",
   "execution_count": 53,
   "id": "b1980816-1236-4af2-a9d5-22208ce6a5af",
   "metadata": {},
   "outputs": [],
   "source": [
    "#concatenating\n",
    "'''df[\"CustomerInfo\"] = df[\"Name\"] + \" - \" + df[\"Country\"]\n",
    "print(df)\n",
    "'''\n",
    "df1['New_values'] = df1['Name']+ ' - '+ df1['Country']"
   ]
  },
  {
   "cell_type": "code",
   "execution_count": 54,
   "id": "606974ff-eda3-4967-9050-1c7a7b1142fc",
   "metadata": {},
   "outputs": [
    {
     "name": "stdout",
     "output_type": "stream",
     "text": [
      "    Customerid        Name Creditscore  Country  Gender Age Tenure    Balance  \\\n",
      "0     15634602    hargrave         619   french  female  42      2        0.0   \n",
      "1     15634602    hargrave         619   french  female  42      2        0.0   \n",
      "2     15634602        onio         502   french  female  42      8   159660.8   \n",
      "3     15634602        onio         502   french  female  42      8   159660.8   \n",
      "4     15737888    mitchell         850    spain  female  43      2  125510.82   \n",
      "..         ...         ...         ...      ...     ...  ..    ...        ...   \n",
      "448   15694860    uspensky         675   french  female  38      6    68065.8   \n",
      "449   15658169        cook         778    spain  female  47      6  127299.34   \n",
      "450   15794396     newbold         494  germany  female  38      7  174937.64   \n",
      "451   15785798  uchechukwu         850   french    male  40      9        0.0   \n",
      "452   15710825       ch'en         592    spain    male  31      7   110071.1   \n",
      "\n",
      "    Numofproducts     Salary        Date      Dep           New_values  \n",
      "0               1  101348.88  2023-01-01     bank    hargrave - french  \n",
      "1               1  101348.88  2023-01-02     bank    hargrave - french  \n",
      "2               3  112542.58  2023-01-03     bank        onio - french  \n",
      "3               3  112542.58  2023-01-04     bank        onio - french  \n",
      "4               1    79084.1  2023-01-05     bank     mitchell - spain  \n",
      "..            ...        ...         ...      ...                  ...  \n",
      "448             1   138777.0  2025-01-31  entrepr    uspensky - french  \n",
      "449             2  124694.99  2025-01-31  entrepr         cook - spain  \n",
      "450             1   40084.32  2025-01-31  entrepr    newbold - germany  \n",
      "451             2  119232.33  2025-01-31  entrepr  uchechukwu - french  \n",
      "452             1   43921.36  2025-01-31  entrepr        ch'en - spain  \n",
      "\n",
      "[453 rows x 13 columns]\n"
     ]
    }
   ],
   "source": [
    "print(df1)"
   ]
  },
  {
   "cell_type": "code",
   "execution_count": 60,
   "id": "528e0e28-9cdc-4fe2-90f0-cf0d66f0985d",
   "metadata": {},
   "outputs": [
    {
     "name": "stdout",
     "output_type": "stream",
     "text": [
      "0      H\n",
      "1      H\n",
      "2      O\n",
      "3      O\n",
      "4      M\n",
      "      ..\n",
      "448    U\n",
      "449    C\n",
      "450    N\n",
      "451    U\n",
      "452    C\n",
      "Name: initials, Length: 453, dtype: object\n"
     ]
    }
   ],
   "source": [
    "df1['initials'] = df1['Name'].str.extract(r'(^\\w)')\n",
    "df1['initials'] = df1['initials'].str.upper()\n",
    "print(df1['initials'])"
   ]
  },
  {
   "cell_type": "raw",
   "id": "b3e7edc5-7cc8-40f0-b6be-70cd0049c90a",
   "metadata": {},
   "source": [
    "print(df1)"
   ]
  },
  {
   "cell_type": "code",
   "execution_count": 57,
   "id": "699efdde-1bb6-42e9-8e41-bfb12c0665cc",
   "metadata": {},
   "outputs": [
    {
     "name": "stdout",
     "output_type": "stream",
     "text": [
      "    Customerid        Name Creditscore  Country  Gender Age Tenure    Balance  \\\n",
      "0     15634602    hargrave         619   french  female  42      2        0.0   \n",
      "1     15634602    hargrave         619   french  female  42      2        0.0   \n",
      "2     15634602        onio         502   french  female  42      8   159660.8   \n",
      "3     15634602        onio         502   french  female  42      8   159660.8   \n",
      "4     15737888    mitchell         850    spain  female  43      2  125510.82   \n",
      "..         ...         ...         ...      ...     ...  ..    ...        ...   \n",
      "448   15694860    uspensky         675   french  female  38      6    68065.8   \n",
      "449   15658169        cook         778    spain  female  47      6  127299.34   \n",
      "450   15794396     newbold         494  germany  female  38      7  174937.64   \n",
      "451   15785798  uchechukwu         850   french    male  40      9        0.0   \n",
      "452   15710825       ch'en         592    spain    male  31      7   110071.1   \n",
      "\n",
      "    Numofproducts     Salary        Date      Dep           New_values  \\\n",
      "0               1  101348.88  2023-01-01     bank    hargrave - french   \n",
      "1               1  101348.88  2023-01-02     bank    hargrave - french   \n",
      "2               3  112542.58  2023-01-03     bank        onio - french   \n",
      "3               3  112542.58  2023-01-04     bank        onio - french   \n",
      "4               1    79084.1  2023-01-05     bank     mitchell - spain   \n",
      "..            ...        ...         ...      ...                  ...   \n",
      "448             1   138777.0  2025-01-31  entrepr    uspensky - french   \n",
      "449             2  124694.99  2025-01-31  entrepr         cook - spain   \n",
      "450             1   40084.32  2025-01-31  entrepr    newbold - germany   \n",
      "451             2  119232.33  2025-01-31  entrepr  uchechukwu - french   \n",
      "452             1   43921.36  2025-01-31  entrepr        ch'en - spain   \n",
      "\n",
      "    initials  \n",
      "0          h  \n",
      "1          h  \n",
      "2          o  \n",
      "3          o  \n",
      "4          m  \n",
      "..       ...  \n",
      "448        u  \n",
      "449        c  \n",
      "450        n  \n",
      "451        u  \n",
      "452        c  \n",
      "\n",
      "[453 rows x 14 columns]\n"
     ]
    }
   ],
   "source": [
    "print(df1)"
   ]
  },
  {
   "cell_type": "code",
   "execution_count": 61,
   "id": "5f114cc9-801e-465c-818b-6e201598053b",
   "metadata": {},
   "outputs": [
    {
     "name": "stdout",
     "output_type": "stream",
     "text": [
      "    Customerid        Name Creditscore  Country  Gender Age Tenure    Balance  \\\n",
      "0     15634602    hargrave         619   french  female  42      2        0.0   \n",
      "1     15634602    hargrave         619   french  female  42      2        0.0   \n",
      "2     15634602        onio         502   french  female  42      8   159660.8   \n",
      "3     15634602        onio         502   french  female  42      8   159660.8   \n",
      "4     15737888    mitchell         850    spain  female  43      2  125510.82   \n",
      "..         ...         ...         ...      ...     ...  ..    ...        ...   \n",
      "448   15694860    uspensky         675   french  female  38      6    68065.8   \n",
      "449   15658169        cook         778    spain  female  47      6  127299.34   \n",
      "450   15794396     newbold         494  germany  female  38      7  174937.64   \n",
      "451   15785798  uchechukwu         850   french    male  40      9        0.0   \n",
      "452   15710825       ch'en         592    spain    male  31      7   110071.1   \n",
      "\n",
      "    Numofproducts     Salary        Date      Dep           New_values  \\\n",
      "0               1  101348.88  2023-01-01     bank    hargrave - french   \n",
      "1               1  101348.88  2023-01-02     bank    hargrave - french   \n",
      "2               3  112542.58  2023-01-03     bank        onio - french   \n",
      "3               3  112542.58  2023-01-04     bank        onio - french   \n",
      "4               1    79084.1  2023-01-05     bank     mitchell - spain   \n",
      "..            ...        ...         ...      ...                  ...   \n",
      "448             1   138777.0  2025-01-31  entrepr    uspensky - french   \n",
      "449             2  124694.99  2025-01-31  entrepr         cook - spain   \n",
      "450             1   40084.32  2025-01-31  entrepr    newbold - germany   \n",
      "451             2  119232.33  2025-01-31  entrepr  uchechukwu - french   \n",
      "452             1   43921.36  2025-01-31  entrepr        ch'en - spain   \n",
      "\n",
      "    initials  \n",
      "0          H  \n",
      "1          H  \n",
      "2          O  \n",
      "3          O  \n",
      "4          M  \n",
      "..       ...  \n",
      "448        U  \n",
      "449        C  \n",
      "450        N  \n",
      "451        U  \n",
      "452        C  \n",
      "\n",
      "[453 rows x 14 columns]\n"
     ]
    }
   ],
   "source": [
    "print(df1)"
   ]
  },
  {
   "cell_type": "code",
   "execution_count": null,
   "id": "f752cdf9-694e-46f2-a043-13e6f1bc539a",
   "metadata": {},
   "outputs": [],
   "source": []
  }
 ],
 "metadata": {
  "kernelspec": {
   "display_name": "Python 3 (ipykernel)",
   "language": "python",
   "name": "python3"
  },
  "language_info": {
   "codemirror_mode": {
    "name": "ipython",
    "version": 3
   },
   "file_extension": ".py",
   "mimetype": "text/x-python",
   "name": "python",
   "nbconvert_exporter": "python",
   "pygments_lexer": "ipython3",
   "version": "3.13.0"
  }
 },
 "nbformat": 4,
 "nbformat_minor": 5
}
