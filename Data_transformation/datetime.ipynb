{
 "cells": [
  {
   "cell_type": "code",
   "execution_count": 1,
   "id": "7ca6e487-0769-4f4f-959b-84840e712742",
   "metadata": {},
   "outputs": [
    {
     "name": "stdout",
     "output_type": "stream",
     "text": [
      "     CustomerId        Name  CreditScore  Country  Gender  Age  Tenure  \\\n",
      "0      15634602    Hargrave          619   France  Female   42       2   \n",
      "1      15634602    Hargrave          619   France  Female   42       2   \n",
      "2      15634602        Onio          502   France  Female   42       8   \n",
      "3      15634602        Onio          502   France  Female   42       8   \n",
      "4      15737888    Mitchell          850    Spain  Female   43       2   \n",
      "..          ...         ...          ...      ...     ...  ...     ...   \n",
      "448    15694860    Uspensky          675   France  Female   38       6   \n",
      "449    15658169        Cook          778    Spain  Female   47       6   \n",
      "450    15794396     Newbold          494  Germany  Female   38       7   \n",
      "451    15785798  Uchechukwu          850   France    Male   40       9   \n",
      "452    15710825       Ch'en          592    Spain    Male   31       7   \n",
      "\n",
      "       Balance  NumOfProducts     Salary       Date      Dep  \n",
      "0         0.00              1  101348.88 2023-01-01     Bank  \n",
      "1         0.00              1  101348.88 2023-01-02     Bank  \n",
      "2    159660.80              3  112542.58 2023-01-03     Bank  \n",
      "3    159660.80              3  112542.58 2023-01-04     Bank  \n",
      "4    125510.82              1   79084.10 2023-01-05     Bank  \n",
      "..         ...            ...        ...        ...      ...  \n",
      "448   68065.80              1  138777.00 2025-01-31  Entrepr  \n",
      "449  127299.34              2  124694.99 2025-01-31  Entrepr  \n",
      "450  174937.64              1   40084.32 2025-01-31  Entrepr  \n",
      "451       0.00              2  119232.33 2025-01-31  Entrepr  \n",
      "452  110071.10              1   43921.36 2025-01-31  Entrepr  \n",
      "\n",
      "[453 rows x 12 columns]\n"
     ]
    }
   ],
   "source": [
    "import pandas as pd\n",
    "file_path = \"C:/Users/Sivaraman/Desktop/study/data analytics/Data (for practice)/bank_details_withdate.xlsx\"\n",
    "df = pd.read_excel(file_path)\n",
    "print(df)"
   ]
  },
  {
   "cell_type": "code",
   "execution_count": 2,
   "id": "0c2a281c-e44d-4dc2-82ef-756984db83ea",
   "metadata": {},
   "outputs": [
    {
     "data": {
      "text/plain": [
       "CustomerId                int64\n",
       "Name                     object\n",
       "CreditScore               int64\n",
       "Country                  object\n",
       "Gender                   object\n",
       "Age                       int64\n",
       "Tenure                    int64\n",
       "Balance                 float64\n",
       "NumOfProducts             int64\n",
       "Salary                  float64\n",
       "Date             datetime64[ns]\n",
       "Dep                      object\n",
       "dtype: object"
      ]
     },
     "execution_count": 2,
     "metadata": {},
     "output_type": "execute_result"
    }
   ],
   "source": [
    "df.dtypes"
   ]
  },
  {
   "cell_type": "code",
   "execution_count": 3,
   "id": "964aaba3-49a5-4fa1-a63b-359a5fb709d4",
   "metadata": {},
   "outputs": [],
   "source": [
    "df['Date'] = df['Date'].astype('str')"
   ]
  },
  {
   "cell_type": "code",
   "execution_count": 4,
   "id": "c908776d-c9b9-4409-b509-9e598e2e505c",
   "metadata": {},
   "outputs": [
    {
     "data": {
      "text/plain": [
       "CustomerId         int64\n",
       "Name              object\n",
       "CreditScore        int64\n",
       "Country           object\n",
       "Gender            object\n",
       "Age                int64\n",
       "Tenure             int64\n",
       "Balance          float64\n",
       "NumOfProducts      int64\n",
       "Salary           float64\n",
       "Date              object\n",
       "Dep               object\n",
       "dtype: object"
      ]
     },
     "execution_count": 4,
     "metadata": {},
     "output_type": "execute_result"
    }
   ],
   "source": [
    "df.dtypes"
   ]
  },
  {
   "cell_type": "code",
   "execution_count": 8,
   "id": "6f4e84aa-49c6-444a-ba42-c71e88626182",
   "metadata": {},
   "outputs": [],
   "source": [
    "'''df[\"Date\"] = pd.to_datetime(df[\"Date\"], format=\"%d-%m-%Y\")'''\n",
    "df[\"Date\"] = pd.to_datetime(df[\"Date\"], format = \"%Y-%m-%d\")\n"
   ]
  },
  {
   "cell_type": "code",
   "execution_count": 9,
   "id": "78cd8d41-f670-4e61-bf88-dadd0391b26b",
   "metadata": {},
   "outputs": [
    {
     "data": {
      "text/plain": [
       "CustomerId                int64\n",
       "Name                     object\n",
       "CreditScore               int64\n",
       "Country                  object\n",
       "Gender                   object\n",
       "Age                       int64\n",
       "Tenure                    int64\n",
       "Balance                 float64\n",
       "NumOfProducts             int64\n",
       "Salary                  float64\n",
       "Date             datetime64[ns]\n",
       "Dep                      object\n",
       "dtype: object"
      ]
     },
     "execution_count": 9,
     "metadata": {},
     "output_type": "execute_result"
    }
   ],
   "source": [
    "df.dtypes"
   ]
  },
  {
   "cell_type": "code",
   "execution_count": 11,
   "id": "f41d6524-35b5-40a3-8b33-b13762be5d36",
   "metadata": {},
   "outputs": [],
   "source": [
    "'''\n",
    "df[\"Year\"] = df[\"Date\"].dt.year\n",
    "df[\"Month\"] = df[\"Date\"].dt.month\n",
    "df[\"Day\"] = df[\"Date\"].dt.day\n",
    "df[\"Weekday\"] = df[\"Date\"].dt.day_name()\n",
    "\n",
    "print(df)\n",
    "\n",
    "'''\n",
    "df['Year'] = df['Date'].dt.year\n",
    "df['Month'] = df['Date'].dt.month\n",
    "df['Day'] = df['Date'].dt.day\n",
    "df['Weekday'] = df['Date'].dt.day_name()"
   ]
  },
  {
   "cell_type": "code",
   "execution_count": 12,
   "id": "39002a75-d058-4505-a233-2ce7d2bb3e85",
   "metadata": {},
   "outputs": [
    {
     "ename": "NameError",
     "evalue": "name 'df1' is not defined",
     "output_type": "error",
     "traceback": [
      "\u001b[1;31m---------------------------------------------------------------------------\u001b[0m",
      "\u001b[1;31mNameError\u001b[0m                                 Traceback (most recent call last)",
      "Cell \u001b[1;32mIn[12], line 1\u001b[0m\n\u001b[1;32m----> 1\u001b[0m \u001b[38;5;28mprint\u001b[39m(\u001b[43mdf1\u001b[49m)\n",
      "\u001b[1;31mNameError\u001b[0m: name 'df1' is not defined"
     ]
    }
   ],
   "source": [
    "print(df1)"
   ]
  },
  {
   "cell_type": "code",
   "execution_count": 13,
   "id": "e3c58ecd-8ca4-488b-9bd4-b9d87b77bd5f",
   "metadata": {},
   "outputs": [
    {
     "name": "stdout",
     "output_type": "stream",
     "text": [
      "     CustomerId        Name  CreditScore  Country  Gender  Age  Tenure  \\\n",
      "0      15634602    Hargrave          619   France  Female   42       2   \n",
      "1      15634602    Hargrave          619   France  Female   42       2   \n",
      "2      15634602        Onio          502   France  Female   42       8   \n",
      "3      15634602        Onio          502   France  Female   42       8   \n",
      "4      15737888    Mitchell          850    Spain  Female   43       2   \n",
      "..          ...         ...          ...      ...     ...  ...     ...   \n",
      "448    15694860    Uspensky          675   France  Female   38       6   \n",
      "449    15658169        Cook          778    Spain  Female   47       6   \n",
      "450    15794396     Newbold          494  Germany  Female   38       7   \n",
      "451    15785798  Uchechukwu          850   France    Male   40       9   \n",
      "452    15710825       Ch'en          592    Spain    Male   31       7   \n",
      "\n",
      "       Balance  NumOfProducts     Salary       Date      Dep  Year  Month  \\\n",
      "0         0.00              1  101348.88 2023-01-01     Bank  2023      1   \n",
      "1         0.00              1  101348.88 2023-01-02     Bank  2023      1   \n",
      "2    159660.80              3  112542.58 2023-01-03     Bank  2023      1   \n",
      "3    159660.80              3  112542.58 2023-01-04     Bank  2023      1   \n",
      "4    125510.82              1   79084.10 2023-01-05     Bank  2023      1   \n",
      "..         ...            ...        ...        ...      ...   ...    ...   \n",
      "448   68065.80              1  138777.00 2025-01-31  Entrepr  2025      1   \n",
      "449  127299.34              2  124694.99 2025-01-31  Entrepr  2025      1   \n",
      "450  174937.64              1   40084.32 2025-01-31  Entrepr  2025      1   \n",
      "451       0.00              2  119232.33 2025-01-31  Entrepr  2025      1   \n",
      "452  110071.10              1   43921.36 2025-01-31  Entrepr  2025      1   \n",
      "\n",
      "     Day    Weekday  \n",
      "0      1     Sunday  \n",
      "1      2     Monday  \n",
      "2      3    Tuesday  \n",
      "3      4  Wednesday  \n",
      "4      5   Thursday  \n",
      "..   ...        ...  \n",
      "448   31     Friday  \n",
      "449   31     Friday  \n",
      "450   31     Friday  \n",
      "451   31     Friday  \n",
      "452   31     Friday  \n",
      "\n",
      "[453 rows x 16 columns]\n"
     ]
    }
   ],
   "source": [
    "print(df)"
   ]
  },
  {
   "cell_type": "code",
   "execution_count": 18,
   "id": "28c4a3de-4b04-4fb2-814f-115616947bcb",
   "metadata": {},
   "outputs": [],
   "source": [
    "# it is used to save df(data_frame) in specific folder\n",
    "df.to_excel(r\"C:\\Users\\Sivaraman\\Desktop\\study\\data analytics\\practice\\files_from_df.xlsx\", index = False)"
   ]
  },
  {
   "cell_type": "code",
   "execution_count": 2,
   "id": "a026b2be-1531-48cc-a88b-8c7ce01f3394",
   "metadata": {},
   "outputs": [
    {
     "name": "stdout",
     "output_type": "stream",
     "text": [
      "     CustomerId        Name  CreditScore  Country  Gender  Age  Tenure  \\\n",
      "0      15634602    Hargrave          619   France  Female   42       2   \n",
      "1      15634602    Hargrave          619   France  Female   42       2   \n",
      "2      15634602        Onio          502   France  Female   42       8   \n",
      "3      15634602        Onio          502   France  Female   42       8   \n",
      "4      15737888    Mitchell          850    Spain  Female   43       2   \n",
      "..          ...         ...          ...      ...     ...  ...     ...   \n",
      "448    15694860    Uspensky          675   France  Female   38       6   \n",
      "449    15658169        Cook          778    Spain  Female   47       6   \n",
      "450    15794396     Newbold          494  Germany  Female   38       7   \n",
      "451    15785798  Uchechukwu          850   France    Male   40       9   \n",
      "452    15710825       Ch'en          592    Spain    Male   31       7   \n",
      "\n",
      "       Balance  NumOfProducts     Salary       Date      Dep  Year  Month  \\\n",
      "0         0.00              1  101348.88 2023-01-01     Bank  2023      1   \n",
      "1         0.00              1  101348.88 2023-01-02     Bank  2023      1   \n",
      "2    159660.80              3  112542.58 2023-01-03     Bank  2023      1   \n",
      "3    159660.80              3  112542.58 2023-01-04     Bank  2023      1   \n",
      "4    125510.82              1   79084.10 2023-01-05     Bank  2023      1   \n",
      "..         ...            ...        ...        ...      ...   ...    ...   \n",
      "448   68065.80              1  138777.00 2025-01-31  Entrepr  2025      1   \n",
      "449  127299.34              2  124694.99 2025-01-31  Entrepr  2025      1   \n",
      "450  174937.64              1   40084.32 2025-01-31  Entrepr  2025      1   \n",
      "451       0.00              2  119232.33 2025-01-31  Entrepr  2025      1   \n",
      "452  110071.10              1   43921.36 2025-01-31  Entrepr  2025      1   \n",
      "\n",
      "     Day    Weekday  \n",
      "0      1     Sunday  \n",
      "1      2     Monday  \n",
      "2      3    Tuesday  \n",
      "3      4  Wednesday  \n",
      "4      5   Thursday  \n",
      "..   ...        ...  \n",
      "448   31     Friday  \n",
      "449   31     Friday  \n",
      "450   31     Friday  \n",
      "451   31     Friday  \n",
      "452   31     Friday  \n",
      "\n",
      "[453 rows x 16 columns]\n"
     ]
    }
   ],
   "source": [
    "import pandas as pd\n",
    "file_path = r\"C:\\Users\\Sivaraman\\Desktop\\study\\data analytics\\practice\\files_from_df.xlsx\"\n",
    "df = pd.read_excel(file_path)\n",
    "print(df)"
   ]
  },
  {
   "cell_type": "code",
   "execution_count": 10,
   "id": "627f7879-b7ce-4ee5-bd73-258660db7e18",
   "metadata": {},
   "outputs": [
    {
     "name": "stdout",
     "output_type": "stream",
     "text": [
      "          Date monthname\n",
      "0   2023-01-01   January\n",
      "1   2023-01-02   January\n",
      "2   2023-01-03   January\n",
      "3   2023-01-04   January\n",
      "4   2023-01-05   January\n",
      "..         ...       ...\n",
      "448 2025-01-31   January\n",
      "449 2025-01-31   January\n",
      "450 2025-01-31   January\n",
      "451 2025-01-31   January\n",
      "452 2025-01-31   January\n",
      "\n",
      "[453 rows x 2 columns]\n"
     ]
    }
   ],
   "source": [
    "'''df['month_name'] = df['Date'].dt.strftime(\"%B\")\n",
    "print(df[['Date', 'month_name']])'''\n",
    "\n",
    "df['monthname'] = df['Date'].dt.strftime(\"%B\")\n",
    "print(df[['Date', 'monthname']])\n"
   ]
  },
  {
   "cell_type": "code",
   "execution_count": 14,
   "id": "48825990-8cd6-44fa-82dc-e736f5496f33",
   "metadata": {},
   "outputs": [
    {
     "name": "stdout",
     "output_type": "stream",
     "text": [
      "     CustomerId        Name  CreditScore  Country  Gender  Age  Tenure  \\\n",
      "2      15634602        Onio          502   France  Female   42       8   \n",
      "3      15634602        Onio          502   France  Female   42       8   \n",
      "4      15737888    Mitchell          850    Spain  Female   43       2   \n",
      "5      15574012         Chu          645    Spain    Male   44       8   \n",
      "6      15574012    Bartlett          822   France    Male   50       7   \n",
      "..          ...         ...          ...      ...     ...  ...     ...   \n",
      "448    15694860    Uspensky          675   France  Female   38       6   \n",
      "449    15658169        Cook          778    Spain  Female   47       6   \n",
      "450    15794396     Newbold          494  Germany  Female   38       7   \n",
      "451    15785798  Uchechukwu          850   France    Male   40       9   \n",
      "452    15710825       Ch'en          592    Spain    Male   31       7   \n",
      "\n",
      "       Balance  NumOfProducts     Salary       Date      Dep  Year  Month  \\\n",
      "2    159660.80              3  112542.58 2023-01-03     Bank  2023      1   \n",
      "3    159660.80              3  112542.58 2023-01-04     Bank  2023      1   \n",
      "4    125510.82              1   79084.10 2023-01-05     Bank  2023      1   \n",
      "5    113755.78              2  149756.71 2023-01-06     Bank  2023      1   \n",
      "6         0.00              2   10062.80 2023-01-07     Bank  2023      1   \n",
      "..         ...            ...        ...        ...      ...   ...    ...   \n",
      "448   68065.80              1  138777.00 2025-01-31  Entrepr  2025      1   \n",
      "449  127299.34              2  124694.99 2025-01-31  Entrepr  2025      1   \n",
      "450  174937.64              1   40084.32 2025-01-31  Entrepr  2025      1   \n",
      "451       0.00              2  119232.33 2025-01-31  Entrepr  2025      1   \n",
      "452  110071.10              1   43921.36 2025-01-31  Entrepr  2025      1   \n",
      "\n",
      "     Day    Weekday month_name monthname  filtered_date  \n",
      "2      3    Tuesday    January   January           True  \n",
      "3      4  Wednesday    January   January           True  \n",
      "4      5   Thursday    January   January           True  \n",
      "5      6     Friday    January   January           True  \n",
      "6      7   Saturday    January   January           True  \n",
      "..   ...        ...        ...       ...            ...  \n",
      "448   31     Friday    January   January           True  \n",
      "449   31     Friday    January   January           True  \n",
      "450   31     Friday    January   January           True  \n",
      "451   31     Friday    January   January           True  \n",
      "452   31     Friday    January   January           True  \n",
      "\n",
      "[451 rows x 19 columns]\n"
     ]
    }
   ],
   "source": [
    "#filtered date by date\n",
    "\n",
    "filtered_date = df[df['Date'] > \"2023-01-02\"]\n",
    "print(filtered_date)"
   ]
  },
  {
   "cell_type": "code",
   "execution_count": 16,
   "id": "074217e9-4ceb-42ea-abd5-20364b6cac3d",
   "metadata": {},
   "outputs": [
    {
     "name": "stdout",
     "output_type": "stream",
     "text": [
      "     CustomerId        Name  CreditScore  Country  Gender  Age  Tenure  \\\n",
      "0      15634602    Hargrave          619   France  Female   42       2   \n",
      "1      15634602    Hargrave          619   France  Female   42       2   \n",
      "2      15634602        Onio          502   France  Female   42       8   \n",
      "3      15634602        Onio          502   France  Female   42       8   \n",
      "4      15737888    Mitchell          850    Spain  Female   43       2   \n",
      "..          ...         ...          ...      ...     ...  ...     ...   \n",
      "448    15694860    Uspensky          675   France  Female   38       6   \n",
      "449    15658169        Cook          778    Spain  Female   47       6   \n",
      "450    15794396     Newbold          494  Germany  Female   38       7   \n",
      "451    15785798  Uchechukwu          850   France    Male   40       9   \n",
      "452    15710825       Ch'en          592    Spain    Male   31       7   \n",
      "\n",
      "       Balance  NumOfProducts     Salary       Date      Dep  Year  Month  \\\n",
      "0         0.00              1  101348.88 2023-01-01     Bank  2023      1   \n",
      "1         0.00              1  101348.88 2023-01-02     Bank  2023      1   \n",
      "2    159660.80              3  112542.58 2023-01-03     Bank  2023      1   \n",
      "3    159660.80              3  112542.58 2023-01-04     Bank  2023      1   \n",
      "4    125510.82              1   79084.10 2023-01-05     Bank  2023      1   \n",
      "..         ...            ...        ...        ...      ...   ...    ...   \n",
      "448   68065.80              1  138777.00 2025-01-31  Entrepr  2025      1   \n",
      "449  127299.34              2  124694.99 2025-01-31  Entrepr  2025      1   \n",
      "450  174937.64              1   40084.32 2025-01-31  Entrepr  2025      1   \n",
      "451       0.00              2  119232.33 2025-01-31  Entrepr  2025      1   \n",
      "452  110071.10              1   43921.36 2025-01-31  Entrepr  2025      1   \n",
      "\n",
      "     Day    Weekday month_name monthname  filtered_date  day_since_start  \n",
      "0      1     Sunday    January   January          False                0  \n",
      "1      2     Monday    January   January          False                1  \n",
      "2      3    Tuesday    January   January           True                2  \n",
      "3      4  Wednesday    January   January           True                3  \n",
      "4      5   Thursday    January   January           True                4  \n",
      "..   ...        ...        ...       ...            ...              ...  \n",
      "448   31     Friday    January   January           True              761  \n",
      "449   31     Friday    January   January           True              761  \n",
      "450   31     Friday    January   January           True              761  \n",
      "451   31     Friday    January   January           True              761  \n",
      "452   31     Friday    January   January           True              761  \n",
      "\n",
      "[453 rows x 20 columns]\n"
     ]
    }
   ],
   "source": [
    "df['day_since_start'] = (df['Date']-df['Date'].min()).dt.days\n",
    "print(df)"
   ]
  },
  {
   "cell_type": "code",
   "execution_count": 1,
   "id": "6b2368a7-ad93-4a58-9701-d6fad91ddd8e",
   "metadata": {},
   "outputs": [
    {
     "name": "stdout",
     "output_type": "stream",
     "text": [
      "     CustomerId        Name  CreditScore  Country  Gender  Age  Tenure  \\\n",
      "0      15634602    Hargrave          619   France  Female   42       2   \n",
      "1      15634602    Hargrave          619   France  Female   42       2   \n",
      "2      15634602        Onio          502   France  Female   42       8   \n",
      "3      15634602        Onio          502   France  Female   42       8   \n",
      "4      15737888    Mitchell          850    Spain  Female   43       2   \n",
      "..          ...         ...          ...      ...     ...  ...     ...   \n",
      "448    15694860    Uspensky          675   France  Female   38       6   \n",
      "449    15658169        Cook          778    Spain  Female   47       6   \n",
      "450    15794396     Newbold          494  Germany  Female   38       7   \n",
      "451    15785798  Uchechukwu          850   France    Male   40       9   \n",
      "452    15710825       Ch'en          592    Spain    Male   31       7   \n",
      "\n",
      "       Balance  NumOfProducts     Salary       Date      Dep  Year  Month  \\\n",
      "0         0.00              1  101348.88 2023-01-01     Bank  2023      1   \n",
      "1         0.00              1  101348.88 2023-01-02     Bank  2023      1   \n",
      "2    159660.80              3  112542.58 2023-01-03     Bank  2023      1   \n",
      "3    159660.80              3  112542.58 2023-01-04     Bank  2023      1   \n",
      "4    125510.82              1   79084.10 2023-01-05     Bank  2023      1   \n",
      "..         ...            ...        ...        ...      ...   ...    ...   \n",
      "448   68065.80              1  138777.00 2025-01-31  Entrepr  2025      1   \n",
      "449  127299.34              2  124694.99 2025-01-31  Entrepr  2025      1   \n",
      "450  174937.64              1   40084.32 2025-01-31  Entrepr  2025      1   \n",
      "451       0.00              2  119232.33 2025-01-31  Entrepr  2025      1   \n",
      "452  110071.10              1   43921.36 2025-01-31  Entrepr  2025      1   \n",
      "\n",
      "     Day    Weekday  \n",
      "0      1     Sunday  \n",
      "1      2     Monday  \n",
      "2      3    Tuesday  \n",
      "3      4  Wednesday  \n",
      "4      5   Thursday  \n",
      "..   ...        ...  \n",
      "448   31     Friday  \n",
      "449   31     Friday  \n",
      "450   31     Friday  \n",
      "451   31     Friday  \n",
      "452   31     Friday  \n",
      "\n",
      "[453 rows x 16 columns]\n"
     ]
    }
   ],
   "source": [
    "import pandas as pd\n",
    "file_path = r\"C:\\Users\\Sivaraman\\Desktop\\study\\data analytics\\practice\\files_from_df.xlsx\"\n",
    "df = pd.read_excel(file_path)\n",
    "print(df)"
   ]
  },
  {
   "cell_type": "code",
   "execution_count": 2,
   "id": "3299b352-c337-4c60-ba27-8f0fc279b486",
   "metadata": {},
   "outputs": [],
   "source": [
    "df = df[df['Date'] != '2025-01-31']"
   ]
  },
  {
   "cell_type": "code",
   "execution_count": 3,
   "id": "1c762f2d-87e0-4969-b488-ed9e25717477",
   "metadata": {},
   "outputs": [
    {
     "name": "stdout",
     "output_type": "stream",
     "text": [
      "     CustomerId          Name  CreditScore  Country  Gender  Age  Tenure  \\\n",
      "0      15634602      Hargrave          619   France  Female   42       2   \n",
      "1      15634602      Hargrave          619   France  Female   42       2   \n",
      "2      15634602          Onio          502   France  Female   42       8   \n",
      "3      15634602          Onio          502   France  Female   42       8   \n",
      "4      15737888      Mitchell          850    Spain  Female   43       2   \n",
      "..          ...           ...          ...      ...     ...  ...     ...   \n",
      "429    15806467         Boyle          568  Germany    Male   40       1   \n",
      "430    15597602  Nwachinemelu          619  Germany    Male   57       3   \n",
      "431    15743040    Kuznetsova          724  Germany    Male   41       2   \n",
      "432    15705521        Pisani          548  Germany  Female   33       0   \n",
      "433    15595039         Manna          545  Germany  Female   37       8   \n",
      "\n",
      "       Balance  NumOfProducts     Salary       Date      Dep  Year  Month  \\\n",
      "0         0.00              1  101348.88 2023-01-01     Bank  2023      1   \n",
      "1         0.00              1  101348.88 2023-01-02     Bank  2023      1   \n",
      "2    159660.80              3  112542.58 2023-01-03     Bank  2023      1   \n",
      "3    159660.80              3  112542.58 2023-01-04     Bank  2023      1   \n",
      "4    125510.82              1   79084.10 2023-01-05     Bank  2023      1   \n",
      "..         ...            ...        ...        ...      ...   ...    ...   \n",
      "429   99282.63              1  134600.94 2025-01-26  Entrepr  2025      1   \n",
      "430  137946.39              1   72467.99 2025-01-27  Entrepr  2025      1   \n",
      "431  127892.57              2  199645.45 2025-01-28  Entrepr  2025      1   \n",
      "432  101084.36              1   42749.85 2025-01-29  Entrepr  2025      1   \n",
      "433  114754.08              1  136050.44 2025-01-30  Entrepr  2025      1   \n",
      "\n",
      "     Day    Weekday  \n",
      "0      1     Sunday  \n",
      "1      2     Monday  \n",
      "2      3    Tuesday  \n",
      "3      4  Wednesday  \n",
      "4      5   Thursday  \n",
      "..   ...        ...  \n",
      "429   26     Sunday  \n",
      "430   27     Monday  \n",
      "431   28    Tuesday  \n",
      "432   29  Wednesday  \n",
      "433   30   Thursday  \n",
      "\n",
      "[434 rows x 16 columns]\n"
     ]
    }
   ],
   "source": [
    "print(df)"
   ]
  },
  {
   "cell_type": "code",
   "execution_count": 4,
   "id": "96e974fe-dd39-45e5-8120-3ccb3b53eb2e",
   "metadata": {},
   "outputs": [
    {
     "name": "stdout",
     "output_type": "stream",
     "text": [
      "     CustomerId        Name  CreditScore  Country  Gender  Age  Tenure  \\\n",
      "0      15634602    Hargrave          619   France  Female   42       2   \n",
      "1      15634602    Hargrave          619   France  Female   42       2   \n",
      "2      15634602        Onio          502   France  Female   42       8   \n",
      "3      15634602        Onio          502   France  Female   42       8   \n",
      "4      15737888    Mitchell          850    Spain  Female   43       2   \n",
      "..          ...         ...          ...      ...     ...  ...     ...   \n",
      "448    15694860    Uspensky          675   France  Female   38       6   \n",
      "449    15658169        Cook          778    Spain  Female   47       6   \n",
      "450    15794396     Newbold          494  Germany  Female   38       7   \n",
      "451    15785798  Uchechukwu          850   France    Male   40       9   \n",
      "452    15710825       Ch'en          592    Spain    Male   31       7   \n",
      "\n",
      "       Balance  NumOfProducts     Salary                 Date      Dep  Year  \\\n",
      "0         0.00              1  101348.88  2023-01-01 00:00:00     Bank  2023   \n",
      "1         0.00              1  101348.88  2023-01-02 00:00:00     Bank  2023   \n",
      "2    159660.80              3  112542.58  2023-01-03 00:00:00     Bank  2023   \n",
      "3    159660.80              3  112542.58  2023-01-04 00:00:00     Bank  2023   \n",
      "4    125510.82              1   79084.10  2023-01-05 00:00:00     Bank  2023   \n",
      "..         ...            ...        ...                  ...      ...   ...   \n",
      "448   68065.80              1  138777.00  2025-01-31 00:00:00  Entrepr  2025   \n",
      "449  127299.34              2  124694.99  2025-01-31 00:00:00  Entrepr  2025   \n",
      "450  174937.64              1   40084.32  2025-01-31 00:00:00  Entrepr  2025   \n",
      "451       0.00              2  119232.33  2025-01-31 00:00:00  Entrepr  2025   \n",
      "452  110071.10              1   43921.36                  not  Entrepr  2025   \n",
      "\n",
      "     Month  Day    Weekday  \n",
      "0        1    1     Sunday  \n",
      "1        1    2     Monday  \n",
      "2        1    3    Tuesday  \n",
      "3        1    4  Wednesday  \n",
      "4        1    5   Thursday  \n",
      "..     ...  ...        ...  \n",
      "448      1   31     Friday  \n",
      "449      1   31     Friday  \n",
      "450      1   31     Friday  \n",
      "451      1   31     Friday  \n",
      "452      1   31     Friday  \n",
      "\n",
      "[453 rows x 16 columns]\n"
     ]
    }
   ],
   "source": [
    "import pandas as pd\n",
    "file_path = r\"C:\\Users\\Sivaraman\\Desktop\\study\\data analytics\\practice\\files_from_df.xlsx\"\n",
    "df = pd.read_excel(file_path)\n",
    "print(df)"
   ]
  },
  {
   "cell_type": "code",
   "execution_count": 5,
   "id": "5db4b65b-d377-4290-842a-0be933b0c13b",
   "metadata": {},
   "outputs": [
    {
     "data": {
      "text/html": [
       "<div>\n",
       "<style scoped>\n",
       "    .dataframe tbody tr th:only-of-type {\n",
       "        vertical-align: middle;\n",
       "    }\n",
       "\n",
       "    .dataframe tbody tr th {\n",
       "        vertical-align: top;\n",
       "    }\n",
       "\n",
       "    .dataframe thead th {\n",
       "        text-align: right;\n",
       "    }\n",
       "</style>\n",
       "<table border=\"1\" class=\"dataframe\">\n",
       "  <thead>\n",
       "    <tr style=\"text-align: right;\">\n",
       "      <th></th>\n",
       "      <th>CustomerId</th>\n",
       "      <th>Name</th>\n",
       "      <th>CreditScore</th>\n",
       "      <th>Country</th>\n",
       "      <th>Gender</th>\n",
       "      <th>Age</th>\n",
       "      <th>Tenure</th>\n",
       "      <th>Balance</th>\n",
       "      <th>NumOfProducts</th>\n",
       "      <th>Salary</th>\n",
       "      <th>Date</th>\n",
       "      <th>Dep</th>\n",
       "      <th>Year</th>\n",
       "      <th>Month</th>\n",
       "      <th>Day</th>\n",
       "      <th>Weekday</th>\n",
       "    </tr>\n",
       "  </thead>\n",
       "  <tbody>\n",
       "    <tr>\n",
       "      <th>0</th>\n",
       "      <td>15634602</td>\n",
       "      <td>Hargrave</td>\n",
       "      <td>619</td>\n",
       "      <td>France</td>\n",
       "      <td>Female</td>\n",
       "      <td>42</td>\n",
       "      <td>2</td>\n",
       "      <td>0.0</td>\n",
       "      <td>1</td>\n",
       "      <td>101348.88</td>\n",
       "      <td>2023-01-01 00:00:00</td>\n",
       "      <td>Bank</td>\n",
       "      <td>2023</td>\n",
       "      <td>1</td>\n",
       "      <td>1</td>\n",
       "      <td>Sunday</td>\n",
       "    </tr>\n",
       "    <tr>\n",
       "      <th>1</th>\n",
       "      <td>15634602</td>\n",
       "      <td>Hargrave</td>\n",
       "      <td>619</td>\n",
       "      <td>France</td>\n",
       "      <td>Female</td>\n",
       "      <td>42</td>\n",
       "      <td>2</td>\n",
       "      <td>0.0</td>\n",
       "      <td>1</td>\n",
       "      <td>101348.88</td>\n",
       "      <td>2023-01-02 00:00:00</td>\n",
       "      <td>Bank</td>\n",
       "      <td>2023</td>\n",
       "      <td>1</td>\n",
       "      <td>2</td>\n",
       "      <td>Monday</td>\n",
       "    </tr>\n",
       "    <tr>\n",
       "      <th>2</th>\n",
       "      <td>15634602</td>\n",
       "      <td>Onio</td>\n",
       "      <td>502</td>\n",
       "      <td>France</td>\n",
       "      <td>Female</td>\n",
       "      <td>42</td>\n",
       "      <td>8</td>\n",
       "      <td>159660.8</td>\n",
       "      <td>3</td>\n",
       "      <td>112542.58</td>\n",
       "      <td>2023-01-03 00:00:00</td>\n",
       "      <td>Bank</td>\n",
       "      <td>2023</td>\n",
       "      <td>1</td>\n",
       "      <td>3</td>\n",
       "      <td>Tuesday</td>\n",
       "    </tr>\n",
       "    <tr>\n",
       "      <th>3</th>\n",
       "      <td>15634602</td>\n",
       "      <td>Onio</td>\n",
       "      <td>502</td>\n",
       "      <td>France</td>\n",
       "      <td>Female</td>\n",
       "      <td>42</td>\n",
       "      <td>8</td>\n",
       "      <td>159660.8</td>\n",
       "      <td>3</td>\n",
       "      <td>112542.58</td>\n",
       "      <td>2023-01-04 00:00:00</td>\n",
       "      <td>Bank</td>\n",
       "      <td>2023</td>\n",
       "      <td>1</td>\n",
       "      <td>4</td>\n",
       "      <td>Wednesday</td>\n",
       "    </tr>\n",
       "    <tr>\n",
       "      <th>4</th>\n",
       "      <td>15737888</td>\n",
       "      <td>Mitchell</td>\n",
       "      <td>850</td>\n",
       "      <td>Spain</td>\n",
       "      <td>Female</td>\n",
       "      <td>43</td>\n",
       "      <td>2</td>\n",
       "      <td>125510.82</td>\n",
       "      <td>1</td>\n",
       "      <td>79084.1</td>\n",
       "      <td>2023-01-05 00:00:00</td>\n",
       "      <td>Bank</td>\n",
       "      <td>2023</td>\n",
       "      <td>1</td>\n",
       "      <td>5</td>\n",
       "      <td>Thursday</td>\n",
       "    </tr>\n",
       "    <tr>\n",
       "      <th>...</th>\n",
       "      <td>...</td>\n",
       "      <td>...</td>\n",
       "      <td>...</td>\n",
       "      <td>...</td>\n",
       "      <td>...</td>\n",
       "      <td>...</td>\n",
       "      <td>...</td>\n",
       "      <td>...</td>\n",
       "      <td>...</td>\n",
       "      <td>...</td>\n",
       "      <td>...</td>\n",
       "      <td>...</td>\n",
       "      <td>...</td>\n",
       "      <td>...</td>\n",
       "      <td>...</td>\n",
       "      <td>...</td>\n",
       "    </tr>\n",
       "    <tr>\n",
       "      <th>448</th>\n",
       "      <td>15694860</td>\n",
       "      <td>Uspensky</td>\n",
       "      <td>675</td>\n",
       "      <td>France</td>\n",
       "      <td>Female</td>\n",
       "      <td>38</td>\n",
       "      <td>6</td>\n",
       "      <td>68065.8</td>\n",
       "      <td>1</td>\n",
       "      <td>138777.0</td>\n",
       "      <td>2025-01-31 00:00:00</td>\n",
       "      <td>Entrepr</td>\n",
       "      <td>2025</td>\n",
       "      <td>1</td>\n",
       "      <td>31</td>\n",
       "      <td>Friday</td>\n",
       "    </tr>\n",
       "    <tr>\n",
       "      <th>449</th>\n",
       "      <td>15658169</td>\n",
       "      <td>Cook</td>\n",
       "      <td>778</td>\n",
       "      <td>Spain</td>\n",
       "      <td>Female</td>\n",
       "      <td>47</td>\n",
       "      <td>6</td>\n",
       "      <td>127299.34</td>\n",
       "      <td>2</td>\n",
       "      <td>124694.99</td>\n",
       "      <td>2025-01-31 00:00:00</td>\n",
       "      <td>Entrepr</td>\n",
       "      <td>2025</td>\n",
       "      <td>1</td>\n",
       "      <td>31</td>\n",
       "      <td>Friday</td>\n",
       "    </tr>\n",
       "    <tr>\n",
       "      <th>450</th>\n",
       "      <td>15794396</td>\n",
       "      <td>Newbold</td>\n",
       "      <td>494</td>\n",
       "      <td>Germany</td>\n",
       "      <td>Female</td>\n",
       "      <td>38</td>\n",
       "      <td>7</td>\n",
       "      <td>174937.64</td>\n",
       "      <td>1</td>\n",
       "      <td>40084.32</td>\n",
       "      <td>2025-01-31 00:00:00</td>\n",
       "      <td>Entrepr</td>\n",
       "      <td>2025</td>\n",
       "      <td>1</td>\n",
       "      <td>31</td>\n",
       "      <td>Friday</td>\n",
       "    </tr>\n",
       "    <tr>\n",
       "      <th>451</th>\n",
       "      <td>15785798</td>\n",
       "      <td>Uchechukwu</td>\n",
       "      <td>850</td>\n",
       "      <td>France</td>\n",
       "      <td>Male</td>\n",
       "      <td>40</td>\n",
       "      <td>9</td>\n",
       "      <td>0.0</td>\n",
       "      <td>2</td>\n",
       "      <td>119232.33</td>\n",
       "      <td>2025-01-31 00:00:00</td>\n",
       "      <td>Entrepr</td>\n",
       "      <td>2025</td>\n",
       "      <td>1</td>\n",
       "      <td>31</td>\n",
       "      <td>Friday</td>\n",
       "    </tr>\n",
       "    <tr>\n",
       "      <th>452</th>\n",
       "      <td>15710825</td>\n",
       "      <td>Ch'en</td>\n",
       "      <td>592</td>\n",
       "      <td>Spain</td>\n",
       "      <td>Male</td>\n",
       "      <td>31</td>\n",
       "      <td>7</td>\n",
       "      <td>110071.1</td>\n",
       "      <td>1</td>\n",
       "      <td>43921.36</td>\n",
       "      <td>not</td>\n",
       "      <td>Entrepr</td>\n",
       "      <td>2025</td>\n",
       "      <td>1</td>\n",
       "      <td>31</td>\n",
       "      <td>Friday</td>\n",
       "    </tr>\n",
       "  </tbody>\n",
       "</table>\n",
       "<p>453 rows × 16 columns</p>\n",
       "</div>"
      ],
      "text/plain": [
       "    CustomerId        Name CreditScore  Country  Gender Age Tenure    Balance  \\\n",
       "0     15634602    Hargrave         619   France  Female  42      2        0.0   \n",
       "1     15634602    Hargrave         619   France  Female  42      2        0.0   \n",
       "2     15634602        Onio         502   France  Female  42      8   159660.8   \n",
       "3     15634602        Onio         502   France  Female  42      8   159660.8   \n",
       "4     15737888    Mitchell         850    Spain  Female  43      2  125510.82   \n",
       "..         ...         ...         ...      ...     ...  ..    ...        ...   \n",
       "448   15694860    Uspensky         675   France  Female  38      6    68065.8   \n",
       "449   15658169        Cook         778    Spain  Female  47      6  127299.34   \n",
       "450   15794396     Newbold         494  Germany  Female  38      7  174937.64   \n",
       "451   15785798  Uchechukwu         850   France    Male  40      9        0.0   \n",
       "452   15710825       Ch'en         592    Spain    Male  31      7   110071.1   \n",
       "\n",
       "    NumOfProducts     Salary                 Date      Dep  Year Month Day  \\\n",
       "0               1  101348.88  2023-01-01 00:00:00     Bank  2023     1   1   \n",
       "1               1  101348.88  2023-01-02 00:00:00     Bank  2023     1   2   \n",
       "2               3  112542.58  2023-01-03 00:00:00     Bank  2023     1   3   \n",
       "3               3  112542.58  2023-01-04 00:00:00     Bank  2023     1   4   \n",
       "4               1    79084.1  2023-01-05 00:00:00     Bank  2023     1   5   \n",
       "..            ...        ...                  ...      ...   ...   ...  ..   \n",
       "448             1   138777.0  2025-01-31 00:00:00  Entrepr  2025     1  31   \n",
       "449             2  124694.99  2025-01-31 00:00:00  Entrepr  2025     1  31   \n",
       "450             1   40084.32  2025-01-31 00:00:00  Entrepr  2025     1  31   \n",
       "451             2  119232.33  2025-01-31 00:00:00  Entrepr  2025     1  31   \n",
       "452             1   43921.36                  not  Entrepr  2025     1  31   \n",
       "\n",
       "       Weekday  \n",
       "0       Sunday  \n",
       "1       Monday  \n",
       "2      Tuesday  \n",
       "3    Wednesday  \n",
       "4     Thursday  \n",
       "..         ...  \n",
       "448     Friday  \n",
       "449     Friday  \n",
       "450     Friday  \n",
       "451     Friday  \n",
       "452     Friday  \n",
       "\n",
       "[453 rows x 16 columns]"
      ]
     },
     "execution_count": 5,
     "metadata": {},
     "output_type": "execute_result"
    }
   ],
   "source": [
    "df.astype('object')"
   ]
  },
  {
   "cell_type": "code",
   "execution_count": 6,
   "id": "61dbeed8-6221-4056-930d-ed3f3dcf4e6e",
   "metadata": {},
   "outputs": [
    {
     "data": {
      "text/plain": [
       "CustomerId         int64\n",
       "Name              object\n",
       "CreditScore        int64\n",
       "Country           object\n",
       "Gender            object\n",
       "Age                int64\n",
       "Tenure             int64\n",
       "Balance          float64\n",
       "NumOfProducts      int64\n",
       "Salary           float64\n",
       "Date              object\n",
       "Dep               object\n",
       "Year               int64\n",
       "Month              int64\n",
       "Day                int64\n",
       "Weekday           object\n",
       "dtype: object"
      ]
     },
     "execution_count": 6,
     "metadata": {},
     "output_type": "execute_result"
    }
   ],
   "source": [
    "df.dtypes"
   ]
  },
  {
   "cell_type": "code",
   "execution_count": 9,
   "id": "f5c4b07b-786b-4296-a3ea-0f69c4431fbb",
   "metadata": {},
   "outputs": [],
   "source": [
    "df['Date'] = pd.to_datetime(df['Date'], errors = \"coerce\")"
   ]
  },
  {
   "cell_type": "raw",
   "id": "0609ff6a-be5e-41c0-8f64-f31699a8a0a5",
   "metadata": {},
   "source": [
    "print(df.dtypes)"
   ]
  },
  {
   "cell_type": "code",
   "execution_count": 10,
   "id": "d9111786-ba1f-406b-ac9e-405993f020f1",
   "metadata": {},
   "outputs": [
    {
     "data": {
      "text/plain": [
       "CustomerId                int64\n",
       "Name                     object\n",
       "CreditScore               int64\n",
       "Country                  object\n",
       "Gender                   object\n",
       "Age                       int64\n",
       "Tenure                    int64\n",
       "Balance                 float64\n",
       "NumOfProducts             int64\n",
       "Salary                  float64\n",
       "Date             datetime64[ns]\n",
       "Dep                      object\n",
       "Year                      int64\n",
       "Month                     int64\n",
       "Day                       int64\n",
       "Weekday                  object\n",
       "dtype: object"
      ]
     },
     "execution_count": 10,
     "metadata": {},
     "output_type": "execute_result"
    }
   ],
   "source": [
    "df.dtypes"
   ]
  },
  {
   "cell_type": "code",
   "execution_count": 11,
   "id": "799ee89d-ef9d-499b-899a-2ffb9d72ba12",
   "metadata": {},
   "outputs": [],
   "source": [
    "df['formatted_date'] = df['Date'].dt.strftime(\"%d-%b-%Y\")"
   ]
  },
  {
   "cell_type": "code",
   "execution_count": 12,
   "id": "0f0d804e-6564-484e-93f8-8794359f24fe",
   "metadata": {},
   "outputs": [
    {
     "name": "stdout",
     "output_type": "stream",
     "text": [
      "     CustomerId        Name  CreditScore  Country  Gender  Age  Tenure  \\\n",
      "0      15634602    Hargrave          619   France  Female   42       2   \n",
      "1      15634602    Hargrave          619   France  Female   42       2   \n",
      "2      15634602        Onio          502   France  Female   42       8   \n",
      "3      15634602        Onio          502   France  Female   42       8   \n",
      "4      15737888    Mitchell          850    Spain  Female   43       2   \n",
      "..          ...         ...          ...      ...     ...  ...     ...   \n",
      "448    15694860    Uspensky          675   France  Female   38       6   \n",
      "449    15658169        Cook          778    Spain  Female   47       6   \n",
      "450    15794396     Newbold          494  Germany  Female   38       7   \n",
      "451    15785798  Uchechukwu          850   France    Male   40       9   \n",
      "452    15710825       Ch'en          592    Spain    Male   31       7   \n",
      "\n",
      "       Balance  NumOfProducts     Salary       Date      Dep  Year  Month  \\\n",
      "0         0.00              1  101348.88 2023-01-01     Bank  2023      1   \n",
      "1         0.00              1  101348.88 2023-01-02     Bank  2023      1   \n",
      "2    159660.80              3  112542.58 2023-01-03     Bank  2023      1   \n",
      "3    159660.80              3  112542.58 2023-01-04     Bank  2023      1   \n",
      "4    125510.82              1   79084.10 2023-01-05     Bank  2023      1   \n",
      "..         ...            ...        ...        ...      ...   ...    ...   \n",
      "448   68065.80              1  138777.00 2025-01-31  Entrepr  2025      1   \n",
      "449  127299.34              2  124694.99 2025-01-31  Entrepr  2025      1   \n",
      "450  174937.64              1   40084.32 2025-01-31  Entrepr  2025      1   \n",
      "451       0.00              2  119232.33 2025-01-31  Entrepr  2025      1   \n",
      "452  110071.10              1   43921.36        NaT  Entrepr  2025      1   \n",
      "\n",
      "     Day    Weekday formatted_date  \n",
      "0      1     Sunday    01-Jan-2023  \n",
      "1      2     Monday    02-Jan-2023  \n",
      "2      3    Tuesday    03-Jan-2023  \n",
      "3      4  Wednesday    04-Jan-2023  \n",
      "4      5   Thursday    05-Jan-2023  \n",
      "..   ...        ...            ...  \n",
      "448   31     Friday    31-Jan-2025  \n",
      "449   31     Friday    31-Jan-2025  \n",
      "450   31     Friday    31-Jan-2025  \n",
      "451   31     Friday    31-Jan-2025  \n",
      "452   31     Friday            NaN  \n",
      "\n",
      "[453 rows x 17 columns]\n"
     ]
    }
   ],
   "source": [
    "print(df\n",
    "     )"
   ]
  },
  {
   "cell_type": "code",
   "execution_count": 20,
   "id": "46b18c7b-69c9-4cb3-b1d8-5f4ac7e01a18",
   "metadata": {},
   "outputs": [],
   "source": [
    "df['Date'] = df['Date'].fillna(pd.to_datetime('22-11-2001', format = '%d-%m-%Y'))"
   ]
  },
  {
   "cell_type": "raw",
   "id": "36f06bed-5eab-4854-9f8d-68ff35453801",
   "metadata": {},
   "source": [
    "print(df)"
   ]
  },
  {
   "cell_type": "code",
   "execution_count": 16,
   "id": "04ad7b18-e569-4d2d-baec-b362ed9f1ec8",
   "metadata": {},
   "outputs": [
    {
     "name": "stdout",
     "output_type": "stream",
     "text": [
      "     CustomerId        Name  CreditScore  Country  Gender  Age  Tenure  \\\n",
      "0      15634602    Hargrave          619   France  Female   42       2   \n",
      "1      15634602    Hargrave          619   France  Female   42       2   \n",
      "2      15634602        Onio          502   France  Female   42       8   \n",
      "3      15634602        Onio          502   France  Female   42       8   \n",
      "4      15737888    Mitchell          850    Spain  Female   43       2   \n",
      "..          ...         ...          ...      ...     ...  ...     ...   \n",
      "448    15694860    Uspensky          675   France  Female   38       6   \n",
      "449    15658169        Cook          778    Spain  Female   47       6   \n",
      "450    15794396     Newbold          494  Germany  Female   38       7   \n",
      "451    15785798  Uchechukwu          850   France    Male   40       9   \n",
      "452    15710825       Ch'en          592    Spain    Male   31       7   \n",
      "\n",
      "       Balance  NumOfProducts     Salary       Date      Dep  Year  Month  \\\n",
      "0         0.00              1  101348.88 2023-01-01     Bank  2023      1   \n",
      "1         0.00              1  101348.88 2023-01-02     Bank  2023      1   \n",
      "2    159660.80              3  112542.58 2023-01-03     Bank  2023      1   \n",
      "3    159660.80              3  112542.58 2023-01-04     Bank  2023      1   \n",
      "4    125510.82              1   79084.10 2023-01-05     Bank  2023      1   \n",
      "..         ...            ...        ...        ...      ...   ...    ...   \n",
      "448   68065.80              1  138777.00 2025-01-31  Entrepr  2025      1   \n",
      "449  127299.34              2  124694.99 2025-01-31  Entrepr  2025      1   \n",
      "450  174937.64              1   40084.32 2025-01-31  Entrepr  2025      1   \n",
      "451       0.00              2  119232.33 2025-01-31  Entrepr  2025      1   \n",
      "452  110071.10              1   43921.36 2001-11-22  Entrepr  2025      1   \n",
      "\n",
      "     Day    Weekday formatted_date  \n",
      "0      1     Sunday    01-Jan-2023  \n",
      "1      2     Monday    02-Jan-2023  \n",
      "2      3    Tuesday    03-Jan-2023  \n",
      "3      4  Wednesday    04-Jan-2023  \n",
      "4      5   Thursday    05-Jan-2023  \n",
      "..   ...        ...            ...  \n",
      "448   31     Friday    31-Jan-2025  \n",
      "449   31     Friday    31-Jan-2025  \n",
      "450   31     Friday    31-Jan-2025  \n",
      "451   31     Friday    31-Jan-2025  \n",
      "452   31     Friday            NaN  \n",
      "\n",
      "[453 rows x 17 columns]\n"
     ]
    }
   ],
   "source": [
    "print(df)"
   ]
  },
  {
   "cell_type": "code",
   "execution_count": 21,
   "id": "aaad8070-898e-4643-acd8-19ea09285986",
   "metadata": {},
   "outputs": [
    {
     "name": "stdout",
     "output_type": "stream",
     "text": [
      "     CustomerId        Name  CreditScore  Country  Gender  Age  Tenure  \\\n",
      "0      15634602    Hargrave          619   France  Female   42       2   \n",
      "1      15634602    Hargrave          619   France  Female   42       2   \n",
      "2      15634602        Onio          502   France  Female   42       8   \n",
      "3      15634602        Onio          502   France  Female   42       8   \n",
      "4      15737888    Mitchell          850    Spain  Female   43       2   \n",
      "..          ...         ...          ...      ...     ...  ...     ...   \n",
      "448    15694860    Uspensky          675   France  Female   38       6   \n",
      "449    15658169        Cook          778    Spain  Female   47       6   \n",
      "450    15794396     Newbold          494  Germany  Female   38       7   \n",
      "451    15785798  Uchechukwu          850   France    Male   40       9   \n",
      "452    15710825       Ch'en          592    Spain    Male   31       7   \n",
      "\n",
      "       Balance  NumOfProducts     Salary       Date      Dep  Year  Month  \\\n",
      "0         0.00              1  101348.88 2023-01-01     Bank  2023      1   \n",
      "1         0.00              1  101348.88 2023-01-02     Bank  2023      1   \n",
      "2    159660.80              3  112542.58 2023-01-03     Bank  2023      1   \n",
      "3    159660.80              3  112542.58 2023-01-04     Bank  2023      1   \n",
      "4    125510.82              1   79084.10 2023-01-05     Bank  2023      1   \n",
      "..         ...            ...        ...        ...      ...   ...    ...   \n",
      "448   68065.80              1  138777.00 2025-01-31  Entrepr  2025      1   \n",
      "449  127299.34              2  124694.99 2025-01-31  Entrepr  2025      1   \n",
      "450  174937.64              1   40084.32 2025-01-31  Entrepr  2025      1   \n",
      "451       0.00              2  119232.33 2025-01-31  Entrepr  2025      1   \n",
      "452  110071.10              1   43921.36 2001-11-22  Entrepr  2025      1   \n",
      "\n",
      "     Day    Weekday formatted_date  \n",
      "0      1     Sunday    01-Jan-2023  \n",
      "1      2     Monday    02-Jan-2023  \n",
      "2      3    Tuesday    03-Jan-2023  \n",
      "3      4  Wednesday    04-Jan-2023  \n",
      "4      5   Thursday    05-Jan-2023  \n",
      "..   ...        ...            ...  \n",
      "448   31     Friday    31-Jan-2025  \n",
      "449   31     Friday    31-Jan-2025  \n",
      "450   31     Friday    31-Jan-2025  \n",
      "451   31     Friday    31-Jan-2025  \n",
      "452   31     Friday            NaN  \n",
      "\n",
      "[453 rows x 17 columns]\n"
     ]
    }
   ],
   "source": [
    "print(df)"
   ]
  },
  {
   "cell_type": "code",
   "execution_count": 22,
   "id": "1f5bc498-07a1-4b8d-b96f-957a1d10a2b6",
   "metadata": {},
   "outputs": [
    {
     "data": {
      "text/plain": [
       "dtype('<M8[ns]')"
      ]
     },
     "execution_count": 22,
     "metadata": {},
     "output_type": "execute_result"
    }
   ],
   "source": [
    "df['Date'].dtypes"
   ]
  },
  {
   "cell_type": "code",
   "execution_count": 23,
   "id": "f70c0c06-7e61-46ba-a83f-18ce16e1191d",
   "metadata": {},
   "outputs": [
    {
     "data": {
      "text/plain": [
       "CustomerId                 int64\n",
       "Name                      object\n",
       "CreditScore                int64\n",
       "Country                   object\n",
       "Gender                    object\n",
       "Age                        int64\n",
       "Tenure                     int64\n",
       "Balance                  float64\n",
       "NumOfProducts              int64\n",
       "Salary                   float64\n",
       "Date              datetime64[ns]\n",
       "Dep                       object\n",
       "Year                       int64\n",
       "Month                      int64\n",
       "Day                        int64\n",
       "Weekday                   object\n",
       "formatted_date            object\n",
       "dtype: object"
      ]
     },
     "execution_count": 23,
     "metadata": {},
     "output_type": "execute_result"
    }
   ],
   "source": [
    "df.dtypes"
   ]
  },
  {
   "cell_type": "code",
   "execution_count": 37,
   "id": "763b319f-78b2-453e-a4a9-14146ea6ccfc",
   "metadata": {},
   "outputs": [
    {
     "name": "stdout",
     "output_type": "stream",
     "text": [
      "     CustomerId        Name  CreditScore  Country  Gender  Age  Tenure  \\\n",
      "0      15634602    Hargrave          619   France  Female   42       2   \n",
      "1      15634602    Hargrave          619   France  Female   42       2   \n",
      "2      15634602        Onio          502   France  Female   42       8   \n",
      "3      15634602        Onio          502   France  Female   42       8   \n",
      "4      15737888    Mitchell          850    Spain  Female   43       2   \n",
      "..          ...         ...          ...      ...     ...  ...     ...   \n",
      "448    15694860    Uspensky          675   France  Female   38       6   \n",
      "449    15658169        Cook          778    Spain  Female   47       6   \n",
      "450    15794396     Newbold          494  Germany  Female   38       7   \n",
      "451    15785798  Uchechukwu          850   France    Male   40       9   \n",
      "452    15710825       Ch'en          592    Spain    Male   31       7   \n",
      "\n",
      "       Balance  NumOfProducts     Salary  ...  Year Month  Day    Weekday  \\\n",
      "0         0.00              1  101348.88  ...  2023     1    1     Sunday   \n",
      "1         0.00              1  101348.88  ...  2023     1    2     Monday   \n",
      "2    159660.80              3  112542.58  ...  2023     1    3    Tuesday   \n",
      "3    159660.80              3  112542.58  ...  2023     1    4  Wednesday   \n",
      "4    125510.82              1   79084.10  ...  2023     1    5   Thursday   \n",
      "..         ...            ...        ...  ...   ...   ...  ...        ...   \n",
      "448   68065.80              1  138777.00  ...  2025     1   31     Friday   \n",
      "449  127299.34              2  124694.99  ...  2025     1   31     Friday   \n",
      "450  174937.64              1   40084.32  ...  2025     1   31     Friday   \n",
      "451       0.00              2  119232.33  ...  2025     1   31     Friday   \n",
      "452  110071.10              1   43921.36  ...  2025     1   31     Friday   \n",
      "\n",
      "     formatted_date date_plus_12_days date_minus_1month date_plus_10_days  \\\n",
      "0        2023-01-01        2023-01-11        2022-11-01        2023-01-11   \n",
      "1        2023-01-02        2023-01-12        2022-11-02        2023-01-12   \n",
      "2        2023-01-03        2023-01-13        2022-11-03        2023-01-13   \n",
      "3        2023-01-04        2023-01-14        2022-11-04        2023-01-14   \n",
      "4        2023-01-05        2023-01-15        2022-11-05        2023-01-15   \n",
      "..              ...               ...               ...               ...   \n",
      "448      2025-01-31        2025-02-10        2024-11-30        2025-02-10   \n",
      "449      2025-01-31        2025-02-10        2024-11-30        2025-02-10   \n",
      "450      2025-01-31        2025-02-10        2024-11-30        2025-02-10   \n",
      "451      2025-01-31        2025-02-10        2024-11-30        2025-02-10   \n",
      "452      2001-11-22        2001-12-02        2001-09-22        2001-12-02   \n",
      "\n",
      "    date_minus_2month days_diff  \n",
      "0          2022-11-01       -42  \n",
      "1          2022-11-02       -41  \n",
      "2          2022-11-03       -40  \n",
      "3          2022-11-04       -39  \n",
      "4          2022-11-05       -38  \n",
      "..                ...       ...  \n",
      "448        2024-11-30       719  \n",
      "449        2024-11-30       719  \n",
      "450        2024-11-30       719  \n",
      "451        2024-11-30       719  \n",
      "452        2001-09-22     -7752  \n",
      "\n",
      "[453 rows x 22 columns]\n"
     ]
    }
   ],
   "source": [
    "'''df['Date'] = pd.to_datetime(df['Date'], format='%d-%b-%Y', errors='coerce')\n",
    "\n",
    "# Fill NaN values with a specific date\n",
    "df['Date'] = df['Date'].fillna(pd.to_datetime('22-Nov-2001'))'''\n",
    "\n",
    "df['formatted_date'] = pd.to_datetime(df['formatted_date'], format = '%d-%b-%Y', errors = 'coerce')\n",
    "df['formatted_date'] = df['formatted_date'].fillna(pd.to_datetime('21-mar-2025'))\n",
    "print(df)"
   ]
  },
  {
   "cell_type": "code",
   "execution_count": 33,
   "id": "77f88729-985b-4abf-aaeb-42cea46ea490",
   "metadata": {},
   "outputs": [
    {
     "name": "stdout",
     "output_type": "stream",
     "text": [
      "     CustomerId        Name  CreditScore  Country  Gender  Age  Tenure  \\\n",
      "0      15634602    Hargrave          619   France  Female   42       2   \n",
      "1      15634602    Hargrave          619   France  Female   42       2   \n",
      "2      15634602        Onio          502   France  Female   42       8   \n",
      "3      15634602        Onio          502   France  Female   42       8   \n",
      "4      15737888    Mitchell          850    Spain  Female   43       2   \n",
      "..          ...         ...          ...      ...     ...  ...     ...   \n",
      "448    15694860    Uspensky          675   France  Female   38       6   \n",
      "449    15658169        Cook          778    Spain  Female   47       6   \n",
      "450    15794396     Newbold          494  Germany  Female   38       7   \n",
      "451    15785798  Uchechukwu          850   France    Male   40       9   \n",
      "452    15710825       Ch'en          592    Spain    Male   31       7   \n",
      "\n",
      "       Balance  NumOfProducts     Salary  ...      Dep  Year  Month  Day  \\\n",
      "0         0.00              1  101348.88  ...     Bank  2023      1    1   \n",
      "1         0.00              1  101348.88  ...     Bank  2023      1    2   \n",
      "2    159660.80              3  112542.58  ...     Bank  2023      1    3   \n",
      "3    159660.80              3  112542.58  ...     Bank  2023      1    4   \n",
      "4    125510.82              1   79084.10  ...     Bank  2023      1    5   \n",
      "..         ...            ...        ...  ...      ...   ...    ...  ...   \n",
      "448   68065.80              1  138777.00  ...  Entrepr  2025      1   31   \n",
      "449  127299.34              2  124694.99  ...  Entrepr  2025      1   31   \n",
      "450  174937.64              1   40084.32  ...  Entrepr  2025      1   31   \n",
      "451       0.00              2  119232.33  ...  Entrepr  2025      1   31   \n",
      "452  110071.10              1   43921.36  ...  Entrepr  2025      1   31   \n",
      "\n",
      "       Weekday formatted_date date_plus_12_days date_minus_1month  \\\n",
      "0       Sunday     2023-01-01        2023-01-11        2022-11-01   \n",
      "1       Monday     2023-01-02        2023-01-12        2022-11-02   \n",
      "2      Tuesday     2023-01-03        2023-01-13        2022-11-03   \n",
      "3    Wednesday     2023-01-04        2023-01-14        2022-11-04   \n",
      "4     Thursday     2023-01-05        2023-01-15        2022-11-05   \n",
      "..         ...            ...               ...               ...   \n",
      "448     Friday     2025-01-31        2025-02-10        2024-11-30   \n",
      "449     Friday     2025-01-31        2025-02-10        2024-11-30   \n",
      "450     Friday     2025-01-31        2025-02-10        2024-11-30   \n",
      "451     Friday     2025-01-31        2025-02-10        2024-11-30   \n",
      "452     Friday     2001-11-22        2001-12-02        2001-09-22   \n",
      "\n",
      "    date_plus_10_days date_minus_2month  \n",
      "0          2023-01-11        2022-11-01  \n",
      "1          2023-01-12        2022-11-02  \n",
      "2          2023-01-13        2022-11-03  \n",
      "3          2023-01-14        2022-11-04  \n",
      "4          2023-01-15        2022-11-05  \n",
      "..                ...               ...  \n",
      "448        2025-02-10        2024-11-30  \n",
      "449        2025-02-10        2024-11-30  \n",
      "450        2025-02-10        2024-11-30  \n",
      "451        2025-02-10        2024-11-30  \n",
      "452        2001-12-02        2001-09-22  \n",
      "\n",
      "[453 rows x 21 columns]\n"
     ]
    }
   ],
   "source": [
    "'''df['date_plus_10_days'] = df['date'] + pd.Timedelta(days=10)\n",
    "df['date_minus_1_month'] = df['date'] - pd.DateOffset(months=1)\n",
    "\n",
    "print(df[['date', 'date_plus_10_days', 'date_minus_1_month']])\n",
    "'''\n",
    "# this is used to plus or minus in date\n",
    "\n",
    "df['date_plus_10_days'] = df['Date']+ pd.Timedelta(days = 10 )\n",
    "df['date_minus_2month'] = df['Date'] - pd.DateOffset(months = 2)\n",
    "print(df)"
   ]
  },
  {
   "cell_type": "code",
   "execution_count": 36,
   "id": "15bc1852-ffe8-4b09-a0ca-1e4c9203ca95",
   "metadata": {},
   "outputs": [
    {
     "ename": "TypeError",
     "evalue": "cannot add DatetimeArray and Timestamp",
     "output_type": "error",
     "traceback": [
      "\u001b[1;31m---------------------------------------------------------------------------\u001b[0m",
      "\u001b[1;31mTypeError\u001b[0m                                 Traceback (most recent call last)",
      "Cell \u001b[1;32mIn[36], line 4\u001b[0m\n\u001b[0;32m      1\u001b[0m \u001b[38;5;124;03m'''df['days_diff'] = (df['date'] - pd.to_datetime('2023-01-01')).dt.days\u001b[39;00m\n\u001b[0;32m      2\u001b[0m \u001b[38;5;124;03mprint(df[['date', 'days_diff']])\u001b[39;00m\n\u001b[0;32m      3\u001b[0m \u001b[38;5;124;03m'''\u001b[39;00m\n\u001b[1;32m----> 4\u001b[0m df[\u001b[38;5;124m'\u001b[39m\u001b[38;5;124mdays_diff\u001b[39m\u001b[38;5;124m'\u001b[39m] \u001b[38;5;241m=\u001b[39m (\u001b[43mdf\u001b[49m\u001b[43m[\u001b[49m\u001b[38;5;124;43m'\u001b[39;49m\u001b[38;5;124;43mDate\u001b[39;49m\u001b[38;5;124;43m'\u001b[39;49m\u001b[43m]\u001b[49m\u001b[38;5;241;43m+\u001b[39;49m\u001b[43m \u001b[49m\u001b[43mpd\u001b[49m\u001b[38;5;241;43m.\u001b[39;49m\u001b[43mto_datetime\u001b[49m\u001b[43m(\u001b[49m\u001b[38;5;124;43m'\u001b[39;49m\u001b[38;5;124;43m2025-3-21\u001b[39;49m\u001b[38;5;124;43m'\u001b[39;49m\u001b[43m)\u001b[49m)\u001b[38;5;241m.\u001b[39mdt\u001b[38;5;241m.\u001b[39mdays\n\u001b[0;32m      5\u001b[0m \u001b[38;5;28mprint\u001b[39m(df[[\u001b[38;5;124m'\u001b[39m\u001b[38;5;124mDate\u001b[39m\u001b[38;5;124m'\u001b[39m, \u001b[38;5;124m'\u001b[39m\u001b[38;5;124mdays_diff\u001b[39m\u001b[38;5;124m'\u001b[39m]])\n",
      "File \u001b[1;32m~\\AppData\\Local\\Programs\\Python\\Python313\\Lib\\site-packages\\pandas\\core\\ops\\common.py:76\u001b[0m, in \u001b[0;36m_unpack_zerodim_and_defer.<locals>.new_method\u001b[1;34m(self, other)\u001b[0m\n\u001b[0;32m     72\u001b[0m             \u001b[38;5;28;01mreturn\u001b[39;00m \u001b[38;5;28mNotImplemented\u001b[39m\n\u001b[0;32m     74\u001b[0m other \u001b[38;5;241m=\u001b[39m item_from_zerodim(other)\n\u001b[1;32m---> 76\u001b[0m \u001b[38;5;28;01mreturn\u001b[39;00m \u001b[43mmethod\u001b[49m\u001b[43m(\u001b[49m\u001b[38;5;28;43mself\u001b[39;49m\u001b[43m,\u001b[49m\u001b[43m \u001b[49m\u001b[43mother\u001b[49m\u001b[43m)\u001b[49m\n",
      "File \u001b[1;32m~\\AppData\\Local\\Programs\\Python\\Python313\\Lib\\site-packages\\pandas\\core\\arraylike.py:186\u001b[0m, in \u001b[0;36mOpsMixin.__add__\u001b[1;34m(self, other)\u001b[0m\n\u001b[0;32m     98\u001b[0m \u001b[38;5;129m@unpack_zerodim_and_defer\u001b[39m(\u001b[38;5;124m\"\u001b[39m\u001b[38;5;124m__add__\u001b[39m\u001b[38;5;124m\"\u001b[39m)\n\u001b[0;32m     99\u001b[0m \u001b[38;5;28;01mdef\u001b[39;00m \u001b[38;5;21m__add__\u001b[39m(\u001b[38;5;28mself\u001b[39m, other):\n\u001b[0;32m    100\u001b[0m \u001b[38;5;250m    \u001b[39m\u001b[38;5;124;03m\"\"\"\u001b[39;00m\n\u001b[0;32m    101\u001b[0m \u001b[38;5;124;03m    Get Addition of DataFrame and other, column-wise.\u001b[39;00m\n\u001b[0;32m    102\u001b[0m \n\u001b[1;32m   (...)\u001b[0m\n\u001b[0;32m    184\u001b[0m \u001b[38;5;124;03m    moose     3.0     NaN\u001b[39;00m\n\u001b[0;32m    185\u001b[0m \u001b[38;5;124;03m    \"\"\"\u001b[39;00m\n\u001b[1;32m--> 186\u001b[0m     \u001b[38;5;28;01mreturn\u001b[39;00m \u001b[38;5;28;43mself\u001b[39;49m\u001b[38;5;241;43m.\u001b[39;49m\u001b[43m_arith_method\u001b[49m\u001b[43m(\u001b[49m\u001b[43mother\u001b[49m\u001b[43m,\u001b[49m\u001b[43m \u001b[49m\u001b[43moperator\u001b[49m\u001b[38;5;241;43m.\u001b[39;49m\u001b[43madd\u001b[49m\u001b[43m)\u001b[49m\n",
      "File \u001b[1;32m~\\AppData\\Local\\Programs\\Python\\Python313\\Lib\\site-packages\\pandas\\core\\series.py:6135\u001b[0m, in \u001b[0;36mSeries._arith_method\u001b[1;34m(self, other, op)\u001b[0m\n\u001b[0;32m   6133\u001b[0m \u001b[38;5;28;01mdef\u001b[39;00m \u001b[38;5;21m_arith_method\u001b[39m(\u001b[38;5;28mself\u001b[39m, other, op):\n\u001b[0;32m   6134\u001b[0m     \u001b[38;5;28mself\u001b[39m, other \u001b[38;5;241m=\u001b[39m \u001b[38;5;28mself\u001b[39m\u001b[38;5;241m.\u001b[39m_align_for_op(other)\n\u001b[1;32m-> 6135\u001b[0m     \u001b[38;5;28;01mreturn\u001b[39;00m \u001b[43mbase\u001b[49m\u001b[38;5;241;43m.\u001b[39;49m\u001b[43mIndexOpsMixin\u001b[49m\u001b[38;5;241;43m.\u001b[39;49m\u001b[43m_arith_method\u001b[49m\u001b[43m(\u001b[49m\u001b[38;5;28;43mself\u001b[39;49m\u001b[43m,\u001b[49m\u001b[43m \u001b[49m\u001b[43mother\u001b[49m\u001b[43m,\u001b[49m\u001b[43m \u001b[49m\u001b[43mop\u001b[49m\u001b[43m)\u001b[49m\n",
      "File \u001b[1;32m~\\AppData\\Local\\Programs\\Python\\Python313\\Lib\\site-packages\\pandas\\core\\base.py:1382\u001b[0m, in \u001b[0;36mIndexOpsMixin._arith_method\u001b[1;34m(self, other, op)\u001b[0m\n\u001b[0;32m   1379\u001b[0m     rvalues \u001b[38;5;241m=\u001b[39m np\u001b[38;5;241m.\u001b[39marange(rvalues\u001b[38;5;241m.\u001b[39mstart, rvalues\u001b[38;5;241m.\u001b[39mstop, rvalues\u001b[38;5;241m.\u001b[39mstep)\n\u001b[0;32m   1381\u001b[0m \u001b[38;5;28;01mwith\u001b[39;00m np\u001b[38;5;241m.\u001b[39merrstate(\u001b[38;5;28mall\u001b[39m\u001b[38;5;241m=\u001b[39m\u001b[38;5;124m\"\u001b[39m\u001b[38;5;124mignore\u001b[39m\u001b[38;5;124m\"\u001b[39m):\n\u001b[1;32m-> 1382\u001b[0m     result \u001b[38;5;241m=\u001b[39m \u001b[43mops\u001b[49m\u001b[38;5;241;43m.\u001b[39;49m\u001b[43marithmetic_op\u001b[49m\u001b[43m(\u001b[49m\u001b[43mlvalues\u001b[49m\u001b[43m,\u001b[49m\u001b[43m \u001b[49m\u001b[43mrvalues\u001b[49m\u001b[43m,\u001b[49m\u001b[43m \u001b[49m\u001b[43mop\u001b[49m\u001b[43m)\u001b[49m\n\u001b[0;32m   1384\u001b[0m \u001b[38;5;28;01mreturn\u001b[39;00m \u001b[38;5;28mself\u001b[39m\u001b[38;5;241m.\u001b[39m_construct_result(result, name\u001b[38;5;241m=\u001b[39mres_name)\n",
      "File \u001b[1;32m~\\AppData\\Local\\Programs\\Python\\Python313\\Lib\\site-packages\\pandas\\core\\ops\\array_ops.py:273\u001b[0m, in \u001b[0;36marithmetic_op\u001b[1;34m(left, right, op)\u001b[0m\n\u001b[0;32m    260\u001b[0m \u001b[38;5;66;03m# NB: We assume that extract_array and ensure_wrapped_if_datetimelike\u001b[39;00m\n\u001b[0;32m    261\u001b[0m \u001b[38;5;66;03m#  have already been called on `left` and `right`,\u001b[39;00m\n\u001b[0;32m    262\u001b[0m \u001b[38;5;66;03m#  and `maybe_prepare_scalar_for_op` has already been called on `right`\u001b[39;00m\n\u001b[0;32m    263\u001b[0m \u001b[38;5;66;03m# We need to special-case datetime64/timedelta64 dtypes (e.g. because numpy\u001b[39;00m\n\u001b[0;32m    264\u001b[0m \u001b[38;5;66;03m# casts integer dtypes to timedelta64 when operating with timedelta64 - GH#22390)\u001b[39;00m\n\u001b[0;32m    266\u001b[0m \u001b[38;5;28;01mif\u001b[39;00m (\n\u001b[0;32m    267\u001b[0m     should_extension_dispatch(left, right)\n\u001b[0;32m    268\u001b[0m     \u001b[38;5;129;01mor\u001b[39;00m \u001b[38;5;28misinstance\u001b[39m(right, (Timedelta, BaseOffset, Timestamp))\n\u001b[1;32m   (...)\u001b[0m\n\u001b[0;32m    271\u001b[0m     \u001b[38;5;66;03m# Timedelta/Timestamp and other custom scalars are included in the check\u001b[39;00m\n\u001b[0;32m    272\u001b[0m     \u001b[38;5;66;03m# because numexpr will fail on it, see GH#31457\u001b[39;00m\n\u001b[1;32m--> 273\u001b[0m     res_values \u001b[38;5;241m=\u001b[39m \u001b[43mop\u001b[49m\u001b[43m(\u001b[49m\u001b[43mleft\u001b[49m\u001b[43m,\u001b[49m\u001b[43m \u001b[49m\u001b[43mright\u001b[49m\u001b[43m)\u001b[49m\n\u001b[0;32m    274\u001b[0m \u001b[38;5;28;01melse\u001b[39;00m:\n\u001b[0;32m    275\u001b[0m     \u001b[38;5;66;03m# TODO we should handle EAs consistently and move this check before the if/else\u001b[39;00m\n\u001b[0;32m    276\u001b[0m     \u001b[38;5;66;03m# (https://github.com/pandas-dev/pandas/issues/41165)\u001b[39;00m\n\u001b[0;32m    277\u001b[0m     \u001b[38;5;66;03m# error: Argument 2 to \"_bool_arith_check\" has incompatible type\u001b[39;00m\n\u001b[0;32m    278\u001b[0m     \u001b[38;5;66;03m# \"Union[ExtensionArray, ndarray[Any, Any]]\"; expected \"ndarray[Any, Any]\"\u001b[39;00m\n\u001b[0;32m    279\u001b[0m     _bool_arith_check(op, left, right)  \u001b[38;5;66;03m# type: ignore[arg-type]\u001b[39;00m\n",
      "File \u001b[1;32m~\\AppData\\Local\\Programs\\Python\\Python313\\Lib\\site-packages\\pandas\\core\\ops\\common.py:76\u001b[0m, in \u001b[0;36m_unpack_zerodim_and_defer.<locals>.new_method\u001b[1;34m(self, other)\u001b[0m\n\u001b[0;32m     72\u001b[0m             \u001b[38;5;28;01mreturn\u001b[39;00m \u001b[38;5;28mNotImplemented\u001b[39m\n\u001b[0;32m     74\u001b[0m other \u001b[38;5;241m=\u001b[39m item_from_zerodim(other)\n\u001b[1;32m---> 76\u001b[0m \u001b[38;5;28;01mreturn\u001b[39;00m \u001b[43mmethod\u001b[49m\u001b[43m(\u001b[49m\u001b[38;5;28;43mself\u001b[39;49m\u001b[43m,\u001b[49m\u001b[43m \u001b[49m\u001b[43mother\u001b[49m\u001b[43m)\u001b[49m\n",
      "File \u001b[1;32m~\\AppData\\Local\\Programs\\Python\\Python313\\Lib\\site-packages\\pandas\\core\\arrays\\datetimelike.py:1376\u001b[0m, in \u001b[0;36mDatetimeLikeArrayMixin.__add__\u001b[1;34m(self, other)\u001b[0m\n\u001b[0;32m   1374\u001b[0m     result \u001b[38;5;241m=\u001b[39m \u001b[38;5;28mself\u001b[39m\u001b[38;5;241m.\u001b[39m_add_offset(other)\n\u001b[0;32m   1375\u001b[0m \u001b[38;5;28;01melif\u001b[39;00m \u001b[38;5;28misinstance\u001b[39m(other, (datetime, np\u001b[38;5;241m.\u001b[39mdatetime64)):\n\u001b[1;32m-> 1376\u001b[0m     result \u001b[38;5;241m=\u001b[39m \u001b[38;5;28;43mself\u001b[39;49m\u001b[38;5;241;43m.\u001b[39;49m\u001b[43m_add_datetimelike_scalar\u001b[49m\u001b[43m(\u001b[49m\u001b[43mother\u001b[49m\u001b[43m)\u001b[49m\n\u001b[0;32m   1377\u001b[0m \u001b[38;5;28;01melif\u001b[39;00m \u001b[38;5;28misinstance\u001b[39m(other, Period) \u001b[38;5;129;01mand\u001b[39;00m lib\u001b[38;5;241m.\u001b[39mis_np_dtype(\u001b[38;5;28mself\u001b[39m\u001b[38;5;241m.\u001b[39mdtype, \u001b[38;5;124m\"\u001b[39m\u001b[38;5;124mm\u001b[39m\u001b[38;5;124m\"\u001b[39m):\n\u001b[0;32m   1378\u001b[0m     result \u001b[38;5;241m=\u001b[39m \u001b[38;5;28mself\u001b[39m\u001b[38;5;241m.\u001b[39m_add_period(other)\n",
      "File \u001b[1;32m~\\AppData\\Local\\Programs\\Python\\Python313\\Lib\\site-packages\\pandas\\core\\arrays\\datetimelike.py:1085\u001b[0m, in \u001b[0;36mDatetimeLikeArrayMixin._add_datetimelike_scalar\u001b[1;34m(self, other)\u001b[0m\n\u001b[0;32m   1082\u001b[0m \u001b[38;5;129m@final\u001b[39m\n\u001b[0;32m   1083\u001b[0m \u001b[38;5;28;01mdef\u001b[39;00m \u001b[38;5;21m_add_datetimelike_scalar\u001b[39m(\u001b[38;5;28mself\u001b[39m, other) \u001b[38;5;241m-\u001b[39m\u001b[38;5;241m>\u001b[39m DatetimeArray:\n\u001b[0;32m   1084\u001b[0m     \u001b[38;5;28;01mif\u001b[39;00m \u001b[38;5;129;01mnot\u001b[39;00m lib\u001b[38;5;241m.\u001b[39mis_np_dtype(\u001b[38;5;28mself\u001b[39m\u001b[38;5;241m.\u001b[39mdtype, \u001b[38;5;124m\"\u001b[39m\u001b[38;5;124mm\u001b[39m\u001b[38;5;124m\"\u001b[39m):\n\u001b[1;32m-> 1085\u001b[0m         \u001b[38;5;28;01mraise\u001b[39;00m \u001b[38;5;167;01mTypeError\u001b[39;00m(\n\u001b[0;32m   1086\u001b[0m             \u001b[38;5;124mf\u001b[39m\u001b[38;5;124m\"\u001b[39m\u001b[38;5;124mcannot add \u001b[39m\u001b[38;5;132;01m{\u001b[39;00m\u001b[38;5;28mtype\u001b[39m(\u001b[38;5;28mself\u001b[39m)\u001b[38;5;241m.\u001b[39m\u001b[38;5;18m__name__\u001b[39m\u001b[38;5;132;01m}\u001b[39;00m\u001b[38;5;124m and \u001b[39m\u001b[38;5;132;01m{\u001b[39;00m\u001b[38;5;28mtype\u001b[39m(other)\u001b[38;5;241m.\u001b[39m\u001b[38;5;18m__name__\u001b[39m\u001b[38;5;132;01m}\u001b[39;00m\u001b[38;5;124m\"\u001b[39m\n\u001b[0;32m   1087\u001b[0m         )\n\u001b[0;32m   1089\u001b[0m     \u001b[38;5;28mself\u001b[39m \u001b[38;5;241m=\u001b[39m cast(\u001b[38;5;124m\"\u001b[39m\u001b[38;5;124mTimedeltaArray\u001b[39m\u001b[38;5;124m\"\u001b[39m, \u001b[38;5;28mself\u001b[39m)\n\u001b[0;32m   1091\u001b[0m     \u001b[38;5;28;01mfrom\u001b[39;00m \u001b[38;5;21;01mpandas\u001b[39;00m\u001b[38;5;21;01m.\u001b[39;00m\u001b[38;5;21;01mcore\u001b[39;00m\u001b[38;5;21;01m.\u001b[39;00m\u001b[38;5;21;01marrays\u001b[39;00m \u001b[38;5;28;01mimport\u001b[39;00m DatetimeArray\n",
      "\u001b[1;31mTypeError\u001b[0m: cannot add DatetimeArray and Timestamp"
     ]
    }
   ],
   "source": [
    "'''df['days_diff'] = (df['date'] - pd.to_datetime('2023-01-01')).dt.days\n",
    "print(df[['date', 'days_diff']])\n",
    "'''\n",
    "df['days_diff'] = (df['Date']+ pd.to_datetime('2025-3-21')).dt.days\n",
    "print(df[['Date', 'days_diff']])\n",
    "\n"
   ]
  },
  {
   "cell_type": "code",
   "execution_count": 47,
   "id": "5e5b9149-b2f2-4eae-b368-893d88cef34c",
   "metadata": {},
   "outputs": [
    {
     "name": "stdin",
     "output_type": "stream",
     "text": [
      "Enter_Date:  22-nov-2001\n"
     ]
    },
    {
     "name": "stdout",
     "output_type": "stream",
     "text": [
      "Total days from your birth : 8520 days 18:00:50.748807\n",
      "relativedelta(years=+23, months=+3, days=+27, hours=+18, seconds=+50, microseconds=+748807)\n"
     ]
    }
   ],
   "source": [
    "#age calculater\n",
    "from datetime import datetime\n",
    "from dateutil.relativedelta import relativedelta\n",
    "import pandas as pd\n",
    "curr_date = datetime.now()\n",
    "user_input = input('Enter_Date: ')\n",
    "yours_date = pd.to_datetime(user_input, format = '%d-%b-%Y')\n",
    "\n",
    "total_days = pd.to_datetime(curr_date) - pd.to_datetime(yours_date)\n",
    "age = relativedelta(curr_date, yours_date)\n",
    "print('Total days from your birth :',total_days)\n",
    "print(age)\n",
    "# calculation is came little bit wrong"
   ]
  },
  {
   "cell_type": "code",
   "execution_count": 48,
   "id": "eac51ef4-bafa-431c-9f6d-bdb68bb2a3d4",
   "metadata": {},
   "outputs": [
    {
     "name": "stdout",
     "output_type": "stream",
     "text": [
      "     CustomerId        Name  CreditScore  Country  Gender  Age  Tenure  \\\n",
      "0      15634602    Hargrave          619   France  Female   42       2   \n",
      "1      15634602    Hargrave          619   France  Female   42       2   \n",
      "2      15634602        Onio          502   France  Female   42       8   \n",
      "3      15634602        Onio          502   France  Female   42       8   \n",
      "4      15737888    Mitchell          850    Spain  Female   43       2   \n",
      "..          ...         ...          ...      ...     ...  ...     ...   \n",
      "448    15694860    Uspensky          675   France  Female   38       6   \n",
      "449    15658169        Cook          778    Spain  Female   47       6   \n",
      "450    15794396     Newbold          494  Germany  Female   38       7   \n",
      "451    15785798  Uchechukwu          850   France    Male   40       9   \n",
      "452    15710825       Ch'en          592    Spain    Male   31       7   \n",
      "\n",
      "       Balance  NumOfProducts     Salary  ...  Year Month  Day    Weekday  \\\n",
      "0         0.00              1  101348.88  ...  2023     1    1     Sunday   \n",
      "1         0.00              1  101348.88  ...  2023     1    2     Monday   \n",
      "2    159660.80              3  112542.58  ...  2023     1    3    Tuesday   \n",
      "3    159660.80              3  112542.58  ...  2023     1    4  Wednesday   \n",
      "4    125510.82              1   79084.10  ...  2023     1    5   Thursday   \n",
      "..         ...            ...        ...  ...   ...   ...  ...        ...   \n",
      "448   68065.80              1  138777.00  ...  2025     1   31     Friday   \n",
      "449  127299.34              2  124694.99  ...  2025     1   31     Friday   \n",
      "450  174937.64              1   40084.32  ...  2025     1   31     Friday   \n",
      "451       0.00              2  119232.33  ...  2025     1   31     Friday   \n",
      "452  110071.10              1   43921.36  ...  2025     1   31     Friday   \n",
      "\n",
      "     formatted_date date_plus_12_days date_minus_1month date_plus_10_days  \\\n",
      "0        2023-01-01        2023-01-11        2022-11-01        2023-01-11   \n",
      "1        2023-01-02        2023-01-12        2022-11-02        2023-01-12   \n",
      "2        2023-01-03        2023-01-13        2022-11-03        2023-01-13   \n",
      "3        2023-01-04        2023-01-14        2022-11-04        2023-01-14   \n",
      "4        2023-01-05        2023-01-15        2022-11-05        2023-01-15   \n",
      "..              ...               ...               ...               ...   \n",
      "448      2025-01-31        2025-02-10        2024-11-30        2025-02-10   \n",
      "449      2025-01-31        2025-02-10        2024-11-30        2025-02-10   \n",
      "450      2025-01-31        2025-02-10        2024-11-30        2025-02-10   \n",
      "451      2025-01-31        2025-02-10        2024-11-30        2025-02-10   \n",
      "452      2001-11-22        2001-12-02        2001-09-22        2001-12-02   \n",
      "\n",
      "    date_minus_2month days_diff  \n",
      "0          2022-11-01       -42  \n",
      "1          2022-11-02       -41  \n",
      "2          2022-11-03       -40  \n",
      "3          2022-11-04       -39  \n",
      "4          2022-11-05       -38  \n",
      "..                ...       ...  \n",
      "448        2024-11-30       719  \n",
      "449        2024-11-30       719  \n",
      "450        2024-11-30       719  \n",
      "451        2024-11-30       719  \n",
      "452        2001-09-22     -7752  \n",
      "\n",
      "[453 rows x 22 columns]\n"
     ]
    }
   ],
   "source": [
    "print(df)"
   ]
  },
  {
   "cell_type": "code",
   "execution_count": 49,
   "id": "6be6f7c7-487b-4ad2-b99a-e139200568b0",
   "metadata": {},
   "outputs": [
    {
     "data": {
      "text/plain": [
       "Index(['CustomerId', 'Name', 'CreditScore', 'Country', 'Gender', 'Age',\n",
       "       'Tenure', 'Balance', 'NumOfProducts', 'Salary', 'Date', 'Dep', 'Year',\n",
       "       'Month', 'Day', 'Weekday', 'formatted_date', 'date_plus_12_days',\n",
       "       'date_minus_1month', 'date_plus_10_days', 'date_minus_2month',\n",
       "       'days_diff'],\n",
       "      dtype='object')"
      ]
     },
     "execution_count": 49,
     "metadata": {},
     "output_type": "execute_result"
    }
   ],
   "source": [
    "df.columns"
   ]
  },
  {
   "cell_type": "code",
   "execution_count": 50,
   "id": "8beafe83-c6cd-4a77-8613-71887d2f66b4",
   "metadata": {},
   "outputs": [
    {
     "name": "stdout",
     "output_type": "stream",
     "text": [
      "     CustomerId      Name  CreditScore  Country  Gender  Age  Tenure  \\\n",
      "4      15737888  Mitchell          850    Spain  Female   43       2   \n",
      "5      15574012       Chu          645    Spain    Male   44       8   \n",
      "6      15574012  Bartlett          822   France    Male   50       7   \n",
      "7      15574012  Bartlett          376  Germany  Female   29       4   \n",
      "8      15574012  Bartlett          501   France    Male   44       4   \n",
      "..          ...       ...          ...      ...     ...  ...     ...   \n",
      "407    15745354  Franklin          611    Spain  Female   37       4   \n",
      "408    15701376     K'ung          668  Germany    Male   37      10   \n",
      "409    15691625        Ko          537  Germany  Female   41       3   \n",
      "410    15566594  McKenzie          709    Spain    Male   23      10   \n",
      "411    15760431      Pino          850   France    Male   38       1   \n",
      "\n",
      "       Balance  NumOfProducts     Salary  ...  Year Month  Day    Weekday  \\\n",
      "4    125510.82              1   79084.10  ...  2023     1    5   Thursday   \n",
      "5    113755.78              2  149756.71  ...  2023     1    6     Friday   \n",
      "6         0.00              2   10062.80  ...  2023     1    7   Saturday   \n",
      "7    115046.74              4  119346.88  ...  2023     1    8     Sunday   \n",
      "8    142051.07              2   74940.50  ...  2023     1    9     Monday   \n",
      "..         ...            ...        ...  ...   ...   ...  ...        ...   \n",
      "407       0.00              2  125696.26  ...  2024    10    2  Wednesday   \n",
      "408  152958.29              2  159585.61  ...  2024    10    3   Thursday   \n",
      "409  138306.34              1  106761.47  ...  2024    10    4     Friday   \n",
      "410       0.00              2  129590.18  ...  2024    10    5   Saturday   \n",
      "411       0.00              2   80006.65  ...  2024    10    6     Sunday   \n",
      "\n",
      "     formatted_date date_plus_12_days date_minus_1month date_plus_10_days  \\\n",
      "4        2023-01-05        2023-01-15        2022-11-05        2023-01-15   \n",
      "5        2023-01-06        2023-01-16        2022-11-06        2023-01-16   \n",
      "6        2023-01-07        2023-01-17        2022-11-07        2023-01-17   \n",
      "7        2023-01-08        2023-01-18        2022-11-08        2023-01-18   \n",
      "8        2023-01-09        2023-01-19        2022-11-09        2023-01-19   \n",
      "..              ...               ...               ...               ...   \n",
      "407      2024-10-02        2024-10-12        2024-08-02        2024-10-12   \n",
      "408      2024-10-03        2024-10-13        2024-08-03        2024-10-13   \n",
      "409      2024-10-04        2024-10-14        2024-08-04        2024-10-14   \n",
      "410      2024-10-05        2024-10-15        2024-08-05        2024-10-15   \n",
      "411      2024-10-06        2024-10-16        2024-08-06        2024-10-16   \n",
      "\n",
      "    date_minus_2month days_diff  \n",
      "4          2022-11-05       -38  \n",
      "5          2022-11-06       -37  \n",
      "6          2022-11-07       -36  \n",
      "7          2022-11-08       -35  \n",
      "8          2022-11-09       -34  \n",
      "..                ...       ...  \n",
      "407        2024-08-02       598  \n",
      "408        2024-08-03       599  \n",
      "409        2024-08-04       600  \n",
      "410        2024-08-05       601  \n",
      "411        2024-08-06       602  \n",
      "\n",
      "[408 rows x 22 columns]\n"
     ]
    }
   ],
   "source": [
    "filtered_data = df[(df['Date'] >= '2023-01-05 ') & (df['Date'] <='2024-11-30' )]\n",
    "print(filtered_data)"
   ]
  },
  {
   "cell_type": "code",
   "execution_count": 53,
   "id": "e6b0e3c4-76ec-48a6-be96-0d04a5096a03",
   "metadata": {},
   "outputs": [
    {
     "name": "stdout",
     "output_type": "stream",
     "text": [
      "DatetimeIndex(['2023-01-22', '2023-01-23', '2023-01-24', '2023-01-25',\n",
      "               '2023-01-26', '2023-01-27', '2023-01-28', '2023-01-29',\n",
      "               '2023-01-30', '2023-01-31', '2023-02-01'],\n",
      "              dtype='datetime64[ns]', freq='D')\n"
     ]
    }
   ],
   "source": [
    "'''date_range = pd.date_range(start='2023-01-01', periods=5, freq='D')'''\n",
    "#daterange\n",
    "date_rang = pd.date_range(start = '2023-jan-22', periods = 11, freq = 'D')\n",
    "print(date_rang)"
   ]
  },
  {
   "cell_type": "code",
   "execution_count": null,
   "id": "4d5d6db7-f5df-432b-833e-409a99d2763a",
   "metadata": {},
   "outputs": [],
   "source": []
  },
  {
   "cell_type": "code",
   "execution_count": null,
   "id": "284813c2-97ef-40d9-9d95-aa5cce3349f3",
   "metadata": {},
   "outputs": [],
   "source": []
  }
 ],
 "metadata": {
  "kernelspec": {
   "display_name": "Python 3 (ipykernel)",
   "language": "python",
   "name": "python3"
  },
  "language_info": {
   "codemirror_mode": {
    "name": "ipython",
    "version": 3
   },
   "file_extension": ".py",
   "mimetype": "text/x-python",
   "name": "python",
   "nbconvert_exporter": "python",
   "pygments_lexer": "ipython3",
   "version": "3.13.0"
  }
 },
 "nbformat": 4,
 "nbformat_minor": 5
}
