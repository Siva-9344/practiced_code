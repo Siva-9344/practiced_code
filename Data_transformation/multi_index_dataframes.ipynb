{
 "cells": [
  {
   "cell_type": "code",
   "execution_count": 1,
   "id": "5aa4e234-3a5b-45fe-9a8a-ee533adf4084",
   "metadata": {},
   "outputs": [
    {
     "data": {
      "text/plain": [
       "'\\n✅ Hierarchical Organization\\n\\nAllows you to group data by multiple levels (e.g., Year & Quarter, Country & City).\\n\\n📊 Easier Grouping & Aggregation\\n\\nMakes operations like groupby() and agg() more powerful and flexible.\\n\\n🔁 Pivot Table Style Analysis\\n\\nIdeal for reshaping data (like unstacking rows into columns) for reports and dashboards.\\n\\n📂 Managing Panel/Time Series Data\\n\\nUseful in financial, sales, or sensor data where you have repeated measurements over multiple dimensions.\\n\\n✨ Cleaner and More Readable DataFrames\\n\\nMakes complex data easier to read and navigate, especially for large datasets.\\n'"
      ]
     },
     "execution_count": 1,
     "metadata": {},
     "output_type": "execute_result"
    }
   ],
   "source": [
    "# uese: \n",
    "'''\n",
    "✅ Hierarchical Organization\n",
    "\n",
    "Allows you to group data by multiple levels (e.g., Year & Quarter, Country & City).\n",
    "\n",
    "📊 Easier Grouping & Aggregation\n",
    "Makes operations like groupby() and agg() more powerful and flexible.\n",
    "\n",
    "🔁 Pivot Table Style Analysis\n",
    "Ideal for reshaping data (like unstacking rows into columns) for reports and dashboards.\n",
    "\n",
    "📂 Managing Panel/Time Series Data\n",
    "Useful in financial, sales, or sensor data where you have repeated measurements over multiple dimensions.\n",
    "\n",
    "✨ Cleaner and More Readable DataFrames\n",
    "Makes complex data easier to read and navigate, especially for large datasets.\n",
    "'''"
   ]
  },
  {
   "cell_type": "code",
   "execution_count": 5,
   "id": "2787a213-5a04-4eb7-8ef7-a2487e30232e",
   "metadata": {},
   "outputs": [
    {
     "name": "stdout",
     "output_type": "stream",
     "text": [
      "               Marks\n",
      "Name  Subject       \n",
      "Alice math        90\n",
      "Bob   math        80\n",
      "carol math        70\n"
     ]
    }
   ],
   "source": [
    "'''\n",
    "import pandas as pd\n",
    "\n",
    "# Simple data (just 3 rows)\n",
    "data = {\n",
    "    'Marks': [90, 80, 85]\n",
    "}\n",
    "\n",
    "# MultiIndex created from tuples\n",
    "index = pd.MultiIndex.from_tuples([\n",
    "    ('Alice', 'Math'),\n",
    "    ('Bob', 'Math'),\n",
    "    ('Carol', 'Math')\n",
    "], names=['Name', 'Subject'])\n",
    "\n",
    "# Create the DataFrame\n",
    "df = pd.DataFrame(data, index=index)\n",
    "\n",
    "# Show the DataFrame\n",
    "print(df)\n",
    "'''\n",
    "import pandas as pd\n",
    "\n",
    "data = {'Marks' : [90,80,70]}\n",
    "index = pd.MultiIndex.from_tuples([('Alice', 'math'),\n",
    "                                  ('Bob', 'math'),\n",
    "                                  ('carol','math')], names = ['Name', 'Subject'])\n",
    "df = pd.DataFrame(data, index = index)\n",
    "print(df)"
   ]
  },
  {
   "cell_type": "code",
   "execution_count": 11,
   "id": "18bcd565-6061-45c5-9a34-142ab01b0081",
   "metadata": {},
   "outputs": [
    {
     "name": "stdout",
     "output_type": "stream",
     "text": [
      "               marks\n",
      "name  subject       \n",
      "Alice Math        80\n",
      "      English     90\n",
      "siva  science     70\n",
      "      social      98\n",
      "Bob   science     97\n",
      "      history     80\n"
     ]
    }
   ],
   "source": [
    "# 🧑‍🎓 Multi-Subject Example:\n",
    "import pandas as pd\n",
    "\n",
    "# Data: 6 rows (3 students x 2 subjects)\n",
    "'''\n",
    "data = {\n",
    "    'Marks': [90, 85, 88, 80, 78, 92]\n",
    "}\n",
    "\n",
    "# MultiIndex: each student has two subjects\n",
    "index = pd.MultiIndex.from_tuples([\n",
    "    ('Alice', 'Math'),\n",
    "    ('Alice', 'Science'),\n",
    "    ('Bob', 'Math'),\n",
    "    ('Bob', 'Science'),\n",
    "    ('Carol', 'Math'),\n",
    "    ('Carol', 'Science')\n",
    "], names=['Name', 'Subject'])\n",
    "\n",
    "# Create DataFrame\n",
    "df = pd.DataFrame(data, index=index)\n",
    "\n",
    "# Display\n",
    "print(df)\n",
    "'''\n",
    "data = {'marks' :[80,90,70,98,97,80]}\n",
    "\n",
    "index = pd.MultiIndex.from_tuples([('Alice', 'Math'),\n",
    "                                  ('Alice','English'),\n",
    "                                  ('siva', 'science'),\n",
    "                                  ('siva', 'social'),\n",
    "                                   ('Bob', 'science'),\n",
    "                                  ('Bob', 'history')], names = ['name', 'subject'])\n",
    "df = pd.DataFrame(data, index = index)\n",
    "print(df)"
   ]
  },
  {
   "cell_type": "code",
   "execution_count": 13,
   "id": "123d2324-716b-49b6-91be-41265caa54f5",
   "metadata": {},
   "outputs": [
    {
     "name": "stdout",
     "output_type": "stream",
     "text": [
      "              Sales  Profit\n",
      "Year Quarter               \n",
      "2024 Q1         100      20\n",
      "     Q2         150      30\n",
      "2025 Q1         200      50\n",
      "     Q2         250      70\n"
     ]
    }
   ],
   "source": [
    "# creating multiple index\n",
    "'''\n",
    "import pandas as pd\n",
    "# Sample data\n",
    "data = {\n",
    "    'Sales': [100, 150, 200, 250],\n",
    "    'Profit': [20, 30, 50, 70]\n",
    "}\n",
    "# Creating MultiIndex\n",
    "index = pd.MultiIndex.from_tuples([\n",
    "    ('2024', 'Q1'),\n",
    "    ('2024', 'Q2'),\n",
    "    ('2025', 'Q1'),\n",
    "    ('2025', 'Q2')\n",
    "], names=['Year', 'Quarter'])\n",
    "\n",
    "df = pd.DataFrame(data, index=index)\n",
    "print(df)\n",
    "'''\n",
    "import pandas as pd\n",
    "data = {'Sales': [100,150,200,250],\n",
    "       'Profit': [20,30,50,70]}\n",
    "\n",
    "index = pd.MultiIndex.from_tuples([('2024', 'Q1'),\n",
    "                                 ('2024','Q2'),\n",
    "                                 ('2025','Q1'),\n",
    "                                 ('2025', 'Q2')],\n",
    "                                 names = ['Year','Quarter'])\n",
    "df = pd.DataFrame(data, index = index)\n",
    "print(df)"
   ]
  },
  {
   "cell_type": "code",
   "execution_count": 18,
   "id": "0057153e-6084-4527-a103-b490c1f3ddba",
   "metadata": {},
   "outputs": [
    {
     "name": "stdout",
     "output_type": "stream",
     "text": [
      "         Sales  Profit\n",
      "Quarter               \n",
      "Q1         100      20\n",
      "Q2         150      30\n",
      "\n",
      "\n",
      "Sales     100\n",
      "Profit     20\n",
      "Name: (2024, Q1), dtype: int64\n"
     ]
    }
   ],
   "source": [
    "#  2. Accessing Data in MultiIndex\n",
    "\n",
    "# # Get data for year 2024\n",
    "print(df.loc['2024'])\n",
    "print()\n",
    "print()\n",
    "print(df.loc['2024','Q1'])"
   ]
  },
  {
   "cell_type": "code",
   "execution_count": 23,
   "id": "a363b099-2d09-4228-9aed-f3ea74f3b05a",
   "metadata": {},
   "outputs": [
    {
     "name": "stdout",
     "output_type": "stream",
     "text": [
      "1) Q1 sales no matter what the years:\n",
      "\n",
      "      Sales  Profit\n",
      "Year               \n",
      "2024    100      20\n",
      "2025    200      50\n",
      "\n",
      "2) Q2 sales no matter what the years:\n",
      "      Sales  Profit\n",
      "Year               \n",
      "2024    150      30\n",
      "2025    250      70\n"
     ]
    }
   ],
   "source": [
    "#  3. Using xs() to Access Data by Level\n",
    "\n",
    "# .xs() stands for \"cross section\".\n",
    "# 👉 \"Get all rows where Quarter is 'Q1'\", no matter what the year is.\n",
    "\n",
    "print('1) Q1 sales no matter what the years:')\n",
    "print()\n",
    "print(df.xs('Q1', level = 'Quarter'))\n",
    "print()\n",
    "print('2) Q2 sales no matter what the years:')\n",
    "print(df.xs('Q2', level = 'Quarter'))"
   ]
  },
  {
   "cell_type": "code",
   "execution_count": 29,
   "id": "dfb472f2-1c57-4c34-ad38-2156d484b728",
   "metadata": {},
   "outputs": [
    {
     "name": "stdout",
     "output_type": "stream",
     "text": [
      "Mean :\n",
      "      Sales  Profit\n",
      "Year               \n",
      "2024  125.0    25.0\n",
      "2025  225.0    60.0\n",
      "\n",
      "Standard deviation\n",
      "          Sales     Profit\n",
      "Year                      \n",
      "2024  35.355339   7.071068\n",
      "2025  35.355339  14.142136\n"
     ]
    }
   ],
   "source": [
    "# 4. Aggregation with groupby() on Levels\n",
    "\n",
    "print('Mean :')\n",
    "print(df.groupby('Year').mean())\n",
    "print()\n",
    "print('Standard deviation: ')\n",
    "print(df.groupby('Year').std())"
   ]
  },
  {
   "cell_type": "code",
   "execution_count": 31,
   "id": "ceb8b8d7-d5ed-4a45-9742-e444a92a7c0c",
   "metadata": {},
   "outputs": [
    {
     "name": "stdout",
     "output_type": "stream",
     "text": [
      "              Sales  Profit\n",
      "Quarter Year               \n",
      "Q1      2024    100      20\n",
      "        2025    200      50\n",
      "Q2      2024    150      30\n",
      "        2025    250      70\n"
     ]
    }
   ],
   "source": [
    "#  5. Swapping Index Levels\n",
    "\n",
    "df_swapped = df.swaplevel()\n",
    "print(df_swapped.sort_index())"
   ]
  },
  {
   "cell_type": "code",
   "execution_count": 41,
   "id": "f7ea509f-5ca8-4ae0-87df-cf7db0eb6315",
   "metadata": {},
   "outputs": [
    {
     "name": "stdout",
     "output_type": "stream",
     "text": [
      "   Year Quarter  Sales  Profit\n",
      "0  2024      Q1    100      20\n",
      "1  2024      Q2    150      30\n",
      "2  2025      Q1    200      50\n",
      "3  2025      Q2    250      70\n",
      "\n",
      "              Sales  Profit\n",
      "Year Quarter               \n",
      "2024 Q1         100      20\n",
      "     Q2         150      30\n",
      "2025 Q1         200      50\n",
      "     Q2         250      70\n"
     ]
    }
   ],
   "source": [
    "# 6. Reset and Set Index\n",
    "\n",
    "reset_df = df.reset_index()\n",
    "print(reset_df)\n",
    "print()\n",
    "again = reset_df.set_index(['Year', 'Quarter'])\n",
    "print(again)"
   ]
  },
  {
   "cell_type": "code",
   "execution_count": 46,
   "id": "f80528ab-506a-48c5-b449-1c00d4a18778",
   "metadata": {},
   "outputs": [
    {
     "name": "stdout",
     "output_type": "stream",
     "text": [
      "              Sales  Profit\n",
      "Year Quarter               \n",
      "2024 Q2         150      30\n",
      "2025 Q2         250      70\n",
      "\n",
      "              Sales  Profit\n",
      "Year Quarter               \n",
      "2024 Q1         100      20\n",
      "2025 Q1         200      50\n",
      "\n",
      "              Sales  Profit\n",
      "Year Quarter               \n",
      "2025 Q2         250      70\n"
     ]
    }
   ],
   "source": [
    "# 7. Filtering with Multiple Conditions\n",
    "\n",
    "# print(df[df.index.get_level_values('Quarter') == 'Q2'])\n",
    "\n",
    "print(df[df.index.get_level_values('Quarter') == 'Q2'])\n",
    "print()\n",
    "print(df[df.index.get_level_values('Quarter') == 'Q1'])\n",
    "print()\n",
    "print(df[df['Sales']> 200])\n"
   ]
  },
  {
   "cell_type": "code",
   "execution_count": 47,
   "id": "bb8a0445-e089-4df6-b6a2-01b3f452641e",
   "metadata": {},
   "outputs": [
    {
     "name": "stdout",
     "output_type": "stream",
     "text": [
      "                Sales  Profit\n",
      "Region Quarter               \n",
      "North  Q1        1200     300\n",
      "       Q2        1500     400\n",
      "       Q3        1800     450\n",
      "       Q4        1100     200\n",
      "South  Q1        1700     350\n",
      "       Q2        1600     320\n",
      "       Q3        1900     500\n",
      "       Q14       1400     280\n"
     ]
    }
   ],
   "source": [
    "# 🛒 Mini Project: Sales Analysis by Region and Quarter\n",
    "'''\n",
    "🔧 Scenario:\n",
    "You work as a data analyst for a retail company. You have quarterly sales data for multiple products across different regions. \n",
    "Your goal is to analyze sales and profit using MultiIndex techniques.\n",
    "'''\n",
    "# ✅ Step 1: Create the DataFrame with MultiIndex\n",
    "\n",
    "import pandas as pd\n",
    "data = {'Sales':  [1200, 1500, 1800, 1100, 1700, 1600, 1900, 1400],\n",
    "       'Profit': [300, 400, 450, 200, 350, 320, 500, 280]}\n",
    "\n",
    "index = pd.MultiIndex.from_tuples([('North','Q1'),\n",
    "                                  ('North','Q2'),\n",
    "                                  ('North','Q3'),\n",
    "                                  ('North','Q4'),\n",
    "                                   ('South','Q1'),\n",
    "                                   ('South','Q2'),\n",
    "                                   ('South','Q3'),\n",
    "                                   ('South','Q14')\n",
    "                                  ], names = ['Region', 'Quarter'])\n",
    "df = pd.DataFrame(data, index = index)\n",
    "print(df)"
   ]
  },
  {
   "cell_type": "code",
   "execution_count": 51,
   "id": "39763359-38e5-4d0a-832e-a5d4e624cdd8",
   "metadata": {},
   "outputs": [
    {
     "name": "stdout",
     "output_type": "stream",
     "text": [
      "        Sales  Profit\n",
      "Region               \n",
      "North    5600    1350\n",
      "South    6600    1450\n"
     ]
    }
   ],
   "source": [
    "# 🎯 Tasks to Practice\n",
    "# 1️⃣ View total sales and profit per region (use groupby() and sum())\n",
    "\n",
    "print(df.groupby(level = 'Region').sum())"
   ]
  },
  {
   "cell_type": "code",
   "execution_count": 54,
   "id": "7f7b0c23-28ca-480a-96ce-94d392a20a23",
   "metadata": {},
   "outputs": [
    {
     "name": "stdout",
     "output_type": "stream",
     "text": [
      "Region\n",
      "North    (North, Q3)\n",
      "South    (South, Q3)\n",
      "Name: Profit, dtype: object\n"
     ]
    }
   ],
   "source": [
    "# 2️⃣ Find the quarter with the highest profit for each region\n",
    "print(df.groupby(level = 'Region')['Profit'].idxmax())"
   ]
  },
  {
   "cell_type": "code",
   "execution_count": 57,
   "id": "b3f0fa04-89f8-4a26-b958-25f517072ddc",
   "metadata": {},
   "outputs": [
    {
     "name": "stdout",
     "output_type": "stream",
     "text": [
      "        Sales  Profit\n",
      "Region               \n",
      "North    1500     400\n",
      "South    1600     320\n"
     ]
    }
   ],
   "source": [
    "# 3️⃣ Get all data for Q2 across all regions (use .xs())\n",
    "print(df.xs('Q2', level = \"Quarter\"))"
   ]
  },
  {
   "cell_type": "code",
   "execution_count": 66,
   "id": "37339f61-981a-4c4e-9d48-c2c7534cec12",
   "metadata": {},
   "outputs": [
    {
     "name": "stdout",
     "output_type": "stream",
     "text": [
      "                Sales  Profit  Profit_margin(%)\n",
      "Region Quarter                                 \n",
      "North  Q1        1200     300         25.000000\n",
      "       Q2        1500     400         26.666667\n",
      "       Q3        1800     450         25.000000\n",
      "       Q4        1100     200         18.181818\n",
      "South  Q1        1700     350         20.588235\n",
      "       Q2        1600     320         20.000000\n",
      "       Q3        1900     500         26.315789\n",
      "       Q14       1400     280         20.000000\n"
     ]
    }
   ],
   "source": [
    "# 4️⃣ Add a new column: Profit Margin (%)\n",
    "df['Profit_margin(%)'] = df['Profit']/ df['Sales']*100\n",
    "print(df)\n",
    "\n"
   ]
  },
  {
   "cell_type": "code",
   "execution_count": 67,
   "id": "81e67092-fd62-4abf-9627-c8ea37a96fb9",
   "metadata": {},
   "outputs": [
    {
     "name": "stdout",
     "output_type": "stream",
     "text": [
      "                Sales  Profit  Profit_margin(%)\n",
      "Region Quarter                                 \n",
      "North  Q3        1800     450         25.000000\n",
      "South  Q1        1700     350         20.588235\n",
      "       Q3        1900     500         26.315789\n"
     ]
    }
   ],
   "source": [
    "# 5️⃣ Filter out entries where sales are above 1600\n",
    "print(df[df['Sales']> 1600])"
   ]
  },
  {
   "cell_type": "code",
   "execution_count": 71,
   "id": "073b0aed-bc45-4655-afea-22c55155fb7b",
   "metadata": {},
   "outputs": [
    {
     "name": "stdout",
     "output_type": "stream",
     "text": [
      "                Sales  Profit  Profit_margin(%)\n",
      "Quarter Region                                 \n",
      "Q1      North    1200     300         25.000000\n",
      "        South    1700     350         20.588235\n",
      "Q14     South    1400     280         20.000000\n",
      "Q2      North    1500     400         26.666667\n",
      "        South    1600     320         20.000000\n",
      "Q3      North    1800     450         25.000000\n",
      "        South    1900     500         26.315789\n",
      "Q4      North    1100     200         18.181818\n"
     ]
    }
   ],
   "source": [
    "# 6️⃣ Swap levels and sort by Quarter first, then Region\n",
    "swapped = df.swaplevel().sort_index()\n",
    "print(swapped)"
   ]
  },
  {
   "cell_type": "code",
   "execution_count": 72,
   "id": "29885422-2d9e-483f-81d6-3bc64eb43896",
   "metadata": {},
   "outputs": [
    {
     "name": "stdout",
     "output_type": "stream",
     "text": [
      "  Region Quarter  Sales  Profit  Profit_margin(%)\n",
      "0  North      Q1   1200     300         25.000000\n",
      "1  North      Q2   1500     400         26.666667\n",
      "2  North      Q3   1800     450         25.000000\n",
      "3  North      Q4   1100     200         18.181818\n",
      "4  South      Q1   1700     350         20.588235\n",
      "5  South      Q2   1600     320         20.000000\n",
      "6  South      Q3   1900     500         26.315789\n",
      "7  South     Q14   1400     280         20.000000\n"
     ]
    }
   ],
   "source": [
    "# 7️⃣ Reset the index and view as a flat table\n",
    "print(df.reset_index())"
   ]
  },
  {
   "cell_type": "code",
   "execution_count": 1,
   "id": "3a1528b9-5f9d-4c1f-8da3-d9bb79f75705",
   "metadata": {},
   "outputs": [
    {
     "name": "stdout",
     "output_type": "stream",
     "text": [
      "  Region Month  Sales\n",
      "0   East   Jan    200\n",
      "1   East   Feb    210\n",
      "2   West   Jan    180\n",
      "3   West   Feb    190\n"
     ]
    }
   ],
   "source": [
    "import pandas as pd\n",
    "\n",
    "data = {'Region' : ['East', 'East', 'West', 'West'],\n",
    "       'Month': ['Jan', 'Feb', 'Jan', 'Feb'],\n",
    "       'Sales': [200, 210, 180, 190]}\n",
    "df = pd.DataFrame(data)\n",
    "print(df)"
   ]
  },
  {
   "cell_type": "code",
   "execution_count": 3,
   "id": "e15bff69-2bb0-4e8e-9cee-c2c649856c10",
   "metadata": {},
   "outputs": [
    {
     "name": "stdout",
     "output_type": "stream",
     "text": [
      "              Sales\n",
      "Region Month       \n",
      "East   Jan      200\n",
      "       Feb      210\n",
      "West   Jan      180\n",
      "       Feb      190\n"
     ]
    }
   ],
   "source": [
    "df_multi = df.set_index(['Region','Month'])\n",
    "print(df_multi)"
   ]
  },
  {
   "cell_type": "code",
   "execution_count": 6,
   "id": "bdd8bf48-8f3a-49e9-a1f5-46ea75df60f7",
   "metadata": {},
   "outputs": [
    {
     "name": "stdout",
     "output_type": "stream",
     "text": [
      "  Region Month  Sales\n",
      "0   East   Jan    200\n",
      "1   East   Feb    210\n",
      "2   West   Jan    180\n",
      "3   West   Feb    190\n"
     ]
    }
   ],
   "source": [
    "reset = df_multi.reset_index()\n",
    "print(reset)"
   ]
  },
  {
   "cell_type": "code",
   "execution_count": 8,
   "id": "0684b72f-954f-4a31-bdd8-9876743e9ae0",
   "metadata": {},
   "outputs": [
    {
     "name": "stdout",
     "output_type": "stream",
     "text": [
      "      Region  Sales\n",
      "Month              \n",
      "Jan     East    200\n",
      "Feb     East    210\n",
      "Jan     West    180\n",
      "Feb     West    190\n"
     ]
    }
   ],
   "source": [
    "df_reset = df_multi.reset_index(level = 'Region')\n",
    "print(df_reset)\n"
   ]
  },
  {
   "cell_type": "code",
   "execution_count": 9,
   "id": "fe85b28f-63ef-40d0-9496-e60f1fb9764d",
   "metadata": {},
   "outputs": [
    {
     "data": {
      "text/plain": [
       "Sales    200\n",
       "Name: (East, Jan), dtype: int64"
      ]
     },
     "execution_count": 9,
     "metadata": {},
     "output_type": "execute_result"
    }
   ],
   "source": [
    "df_multi.loc[('East','Jan')]"
   ]
  },
  {
   "cell_type": "code",
   "execution_count": 10,
   "id": "c3d2456b-ea2c-4533-9ce0-25f09dd8a0f6",
   "metadata": {},
   "outputs": [
    {
     "name": "stdout",
     "output_type": "stream",
     "text": [
      "       Sales\n",
      "Month       \n",
      "Jan      200\n",
      "Feb      210\n"
     ]
    }
   ],
   "source": [
    "# Access All Months for a Region:\n",
    "print(df_multi.loc['East'])"
   ]
  },
  {
   "cell_type": "code",
   "execution_count": null,
   "id": "9206a3af-c9bc-414d-a5f6-ab722ee18f16",
   "metadata": {},
   "outputs": [],
   "source": []
  }
 ],
 "metadata": {
  "kernelspec": {
   "display_name": "Python 3 (ipykernel)",
   "language": "python",
   "name": "python3"
  },
  "language_info": {
   "codemirror_mode": {
    "name": "ipython",
    "version": 3
   },
   "file_extension": ".py",
   "mimetype": "text/x-python",
   "name": "python",
   "nbconvert_exporter": "python",
   "pygments_lexer": "ipython3",
   "version": "3.13.0"
  }
 },
 "nbformat": 4,
 "nbformat_minor": 5
}
