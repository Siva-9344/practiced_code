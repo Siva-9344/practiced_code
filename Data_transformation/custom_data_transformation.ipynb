{
 "cells": [
  {
   "cell_type": "code",
   "execution_count": 38,
   "id": "f57ce181-30bc-409b-b040-1eeff060dfab",
   "metadata": {},
   "outputs": [
    {
     "name": "stdout",
     "output_type": "stream",
     "text": [
      "         Date Product Region  Sales  Returns\n",
      "0  2025-01-01       A   East    100        2\n",
      "1  2025-01-01       B   West    150        3\n",
      "2  2025-01-02       A   East    200        0\n",
      "3  2025-01-02       B   West    120        1\n",
      "4  2025-01-03       A   East    300        0\n"
     ]
    }
   ],
   "source": [
    "# sample data set\n",
    "\n",
    "import pandas as pd\n",
    "\n",
    "data = {\n",
    "    'Date': ['2025-01-01', '2025-01-01', '2025-01-02', '2025-01-02', '2025-01-03'],\n",
    "    'Product': ['A', 'B', 'A', 'B', 'A'],\n",
    "    'Region': ['East', 'West', 'East', 'West', 'East'],\n",
    "    'Sales': [100, 150, 200, 120, 300],\n",
    "    'Returns': [2, 3, 0, 1, 0]\n",
    "}\n",
    "df = pd.DataFrame(data)\n",
    "print(df)\n"
   ]
  },
  {
   "cell_type": "code",
   "execution_count": 2,
   "id": "291e71f8-2a81-476a-a4a5-1725898bd47f",
   "metadata": {},
   "outputs": [
    {
     "name": "stdout",
     "output_type": "stream",
     "text": [
      "         Date Product Region  Sales  Returns\n",
      "0  2025-01-01       A   East    100        2\n",
      "1  2025-01-01       B   West    150        3\n",
      "2  2025-01-02       A   East    200        0\n",
      "3  2025-01-02       B   West    120        1\n",
      "4  2025-01-03       A   East    300        0\n"
     ]
    }
   ],
   "source": [
    "print(df)"
   ]
  },
  {
   "cell_type": "code",
   "execution_count": 17,
   "id": "e8202603-4885-4c03-861f-f7b67bae1b88",
   "metadata": {},
   "outputs": [
    {
     "name": "stdout",
     "output_type": "stream",
     "text": [
      "         Date Product Region  Total_Sales  Returns\n",
      "0  2025-01-01       A   East          100        2\n",
      "1  2025-01-01       B   West          150        3\n",
      "2  2025-01-02       A   East          200        0\n",
      "3  2025-01-02       B   West          120        1\n",
      "4  2025-01-03       A   East          300        0\n"
     ]
    }
   ],
   "source": [
    "#Rename Columns\n",
    "\n",
    "df.rename(columns = {'Sales': 'Total_Sales'}, inplace = True) # inplace=True means that the operation modifies the original df directly.\n",
    "print(df) \n"
   ]
  },
  {
   "cell_type": "code",
   "execution_count": 20,
   "id": "328326a8-db2b-42cf-a7bd-e6c8655cec8e",
   "metadata": {},
   "outputs": [
    {
     "name": "stdout",
     "output_type": "stream",
     "text": [
      "         Date Product Region  Sales  Returns\n",
      "0  2025-01-01       A   East    100        2\n",
      "1  2025-01-01       B   West    150        3\n",
      "2  2025-01-02       A   East    200        0\n",
      "3  2025-01-02       B   West    120        1\n",
      "4  2025-01-03       A   East    300        0\n"
     ]
    }
   ],
   "source": [
    "df.rename(columns = {'Total_sales' : 'Sales'}, inplace = True)\n",
    "print(df)"
   ]
  },
  {
   "cell_type": "code",
   "execution_count": 22,
   "id": "e1b7f9cb-f166-476a-9a82-dc041eebb87f",
   "metadata": {},
   "outputs": [
    {
     "name": "stdout",
     "output_type": "stream",
     "text": [
      "         Date Product Areas  Sales  Returns\n",
      "0  2025-01-01       A  East    100        2\n",
      "1  2025-01-01       B  West    150        3\n",
      "2  2025-01-02       A  East    200        0\n",
      "3  2025-01-02       B  West    120        1\n",
      "4  2025-01-03       A  East    300        0\n"
     ]
    }
   ],
   "source": [
    "df.rename(columns = {'Region': 'Areas'}, inplace = True)\n",
    "print(df)"
   ]
  },
  {
   "cell_type": "code",
   "execution_count": 23,
   "id": "0c0f53d4-cb6d-4b35-8a4b-784e317b7e83",
   "metadata": {},
   "outputs": [
    {
     "name": "stdout",
     "output_type": "stream",
     "text": [
      "         Date Product Region  Sales  Returns\n",
      "0  2025-01-01       A   East    100        2\n",
      "1  2025-01-01       B   West    150        3\n",
      "2  2025-01-02       A   East    200        0\n",
      "3  2025-01-02       B   West    120        1\n",
      "4  2025-01-03       A   East    300        0\n"
     ]
    }
   ],
   "source": [
    "df.rename(columns = {'Areas': 'Region'}, inplace = True)\n",
    "print(df)"
   ]
  },
  {
   "cell_type": "code",
   "execution_count": 24,
   "id": "9a592f50-c3a4-4125-a6fa-6580c2552f3f",
   "metadata": {},
   "outputs": [
    {
     "name": "stdout",
     "output_type": "stream",
     "text": [
      "         Date Product Region  Sales  Returns\n",
      "2  2025-01-02       A   East    200        0\n",
      "4  2025-01-03       A   East    300        0\n"
     ]
    }
   ],
   "source": [
    "#  Filter Rows Based on Condition\n",
    "filtered = df[df['Sales'] > 150]\n",
    "print(filtered)"
   ]
  },
  {
   "cell_type": "code",
   "execution_count": 26,
   "id": "2290ebc3-d1d1-46fa-83bd-11d38a0d9a30",
   "metadata": {},
   "outputs": [
    {
     "name": "stdout",
     "output_type": "stream",
     "text": [
      "   index        Date Product Region  Sales  Returns\n",
      "0      0  2025-01-01       A   East    100        2\n",
      "1      3  2025-01-02       B   West    120        1\n"
     ]
    }
   ],
   "source": [
    "filtered = df[df['Sales'] < 150].reset_index()\n",
    "print(filtered)"
   ]
  },
  {
   "cell_type": "code",
   "execution_count": 28,
   "id": "36c00e22-8a7d-4909-83d3-c94fed4d7519",
   "metadata": {},
   "outputs": [
    {
     "name": "stdout",
     "output_type": "stream",
     "text": [
      "         Date Product Region  Sales  Returns\n",
      "0  2025-01-01       A   East    100        2\n",
      "2  2025-01-02       A   East    200        0\n",
      "4  2025-01-03       A   East    300        0\n"
     ]
    }
   ],
   "source": [
    "filtered = df[df['Region'] == 'East']\n",
    "print(filtered)"
   ]
  },
  {
   "cell_type": "code",
   "execution_count": 29,
   "id": "21bd9798-8f19-4498-9d8d-2982bcbbd42a",
   "metadata": {},
   "outputs": [
    {
     "name": "stdout",
     "output_type": "stream",
     "text": [
      "         Date Product Region  Sales  Returns\n",
      "0  2025-01-01       A   East    100        2\n",
      "1  2025-01-01       B   West    150        3\n",
      "2  2025-01-02       A   East    200        0\n",
      "3  2025-01-02       B   West    120        1\n",
      "4  2025-01-03       A   East    300        0\n"
     ]
    }
   ],
   "source": [
    "print(df)"
   ]
  },
  {
   "cell_type": "code",
   "execution_count": 31,
   "id": "85995172-ef20-4217-9b78-b70476e54407",
   "metadata": {},
   "outputs": [
    {
     "name": "stdout",
     "output_type": "stream",
     "text": [
      "0     80\n",
      "1    120\n",
      "2    200\n",
      "3    110\n",
      "4    300\n",
      "dtype: int64\n"
     ]
    }
   ],
   "source": [
    "net = df['Sales'] - (df['Returns']*10) # returns mean ex: customer is return the product might be that product is dameged.\n",
    "print(net)"
   ]
  },
  {
   "cell_type": "code",
   "execution_count": 34,
   "id": "5b2fd98d-07b3-4f52-aace-e8100699e27c",
   "metadata": {},
   "outputs": [
    {
     "name": "stdout",
     "output_type": "stream",
     "text": [
      "0     No\n",
      "1     No\n",
      "2    Yes\n",
      "3     No\n",
      "4    Yes\n",
      "Name: Sales, dtype: object\n"
     ]
    }
   ],
   "source": [
    "# Conditional Transformation\n",
    "#find higher performer\n",
    "# sales_data['High_Performer'] = sales_data['Total_Sales'].apply(lambda x: 'Yes' if x > 150 else 'No')\n",
    "higher_perf = df['Sales'].apply(lambda x: 'Yes' if x> 150 else 'No')\n",
    "print(higher_perf)"
   ]
  },
  {
   "cell_type": "code",
   "execution_count": 41,
   "id": "06dcd1ed-7afb-4a97-bdf1-e6e3b263869c",
   "metadata": {},
   "outputs": [
    {
     "name": "stdout",
     "output_type": "stream",
     "text": [
      "         Date Product Region  Sales  Returns Region_Performance\n",
      "0  2025-01-01       A   East    100        2            Average\n",
      "1  2025-01-01       B   West    150        3            Average\n",
      "2  2025-01-02       A   East    200        0               Good\n",
      "3  2025-01-02       B   West    120        1            Average\n",
      "4  2025-01-03       A   East    300        0               Good\n"
     ]
    }
   ],
   "source": [
    "#Label Region-wise Performance\n",
    "#If East region and Sales > 150, label as \"Good\" else \"Average\"\n",
    "'''\n",
    "df['Region_Performance'] = df.apply(\n",
    "    lambda row: 'Good' if row['Region'] == 'East' and row['Sales'] > 150 else 'Average', axis=1)\n",
    "'''\n",
    "df['Region_Performance'] = df.apply(lambda row: 'Good' if row['Region'] == 'East' and row['Sales'] > 150 else 'Average', axis = 1) # Axis = 1 mean Row\n",
    "print(df)"
   ]
  },
  {
   "cell_type": "code",
   "execution_count": 43,
   "id": "92818ac0-76bd-4e65-90d8-299bb9390551",
   "metadata": {},
   "outputs": [
    {
     "name": "stdout",
     "output_type": "stream",
     "text": [
      "         Date Product Region  Sales  Returns Region_Performance  \\\n",
      "0  2025-01-01       A   East    100        2            Average   \n",
      "1  2025-01-01       B   West    150        3            Average   \n",
      "2  2025-01-02       A   East    200        0               Good   \n",
      "3  2025-01-02       B   West    120        1            Average   \n",
      "4  2025-01-03       A   East    300        0               Good   \n",
      "\n",
      "  Return_category  \n",
      "0      Low return  \n",
      "1     High return  \n",
      "2       No return  \n",
      "3      Low return  \n",
      "4       No return  \n"
     ]
    }
   ],
   "source": [
    "'''\n",
    "✅ 3. Return Category\n",
    "Categorize returns:\n",
    "\n",
    "0 = 'No Return'\n",
    "\n",
    "1–2 = 'Low Return'\n",
    "\n",
    "2 = 'High Return'\n",
    "'''\n",
    "'''\n",
    "def return_category(x):\n",
    "    if x == 0:\n",
    "        return 'No Return'\n",
    "    elif x <= 2:\n",
    "        return 'Low Return'\n",
    "    else:\n",
    "        return 'High Return'\n",
    "\n",
    "df['Return_Category'] = df['Returns'].apply(return_category)\n",
    "'''\n",
    "\n",
    "def return_category(x): # create the function and apply it,  #) Yes — x gets its value from the data, specifically from each row in the 'Returns' column.\n",
    "    if x == 0:\n",
    "        return 'No return'\n",
    "    elif x <= 2 :\n",
    "        return 'Low return'\n",
    "    else:\n",
    "        return 'High return'\n",
    "df['Return_category'] = df['Returns'].apply(return_category)   \n",
    "print(df)"
   ]
  },
  {
   "cell_type": "code",
   "execution_count": 44,
   "id": "19d07f25-ec91-4249-86a4-51823ba2323a",
   "metadata": {},
   "outputs": [
    {
     "name": "stdout",
     "output_type": "stream",
     "text": [
      "         Date Product Region  Sales  Returns Region_Performance  \\\n",
      "0  2025-01-01       A   East    100        2            Average   \n",
      "1  2025-01-01       B   West    150        3            Average   \n",
      "2  2025-01-02       A   East    200        0               Good   \n",
      "3  2025-01-02       B   West    120        1            Average   \n",
      "4  2025-01-03       A   East    300        0               Good   \n",
      "\n",
      "  Return_category  Net_Sales  \n",
      "0      Low return         80  \n",
      "1     High return        120  \n",
      "2       No return        200  \n",
      "3      Low return        110  \n",
      "4       No return        300  \n"
     ]
    }
   ],
   "source": [
    "'''\n",
    "✅ 4. Net Sales with Conditional Penalty\n",
    "Assume:\n",
    "\n",
    "If Returns > 0: Deduct Returns * 10\n",
    "\n",
    "Else: No deduction\n",
    "'''\n",
    "\n",
    "'''df['Net_Sales'] = df.apply(\n",
    "    lambda row: row['Sales'] - (row['Returns'] * 10) if row['Returns'] > 0 else row['Sales'], axis=1)'''\n",
    "df['Net_Sales'] = df.apply(lambda row: row['Sales'] - (row['Returns']* 10) if row['Returns'] > 0 else row['Sales'], axis = 1)\n",
    "print(df)\n"
   ]
  },
  {
   "cell_type": "code",
   "execution_count": 47,
   "id": "15df1261-f3da-4c79-8d98-e52bf2227cda",
   "metadata": {},
   "outputs": [
    {
     "name": "stdout",
     "output_type": "stream",
     "text": [
      "         Date Product Region  Sales  Returns Region_Performance  \\\n",
      "0  2025-01-01       A   East    100        2            Average   \n",
      "1  2025-01-01       B   West    150        3            Average   \n",
      "2  2025-01-02       A   East    200        0               Good   \n",
      "3  2025-01-02       B   West    120        1            Average   \n",
      "4  2025-01-03       A   East    300        0               Good   \n",
      "\n",
      "  Return_category  Net_Sales  Add_Bonus  \n",
      "0      Low return         80          0  \n",
      "1     High return        120          0  \n",
      "2       No return        200         20  \n",
      "3      Low return        110          0  \n",
      "4       No return        300         20  \n"
     ]
    }
   ],
   "source": [
    "#  Add a Bonus Column (Only for Product A with Sales > 150)\n",
    "\n",
    "df['Add_Bonus'] = df.apply(lambda row: 20 if (row['Product'] == 'A') and (row['Sales']> 150) else 0, axis = 1)\n",
    "print(df)"
   ]
  },
  {
   "cell_type": "code",
   "execution_count": 48,
   "id": "0052c905-0c3b-4935-892e-3ea0b5689245",
   "metadata": {},
   "outputs": [
    {
     "name": "stdout",
     "output_type": "stream",
     "text": [
      "         Sales  Returns   Net_Sales\n",
      "Product                            \n",
      "A          600        2  193.333333\n",
      "B          270        4  115.000000\n"
     ]
    }
   ],
   "source": [
    "# Group By + Aggregation\n",
    "'''grouped = sales_data.groupby('Product').agg({\n",
    "    'Total_Sales': 'sum',\n",
    "    'Returns': 'sum',\n",
    "    'Net_Sales': 'mean'\n",
    "}).reset_index()'''\n",
    "\n",
    "grouped = df.groupby('Product').agg({'Sales': 'sum', 'Returns': 'sum', 'Net_Sales': 'mean'})\n",
    "print(grouped)"
   ]
  },
  {
   "cell_type": "code",
   "execution_count": 49,
   "id": "f07972f8-35c7-416e-9f18-fec2706c5cad",
   "metadata": {},
   "outputs": [
    {
     "name": "stdout",
     "output_type": "stream",
     "text": [
      "         Date Product Region  Sales  Returns Region_Performance  \\\n",
      "0  2025-01-01       A   East    100        2            Average   \n",
      "1  2025-01-01       B   West    150        3            Average   \n",
      "2  2025-01-02       A   East    200        0               Good   \n",
      "3  2025-01-02       B   West    120        1            Average   \n",
      "4  2025-01-03       A   East    300        0               Good   \n",
      "\n",
      "  Return_category  Net_Sales  Add_Bonus  \n",
      "0      Low return         80          0  \n",
      "1     High return        120          0  \n",
      "2       No return        200         20  \n",
      "3      Low return        110          0  \n",
      "4       No return        300         20  \n"
     ]
    }
   ],
   "source": [
    "# pivot tables\n",
    "'''pivot = sales_data.pivot_table(values='Total_Sales', index='Date', columns='Product', aggfunc='sum')\n",
    "'''\n",
    "print(df)"
   ]
  },
  {
   "cell_type": "code",
   "execution_count": 54,
   "id": "98e1dbff-b98b-4fa4-8c05-0f908abe8b3e",
   "metadata": {},
   "outputs": [
    {
     "name": "stdout",
     "output_type": "stream",
     "text": [
      "Product         A      B\n",
      "Date                    \n",
      "2025-01-01  100.0  150.0\n",
      "2025-01-02  200.0  120.0\n",
      "2025-01-03  300.0    NaN\n"
     ]
    }
   ],
   "source": [
    "pivot = df.pivot_table(values = 'Sales', index = 'Date', columns ='Product', aggfunc = 'sum')\n",
    "print(pivot)"
   ]
  },
  {
   "cell_type": "code",
   "execution_count": 1,
   "id": "aa880227-2321-4f8b-a6d8-0623679d1a07",
   "metadata": {},
   "outputs": [
    {
     "name": "stdout",
     "output_type": "stream",
     "text": [
      "         Date Product Region  Sales  Returns\n",
      "0  2025-01-01       A   East    100        2\n",
      "1  2025-01-01       B   West    150        3\n",
      "2  2025-01-02       A   East    200        0\n",
      "3  2025-01-02       B   West    120        1\n",
      "4  2025-01-03       A   East    300        0\n"
     ]
    }
   ],
   "source": [
    "\n",
    "import pandas as pd\n",
    "\n",
    "data = {\n",
    "    'Date': ['2025-01-01', '2025-01-01', '2025-01-02', '2025-01-02', '2025-01-03'],\n",
    "    'Product': ['A', 'B', 'A', 'B', 'A'],\n",
    "    'Region': ['East', 'West', 'East', 'West', 'East'],\n",
    "    'Sales': [100, 150, 200, 120, 300],\n",
    "    'Returns': [2, 3, 0, 1, 0]\n",
    "}\n",
    "df = pd.DataFrame(data)\n",
    "print(df)"
   ]
  },
  {
   "cell_type": "code",
   "execution_count": 2,
   "id": "a742b4fc-8682-48cc-a58f-74ffc0826384",
   "metadata": {},
   "outputs": [
    {
     "name": "stdout",
     "output_type": "stream",
     "text": [
      "         Date Product Region  Sales  Returns Region_Code\n",
      "0  2025-01-01       A   East    100        2           E\n",
      "1  2025-01-01       B   West    150        3           W\n",
      "2  2025-01-02       A   East    200        0           E\n",
      "3  2025-01-02       B   West    120        1           W\n",
      "4  2025-01-03       A   East    300        0           E\n"
     ]
    }
   ],
   "source": [
    "# 🔁 Map / Replace Values\n",
    "df['Region_Code'] = df['Region'].map({'East': 'E', 'West': 'W',})\n",
    "print(df)"
   ]
  },
  {
   "cell_type": "code",
   "execution_count": 3,
   "id": "cb75fe95-f64c-4b05-9c87-c2fb19504869",
   "metadata": {},
   "outputs": [
    {
     "name": "stdout",
     "output_type": "stream",
     "text": [
      "  Region Manager\n",
      "0   East    John\n",
      "1   West    Sara\n"
     ]
    }
   ],
   "source": [
    "r\n",
    "egion_info = pd.DataFrame({\n",
    "    'Region': ['East', 'West'],\n",
    "    'Manager': ['John', 'Sara']\n",
    "})\n",
    "print(region_info)"
   ]
  },
  {
   "cell_type": "code",
   "execution_count": 4,
   "id": "769dd2ca-c82e-4a7f-8ee9-0b501f509252",
   "metadata": {},
   "outputs": [
    {
     "name": "stdout",
     "output_type": "stream",
     "text": [
      "         Date Product Region  Sales  Returns Region_Code Manager\n",
      "0  2025-01-01       A   East    100        2           E    John\n",
      "1  2025-01-01       B   West    150        3           W    Sara\n",
      "2  2025-01-02       A   East    200        0           E    John\n",
      "3  2025-01-02       B   West    120        1           W    Sara\n",
      "4  2025-01-03       A   East    300        0           E    John\n"
     ]
    }
   ],
   "source": [
    "merged = pd.merge(df, region_info,  on = 'Region', how = 'left')\n",
    "#merged = pd.merge(sales_data, region_info, on='Region', how='left')\n",
    "print(merged)"
   ]
  },
  {
   "cell_type": "code",
   "execution_count": 8,
   "id": "ae594783-c66f-485d-ac28-68c326664809",
   "metadata": {},
   "outputs": [
    {
     "name": "stdout",
     "output_type": "stream",
     "text": [
      "  Region  Sales\n",
      "0   East   1000\n",
      "1   West   1500\n",
      "2  South    800\n",
      "\n",
      "  Region  Sales Manager\n",
      "0   East   1000    John\n",
      "1   West   1500    Sara\n",
      "2  South    800     NaN\n"
     ]
    }
   ],
   "source": [
    "# merged\n",
    "import pandas as pd\n",
    "\n",
    "# Sales data\n",
    "sales_data = pd.DataFrame({\n",
    "    'Region': ['East', 'West', 'South'],\n",
    "    'Sales': [1000, 1500, 800]\n",
    "})\n",
    "print(sales_data)\n",
    "\n",
    "print()\n",
    "# Region info data\n",
    "region_info = pd.DataFrame({\n",
    "    'Region': ['East', 'West'],\n",
    "    'Manager': ['John', 'Sara']\n",
    "})\n",
    "\n",
    "# Merge using LEFT JOIN\n",
    "merged = pd.merge(sales_data, region_info, on='Region', how='left')\n",
    "print(merged)\n"
   ]
  },
  {
   "cell_type": "code",
   "execution_count": 7,
   "id": "354f10d9-fbc2-48cc-ad4a-389c18b8f17c",
   "metadata": {},
   "outputs": [
    {
     "name": "stdout",
     "output_type": "stream",
     "text": [
      "\n"
     ]
    }
   ],
   "source": [
    "print()"
   ]
  },
  {
   "cell_type": "code",
   "execution_count": 3,
   "id": "cdba99c6-40c2-45a2-9b8c-d753c875485a",
   "metadata": {},
   "outputs": [
    {
     "name": "stdout",
     "output_type": "stream",
     "text": [
      "    Product clean_name\n",
      "0   @iPhone     iPhone\n",
      "1  #Samsung    Samsung\n",
      "2   @#Pixel      Pixel\n"
     ]
    }
   ],
   "source": [
    "'''\n",
    "📌 7. Clean Column: Remove Special Characters\n",
    "Use Case: Remove @ and # from product names.\n",
    "'''\n",
    "import pandas as pd\n",
    "\n",
    "df = pd.DataFrame({'Product': ['@iPhone', '#Samsung', '@#Pixel']})\n",
    "\n",
    "\n",
    "\n",
    "def clean_name(s):\n",
    "    return s.replace('@','').replace('#','')\n",
    "df['clean_name'] = df['Product'].apply(clean_name)\n",
    "print(df)\n"
   ]
  },
  {
   "cell_type": "code",
   "execution_count": 5,
   "id": "399b9722-8a9e-45c6-abfc-f98373d742fb",
   "metadata": {},
   "outputs": [
    {
     "name": "stdout",
     "output_type": "stream",
     "text": [
      "            Email     Domain\n",
      "0  john@gmail.com  gmail.com\n",
      "1  sara@yahoo.com  yahoo.com\n"
     ]
    }
   ],
   "source": [
    "'''Extract Domain from Email\n",
    "Use Case: From email@example.com extract example.com'''\n",
    "\n",
    "df = pd.DataFrame({'Email': ['john@gmail.com', 'sara@yahoo.com']}) # very easy method for extract\n",
    "df['Domain'] = df['Email'].apply(lambda x: x.split('@')[1])\n",
    "print(df)\n"
   ]
  },
  {
   "cell_type": "code",
   "execution_count": 6,
   "id": "7c43c946-fde6-4738-b9a8-4714198165d6",
   "metadata": {},
   "outputs": [
    {
     "name": "stdout",
     "output_type": "stream",
     "text": [
      "   Price lable\n",
      "0     50   Low\n",
      "1    120  High\n",
      "2     90   Low\n",
      "3    200  High\n"
     ]
    }
   ],
   "source": [
    "'''Flag High & Low Values\n",
    "Use Case: Label prices as 'High' if above 100, else 'Low'.'''\n",
    "\n",
    "df = pd.DataFrame({'Price': [50, 120, 90, 200]})\n",
    "\n",
    "def lable(s):\n",
    "    return 'High'if s>100 else 'Low'\n",
    "df['lable'] = df['Price'].apply(lable)\n",
    "print(df)"
   ]
  },
  {
   "cell_type": "code",
   "execution_count": 7,
   "id": "1466b9b8-2c71-45ca-b405-94dce6c1b688",
   "metadata": {},
   "outputs": [
    {
     "name": "stdout",
     "output_type": "stream",
     "text": [
      "   Score  Capped_score\n",
      "0    110           100\n",
      "1     85            85\n",
      "2     99            99\n",
      "3    130           100\n"
     ]
    }
   ],
   "source": [
    "'''\n",
    " Cap or Limit a Value\n",
    "Use Case: Set a max cap of 100 on score.\n",
    "'''\n",
    "df = pd.DataFrame({'Score': [110, 85, 99, 130]})\n",
    "df['Capped_score'] = df['Score'].apply(lambda x: min(x, 100))\n",
    "print(df)"
   ]
  },
  {
   "cell_type": "code",
   "execution_count": 10,
   "id": "a53b9bb7-7dfe-4784-9b9f-e5a321292611",
   "metadata": {},
   "outputs": [
    {
     "name": "stdout",
     "output_type": "stream",
     "text": [
      "   Temp_C  faren\n",
      "0       0   32.0\n",
      "1      25   77.0\n",
      "2      30   86.0\n"
     ]
    }
   ],
   "source": [
    "'''\n",
    "Convert Temperature (C to F)\n",
    "Use Case: Convert Celsius to Fahrenheit.\n",
    "'''\n",
    "df = pd.DataFrame({'Temp_C': [0, 25, 30]})\n",
    "\n",
    "def c_to_f(tem):\n",
    "    return (tem * 9/5)+32\n",
    "\n",
    "df['faren'] = df['Temp_C'].apply(c_to_f)\n",
    "print(df)"
   ]
  },
  {
   "cell_type": "code",
   "execution_count": null,
   "id": "2abcda9e-d01e-4738-9cc7-679b487affce",
   "metadata": {},
   "outputs": [],
   "source": []
  }
 ],
 "metadata": {
  "kernelspec": {
   "display_name": "Python 3 (ipykernel)",
   "language": "python",
   "name": "python3"
  },
  "language_info": {
   "codemirror_mode": {
    "name": "ipython",
    "version": 3
   },
   "file_extension": ".py",
   "mimetype": "text/x-python",
   "name": "python",
   "nbconvert_exporter": "python",
   "pygments_lexer": "ipython3",
   "version": "3.13.0"
  }
 },
 "nbformat": 4,
 "nbformat_minor": 5
}
