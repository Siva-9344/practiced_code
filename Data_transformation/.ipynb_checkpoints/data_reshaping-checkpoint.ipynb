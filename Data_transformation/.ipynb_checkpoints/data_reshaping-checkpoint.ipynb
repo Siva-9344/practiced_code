{
 "cells": [
  {
   "cell_type": "code",
   "execution_count": 2,
   "id": "d2c8c216-07ab-44ec-a3b7-9cd21c996c57",
   "metadata": {},
   "outputs": [
    {
     "name": "stdout",
     "output_type": "stream",
     "text": [
      "     CustomerId        Name  CreditScore  Country  Gender  Age  Tenure  \\\n",
      "0      15634602    Hargrave          619   France  Female   42       2   \n",
      "1      15634602    Hargrave          619   France  Female   42       2   \n",
      "2      15634602        Onio          502   France  Female   42       8   \n",
      "3      15634602        Onio          502   France  Female   42       8   \n",
      "4      15737888    Mitchell          850    Spain  Female   43       2   \n",
      "..          ...         ...          ...      ...     ...  ...     ...   \n",
      "448    15694860    Uspensky          675   France  Female   38       6   \n",
      "449    15658169        Cook          778    Spain  Female   47       6   \n",
      "450    15794396     Newbold          494  Germany  Female   38       7   \n",
      "451    15785798  Uchechukwu          850   France    Male   40       9   \n",
      "452    15710825       Ch'en          592    Spain    Male   31       7   \n",
      "\n",
      "       Balance  NumOfProducts     Salary       Date      Dep  \n",
      "0         0.00              1  101348.88 2023-01-01     Bank  \n",
      "1         0.00              1  101348.88 2023-01-02     Bank  \n",
      "2    159660.80              3  112542.58 2023-01-03     Bank  \n",
      "3    159660.80              3  112542.58 2023-01-04     Bank  \n",
      "4    125510.82              1   79084.10 2023-01-05     Bank  \n",
      "..         ...            ...        ...        ...      ...  \n",
      "448   68065.80              1  138777.00 2025-01-31  Entrepr  \n",
      "449  127299.34              2  124694.99 2025-01-31  Entrepr  \n",
      "450  174937.64              1   40084.32 2025-01-31  Entrepr  \n",
      "451       0.00              2  119232.33 2025-01-31  Entrepr  \n",
      "452  110071.10              1   43921.36 2025-01-31  Entrepr  \n",
      "\n",
      "[453 rows x 12 columns]\n"
     ]
    }
   ],
   "source": [
    "import pandas as pd\n",
    "file_path = r\"C:\\Users\\Sivaraman\\Desktop\\study\\data analytics\\Data (for practice)\\bank_details_withdate.xlsx\"\n",
    "df = pd.read_excel(file_path)\n",
    "print(df)\n"
   ]
  },
  {
   "cell_type": "code",
   "execution_count": 4,
   "id": "c4168c52-e9d3-4372-8335-f77b2a860883",
   "metadata": {},
   "outputs": [
    {
     "name": "stdout",
     "output_type": "stream",
     "text": [
      "Date        2023-01-01  2023-01-02  2023-01-03  2023-01-04  2023-01-05  \\\n",
      "CustomerId                                                               \n",
      "15566111           NaN         NaN         NaN         NaN         NaN   \n",
      "15566594           NaN         NaN         NaN         NaN         NaN   \n",
      "15568240           NaN         NaN         NaN         NaN         NaN   \n",
      "15568748           NaN         NaN         NaN         NaN         NaN   \n",
      "15568982           NaN         NaN         NaN         NaN         NaN   \n",
      "...                ...         ...         ...         ...         ...   \n",
      "15812191           NaN         NaN         NaN         NaN         NaN   \n",
      "15812518           NaN         NaN         NaN         NaN         NaN   \n",
      "15812878           NaN         NaN         NaN         NaN         NaN   \n",
      "15813163           NaN         NaN         NaN         NaN         NaN   \n",
      "15813844           NaN         NaN         NaN         NaN         NaN   \n",
      "\n",
      "Date        2023-01-06  2023-01-07  2023-01-08  2023-01-09  2023-01-10  ...  \\\n",
      "CustomerId                                                              ...   \n",
      "15566111           NaN         NaN         NaN         NaN         NaN  ...   \n",
      "15566594           NaN         NaN         NaN         NaN         NaN  ...   \n",
      "15568240           NaN         NaN         NaN         NaN         NaN  ...   \n",
      "15568748           NaN         NaN         NaN         NaN         NaN  ...   \n",
      "15568982           NaN         NaN         NaN         NaN         NaN  ...   \n",
      "...                ...         ...         ...         ...         ...  ...   \n",
      "15812191           NaN         NaN         NaN         NaN         NaN  ...   \n",
      "15812518           NaN         NaN         NaN         NaN         NaN  ...   \n",
      "15812878           NaN         NaN         NaN         NaN         NaN  ...   \n",
      "15813163           NaN         NaN         NaN         NaN         NaN  ...   \n",
      "15813844           NaN         NaN         NaN         NaN         NaN  ...   \n",
      "\n",
      "Date        2025-01-22  2025-01-23  2025-01-24  2025-01-25  2025-01-26  \\\n",
      "CustomerId                                                               \n",
      "15566111           NaN         NaN         NaN         NaN         NaN   \n",
      "15566594           NaN         NaN         NaN         NaN         NaN   \n",
      "15568240           NaN         NaN         NaN         NaN         NaN   \n",
      "15568748           NaN         NaN         NaN         NaN         NaN   \n",
      "15568982           NaN         NaN         NaN         NaN         NaN   \n",
      "...                ...         ...         ...         ...         ...   \n",
      "15812191           NaN         NaN         NaN         NaN         NaN   \n",
      "15812518           NaN         NaN         NaN         NaN         NaN   \n",
      "15812878           NaN         NaN         NaN         NaN         NaN   \n",
      "15813163           NaN         NaN         NaN         NaN         NaN   \n",
      "15813844           NaN         NaN         NaN         NaN         NaN   \n",
      "\n",
      "Date        2025-01-27  2025-01-28  2025-01-29  2025-01-30  2025-01-31  \n",
      "CustomerId                                                              \n",
      "15566111           NaN         NaN         NaN         NaN         NaN  \n",
      "15566594           NaN         NaN         NaN         NaN         NaN  \n",
      "15568240           NaN         NaN         NaN         NaN         NaN  \n",
      "15568748           NaN         NaN         NaN         NaN         NaN  \n",
      "15568982           NaN         NaN         NaN         NaN         NaN  \n",
      "...                ...         ...         ...         ...         ...  \n",
      "15812191           NaN         NaN         NaN         NaN         NaN  \n",
      "15812518           NaN         NaN         NaN         NaN         NaN  \n",
      "15812878           NaN         NaN         NaN         NaN         NaN  \n",
      "15813163           NaN         NaN         NaN         NaN         NaN  \n",
      "15813844           NaN         NaN         NaN         NaN         NaN  \n",
      "\n",
      "[437 rows x 427 columns]\n"
     ]
    }
   ],
   "source": [
    "'''pivot_df = df.pivot(index='CustomerId', columns='Date', values='Balance')\n",
    "print(pivot_df)'''\n",
    "\n",
    "pivot_df = df.pivot(index = 'CustomerId', columns = 'Date', values = 'Balance')\n",
    "print(pivot_df)"
   ]
  },
  {
   "cell_type": "code",
   "execution_count": 5,
   "id": "462a2284-d6a9-4050-9338-d8c9222acd8e",
   "metadata": {},
   "outputs": [
    {
     "name": "stdout",
     "output_type": "stream",
     "text": [
      "datetime64[ns]\n"
     ]
    }
   ],
   "source": [
    "print(df['Date'].dtypes)"
   ]
  },
  {
   "cell_type": "code",
   "execution_count": 6,
   "id": "74763813-54d6-4053-8bf9-ef8a7dc083aa",
   "metadata": {},
   "outputs": [
    {
     "name": "stdout",
     "output_type": "stream",
     "text": [
      "         CreditScore\n",
      "Country             \n",
      "France    647.673367\n",
      "Germany   648.076336\n",
      "Spain     646.747967\n"
     ]
    }
   ],
   "source": [
    "#1️⃣ Pivot Table on a Single Column\n",
    "#Find the average CreditScore for each Country\n",
    "'''pivot1 = df.pivot_table(values=\"CreditScore\", index=\"Country\", aggfunc=\"mean\")\n",
    "print(pivot1)\n",
    "'''\n",
    "pivot1 = df.pivot_table(values ='CreditScore', index = 'Country', aggfunc = 'mean')\n",
    "print(pivot1)"
   ]
  },
  {
   "cell_type": "code",
   "execution_count": 7,
   "id": "4e19a849-7f26-47c2-9144-a752da55c36f",
   "metadata": {},
   "outputs": [
    {
     "name": "stdout",
     "output_type": "stream",
     "text": [
      "               Balance         Salary\n",
      "Country                              \n",
      "France    56104.252261   99156.221206\n",
      "Germany  117872.832977  109465.909160\n",
      "Spain     61225.397967  104636.270325\n"
     ]
    }
   ],
   "source": [
    "#2️⃣ Multiple Aggregations in Pivot Table\n",
    "#Find the average Salary and Balance per Country\n",
    "'''pivot2 = df.pivot_table(values=[\"Salary\", \"Balance\"], index=\"Country\", aggfunc=\"mean\")\n",
    "print(pivot2)\n",
    "'''\n",
    "pivot2 = df.pivot_table(values = ['Salary', 'Balance'], index = 'Country', aggfunc = 'mean')\n",
    "print(pivot2)"
   ]
  },
  {
   "cell_type": "code",
   "execution_count": 8,
   "id": "be850cbb-a089-4fd5-89e2-914aced24855",
   "metadata": {},
   "outputs": [
    {
     "name": "stdout",
     "output_type": "stream",
     "text": [
      "                   Balance\n",
      "Country Gender            \n",
      "France  Female  5018052.83\n",
      "        Male    6146693.37\n",
      "Germany Female  7131160.01\n",
      "        Male    8310181.11\n",
      "Spain   Female  3895961.88\n",
      "        Male    3634762.07\n"
     ]
    }
   ],
   "source": [
    "#3️⃣ Group by Multiple Columns\n",
    "#Find the total Balance for each Country and Gender\n",
    "\n",
    "pivot3 = df.pivot_table(index = ['Country', 'Gender'], values = 'Balance', aggfunc = 'sum')\n",
    "print(pivot3)"
   ]
  },
  {
   "cell_type": "code",
   "execution_count": 10,
   "id": "9efe0989-80a6-4268-afb9-0ff1d369c9b9",
   "metadata": {},
   "outputs": [
    {
     "name": "stdout",
     "output_type": "stream",
     "text": [
      "Gender          Female           Male\n",
      "Country                              \n",
      "France   106223.828851   93666.204554\n",
      "Germany  114906.375667  104868.331831\n",
      "Spain     98425.288305  110362.019375\n"
     ]
    }
   ],
   "source": [
    "#4️⃣ Using Columns Parameter\n",
    "#Show Salary distribution across Country and Gender\n",
    "'''pivot4 = df.pivot_table(values=\"Salary\", index=\"Country\", columns=\"Gender\", aggfunc=\"mean\")\n",
    "print(pivot4)\n",
    "'''\n",
    "pivot4 = df.pivot_table(values = 'Salary', index = 'Country', columns = 'Gender', aggfunc = 'mean')\n",
    "print(pivot4)"
   ]
  },
  {
   "cell_type": "code",
   "execution_count": 11,
   "id": "3a4413fc-4833-4ec8-b64d-341980c04ba7",
   "metadata": {},
   "outputs": [
    {
     "name": "stdout",
     "output_type": "stream",
     "text": [
      "             min        max           mean\n",
      "          Salary     Salary         Salary\n",
      "Country                                   \n",
      "France    371.05  199638.56   99156.221206\n",
      "Germany  2319.96  199725.39  109465.909160\n",
      "Spain     417.41  199304.74  104636.270325\n"
     ]
    }
   ],
   "source": [
    "#5️⃣ Pivot with Multiple Aggregations\n",
    "#Find the mean and max Salary per Country\n",
    "'''pivot5 = df.pivot_table(values=\"Salary\", index=\"Country\", aggfunc=[\"mean\", \"max\"])\n",
    "print(pivot5)\n",
    "'''\n",
    "pivot5 = df.pivot_table(index = 'Country', values = 'Salary', aggfunc =['min', 'max', 'mean'])\n",
    "print(pivot5)"
   ]
  },
  {
   "cell_type": "code",
   "execution_count": 13,
   "id": "679d4b29-0afa-44ee-b75a-5533888c7b24",
   "metadata": {},
   "outputs": [
    {
     "name": "stdout",
     "output_type": "stream",
     "text": [
      "                     Balance                                        \\\n",
      "NumOfProducts              1              2           3          4   \n",
      "Country                                                              \n",
      "France          81048.214947   31458.441800   79830.400        NaN   \n",
      "Germany        115787.226714  120325.839815  117969.544  124396.09   \n",
      "Spain           97405.355500   28583.095254       0.000        NaN   \n",
      "\n",
      "                     Salary                                       \n",
      "NumOfProducts             1              2           3         4  \n",
      "Country                                                           \n",
      "France         99589.577684   98636.931000  101846.260       NaN  \n",
      "Germany        99077.452143  125119.844259  100084.024  73860.37  \n",
      "Spain          95319.353667  110041.039153  164669.680       NaN  \n"
     ]
    }
   ],
   "source": [
    "#6️⃣ Show Salary and Balance using NumOfProducts as Columns\n",
    "'''pivot6 = df.pivot_table(values=[\"Salary\", \"Balance\"], index=\"Country\", columns=\"NumOfProducts\", aggfunc=\"mean\")\n",
    "print(pivot6)\n",
    "'''\n",
    "pivot6 = df.pivot_table(columns = 'NumOfProducts', index = 'Country',values = ['Salary', 'Balance'])\n",
    "print(pivot6)"
   ]
  },
  {
   "cell_type": "code",
   "execution_count": 17,
   "id": "4e6db956-558a-4142-991a-991b2f120f2d",
   "metadata": {},
   "outputs": [
    {
     "name": "stdout",
     "output_type": "stream",
     "text": [
      "NumOfProducts          1          2   3   4\n",
      "Age Country                                \n",
      "19  Germany     75888.20        NaN NaN NaN\n",
      "20  Germany          NaN  119714.25 NaN NaN\n",
      "21  France      98373.26  340244.15 NaN NaN\n",
      "    Spain      113157.22        NaN NaN NaN\n",
      "22  France           NaN  174185.98 NaN NaN\n",
      "...                  ...        ...  ..  ..\n",
      "73  France      97259.25        NaN NaN NaN\n",
      "75  Germany          NaN  106307.91 NaN NaN\n",
      "    Spain            NaN       0.00 NaN NaN\n",
      "79  France           NaN       0.00 NaN NaN\n",
      "80  France           NaN       0.00 NaN NaN\n",
      "\n",
      "[119 rows x 4 columns]\n"
     ]
    }
   ],
   "source": [
    "# Show Balance per Age and Country with NumOfProducts as Columns\n",
    "'''pivot7 = df.pivot_table(values=\"Balance\", index=[\"Age\", \"Country\"], columns=\"NumOfProducts\", aggfunc=\"sum\")\n",
    "print(pivot7)\n",
    "'''\n",
    "pivot7 = df.pivot_table(values = 'Balance', index = ['Age', 'Country'], columns = 'NumOfProducts', aggfunc = 'sum')\n",
    "print(pivot7)"
   ]
  },
  {
   "cell_type": "code",
   "execution_count": 19,
   "id": "d8597e51-fdb6-40b5-9c5e-0edc2ebb836e",
   "metadata": {},
   "outputs": [
    {
     "name": "stdout",
     "output_type": "stream",
     "text": [
      "               Balance\n",
      "Date                  \n",
      "2023-01-01        0.00\n",
      "2023-01-02        0.00\n",
      "2023-01-03   159660.80\n",
      "2023-01-04   159660.80\n",
      "2023-01-05   125510.82\n",
      "...                ...\n",
      "2025-01-27   137946.39\n",
      "2025-01-28   127892.57\n",
      "2025-01-29   101084.36\n",
      "2025-01-30   114754.08\n",
      "2025-01-31  1581402.46\n",
      "\n",
      "[427 rows x 1 columns]\n"
     ]
    }
   ],
   "source": [
    "#8️⃣ Find the Balance Trend Over Time\n",
    "'''pivot8 = df.pivot_table(values=\"Balance\", index=\"Date\", aggfunc=\"sum\")\n",
    "print(pivot8)\n",
    "'''\n",
    "pivot8 = df.pivot_table(index = 'Date', values = 'Balance', aggfunc = 'sum')\n",
    "print(pivot8)"
   ]
  },
  {
   "cell_type": "code",
   "execution_count": 24,
   "id": "21cbdb3b-9ef6-4ed3-b60d-aaf16b2ada44",
   "metadata": {},
   "outputs": [
    {
     "name": "stdout",
     "output_type": "stream",
     "text": [
      "                Salary\n",
      "Country               \n",
      "France    99156.221206\n",
      "Germany  109465.909160\n",
      "Spain    104636.270325\n",
      "Total    103625.570353\n"
     ]
    }
   ],
   "source": [
    "#9️⃣ Adding Margins for Total\n",
    "#Find the average Salary per Country and add a Total row\n",
    "pivot9 = df.pivot_table(index = 'Country', values = 'Salary', aggfunc = 'mean', margins = True, margins_name = 'Total')\n",
    "print(pivot9)\n"
   ]
  },
  {
   "cell_type": "code",
   "execution_count": 28,
   "id": "ba15266d-d634-4cb2-bb4a-74100227dacd",
   "metadata": {},
   "outputs": [
    {
     "name": "stdout",
     "output_type": "stream",
     "text": [
      "                   Balance                                        Salary  \\\n",
      "NumOfProducts            1           2          3          4           1   \n",
      "Country Gender                                                             \n",
      "France  Female  2927119.55  1771611.68  319321.60        NaN  4507227.36   \n",
      "        Male    4772460.87  1374232.50        NaN        NaN  4953782.52   \n",
      "Germany Female  3782137.85  2861697.29  372278.13  115046.74  3452810.60   \n",
      "        Male    4322968.02  3635898.06  217569.59  133745.44  3482611.05   \n",
      "Spain   Female  3172504.50   723457.38       0.00        NaN  2923069.48   \n",
      "        Male    2671816.83   962945.24        NaN        NaN  2796091.74   \n",
      "\n",
      "                                                  \n",
      "NumOfProducts            2          3          4  \n",
      "Country Gender                                    \n",
      "France  Female  4326860.71  407385.04        NaN  \n",
      "        Male    5536832.39        NaN        NaN  \n",
      "Germany Female  2992745.15  329479.91  119346.88  \n",
      "        Male    3763726.44  170940.21   28373.86  \n",
      "Spain   Female  2225343.81  658678.72        NaN  \n",
      "        Male    4267077.50        NaN        NaN  \n"
     ]
    }
   ],
   "source": [
    "#🔟 Pivot Table with Multiple Indexes and Columns\n",
    "#Find Balance and Salary grouped by Country and Gender, split by NumOfProducts\n",
    "'''pivot10 = df.pivot_table(values=[\"Balance\", \"Salary\"], index=[\"Country\", \"Gender\"], columns=\"NumOfProducts\", aggfunc=\"sum\")\n",
    "print(pivot10)\n",
    "'''\n",
    "pivot10 = df.pivot_table(index = ['Country', 'Gender'], values = ['Salary', 'Balance'], columns = 'NumOfProducts', aggfunc = 'sum')\n",
    "print(pivot10)"
   ]
  },
  {
   "cell_type": "code",
   "execution_count": 29,
   "id": "67fdc844-93ae-4882-bdb1-ab0aa7791286",
   "metadata": {},
   "outputs": [],
   "source": [
    "# pivot_table() is completed then next pivot()"
   ]
  },
  {
   "cell_type": "code",
   "execution_count": 31,
   "id": "28d6c52c-f863-4f2c-9809-2f2fc2343566",
   "metadata": {},
   "outputs": [
    {
     "name": "stdout",
     "output_type": "stream",
     "text": [
      "   CustomerId      Name  CreditScore Country  Gender  Age  Tenure    Balance  \\\n",
      "0    15634602  Hargrave          619  France  Female   42       2       0.00   \n",
      "1    15634602  Hargrave          619  France  Female   42       2       0.00   \n",
      "2    15634602      Onio          502  France  Female   42       8  159660.80   \n",
      "3    15737888  Mitchell          850   Spain  Female   43       2  125510.82   \n",
      "4    15737888  Mitchell          850   Spain  Female   43       2  125510.82   \n",
      "\n",
      "   NumOfProducts     Salary        Date   Dep  \n",
      "0              1  101348.88  01-01-2023  Bank  \n",
      "1              1  101348.88  02-01-2023  Bank  \n",
      "2              3  112542.58  03-01-2023  Bank  \n",
      "3              1   79084.10  04-01-2023  Bank  \n",
      "4              1   79084.10  05-01-2023  Bank  \n"
     ]
    }
   ],
   "source": [
    "# create the new the data for practice pivot() function in data reshaping\n",
    "import pandas as pd\n",
    "Data = {\"CustomerId\": [15634602, 15634602, 15634602, 15737888, 15737888],\n",
    "       \"Name\": [\"Hargrave\", \"Hargrave\", \"Onio\", \"Mitchell\", \"Mitchell\"],\n",
    "       \"CreditScore\": [619, 619, 502, 850, 850],\n",
    "       \"Country\": [\"France\", \"France\", \"France\", \"Spain\", \"Spain\"],\n",
    "       \"Gender\": [\"Female\", \"Female\", \"Female\", \"Female\", \"Female\"],\"Age\": [42, 42, 42, 43, 43],\n",
    "       \"Tenure\": [2, 2, 8, 2, 2],\n",
    "       \"Balance\": [0, 0, 159660.8, 125510.82, 125510.82],\n",
    "       \"NumOfProducts\": [1, 1, 3, 1, 1],\n",
    "       \"Salary\": [101348.88, 101348.88, 112542.58, 79084.1, 79084.1],\n",
    "       \"Date\": [\"01-01-2023\", \"02-01-2023\", \"03-01-2023\", \"04-01-2023\", \"05-01-2023\"],\n",
    "    \"Dep\": [\"Bank\", \"Bank\", \"Bank\", \"Bank\", \"Bank\"]\n",
    "       }\n",
    "dfn = pd.DataFrame(Data)\n",
    "print(dfn)"
   ]
  },
  {
   "cell_type": "code",
   "execution_count": null,
   "id": "94465050-db4a-4844-9853-fda694fa0d1f",
   "metadata": {},
   "outputs": [],
   "source": []
  }
 ],
 "metadata": {
  "kernelspec": {
   "display_name": "Python 3 (ipykernel)",
   "language": "python",
   "name": "python3"
  },
  "language_info": {
   "codemirror_mode": {
    "name": "ipython",
    "version": 3
   },
   "file_extension": ".py",
   "mimetype": "text/x-python",
   "name": "python",
   "nbconvert_exporter": "python",
   "pygments_lexer": "ipython3",
   "version": "3.13.0"
  }
 },
 "nbformat": 4,
 "nbformat_minor": 5
}
