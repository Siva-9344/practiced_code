{
 "cells": [
  {
   "cell_type": "code",
   "execution_count": 12,
   "id": "bfd2c4d3-d477-484c-bba4-fa7f295b8511",
   "metadata": {},
   "outputs": [],
   "source": [
    "# Perfect! Learning regex (regular expressions) in Pandas is a game-changer for real-world data cleaning and transformation\n",
    "# Common Regex Symbols\n",
    "\n",
    "'''\n",
    "^  : Matches the beginning of a string.  \n",
    "$  : Matches the end of a string.  \n",
    ".  : Matches any single character except newline.  \n",
    "*  : Matches 0 or more repetitions of the previous character.  \n",
    "+  : Matches 1 or more repetitions of the previous character.  \n",
    "?  : Matches 0 or 1 of the previous character.  \n",
    "[] : Matches any one character inside the brackets.  \n",
    "[^]: Matches any one character NOT inside the brackets.  \n",
    "() : Groups patterns together.  \n",
    "|  : Acts like OR between expressions.  \n",
    "\n",
    "'''\n",
    "\n",
    "#  Extract Email Username & Domain\n",
    "import pandas as pd\n",
    "df = pd.DataFrame({'Email': ['john.doe@gmail.com', 'alice_smith@yahoo.com']})\n",
    "\n"
   ]
  },
  {
   "cell_type": "code",
   "execution_count": 8,
   "id": "ef1060e5-e2f6-4e12-b4d0-3de05c3b5aab",
   "metadata": {},
   "outputs": [
    {
     "name": "stdout",
     "output_type": "stream",
     "text": [
      "                   Email\n",
      "0     john.doe@gmail.com\n",
      "1  alice_smith@yahoo.com\n"
     ]
    }
   ],
   "source": [
    "print(df)\n"
   ]
  },
  {
   "cell_type": "code",
   "execution_count": 15,
   "id": "80f51520-4fee-45bf-8361-fb3e663151c2",
   "metadata": {},
   "outputs": [
    {
     "name": "stdout",
     "output_type": "stream",
     "text": [
      "                   Email     Username     Domain\n",
      "0     john.doe@gmail.com     john.doe  gmail.com\n",
      "1  alice_smith@yahoo.com  alice_smith  yahoo.com\n"
     ]
    }
   ],
   "source": [
    "# explantion\n",
    "'''\n",
    "Regex part\t    What it does\n",
    "[^@]+\t        Everything before @\n",
    "@\t            The @ symbol itself\n",
    ".+\t            Everything after @\n",
    "'''\n",
    "\n",
    "df[['Username','Domain']] = df['Email'].str.extract(r'([^@]+)@(.+)')\n",
    "print(df)\n",
    "# Extract username and domain"
   ]
  },
  {
   "cell_type": "code",
   "execution_count": 23,
   "id": "6024e993-a413-4797-a92d-f3eb7bcc9e19",
   "metadata": {},
   "outputs": [
    {
     "name": "stdout",
     "output_type": "stream",
     "text": [
      "                      Text       Phnum\n",
      "0    Call me at 9876543210  9876543210\n",
      "1  My number is 9123456789  9123456789\n"
     ]
    }
   ],
   "source": [
    "#  Extract Phone Numbers\n",
    "df = pd.DataFrame({'Text': ['Call me at 9876543210', 'My number is 9123456789']})\n",
    "df['Phnum'] = df['Text'].str.extract(r'(\\b\\d{10}\\b)') \n",
    "# \\b Meaning: This is a word boundary. eg:abc9876543210xyz----->  \\b9876543210\\b, output: 9876543210\n",
    "# \\d{10} matches exactly 10 digits (9876543210).\n",
    "\n",
    "\n",
    "print(df)\n"
   ]
  },
  {
   "cell_type": "code",
   "execution_count": 32,
   "id": "e9506394-3c4d-486a-9386-02056074af5d",
   "metadata": {},
   "outputs": [
    {
     "name": "stdout",
     "output_type": "stream",
     "text": [
      "               Info        date\n",
      "0  Date: 2025-04-12  2025-04-12\n",
      "1   DOB: 12/04/1999  12/04/1999\n"
     ]
    }
   ],
   "source": [
    "#  Extract Dates in Various Formats\n",
    "df = pd.DataFrame({\"Info\": ['Date: 2025-04-12', 'DOB: 12/04/1999']})\n",
    "df['date'] = df['Info'].str.extract(r'(\\d{2}/\\d{2}/\\d{4}|\\d{4}-\\d{2}-\\d{2})')\n",
    "# carefull space will not come and format should correct that time only output is come / very easy\n",
    "# r'(\\d{4}-\\d{2}-\\d{2}|\\d{2}/\\d{2}/\\d{4})'\n",
    "\n",
    "print(df)"
   ]
  },
  {
   "cell_type": "code",
   "execution_count": 40,
   "id": "7e505195-994c-4b54-9d75-be60167f6691",
   "metadata": {},
   "outputs": [
    {
     "name": "stdout",
     "output_type": "stream",
     "text": [
      "    EmpId prefix   Id\n",
      "0  EMP001    EMP  001\n",
      "1   ID456     ID  456\n",
      "2  EMP999    EMP  999\n"
     ]
    }
   ],
   "source": [
    "#  Extract Alphanumeric Codes (e.g., EMP001, ID456)\n",
    "df = pd.DataFrame({'EmpId': ['EMP001', 'ID456', 'EMP999']})\n",
    "df[['prefix', 'Id']] = df['EmpId'].str.extract(r'([A-Z]+)(\\d+)')\n",
    "                                               \n",
    "print(df)"
   ]
  },
  {
   "cell_type": "code",
   "execution_count": 5,
   "id": "07bf461d-898d-4e81-90bb-4310bf1941a9",
   "metadata": {},
   "outputs": [
    {
     "name": "stdout",
     "output_type": "stream",
     "text": [
      "                      URL        Domain\n",
      "0  https://www.google.com    google.com\n",
      "1     http://facebook.com  facebook.com\n"
     ]
    },
    {
     "name": "stderr",
     "output_type": "stream",
     "text": [
      "<>:3: SyntaxWarning: invalid escape sequence '\\.'\n",
      "<>:3: SyntaxWarning: invalid escape sequence '\\.'\n",
      "C:\\Users\\Sivaraman\\AppData\\Local\\Temp\\ipykernel_3744\\1146355491.py:3: SyntaxWarning: invalid escape sequence '\\.'\n",
      "  '''\n"
     ]
    }
   ],
   "source": [
    "# Extract Website Domain from URL\n",
    "import pandas as pd\n",
    "'''\n",
    "df = pd.DataFrame({\n",
    "    'URL': ['https://www.google.com', 'http://facebook.com']\n",
    "})\n",
    "\n",
    "df['Domain'] = df['URL'].str.extract(r'https?://(?:www\\.)?([^/]+)')\n",
    "print(df)'''\n",
    "\n",
    "df = pd.DataFrame({'URL': ['https://www.google.com', 'http://facebook.com']})\n",
    "df['Domain'] = df['URL'].str.extract(r\"https?://(?:www\\.)?([^/]+)\")    # easy but little bit confused incase if u have time just learn again.\n",
    "print(df)"
   ]
  },
  {
   "cell_type": "code",
   "execution_count": 7,
   "id": "bb92b907-09b2-4220-8847-9636f8ee19cb",
   "metadata": {},
   "outputs": [
    {
     "name": "stdout",
     "output_type": "stream",
     "text": [
      "                       Text                    Names\n",
      "0       My name is John Doe          [My, John, Doe]\n",
      "1  Hello from Alice Johnson  [Hello, Alice, Johnson]\n"
     ]
    }
   ],
   "source": [
    "#🔑 Summary: findall vs extract\n",
    "#Method\tReturns\tUse when...\n",
    "\n",
    "#) .str.findall()\tA list of all matches\tYou want all matching names/words\n",
    "#) .str.extract()\tThe first match only\tYou want to capture a single item per row\n",
    "\n",
    "# Extract Capitalized Words (like names)\n",
    "df = pd.DataFrame({'Text': ['My name is John Doe', 'Hello from Alice Johnson']})\n",
    "df['Names'] = df['Text'].str.findall(r'\\b[A-Z][a-z]+\\b')\n",
    "print(df)\n"
   ]
  },
  {
   "cell_type": "code",
   "execution_count": null,
   "id": "5dd0729d-0682-4337-b9a8-74cfc504ed19",
   "metadata": {},
   "outputs": [],
   "source": []
  }
 ],
 "metadata": {
  "kernelspec": {
   "display_name": "Python 3 (ipykernel)",
   "language": "python",
   "name": "python3"
  },
  "language_info": {
   "codemirror_mode": {
    "name": "ipython",
    "version": 3
   },
   "file_extension": ".py",
   "mimetype": "text/x-python",
   "name": "python",
   "nbconvert_exporter": "python",
   "pygments_lexer": "ipython3",
   "version": "3.13.0"
  }
 },
 "nbformat": 4,
 "nbformat_minor": 5
}
