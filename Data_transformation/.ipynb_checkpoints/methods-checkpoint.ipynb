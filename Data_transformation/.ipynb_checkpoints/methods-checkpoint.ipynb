{
 "cells": [
  {
   "cell_type": "code",
   "execution_count": 1,
   "id": "8c3443f0-2752-480d-975a-fbb306fa07e9",
   "metadata": {},
   "outputs": [
    {
     "name": "stdout",
     "output_type": "stream",
     "text": [
      "methods\n"
     ]
    }
   ],
   "source": [
    "print('methods')"
   ]
  },
  {
   "cell_type": "code",
   "execution_count": 2,
   "id": "891a2c80-a00b-4f84-a9a5-6340cc7f06dc",
   "metadata": {},
   "outputs": [
    {
     "ename": "AttributeError",
     "evalue": "module 'pandas' has no attribute 'read_xlsx'",
     "output_type": "error",
     "traceback": [
      "\u001b[1;31m---------------------------------------------------------------------------\u001b[0m",
      "\u001b[1;31mAttributeError\u001b[0m                            Traceback (most recent call last)",
      "Cell \u001b[1;32mIn[2], line 4\u001b[0m\n\u001b[0;32m      2\u001b[0m \u001b[38;5;28;01mimport\u001b[39;00m \u001b[38;5;21;01mpandas\u001b[39;00m \u001b[38;5;28;01mas\u001b[39;00m \u001b[38;5;21;01mpd\u001b[39;00m\n\u001b[0;32m      3\u001b[0m file_path \u001b[38;5;241m=\u001b[39m \u001b[38;5;124m\"\u001b[39m\u001b[38;5;124mC:/Users/Sivaraman/Desktop/study/data analytics/Data (for practice)/bank_details_withdate.xlsx\u001b[39m\u001b[38;5;124m\"\u001b[39m\n\u001b[1;32m----> 4\u001b[0m df \u001b[38;5;241m=\u001b[39m \u001b[43mpd\u001b[49m\u001b[38;5;241;43m.\u001b[39;49m\u001b[43mread_xlsx\u001b[49m(file_path)\n\u001b[0;32m      5\u001b[0m \u001b[38;5;28mprint\u001b[39m(df)\n",
      "\u001b[1;31mAttributeError\u001b[0m: module 'pandas' has no attribute 'read_xlsx'"
     ]
    }
   ],
   "source": [
    "# Data Type Conversion & Handling\n",
    "import pandas as pd\n",
    "file_path = \"C:/Users/Sivaraman/Desktop/study/data analytics/Data (for practice)/bank_details_withdate.xlsx\"\n",
    "df = pd.read_xlsx(file_path)\n",
    "print(df)"
   ]
  },
  {
   "cell_type": "code",
   "execution_count": 3,
   "id": "edcd731b-b756-440e-8fec-70670513ed57",
   "metadata": {},
   "outputs": [
    {
     "name": "stdout",
     "output_type": "stream",
     "text": [
      "     CustomerId        Name  CreditScore  Country  Gender  Age  Tenure  \\\n",
      "0      15634602    Hargrave          619   France  Female   42       2   \n",
      "1      15634602    Hargrave          619   France  Female   42       2   \n",
      "2      15634602        Onio          502   France  Female   42       8   \n",
      "3      15634602        Onio          502   France  Female   42       8   \n",
      "4      15737888    Mitchell          850    Spain  Female   43       2   \n",
      "..          ...         ...          ...      ...     ...  ...     ...   \n",
      "448    15694860    Uspensky          675   France  Female   38       6   \n",
      "449    15658169        Cook          778    Spain  Female   47       6   \n",
      "450    15794396     Newbold          494  Germany  Female   38       7   \n",
      "451    15785798  Uchechukwu          850   France    Male   40       9   \n",
      "452    15710825       Ch'en          592    Spain    Male   31       7   \n",
      "\n",
      "       Balance  NumOfProducts     Salary       Date  \n",
      "0         0.00              1  101348.88 2023-01-01  \n",
      "1         0.00              1  101348.88 2023-01-02  \n",
      "2    159660.80              3  112542.58 2023-01-03  \n",
      "3    159660.80              3  112542.58 2023-01-04  \n",
      "4    125510.82              1   79084.10 2023-01-05  \n",
      "..         ...            ...        ...        ...  \n",
      "448   68065.80              1  138777.00 2025-01-31  \n",
      "449  127299.34              2  124694.99 2025-01-31  \n",
      "450  174937.64              1   40084.32 2025-01-31  \n",
      "451       0.00              2  119232.33 2025-01-31  \n",
      "452  110071.10              1   43921.36 2025-01-31  \n",
      "\n",
      "[453 rows x 11 columns]\n"
     ]
    }
   ],
   "source": [
    "# Data Type Conversion & Handling\n",
    "import pandas as pd\n",
    "file_path = \"C:/Users/Sivaraman/Desktop/study/data analytics/Data (for practice)/bank_details_withdate.xlsx\"\n",
    "df = pd.read_excel(file_path)\n",
    "print(df)"
   ]
  },
  {
   "cell_type": "code",
   "execution_count": 1,
   "id": "17d6453c-5627-4e40-af77-ad608d7f9d0d",
   "metadata": {},
   "outputs": [
    {
     "name": "stdout",
     "output_type": "stream",
     "text": [
      "     CustomerId        Name  CreditScore  Country  Gender  Age  Tenure  \\\n",
      "0      15634602    Hargrave          619   France  Female   42       2   \n",
      "1      15634602    Hargrave          619   France  Female   42       2   \n",
      "2      15634602        Onio          502   France  Female   42       8   \n",
      "3      15634602        Onio          502   France  Female   42       8   \n",
      "4      15737888    Mitchell          850    Spain  Female   43       2   \n",
      "..          ...         ...          ...      ...     ...  ...     ...   \n",
      "448    15694860    Uspensky          675   France  Female   38       6   \n",
      "449    15658169        Cook          778    Spain  Female   47       6   \n",
      "450    15794396     Newbold          494  Germany  Female   38       7   \n",
      "451    15785798  Uchechukwu          850   France    Male   40       9   \n",
      "452    15710825       Ch'en          592    Spain    Male   31       7   \n",
      "\n",
      "       Balance  NumOfProducts     Salary       Date  \n",
      "0         0.00              1  101348.88 2023-01-01  \n",
      "1         0.00              1  101348.88 2023-01-02  \n",
      "2    159660.80              3  112542.58 2023-01-03  \n",
      "3    159660.80              3  112542.58 2023-01-04  \n",
      "4    125510.82              1   79084.10 2023-01-05  \n",
      "..         ...            ...        ...        ...  \n",
      "448   68065.80              1  138777.00 2025-01-31  \n",
      "449  127299.34              2  124694.99 2025-01-31  \n",
      "450  174937.64              1   40084.32 2025-01-31  \n",
      "451       0.00              2  119232.33 2025-01-31  \n",
      "452  110071.10              1   43921.36 2025-01-31  \n",
      "\n",
      "[453 rows x 11 columns]\n"
     ]
    }
   ],
   "source": [
    "import pandas as pd\n",
    "file_path = \"C:/Users/Sivaraman/Desktop/study/data analytics/Data (for practice)/bank_details_withdate.xlsx\"\n",
    "df = pd.read_excel(file_path)\n",
    "print(df)"
   ]
  },
  {
   "cell_type": "code",
   "execution_count": 2,
   "id": "bfdf9801-fed2-456f-9e75-c7fb1f09d4e4",
   "metadata": {},
   "outputs": [],
   "source": [
    "backup = df.copy()"
   ]
  },
  {
   "cell_type": "code",
   "execution_count": 3,
   "id": "4614ae02-a6b5-4a78-94ef-7a3fba44141b",
   "metadata": {},
   "outputs": [
    {
     "name": "stdout",
     "output_type": "stream",
     "text": [
      "     CustomerId        Name  CreditScore  Country  Gender  Age  Tenure  \\\n",
      "0      15634602    Hargrave          619   France  Female   42       2   \n",
      "1      15634602    Hargrave          619   France  Female   42       2   \n",
      "2      15634602        Onio          502   France  Female   42       8   \n",
      "3      15634602        Onio          502   France  Female   42       8   \n",
      "4      15737888    Mitchell          850    Spain  Female   43       2   \n",
      "..          ...         ...          ...      ...     ...  ...     ...   \n",
      "448    15694860    Uspensky          675   France  Female   38       6   \n",
      "449    15658169        Cook          778    Spain  Female   47       6   \n",
      "450    15794396     Newbold          494  Germany  Female   38       7   \n",
      "451    15785798  Uchechukwu          850   France    Male   40       9   \n",
      "452    15710825       Ch'en          592    Spain    Male   31       7   \n",
      "\n",
      "       Balance  NumOfProducts     Salary       Date  \n",
      "0         0.00              1  101348.88 2023-01-01  \n",
      "1         0.00              1  101348.88 2023-01-02  \n",
      "2    159660.80              3  112542.58 2023-01-03  \n",
      "3    159660.80              3  112542.58 2023-01-04  \n",
      "4    125510.82              1   79084.10 2023-01-05  \n",
      "..         ...            ...        ...        ...  \n",
      "448   68065.80              1  138777.00 2025-01-31  \n",
      "449  127299.34              2  124694.99 2025-01-31  \n",
      "450  174937.64              1   40084.32 2025-01-31  \n",
      "451       0.00              2  119232.33 2025-01-31  \n",
      "452  110071.10              1   43921.36 2025-01-31  \n",
      "\n",
      "[453 rows x 11 columns]\n"
     ]
    }
   ],
   "source": [
    "print(backup)"
   ]
  },
  {
   "cell_type": "code",
   "execution_count": 4,
   "id": "9ec81498-af1c-42ca-addd-01e973e1b038",
   "metadata": {},
   "outputs": [
    {
     "name": "stdout",
     "output_type": "stream",
     "text": [
      "int64\n"
     ]
    }
   ],
   "source": [
    "print(df['Age'].dtype)"
   ]
  },
  {
   "cell_type": "code",
   "execution_count": 5,
   "id": "9051b62e-6fd6-4e18-baf6-29f91b4346bb",
   "metadata": {},
   "outputs": [],
   "source": [
    "df['Age'] = df['Age'].astype(float)"
   ]
  },
  {
   "cell_type": "code",
   "execution_count": 6,
   "id": "70db4978-7905-4f77-903e-8d0663b0bcf4",
   "metadata": {},
   "outputs": [
    {
     "name": "stdout",
     "output_type": "stream",
     "text": [
      "float64\n"
     ]
    }
   ],
   "source": [
    "print(df['Age'].dtype)"
   ]
  },
  {
   "cell_type": "code",
   "execution_count": 7,
   "id": "895ebeb2-3dec-4260-a314-5a0a867516ec",
   "metadata": {},
   "outputs": [],
   "source": [
    "df['Age'] = df['Age'].astype(object)"
   ]
  },
  {
   "cell_type": "code",
   "execution_count": 8,
   "id": "cd359fdb-6ed7-48bd-b959-1e0c84eef6b6",
   "metadata": {},
   "outputs": [
    {
     "name": "stdout",
     "output_type": "stream",
     "text": [
      "object\n"
     ]
    }
   ],
   "source": [
    "print(df['Age'].dtype)"
   ]
  },
  {
   "cell_type": "code",
   "execution_count": 9,
   "id": "da82a3aa-2b7a-4301-99b4-304f1e5e1d78",
   "metadata": {},
   "outputs": [],
   "source": [
    "df['Age'] = df['Age'].astype(int)"
   ]
  },
  {
   "cell_type": "code",
   "execution_count": 10,
   "id": "312d2aac-8835-4695-986b-53d4f3e408ba",
   "metadata": {},
   "outputs": [
    {
     "name": "stdout",
     "output_type": "stream",
     "text": [
      "int64\n"
     ]
    }
   ],
   "source": [
    "print(df['Age'].dtype)"
   ]
  },
  {
   "cell_type": "code",
   "execution_count": 12,
   "id": "f89645ab-8020-469f-bc11-23c71ca15ba7",
   "metadata": {},
   "outputs": [
    {
     "data": {
      "text/plain": [
       "dtype('<M8[ns]')"
      ]
     },
     "execution_count": 12,
     "metadata": {},
     "output_type": "execute_result"
    }
   ],
   "source": [
    "df['Date'].dtype"
   ]
  },
  {
   "cell_type": "code",
   "execution_count": 13,
   "id": "124ae7c8-3bcc-435d-ba53-88c2d6366a43",
   "metadata": {},
   "outputs": [
    {
     "data": {
      "text/plain": [
       "0      2023-01-01 00:00:00\n",
       "1      2023-01-02 00:00:00\n",
       "2      2023-01-03 00:00:00\n",
       "3      2023-01-04 00:00:00\n",
       "4      2023-01-05 00:00:00\n",
       "              ...         \n",
       "448    2025-01-31 00:00:00\n",
       "449    2025-01-31 00:00:00\n",
       "450    2025-01-31 00:00:00\n",
       "451    2025-01-31 00:00:00\n",
       "452    2025-01-31 00:00:00\n",
       "Name: Date, Length: 453, dtype: object"
      ]
     },
     "execution_count": 13,
     "metadata": {},
     "output_type": "execute_result"
    }
   ],
   "source": [
    "df['Date'].astype(object)"
   ]
  },
  {
   "cell_type": "code",
   "execution_count": 14,
   "id": "de07a4a1-1433-4245-85aa-80a8bd48a9ed",
   "metadata": {},
   "outputs": [
    {
     "data": {
      "text/plain": [
       "dtype('<M8[ns]')"
      ]
     },
     "execution_count": 14,
     "metadata": {},
     "output_type": "execute_result"
    }
   ],
   "source": [
    "df['Date'].dtype"
   ]
  },
  {
   "cell_type": "code",
   "execution_count": 17,
   "id": "63141e14-4fe3-4846-8c7f-16d375112be6",
   "metadata": {},
   "outputs": [
    {
     "data": {
      "text/plain": [
       "dtype('int64')"
      ]
     },
     "execution_count": 17,
     "metadata": {},
     "output_type": "execute_result"
    }
   ],
   "source": [
    "df['Date'] = df['Date'].astype(str)\n",
    "df['Age'].dtype"
   ]
  },
  {
   "cell_type": "code",
   "execution_count": 18,
   "id": "1cd5f82a-3f52-45f3-9fde-552821ae83e5",
   "metadata": {},
   "outputs": [
    {
     "data": {
      "text/plain": [
       "dtype('O')"
      ]
     },
     "execution_count": 18,
     "metadata": {},
     "output_type": "execute_result"
    }
   ],
   "source": [
    "df['Date'].dtype"
   ]
  },
  {
   "cell_type": "code",
   "execution_count": 20,
   "id": "2bbd029f-cdda-4f0f-8388-962fd3332ccd",
   "metadata": {},
   "outputs": [
    {
     "name": "stdout",
     "output_type": "stream",
     "text": [
      "<class 'str'>\n"
     ]
    }
   ],
   "source": [
    "print(type(df['Date'][1]))"
   ]
  },
  {
   "cell_type": "code",
   "execution_count": 21,
   "id": "24f8ed4c-da60-454d-b41c-4826c271d479",
   "metadata": {},
   "outputs": [
    {
     "name": "stdout",
     "output_type": "stream",
     "text": [
      "<class 'str'>\n"
     ]
    }
   ],
   "source": [
    "print(type(df['Date'][1]))"
   ]
  },
  {
   "cell_type": "code",
   "execution_count": 24,
   "id": "2884ca2e-dd51-44b2-a94b-55e5471bef2f",
   "metadata": {},
   "outputs": [],
   "source": [
    "df['Date'] = pd.to_datetime(df['Date'])"
   ]
  },
  {
   "cell_type": "code",
   "execution_count": 23,
   "id": "09dfd8a2-c39d-42eb-995d-188044cf2190",
   "metadata": {},
   "outputs": [],
   "source": [
    "df['Date'] = pd.to_datetime(df['Date'])"
   ]
  },
  {
   "cell_type": "code",
   "execution_count": 25,
   "id": "38375c5d-56f0-4f2b-937e-ff07f5e6c018",
   "metadata": {},
   "outputs": [],
   "source": [
    "df['Date'] = df['Date'].astype(str)"
   ]
  },
  {
   "cell_type": "code",
   "execution_count": 26,
   "id": "01b912d4-5087-4b09-b71d-252167400b67",
   "metadata": {},
   "outputs": [],
   "source": [
    "df['Date'] = pd.to_datetime(df['Date'])"
   ]
  },
  {
   "cell_type": "code",
   "execution_count": 27,
   "id": "9d4cf342-6832-49fb-8b03-0324aeba1048",
   "metadata": {},
   "outputs": [
    {
     "data": {
      "text/plain": [
       "dtype('<M8[ns]')"
      ]
     },
     "execution_count": 27,
     "metadata": {},
     "output_type": "execute_result"
    }
   ],
   "source": [
    "df['Date'].dtype"
   ]
  },
  {
   "cell_type": "code",
   "execution_count": 28,
   "id": "5210ae46-455d-4f9a-a208-8ec5c3a8c645",
   "metadata": {},
   "outputs": [
    {
     "name": "stdout",
     "output_type": "stream",
     "text": [
      "<class 'pandas.core.frame.DataFrame'>\n",
      "RangeIndex: 453 entries, 0 to 452\n",
      "Data columns (total 11 columns):\n",
      " #   Column         Non-Null Count  Dtype         \n",
      "---  ------         --------------  -----         \n",
      " 0   CustomerId     453 non-null    int64         \n",
      " 1   Name           453 non-null    object        \n",
      " 2   CreditScore    453 non-null    int64         \n",
      " 3   Country        453 non-null    object        \n",
      " 4   Gender         453 non-null    object        \n",
      " 5   Age            453 non-null    int64         \n",
      " 6   Tenure         453 non-null    int64         \n",
      " 7   Balance        453 non-null    float64       \n",
      " 8   NumOfProducts  453 non-null    int64         \n",
      " 9   Salary         453 non-null    float64       \n",
      " 10  Date           453 non-null    datetime64[ns]\n",
      "dtypes: datetime64[ns](1), float64(2), int64(5), object(3)\n",
      "memory usage: 39.1+ KB\n"
     ]
    }
   ],
   "source": [
    "df.info()"
   ]
  },
  {
   "cell_type": "code",
   "execution_count": 35,
   "id": "b4c389f6-9dec-4b47-862e-1946365f1c11",
   "metadata": {},
   "outputs": [
    {
     "ename": "AttributeError",
     "evalue": "'function' object has no attribute 'convert_dtypes'",
     "output_type": "error",
     "traceback": [
      "\u001b[1;31m---------------------------------------------------------------------------\u001b[0m",
      "\u001b[1;31mAttributeError\u001b[0m                            Traceback (most recent call last)",
      "Cell \u001b[1;32mIn[35], line 1\u001b[0m\n\u001b[1;32m----> 1\u001b[0m df \u001b[38;5;241m=\u001b[39m \u001b[43mdf\u001b[49m\u001b[38;5;241;43m.\u001b[39;49m\u001b[43mconvert_dtypes\u001b[49m()\n\u001b[0;32m      2\u001b[0m \u001b[38;5;28mprint\u001b[39m(df)\n",
      "\u001b[1;31mAttributeError\u001b[0m: 'function' object has no attribute 'convert_dtypes'"
     ]
    }
   ],
   "source": [
    "df = df.convert_dtypes\n",
    "print(df)"
   ]
  },
  {
   "cell_type": "code",
   "execution_count": 30,
   "id": "c45cdfa5-4297-4885-8cc9-238656d2c84e",
   "metadata": {},
   "outputs": [
    {
     "ename": "AttributeError",
     "evalue": "'function' object has no attribute 'info'",
     "output_type": "error",
     "traceback": [
      "\u001b[1;31m---------------------------------------------------------------------------\u001b[0m",
      "\u001b[1;31mAttributeError\u001b[0m                            Traceback (most recent call last)",
      "Cell \u001b[1;32mIn[30], line 1\u001b[0m\n\u001b[1;32m----> 1\u001b[0m \u001b[38;5;28mprint\u001b[39m(\u001b[43mdf\u001b[49m\u001b[38;5;241;43m.\u001b[39;49m\u001b[43minfo\u001b[49m())\n",
      "\u001b[1;31mAttributeError\u001b[0m: 'function' object has no attribute 'info'"
     ]
    }
   ],
   "source": [
    "print(df.info())"
   ]
  },
  {
   "cell_type": "code",
   "execution_count": 31,
   "id": "6194a92f-d0c5-44e8-a444-c8345bc7e986",
   "metadata": {},
   "outputs": [
    {
     "ename": "AttributeError",
     "evalue": "'function' object has no attribute 'info'",
     "output_type": "error",
     "traceback": [
      "\u001b[1;31m---------------------------------------------------------------------------\u001b[0m",
      "\u001b[1;31mAttributeError\u001b[0m                            Traceback (most recent call last)",
      "Cell \u001b[1;32mIn[31], line 1\u001b[0m\n\u001b[1;32m----> 1\u001b[0m \u001b[43mdf\u001b[49m\u001b[38;5;241;43m.\u001b[39;49m\u001b[43minfo\u001b[49m\n",
      "\u001b[1;31mAttributeError\u001b[0m: 'function' object has no attribute 'info'"
     ]
    }
   ],
   "source": [
    "df.info"
   ]
  },
  {
   "cell_type": "code",
   "execution_count": 32,
   "id": "6be848d4-0def-4cf3-9418-ed77c3d3515c",
   "metadata": {},
   "outputs": [
    {
     "ename": "AttributeError",
     "evalue": "'function' object has no attribute 'info'",
     "output_type": "error",
     "traceback": [
      "\u001b[1;31m---------------------------------------------------------------------------\u001b[0m",
      "\u001b[1;31mAttributeError\u001b[0m                            Traceback (most recent call last)",
      "Cell \u001b[1;32mIn[32], line 1\u001b[0m\n\u001b[1;32m----> 1\u001b[0m \u001b[38;5;28mprint\u001b[39m(\u001b[43mdf\u001b[49m\u001b[38;5;241;43m.\u001b[39;49m\u001b[43minfo\u001b[49m)\n",
      "\u001b[1;31mAttributeError\u001b[0m: 'function' object has no attribute 'info'"
     ]
    }
   ],
   "source": [
    "print(df.info)"
   ]
  },
  {
   "cell_type": "code",
   "execution_count": 33,
   "id": "385d12fc-8f30-41ad-b5e5-f746334d233a",
   "metadata": {},
   "outputs": [
    {
     "ename": "AttributeError",
     "evalue": "'function' object has no attribute 'info'",
     "output_type": "error",
     "traceback": [
      "\u001b[1;31m---------------------------------------------------------------------------\u001b[0m",
      "\u001b[1;31mAttributeError\u001b[0m                            Traceback (most recent call last)",
      "Cell \u001b[1;32mIn[33], line 1\u001b[0m\n\u001b[1;32m----> 1\u001b[0m \u001b[43mdf\u001b[49m\u001b[38;5;241;43m.\u001b[39;49m\u001b[43minfo\u001b[49m()\n",
      "\u001b[1;31mAttributeError\u001b[0m: 'function' object has no attribute 'info'"
     ]
    }
   ],
   "source": [
    "df.info()"
   ]
  },
  {
   "cell_type": "code",
   "execution_count": 34,
   "id": "69d6d32d-f808-4074-92c6-bada949bd4ae",
   "metadata": {},
   "outputs": [
    {
     "ename": "AttributeError",
     "evalue": "'function' object has no attribute 'info'",
     "output_type": "error",
     "traceback": [
      "\u001b[1;31m---------------------------------------------------------------------------\u001b[0m",
      "\u001b[1;31mAttributeError\u001b[0m                            Traceback (most recent call last)",
      "Cell \u001b[1;32mIn[34], line 1\u001b[0m\n\u001b[1;32m----> 1\u001b[0m \u001b[43mdf\u001b[49m\u001b[38;5;241;43m.\u001b[39;49m\u001b[43minfo\u001b[49m()\n",
      "\u001b[1;31mAttributeError\u001b[0m: 'function' object has no attribute 'info'"
     ]
    }
   ],
   "source": [
    "df.info()"
   ]
  },
  {
   "cell_type": "code",
   "execution_count": 36,
   "id": "46d0b22b-3965-4922-a321-d342c640f25b",
   "metadata": {},
   "outputs": [
    {
     "name": "stdout",
     "output_type": "stream",
     "text": [
      "<bound method NDFrame.convert_dtypes of      CustomerId        Name  CreditScore  Country  Gender  Age  Tenure  \\\n",
      "0      15634602    Hargrave          619   France  Female   42       2   \n",
      "1      15634602    Hargrave          619   France  Female   42       2   \n",
      "2      15634602        Onio          502   France  Female   42       8   \n",
      "3      15634602        Onio          502   France  Female   42       8   \n",
      "4      15737888    Mitchell          850    Spain  Female   43       2   \n",
      "..          ...         ...          ...      ...     ...  ...     ...   \n",
      "448    15694860    Uspensky          675   France  Female   38       6   \n",
      "449    15658169        Cook          778    Spain  Female   47       6   \n",
      "450    15794396     Newbold          494  Germany  Female   38       7   \n",
      "451    15785798  Uchechukwu          850   France    Male   40       9   \n",
      "452    15710825       Ch'en          592    Spain    Male   31       7   \n",
      "\n",
      "       Balance  NumOfProducts     Salary       Date  \n",
      "0         0.00              1  101348.88 2023-01-01  \n",
      "1         0.00              1  101348.88 2023-01-02  \n",
      "2    159660.80              3  112542.58 2023-01-03  \n",
      "3    159660.80              3  112542.58 2023-01-04  \n",
      "4    125510.82              1   79084.10 2023-01-05  \n",
      "..         ...            ...        ...        ...  \n",
      "448   68065.80              1  138777.00 2025-01-31  \n",
      "449  127299.34              2  124694.99 2025-01-31  \n",
      "450  174937.64              1   40084.32 2025-01-31  \n",
      "451       0.00              2  119232.33 2025-01-31  \n",
      "452  110071.10              1   43921.36 2025-01-31  \n",
      "\n",
      "[453 rows x 11 columns]>\n"
     ]
    }
   ],
   "source": [
    "print(df)"
   ]
  },
  {
   "cell_type": "code",
   "execution_count": 37,
   "id": "059b803d-703a-464b-894e-2931f1d972db",
   "metadata": {},
   "outputs": [
    {
     "ename": "AttributeError",
     "evalue": "'function' object has no attribute 'info'",
     "output_type": "error",
     "traceback": [
      "\u001b[1;31m---------------------------------------------------------------------------\u001b[0m",
      "\u001b[1;31mAttributeError\u001b[0m                            Traceback (most recent call last)",
      "Cell \u001b[1;32mIn[37], line 1\u001b[0m\n\u001b[1;32m----> 1\u001b[0m \u001b[43mdf\u001b[49m\u001b[38;5;241;43m.\u001b[39;49m\u001b[43minfo\u001b[49m()\n",
      "\u001b[1;31mAttributeError\u001b[0m: 'function' object has no attribute 'info'"
     ]
    }
   ],
   "source": [
    "df.info()"
   ]
  },
  {
   "cell_type": "code",
   "execution_count": 38,
   "id": "f5ddf497-65fd-4945-a932-5b409d773c63",
   "metadata": {},
   "outputs": [
    {
     "ename": "AttributeError",
     "evalue": "'function' object has no attribute 'convert_dtypes'",
     "output_type": "error",
     "traceback": [
      "\u001b[1;31m---------------------------------------------------------------------------\u001b[0m",
      "\u001b[1;31mAttributeError\u001b[0m                            Traceback (most recent call last)",
      "Cell \u001b[1;32mIn[38], line 1\u001b[0m\n\u001b[1;32m----> 1\u001b[0m df \u001b[38;5;241m=\u001b[39m \u001b[43mdf\u001b[49m\u001b[38;5;241;43m.\u001b[39;49m\u001b[43mconvert_dtypes\u001b[49m()\n",
      "\u001b[1;31mAttributeError\u001b[0m: 'function' object has no attribute 'convert_dtypes'"
     ]
    }
   ],
   "source": [
    "df = df.convert_dtypes()"
   ]
  },
  {
   "cell_type": "code",
   "execution_count": 39,
   "id": "9ea04948-f1bc-43e5-a365-485d168811c1",
   "metadata": {},
   "outputs": [
    {
     "name": "stdout",
     "output_type": "stream",
     "text": [
      "<class 'method'>\n"
     ]
    }
   ],
   "source": [
    "print(type(df))"
   ]
  },
  {
   "cell_type": "code",
   "execution_count": 40,
   "id": "39b1cfe7-9a78-4c71-8609-b753173d5180",
   "metadata": {},
   "outputs": [
    {
     "name": "stdout",
     "output_type": "stream",
     "text": [
      "     CustomerId        Name  CreditScore  Country  Gender  Age  Tenure  \\\n",
      "0      15634602    Hargrave          619   France  Female   42       2   \n",
      "1      15634602    Hargrave          619   France  Female   42       2   \n",
      "2      15634602        Onio          502   France  Female   42       8   \n",
      "3      15634602        Onio          502   France  Female   42       8   \n",
      "4      15737888    Mitchell          850    Spain  Female   43       2   \n",
      "..          ...         ...          ...      ...     ...  ...     ...   \n",
      "448    15694860    Uspensky          675   France  Female   38       6   \n",
      "449    15658169        Cook          778    Spain  Female   47       6   \n",
      "450    15794396     Newbold          494  Germany  Female   38       7   \n",
      "451    15785798  Uchechukwu          850   France    Male   40       9   \n",
      "452    15710825       Ch'en          592    Spain    Male   31       7   \n",
      "\n",
      "       Balance  NumOfProducts     Salary       Date  \n",
      "0         0.00              1  101348.88 2023-01-01  \n",
      "1         0.00              1  101348.88 2023-01-02  \n",
      "2    159660.80              3  112542.58 2023-01-03  \n",
      "3    159660.80              3  112542.58 2023-01-04  \n",
      "4    125510.82              1   79084.10 2023-01-05  \n",
      "..         ...            ...        ...        ...  \n",
      "448   68065.80              1  138777.00 2025-01-31  \n",
      "449  127299.34              2  124694.99 2025-01-31  \n",
      "450  174937.64              1   40084.32 2025-01-31  \n",
      "451       0.00              2  119232.33 2025-01-31  \n",
      "452  110071.10              1   43921.36 2025-01-31  \n",
      "\n",
      "[453 rows x 11 columns]\n"
     ]
    }
   ],
   "source": [
    "import pandas as pd\n",
    "file_path = \"C:/Users/Sivaraman/Desktop/study/data analytics/Data (for practice)/bank_details_withdate.xlsx\"\n",
    "df = pd.read_excel(file_path)\n",
    "print(df)"
   ]
  },
  {
   "cell_type": "code",
   "execution_count": 41,
   "id": "5e1bb0b3-a855-416a-8df1-f5af86a6baac",
   "metadata": {},
   "outputs": [
    {
     "name": "stdout",
     "output_type": "stream",
     "text": [
      "<class 'pandas.core.frame.DataFrame'>\n"
     ]
    }
   ],
   "source": [
    "print(type(df))"
   ]
  },
  {
   "cell_type": "code",
   "execution_count": 42,
   "id": "b5db41f5-6fb6-43b4-bfa1-05652b424378",
   "metadata": {},
   "outputs": [
    {
     "name": "stdout",
     "output_type": "stream",
     "text": [
      "<class 'pandas.core.frame.DataFrame'>\n",
      "RangeIndex: 453 entries, 0 to 452\n",
      "Data columns (total 11 columns):\n",
      " #   Column         Non-Null Count  Dtype         \n",
      "---  ------         --------------  -----         \n",
      " 0   CustomerId     453 non-null    int64         \n",
      " 1   Name           453 non-null    object        \n",
      " 2   CreditScore    453 non-null    int64         \n",
      " 3   Country        453 non-null    object        \n",
      " 4   Gender         453 non-null    object        \n",
      " 5   Age            453 non-null    int64         \n",
      " 6   Tenure         453 non-null    int64         \n",
      " 7   Balance        453 non-null    float64       \n",
      " 8   NumOfProducts  453 non-null    int64         \n",
      " 9   Salary         453 non-null    float64       \n",
      " 10  Date           453 non-null    datetime64[ns]\n",
      "dtypes: datetime64[ns](1), float64(2), int64(5), object(3)\n",
      "memory usage: 39.1+ KB\n"
     ]
    }
   ],
   "source": [
    "df.info()"
   ]
  },
  {
   "cell_type": "code",
   "execution_count": 43,
   "id": "6d7a8cf2-0a82-4325-83df-bd7e39666f16",
   "metadata": {},
   "outputs": [
    {
     "name": "stdout",
     "output_type": "stream",
     "text": [
      "<class 'pandas.core.frame.DataFrame'>\n",
      "RangeIndex: 453 entries, 0 to 452\n",
      "Data columns (total 11 columns):\n",
      " #   Column         Non-Null Count  Dtype         \n",
      "---  ------         --------------  -----         \n",
      " 0   CustomerId     453 non-null    Int64         \n",
      " 1   Name           453 non-null    string        \n",
      " 2   CreditScore    453 non-null    Int64         \n",
      " 3   Country        453 non-null    string        \n",
      " 4   Gender         453 non-null    string        \n",
      " 5   Age            453 non-null    Int64         \n",
      " 6   Tenure         453 non-null    Int64         \n",
      " 7   Balance        453 non-null    Float64       \n",
      " 8   NumOfProducts  453 non-null    Int64         \n",
      " 9   Salary         453 non-null    Float64       \n",
      " 10  Date           453 non-null    datetime64[ns]\n",
      "dtypes: Float64(2), Int64(5), datetime64[ns](1), string(3)\n",
      "memory usage: 42.2 KB\n"
     ]
    }
   ],
   "source": [
    "df = df.convert_dtypes()\n",
    "df.info()"
   ]
  },
  {
   "cell_type": "code",
   "execution_count": 44,
   "id": "501efcaa-7312-4adf-9ac1-938653578d56",
   "metadata": {},
   "outputs": [
    {
     "ename": "TypeError",
     "evalue": "'numpy.dtypes.ObjectDType' object is not callable",
     "output_type": "error",
     "traceback": [
      "\u001b[1;31m---------------------------------------------------------------------------\u001b[0m",
      "\u001b[1;31mTypeError\u001b[0m                                 Traceback (most recent call last)",
      "Cell \u001b[1;32mIn[44], line 2\u001b[0m\n\u001b[0;32m      1\u001b[0m df[\u001b[38;5;124m'\u001b[39m\u001b[38;5;124mDate\u001b[39m\u001b[38;5;124m'\u001b[39m] \u001b[38;5;241m=\u001b[39m df[\u001b[38;5;124m'\u001b[39m\u001b[38;5;124mDate\u001b[39m\u001b[38;5;124m'\u001b[39m]\u001b[38;5;241m.\u001b[39mastype(\u001b[38;5;28mstr\u001b[39m)\n\u001b[1;32m----> 2\u001b[0m \u001b[43mdf\u001b[49m\u001b[43m[\u001b[49m\u001b[38;5;124;43m'\u001b[39;49m\u001b[38;5;124;43mDate\u001b[39;49m\u001b[38;5;124;43m'\u001b[39;49m\u001b[43m]\u001b[49m\u001b[38;5;241;43m.\u001b[39;49m\u001b[43mdtype\u001b[49m\u001b[43m(\u001b[49m\u001b[43m)\u001b[49m\n",
      "\u001b[1;31mTypeError\u001b[0m: 'numpy.dtypes.ObjectDType' object is not callable"
     ]
    }
   ],
   "source": [
    "df['Date'] = df['Date'].astype(str)\n",
    "df['Date'].dtype()"
   ]
  },
  {
   "cell_type": "code",
   "execution_count": 45,
   "id": "9fd20868-30da-4d8f-959b-c1e616f6b5af",
   "metadata": {},
   "outputs": [
    {
     "data": {
      "text/plain": [
       "dtype('O')"
      ]
     },
     "execution_count": 45,
     "metadata": {},
     "output_type": "execute_result"
    }
   ],
   "source": [
    "df['Date'].dtype"
   ]
  },
  {
   "cell_type": "code",
   "execution_count": 46,
   "id": "c71523ee-8175-4da6-9c51-84da45aef0bc",
   "metadata": {},
   "outputs": [
    {
     "ename": "TypeError",
     "evalue": "'tuple' object is not callable",
     "output_type": "error",
     "traceback": [
      "\u001b[1;31m---------------------------------------------------------------------------\u001b[0m",
      "\u001b[1;31mTypeError\u001b[0m                                 Traceback (most recent call last)",
      "Cell \u001b[1;32mIn[46], line 1\u001b[0m\n\u001b[1;32m----> 1\u001b[0m \u001b[43mdf\u001b[49m\u001b[38;5;241;43m.\u001b[39;49m\u001b[43mshape\u001b[49m\u001b[43m(\u001b[49m\u001b[43m)\u001b[49m\n",
      "\u001b[1;31mTypeError\u001b[0m: 'tuple' object is not callable"
     ]
    }
   ],
   "source": [
    "df.shape()"
   ]
  },
  {
   "cell_type": "code",
   "execution_count": 47,
   "id": "fd8e8e51-8865-4ec0-ba20-ebca45cd7355",
   "metadata": {},
   "outputs": [
    {
     "data": {
      "text/plain": [
       "(453, 11)"
      ]
     },
     "execution_count": 47,
     "metadata": {},
     "output_type": "execute_result"
    }
   ],
   "source": [
    "df.shape"
   ]
  },
  {
   "cell_type": "code",
   "execution_count": 48,
   "id": "d72fa7bd-9de0-4a50-886e-b2c473183c80",
   "metadata": {},
   "outputs": [
    {
     "name": "stdout",
     "output_type": "stream",
     "text": [
      "<class 'pandas.core.frame.DataFrame'>\n",
      "RangeIndex: 453 entries, 0 to 452\n",
      "Data columns (total 11 columns):\n",
      " #   Column         Non-Null Count  Dtype  \n",
      "---  ------         --------------  -----  \n",
      " 0   CustomerId     453 non-null    Int64  \n",
      " 1   Name           453 non-null    string \n",
      " 2   CreditScore    453 non-null    Int64  \n",
      " 3   Country        453 non-null    string \n",
      " 4   Gender         453 non-null    string \n",
      " 5   Age            453 non-null    Int64  \n",
      " 6   Tenure         453 non-null    Int64  \n",
      " 7   Balance        453 non-null    Float64\n",
      " 8   NumOfProducts  453 non-null    Int64  \n",
      " 9   Salary         453 non-null    Float64\n",
      " 10  Date           453 non-null    object \n",
      "dtypes: Float64(2), Int64(5), object(1), string(3)\n",
      "memory usage: 42.2+ KB\n"
     ]
    }
   ],
   "source": [
    "df.info()"
   ]
  },
  {
   "cell_type": "code",
   "execution_count": 49,
   "id": "e4fd1041-76d8-489c-aad6-aefe16c906c9",
   "metadata": {},
   "outputs": [
    {
     "data": {
      "text/html": [
       "<div>\n",
       "<style scoped>\n",
       "    .dataframe tbody tr th:only-of-type {\n",
       "        vertical-align: middle;\n",
       "    }\n",
       "\n",
       "    .dataframe tbody tr th {\n",
       "        vertical-align: top;\n",
       "    }\n",
       "\n",
       "    .dataframe thead th {\n",
       "        text-align: right;\n",
       "    }\n",
       "</style>\n",
       "<table border=\"1\" class=\"dataframe\">\n",
       "  <thead>\n",
       "    <tr style=\"text-align: right;\">\n",
       "      <th></th>\n",
       "      <th>CustomerId</th>\n",
       "      <th>CreditScore</th>\n",
       "      <th>Age</th>\n",
       "      <th>Tenure</th>\n",
       "      <th>Balance</th>\n",
       "      <th>NumOfProducts</th>\n",
       "      <th>Salary</th>\n",
       "    </tr>\n",
       "  </thead>\n",
       "  <tbody>\n",
       "    <tr>\n",
       "      <th>count</th>\n",
       "      <td>453.0</td>\n",
       "      <td>453.0</td>\n",
       "      <td>453.0</td>\n",
       "      <td>453.0</td>\n",
       "      <td>453.0</td>\n",
       "      <td>453.0</td>\n",
       "      <td>453.0</td>\n",
       "    </tr>\n",
       "    <tr>\n",
       "      <th>mean</th>\n",
       "      <td>15693873.362031</td>\n",
       "      <td>647.538631</td>\n",
       "      <td>38.278146</td>\n",
       "      <td>5.178808</td>\n",
       "      <td>75357.199272</td>\n",
       "      <td>1.540839</td>\n",
       "      <td>103625.570353</td>\n",
       "    </tr>\n",
       "    <tr>\n",
       "      <th>std</th>\n",
       "      <td>72958.703838</td>\n",
       "      <td>101.028719</td>\n",
       "      <td>10.095885</td>\n",
       "      <td>2.995024</td>\n",
       "      <td>62528.365497</td>\n",
       "      <td>0.57702</td>\n",
       "      <td>57548.860457</td>\n",
       "    </tr>\n",
       "    <tr>\n",
       "      <th>min</th>\n",
       "      <td>15566111.0</td>\n",
       "      <td>376.0</td>\n",
       "      <td>19.0</td>\n",
       "      <td>0.0</td>\n",
       "      <td>0.0</td>\n",
       "      <td>1.0</td>\n",
       "      <td>371.05</td>\n",
       "    </tr>\n",
       "    <tr>\n",
       "      <th>25%</th>\n",
       "      <td>15629677.0</td>\n",
       "      <td>572.0</td>\n",
       "      <td>32.0</td>\n",
       "      <td>3.0</td>\n",
       "      <td>0.0</td>\n",
       "      <td>1.0</td>\n",
       "      <td>54141.5</td>\n",
       "    </tr>\n",
       "    <tr>\n",
       "      <th>50%</th>\n",
       "      <td>15694506.0</td>\n",
       "      <td>655.0</td>\n",
       "      <td>37.0</td>\n",
       "      <td>5.0</td>\n",
       "      <td>97259.25</td>\n",
       "      <td>2.0</td>\n",
       "      <td>106761.47</td>\n",
       "    </tr>\n",
       "    <tr>\n",
       "      <th>75%</th>\n",
       "      <td>15756850.0</td>\n",
       "      <td>722.0</td>\n",
       "      <td>42.0</td>\n",
       "      <td>8.0</td>\n",
       "      <td>126384.42</td>\n",
       "      <td>2.0</td>\n",
       "      <td>154071.27</td>\n",
       "    </tr>\n",
       "    <tr>\n",
       "      <th>max</th>\n",
       "      <td>15813844.0</td>\n",
       "      <td>850.0</td>\n",
       "      <td>80.0</td>\n",
       "      <td>10.0</td>\n",
       "      <td>213146.2</td>\n",
       "      <td>4.0</td>\n",
       "      <td>199725.39</td>\n",
       "    </tr>\n",
       "  </tbody>\n",
       "</table>\n",
       "</div>"
      ],
      "text/plain": [
       "            CustomerId  CreditScore        Age    Tenure       Balance  \\\n",
       "count            453.0        453.0      453.0     453.0         453.0   \n",
       "mean   15693873.362031   647.538631  38.278146  5.178808  75357.199272   \n",
       "std       72958.703838   101.028719  10.095885  2.995024  62528.365497   \n",
       "min         15566111.0        376.0       19.0       0.0           0.0   \n",
       "25%         15629677.0        572.0       32.0       3.0           0.0   \n",
       "50%         15694506.0        655.0       37.0       5.0      97259.25   \n",
       "75%         15756850.0        722.0       42.0       8.0     126384.42   \n",
       "max         15813844.0        850.0       80.0      10.0      213146.2   \n",
       "\n",
       "       NumOfProducts         Salary  \n",
       "count          453.0          453.0  \n",
       "mean        1.540839  103625.570353  \n",
       "std          0.57702   57548.860457  \n",
       "min              1.0         371.05  \n",
       "25%              1.0        54141.5  \n",
       "50%              2.0      106761.47  \n",
       "75%              2.0      154071.27  \n",
       "max              4.0      199725.39  "
      ]
     },
     "execution_count": 49,
     "metadata": {},
     "output_type": "execute_result"
    }
   ],
   "source": [
    "df.describe()"
   ]
  },
  {
   "cell_type": "code",
   "execution_count": 50,
   "id": "e1496dee-6bf9-410f-8146-e7f4ee08be9b",
   "metadata": {},
   "outputs": [
    {
     "name": "stdout",
     "output_type": "stream",
     "text": [
      "     CustomerId        Name  CreditScore  Country  Gender  Age  Tenure  \\\n",
      "0      15634602    Hargrave          619   France  Female   42       2   \n",
      "1      15634602    Hargrave          619   France  Female   42       2   \n",
      "2      15634602        Onio          502   France  Female   42       8   \n",
      "3      15634602        Onio          502   France  Female   42       8   \n",
      "4      15737888    Mitchell          850    Spain  Female   43       2   \n",
      "..          ...         ...          ...      ...     ...  ...     ...   \n",
      "448    15694860    Uspensky          675   France  Female   38       6   \n",
      "449    15658169        Cook          778    Spain  Female   47       6   \n",
      "450    15794396     Newbold          494  Germany  Female   38       7   \n",
      "451    15785798  Uchechukwu          850   France    Male   40       9   \n",
      "452    15710825       Ch'en          592    Spain    Male   31       7   \n",
      "\n",
      "       Balance  NumOfProducts     Salary        Date  \n",
      "0          0.0              1  101348.88  2023-01-01  \n",
      "1          0.0              1  101348.88  2023-01-02  \n",
      "2     159660.8              3  112542.58  2023-01-03  \n",
      "3     159660.8              3  112542.58  2023-01-04  \n",
      "4    125510.82              1    79084.1  2023-01-05  \n",
      "..         ...            ...        ...         ...  \n",
      "448    68065.8              1   138777.0  2025-01-31  \n",
      "449  127299.34              2  124694.99  2025-01-31  \n",
      "450  174937.64              1   40084.32  2025-01-31  \n",
      "451        0.0              2  119232.33  2025-01-31  \n",
      "452   110071.1              1   43921.36  2025-01-31  \n",
      "\n",
      "[453 rows x 11 columns]\n"
     ]
    }
   ],
   "source": [
    "print(df)"
   ]
  },
  {
   "cell_type": "code",
   "execution_count": 51,
   "id": "b0780d61-622f-42fe-abed-0bf9e98172d8",
   "metadata": {},
   "outputs": [
    {
     "name": "stdout",
     "output_type": "stream",
     "text": [
      "     CustomerId        Name  CreditScore  Country  Gender  Age    Balance  \\\n",
      "0      15634602    Hargrave          619   France  Female   42        0.0   \n",
      "1      15634602    Hargrave          619   France  Female   42        0.0   \n",
      "2      15634602        Onio          502   France  Female   42   159660.8   \n",
      "3      15634602        Onio          502   France  Female   42   159660.8   \n",
      "4      15737888    Mitchell          850    Spain  Female   43  125510.82   \n",
      "..          ...         ...          ...      ...     ...  ...        ...   \n",
      "448    15694860    Uspensky          675   France  Female   38    68065.8   \n",
      "449    15658169        Cook          778    Spain  Female   47  127299.34   \n",
      "450    15794396     Newbold          494  Germany  Female   38  174937.64   \n",
      "451    15785798  Uchechukwu          850   France    Male   40        0.0   \n",
      "452    15710825       Ch'en          592    Spain    Male   31   110071.1   \n",
      "\n",
      "     NumOfProducts     Salary        Date  \n",
      "0                1  101348.88  2023-01-01  \n",
      "1                1  101348.88  2023-01-02  \n",
      "2                3  112542.58  2023-01-03  \n",
      "3                3  112542.58  2023-01-04  \n",
      "4                1    79084.1  2023-01-05  \n",
      "..             ...        ...         ...  \n",
      "448              1   138777.0  2025-01-31  \n",
      "449              2  124694.99  2025-01-31  \n",
      "450              1   40084.32  2025-01-31  \n",
      "451              2  119232.33  2025-01-31  \n",
      "452              1   43921.36  2025-01-31  \n",
      "\n",
      "[453 rows x 10 columns]\n"
     ]
    }
   ],
   "source": [
    "df = df.drop('Tenure', axis = 1)\n",
    "print(df)"
   ]
  },
  {
   "cell_type": "code",
   "execution_count": 52,
   "id": "9f6b81d6-0b98-4470-9990-a8f390e931f5",
   "metadata": {},
   "outputs": [
    {
     "name": "stdout",
     "output_type": "stream",
     "text": [
      "<class 'pandas.core.frame.DataFrame'>\n",
      "RangeIndex: 453 entries, 0 to 452\n",
      "Data columns (total 10 columns):\n",
      " #   Column         Non-Null Count  Dtype  \n",
      "---  ------         --------------  -----  \n",
      " 0   CustomerId     453 non-null    Int64  \n",
      " 1   Name           453 non-null    string \n",
      " 2   CreditScore    453 non-null    Int64  \n",
      " 3   Country        453 non-null    string \n",
      " 4   Gender         453 non-null    string \n",
      " 5   Age            453 non-null    Int64  \n",
      " 6   Balance        453 non-null    Float64\n",
      " 7   NumOfProducts  453 non-null    Int64  \n",
      " 8   Salary         453 non-null    Float64\n",
      " 9   Date           453 non-null    object \n",
      "dtypes: Float64(2), Int64(4), object(1), string(3)\n",
      "memory usage: 38.2+ KB\n"
     ]
    }
   ],
   "source": [
    "df.info()"
   ]
  },
  {
   "cell_type": "code",
   "execution_count": 53,
   "id": "2593c119-a953-419d-8330-327000275ba5",
   "metadata": {},
   "outputs": [
    {
     "data": {
      "text/plain": [
       "CustomerId                Int64\n",
       "Name             string[python]\n",
       "CreditScore               Int64\n",
       "Country          string[python]\n",
       "Gender           string[python]\n",
       "Age                       Int64\n",
       "Balance                 Float64\n",
       "NumOfProducts             Int64\n",
       "Salary                  Float64\n",
       "Date             string[python]\n",
       "dtype: object"
      ]
     },
     "execution_count": 53,
     "metadata": {},
     "output_type": "execute_result"
    }
   ],
   "source": [
    "df = df.convert_dtypes()\n",
    "df.dtypes"
   ]
  },
  {
   "cell_type": "code",
   "execution_count": 54,
   "id": "06574837-25d3-4ac8-ab61-edfd200c2ebf",
   "metadata": {},
   "outputs": [],
   "source": [
    "df['Balance'] = df['Balance'].astype(str)"
   ]
  },
  {
   "cell_type": "code",
   "execution_count": 55,
   "id": "5ca6b668-c735-4176-bdec-11298d51b8b0",
   "metadata": {},
   "outputs": [
    {
     "data": {
      "text/plain": [
       "<bound method DataFrame.info of      CustomerId        Name  CreditScore  Country  Gender  Age    Balance  \\\n",
       "0      15634602    Hargrave          619   France  Female   42        0.0   \n",
       "1      15634602    Hargrave          619   France  Female   42        0.0   \n",
       "2      15634602        Onio          502   France  Female   42   159660.8   \n",
       "3      15634602        Onio          502   France  Female   42   159660.8   \n",
       "4      15737888    Mitchell          850    Spain  Female   43  125510.82   \n",
       "..          ...         ...          ...      ...     ...  ...        ...   \n",
       "448    15694860    Uspensky          675   France  Female   38    68065.8   \n",
       "449    15658169        Cook          778    Spain  Female   47  127299.34   \n",
       "450    15794396     Newbold          494  Germany  Female   38  174937.64   \n",
       "451    15785798  Uchechukwu          850   France    Male   40        0.0   \n",
       "452    15710825       Ch'en          592    Spain    Male   31   110071.1   \n",
       "\n",
       "     NumOfProducts     Salary        Date  \n",
       "0                1  101348.88  2023-01-01  \n",
       "1                1  101348.88  2023-01-02  \n",
       "2                3  112542.58  2023-01-03  \n",
       "3                3  112542.58  2023-01-04  \n",
       "4                1    79084.1  2023-01-05  \n",
       "..             ...        ...         ...  \n",
       "448              1   138777.0  2025-01-31  \n",
       "449              2  124694.99  2025-01-31  \n",
       "450              1   40084.32  2025-01-31  \n",
       "451              2  119232.33  2025-01-31  \n",
       "452              1   43921.36  2025-01-31  \n",
       "\n",
       "[453 rows x 10 columns]>"
      ]
     },
     "execution_count": 55,
     "metadata": {},
     "output_type": "execute_result"
    }
   ],
   "source": [
    "df.info"
   ]
  },
  {
   "cell_type": "code",
   "execution_count": 56,
   "id": "5de8dcde-6ec1-4a85-b906-85fafca3ba2c",
   "metadata": {},
   "outputs": [
    {
     "name": "stdout",
     "output_type": "stream",
     "text": [
      "<class 'pandas.core.frame.DataFrame'>\n",
      "RangeIndex: 453 entries, 0 to 452\n",
      "Data columns (total 10 columns):\n",
      " #   Column         Non-Null Count  Dtype  \n",
      "---  ------         --------------  -----  \n",
      " 0   CustomerId     453 non-null    Int64  \n",
      " 1   Name           453 non-null    string \n",
      " 2   CreditScore    453 non-null    Int64  \n",
      " 3   Country        453 non-null    string \n",
      " 4   Gender         453 non-null    string \n",
      " 5   Age            453 non-null    Int64  \n",
      " 6   Balance        453 non-null    object \n",
      " 7   NumOfProducts  453 non-null    Int64  \n",
      " 8   Salary         453 non-null    Float64\n",
      " 9   Date           453 non-null    string \n",
      "dtypes: Float64(1), Int64(4), object(1), string(4)\n",
      "memory usage: 37.7+ KB\n"
     ]
    }
   ],
   "source": [
    "df.info()"
   ]
  },
  {
   "cell_type": "code",
   "execution_count": 57,
   "id": "1f5d925d-7631-4be6-9586-657263b96172",
   "metadata": {},
   "outputs": [],
   "source": [
    "df = df.convert_dtypes()"
   ]
  },
  {
   "cell_type": "code",
   "execution_count": 58,
   "id": "97e27f4f-2f55-43f2-96b3-c69a1580b43b",
   "metadata": {},
   "outputs": [
    {
     "name": "stdout",
     "output_type": "stream",
     "text": [
      "<class 'pandas.core.frame.DataFrame'>\n",
      "RangeIndex: 453 entries, 0 to 452\n",
      "Data columns (total 10 columns):\n",
      " #   Column         Non-Null Count  Dtype  \n",
      "---  ------         --------------  -----  \n",
      " 0   CustomerId     453 non-null    Int64  \n",
      " 1   Name           453 non-null    string \n",
      " 2   CreditScore    453 non-null    Int64  \n",
      " 3   Country        453 non-null    string \n",
      " 4   Gender         453 non-null    string \n",
      " 5   Age            453 non-null    Int64  \n",
      " 6   Balance        453 non-null    string \n",
      " 7   NumOfProducts  453 non-null    Int64  \n",
      " 8   Salary         453 non-null    Float64\n",
      " 9   Date           453 non-null    string \n",
      "dtypes: Float64(1), Int64(4), string(5)\n",
      "memory usage: 37.7 KB\n"
     ]
    }
   ],
   "source": [
    "df.info()"
   ]
  },
  {
   "cell_type": "code",
   "execution_count": 59,
   "id": "48e190ae-745d-45f5-992a-8b774042285b",
   "metadata": {},
   "outputs": [
    {
     "ename": "ValueError",
     "evalue": "invalid literal for int() with base 10: 'Hargrave'",
     "output_type": "error",
     "traceback": [
      "\u001b[1;31m---------------------------------------------------------------------------\u001b[0m",
      "\u001b[1;31mValueError\u001b[0m                                Traceback (most recent call last)",
      "Cell \u001b[1;32mIn[59], line 1\u001b[0m\n\u001b[1;32m----> 1\u001b[0m df[\u001b[38;5;124m'\u001b[39m\u001b[38;5;124mName\u001b[39m\u001b[38;5;124m'\u001b[39m] \u001b[38;5;241m=\u001b[39m \u001b[43mdf\u001b[49m\u001b[43m[\u001b[49m\u001b[38;5;124;43m'\u001b[39;49m\u001b[38;5;124;43mName\u001b[39;49m\u001b[38;5;124;43m'\u001b[39;49m\u001b[43m]\u001b[49m\u001b[38;5;241;43m.\u001b[39;49m\u001b[43mastype\u001b[49m\u001b[43m(\u001b[49m\u001b[38;5;28;43mint\u001b[39;49m\u001b[43m)\u001b[49m\n",
      "File \u001b[1;32m~\\AppData\\Local\\Programs\\Python\\Python313\\Lib\\site-packages\\pandas\\core\\generic.py:6643\u001b[0m, in \u001b[0;36mNDFrame.astype\u001b[1;34m(self, dtype, copy, errors)\u001b[0m\n\u001b[0;32m   6637\u001b[0m     results \u001b[38;5;241m=\u001b[39m [\n\u001b[0;32m   6638\u001b[0m         ser\u001b[38;5;241m.\u001b[39mastype(dtype, copy\u001b[38;5;241m=\u001b[39mcopy, errors\u001b[38;5;241m=\u001b[39merrors) \u001b[38;5;28;01mfor\u001b[39;00m _, ser \u001b[38;5;129;01min\u001b[39;00m \u001b[38;5;28mself\u001b[39m\u001b[38;5;241m.\u001b[39mitems()\n\u001b[0;32m   6639\u001b[0m     ]\n\u001b[0;32m   6641\u001b[0m \u001b[38;5;28;01melse\u001b[39;00m:\n\u001b[0;32m   6642\u001b[0m     \u001b[38;5;66;03m# else, only a single dtype is given\u001b[39;00m\n\u001b[1;32m-> 6643\u001b[0m     new_data \u001b[38;5;241m=\u001b[39m \u001b[38;5;28;43mself\u001b[39;49m\u001b[38;5;241;43m.\u001b[39;49m\u001b[43m_mgr\u001b[49m\u001b[38;5;241;43m.\u001b[39;49m\u001b[43mastype\u001b[49m\u001b[43m(\u001b[49m\u001b[43mdtype\u001b[49m\u001b[38;5;241;43m=\u001b[39;49m\u001b[43mdtype\u001b[49m\u001b[43m,\u001b[49m\u001b[43m \u001b[49m\u001b[43mcopy\u001b[49m\u001b[38;5;241;43m=\u001b[39;49m\u001b[43mcopy\u001b[49m\u001b[43m,\u001b[49m\u001b[43m \u001b[49m\u001b[43merrors\u001b[49m\u001b[38;5;241;43m=\u001b[39;49m\u001b[43merrors\u001b[49m\u001b[43m)\u001b[49m\n\u001b[0;32m   6644\u001b[0m     res \u001b[38;5;241m=\u001b[39m \u001b[38;5;28mself\u001b[39m\u001b[38;5;241m.\u001b[39m_constructor_from_mgr(new_data, axes\u001b[38;5;241m=\u001b[39mnew_data\u001b[38;5;241m.\u001b[39maxes)\n\u001b[0;32m   6645\u001b[0m     \u001b[38;5;28;01mreturn\u001b[39;00m res\u001b[38;5;241m.\u001b[39m__finalize__(\u001b[38;5;28mself\u001b[39m, method\u001b[38;5;241m=\u001b[39m\u001b[38;5;124m\"\u001b[39m\u001b[38;5;124mastype\u001b[39m\u001b[38;5;124m\"\u001b[39m)\n",
      "File \u001b[1;32m~\\AppData\\Local\\Programs\\Python\\Python313\\Lib\\site-packages\\pandas\\core\\internals\\managers.py:430\u001b[0m, in \u001b[0;36mBaseBlockManager.astype\u001b[1;34m(self, dtype, copy, errors)\u001b[0m\n\u001b[0;32m    427\u001b[0m \u001b[38;5;28;01melif\u001b[39;00m using_copy_on_write():\n\u001b[0;32m    428\u001b[0m     copy \u001b[38;5;241m=\u001b[39m \u001b[38;5;28;01mFalse\u001b[39;00m\n\u001b[1;32m--> 430\u001b[0m \u001b[38;5;28;01mreturn\u001b[39;00m \u001b[38;5;28;43mself\u001b[39;49m\u001b[38;5;241;43m.\u001b[39;49m\u001b[43mapply\u001b[49m\u001b[43m(\u001b[49m\n\u001b[0;32m    431\u001b[0m \u001b[43m    \u001b[49m\u001b[38;5;124;43m\"\u001b[39;49m\u001b[38;5;124;43mastype\u001b[39;49m\u001b[38;5;124;43m\"\u001b[39;49m\u001b[43m,\u001b[49m\n\u001b[0;32m    432\u001b[0m \u001b[43m    \u001b[49m\u001b[43mdtype\u001b[49m\u001b[38;5;241;43m=\u001b[39;49m\u001b[43mdtype\u001b[49m\u001b[43m,\u001b[49m\n\u001b[0;32m    433\u001b[0m \u001b[43m    \u001b[49m\u001b[43mcopy\u001b[49m\u001b[38;5;241;43m=\u001b[39;49m\u001b[43mcopy\u001b[49m\u001b[43m,\u001b[49m\n\u001b[0;32m    434\u001b[0m \u001b[43m    \u001b[49m\u001b[43merrors\u001b[49m\u001b[38;5;241;43m=\u001b[39;49m\u001b[43merrors\u001b[49m\u001b[43m,\u001b[49m\n\u001b[0;32m    435\u001b[0m \u001b[43m    \u001b[49m\u001b[43musing_cow\u001b[49m\u001b[38;5;241;43m=\u001b[39;49m\u001b[43musing_copy_on_write\u001b[49m\u001b[43m(\u001b[49m\u001b[43m)\u001b[49m\u001b[43m,\u001b[49m\n\u001b[0;32m    436\u001b[0m \u001b[43m\u001b[49m\u001b[43m)\u001b[49m\n",
      "File \u001b[1;32m~\\AppData\\Local\\Programs\\Python\\Python313\\Lib\\site-packages\\pandas\\core\\internals\\managers.py:363\u001b[0m, in \u001b[0;36mBaseBlockManager.apply\u001b[1;34m(self, f, align_keys, **kwargs)\u001b[0m\n\u001b[0;32m    361\u001b[0m         applied \u001b[38;5;241m=\u001b[39m b\u001b[38;5;241m.\u001b[39mapply(f, \u001b[38;5;241m*\u001b[39m\u001b[38;5;241m*\u001b[39mkwargs)\n\u001b[0;32m    362\u001b[0m     \u001b[38;5;28;01melse\u001b[39;00m:\n\u001b[1;32m--> 363\u001b[0m         applied \u001b[38;5;241m=\u001b[39m \u001b[38;5;28;43mgetattr\u001b[39;49m\u001b[43m(\u001b[49m\u001b[43mb\u001b[49m\u001b[43m,\u001b[49m\u001b[43m \u001b[49m\u001b[43mf\u001b[49m\u001b[43m)\u001b[49m\u001b[43m(\u001b[49m\u001b[38;5;241;43m*\u001b[39;49m\u001b[38;5;241;43m*\u001b[39;49m\u001b[43mkwargs\u001b[49m\u001b[43m)\u001b[49m\n\u001b[0;32m    364\u001b[0m     result_blocks \u001b[38;5;241m=\u001b[39m extend_blocks(applied, result_blocks)\n\u001b[0;32m    366\u001b[0m out \u001b[38;5;241m=\u001b[39m \u001b[38;5;28mtype\u001b[39m(\u001b[38;5;28mself\u001b[39m)\u001b[38;5;241m.\u001b[39mfrom_blocks(result_blocks, \u001b[38;5;28mself\u001b[39m\u001b[38;5;241m.\u001b[39maxes)\n",
      "File \u001b[1;32m~\\AppData\\Local\\Programs\\Python\\Python313\\Lib\\site-packages\\pandas\\core\\internals\\blocks.py:758\u001b[0m, in \u001b[0;36mBlock.astype\u001b[1;34m(self, dtype, copy, errors, using_cow, squeeze)\u001b[0m\n\u001b[0;32m    755\u001b[0m         \u001b[38;5;28;01mraise\u001b[39;00m \u001b[38;5;167;01mValueError\u001b[39;00m(\u001b[38;5;124m\"\u001b[39m\u001b[38;5;124mCan not squeeze with more than one column.\u001b[39m\u001b[38;5;124m\"\u001b[39m)\n\u001b[0;32m    756\u001b[0m     values \u001b[38;5;241m=\u001b[39m values[\u001b[38;5;241m0\u001b[39m, :]  \u001b[38;5;66;03m# type: ignore[call-overload]\u001b[39;00m\n\u001b[1;32m--> 758\u001b[0m new_values \u001b[38;5;241m=\u001b[39m \u001b[43mastype_array_safe\u001b[49m\u001b[43m(\u001b[49m\u001b[43mvalues\u001b[49m\u001b[43m,\u001b[49m\u001b[43m \u001b[49m\u001b[43mdtype\u001b[49m\u001b[43m,\u001b[49m\u001b[43m \u001b[49m\u001b[43mcopy\u001b[49m\u001b[38;5;241;43m=\u001b[39;49m\u001b[43mcopy\u001b[49m\u001b[43m,\u001b[49m\u001b[43m \u001b[49m\u001b[43merrors\u001b[49m\u001b[38;5;241;43m=\u001b[39;49m\u001b[43merrors\u001b[49m\u001b[43m)\u001b[49m\n\u001b[0;32m    760\u001b[0m new_values \u001b[38;5;241m=\u001b[39m maybe_coerce_values(new_values)\n\u001b[0;32m    762\u001b[0m refs \u001b[38;5;241m=\u001b[39m \u001b[38;5;28;01mNone\u001b[39;00m\n",
      "File \u001b[1;32m~\\AppData\\Local\\Programs\\Python\\Python313\\Lib\\site-packages\\pandas\\core\\dtypes\\astype.py:237\u001b[0m, in \u001b[0;36mastype_array_safe\u001b[1;34m(values, dtype, copy, errors)\u001b[0m\n\u001b[0;32m    234\u001b[0m     dtype \u001b[38;5;241m=\u001b[39m dtype\u001b[38;5;241m.\u001b[39mnumpy_dtype\n\u001b[0;32m    236\u001b[0m \u001b[38;5;28;01mtry\u001b[39;00m:\n\u001b[1;32m--> 237\u001b[0m     new_values \u001b[38;5;241m=\u001b[39m \u001b[43mastype_array\u001b[49m\u001b[43m(\u001b[49m\u001b[43mvalues\u001b[49m\u001b[43m,\u001b[49m\u001b[43m \u001b[49m\u001b[43mdtype\u001b[49m\u001b[43m,\u001b[49m\u001b[43m \u001b[49m\u001b[43mcopy\u001b[49m\u001b[38;5;241;43m=\u001b[39;49m\u001b[43mcopy\u001b[49m\u001b[43m)\u001b[49m\n\u001b[0;32m    238\u001b[0m \u001b[38;5;28;01mexcept\u001b[39;00m (\u001b[38;5;167;01mValueError\u001b[39;00m, \u001b[38;5;167;01mTypeError\u001b[39;00m):\n\u001b[0;32m    239\u001b[0m     \u001b[38;5;66;03m# e.g. _astype_nansafe can fail on object-dtype of strings\u001b[39;00m\n\u001b[0;32m    240\u001b[0m     \u001b[38;5;66;03m#  trying to convert to float\u001b[39;00m\n\u001b[0;32m    241\u001b[0m     \u001b[38;5;28;01mif\u001b[39;00m errors \u001b[38;5;241m==\u001b[39m \u001b[38;5;124m\"\u001b[39m\u001b[38;5;124mignore\u001b[39m\u001b[38;5;124m\"\u001b[39m:\n",
      "File \u001b[1;32m~\\AppData\\Local\\Programs\\Python\\Python313\\Lib\\site-packages\\pandas\\core\\dtypes\\astype.py:179\u001b[0m, in \u001b[0;36mastype_array\u001b[1;34m(values, dtype, copy)\u001b[0m\n\u001b[0;32m    175\u001b[0m     \u001b[38;5;28;01mreturn\u001b[39;00m values\n\u001b[0;32m    177\u001b[0m \u001b[38;5;28;01mif\u001b[39;00m \u001b[38;5;129;01mnot\u001b[39;00m \u001b[38;5;28misinstance\u001b[39m(values, np\u001b[38;5;241m.\u001b[39mndarray):\n\u001b[0;32m    178\u001b[0m     \u001b[38;5;66;03m# i.e. ExtensionArray\u001b[39;00m\n\u001b[1;32m--> 179\u001b[0m     values \u001b[38;5;241m=\u001b[39m \u001b[43mvalues\u001b[49m\u001b[38;5;241;43m.\u001b[39;49m\u001b[43mastype\u001b[49m\u001b[43m(\u001b[49m\u001b[43mdtype\u001b[49m\u001b[43m,\u001b[49m\u001b[43m \u001b[49m\u001b[43mcopy\u001b[49m\u001b[38;5;241;43m=\u001b[39;49m\u001b[43mcopy\u001b[49m\u001b[43m)\u001b[49m\n\u001b[0;32m    181\u001b[0m \u001b[38;5;28;01melse\u001b[39;00m:\n\u001b[0;32m    182\u001b[0m     values \u001b[38;5;241m=\u001b[39m _astype_nansafe(values, dtype, copy\u001b[38;5;241m=\u001b[39mcopy)\n",
      "File \u001b[1;32m~\\AppData\\Local\\Programs\\Python\\Python313\\Lib\\site-packages\\pandas\\core\\arrays\\string_.py:515\u001b[0m, in \u001b[0;36mStringArray.astype\u001b[1;34m(self, dtype, copy)\u001b[0m\n\u001b[0;32m    512\u001b[0m     values[mask] \u001b[38;5;241m=\u001b[39m np\u001b[38;5;241m.\u001b[39mnan\n\u001b[0;32m    513\u001b[0m     \u001b[38;5;28;01mreturn\u001b[39;00m values\n\u001b[1;32m--> 515\u001b[0m \u001b[38;5;28;01mreturn\u001b[39;00m \u001b[38;5;28;43msuper\u001b[39;49m\u001b[43m(\u001b[49m\u001b[43m)\u001b[49m\u001b[38;5;241;43m.\u001b[39;49m\u001b[43mastype\u001b[49m\u001b[43m(\u001b[49m\u001b[43mdtype\u001b[49m\u001b[43m,\u001b[49m\u001b[43m \u001b[49m\u001b[43mcopy\u001b[49m\u001b[43m)\u001b[49m\n",
      "File \u001b[1;32m~\\AppData\\Local\\Programs\\Python\\Python313\\Lib\\site-packages\\pandas\\core\\arrays\\numpy_.py:223\u001b[0m, in \u001b[0;36mNumpyExtensionArray.astype\u001b[1;34m(self, dtype, copy)\u001b[0m\n\u001b[0;32m    220\u001b[0m         \u001b[38;5;28;01mreturn\u001b[39;00m \u001b[38;5;28mself\u001b[39m\u001b[38;5;241m.\u001b[39mcopy()\n\u001b[0;32m    221\u001b[0m     \u001b[38;5;28;01mreturn\u001b[39;00m \u001b[38;5;28mself\u001b[39m\n\u001b[1;32m--> 223\u001b[0m result \u001b[38;5;241m=\u001b[39m \u001b[43mastype_array\u001b[49m\u001b[43m(\u001b[49m\u001b[38;5;28;43mself\u001b[39;49m\u001b[38;5;241;43m.\u001b[39;49m\u001b[43m_ndarray\u001b[49m\u001b[43m,\u001b[49m\u001b[43m \u001b[49m\u001b[43mdtype\u001b[49m\u001b[38;5;241;43m=\u001b[39;49m\u001b[43mdtype\u001b[49m\u001b[43m,\u001b[49m\u001b[43m \u001b[49m\u001b[43mcopy\u001b[49m\u001b[38;5;241;43m=\u001b[39;49m\u001b[43mcopy\u001b[49m\u001b[43m)\u001b[49m\n\u001b[0;32m    224\u001b[0m \u001b[38;5;28;01mreturn\u001b[39;00m result\n",
      "File \u001b[1;32m~\\AppData\\Local\\Programs\\Python\\Python313\\Lib\\site-packages\\pandas\\core\\dtypes\\astype.py:182\u001b[0m, in \u001b[0;36mastype_array\u001b[1;34m(values, dtype, copy)\u001b[0m\n\u001b[0;32m    179\u001b[0m     values \u001b[38;5;241m=\u001b[39m values\u001b[38;5;241m.\u001b[39mastype(dtype, copy\u001b[38;5;241m=\u001b[39mcopy)\n\u001b[0;32m    181\u001b[0m \u001b[38;5;28;01melse\u001b[39;00m:\n\u001b[1;32m--> 182\u001b[0m     values \u001b[38;5;241m=\u001b[39m \u001b[43m_astype_nansafe\u001b[49m\u001b[43m(\u001b[49m\u001b[43mvalues\u001b[49m\u001b[43m,\u001b[49m\u001b[43m \u001b[49m\u001b[43mdtype\u001b[49m\u001b[43m,\u001b[49m\u001b[43m \u001b[49m\u001b[43mcopy\u001b[49m\u001b[38;5;241;43m=\u001b[39;49m\u001b[43mcopy\u001b[49m\u001b[43m)\u001b[49m\n\u001b[0;32m    184\u001b[0m \u001b[38;5;66;03m# in pandas we don't store numpy str dtypes, so convert to object\u001b[39;00m\n\u001b[0;32m    185\u001b[0m \u001b[38;5;28;01mif\u001b[39;00m \u001b[38;5;28misinstance\u001b[39m(dtype, np\u001b[38;5;241m.\u001b[39mdtype) \u001b[38;5;129;01mand\u001b[39;00m \u001b[38;5;28missubclass\u001b[39m(values\u001b[38;5;241m.\u001b[39mdtype\u001b[38;5;241m.\u001b[39mtype, \u001b[38;5;28mstr\u001b[39m):\n",
      "File \u001b[1;32m~\\AppData\\Local\\Programs\\Python\\Python313\\Lib\\site-packages\\pandas\\core\\dtypes\\astype.py:133\u001b[0m, in \u001b[0;36m_astype_nansafe\u001b[1;34m(arr, dtype, copy, skipna)\u001b[0m\n\u001b[0;32m    129\u001b[0m     \u001b[38;5;28;01mraise\u001b[39;00m \u001b[38;5;167;01mValueError\u001b[39;00m(msg)\n\u001b[0;32m    131\u001b[0m \u001b[38;5;28;01mif\u001b[39;00m copy \u001b[38;5;129;01mor\u001b[39;00m arr\u001b[38;5;241m.\u001b[39mdtype \u001b[38;5;241m==\u001b[39m \u001b[38;5;28mobject\u001b[39m \u001b[38;5;129;01mor\u001b[39;00m dtype \u001b[38;5;241m==\u001b[39m \u001b[38;5;28mobject\u001b[39m:\n\u001b[0;32m    132\u001b[0m     \u001b[38;5;66;03m# Explicit copy, or required since NumPy can't view from / to object.\u001b[39;00m\n\u001b[1;32m--> 133\u001b[0m     \u001b[38;5;28;01mreturn\u001b[39;00m \u001b[43marr\u001b[49m\u001b[38;5;241;43m.\u001b[39;49m\u001b[43mastype\u001b[49m\u001b[43m(\u001b[49m\u001b[43mdtype\u001b[49m\u001b[43m,\u001b[49m\u001b[43m \u001b[49m\u001b[43mcopy\u001b[49m\u001b[38;5;241;43m=\u001b[39;49m\u001b[38;5;28;43;01mTrue\u001b[39;49;00m\u001b[43m)\u001b[49m\n\u001b[0;32m    135\u001b[0m \u001b[38;5;28;01mreturn\u001b[39;00m arr\u001b[38;5;241m.\u001b[39mastype(dtype, copy\u001b[38;5;241m=\u001b[39mcopy)\n",
      "\u001b[1;31mValueError\u001b[0m: invalid literal for int() with base 10: 'Hargrave'"
     ]
    }
   ],
   "source": [
    "df['Name'] = df['Name'].astype(int)"
   ]
  },
  {
   "cell_type": "code",
   "execution_count": 60,
   "id": "66d09068-3150-4868-967a-06f71b8655a3",
   "metadata": {},
   "outputs": [
    {
     "data": {
      "text/plain": [
       "CustomerId       0\n",
       "Name             0\n",
       "CreditScore      0\n",
       "Country          0\n",
       "Gender           0\n",
       "Age              0\n",
       "Balance          0\n",
       "NumOfProducts    0\n",
       "Salary           0\n",
       "Date             0\n",
       "dtype: int64"
      ]
     },
     "execution_count": 60,
     "metadata": {},
     "output_type": "execute_result"
    }
   ],
   "source": [
    "df.isnull().sum()"
   ]
  },
  {
   "cell_type": "code",
   "execution_count": 62,
   "id": "530f847b-d196-42db-9634-efd343fd09a8",
   "metadata": {},
   "outputs": [
    {
     "name": "stdout",
     "output_type": "stream",
     "text": [
      "       CustomerId       Name  CreditScore  Country  Gender   Age  Tenure  \\\n",
      "0      15634602.0   Hargrave          619   France  Female  42.0     2.0   \n",
      "1      15634602.0   Hargrave          619   France  Female  42.0     2.0   \n",
      "2      15634602.0       Onio          502   France  Female  42.0     8.0   \n",
      "3      15634602.0       Onio          502   France  Female  42.0     8.0   \n",
      "4      15737888.0   Mitchell          850    Spain  Female  43.0     2.0   \n",
      "...           ...        ...          ...      ...     ...   ...     ...   \n",
      "9996   15569892.0  Johnstone          516   France    Male  35.0    10.0   \n",
      "9997   15569892.0  Johnstone          516   France    Male  35.0    10.0   \n",
      "9998   15682355.0  Sabbatini          772  Germany    Male  42.0     3.0   \n",
      "9999   15628319.0     Walker          792   France  Female  28.0     4.0   \n",
      "10000         NaN        NaN      6505288      NaN     NaN   NaN     NaN   \n",
      "\n",
      "         Balance  NumOfProducts     Salary        Date  \n",
      "0           0.00            1.0  101348.88  01-01-2023  \n",
      "1           0.00            1.0  101348.88  02-01-2023  \n",
      "2      159660.80            3.0  112542.58  03-01-2023  \n",
      "3      159660.80            3.0  112542.58  04-01-2023  \n",
      "4      125510.82            1.0   79084.10  05-01-2023  \n",
      "...          ...            ...        ...         ...  \n",
      "9996    57369.61            1.0  101699.77         NaN  \n",
      "9997    57369.61            1.0  101699.77         NaN  \n",
      "9998    75075.31            2.0   92888.52         NaN  \n",
      "9999   130142.79            1.0   38190.78         NaN  \n",
      "10000        NaN            NaN        NaN         NaN  \n",
      "\n",
      "[10001 rows x 11 columns]\n"
     ]
    }
   ],
   "source": [
    "import pandas as pd\n",
    "file_path = \"C:/Users/Sivaraman/Desktop/study/data analytics/Data (for practice)/bank_details_1.csv\"\n",
    "df = pd.read_csv(file_path)\n",
    "print(df)"
   ]
  },
  {
   "cell_type": "code",
   "execution_count": 63,
   "id": "97f10129-15ff-4b0d-acac-bdb434567c21",
   "metadata": {},
   "outputs": [
    {
     "data": {
      "text/plain": [
       "CustomerId          1\n",
       "Name                1\n",
       "CreditScore         0\n",
       "Country             1\n",
       "Gender              1\n",
       "Age                 1\n",
       "Tenure              1\n",
       "Balance             1\n",
       "NumOfProducts       1\n",
       "Salary              1\n",
       "Date             9548\n",
       "dtype: int64"
      ]
     },
     "execution_count": 63,
     "metadata": {},
     "output_type": "execute_result"
    }
   ],
   "source": [
    "df.isnull().sum()"
   ]
  },
  {
   "cell_type": "code",
   "execution_count": 64,
   "id": "99d69003-c2c5-4607-a608-dcada4901d55",
   "metadata": {},
   "outputs": [
    {
     "data": {
      "text/plain": [
       "CustomerId       10000\n",
       "Name             10000\n",
       "CreditScore      10001\n",
       "Country          10000\n",
       "Gender           10000\n",
       "Age              10000\n",
       "Tenure           10000\n",
       "Balance          10000\n",
       "NumOfProducts    10000\n",
       "Salary           10000\n",
       "Date               453\n",
       "dtype: int64"
      ]
     },
     "execution_count": 64,
     "metadata": {},
     "output_type": "execute_result"
    }
   ],
   "source": [
    "df.notnull().sum()"
   ]
  },
  {
   "cell_type": "code",
   "execution_count": 65,
   "id": "e61a84ed-942e-4e57-92af-de20288280aa",
   "metadata": {},
   "outputs": [
    {
     "ename": "TypeError",
     "evalue": "NDFrame.fillna() takes from 1 to 2 positional arguments but 3 were given",
     "output_type": "error",
     "traceback": [
      "\u001b[1;31m---------------------------------------------------------------------------\u001b[0m",
      "\u001b[1;31mTypeError\u001b[0m                                 Traceback (most recent call last)",
      "Cell \u001b[1;32mIn[65], line 1\u001b[0m\n\u001b[1;32m----> 1\u001b[0m df[\u001b[38;5;124m'\u001b[39m\u001b[38;5;124mSalary\u001b[39m\u001b[38;5;124m'\u001b[39m] \u001b[38;5;241m=\u001b[39m \u001b[43mdf\u001b[49m\u001b[38;5;241;43m.\u001b[39;49m\u001b[43mfillna\u001b[49m\u001b[43m(\u001b[49m\u001b[43mdf\u001b[49m\u001b[43m[\u001b[49m\u001b[38;5;124;43m'\u001b[39;49m\u001b[38;5;124;43mSalary\u001b[39;49m\u001b[38;5;124;43m'\u001b[39;49m\u001b[43m]\u001b[49m\u001b[43m,\u001b[49m\u001b[43m \u001b[49m\u001b[38;5;241;43m15000\u001b[39;49m\u001b[43m)\u001b[49m\n",
      "\u001b[1;31mTypeError\u001b[0m: NDFrame.fillna() takes from 1 to 2 positional arguments but 3 were given"
     ]
    }
   ],
   "source": [
    "df['Salary'] = df.fillna(df['Salary'], 15000)"
   ]
  },
  {
   "cell_type": "code",
   "execution_count": 66,
   "id": "9ee56d3c-55b8-4441-92d6-c296255c6599",
   "metadata": {},
   "outputs": [],
   "source": [
    "df['Salary'] = df['Salary'].fillna(df['Salary'].mean())"
   ]
  },
  {
   "cell_type": "code",
   "execution_count": 67,
   "id": "e3e8e5d9-9557-476b-9c41-f0303aa77060",
   "metadata": {},
   "outputs": [
    {
     "data": {
      "text/plain": [
       "CustomerId          1\n",
       "Name                1\n",
       "CreditScore         0\n",
       "Country             1\n",
       "Gender              1\n",
       "Age                 1\n",
       "Tenure              1\n",
       "Balance             1\n",
       "NumOfProducts       1\n",
       "Salary              0\n",
       "Date             9548\n",
       "dtype: int64"
      ]
     },
     "execution_count": 67,
     "metadata": {},
     "output_type": "execute_result"
    }
   ],
   "source": [
    "df.isnull().sum()"
   ]
  },
  {
   "cell_type": "code",
   "execution_count": 68,
   "id": "9080cd84-5ac3-44e3-b08a-657eed8e5f5d",
   "metadata": {},
   "outputs": [
    {
     "data": {
      "text/html": [
       "<div>\n",
       "<style scoped>\n",
       "    .dataframe tbody tr th:only-of-type {\n",
       "        vertical-align: middle;\n",
       "    }\n",
       "\n",
       "    .dataframe tbody tr th {\n",
       "        vertical-align: top;\n",
       "    }\n",
       "\n",
       "    .dataframe thead th {\n",
       "        text-align: right;\n",
       "    }\n",
       "</style>\n",
       "<table border=\"1\" class=\"dataframe\">\n",
       "  <thead>\n",
       "    <tr style=\"text-align: right;\">\n",
       "      <th></th>\n",
       "      <th>CustomerId</th>\n",
       "      <th>Name</th>\n",
       "      <th>CreditScore</th>\n",
       "      <th>Country</th>\n",
       "      <th>Gender</th>\n",
       "      <th>Age</th>\n",
       "      <th>Tenure</th>\n",
       "      <th>Balance</th>\n",
       "      <th>NumOfProducts</th>\n",
       "      <th>Salary</th>\n",
       "      <th>Date</th>\n",
       "    </tr>\n",
       "  </thead>\n",
       "  <tbody>\n",
       "    <tr>\n",
       "      <th>0</th>\n",
       "      <td>15634602.0</td>\n",
       "      <td>Hargrave</td>\n",
       "      <td>619</td>\n",
       "      <td>France</td>\n",
       "      <td>Female</td>\n",
       "      <td>42.0</td>\n",
       "      <td>2.0</td>\n",
       "      <td>0.00</td>\n",
       "      <td>1.0</td>\n",
       "      <td>101348.88</td>\n",
       "      <td>01-01-2023</td>\n",
       "    </tr>\n",
       "    <tr>\n",
       "      <th>1</th>\n",
       "      <td>15634602.0</td>\n",
       "      <td>Hargrave</td>\n",
       "      <td>619</td>\n",
       "      <td>France</td>\n",
       "      <td>Female</td>\n",
       "      <td>42.0</td>\n",
       "      <td>2.0</td>\n",
       "      <td>0.00</td>\n",
       "      <td>1.0</td>\n",
       "      <td>101348.88</td>\n",
       "      <td>02-01-2023</td>\n",
       "    </tr>\n",
       "    <tr>\n",
       "      <th>2</th>\n",
       "      <td>15634602.0</td>\n",
       "      <td>Onio</td>\n",
       "      <td>502</td>\n",
       "      <td>France</td>\n",
       "      <td>Female</td>\n",
       "      <td>42.0</td>\n",
       "      <td>8.0</td>\n",
       "      <td>159660.80</td>\n",
       "      <td>3.0</td>\n",
       "      <td>112542.58</td>\n",
       "      <td>03-01-2023</td>\n",
       "    </tr>\n",
       "    <tr>\n",
       "      <th>3</th>\n",
       "      <td>15634602.0</td>\n",
       "      <td>Onio</td>\n",
       "      <td>502</td>\n",
       "      <td>France</td>\n",
       "      <td>Female</td>\n",
       "      <td>42.0</td>\n",
       "      <td>8.0</td>\n",
       "      <td>159660.80</td>\n",
       "      <td>3.0</td>\n",
       "      <td>112542.58</td>\n",
       "      <td>04-01-2023</td>\n",
       "    </tr>\n",
       "    <tr>\n",
       "      <th>4</th>\n",
       "      <td>15737888.0</td>\n",
       "      <td>Mitchell</td>\n",
       "      <td>850</td>\n",
       "      <td>Spain</td>\n",
       "      <td>Female</td>\n",
       "      <td>43.0</td>\n",
       "      <td>2.0</td>\n",
       "      <td>125510.82</td>\n",
       "      <td>1.0</td>\n",
       "      <td>79084.10</td>\n",
       "      <td>05-01-2023</td>\n",
       "    </tr>\n",
       "    <tr>\n",
       "      <th>...</th>\n",
       "      <td>...</td>\n",
       "      <td>...</td>\n",
       "      <td>...</td>\n",
       "      <td>...</td>\n",
       "      <td>...</td>\n",
       "      <td>...</td>\n",
       "      <td>...</td>\n",
       "      <td>...</td>\n",
       "      <td>...</td>\n",
       "      <td>...</td>\n",
       "      <td>...</td>\n",
       "    </tr>\n",
       "    <tr>\n",
       "      <th>448</th>\n",
       "      <td>15694860.0</td>\n",
       "      <td>Uspensky</td>\n",
       "      <td>675</td>\n",
       "      <td>France</td>\n",
       "      <td>Female</td>\n",
       "      <td>38.0</td>\n",
       "      <td>6.0</td>\n",
       "      <td>68065.80</td>\n",
       "      <td>1.0</td>\n",
       "      <td>138777.00</td>\n",
       "      <td>31-01-2025</td>\n",
       "    </tr>\n",
       "    <tr>\n",
       "      <th>449</th>\n",
       "      <td>15658169.0</td>\n",
       "      <td>Cook</td>\n",
       "      <td>778</td>\n",
       "      <td>Spain</td>\n",
       "      <td>Female</td>\n",
       "      <td>47.0</td>\n",
       "      <td>6.0</td>\n",
       "      <td>127299.34</td>\n",
       "      <td>2.0</td>\n",
       "      <td>124694.99</td>\n",
       "      <td>31-01-2025</td>\n",
       "    </tr>\n",
       "    <tr>\n",
       "      <th>450</th>\n",
       "      <td>15794396.0</td>\n",
       "      <td>Newbold</td>\n",
       "      <td>494</td>\n",
       "      <td>Germany</td>\n",
       "      <td>Female</td>\n",
       "      <td>38.0</td>\n",
       "      <td>7.0</td>\n",
       "      <td>174937.64</td>\n",
       "      <td>1.0</td>\n",
       "      <td>40084.32</td>\n",
       "      <td>31-01-2025</td>\n",
       "    </tr>\n",
       "    <tr>\n",
       "      <th>451</th>\n",
       "      <td>15785798.0</td>\n",
       "      <td>Uchechukwu</td>\n",
       "      <td>850</td>\n",
       "      <td>France</td>\n",
       "      <td>Male</td>\n",
       "      <td>40.0</td>\n",
       "      <td>9.0</td>\n",
       "      <td>0.00</td>\n",
       "      <td>2.0</td>\n",
       "      <td>119232.33</td>\n",
       "      <td>31-01-2025</td>\n",
       "    </tr>\n",
       "    <tr>\n",
       "      <th>452</th>\n",
       "      <td>15710825.0</td>\n",
       "      <td>Ch'en</td>\n",
       "      <td>592</td>\n",
       "      <td>Spain</td>\n",
       "      <td>Male</td>\n",
       "      <td>31.0</td>\n",
       "      <td>7.0</td>\n",
       "      <td>110071.10</td>\n",
       "      <td>1.0</td>\n",
       "      <td>43921.36</td>\n",
       "      <td>31-01-2025</td>\n",
       "    </tr>\n",
       "  </tbody>\n",
       "</table>\n",
       "<p>453 rows × 11 columns</p>\n",
       "</div>"
      ],
      "text/plain": [
       "     CustomerId        Name  CreditScore  Country  Gender   Age  Tenure  \\\n",
       "0    15634602.0    Hargrave          619   France  Female  42.0     2.0   \n",
       "1    15634602.0    Hargrave          619   France  Female  42.0     2.0   \n",
       "2    15634602.0        Onio          502   France  Female  42.0     8.0   \n",
       "3    15634602.0        Onio          502   France  Female  42.0     8.0   \n",
       "4    15737888.0    Mitchell          850    Spain  Female  43.0     2.0   \n",
       "..          ...         ...          ...      ...     ...   ...     ...   \n",
       "448  15694860.0    Uspensky          675   France  Female  38.0     6.0   \n",
       "449  15658169.0        Cook          778    Spain  Female  47.0     6.0   \n",
       "450  15794396.0     Newbold          494  Germany  Female  38.0     7.0   \n",
       "451  15785798.0  Uchechukwu          850   France    Male  40.0     9.0   \n",
       "452  15710825.0       Ch'en          592    Spain    Male  31.0     7.0   \n",
       "\n",
       "       Balance  NumOfProducts     Salary        Date  \n",
       "0         0.00            1.0  101348.88  01-01-2023  \n",
       "1         0.00            1.0  101348.88  02-01-2023  \n",
       "2    159660.80            3.0  112542.58  03-01-2023  \n",
       "3    159660.80            3.0  112542.58  04-01-2023  \n",
       "4    125510.82            1.0   79084.10  05-01-2023  \n",
       "..         ...            ...        ...         ...  \n",
       "448   68065.80            1.0  138777.00  31-01-2025  \n",
       "449  127299.34            2.0  124694.99  31-01-2025  \n",
       "450  174937.64            1.0   40084.32  31-01-2025  \n",
       "451       0.00            2.0  119232.33  31-01-2025  \n",
       "452  110071.10            1.0   43921.36  31-01-2025  \n",
       "\n",
       "[453 rows x 11 columns]"
      ]
     },
     "execution_count": 68,
     "metadata": {},
     "output_type": "execute_result"
    }
   ],
   "source": [
    "df.dropna()"
   ]
  },
  {
   "cell_type": "code",
   "execution_count": 69,
   "id": "e7dbdf41-66df-4cd4-a26a-03794977c69b",
   "metadata": {},
   "outputs": [],
   "source": [
    "drop = df.dropna()"
   ]
  },
  {
   "cell_type": "code",
   "execution_count": 70,
   "id": "0a9b1808-d04d-43b2-a8b8-78d58b55ca87",
   "metadata": {},
   "outputs": [
    {
     "name": "stdout",
     "output_type": "stream",
     "text": [
      "     CustomerId        Name  CreditScore  Country  Gender   Age  Tenure  \\\n",
      "0    15634602.0    Hargrave          619   France  Female  42.0     2.0   \n",
      "1    15634602.0    Hargrave          619   France  Female  42.0     2.0   \n",
      "2    15634602.0        Onio          502   France  Female  42.0     8.0   \n",
      "3    15634602.0        Onio          502   France  Female  42.0     8.0   \n",
      "4    15737888.0    Mitchell          850    Spain  Female  43.0     2.0   \n",
      "..          ...         ...          ...      ...     ...   ...     ...   \n",
      "448  15694860.0    Uspensky          675   France  Female  38.0     6.0   \n",
      "449  15658169.0        Cook          778    Spain  Female  47.0     6.0   \n",
      "450  15794396.0     Newbold          494  Germany  Female  38.0     7.0   \n",
      "451  15785798.0  Uchechukwu          850   France    Male  40.0     9.0   \n",
      "452  15710825.0       Ch'en          592    Spain    Male  31.0     7.0   \n",
      "\n",
      "       Balance  NumOfProducts     Salary        Date  \n",
      "0         0.00            1.0  101348.88  01-01-2023  \n",
      "1         0.00            1.0  101348.88  02-01-2023  \n",
      "2    159660.80            3.0  112542.58  03-01-2023  \n",
      "3    159660.80            3.0  112542.58  04-01-2023  \n",
      "4    125510.82            1.0   79084.10  05-01-2023  \n",
      "..         ...            ...        ...         ...  \n",
      "448   68065.80            1.0  138777.00  31-01-2025  \n",
      "449  127299.34            2.0  124694.99  31-01-2025  \n",
      "450  174937.64            1.0   40084.32  31-01-2025  \n",
      "451       0.00            2.0  119232.33  31-01-2025  \n",
      "452  110071.10            1.0   43921.36  31-01-2025  \n",
      "\n",
      "[453 rows x 11 columns]\n"
     ]
    }
   ],
   "source": [
    "print(drop)"
   ]
  },
  {
   "cell_type": "code",
   "execution_count": 71,
   "id": "ced5e8a6-a50b-4f54-a38b-8d5db39a2038",
   "metadata": {},
   "outputs": [
    {
     "ename": "TypeError",
     "evalue": "'tuple' object is not callable",
     "output_type": "error",
     "traceback": [
      "\u001b[1;31m---------------------------------------------------------------------------\u001b[0m",
      "\u001b[1;31mTypeError\u001b[0m                                 Traceback (most recent call last)",
      "Cell \u001b[1;32mIn[71], line 1\u001b[0m\n\u001b[1;32m----> 1\u001b[0m \u001b[43mdf\u001b[49m\u001b[38;5;241;43m.\u001b[39;49m\u001b[43mshape\u001b[49m\u001b[43m(\u001b[49m\u001b[43m)\u001b[49m\n",
      "\u001b[1;31mTypeError\u001b[0m: 'tuple' object is not callable"
     ]
    }
   ],
   "source": [
    "df.shape()"
   ]
  },
  {
   "cell_type": "code",
   "execution_count": 72,
   "id": "8bd01d14-404c-4b31-85ec-062a3b825878",
   "metadata": {},
   "outputs": [
    {
     "data": {
      "text/plain": [
       "(10001, 11)"
      ]
     },
     "execution_count": 72,
     "metadata": {},
     "output_type": "execute_result"
    }
   ],
   "source": [
    "df.shape"
   ]
  },
  {
   "cell_type": "code",
   "execution_count": 73,
   "id": "cf82b130-e329-43ad-b2f5-dd7d628b4f48",
   "metadata": {},
   "outputs": [
    {
     "data": {
      "text/plain": [
       "(453, 11)"
      ]
     },
     "execution_count": 73,
     "metadata": {},
     "output_type": "execute_result"
    }
   ],
   "source": [
    "drop.shape"
   ]
  },
  {
   "cell_type": "code",
   "execution_count": 74,
   "id": "7a866343-8de2-4a39-aaa1-98f09f3a05ce",
   "metadata": {},
   "outputs": [
    {
     "name": "stdout",
     "output_type": "stream",
     "text": [
      "     CustomerId        Name  CreditScore  Country  Gender   Age  Tenure  \\\n",
      "0    15634602.0    Hargrave          619   France  Female  42.0     2.0   \n",
      "1    15634602.0    Hargrave          619   France  Female  42.0     2.0   \n",
      "2    15634602.0        Onio          502   France  Female  42.0     8.0   \n",
      "3    15634602.0        Onio          502   France  Female  42.0     8.0   \n",
      "4    15737888.0    Mitchell          850    Spain  Female  43.0     2.0   \n",
      "..          ...         ...          ...      ...     ...   ...     ...   \n",
      "448  15694860.0    Uspensky          675   France  Female  38.0     6.0   \n",
      "449  15658169.0        Cook          778    Spain  Female  47.0     6.0   \n",
      "450  15794396.0     Newbold          494  Germany  Female  38.0     7.0   \n",
      "451  15785798.0  Uchechukwu          850   France    Male  40.0     9.0   \n",
      "452  15710825.0       Ch'en          592    Spain    Male  31.0     7.0   \n",
      "\n",
      "       Balance  NumOfProducts     Salary        Date  \n",
      "0         0.00            1.0  101348.88  01-01-2023  \n",
      "1         0.00            1.0  101348.88  02-01-2023  \n",
      "2    159660.80            3.0  112542.58  03-01-2023  \n",
      "3    159660.80            3.0  112542.58  04-01-2023  \n",
      "4    125510.82            1.0   79084.10  05-01-2023  \n",
      "..         ...            ...        ...         ...  \n",
      "448   68065.80            1.0  138777.00  31-01-2025  \n",
      "449  127299.34            2.0  124694.99  31-01-2025  \n",
      "450  174937.64            1.0   40084.32  31-01-2025  \n",
      "451       0.00            2.0  119232.33  31-01-2025  \n",
      "452  110071.10            1.0   43921.36  31-01-2025  \n",
      "\n",
      "[453 rows x 11 columns]\n"
     ]
    }
   ],
   "source": [
    "print(drop)"
   ]
  },
  {
   "cell_type": "code",
   "execution_count": 76,
   "id": "87e09e62-35de-4904-9486-4b42dc798ecb",
   "metadata": {},
   "outputs": [
    {
     "name": "stdout",
     "output_type": "stream",
     "text": [
      "      CustomerId             Name  CreditScore  Country  Gender   Age  Tenure  \\\n",
      "57    15647091.0         Endrizzi          725  Germany    Male  19.0     0.0   \n",
      "746   15787619.0            Hsieh          844   France    Male  18.0     2.0   \n",
      "923   15601026.0        Gallagher          572  Germany  Female  19.0     1.0   \n",
      "1619  15770309.0         McDonald          656   France    Male  18.0    10.0   \n",
      "1678  15569178.0        Kharlamov          570   France  Female  18.0     4.0   \n",
      "2021  15795519.0         Vasiliev          716  Germany  Female  18.0     3.0   \n",
      "2136  15621893.0         Bellucci          727   France    Male  18.0     4.0   \n",
      "2141  15758372.0          Wallace          674   France    Male  18.0     7.0   \n",
      "2311  15664639.0         McGregor          645   France    Male  19.0     9.0   \n",
      "2669  15693947.0         Tokareva          614   France  Female  19.0     5.0   \n",
      "2990  15809823.0         Thurgood          491  Germany    Male  19.0     2.0   \n",
      "3095  15680243.0            Brown          792   France    Male  19.0     7.0   \n",
      "3239  15776844.0              Hao          762    Spain  Female  19.0     6.0   \n",
      "3295  15654296.0          Estrada          754    Spain  Female  19.0     9.0   \n",
      "3330  15657439.0             Chao          738   France    Male  18.0     4.0   \n",
      "3512  15657779.0           Boylan          806    Spain    Male  18.0     3.0   \n",
      "3517  15757821.0          Burgess          771    Spain    Male  18.0     1.0   \n",
      "3631  15794841.0             Kung          739    Spain    Male  19.0     5.0   \n",
      "3686  15665327.0         Cattaneo          706   France    Male  18.0     2.0   \n",
      "3999  15665062.0         Lucchese          696   France    Male  19.0     1.0   \n",
      "4218  15782418.0               Ku          589  Germany  Female  19.0     9.0   \n",
      "4330  15666652.0        Anayolisa          781   France  Female  19.0     3.0   \n",
      "4556  15796231.0          Nwankwo          681   France  Female  18.0     1.0   \n",
      "4716  15805764.0         Hallahan          646   France    Male  18.0    10.0   \n",
      "4727  15641822.0           Barese          648   France  Female  19.0     1.0   \n",
      "4770  15761506.0          Russell          615    Spain    Male  19.0     5.0   \n",
      "4792  15809991.0          Ferrari          756    Spain    Male  19.0     4.0   \n",
      "5289  15741195.0        Okechukwu          613    Spain    Male  19.0     5.0   \n",
      "5592  15670343.0               Li          576    Spain    Male  19.0     6.0   \n",
      "5647  15615245.0             Shao          660   France    Male  19.0     5.0   \n",
      "5874  15693902.0             Hunt          597   France    Male  19.0     2.0   \n",
      "6003  15579892.0            Doyle          708    Spain    Male  19.0     7.0   \n",
      "6319  15768340.0          Beavers          642  Germany  Female  19.0     3.0   \n",
      "6887  15662641.0            Amadi          850   France    Male  19.0     8.0   \n",
      "7334  15759133.0          Vaguine          616   France    Male  18.0     6.0   \n",
      "7625  15689692.0           Walker          598  Germany    Male  19.0     3.0   \n",
      "7722  15570086.0            Lynch          684  Germany    Male  18.0     9.0   \n",
      "8522  15619892.0             Page          644    Spain    Male  18.0     8.0   \n",
      "8584  15732967.0        Cremonesi          731   France    Male  19.0     6.0   \n",
      "8786  15770968.0           Leason          741  Germany  Female  19.0     8.0   \n",
      "9029  15722701.0            Bruno          594  Germany    Male  18.0     1.0   \n",
      "9331  15659305.0          Webster          605  Germany    Male  19.0     8.0   \n",
      "9501  15634146.0              Hou          835  Germany    Male  18.0     2.0   \n",
      "9520  15673180.0      Onyekaozulu          727  Germany  Female  18.0     2.0   \n",
      "9526  15665521.0  Chiazagomekpele          642  Germany    Male  18.0     5.0   \n",
      "9572  15641688.0          Collier          644    Spain    Male  18.0     7.0   \n",
      "9679  15605067.0     Nwachinemelu          472   France    Male  19.0     9.0   \n",
      "9782  15728829.0           Weigel          509   France    Male  18.0     7.0   \n",
      "9932  15813451.0  Fleetwood-Smith          677    Spain    Male  18.0     8.0   \n",
      "\n",
      "        Balance  NumOfProducts     Salary        Date  \n",
      "57     75888.20            1.0   45613.75  28-03-2023  \n",
      "746   160980.03            1.0  145936.28         NaN  \n",
      "923   138657.08            1.0   16161.82         NaN  \n",
      "1619  151762.74            1.0  127014.32         NaN  \n",
      "1678   82767.42            1.0   71811.90         NaN  \n",
      "2021  128743.80            1.0  197322.13         NaN  \n",
      "2136  133550.67            1.0   46941.41         NaN  \n",
      "2141       0.00            2.0   55753.12         NaN  \n",
      "2311  128514.84            1.0  175969.19         NaN  \n",
      "2669   97445.49            2.0  122823.34         NaN  \n",
      "2990  125860.20            1.0  129690.50         NaN  \n",
      "3095  143390.51            1.0   33282.84         NaN  \n",
      "3239       0.00            2.0   55500.17         NaN  \n",
      "3295       0.00            1.0  189641.11         NaN  \n",
      "3330       0.00            2.0   47799.15         NaN  \n",
      "3512       0.00            2.0   86994.54         NaN  \n",
      "3517       0.00            2.0   41542.95         NaN  \n",
      "3631   89750.21            1.0  193008.52         NaN  \n",
      "3686  176139.50            2.0  129654.22         NaN  \n",
      "3999  110928.51            1.0    2766.63         NaN  \n",
      "4218   83495.11            1.0  143022.31         NaN  \n",
      "4330       0.00            2.0  124297.32         NaN  \n",
      "4556   98894.39            1.0    9596.40         NaN  \n",
      "4716       0.00            2.0   52795.15         NaN  \n",
      "4727       0.00            2.0   22101.86         NaN  \n",
      "4770       0.00            2.0  159920.92         NaN  \n",
      "4792  130274.22            1.0  133535.29         NaN  \n",
      "5289       0.00            1.0  176903.35         NaN  \n",
      "5592       0.00            2.0   72306.07         NaN  \n",
      "5647  127649.64            1.0   40368.65         NaN  \n",
      "5874       0.00            2.0   91036.74         NaN  \n",
      "6003  112615.86            1.0    4491.77         NaN  \n",
      "6319  113905.48            1.0  176137.20         NaN  \n",
      "6887       0.00            1.0   68569.89         NaN  \n",
      "7334       0.00            2.0   27308.58         NaN  \n",
      "7625  150348.37            1.0  173784.04         NaN  \n",
      "7722   90544.00            1.0    4777.23         NaN  \n",
      "8522       0.00            2.0   59172.42         NaN  \n",
      "8584       0.00            2.0  151581.79         NaN  \n",
      "8786  108711.57            2.0   24857.25         NaN  \n",
      "9029  132694.73            1.0  167689.56         NaN  \n",
      "9331  166133.28            1.0  107994.99         NaN  \n",
      "9501  142872.36            1.0  117632.63         NaN  \n",
      "9520   93816.70            2.0  126172.11         NaN  \n",
      "9526  111183.53            2.0   10063.75         NaN  \n",
      "9572       0.00            1.0   59645.24         NaN  \n",
      "9679       0.00            2.0    3453.40         NaN  \n",
      "9782  102983.91            1.0  171770.58         NaN  \n",
      "9932  134796.87            2.0  114858.90         NaN  \n"
     ]
    }
   ],
   "source": [
    "filtered = df.loc[df['Age'] < 20]\n",
    "print(filtered)"
   ]
  },
  {
   "cell_type": "code",
   "execution_count": 79,
   "id": "511e1bfa-766e-41ab-ba9e-279fc2a2e956",
   "metadata": {},
   "outputs": [],
   "source": [
    "'''filtered = df.loc[df['Age'] < 20]\n",
    "print(filtered)'''\n",
    "filtered = filtered.loc[filtered['Gender'] == 'Female']"
   ]
  },
  {
   "cell_type": "code",
   "execution_count": 80,
   "id": "82744ad6-619b-44b4-9576-5655862b50d2",
   "metadata": {},
   "outputs": [
    {
     "name": "stdout",
     "output_type": "stream",
     "text": [
      "      CustomerId         Name  CreditScore  Country  Gender   Age  Tenure  \\\n",
      "923   15601026.0    Gallagher          572  Germany  Female  19.0     1.0   \n",
      "1678  15569178.0    Kharlamov          570   France  Female  18.0     4.0   \n",
      "2021  15795519.0     Vasiliev          716  Germany  Female  18.0     3.0   \n",
      "2669  15693947.0     Tokareva          614   France  Female  19.0     5.0   \n",
      "3239  15776844.0          Hao          762    Spain  Female  19.0     6.0   \n",
      "3295  15654296.0      Estrada          754    Spain  Female  19.0     9.0   \n",
      "4218  15782418.0           Ku          589  Germany  Female  19.0     9.0   \n",
      "4330  15666652.0    Anayolisa          781   France  Female  19.0     3.0   \n",
      "4556  15796231.0      Nwankwo          681   France  Female  18.0     1.0   \n",
      "4727  15641822.0       Barese          648   France  Female  19.0     1.0   \n",
      "6319  15768340.0      Beavers          642  Germany  Female  19.0     3.0   \n",
      "8786  15770968.0       Leason          741  Germany  Female  19.0     8.0   \n",
      "9520  15673180.0  Onyekaozulu          727  Germany  Female  18.0     2.0   \n",
      "\n",
      "        Balance  NumOfProducts     Salary Date  \n",
      "923   138657.08            1.0   16161.82  NaN  \n",
      "1678   82767.42            1.0   71811.90  NaN  \n",
      "2021  128743.80            1.0  197322.13  NaN  \n",
      "2669   97445.49            2.0  122823.34  NaN  \n",
      "3239       0.00            2.0   55500.17  NaN  \n",
      "3295       0.00            1.0  189641.11  NaN  \n",
      "4218   83495.11            1.0  143022.31  NaN  \n",
      "4330       0.00            2.0  124297.32  NaN  \n",
      "4556   98894.39            1.0    9596.40  NaN  \n",
      "4727       0.00            2.0   22101.86  NaN  \n",
      "6319  113905.48            1.0  176137.20  NaN  \n",
      "8786  108711.57            2.0   24857.25  NaN  \n",
      "9520   93816.70            2.0  126172.11  NaN  \n"
     ]
    }
   ],
   "source": [
    "print(filtered)"
   ]
  },
  {
   "cell_type": "code",
   "execution_count": 82,
   "id": "1f29151e-1824-460f-aecf-28d57fcf6dba",
   "metadata": {},
   "outputs": [
    {
     "name": "stdout",
     "output_type": "stream",
     "text": [
      "      CustomerId         Name  CreditScore  Country  Gender   Age  Tenure  \\\n",
      "2021  15795519.0     Vasiliev          716  Germany  Female  18.0     3.0   \n",
      "2669  15693947.0     Tokareva          614   France  Female  19.0     5.0   \n",
      "3295  15654296.0      Estrada          754    Spain  Female  19.0     9.0   \n",
      "4218  15782418.0           Ku          589  Germany  Female  19.0     9.0   \n",
      "4330  15666652.0    Anayolisa          781   France  Female  19.0     3.0   \n",
      "6319  15768340.0      Beavers          642  Germany  Female  19.0     3.0   \n",
      "9520  15673180.0  Onyekaozulu          727  Germany  Female  18.0     2.0   \n",
      "\n",
      "        Balance  NumOfProducts     Salary Date  \n",
      "2021  128743.80            1.0  197322.13  NaN  \n",
      "2669   97445.49            2.0  122823.34  NaN  \n",
      "3295       0.00            1.0  189641.11  NaN  \n",
      "4218   83495.11            1.0  143022.31  NaN  \n",
      "4330       0.00            2.0  124297.32  NaN  \n",
      "6319  113905.48            1.0  176137.20  NaN  \n",
      "9520   93816.70            2.0  126172.11  NaN  \n"
     ]
    }
   ],
   "source": [
    "filtered = filtered.loc[filtered['Salary'] > 100000]\n",
    "print(filtered)"
   ]
  },
  {
   "cell_type": "code",
   "execution_count": 91,
   "id": "a4cc8384-bbd3-4e75-875b-2a0cab80edfe",
   "metadata": {},
   "outputs": [
    {
     "data": {
      "text/html": [
       "<div>\n",
       "<style scoped>\n",
       "    .dataframe tbody tr th:only-of-type {\n",
       "        vertical-align: middle;\n",
       "    }\n",
       "\n",
       "    .dataframe tbody tr th {\n",
       "        vertical-align: top;\n",
       "    }\n",
       "\n",
       "    .dataframe thead th {\n",
       "        text-align: right;\n",
       "    }\n",
       "</style>\n",
       "<table border=\"1\" class=\"dataframe\">\n",
       "  <thead>\n",
       "    <tr style=\"text-align: right;\">\n",
       "      <th></th>\n",
       "      <th>index</th>\n",
       "    </tr>\n",
       "  </thead>\n",
       "  <tbody>\n",
       "  </tbody>\n",
       "</table>\n",
       "</div>"
      ],
      "text/plain": [
       "Empty DataFrame\n",
       "Columns: [index]\n",
       "Index: []"
      ]
     },
     "execution_count": 91,
     "metadata": {},
     "output_type": "execute_result"
    }
   ],
   "source": [
    "filtered.reset_index()"
   ]
  },
  {
   "cell_type": "raw",
   "id": "d649b64b-81ec-4ab6-be2f-c39cbe237018",
   "metadata": {},
   "source": [
    "index_iloc = filtered.iloc[0:3,4:6]"
   ]
  },
  {
   "cell_type": "code",
   "execution_count": 85,
   "id": "8fde0ed9-bbd6-49ba-b272-3608a43ffcb9",
   "metadata": {},
   "outputs": [
    {
     "name": "stdout",
     "output_type": "stream",
     "text": [
      "      Gender   Age\n",
      "2021  Female  18.0\n",
      "2669  Female  19.0\n",
      "3295  Female  19.0\n"
     ]
    }
   ],
   "source": [
    "print(index_iloc)"
   ]
  },
  {
   "cell_type": "code",
   "execution_count": 87,
   "id": "c10d7c01-4bb5-45a0-80b1-b1216a4d25de",
   "metadata": {},
   "outputs": [
    {
     "name": "stdout",
     "output_type": "stream",
     "text": [
      "           Name\n",
      "4330  Anayolisa\n"
     ]
    }
   ],
   "source": [
    "index_iloc = filtered.iloc[4:5, 1:2]\n",
    "print(index_iloc)"
   ]
  },
  {
   "cell_type": "code",
   "execution_count": 90,
   "id": "54b1bc15-be9e-47b5-bf0b-e04ad22b40f1",
   "metadata": {},
   "outputs": [
    {
     "name": "stdout",
     "output_type": "stream",
     "text": [
      "Empty DataFrame\n",
      "Columns: []\n",
      "Index: []\n"
     ]
    }
   ],
   "source": [
    "filtered = filtered.iloc[2:3, 1:2]\n",
    "print(filtered)"
   ]
  },
  {
   "cell_type": "code",
   "execution_count": 92,
   "id": "2c9d528a-d10b-491c-a2bf-ba0d6731203f",
   "metadata": {},
   "outputs": [
    {
     "name": "stdout",
     "output_type": "stream",
     "text": [
      "Empty DataFrame\n",
      "Columns: []\n",
      "Index: []\n"
     ]
    }
   ],
   "source": [
    "print(filtered)"
   ]
  },
  {
   "cell_type": "code",
   "execution_count": 93,
   "id": "c32041e6-ff73-4d99-8f78-9c6b67fdfbc9",
   "metadata": {},
   "outputs": [
    {
     "name": "stdout",
     "output_type": "stream",
     "text": [
      "       CustomerId       Name  CreditScore  Country  Gender   Age  Tenure  \\\n",
      "0      15634602.0   Hargrave          619   France  Female  42.0     2.0   \n",
      "1      15634602.0   Hargrave          619   France  Female  42.0     2.0   \n",
      "2      15634602.0       Onio          502   France  Female  42.0     8.0   \n",
      "3      15634602.0       Onio          502   France  Female  42.0     8.0   \n",
      "4      15737888.0   Mitchell          850    Spain  Female  43.0     2.0   \n",
      "...           ...        ...          ...      ...     ...   ...     ...   \n",
      "9996   15569892.0  Johnstone          516   France    Male  35.0    10.0   \n",
      "9997   15569892.0  Johnstone          516   France    Male  35.0    10.0   \n",
      "9998   15682355.0  Sabbatini          772  Germany    Male  42.0     3.0   \n",
      "9999   15628319.0     Walker          792   France  Female  28.0     4.0   \n",
      "10000         NaN        NaN      6505288      NaN     NaN   NaN     NaN   \n",
      "\n",
      "         Balance  NumOfProducts         Salary        Date  \n",
      "0           0.00            1.0  101348.880000  01-01-2023  \n",
      "1           0.00            1.0  101348.880000  02-01-2023  \n",
      "2      159660.80            3.0  112542.580000  03-01-2023  \n",
      "3      159660.80            3.0  112542.580000  04-01-2023  \n",
      "4      125510.82            1.0   79084.100000  05-01-2023  \n",
      "...          ...            ...            ...         ...  \n",
      "9996    57369.61            1.0  101699.770000         NaN  \n",
      "9997    57369.61            1.0  101699.770000         NaN  \n",
      "9998    75075.31            2.0   92888.520000         NaN  \n",
      "9999   130142.79            1.0   38190.780000         NaN  \n",
      "10000        NaN            NaN  100133.102721         NaN  \n",
      "\n",
      "[10001 rows x 11 columns]\n"
     ]
    }
   ],
   "source": [
    "print(df)"
   ]
  },
  {
   "cell_type": "code",
   "execution_count": 94,
   "id": "3135c786-0769-49af-ba3a-f22754659450",
   "metadata": {},
   "outputs": [
    {
     "name": "stdout",
     "output_type": "stream",
     "text": [
      "      CustomerId      Name  CreditScore  Country  Gender   Age  Tenure  \\\n",
      "0     15634602.0  Hargrave          619   France  Female  42.0     2.0   \n",
      "1     15634602.0  Hargrave          619   France  Female  42.0     2.0   \n",
      "2     15634602.0      Onio          502   France  Female  42.0     8.0   \n",
      "3     15634602.0      Onio          502   France  Female  42.0     8.0   \n",
      "7     15574012.0  Bartlett          376  Germany  Female  29.0     4.0   \n",
      "...          ...       ...          ...      ...     ...   ...     ...   \n",
      "9960  15681026.0  Lucciano          795  Germany  Female  33.0     9.0   \n",
      "9965  15690164.0      Shao          627  Germany  Female  33.0     4.0   \n",
      "9971  15721377.0      Chou          833   France  Female  34.0     3.0   \n",
      "9982  15768163.0   Griffin          655  Germany  Female  46.0     7.0   \n",
      "9994  15719294.0      Wood          800   France  Female  29.0     2.0   \n",
      "\n",
      "        Balance  NumOfProducts     Salary        Date  \n",
      "0          0.00            1.0  101348.88  01-01-2023  \n",
      "1          0.00            1.0  101348.88  02-01-2023  \n",
      "2     159660.80            3.0  112542.58  03-01-2023  \n",
      "3     159660.80            3.0  112542.58  04-01-2023  \n",
      "7     115046.74            4.0  119346.88  08-01-2023  \n",
      "...         ...            ...        ...         ...  \n",
      "9960  104552.72            1.0  120853.83         NaN  \n",
      "9965   83199.05            1.0  159334.93         NaN  \n",
      "9971  144751.81            1.0  166472.81         NaN  \n",
      "9982  137145.12            1.0  115146.40         NaN  \n",
      "9994       0.00            2.0  167773.55         NaN  \n",
      "\n",
      "[2322 rows x 11 columns]\n"
     ]
    }
   ],
   "source": [
    "fil_query = df.query(\"Salary > 100000 & Gender == 'Female'\")\n",
    "print(fil_query)"
   ]
  },
  {
   "cell_type": "code",
   "execution_count": 95,
   "id": "ccf35dfe-4aad-4719-9118-af91739ed10c",
   "metadata": {},
   "outputs": [
    {
     "data": {
      "text/html": [
       "<div>\n",
       "<style scoped>\n",
       "    .dataframe tbody tr th:only-of-type {\n",
       "        vertical-align: middle;\n",
       "    }\n",
       "\n",
       "    .dataframe tbody tr th {\n",
       "        vertical-align: top;\n",
       "    }\n",
       "\n",
       "    .dataframe thead th {\n",
       "        text-align: right;\n",
       "    }\n",
       "</style>\n",
       "<table border=\"1\" class=\"dataframe\">\n",
       "  <thead>\n",
       "    <tr style=\"text-align: right;\">\n",
       "      <th></th>\n",
       "      <th>CustomerId</th>\n",
       "      <th>Name</th>\n",
       "      <th>CreditScore</th>\n",
       "      <th>Country</th>\n",
       "      <th>Gender</th>\n",
       "      <th>Age</th>\n",
       "      <th>Tenure</th>\n",
       "      <th>Balance</th>\n",
       "      <th>NumOfProducts</th>\n",
       "      <th>Salary</th>\n",
       "      <th>Date</th>\n",
       "    </tr>\n",
       "  </thead>\n",
       "  <tbody>\n",
       "    <tr>\n",
       "      <th>0</th>\n",
       "      <td>15634602.0</td>\n",
       "      <td>Hargrave</td>\n",
       "      <td>619</td>\n",
       "      <td>France</td>\n",
       "      <td>Female</td>\n",
       "      <td>42.0</td>\n",
       "      <td>2.0</td>\n",
       "      <td>0.00</td>\n",
       "      <td>1.0</td>\n",
       "      <td>101348.88</td>\n",
       "      <td>01-01-2023</td>\n",
       "    </tr>\n",
       "    <tr>\n",
       "      <th>1</th>\n",
       "      <td>15634602.0</td>\n",
       "      <td>Hargrave</td>\n",
       "      <td>619</td>\n",
       "      <td>France</td>\n",
       "      <td>Female</td>\n",
       "      <td>42.0</td>\n",
       "      <td>2.0</td>\n",
       "      <td>0.00</td>\n",
       "      <td>1.0</td>\n",
       "      <td>101348.88</td>\n",
       "      <td>02-01-2023</td>\n",
       "    </tr>\n",
       "    <tr>\n",
       "      <th>2</th>\n",
       "      <td>15634602.0</td>\n",
       "      <td>Onio</td>\n",
       "      <td>502</td>\n",
       "      <td>France</td>\n",
       "      <td>Female</td>\n",
       "      <td>42.0</td>\n",
       "      <td>8.0</td>\n",
       "      <td>159660.80</td>\n",
       "      <td>3.0</td>\n",
       "      <td>112542.58</td>\n",
       "      <td>03-01-2023</td>\n",
       "    </tr>\n",
       "    <tr>\n",
       "      <th>3</th>\n",
       "      <td>15634602.0</td>\n",
       "      <td>Onio</td>\n",
       "      <td>502</td>\n",
       "      <td>France</td>\n",
       "      <td>Female</td>\n",
       "      <td>42.0</td>\n",
       "      <td>8.0</td>\n",
       "      <td>159660.80</td>\n",
       "      <td>3.0</td>\n",
       "      <td>112542.58</td>\n",
       "      <td>04-01-2023</td>\n",
       "    </tr>\n",
       "    <tr>\n",
       "      <th>7</th>\n",
       "      <td>15574012.0</td>\n",
       "      <td>Bartlett</td>\n",
       "      <td>376</td>\n",
       "      <td>Germany</td>\n",
       "      <td>Female</td>\n",
       "      <td>29.0</td>\n",
       "      <td>4.0</td>\n",
       "      <td>115046.74</td>\n",
       "      <td>4.0</td>\n",
       "      <td>119346.88</td>\n",
       "      <td>08-01-2023</td>\n",
       "    </tr>\n",
       "    <tr>\n",
       "      <th>...</th>\n",
       "      <td>...</td>\n",
       "      <td>...</td>\n",
       "      <td>...</td>\n",
       "      <td>...</td>\n",
       "      <td>...</td>\n",
       "      <td>...</td>\n",
       "      <td>...</td>\n",
       "      <td>...</td>\n",
       "      <td>...</td>\n",
       "      <td>...</td>\n",
       "      <td>...</td>\n",
       "    </tr>\n",
       "    <tr>\n",
       "      <th>436</th>\n",
       "      <td>15693737.0</td>\n",
       "      <td>Carr</td>\n",
       "      <td>627</td>\n",
       "      <td>Germany</td>\n",
       "      <td>Female</td>\n",
       "      <td>30.0</td>\n",
       "      <td>4.0</td>\n",
       "      <td>79871.02</td>\n",
       "      <td>2.0</td>\n",
       "      <td>129826.89</td>\n",
       "      <td>31-01-2025</td>\n",
       "    </tr>\n",
       "    <tr>\n",
       "      <th>439</th>\n",
       "      <td>15690134.0</td>\n",
       "      <td>Hughes</td>\n",
       "      <td>464</td>\n",
       "      <td>Germany</td>\n",
       "      <td>Female</td>\n",
       "      <td>42.0</td>\n",
       "      <td>3.0</td>\n",
       "      <td>85679.25</td>\n",
       "      <td>1.0</td>\n",
       "      <td>164104.74</td>\n",
       "      <td>31-01-2025</td>\n",
       "    </tr>\n",
       "    <tr>\n",
       "      <th>445</th>\n",
       "      <td>15803406.0</td>\n",
       "      <td>Ross</td>\n",
       "      <td>748</td>\n",
       "      <td>France</td>\n",
       "      <td>Female</td>\n",
       "      <td>26.0</td>\n",
       "      <td>1.0</td>\n",
       "      <td>77780.29</td>\n",
       "      <td>1.0</td>\n",
       "      <td>183049.41</td>\n",
       "      <td>31-01-2025</td>\n",
       "    </tr>\n",
       "    <tr>\n",
       "      <th>448</th>\n",
       "      <td>15694860.0</td>\n",
       "      <td>Uspensky</td>\n",
       "      <td>675</td>\n",
       "      <td>France</td>\n",
       "      <td>Female</td>\n",
       "      <td>38.0</td>\n",
       "      <td>6.0</td>\n",
       "      <td>68065.80</td>\n",
       "      <td>1.0</td>\n",
       "      <td>138777.00</td>\n",
       "      <td>31-01-2025</td>\n",
       "    </tr>\n",
       "    <tr>\n",
       "      <th>449</th>\n",
       "      <td>15658169.0</td>\n",
       "      <td>Cook</td>\n",
       "      <td>778</td>\n",
       "      <td>Spain</td>\n",
       "      <td>Female</td>\n",
       "      <td>47.0</td>\n",
       "      <td>6.0</td>\n",
       "      <td>127299.34</td>\n",
       "      <td>2.0</td>\n",
       "      <td>124694.99</td>\n",
       "      <td>31-01-2025</td>\n",
       "    </tr>\n",
       "  </tbody>\n",
       "</table>\n",
       "<p>116 rows × 11 columns</p>\n",
       "</div>"
      ],
      "text/plain": [
       "     CustomerId      Name  CreditScore  Country  Gender   Age  Tenure  \\\n",
       "0    15634602.0  Hargrave          619   France  Female  42.0     2.0   \n",
       "1    15634602.0  Hargrave          619   France  Female  42.0     2.0   \n",
       "2    15634602.0      Onio          502   France  Female  42.0     8.0   \n",
       "3    15634602.0      Onio          502   France  Female  42.0     8.0   \n",
       "7    15574012.0  Bartlett          376  Germany  Female  29.0     4.0   \n",
       "..          ...       ...          ...      ...     ...   ...     ...   \n",
       "436  15693737.0      Carr          627  Germany  Female  30.0     4.0   \n",
       "439  15690134.0    Hughes          464  Germany  Female  42.0     3.0   \n",
       "445  15803406.0      Ross          748   France  Female  26.0     1.0   \n",
       "448  15694860.0  Uspensky          675   France  Female  38.0     6.0   \n",
       "449  15658169.0      Cook          778    Spain  Female  47.0     6.0   \n",
       "\n",
       "       Balance  NumOfProducts     Salary        Date  \n",
       "0         0.00            1.0  101348.88  01-01-2023  \n",
       "1         0.00            1.0  101348.88  02-01-2023  \n",
       "2    159660.80            3.0  112542.58  03-01-2023  \n",
       "3    159660.80            3.0  112542.58  04-01-2023  \n",
       "7    115046.74            4.0  119346.88  08-01-2023  \n",
       "..         ...            ...        ...         ...  \n",
       "436   79871.02            2.0  129826.89  31-01-2025  \n",
       "439   85679.25            1.0  164104.74  31-01-2025  \n",
       "445   77780.29            1.0  183049.41  31-01-2025  \n",
       "448   68065.80            1.0  138777.00  31-01-2025  \n",
       "449  127299.34            2.0  124694.99  31-01-2025  \n",
       "\n",
       "[116 rows x 11 columns]"
      ]
     },
     "execution_count": 95,
     "metadata": {},
     "output_type": "execute_result"
    }
   ],
   "source": [
    "fil_query.dropna()"
   ]
  },
  {
   "cell_type": "code",
   "execution_count": 96,
   "id": "75624632-f287-4f99-9f40-6b4867dfc0c6",
   "metadata": {},
   "outputs": [
    {
     "name": "stdout",
     "output_type": "stream",
     "text": [
      "      CustomerId      Name  CreditScore  Country  Gender   Age  Tenure  \\\n",
      "43    15755196.0    Lavine          834   France  Female  49.0     2.0   \n",
      "44    15684171.0   Bianchi          660    Spain  Female  61.0     5.0   \n",
      "45    15754849.0     Tyler          776  Germany  Female  32.0     4.0   \n",
      "46    15602280.0    Martin          829  Germany  Female  27.0     9.0   \n",
      "47    15771573.0   Okagbue          637  Germany  Female  39.0     9.0   \n",
      "...          ...       ...          ...      ...     ...   ...     ...   \n",
      "9942  15683007.0    Torode          739  Germany  Female  25.0     5.0   \n",
      "9960  15681026.0  Lucciano          795  Germany  Female  33.0     9.0   \n",
      "9965  15690164.0      Shao          627  Germany  Female  33.0     4.0   \n",
      "9971  15721377.0      Chou          833   France  Female  34.0     3.0   \n",
      "9982  15768163.0   Griffin          655  Germany  Female  46.0     7.0   \n",
      "\n",
      "        Balance  NumOfProducts     Salary        Date  \n",
      "43    131394.56            1.0  194365.76  14-03-2023  \n",
      "44    155931.11            1.0  158338.39  15-03-2023  \n",
      "45    109421.13            2.0  126517.46  16-03-2023  \n",
      "46    112045.67            1.0  119708.21  17-03-2023  \n",
      "47    137843.80            1.0  117622.80  18-03-2023  \n",
      "...         ...            ...        ...         ...  \n",
      "9942  113113.12            1.0  129181.27         NaN  \n",
      "9960  104552.72            1.0  120853.83         NaN  \n",
      "9965   83199.05            1.0  159334.93         NaN  \n",
      "9971  144751.81            1.0  166472.81         NaN  \n",
      "9982  137145.12            1.0  115146.40         NaN  \n",
      "\n",
      "[1005 rows x 11 columns]\n"
     ]
    }
   ],
   "source": [
    "fil_query = fil_query.query(\"Balance > 60000 & CreditScore > 600\")\n",
    "print(fil_query)"
   ]
  },
  {
   "cell_type": "code",
   "execution_count": 97,
   "id": "30ca5140-315a-4d54-bc04-51282778a703",
   "metadata": {},
   "outputs": [
    {
     "data": {
      "text/html": [
       "<div>\n",
       "<style scoped>\n",
       "    .dataframe tbody tr th:only-of-type {\n",
       "        vertical-align: middle;\n",
       "    }\n",
       "\n",
       "    .dataframe tbody tr th {\n",
       "        vertical-align: top;\n",
       "    }\n",
       "\n",
       "    .dataframe thead th {\n",
       "        text-align: right;\n",
       "    }\n",
       "</style>\n",
       "<table border=\"1\" class=\"dataframe\">\n",
       "  <thead>\n",
       "    <tr style=\"text-align: right;\">\n",
       "      <th></th>\n",
       "      <th>index</th>\n",
       "      <th>CustomerId</th>\n",
       "      <th>Name</th>\n",
       "      <th>CreditScore</th>\n",
       "      <th>Country</th>\n",
       "      <th>Gender</th>\n",
       "      <th>Age</th>\n",
       "      <th>Tenure</th>\n",
       "      <th>Balance</th>\n",
       "      <th>NumOfProducts</th>\n",
       "      <th>Salary</th>\n",
       "      <th>Date</th>\n",
       "    </tr>\n",
       "  </thead>\n",
       "  <tbody>\n",
       "    <tr>\n",
       "      <th>0</th>\n",
       "      <td>0</td>\n",
       "      <td>15634602.0</td>\n",
       "      <td>Hargrave</td>\n",
       "      <td>619</td>\n",
       "      <td>France</td>\n",
       "      <td>Female</td>\n",
       "      <td>42.0</td>\n",
       "      <td>2.0</td>\n",
       "      <td>0.00</td>\n",
       "      <td>1.0</td>\n",
       "      <td>101348.880000</td>\n",
       "      <td>01-01-2023</td>\n",
       "    </tr>\n",
       "    <tr>\n",
       "      <th>1</th>\n",
       "      <td>1</td>\n",
       "      <td>15634602.0</td>\n",
       "      <td>Hargrave</td>\n",
       "      <td>619</td>\n",
       "      <td>France</td>\n",
       "      <td>Female</td>\n",
       "      <td>42.0</td>\n",
       "      <td>2.0</td>\n",
       "      <td>0.00</td>\n",
       "      <td>1.0</td>\n",
       "      <td>101348.880000</td>\n",
       "      <td>02-01-2023</td>\n",
       "    </tr>\n",
       "    <tr>\n",
       "      <th>2</th>\n",
       "      <td>2</td>\n",
       "      <td>15634602.0</td>\n",
       "      <td>Onio</td>\n",
       "      <td>502</td>\n",
       "      <td>France</td>\n",
       "      <td>Female</td>\n",
       "      <td>42.0</td>\n",
       "      <td>8.0</td>\n",
       "      <td>159660.80</td>\n",
       "      <td>3.0</td>\n",
       "      <td>112542.580000</td>\n",
       "      <td>03-01-2023</td>\n",
       "    </tr>\n",
       "    <tr>\n",
       "      <th>3</th>\n",
       "      <td>3</td>\n",
       "      <td>15634602.0</td>\n",
       "      <td>Onio</td>\n",
       "      <td>502</td>\n",
       "      <td>France</td>\n",
       "      <td>Female</td>\n",
       "      <td>42.0</td>\n",
       "      <td>8.0</td>\n",
       "      <td>159660.80</td>\n",
       "      <td>3.0</td>\n",
       "      <td>112542.580000</td>\n",
       "      <td>04-01-2023</td>\n",
       "    </tr>\n",
       "    <tr>\n",
       "      <th>4</th>\n",
       "      <td>4</td>\n",
       "      <td>15737888.0</td>\n",
       "      <td>Mitchell</td>\n",
       "      <td>850</td>\n",
       "      <td>Spain</td>\n",
       "      <td>Female</td>\n",
       "      <td>43.0</td>\n",
       "      <td>2.0</td>\n",
       "      <td>125510.82</td>\n",
       "      <td>1.0</td>\n",
       "      <td>79084.100000</td>\n",
       "      <td>05-01-2023</td>\n",
       "    </tr>\n",
       "    <tr>\n",
       "      <th>...</th>\n",
       "      <td>...</td>\n",
       "      <td>...</td>\n",
       "      <td>...</td>\n",
       "      <td>...</td>\n",
       "      <td>...</td>\n",
       "      <td>...</td>\n",
       "      <td>...</td>\n",
       "      <td>...</td>\n",
       "      <td>...</td>\n",
       "      <td>...</td>\n",
       "      <td>...</td>\n",
       "      <td>...</td>\n",
       "    </tr>\n",
       "    <tr>\n",
       "      <th>9996</th>\n",
       "      <td>9996</td>\n",
       "      <td>15569892.0</td>\n",
       "      <td>Johnstone</td>\n",
       "      <td>516</td>\n",
       "      <td>France</td>\n",
       "      <td>Male</td>\n",
       "      <td>35.0</td>\n",
       "      <td>10.0</td>\n",
       "      <td>57369.61</td>\n",
       "      <td>1.0</td>\n",
       "      <td>101699.770000</td>\n",
       "      <td>NaN</td>\n",
       "    </tr>\n",
       "    <tr>\n",
       "      <th>9997</th>\n",
       "      <td>9997</td>\n",
       "      <td>15569892.0</td>\n",
       "      <td>Johnstone</td>\n",
       "      <td>516</td>\n",
       "      <td>France</td>\n",
       "      <td>Male</td>\n",
       "      <td>35.0</td>\n",
       "      <td>10.0</td>\n",
       "      <td>57369.61</td>\n",
       "      <td>1.0</td>\n",
       "      <td>101699.770000</td>\n",
       "      <td>NaN</td>\n",
       "    </tr>\n",
       "    <tr>\n",
       "      <th>9998</th>\n",
       "      <td>9998</td>\n",
       "      <td>15682355.0</td>\n",
       "      <td>Sabbatini</td>\n",
       "      <td>772</td>\n",
       "      <td>Germany</td>\n",
       "      <td>Male</td>\n",
       "      <td>42.0</td>\n",
       "      <td>3.0</td>\n",
       "      <td>75075.31</td>\n",
       "      <td>2.0</td>\n",
       "      <td>92888.520000</td>\n",
       "      <td>NaN</td>\n",
       "    </tr>\n",
       "    <tr>\n",
       "      <th>9999</th>\n",
       "      <td>9999</td>\n",
       "      <td>15628319.0</td>\n",
       "      <td>Walker</td>\n",
       "      <td>792</td>\n",
       "      <td>France</td>\n",
       "      <td>Female</td>\n",
       "      <td>28.0</td>\n",
       "      <td>4.0</td>\n",
       "      <td>130142.79</td>\n",
       "      <td>1.0</td>\n",
       "      <td>38190.780000</td>\n",
       "      <td>NaN</td>\n",
       "    </tr>\n",
       "    <tr>\n",
       "      <th>10000</th>\n",
       "      <td>10000</td>\n",
       "      <td>NaN</td>\n",
       "      <td>NaN</td>\n",
       "      <td>6505288</td>\n",
       "      <td>NaN</td>\n",
       "      <td>NaN</td>\n",
       "      <td>NaN</td>\n",
       "      <td>NaN</td>\n",
       "      <td>NaN</td>\n",
       "      <td>NaN</td>\n",
       "      <td>100133.102721</td>\n",
       "      <td>NaN</td>\n",
       "    </tr>\n",
       "  </tbody>\n",
       "</table>\n",
       "<p>10001 rows × 12 columns</p>\n",
       "</div>"
      ],
      "text/plain": [
       "       index  CustomerId       Name  CreditScore  Country  Gender   Age  \\\n",
       "0          0  15634602.0   Hargrave          619   France  Female  42.0   \n",
       "1          1  15634602.0   Hargrave          619   France  Female  42.0   \n",
       "2          2  15634602.0       Onio          502   France  Female  42.0   \n",
       "3          3  15634602.0       Onio          502   France  Female  42.0   \n",
       "4          4  15737888.0   Mitchell          850    Spain  Female  43.0   \n",
       "...      ...         ...        ...          ...      ...     ...   ...   \n",
       "9996    9996  15569892.0  Johnstone          516   France    Male  35.0   \n",
       "9997    9997  15569892.0  Johnstone          516   France    Male  35.0   \n",
       "9998    9998  15682355.0  Sabbatini          772  Germany    Male  42.0   \n",
       "9999    9999  15628319.0     Walker          792   France  Female  28.0   \n",
       "10000  10000         NaN        NaN      6505288      NaN     NaN   NaN   \n",
       "\n",
       "       Tenure    Balance  NumOfProducts         Salary        Date  \n",
       "0         2.0       0.00            1.0  101348.880000  01-01-2023  \n",
       "1         2.0       0.00            1.0  101348.880000  02-01-2023  \n",
       "2         8.0  159660.80            3.0  112542.580000  03-01-2023  \n",
       "3         8.0  159660.80            3.0  112542.580000  04-01-2023  \n",
       "4         2.0  125510.82            1.0   79084.100000  05-01-2023  \n",
       "...       ...        ...            ...            ...         ...  \n",
       "9996     10.0   57369.61            1.0  101699.770000         NaN  \n",
       "9997     10.0   57369.61            1.0  101699.770000         NaN  \n",
       "9998      3.0   75075.31            2.0   92888.520000         NaN  \n",
       "9999      4.0  130142.79            1.0   38190.780000         NaN  \n",
       "10000     NaN        NaN            NaN  100133.102721         NaN  \n",
       "\n",
       "[10001 rows x 12 columns]"
      ]
     },
     "execution_count": 97,
     "metadata": {},
     "output_type": "execute_result"
    }
   ],
   "source": [
    "df.reset_index()"
   ]
  },
  {
   "cell_type": "code",
   "execution_count": 98,
   "id": "89230fb9-c229-4d8b-a455-affd18c603dd",
   "metadata": {},
   "outputs": [
    {
     "data": {
      "text/html": [
       "<div>\n",
       "<style scoped>\n",
       "    .dataframe tbody tr th:only-of-type {\n",
       "        vertical-align: middle;\n",
       "    }\n",
       "\n",
       "    .dataframe tbody tr th {\n",
       "        vertical-align: top;\n",
       "    }\n",
       "\n",
       "    .dataframe thead th {\n",
       "        text-align: right;\n",
       "    }\n",
       "</style>\n",
       "<table border=\"1\" class=\"dataframe\">\n",
       "  <thead>\n",
       "    <tr style=\"text-align: right;\">\n",
       "      <th></th>\n",
       "      <th>index</th>\n",
       "      <th>CustomerId</th>\n",
       "      <th>Name</th>\n",
       "      <th>CreditScore</th>\n",
       "      <th>Country</th>\n",
       "      <th>Gender</th>\n",
       "      <th>Age</th>\n",
       "      <th>Tenure</th>\n",
       "      <th>Balance</th>\n",
       "      <th>NumOfProducts</th>\n",
       "      <th>Salary</th>\n",
       "      <th>Date</th>\n",
       "    </tr>\n",
       "  </thead>\n",
       "  <tbody>\n",
       "    <tr>\n",
       "      <th>0</th>\n",
       "      <td>43</td>\n",
       "      <td>15755196.0</td>\n",
       "      <td>Lavine</td>\n",
       "      <td>834</td>\n",
       "      <td>France</td>\n",
       "      <td>Female</td>\n",
       "      <td>49.0</td>\n",
       "      <td>2.0</td>\n",
       "      <td>131394.56</td>\n",
       "      <td>1.0</td>\n",
       "      <td>194365.76</td>\n",
       "      <td>14-03-2023</td>\n",
       "    </tr>\n",
       "    <tr>\n",
       "      <th>1</th>\n",
       "      <td>44</td>\n",
       "      <td>15684171.0</td>\n",
       "      <td>Bianchi</td>\n",
       "      <td>660</td>\n",
       "      <td>Spain</td>\n",
       "      <td>Female</td>\n",
       "      <td>61.0</td>\n",
       "      <td>5.0</td>\n",
       "      <td>155931.11</td>\n",
       "      <td>1.0</td>\n",
       "      <td>158338.39</td>\n",
       "      <td>15-03-2023</td>\n",
       "    </tr>\n",
       "    <tr>\n",
       "      <th>2</th>\n",
       "      <td>45</td>\n",
       "      <td>15754849.0</td>\n",
       "      <td>Tyler</td>\n",
       "      <td>776</td>\n",
       "      <td>Germany</td>\n",
       "      <td>Female</td>\n",
       "      <td>32.0</td>\n",
       "      <td>4.0</td>\n",
       "      <td>109421.13</td>\n",
       "      <td>2.0</td>\n",
       "      <td>126517.46</td>\n",
       "      <td>16-03-2023</td>\n",
       "    </tr>\n",
       "    <tr>\n",
       "      <th>3</th>\n",
       "      <td>46</td>\n",
       "      <td>15602280.0</td>\n",
       "      <td>Martin</td>\n",
       "      <td>829</td>\n",
       "      <td>Germany</td>\n",
       "      <td>Female</td>\n",
       "      <td>27.0</td>\n",
       "      <td>9.0</td>\n",
       "      <td>112045.67</td>\n",
       "      <td>1.0</td>\n",
       "      <td>119708.21</td>\n",
       "      <td>17-03-2023</td>\n",
       "    </tr>\n",
       "    <tr>\n",
       "      <th>4</th>\n",
       "      <td>47</td>\n",
       "      <td>15771573.0</td>\n",
       "      <td>Okagbue</td>\n",
       "      <td>637</td>\n",
       "      <td>Germany</td>\n",
       "      <td>Female</td>\n",
       "      <td>39.0</td>\n",
       "      <td>9.0</td>\n",
       "      <td>137843.80</td>\n",
       "      <td>1.0</td>\n",
       "      <td>117622.80</td>\n",
       "      <td>18-03-2023</td>\n",
       "    </tr>\n",
       "    <tr>\n",
       "      <th>...</th>\n",
       "      <td>...</td>\n",
       "      <td>...</td>\n",
       "      <td>...</td>\n",
       "      <td>...</td>\n",
       "      <td>...</td>\n",
       "      <td>...</td>\n",
       "      <td>...</td>\n",
       "      <td>...</td>\n",
       "      <td>...</td>\n",
       "      <td>...</td>\n",
       "      <td>...</td>\n",
       "      <td>...</td>\n",
       "    </tr>\n",
       "    <tr>\n",
       "      <th>1000</th>\n",
       "      <td>9942</td>\n",
       "      <td>15683007.0</td>\n",
       "      <td>Torode</td>\n",
       "      <td>739</td>\n",
       "      <td>Germany</td>\n",
       "      <td>Female</td>\n",
       "      <td>25.0</td>\n",
       "      <td>5.0</td>\n",
       "      <td>113113.12</td>\n",
       "      <td>1.0</td>\n",
       "      <td>129181.27</td>\n",
       "      <td>NaN</td>\n",
       "    </tr>\n",
       "    <tr>\n",
       "      <th>1001</th>\n",
       "      <td>9960</td>\n",
       "      <td>15681026.0</td>\n",
       "      <td>Lucciano</td>\n",
       "      <td>795</td>\n",
       "      <td>Germany</td>\n",
       "      <td>Female</td>\n",
       "      <td>33.0</td>\n",
       "      <td>9.0</td>\n",
       "      <td>104552.72</td>\n",
       "      <td>1.0</td>\n",
       "      <td>120853.83</td>\n",
       "      <td>NaN</td>\n",
       "    </tr>\n",
       "    <tr>\n",
       "      <th>1002</th>\n",
       "      <td>9965</td>\n",
       "      <td>15690164.0</td>\n",
       "      <td>Shao</td>\n",
       "      <td>627</td>\n",
       "      <td>Germany</td>\n",
       "      <td>Female</td>\n",
       "      <td>33.0</td>\n",
       "      <td>4.0</td>\n",
       "      <td>83199.05</td>\n",
       "      <td>1.0</td>\n",
       "      <td>159334.93</td>\n",
       "      <td>NaN</td>\n",
       "    </tr>\n",
       "    <tr>\n",
       "      <th>1003</th>\n",
       "      <td>9971</td>\n",
       "      <td>15721377.0</td>\n",
       "      <td>Chou</td>\n",
       "      <td>833</td>\n",
       "      <td>France</td>\n",
       "      <td>Female</td>\n",
       "      <td>34.0</td>\n",
       "      <td>3.0</td>\n",
       "      <td>144751.81</td>\n",
       "      <td>1.0</td>\n",
       "      <td>166472.81</td>\n",
       "      <td>NaN</td>\n",
       "    </tr>\n",
       "    <tr>\n",
       "      <th>1004</th>\n",
       "      <td>9982</td>\n",
       "      <td>15768163.0</td>\n",
       "      <td>Griffin</td>\n",
       "      <td>655</td>\n",
       "      <td>Germany</td>\n",
       "      <td>Female</td>\n",
       "      <td>46.0</td>\n",
       "      <td>7.0</td>\n",
       "      <td>137145.12</td>\n",
       "      <td>1.0</td>\n",
       "      <td>115146.40</td>\n",
       "      <td>NaN</td>\n",
       "    </tr>\n",
       "  </tbody>\n",
       "</table>\n",
       "<p>1005 rows × 12 columns</p>\n",
       "</div>"
      ],
      "text/plain": [
       "      index  CustomerId      Name  CreditScore  Country  Gender   Age  Tenure  \\\n",
       "0        43  15755196.0    Lavine          834   France  Female  49.0     2.0   \n",
       "1        44  15684171.0   Bianchi          660    Spain  Female  61.0     5.0   \n",
       "2        45  15754849.0     Tyler          776  Germany  Female  32.0     4.0   \n",
       "3        46  15602280.0    Martin          829  Germany  Female  27.0     9.0   \n",
       "4        47  15771573.0   Okagbue          637  Germany  Female  39.0     9.0   \n",
       "...     ...         ...       ...          ...      ...     ...   ...     ...   \n",
       "1000   9942  15683007.0    Torode          739  Germany  Female  25.0     5.0   \n",
       "1001   9960  15681026.0  Lucciano          795  Germany  Female  33.0     9.0   \n",
       "1002   9965  15690164.0      Shao          627  Germany  Female  33.0     4.0   \n",
       "1003   9971  15721377.0      Chou          833   France  Female  34.0     3.0   \n",
       "1004   9982  15768163.0   Griffin          655  Germany  Female  46.0     7.0   \n",
       "\n",
       "        Balance  NumOfProducts     Salary        Date  \n",
       "0     131394.56            1.0  194365.76  14-03-2023  \n",
       "1     155931.11            1.0  158338.39  15-03-2023  \n",
       "2     109421.13            2.0  126517.46  16-03-2023  \n",
       "3     112045.67            1.0  119708.21  17-03-2023  \n",
       "4     137843.80            1.0  117622.80  18-03-2023  \n",
       "...         ...            ...        ...         ...  \n",
       "1000  113113.12            1.0  129181.27         NaN  \n",
       "1001  104552.72            1.0  120853.83         NaN  \n",
       "1002   83199.05            1.0  159334.93         NaN  \n",
       "1003  144751.81            1.0  166472.81         NaN  \n",
       "1004  137145.12            1.0  115146.40         NaN  \n",
       "\n",
       "[1005 rows x 12 columns]"
      ]
     },
     "execution_count": 98,
     "metadata": {},
     "output_type": "execute_result"
    }
   ],
   "source": [
    "fil_query.reset_index()"
   ]
  },
  {
   "cell_type": "code",
   "execution_count": 101,
   "id": "644afc62-5cc3-4a6d-8d32-163c210b9a73",
   "metadata": {},
   "outputs": [
    {
     "name": "stdout",
     "output_type": "stream",
     "text": [
      "    index  CustomerId               Name  CreditScore  Country  Gender   Age  \\\n",
      "0     284  15708608.0           Wallwork          799   France  Female  22.0   \n",
      "1    1113  15648800.0           Paterson          731  Germany  Female  21.0   \n",
      "2    1615  15722578.0            Spitzer          685  Germany  Female  21.0   \n",
      "3    1685  15713826.0           Ferguson          613  Germany  Female  20.0   \n",
      "4    1734  15808846.0             Horton          672  Germany  Female  21.0   \n",
      "5    1889  15716324.0          Ignatieff          665   France  Female  23.0   \n",
      "6    2021  15795519.0           Vasiliev          716  Germany  Female  18.0   \n",
      "7    2371  15604345.0               Kemp          730   France  Female  22.0   \n",
      "8    2642  15581548.0  Kaodilinakachukwu          637    Spain  Female  22.0   \n",
      "9    2669  15693947.0           Tokareva          614   France  Female  19.0   \n",
      "10   2708  15667190.0               Yuan          630    Spain  Female  21.0   \n",
      "11   3611  15734246.0                She          746   France  Female  21.0   \n",
      "12   3700  15747345.0        Bergamaschi          678   France  Female  22.0   \n",
      "13   3965  15775892.0           Caldwell          748    Spain  Female  23.0   \n",
      "14   4672  15641411.0            Volkova          756   France  Female  23.0   \n",
      "15   4859  15647111.0              White          794    Spain  Female  22.0   \n",
      "16   4981  15768137.0               Bray          667    Spain  Female  23.0   \n",
      "17   5196  15670822.0             Palmer          719   France  Female  22.0   \n",
      "18   5379  15730796.0             Barker          627   France  Female  21.0   \n",
      "19   5733  15742798.0             French          829   France  Female  22.0   \n",
      "20   6319  15768340.0            Beavers          642  Germany  Female  19.0   \n",
      "21   6413  15734765.0            Mahmood          739   France  Female  20.0   \n",
      "22   6584  15584229.0              Simon          671  Germany  Female  23.0   \n",
      "23   7120  15603683.0            Ofodile          796    Spain  Female  23.0   \n",
      "24   7411  15698749.0                 He          626  Germany  Female  23.0   \n",
      "25   8282  15696552.0             Newman          747   France  Female  21.0   \n",
      "26   8595  15668774.0          Chiemenam          758  Germany  Female  23.0   \n",
      "27   8645  15669282.0         Uchechukwu          636   France  Female  20.0   \n",
      "28   8951  15636388.0             Abrego          702  Germany  Female  23.0   \n",
      "29   9046  15648178.0           Lettiere          630  Germany  Female  23.0   \n",
      "30   9152  15611315.0              Ts'ao          708  Germany  Female  23.0   \n",
      "31   9383  15739997.0              Capon          716   France  Female  23.0   \n",
      "32   9520  15673180.0        Onyekaozulu          727  Germany  Female  18.0   \n",
      "33   9708  15604515.0           Yefremov          737  Germany  Female  22.0   \n",
      "34   9888  15697606.0            Sturdee          637   France  Female  21.0   \n",
      "\n",
      "    Tenure    Balance  NumOfProducts     Salary        Date  \n",
      "0      8.0  174185.98            2.0  192633.85  02-04-2024  \n",
      "1      8.0  132312.06            1.0  106663.46         NaN  \n",
      "2      6.0   97956.50            1.0  164966.27         NaN  \n",
      "3      0.0  117356.19            1.0  113557.70         NaN  \n",
      "4      3.0  165878.76            2.0  164537.17         NaN  \n",
      "5      9.0  143672.90            1.0  115147.33         NaN  \n",
      "6      3.0  128743.80            1.0  197322.13         NaN  \n",
      "7      9.0   65763.57            1.0  145792.01         NaN  \n",
      "8      5.0   98800.00            1.0  122865.55         NaN  \n",
      "9      5.0   97445.49            2.0  122823.34         NaN  \n",
      "10     1.0   85818.18            1.0  133102.30         NaN  \n",
      "11     8.0  166883.07            2.0  194563.65         NaN  \n",
      "12     6.0  118064.93            2.0  195424.01         NaN  \n",
      "13     8.0   85600.08            1.0  134077.71         NaN  \n",
      "14     1.0  112568.31            1.0  113408.11         NaN  \n",
      "15     4.0  114440.24            1.0  107753.07         NaN  \n",
      "16     6.0  136100.69            2.0  169669.33         NaN  \n",
      "17     7.0  114415.84            1.0  177497.40         NaN  \n",
      "18     7.0   98993.02            1.0  169156.64         NaN  \n",
      "19     7.0  150126.44            1.0  152107.93         NaN  \n",
      "20     3.0  113905.48            1.0  176137.20         NaN  \n",
      "21     4.0  133800.98            1.0  150245.81         NaN  \n",
      "22     9.0  123943.18            1.0  159553.27         NaN  \n",
      "23     3.0  146584.19            2.0  125445.80         NaN  \n",
      "24     6.0   85897.95            1.0  109742.80         NaN  \n",
      "25     4.0   81025.60            2.0  167682.57         NaN  \n",
      "26     5.0  122739.10            1.0  102460.84         NaN  \n",
      "27    10.0  124266.86            1.0  100566.81         NaN  \n",
      "28     7.0   98775.23            1.0  114603.96         NaN  \n",
      "29     4.0  137964.51            1.0  174570.55         NaN  \n",
      "30     4.0   71433.08            1.0  103697.57         NaN  \n",
      "31     2.0   94464.81            2.0  185900.88         NaN  \n",
      "32     2.0   93816.70            2.0  126172.11         NaN  \n",
      "33    10.0  111543.26            2.0  106327.85         NaN  \n",
      "34    10.0  125712.20            1.0  175072.47         NaN  \n"
     ]
    }
   ],
   "source": [
    "file_query = fil_query.query(\"Salary > 100000 & Age < 24\")\n",
    "print(file_query.reset_index())"
   ]
  },
  {
   "cell_type": "code",
   "execution_count": 102,
   "id": "c3c7497c-e8d2-4423-8ce0-51b58c1a45b6",
   "metadata": {},
   "outputs": [
    {
     "name": "stdout",
     "output_type": "stream",
     "text": [
      "      CustomerId               Name  CreditScore  Country  Gender   Age  \\\n",
      "284   15708608.0           Wallwork          799   France  Female  22.0   \n",
      "1113  15648800.0           Paterson          731  Germany  Female  21.0   \n",
      "1615  15722578.0            Spitzer          685  Germany  Female  21.0   \n",
      "1685  15713826.0           Ferguson          613  Germany  Female  20.0   \n",
      "1734  15808846.0             Horton          672  Germany  Female  21.0   \n",
      "1889  15716324.0          Ignatieff          665   France  Female  23.0   \n",
      "2021  15795519.0           Vasiliev          716  Germany  Female  18.0   \n",
      "2371  15604345.0               Kemp          730   France  Female  22.0   \n",
      "2642  15581548.0  Kaodilinakachukwu          637    Spain  Female  22.0   \n",
      "2669  15693947.0           Tokareva          614   France  Female  19.0   \n",
      "2708  15667190.0               Yuan          630    Spain  Female  21.0   \n",
      "3611  15734246.0                She          746   France  Female  21.0   \n",
      "3700  15747345.0        Bergamaschi          678   France  Female  22.0   \n",
      "3965  15775892.0           Caldwell          748    Spain  Female  23.0   \n",
      "4672  15641411.0            Volkova          756   France  Female  23.0   \n",
      "4859  15647111.0              White          794    Spain  Female  22.0   \n",
      "4981  15768137.0               Bray          667    Spain  Female  23.0   \n",
      "5196  15670822.0             Palmer          719   France  Female  22.0   \n",
      "5379  15730796.0             Barker          627   France  Female  21.0   \n",
      "5733  15742798.0             French          829   France  Female  22.0   \n",
      "6319  15768340.0            Beavers          642  Germany  Female  19.0   \n",
      "6413  15734765.0            Mahmood          739   France  Female  20.0   \n",
      "6584  15584229.0              Simon          671  Germany  Female  23.0   \n",
      "7120  15603683.0            Ofodile          796    Spain  Female  23.0   \n",
      "7411  15698749.0                 He          626  Germany  Female  23.0   \n",
      "8282  15696552.0             Newman          747   France  Female  21.0   \n",
      "8595  15668774.0          Chiemenam          758  Germany  Female  23.0   \n",
      "8645  15669282.0         Uchechukwu          636   France  Female  20.0   \n",
      "8951  15636388.0             Abrego          702  Germany  Female  23.0   \n",
      "9046  15648178.0           Lettiere          630  Germany  Female  23.0   \n",
      "9152  15611315.0              Ts'ao          708  Germany  Female  23.0   \n",
      "9383  15739997.0              Capon          716   France  Female  23.0   \n",
      "9520  15673180.0        Onyekaozulu          727  Germany  Female  18.0   \n",
      "9708  15604515.0           Yefremov          737  Germany  Female  22.0   \n",
      "9888  15697606.0            Sturdee          637   France  Female  21.0   \n",
      "\n",
      "      Tenure    Balance  NumOfProducts     Salary        Date  \n",
      "284      8.0  174185.98            2.0  192633.85  02-04-2024  \n",
      "1113     8.0  132312.06            1.0  106663.46         NaN  \n",
      "1615     6.0   97956.50            1.0  164966.27         NaN  \n",
      "1685     0.0  117356.19            1.0  113557.70         NaN  \n",
      "1734     3.0  165878.76            2.0  164537.17         NaN  \n",
      "1889     9.0  143672.90            1.0  115147.33         NaN  \n",
      "2021     3.0  128743.80            1.0  197322.13         NaN  \n",
      "2371     9.0   65763.57            1.0  145792.01         NaN  \n",
      "2642     5.0   98800.00            1.0  122865.55         NaN  \n",
      "2669     5.0   97445.49            2.0  122823.34         NaN  \n",
      "2708     1.0   85818.18            1.0  133102.30         NaN  \n",
      "3611     8.0  166883.07            2.0  194563.65         NaN  \n",
      "3700     6.0  118064.93            2.0  195424.01         NaN  \n",
      "3965     8.0   85600.08            1.0  134077.71         NaN  \n",
      "4672     1.0  112568.31            1.0  113408.11         NaN  \n",
      "4859     4.0  114440.24            1.0  107753.07         NaN  \n",
      "4981     6.0  136100.69            2.0  169669.33         NaN  \n",
      "5196     7.0  114415.84            1.0  177497.40         NaN  \n",
      "5379     7.0   98993.02            1.0  169156.64         NaN  \n",
      "5733     7.0  150126.44            1.0  152107.93         NaN  \n",
      "6319     3.0  113905.48            1.0  176137.20         NaN  \n",
      "6413     4.0  133800.98            1.0  150245.81         NaN  \n",
      "6584     9.0  123943.18            1.0  159553.27         NaN  \n",
      "7120     3.0  146584.19            2.0  125445.80         NaN  \n",
      "7411     6.0   85897.95            1.0  109742.80         NaN  \n",
      "8282     4.0   81025.60            2.0  167682.57         NaN  \n",
      "8595     5.0  122739.10            1.0  102460.84         NaN  \n",
      "8645    10.0  124266.86            1.0  100566.81         NaN  \n",
      "8951     7.0   98775.23            1.0  114603.96         NaN  \n",
      "9046     4.0  137964.51            1.0  174570.55         NaN  \n",
      "9152     4.0   71433.08            1.0  103697.57         NaN  \n",
      "9383     2.0   94464.81            2.0  185900.88         NaN  \n",
      "9520     2.0   93816.70            2.0  126172.11         NaN  \n",
      "9708    10.0  111543.26            2.0  106327.85         NaN  \n",
      "9888    10.0  125712.20            1.0  175072.47         NaN  \n"
     ]
    }
   ],
   "source": [
    "fil = file_query\n",
    "print(fil)"
   ]
  },
  {
   "cell_type": "code",
   "execution_count": 103,
   "id": "8b2e125e-512d-474a-87be-0d23e4036842",
   "metadata": {},
   "outputs": [],
   "source": [
    "fil_sorted = fil.sort_values(by = 'Salary', ascending = False)"
   ]
  },
  {
   "cell_type": "code",
   "execution_count": 104,
   "id": "cb30954d-d7d8-40ce-84da-81cdc6cd9608",
   "metadata": {},
   "outputs": [
    {
     "name": "stdout",
     "output_type": "stream",
     "text": [
      "      CustomerId               Name  CreditScore  Country  Gender   Age  \\\n",
      "2021  15795519.0           Vasiliev          716  Germany  Female  18.0   \n",
      "3700  15747345.0        Bergamaschi          678   France  Female  22.0   \n",
      "3611  15734246.0                She          746   France  Female  21.0   \n",
      "284   15708608.0           Wallwork          799   France  Female  22.0   \n",
      "9383  15739997.0              Capon          716   France  Female  23.0   \n",
      "5196  15670822.0             Palmer          719   France  Female  22.0   \n",
      "6319  15768340.0            Beavers          642  Germany  Female  19.0   \n",
      "9888  15697606.0            Sturdee          637   France  Female  21.0   \n",
      "9046  15648178.0           Lettiere          630  Germany  Female  23.0   \n",
      "4981  15768137.0               Bray          667    Spain  Female  23.0   \n",
      "5379  15730796.0             Barker          627   France  Female  21.0   \n",
      "8282  15696552.0             Newman          747   France  Female  21.0   \n",
      "1615  15722578.0            Spitzer          685  Germany  Female  21.0   \n",
      "1734  15808846.0             Horton          672  Germany  Female  21.0   \n",
      "6584  15584229.0              Simon          671  Germany  Female  23.0   \n",
      "5733  15742798.0             French          829   France  Female  22.0   \n",
      "6413  15734765.0            Mahmood          739   France  Female  20.0   \n",
      "2371  15604345.0               Kemp          730   France  Female  22.0   \n",
      "3965  15775892.0           Caldwell          748    Spain  Female  23.0   \n",
      "2708  15667190.0               Yuan          630    Spain  Female  21.0   \n",
      "9520  15673180.0        Onyekaozulu          727  Germany  Female  18.0   \n",
      "7120  15603683.0            Ofodile          796    Spain  Female  23.0   \n",
      "2642  15581548.0  Kaodilinakachukwu          637    Spain  Female  22.0   \n",
      "2669  15693947.0           Tokareva          614   France  Female  19.0   \n",
      "1889  15716324.0          Ignatieff          665   France  Female  23.0   \n",
      "8951  15636388.0             Abrego          702  Germany  Female  23.0   \n",
      "1685  15713826.0           Ferguson          613  Germany  Female  20.0   \n",
      "4672  15641411.0            Volkova          756   France  Female  23.0   \n",
      "7411  15698749.0                 He          626  Germany  Female  23.0   \n",
      "4859  15647111.0              White          794    Spain  Female  22.0   \n",
      "1113  15648800.0           Paterson          731  Germany  Female  21.0   \n",
      "9708  15604515.0           Yefremov          737  Germany  Female  22.0   \n",
      "9152  15611315.0              Ts'ao          708  Germany  Female  23.0   \n",
      "8595  15668774.0          Chiemenam          758  Germany  Female  23.0   \n",
      "8645  15669282.0         Uchechukwu          636   France  Female  20.0   \n",
      "\n",
      "      Tenure    Balance  NumOfProducts     Salary        Date  \n",
      "2021     3.0  128743.80            1.0  197322.13         NaN  \n",
      "3700     6.0  118064.93            2.0  195424.01         NaN  \n",
      "3611     8.0  166883.07            2.0  194563.65         NaN  \n",
      "284      8.0  174185.98            2.0  192633.85  02-04-2024  \n",
      "9383     2.0   94464.81            2.0  185900.88         NaN  \n",
      "5196     7.0  114415.84            1.0  177497.40         NaN  \n",
      "6319     3.0  113905.48            1.0  176137.20         NaN  \n",
      "9888    10.0  125712.20            1.0  175072.47         NaN  \n",
      "9046     4.0  137964.51            1.0  174570.55         NaN  \n",
      "4981     6.0  136100.69            2.0  169669.33         NaN  \n",
      "5379     7.0   98993.02            1.0  169156.64         NaN  \n",
      "8282     4.0   81025.60            2.0  167682.57         NaN  \n",
      "1615     6.0   97956.50            1.0  164966.27         NaN  \n",
      "1734     3.0  165878.76            2.0  164537.17         NaN  \n",
      "6584     9.0  123943.18            1.0  159553.27         NaN  \n",
      "5733     7.0  150126.44            1.0  152107.93         NaN  \n",
      "6413     4.0  133800.98            1.0  150245.81         NaN  \n",
      "2371     9.0   65763.57            1.0  145792.01         NaN  \n",
      "3965     8.0   85600.08            1.0  134077.71         NaN  \n",
      "2708     1.0   85818.18            1.0  133102.30         NaN  \n",
      "9520     2.0   93816.70            2.0  126172.11         NaN  \n",
      "7120     3.0  146584.19            2.0  125445.80         NaN  \n",
      "2642     5.0   98800.00            1.0  122865.55         NaN  \n",
      "2669     5.0   97445.49            2.0  122823.34         NaN  \n",
      "1889     9.0  143672.90            1.0  115147.33         NaN  \n",
      "8951     7.0   98775.23            1.0  114603.96         NaN  \n",
      "1685     0.0  117356.19            1.0  113557.70         NaN  \n",
      "4672     1.0  112568.31            1.0  113408.11         NaN  \n",
      "7411     6.0   85897.95            1.0  109742.80         NaN  \n",
      "4859     4.0  114440.24            1.0  107753.07         NaN  \n",
      "1113     8.0  132312.06            1.0  106663.46         NaN  \n",
      "9708    10.0  111543.26            2.0  106327.85         NaN  \n",
      "9152     4.0   71433.08            1.0  103697.57         NaN  \n",
      "8595     5.0  122739.10            1.0  102460.84         NaN  \n",
      "8645    10.0  124266.86            1.0  100566.81         NaN  \n"
     ]
    }
   ],
   "source": [
    "print(fil_sorted)"
   ]
  },
  {
   "cell_type": "code",
   "execution_count": 107,
   "id": "ab55cfca-7dbc-4ede-9760-dbbb1549523f",
   "metadata": {},
   "outputs": [
    {
     "name": "stdout",
     "output_type": "stream",
     "text": [
      "      CustomerId               Name  CreditScore  Country  Gender   Age  \\\n",
      "2371  15604345.0               Kemp          730   France  Female  22.0   \n",
      "9152  15611315.0              Ts'ao          708  Germany  Female  23.0   \n",
      "8282  15696552.0             Newman          747   France  Female  21.0   \n",
      "3965  15775892.0           Caldwell          748    Spain  Female  23.0   \n",
      "2708  15667190.0               Yuan          630    Spain  Female  21.0   \n",
      "7411  15698749.0                 He          626  Germany  Female  23.0   \n",
      "9520  15673180.0        Onyekaozulu          727  Germany  Female  18.0   \n",
      "9383  15739997.0              Capon          716   France  Female  23.0   \n",
      "2669  15693947.0           Tokareva          614   France  Female  19.0   \n",
      "1615  15722578.0            Spitzer          685  Germany  Female  21.0   \n",
      "8951  15636388.0             Abrego          702  Germany  Female  23.0   \n",
      "2642  15581548.0  Kaodilinakachukwu          637    Spain  Female  22.0   \n",
      "5379  15730796.0             Barker          627   France  Female  21.0   \n",
      "9708  15604515.0           Yefremov          737  Germany  Female  22.0   \n",
      "4672  15641411.0            Volkova          756   France  Female  23.0   \n",
      "6319  15768340.0            Beavers          642  Germany  Female  19.0   \n",
      "5196  15670822.0             Palmer          719   France  Female  22.0   \n",
      "4859  15647111.0              White          794    Spain  Female  22.0   \n",
      "1685  15713826.0           Ferguson          613  Germany  Female  20.0   \n",
      "3700  15747345.0        Bergamaschi          678   France  Female  22.0   \n",
      "8595  15668774.0          Chiemenam          758  Germany  Female  23.0   \n",
      "6584  15584229.0              Simon          671  Germany  Female  23.0   \n",
      "8645  15669282.0         Uchechukwu          636   France  Female  20.0   \n",
      "9888  15697606.0            Sturdee          637   France  Female  21.0   \n",
      "2021  15795519.0           Vasiliev          716  Germany  Female  18.0   \n",
      "1113  15648800.0           Paterson          731  Germany  Female  21.0   \n",
      "6413  15734765.0            Mahmood          739   France  Female  20.0   \n",
      "4981  15768137.0               Bray          667    Spain  Female  23.0   \n",
      "9046  15648178.0           Lettiere          630  Germany  Female  23.0   \n",
      "1889  15716324.0          Ignatieff          665   France  Female  23.0   \n",
      "7120  15603683.0            Ofodile          796    Spain  Female  23.0   \n",
      "5733  15742798.0             French          829   France  Female  22.0   \n",
      "1734  15808846.0             Horton          672  Germany  Female  21.0   \n",
      "3611  15734246.0                She          746   France  Female  21.0   \n",
      "284   15708608.0           Wallwork          799   France  Female  22.0   \n",
      "\n",
      "      Tenure    Balance  NumOfProducts     Salary        Date  \n",
      "2371     9.0   65763.57            1.0  145792.01         NaN  \n",
      "9152     4.0   71433.08            1.0  103697.57         NaN  \n",
      "8282     4.0   81025.60            2.0  167682.57         NaN  \n",
      "3965     8.0   85600.08            1.0  134077.71         NaN  \n",
      "2708     1.0   85818.18            1.0  133102.30         NaN  \n",
      "7411     6.0   85897.95            1.0  109742.80         NaN  \n",
      "9520     2.0   93816.70            2.0  126172.11         NaN  \n",
      "9383     2.0   94464.81            2.0  185900.88         NaN  \n",
      "2669     5.0   97445.49            2.0  122823.34         NaN  \n",
      "1615     6.0   97956.50            1.0  164966.27         NaN  \n",
      "8951     7.0   98775.23            1.0  114603.96         NaN  \n",
      "2642     5.0   98800.00            1.0  122865.55         NaN  \n",
      "5379     7.0   98993.02            1.0  169156.64         NaN  \n",
      "9708    10.0  111543.26            2.0  106327.85         NaN  \n",
      "4672     1.0  112568.31            1.0  113408.11         NaN  \n",
      "6319     3.0  113905.48            1.0  176137.20         NaN  \n",
      "5196     7.0  114415.84            1.0  177497.40         NaN  \n",
      "4859     4.0  114440.24            1.0  107753.07         NaN  \n",
      "1685     0.0  117356.19            1.0  113557.70         NaN  \n",
      "3700     6.0  118064.93            2.0  195424.01         NaN  \n",
      "8595     5.0  122739.10            1.0  102460.84         NaN  \n",
      "6584     9.0  123943.18            1.0  159553.27         NaN  \n",
      "8645    10.0  124266.86            1.0  100566.81         NaN  \n",
      "9888    10.0  125712.20            1.0  175072.47         NaN  \n",
      "2021     3.0  128743.80            1.0  197322.13         NaN  \n",
      "1113     8.0  132312.06            1.0  106663.46         NaN  \n",
      "6413     4.0  133800.98            1.0  150245.81         NaN  \n",
      "4981     6.0  136100.69            2.0  169669.33         NaN  \n",
      "9046     4.0  137964.51            1.0  174570.55         NaN  \n",
      "1889     9.0  143672.90            1.0  115147.33         NaN  \n",
      "7120     3.0  146584.19            2.0  125445.80         NaN  \n",
      "5733     7.0  150126.44            1.0  152107.93         NaN  \n",
      "1734     3.0  165878.76            2.0  164537.17         NaN  \n",
      "3611     8.0  166883.07            2.0  194563.65         NaN  \n",
      "284      8.0  174185.98            2.0  192633.85  02-04-2024  \n"
     ]
    }
   ],
   "source": [
    "fil_sorted = fil.sort_values(by = 'Balance', ascending = True)\n",
    "print(fil_sorted)"
   ]
  },
  {
   "cell_type": "code",
   "execution_count": 110,
   "id": "7efd68f6-9b09-42f5-af61-2a0dc9d70900",
   "metadata": {},
   "outputs": [
    {
     "ename": "TypeError",
     "evalue": "DataFrame.sort_values() got an unexpected keyword argument 'ddescending'. Did you mean 'ascending'?",
     "output_type": "error",
     "traceback": [
      "\u001b[1;31m---------------------------------------------------------------------------\u001b[0m",
      "\u001b[1;31mTypeError\u001b[0m                                 Traceback (most recent call last)",
      "Cell \u001b[1;32mIn[110], line 1\u001b[0m\n\u001b[1;32m----> 1\u001b[0m fil_sorted \u001b[38;5;241m=\u001b[39m \u001b[43mfil\u001b[49m\u001b[38;5;241;43m.\u001b[39;49m\u001b[43msort_values\u001b[49m\u001b[43m(\u001b[49m\u001b[43mby\u001b[49m\u001b[43m \u001b[49m\u001b[38;5;241;43m=\u001b[39;49m\u001b[43m \u001b[49m\u001b[38;5;124;43m'\u001b[39;49m\u001b[38;5;124;43mBalance\u001b[39;49m\u001b[38;5;124;43m'\u001b[39;49m\u001b[43m,\u001b[49m\u001b[43m \u001b[49m\u001b[43mddescending\u001b[49m\u001b[43m  \u001b[49m\u001b[38;5;241;43m=\u001b[39;49m\u001b[43m \u001b[49m\u001b[38;5;28;43;01mFalse\u001b[39;49;00m\u001b[43m)\u001b[49m\n\u001b[0;32m      2\u001b[0m \u001b[38;5;28mprint\u001b[39m(fil_sorted)\n",
      "\u001b[1;31mTypeError\u001b[0m: DataFrame.sort_values() got an unexpected keyword argument 'ddescending'. Did you mean 'ascending'?"
     ]
    }
   ],
   "source": [
    "fil_sorted = fil.sort_values(by = 'Balance', ddescending  = False)\n",
    "print(fil_sorted)"
   ]
  },
  {
   "cell_type": "code",
   "execution_count": 111,
   "id": "435a11c1-67d4-45a5-96fb-6b7966f40895",
   "metadata": {},
   "outputs": [],
   "source": [
    "fil_sorted = fil.sort_index()"
   ]
  },
  {
   "cell_type": "code",
   "execution_count": 112,
   "id": "a569758d-ae8c-4c95-91a9-1cf6783904a4",
   "metadata": {},
   "outputs": [
    {
     "name": "stdout",
     "output_type": "stream",
     "text": [
      "      CustomerId               Name  CreditScore  Country  Gender   Age  \\\n",
      "284   15708608.0           Wallwork          799   France  Female  22.0   \n",
      "1113  15648800.0           Paterson          731  Germany  Female  21.0   \n",
      "1615  15722578.0            Spitzer          685  Germany  Female  21.0   \n",
      "1685  15713826.0           Ferguson          613  Germany  Female  20.0   \n",
      "1734  15808846.0             Horton          672  Germany  Female  21.0   \n",
      "1889  15716324.0          Ignatieff          665   France  Female  23.0   \n",
      "2021  15795519.0           Vasiliev          716  Germany  Female  18.0   \n",
      "2371  15604345.0               Kemp          730   France  Female  22.0   \n",
      "2642  15581548.0  Kaodilinakachukwu          637    Spain  Female  22.0   \n",
      "2669  15693947.0           Tokareva          614   France  Female  19.0   \n",
      "2708  15667190.0               Yuan          630    Spain  Female  21.0   \n",
      "3611  15734246.0                She          746   France  Female  21.0   \n",
      "3700  15747345.0        Bergamaschi          678   France  Female  22.0   \n",
      "3965  15775892.0           Caldwell          748    Spain  Female  23.0   \n",
      "4672  15641411.0            Volkova          756   France  Female  23.0   \n",
      "4859  15647111.0              White          794    Spain  Female  22.0   \n",
      "4981  15768137.0               Bray          667    Spain  Female  23.0   \n",
      "5196  15670822.0             Palmer          719   France  Female  22.0   \n",
      "5379  15730796.0             Barker          627   France  Female  21.0   \n",
      "5733  15742798.0             French          829   France  Female  22.0   \n",
      "6319  15768340.0            Beavers          642  Germany  Female  19.0   \n",
      "6413  15734765.0            Mahmood          739   France  Female  20.0   \n",
      "6584  15584229.0              Simon          671  Germany  Female  23.0   \n",
      "7120  15603683.0            Ofodile          796    Spain  Female  23.0   \n",
      "7411  15698749.0                 He          626  Germany  Female  23.0   \n",
      "8282  15696552.0             Newman          747   France  Female  21.0   \n",
      "8595  15668774.0          Chiemenam          758  Germany  Female  23.0   \n",
      "8645  15669282.0         Uchechukwu          636   France  Female  20.0   \n",
      "8951  15636388.0             Abrego          702  Germany  Female  23.0   \n",
      "9046  15648178.0           Lettiere          630  Germany  Female  23.0   \n",
      "9152  15611315.0              Ts'ao          708  Germany  Female  23.0   \n",
      "9383  15739997.0              Capon          716   France  Female  23.0   \n",
      "9520  15673180.0        Onyekaozulu          727  Germany  Female  18.0   \n",
      "9708  15604515.0           Yefremov          737  Germany  Female  22.0   \n",
      "9888  15697606.0            Sturdee          637   France  Female  21.0   \n",
      "\n",
      "      Tenure    Balance  NumOfProducts     Salary        Date  \n",
      "284      8.0  174185.98            2.0  192633.85  02-04-2024  \n",
      "1113     8.0  132312.06            1.0  106663.46         NaN  \n",
      "1615     6.0   97956.50            1.0  164966.27         NaN  \n",
      "1685     0.0  117356.19            1.0  113557.70         NaN  \n",
      "1734     3.0  165878.76            2.0  164537.17         NaN  \n",
      "1889     9.0  143672.90            1.0  115147.33         NaN  \n",
      "2021     3.0  128743.80            1.0  197322.13         NaN  \n",
      "2371     9.0   65763.57            1.0  145792.01         NaN  \n",
      "2642     5.0   98800.00            1.0  122865.55         NaN  \n",
      "2669     5.0   97445.49            2.0  122823.34         NaN  \n",
      "2708     1.0   85818.18            1.0  133102.30         NaN  \n",
      "3611     8.0  166883.07            2.0  194563.65         NaN  \n",
      "3700     6.0  118064.93            2.0  195424.01         NaN  \n",
      "3965     8.0   85600.08            1.0  134077.71         NaN  \n",
      "4672     1.0  112568.31            1.0  113408.11         NaN  \n",
      "4859     4.0  114440.24            1.0  107753.07         NaN  \n",
      "4981     6.0  136100.69            2.0  169669.33         NaN  \n",
      "5196     7.0  114415.84            1.0  177497.40         NaN  \n",
      "5379     7.0   98993.02            1.0  169156.64         NaN  \n",
      "5733     7.0  150126.44            1.0  152107.93         NaN  \n",
      "6319     3.0  113905.48            1.0  176137.20         NaN  \n",
      "6413     4.0  133800.98            1.0  150245.81         NaN  \n",
      "6584     9.0  123943.18            1.0  159553.27         NaN  \n",
      "7120     3.0  146584.19            2.0  125445.80         NaN  \n",
      "7411     6.0   85897.95            1.0  109742.80         NaN  \n",
      "8282     4.0   81025.60            2.0  167682.57         NaN  \n",
      "8595     5.0  122739.10            1.0  102460.84         NaN  \n",
      "8645    10.0  124266.86            1.0  100566.81         NaN  \n",
      "8951     7.0   98775.23            1.0  114603.96         NaN  \n",
      "9046     4.0  137964.51            1.0  174570.55         NaN  \n",
      "9152     4.0   71433.08            1.0  103697.57         NaN  \n",
      "9383     2.0   94464.81            2.0  185900.88         NaN  \n",
      "9520     2.0   93816.70            2.0  126172.11         NaN  \n",
      "9708    10.0  111543.26            2.0  106327.85         NaN  \n",
      "9888    10.0  125712.20            1.0  175072.47         NaN  \n"
     ]
    }
   ],
   "source": [
    "print(fil_sorted)"
   ]
  },
  {
   "cell_type": "code",
   "execution_count": 113,
   "id": "e9986f4b-1616-4bde-9759-6a977da7327e",
   "metadata": {},
   "outputs": [
    {
     "name": "stderr",
     "output_type": "stream",
     "text": [
      "C:\\Users\\Sivaraman\\AppData\\Local\\Temp\\ipykernel_13184\\3304288984.py:1: SettingWithCopyWarning: \n",
      "A value is trying to be set on a copy of a slice from a DataFrame.\n",
      "Try using .loc[row_indexer,col_indexer] = value instead\n",
      "\n",
      "See the caveats in the documentation: https://pandas.pydata.org/pandas-docs/stable/user_guide/indexing.html#returning-a-view-versus-a-copy\n",
      "  fil['rank'] = fil['Salary'].rank(ascending = True)\n"
     ]
    }
   ],
   "source": [
    "fil['rank'] = fil['Salary'].rank(ascending = True)"
   ]
  },
  {
   "cell_type": "code",
   "execution_count": 114,
   "id": "190b003f-f0ed-4dea-9d4a-a0a4fd076d47",
   "metadata": {},
   "outputs": [
    {
     "name": "stdout",
     "output_type": "stream",
     "text": [
      "       CustomerId       Name  CreditScore  Country  Gender   Age  Tenure  \\\n",
      "0      15634602.0   Hargrave          619   France  Female  42.0     2.0   \n",
      "1      15634602.0   Hargrave          619   France  Female  42.0     2.0   \n",
      "2      15634602.0       Onio          502   France  Female  42.0     8.0   \n",
      "3      15634602.0       Onio          502   France  Female  42.0     8.0   \n",
      "4      15737888.0   Mitchell          850    Spain  Female  43.0     2.0   \n",
      "...           ...        ...          ...      ...     ...   ...     ...   \n",
      "9996   15569892.0  Johnstone          516   France    Male  35.0    10.0   \n",
      "9997   15569892.0  Johnstone          516   France    Male  35.0    10.0   \n",
      "9998   15682355.0  Sabbatini          772  Germany    Male  42.0     3.0   \n",
      "9999   15628319.0     Walker          792   France  Female  28.0     4.0   \n",
      "10000         NaN        NaN      6505288      NaN     NaN   NaN     NaN   \n",
      "\n",
      "         Balance  NumOfProducts         Salary        Date  \n",
      "0           0.00            1.0  101348.880000  01-01-2023  \n",
      "1           0.00            1.0  101348.880000  02-01-2023  \n",
      "2      159660.80            3.0  112542.580000  03-01-2023  \n",
      "3      159660.80            3.0  112542.580000  04-01-2023  \n",
      "4      125510.82            1.0   79084.100000  05-01-2023  \n",
      "...          ...            ...            ...         ...  \n",
      "9996    57369.61            1.0  101699.770000         NaN  \n",
      "9997    57369.61            1.0  101699.770000         NaN  \n",
      "9998    75075.31            2.0   92888.520000         NaN  \n",
      "9999   130142.79            1.0   38190.780000         NaN  \n",
      "10000        NaN            NaN  100133.102721         NaN  \n",
      "\n",
      "[10001 rows x 11 columns]\n"
     ]
    }
   ],
   "source": [
    "print(df)"
   ]
  },
  {
   "cell_type": "code",
   "execution_count": 115,
   "id": "6d28a5f5-7c38-47a1-bb2c-cbabb3728a27",
   "metadata": {},
   "outputs": [],
   "source": [
    "df['rank'] = df['Salary'].rank(ascending = True)"
   ]
  },
  {
   "cell_type": "code",
   "execution_count": 116,
   "id": "f11cd0df-3ece-4f62-b971-e61480d92595",
   "metadata": {},
   "outputs": [
    {
     "name": "stdout",
     "output_type": "stream",
     "text": [
      "       CustomerId       Name  CreditScore  Country  Gender   Age  Tenure  \\\n",
      "0      15634602.0   Hargrave          619   France  Female  42.0     2.0   \n",
      "1      15634602.0   Hargrave          619   France  Female  42.0     2.0   \n",
      "2      15634602.0       Onio          502   France  Female  42.0     8.0   \n",
      "3      15634602.0       Onio          502   France  Female  42.0     8.0   \n",
      "4      15737888.0   Mitchell          850    Spain  Female  43.0     2.0   \n",
      "...           ...        ...          ...      ...     ...   ...     ...   \n",
      "9996   15569892.0  Johnstone          516   France    Male  35.0    10.0   \n",
      "9997   15569892.0  Johnstone          516   France    Male  35.0    10.0   \n",
      "9998   15682355.0  Sabbatini          772  Germany    Male  42.0     3.0   \n",
      "9999   15628319.0     Walker          792   France  Female  28.0     4.0   \n",
      "10000         NaN        NaN      6505288      NaN     NaN   NaN     NaN   \n",
      "\n",
      "         Balance  NumOfProducts         Salary        Date    rank  \n",
      "0           0.00            1.0  101348.880000  01-01-2023  5067.5  \n",
      "1           0.00            1.0  101348.880000  02-01-2023  5067.5  \n",
      "2      159660.80            3.0  112542.580000  03-01-2023  5639.5  \n",
      "3      159660.80            3.0  112542.580000  04-01-2023  5639.5  \n",
      "4      125510.82            1.0   79084.100000  05-01-2023  3926.0  \n",
      "...          ...            ...            ...         ...     ...  \n",
      "9996    57369.61            1.0  101699.770000         NaN  5087.5  \n",
      "9997    57369.61            1.0  101699.770000         NaN  5087.5  \n",
      "9998    75075.31            2.0   92888.520000         NaN  4639.0  \n",
      "9999   130142.79            1.0   38190.780000         NaN  1878.0  \n",
      "10000        NaN            NaN  100133.102721         NaN  4993.0  \n",
      "\n",
      "[10001 rows x 12 columns]\n"
     ]
    }
   ],
   "source": [
    "print(df)"
   ]
  },
  {
   "cell_type": "code",
   "execution_count": 1,
   "id": "38bcc22b-cd52-421a-8f8a-aa9e7a8ab69d",
   "metadata": {},
   "outputs": [
    {
     "ename": "NameError",
     "evalue": "name 'df' is not defined",
     "output_type": "error",
     "traceback": [
      "\u001b[1;31m---------------------------------------------------------------------------\u001b[0m",
      "\u001b[1;31mNameError\u001b[0m                                 Traceback (most recent call last)",
      "Cell \u001b[1;32mIn[1], line 1\u001b[0m\n\u001b[1;32m----> 1\u001b[0m \u001b[38;5;28mprint\u001b[39m(\u001b[43mdf\u001b[49m)\n",
      "\u001b[1;31mNameError\u001b[0m: name 'df' is not defined"
     ]
    }
   ],
   "source": [
    "print(df)"
   ]
  },
  {
   "cell_type": "code",
   "execution_count": 2,
   "id": "159a7a6b-f592-45f5-a017-23fcdd3f42ff",
   "metadata": {},
   "outputs": [
    {
     "name": "stdout",
     "output_type": "stream",
     "text": [
      "     CustomerId        Name  CreditScore  Country  Gender  Age  Tenure  \\\n",
      "0      15634602    Hargrave          619   France  Female   42       2   \n",
      "1      15634602    Hargrave          619   France  Female   42       2   \n",
      "2      15634602        Onio          502   France  Female   42       8   \n",
      "3      15634602        Onio          502   France  Female   42       8   \n",
      "4      15737888    Mitchell          850    Spain  Female   43       2   \n",
      "..          ...         ...          ...      ...     ...  ...     ...   \n",
      "448    15694860    Uspensky          675   France  Female   38       6   \n",
      "449    15658169        Cook          778    Spain  Female   47       6   \n",
      "450    15794396     Newbold          494  Germany  Female   38       7   \n",
      "451    15785798  Uchechukwu          850   France    Male   40       9   \n",
      "452    15710825       Ch'en          592    Spain    Male   31       7   \n",
      "\n",
      "       Balance  NumOfProducts     Salary       Date  \n",
      "0         0.00              1  101348.88 2023-01-01  \n",
      "1         0.00              1  101348.88 2023-01-02  \n",
      "2    159660.80              3  112542.58 2023-01-03  \n",
      "3    159660.80              3  112542.58 2023-01-04  \n",
      "4    125510.82              1   79084.10 2023-01-05  \n",
      "..         ...            ...        ...        ...  \n",
      "448   68065.80              1  138777.00 2025-01-31  \n",
      "449  127299.34              2  124694.99 2025-01-31  \n",
      "450  174937.64              1   40084.32 2025-01-31  \n",
      "451       0.00              2  119232.33 2025-01-31  \n",
      "452  110071.10              1   43921.36 2025-01-31  \n",
      "\n",
      "[453 rows x 11 columns]\n"
     ]
    }
   ],
   "source": [
    "import pandas as pd\n",
    "file_path = \"C:/Users/Sivaraman/Desktop/study/data analytics/Data (for practice)/bank_details_withdate.xlsx\"\n",
    "df = pd.read_excel(file_path)\n",
    "print(df)"
   ]
  },
  {
   "cell_type": "code",
   "execution_count": 3,
   "id": "33b0c52a-27b4-4193-a1b2-6cd0c35279cd",
   "metadata": {},
   "outputs": [
    {
     "ename": "KeyError",
     "evalue": "\"None of [Index([199725.39, 199645.45, 199638.56, 199493.38, 199304.74, 198637.34,\\n       198252.88, 198129.36, 198059.16, 197276.13,\\n       ...\\n         5097.67,   4861.72,   2319.96,   2010.98,   1907.66,   1643.11,\\n          878.87,    600.36,    417.41,    371.05],\\n      dtype='float64', length=453)] are in the [columns]\"",
     "output_type": "error",
     "traceback": [
      "\u001b[1;31m---------------------------------------------------------------------------\u001b[0m",
      "\u001b[1;31mKeyError\u001b[0m                                  Traceback (most recent call last)",
      "Cell \u001b[1;32mIn[3], line 1\u001b[0m\n\u001b[1;32m----> 1\u001b[0m salary \u001b[38;5;241m=\u001b[39m \u001b[43mdf\u001b[49m\u001b[43m[\u001b[49m\u001b[43mdf\u001b[49m\u001b[43m[\u001b[49m\u001b[38;5;124;43m'\u001b[39;49m\u001b[38;5;124;43mSalary\u001b[39;49m\u001b[38;5;124;43m'\u001b[39;49m\u001b[43m]\u001b[49m\u001b[38;5;241;43m.\u001b[39;49m\u001b[43msort_values\u001b[49m\u001b[43m(\u001b[49m\u001b[43mascending\u001b[49m\u001b[43m \u001b[49m\u001b[38;5;241;43m=\u001b[39;49m\u001b[43m \u001b[49m\u001b[38;5;28;43;01mFalse\u001b[39;49;00m\u001b[43m)\u001b[49m\u001b[43m]\u001b[49m\n\u001b[0;32m      2\u001b[0m \u001b[38;5;28mprint\u001b[39m(salary)\n",
      "File \u001b[1;32m~\\AppData\\Local\\Programs\\Python\\Python313\\Lib\\site-packages\\pandas\\core\\frame.py:4108\u001b[0m, in \u001b[0;36mDataFrame.__getitem__\u001b[1;34m(self, key)\u001b[0m\n\u001b[0;32m   4106\u001b[0m     \u001b[38;5;28;01mif\u001b[39;00m is_iterator(key):\n\u001b[0;32m   4107\u001b[0m         key \u001b[38;5;241m=\u001b[39m \u001b[38;5;28mlist\u001b[39m(key)\n\u001b[1;32m-> 4108\u001b[0m     indexer \u001b[38;5;241m=\u001b[39m \u001b[38;5;28;43mself\u001b[39;49m\u001b[38;5;241;43m.\u001b[39;49m\u001b[43mcolumns\u001b[49m\u001b[38;5;241;43m.\u001b[39;49m\u001b[43m_get_indexer_strict\u001b[49m\u001b[43m(\u001b[49m\u001b[43mkey\u001b[49m\u001b[43m,\u001b[49m\u001b[43m \u001b[49m\u001b[38;5;124;43m\"\u001b[39;49m\u001b[38;5;124;43mcolumns\u001b[39;49m\u001b[38;5;124;43m\"\u001b[39;49m\u001b[43m)\u001b[49m[\u001b[38;5;241m1\u001b[39m]\n\u001b[0;32m   4110\u001b[0m \u001b[38;5;66;03m# take() does not accept boolean indexers\u001b[39;00m\n\u001b[0;32m   4111\u001b[0m \u001b[38;5;28;01mif\u001b[39;00m \u001b[38;5;28mgetattr\u001b[39m(indexer, \u001b[38;5;124m\"\u001b[39m\u001b[38;5;124mdtype\u001b[39m\u001b[38;5;124m\"\u001b[39m, \u001b[38;5;28;01mNone\u001b[39;00m) \u001b[38;5;241m==\u001b[39m \u001b[38;5;28mbool\u001b[39m:\n",
      "File \u001b[1;32m~\\AppData\\Local\\Programs\\Python\\Python313\\Lib\\site-packages\\pandas\\core\\indexes\\base.py:6200\u001b[0m, in \u001b[0;36mIndex._get_indexer_strict\u001b[1;34m(self, key, axis_name)\u001b[0m\n\u001b[0;32m   6197\u001b[0m \u001b[38;5;28;01melse\u001b[39;00m:\n\u001b[0;32m   6198\u001b[0m     keyarr, indexer, new_indexer \u001b[38;5;241m=\u001b[39m \u001b[38;5;28mself\u001b[39m\u001b[38;5;241m.\u001b[39m_reindex_non_unique(keyarr)\n\u001b[1;32m-> 6200\u001b[0m \u001b[38;5;28;43mself\u001b[39;49m\u001b[38;5;241;43m.\u001b[39;49m\u001b[43m_raise_if_missing\u001b[49m\u001b[43m(\u001b[49m\u001b[43mkeyarr\u001b[49m\u001b[43m,\u001b[49m\u001b[43m \u001b[49m\u001b[43mindexer\u001b[49m\u001b[43m,\u001b[49m\u001b[43m \u001b[49m\u001b[43maxis_name\u001b[49m\u001b[43m)\u001b[49m\n\u001b[0;32m   6202\u001b[0m keyarr \u001b[38;5;241m=\u001b[39m \u001b[38;5;28mself\u001b[39m\u001b[38;5;241m.\u001b[39mtake(indexer)\n\u001b[0;32m   6203\u001b[0m \u001b[38;5;28;01mif\u001b[39;00m \u001b[38;5;28misinstance\u001b[39m(key, Index):\n\u001b[0;32m   6204\u001b[0m     \u001b[38;5;66;03m# GH 42790 - Preserve name from an Index\u001b[39;00m\n",
      "File \u001b[1;32m~\\AppData\\Local\\Programs\\Python\\Python313\\Lib\\site-packages\\pandas\\core\\indexes\\base.py:6249\u001b[0m, in \u001b[0;36mIndex._raise_if_missing\u001b[1;34m(self, key, indexer, axis_name)\u001b[0m\n\u001b[0;32m   6247\u001b[0m \u001b[38;5;28;01mif\u001b[39;00m nmissing:\n\u001b[0;32m   6248\u001b[0m     \u001b[38;5;28;01mif\u001b[39;00m nmissing \u001b[38;5;241m==\u001b[39m \u001b[38;5;28mlen\u001b[39m(indexer):\n\u001b[1;32m-> 6249\u001b[0m         \u001b[38;5;28;01mraise\u001b[39;00m \u001b[38;5;167;01mKeyError\u001b[39;00m(\u001b[38;5;124mf\u001b[39m\u001b[38;5;124m\"\u001b[39m\u001b[38;5;124mNone of [\u001b[39m\u001b[38;5;132;01m{\u001b[39;00mkey\u001b[38;5;132;01m}\u001b[39;00m\u001b[38;5;124m] are in the [\u001b[39m\u001b[38;5;132;01m{\u001b[39;00maxis_name\u001b[38;5;132;01m}\u001b[39;00m\u001b[38;5;124m]\u001b[39m\u001b[38;5;124m\"\u001b[39m)\n\u001b[0;32m   6251\u001b[0m     not_found \u001b[38;5;241m=\u001b[39m \u001b[38;5;28mlist\u001b[39m(ensure_index(key)[missing_mask\u001b[38;5;241m.\u001b[39mnonzero()[\u001b[38;5;241m0\u001b[39m]]\u001b[38;5;241m.\u001b[39munique())\n\u001b[0;32m   6252\u001b[0m     \u001b[38;5;28;01mraise\u001b[39;00m \u001b[38;5;167;01mKeyError\u001b[39;00m(\u001b[38;5;124mf\u001b[39m\u001b[38;5;124m\"\u001b[39m\u001b[38;5;132;01m{\u001b[39;00mnot_found\u001b[38;5;132;01m}\u001b[39;00m\u001b[38;5;124m not in index\u001b[39m\u001b[38;5;124m\"\u001b[39m)\n",
      "\u001b[1;31mKeyError\u001b[0m: \"None of [Index([199725.39, 199645.45, 199638.56, 199493.38, 199304.74, 198637.34,\\n       198252.88, 198129.36, 198059.16, 197276.13,\\n       ...\\n         5097.67,   4861.72,   2319.96,   2010.98,   1907.66,   1643.11,\\n          878.87,    600.36,    417.41,    371.05],\\n      dtype='float64', length=453)] are in the [columns]\""
     ]
    }
   ],
   "source": [
    "salary = df[df['Salary'].sort_values(ascending = False)]\n",
    "print(salary)"
   ]
  },
  {
   "cell_type": "code",
   "execution_count": 4,
   "id": "5508de9b-a470-4c62-86b8-01c2d226a57c",
   "metadata": {},
   "outputs": [
    {
     "name": "stdout",
     "output_type": "stream",
     "text": [
      "<class 'pandas.core.frame.DataFrame'>\n",
      "RangeIndex: 453 entries, 0 to 452\n",
      "Data columns (total 11 columns):\n",
      " #   Column         Non-Null Count  Dtype         \n",
      "---  ------         --------------  -----         \n",
      " 0   CustomerId     453 non-null    int64         \n",
      " 1   Name           453 non-null    object        \n",
      " 2   CreditScore    453 non-null    int64         \n",
      " 3   Country        453 non-null    object        \n",
      " 4   Gender         453 non-null    object        \n",
      " 5   Age            453 non-null    int64         \n",
      " 6   Tenure         453 non-null    int64         \n",
      " 7   Balance        453 non-null    float64       \n",
      " 8   NumOfProducts  453 non-null    int64         \n",
      " 9   Salary         453 non-null    float64       \n",
      " 10  Date           453 non-null    datetime64[ns]\n",
      "dtypes: datetime64[ns](1), float64(2), int64(5), object(3)\n",
      "memory usage: 39.1+ KB\n"
     ]
    }
   ],
   "source": [
    "df.info()"
   ]
  },
  {
   "cell_type": "code",
   "execution_count": 13,
   "id": "7e9c0f49-c713-462a-833e-5bca09605e5e",
   "metadata": {},
   "outputs": [
    {
     "name": "stdout",
     "output_type": "stream",
     "text": [
      "0      101348.88\n",
      "1      101348.88\n",
      "2      112542.58\n",
      "3      112542.58\n",
      "4       79084.10\n",
      "         ...    \n",
      "448    138777.00\n",
      "449    124694.99\n",
      "450     40084.32\n",
      "451    119232.33\n",
      "452     43921.36\n",
      "Name: Salary, Length: 453, dtype: float64\n"
     ]
    }
   ],
   "source": [
    "salary = df['Salary'].sort_values(ascending = False)\n",
    "print(salary.sort_index())"
   ]
  },
  {
   "cell_type": "code",
   "execution_count": 16,
   "id": "8be8a8eb-d5a2-451e-b521-860de71202ed",
   "metadata": {},
   "outputs": [],
   "source": [
    "df['rank'] = df['Salary'].rank()"
   ]
  },
  {
   "cell_type": "code",
   "execution_count": 17,
   "id": "a2aac227-6171-4e15-a681-d08b292edea6",
   "metadata": {},
   "outputs": [
    {
     "name": "stdout",
     "output_type": "stream",
     "text": [
      "     CustomerId        Name  CreditScore  Country  Gender  Age  Tenure  \\\n",
      "0      15634602    Hargrave          619   France  Female   42       2   \n",
      "1      15634602    Hargrave          619   France  Female   42       2   \n",
      "2      15634602        Onio          502   France  Female   42       8   \n",
      "3      15634602        Onio          502   France  Female   42       8   \n",
      "4      15737888    Mitchell          850    Spain  Female   43       2   \n",
      "..          ...         ...          ...      ...     ...  ...     ...   \n",
      "448    15694860    Uspensky          675   France  Female   38       6   \n",
      "449    15658169        Cook          778    Spain  Female   47       6   \n",
      "450    15794396     Newbold          494  Germany  Female   38       7   \n",
      "451    15785798  Uchechukwu          850   France    Male   40       9   \n",
      "452    15710825       Ch'en          592    Spain    Male   31       7   \n",
      "\n",
      "       Balance  NumOfProducts     Salary       Date   rank  \n",
      "0         0.00              1  101348.88 2023-01-01  220.5  \n",
      "1         0.00              1  101348.88 2023-01-02  220.5  \n",
      "2    159660.80              3  112542.58 2023-01-03  244.5  \n",
      "3    159660.80              3  112542.58 2023-01-04  244.5  \n",
      "4    125510.82              1   79084.10 2023-01-05  162.0  \n",
      "..         ...            ...        ...        ...    ...  \n",
      "448   68065.80              1  138777.00 2025-01-31  307.0  \n",
      "449  127299.34              2  124694.99 2025-01-31  277.0  \n",
      "450  174937.64              1   40084.32 2025-01-31   84.0  \n",
      "451       0.00              2  119232.33 2025-01-31  260.0  \n",
      "452  110071.10              1   43921.36 2025-01-31   92.0  \n",
      "\n",
      "[453 rows x 12 columns]\n"
     ]
    }
   ],
   "source": [
    "print(df)"
   ]
  },
  {
   "cell_type": "code",
   "execution_count": 18,
   "id": "300a04bf-8ba8-4a1f-a0e5-1b13a1730ea4",
   "metadata": {},
   "outputs": [
    {
     "data": {
      "text/plain": [
       "396      1.0\n",
       "393      2.0\n",
       "195      3.0\n",
       "149      4.0\n",
       "58       5.0\n",
       "       ...  \n",
       "206    449.0\n",
       "364    450.0\n",
       "247    451.0\n",
       "431    452.0\n",
       "118    453.0\n",
       "Name: rank, Length: 453, dtype: float64"
      ]
     },
     "execution_count": 18,
     "metadata": {},
     "output_type": "execute_result"
    }
   ],
   "source": [
    "df['rank'].sort_values(ascending = True)"
   ]
  },
  {
   "cell_type": "code",
   "execution_count": 19,
   "id": "45fa1270-e584-42a6-bc91-d63d7d398494",
   "metadata": {},
   "outputs": [
    {
     "name": "stdout",
     "output_type": "stream",
     "text": [
      "     CustomerId        Name  CreditScore  Country  Gender  Age  Tenure  \\\n",
      "0      15634602    Hargrave          619   France  Female   42       2   \n",
      "1      15634602    Hargrave          619   France  Female   42       2   \n",
      "2      15634602        Onio          502   France  Female   42       8   \n",
      "3      15634602        Onio          502   France  Female   42       8   \n",
      "4      15737888    Mitchell          850    Spain  Female   43       2   \n",
      "..          ...         ...          ...      ...     ...  ...     ...   \n",
      "448    15694860    Uspensky          675   France  Female   38       6   \n",
      "449    15658169        Cook          778    Spain  Female   47       6   \n",
      "450    15794396     Newbold          494  Germany  Female   38       7   \n",
      "451    15785798  Uchechukwu          850   France    Male   40       9   \n",
      "452    15710825       Ch'en          592    Spain    Male   31       7   \n",
      "\n",
      "       Balance  NumOfProducts     Salary       Date   rank  \n",
      "0         0.00              1  101348.88 2023-01-01  220.5  \n",
      "1         0.00              1  101348.88 2023-01-02  220.5  \n",
      "2    159660.80              3  112542.58 2023-01-03  244.5  \n",
      "3    159660.80              3  112542.58 2023-01-04  244.5  \n",
      "4    125510.82              1   79084.10 2023-01-05  162.0  \n",
      "..         ...            ...        ...        ...    ...  \n",
      "448   68065.80              1  138777.00 2025-01-31  307.0  \n",
      "449  127299.34              2  124694.99 2025-01-31  277.0  \n",
      "450  174937.64              1   40084.32 2025-01-31   84.0  \n",
      "451       0.00              2  119232.33 2025-01-31  260.0  \n",
      "452  110071.10              1   43921.36 2025-01-31   92.0  \n",
      "\n",
      "[453 rows x 12 columns]\n"
     ]
    }
   ],
   "source": [
    "print(df)"
   ]
  },
  {
   "cell_type": "code",
   "execution_count": 22,
   "id": "66e4cc07-d6ec-439f-a25d-734257c3d459",
   "metadata": {},
   "outputs": [
    {
     "name": "stdout",
     "output_type": "stream",
     "text": [
      "CustomerId                  15584766\n",
      "Name                          Knight\n",
      "CreditScore                      557\n",
      "Country                       France\n",
      "Gender                          Male\n",
      "Age                               33\n",
      "Tenure                             3\n",
      "Balance                     54503.55\n",
      "NumOfProducts                      1\n",
      "Salary                        371.05\n",
      "Date             2024-09-21 00:00:00\n",
      "rank                             1.0\n",
      "Name: 396, dtype: object\n"
     ]
    }
   ],
   "source": [
    "print(df.iloc[396])"
   ]
  },
  {
   "cell_type": "code",
   "execution_count": 23,
   "id": "d5ba0eef-b2ff-4359-9edd-a6a23276d0dd",
   "metadata": {},
   "outputs": [
    {
     "data": {
      "text/plain": [
       "0      False\n",
       "1      False\n",
       "2      False\n",
       "3      False\n",
       "4      False\n",
       "       ...  \n",
       "448    False\n",
       "449    False\n",
       "450    False\n",
       "451    False\n",
       "452    False\n",
       "Length: 453, dtype: bool"
      ]
     },
     "execution_count": 23,
     "metadata": {},
     "output_type": "execute_result"
    }
   ],
   "source": [
    "df.duplicated()"
   ]
  },
  {
   "cell_type": "code",
   "execution_count": 24,
   "id": "709f0130-35d8-46dc-a189-9d23fc897048",
   "metadata": {},
   "outputs": [
    {
     "data": {
      "text/html": [
       "<div>\n",
       "<style scoped>\n",
       "    .dataframe tbody tr th:only-of-type {\n",
       "        vertical-align: middle;\n",
       "    }\n",
       "\n",
       "    .dataframe tbody tr th {\n",
       "        vertical-align: top;\n",
       "    }\n",
       "\n",
       "    .dataframe thead th {\n",
       "        text-align: right;\n",
       "    }\n",
       "</style>\n",
       "<table border=\"1\" class=\"dataframe\">\n",
       "  <thead>\n",
       "    <tr style=\"text-align: right;\">\n",
       "      <th></th>\n",
       "      <th>CustomerId</th>\n",
       "      <th>Name</th>\n",
       "      <th>CreditScore</th>\n",
       "      <th>Country</th>\n",
       "      <th>Gender</th>\n",
       "      <th>Age</th>\n",
       "      <th>Tenure</th>\n",
       "      <th>Balance</th>\n",
       "      <th>NumOfProducts</th>\n",
       "      <th>Salary</th>\n",
       "      <th>Date</th>\n",
       "      <th>rank</th>\n",
       "    </tr>\n",
       "  </thead>\n",
       "  <tbody>\n",
       "    <tr>\n",
       "      <th>0</th>\n",
       "      <td>15634602</td>\n",
       "      <td>Hargrave</td>\n",
       "      <td>619</td>\n",
       "      <td>France</td>\n",
       "      <td>Female</td>\n",
       "      <td>42</td>\n",
       "      <td>2</td>\n",
       "      <td>0.00</td>\n",
       "      <td>1</td>\n",
       "      <td>101348.88</td>\n",
       "      <td>2023-01-01</td>\n",
       "      <td>220.5</td>\n",
       "    </tr>\n",
       "    <tr>\n",
       "      <th>1</th>\n",
       "      <td>15634602</td>\n",
       "      <td>Hargrave</td>\n",
       "      <td>619</td>\n",
       "      <td>France</td>\n",
       "      <td>Female</td>\n",
       "      <td>42</td>\n",
       "      <td>2</td>\n",
       "      <td>0.00</td>\n",
       "      <td>1</td>\n",
       "      <td>101348.88</td>\n",
       "      <td>2023-01-02</td>\n",
       "      <td>220.5</td>\n",
       "    </tr>\n",
       "    <tr>\n",
       "      <th>2</th>\n",
       "      <td>15634602</td>\n",
       "      <td>Onio</td>\n",
       "      <td>502</td>\n",
       "      <td>France</td>\n",
       "      <td>Female</td>\n",
       "      <td>42</td>\n",
       "      <td>8</td>\n",
       "      <td>159660.80</td>\n",
       "      <td>3</td>\n",
       "      <td>112542.58</td>\n",
       "      <td>2023-01-03</td>\n",
       "      <td>244.5</td>\n",
       "    </tr>\n",
       "    <tr>\n",
       "      <th>3</th>\n",
       "      <td>15634602</td>\n",
       "      <td>Onio</td>\n",
       "      <td>502</td>\n",
       "      <td>France</td>\n",
       "      <td>Female</td>\n",
       "      <td>42</td>\n",
       "      <td>8</td>\n",
       "      <td>159660.80</td>\n",
       "      <td>3</td>\n",
       "      <td>112542.58</td>\n",
       "      <td>2023-01-04</td>\n",
       "      <td>244.5</td>\n",
       "    </tr>\n",
       "    <tr>\n",
       "      <th>4</th>\n",
       "      <td>15737888</td>\n",
       "      <td>Mitchell</td>\n",
       "      <td>850</td>\n",
       "      <td>Spain</td>\n",
       "      <td>Female</td>\n",
       "      <td>43</td>\n",
       "      <td>2</td>\n",
       "      <td>125510.82</td>\n",
       "      <td>1</td>\n",
       "      <td>79084.10</td>\n",
       "      <td>2023-01-05</td>\n",
       "      <td>162.0</td>\n",
       "    </tr>\n",
       "    <tr>\n",
       "      <th>...</th>\n",
       "      <td>...</td>\n",
       "      <td>...</td>\n",
       "      <td>...</td>\n",
       "      <td>...</td>\n",
       "      <td>...</td>\n",
       "      <td>...</td>\n",
       "      <td>...</td>\n",
       "      <td>...</td>\n",
       "      <td>...</td>\n",
       "      <td>...</td>\n",
       "      <td>...</td>\n",
       "      <td>...</td>\n",
       "    </tr>\n",
       "    <tr>\n",
       "      <th>448</th>\n",
       "      <td>15694860</td>\n",
       "      <td>Uspensky</td>\n",
       "      <td>675</td>\n",
       "      <td>France</td>\n",
       "      <td>Female</td>\n",
       "      <td>38</td>\n",
       "      <td>6</td>\n",
       "      <td>68065.80</td>\n",
       "      <td>1</td>\n",
       "      <td>138777.00</td>\n",
       "      <td>2025-01-31</td>\n",
       "      <td>307.0</td>\n",
       "    </tr>\n",
       "    <tr>\n",
       "      <th>449</th>\n",
       "      <td>15658169</td>\n",
       "      <td>Cook</td>\n",
       "      <td>778</td>\n",
       "      <td>Spain</td>\n",
       "      <td>Female</td>\n",
       "      <td>47</td>\n",
       "      <td>6</td>\n",
       "      <td>127299.34</td>\n",
       "      <td>2</td>\n",
       "      <td>124694.99</td>\n",
       "      <td>2025-01-31</td>\n",
       "      <td>277.0</td>\n",
       "    </tr>\n",
       "    <tr>\n",
       "      <th>450</th>\n",
       "      <td>15794396</td>\n",
       "      <td>Newbold</td>\n",
       "      <td>494</td>\n",
       "      <td>Germany</td>\n",
       "      <td>Female</td>\n",
       "      <td>38</td>\n",
       "      <td>7</td>\n",
       "      <td>174937.64</td>\n",
       "      <td>1</td>\n",
       "      <td>40084.32</td>\n",
       "      <td>2025-01-31</td>\n",
       "      <td>84.0</td>\n",
       "    </tr>\n",
       "    <tr>\n",
       "      <th>451</th>\n",
       "      <td>15785798</td>\n",
       "      <td>Uchechukwu</td>\n",
       "      <td>850</td>\n",
       "      <td>France</td>\n",
       "      <td>Male</td>\n",
       "      <td>40</td>\n",
       "      <td>9</td>\n",
       "      <td>0.00</td>\n",
       "      <td>2</td>\n",
       "      <td>119232.33</td>\n",
       "      <td>2025-01-31</td>\n",
       "      <td>260.0</td>\n",
       "    </tr>\n",
       "    <tr>\n",
       "      <th>452</th>\n",
       "      <td>15710825</td>\n",
       "      <td>Ch'en</td>\n",
       "      <td>592</td>\n",
       "      <td>Spain</td>\n",
       "      <td>Male</td>\n",
       "      <td>31</td>\n",
       "      <td>7</td>\n",
       "      <td>110071.10</td>\n",
       "      <td>1</td>\n",
       "      <td>43921.36</td>\n",
       "      <td>2025-01-31</td>\n",
       "      <td>92.0</td>\n",
       "    </tr>\n",
       "  </tbody>\n",
       "</table>\n",
       "<p>453 rows × 12 columns</p>\n",
       "</div>"
      ],
      "text/plain": [
       "     CustomerId        Name  CreditScore  Country  Gender  Age  Tenure  \\\n",
       "0      15634602    Hargrave          619   France  Female   42       2   \n",
       "1      15634602    Hargrave          619   France  Female   42       2   \n",
       "2      15634602        Onio          502   France  Female   42       8   \n",
       "3      15634602        Onio          502   France  Female   42       8   \n",
       "4      15737888    Mitchell          850    Spain  Female   43       2   \n",
       "..          ...         ...          ...      ...     ...  ...     ...   \n",
       "448    15694860    Uspensky          675   France  Female   38       6   \n",
       "449    15658169        Cook          778    Spain  Female   47       6   \n",
       "450    15794396     Newbold          494  Germany  Female   38       7   \n",
       "451    15785798  Uchechukwu          850   France    Male   40       9   \n",
       "452    15710825       Ch'en          592    Spain    Male   31       7   \n",
       "\n",
       "       Balance  NumOfProducts     Salary       Date   rank  \n",
       "0         0.00              1  101348.88 2023-01-01  220.5  \n",
       "1         0.00              1  101348.88 2023-01-02  220.5  \n",
       "2    159660.80              3  112542.58 2023-01-03  244.5  \n",
       "3    159660.80              3  112542.58 2023-01-04  244.5  \n",
       "4    125510.82              1   79084.10 2023-01-05  162.0  \n",
       "..         ...            ...        ...        ...    ...  \n",
       "448   68065.80              1  138777.00 2025-01-31  307.0  \n",
       "449  127299.34              2  124694.99 2025-01-31  277.0  \n",
       "450  174937.64              1   40084.32 2025-01-31   84.0  \n",
       "451       0.00              2  119232.33 2025-01-31  260.0  \n",
       "452  110071.10              1   43921.36 2025-01-31   92.0  \n",
       "\n",
       "[453 rows x 12 columns]"
      ]
     },
     "execution_count": 24,
     "metadata": {},
     "output_type": "execute_result"
    }
   ],
   "source": [
    "df.drop_duplicates()"
   ]
  },
  {
   "cell_type": "code",
   "execution_count": 25,
   "id": "e3eed02d-b1c0-4b42-8853-5ea61ed41224",
   "metadata": {},
   "outputs": [
    {
     "data": {
      "text/plain": [
       "Country\n",
       "France      99156.221206\n",
       "Germany    109465.909160\n",
       "Spain      104636.270325\n",
       "Name: Salary, dtype: float64"
      ]
     },
     "execution_count": 25,
     "metadata": {},
     "output_type": "execute_result"
    }
   ],
   "source": [
    "df.groupby('Country')['Salary'].mean()"
   ]
  },
  {
   "cell_type": "code",
   "execution_count": 26,
   "id": "4a625f7f-2411-4550-aae4-44a5257cf532",
   "metadata": {},
   "outputs": [
    {
     "data": {
      "text/plain": [
       "<pandas.core.groupby.generic.DataFrameGroupBy object at 0x00000223C0012350>"
      ]
     },
     "execution_count": 26,
     "metadata": {},
     "output_type": "execute_result"
    }
   ],
   "source": [
    "df.groupby('Gender')"
   ]
  },
  {
   "cell_type": "code",
   "execution_count": 27,
   "id": "f008ea65-4b4e-4f5b-b33d-fd39a9500e3a",
   "metadata": {},
   "outputs": [
    {
     "ename": "TypeError",
     "evalue": "'<' not supported between instances of 'SeriesGroupBy' and 'int'",
     "output_type": "error",
     "traceback": [
      "\u001b[1;31m---------------------------------------------------------------------------\u001b[0m",
      "\u001b[1;31mTypeError\u001b[0m                                 Traceback (most recent call last)",
      "Cell \u001b[1;32mIn[27], line 1\u001b[0m\n\u001b[1;32m----> 1\u001b[0m \u001b[43mdf\u001b[49m\u001b[38;5;241;43m.\u001b[39;49m\u001b[43mgroupby\u001b[49m\u001b[43m(\u001b[49m\u001b[38;5;124;43m'\u001b[39;49m\u001b[38;5;124;43mGender\u001b[39;49m\u001b[38;5;124;43m'\u001b[39;49m\u001b[43m)\u001b[49m\u001b[43m[\u001b[49m\u001b[38;5;124;43m'\u001b[39;49m\u001b[38;5;124;43mAge\u001b[39;49m\u001b[38;5;124;43m'\u001b[39;49m\u001b[43m]\u001b[49m\u001b[38;5;241;43m<\u001b[39;49m\u001b[38;5;241;43m25\u001b[39;49m\n",
      "\u001b[1;31mTypeError\u001b[0m: '<' not supported between instances of 'SeriesGroupBy' and 'int'"
     ]
    }
   ],
   "source": [
    "df.groupby('Gender')['Age']<25"
   ]
  },
  {
   "cell_type": "code",
   "execution_count": 30,
   "id": "41f5f042-3a57-43e1-aaa4-adb87389a31b",
   "metadata": {},
   "outputs": [
    {
     "data": {
      "text/plain": [
       "Gender\n",
       "Female    11\n",
       "Male      14\n",
       "Name: Age, dtype: int64"
      ]
     },
     "execution_count": 30,
     "metadata": {},
     "output_type": "execute_result"
    }
   ],
   "source": [
    "df[df['Age'] < 25].groupby('Gender')['Age'].count()"
   ]
  },
  {
   "cell_type": "code",
   "execution_count": 33,
   "id": "57089860-318b-4554-a066-9d8a78433de2",
   "metadata": {},
   "outputs": [
    {
     "data": {
      "text/plain": [
       "Gender\n",
       "Female    11\n",
       "Male      14\n",
       "Name: Age, dtype: int64"
      ]
     },
     "execution_count": 33,
     "metadata": {},
     "output_type": "execute_result"
    }
   ],
   "source": []
  },
  {
   "cell_type": "code",
   "execution_count": 34,
   "id": "614f52c0-22a6-443a-ba16-04e15aab953b",
   "metadata": {},
   "outputs": [
    {
     "ename": "TypeError",
     "evalue": "You have to supply one of 'by' and 'level'",
     "output_type": "error",
     "traceback": [
      "\u001b[1;31m---------------------------------------------------------------------------\u001b[0m",
      "\u001b[1;31mTypeError\u001b[0m                                 Traceback (most recent call last)",
      "Cell \u001b[1;32mIn[34], line 1\u001b[0m\n\u001b[1;32m----> 1\u001b[0m \u001b[43mdf\u001b[49m\u001b[43m[\u001b[49m\u001b[38;5;124;43m'\u001b[39;49m\u001b[38;5;124;43mCountry\u001b[39;49m\u001b[38;5;124;43m'\u001b[39;49m\u001b[43m]\u001b[49m\u001b[38;5;241;43m.\u001b[39;49m\u001b[43mgroupby\u001b[49m\u001b[43m(\u001b[49m\u001b[43m)\u001b[49m\n",
      "File \u001b[1;32m~\\AppData\\Local\\Programs\\Python\\Python313\\Lib\\site-packages\\pandas\\core\\series.py:2242\u001b[0m, in \u001b[0;36mSeries.groupby\u001b[1;34m(self, by, axis, level, as_index, sort, group_keys, observed, dropna)\u001b[0m\n\u001b[0;32m   2239\u001b[0m \u001b[38;5;28;01mfrom\u001b[39;00m \u001b[38;5;21;01mpandas\u001b[39;00m\u001b[38;5;21;01m.\u001b[39;00m\u001b[38;5;21;01mcore\u001b[39;00m\u001b[38;5;21;01m.\u001b[39;00m\u001b[38;5;21;01mgroupby\u001b[39;00m\u001b[38;5;21;01m.\u001b[39;00m\u001b[38;5;21;01mgeneric\u001b[39;00m \u001b[38;5;28;01mimport\u001b[39;00m SeriesGroupBy\n\u001b[0;32m   2241\u001b[0m \u001b[38;5;28;01mif\u001b[39;00m level \u001b[38;5;129;01mis\u001b[39;00m \u001b[38;5;28;01mNone\u001b[39;00m \u001b[38;5;129;01mand\u001b[39;00m by \u001b[38;5;129;01mis\u001b[39;00m \u001b[38;5;28;01mNone\u001b[39;00m:\n\u001b[1;32m-> 2242\u001b[0m     \u001b[38;5;28;01mraise\u001b[39;00m \u001b[38;5;167;01mTypeError\u001b[39;00m(\u001b[38;5;124m\"\u001b[39m\u001b[38;5;124mYou have to supply one of \u001b[39m\u001b[38;5;124m'\u001b[39m\u001b[38;5;124mby\u001b[39m\u001b[38;5;124m'\u001b[39m\u001b[38;5;124m and \u001b[39m\u001b[38;5;124m'\u001b[39m\u001b[38;5;124mlevel\u001b[39m\u001b[38;5;124m'\u001b[39m\u001b[38;5;124m\"\u001b[39m)\n\u001b[0;32m   2243\u001b[0m \u001b[38;5;28;01mif\u001b[39;00m \u001b[38;5;129;01mnot\u001b[39;00m as_index:\n\u001b[0;32m   2244\u001b[0m     \u001b[38;5;28;01mraise\u001b[39;00m \u001b[38;5;167;01mTypeError\u001b[39;00m(\u001b[38;5;124m\"\u001b[39m\u001b[38;5;124mas_index=False only valid with DataFrame\u001b[39m\u001b[38;5;124m\"\u001b[39m)\n",
      "\u001b[1;31mTypeError\u001b[0m: You have to supply one of 'by' and 'level'"
     ]
    }
   ],
   "source": [
    "df['Country'].groupby()"
   ]
  },
  {
   "cell_type": "code",
   "execution_count": 35,
   "id": "31ce0c52-8a5d-4869-ae42-5123db3c2f08",
   "metadata": {},
   "outputs": [
    {
     "data": {
      "text/plain": [
       "<pandas.core.groupby.generic.DataFrameGroupBy object at 0x00000223C2896E50>"
      ]
     },
     "execution_count": 35,
     "metadata": {},
     "output_type": "execute_result"
    }
   ],
   "source": [
    "df.groupby('Country')"
   ]
  },
  {
   "cell_type": "code",
   "execution_count": 36,
   "id": "dcba5da3-36ad-4a87-b11c-33a44fdd0f01",
   "metadata": {},
   "outputs": [
    {
     "ename": "TypeError",
     "evalue": "unhashable type: 'DataFrame'",
     "output_type": "error",
     "traceback": [
      "\u001b[1;31m---------------------------------------------------------------------------\u001b[0m",
      "\u001b[1;31mTypeError\u001b[0m                                 Traceback (most recent call last)",
      "Cell \u001b[1;32mIn[36], line 1\u001b[0m\n\u001b[1;32m----> 1\u001b[0m \u001b[43mdf\u001b[49m\u001b[43m[\u001b[49m\u001b[43mdf\u001b[49m\u001b[38;5;241;43m.\u001b[39;49m\u001b[43mgroupby\u001b[49m\u001b[43m(\u001b[49m\u001b[38;5;124;43m'\u001b[39;49m\u001b[38;5;124;43mCountry\u001b[39;49m\u001b[38;5;124;43m'\u001b[39;49m\u001b[43m)\u001b[49m\u001b[43m]\u001b[49m\n",
      "File \u001b[1;32m~\\AppData\\Local\\Programs\\Python\\Python313\\Lib\\site-packages\\pandas\\core\\frame.py:4108\u001b[0m, in \u001b[0;36mDataFrame.__getitem__\u001b[1;34m(self, key)\u001b[0m\n\u001b[0;32m   4106\u001b[0m     \u001b[38;5;28;01mif\u001b[39;00m is_iterator(key):\n\u001b[0;32m   4107\u001b[0m         key \u001b[38;5;241m=\u001b[39m \u001b[38;5;28mlist\u001b[39m(key)\n\u001b[1;32m-> 4108\u001b[0m     indexer \u001b[38;5;241m=\u001b[39m \u001b[38;5;28;43mself\u001b[39;49m\u001b[38;5;241;43m.\u001b[39;49m\u001b[43mcolumns\u001b[49m\u001b[38;5;241;43m.\u001b[39;49m\u001b[43m_get_indexer_strict\u001b[49m\u001b[43m(\u001b[49m\u001b[43mkey\u001b[49m\u001b[43m,\u001b[49m\u001b[43m \u001b[49m\u001b[38;5;124;43m\"\u001b[39;49m\u001b[38;5;124;43mcolumns\u001b[39;49m\u001b[38;5;124;43m\"\u001b[39;49m\u001b[43m)\u001b[49m[\u001b[38;5;241m1\u001b[39m]\n\u001b[0;32m   4110\u001b[0m \u001b[38;5;66;03m# take() does not accept boolean indexers\u001b[39;00m\n\u001b[0;32m   4111\u001b[0m \u001b[38;5;28;01mif\u001b[39;00m \u001b[38;5;28mgetattr\u001b[39m(indexer, \u001b[38;5;124m\"\u001b[39m\u001b[38;5;124mdtype\u001b[39m\u001b[38;5;124m\"\u001b[39m, \u001b[38;5;28;01mNone\u001b[39;00m) \u001b[38;5;241m==\u001b[39m \u001b[38;5;28mbool\u001b[39m:\n",
      "File \u001b[1;32m~\\AppData\\Local\\Programs\\Python\\Python313\\Lib\\site-packages\\pandas\\core\\indexes\\base.py:6195\u001b[0m, in \u001b[0;36mIndex._get_indexer_strict\u001b[1;34m(self, key, axis_name)\u001b[0m\n\u001b[0;32m   6192\u001b[0m     keyarr \u001b[38;5;241m=\u001b[39m com\u001b[38;5;241m.\u001b[39masarray_tuplesafe(keyarr)\n\u001b[0;32m   6194\u001b[0m \u001b[38;5;28;01mif\u001b[39;00m \u001b[38;5;28mself\u001b[39m\u001b[38;5;241m.\u001b[39m_index_as_unique:\n\u001b[1;32m-> 6195\u001b[0m     indexer \u001b[38;5;241m=\u001b[39m \u001b[38;5;28;43mself\u001b[39;49m\u001b[38;5;241;43m.\u001b[39;49m\u001b[43mget_indexer_for\u001b[49m\u001b[43m(\u001b[49m\u001b[43mkeyarr\u001b[49m\u001b[43m)\u001b[49m\n\u001b[0;32m   6196\u001b[0m     keyarr \u001b[38;5;241m=\u001b[39m \u001b[38;5;28mself\u001b[39m\u001b[38;5;241m.\u001b[39mreindex(keyarr)[\u001b[38;5;241m0\u001b[39m]\n\u001b[0;32m   6197\u001b[0m \u001b[38;5;28;01melse\u001b[39;00m:\n",
      "File \u001b[1;32m~\\AppData\\Local\\Programs\\Python\\Python313\\Lib\\site-packages\\pandas\\core\\indexes\\base.py:6182\u001b[0m, in \u001b[0;36mIndex.get_indexer_for\u001b[1;34m(self, target)\u001b[0m\n\u001b[0;32m   6164\u001b[0m \u001b[38;5;250m\u001b[39m\u001b[38;5;124;03m\"\"\"\u001b[39;00m\n\u001b[0;32m   6165\u001b[0m \u001b[38;5;124;03mGuaranteed return of an indexer even when non-unique.\u001b[39;00m\n\u001b[0;32m   6166\u001b[0m \n\u001b[1;32m   (...)\u001b[0m\n\u001b[0;32m   6179\u001b[0m \u001b[38;5;124;03marray([0, 2])\u001b[39;00m\n\u001b[0;32m   6180\u001b[0m \u001b[38;5;124;03m\"\"\"\u001b[39;00m\n\u001b[0;32m   6181\u001b[0m \u001b[38;5;28;01mif\u001b[39;00m \u001b[38;5;28mself\u001b[39m\u001b[38;5;241m.\u001b[39m_index_as_unique:\n\u001b[1;32m-> 6182\u001b[0m     \u001b[38;5;28;01mreturn\u001b[39;00m \u001b[38;5;28;43mself\u001b[39;49m\u001b[38;5;241;43m.\u001b[39;49m\u001b[43mget_indexer\u001b[49m\u001b[43m(\u001b[49m\u001b[43mtarget\u001b[49m\u001b[43m)\u001b[49m\n\u001b[0;32m   6183\u001b[0m indexer, _ \u001b[38;5;241m=\u001b[39m \u001b[38;5;28mself\u001b[39m\u001b[38;5;241m.\u001b[39mget_indexer_non_unique(target)\n\u001b[0;32m   6184\u001b[0m \u001b[38;5;28;01mreturn\u001b[39;00m indexer\n",
      "File \u001b[1;32m~\\AppData\\Local\\Programs\\Python\\Python313\\Lib\\site-packages\\pandas\\core\\indexes\\base.py:3953\u001b[0m, in \u001b[0;36mIndex.get_indexer\u001b[1;34m(self, target, method, limit, tolerance)\u001b[0m\n\u001b[0;32m   3948\u001b[0m     target \u001b[38;5;241m=\u001b[39m target\u001b[38;5;241m.\u001b[39mastype(dtype, copy\u001b[38;5;241m=\u001b[39m\u001b[38;5;28;01mFalse\u001b[39;00m)\n\u001b[0;32m   3949\u001b[0m     \u001b[38;5;28;01mreturn\u001b[39;00m this\u001b[38;5;241m.\u001b[39m_get_indexer(\n\u001b[0;32m   3950\u001b[0m         target, method\u001b[38;5;241m=\u001b[39mmethod, limit\u001b[38;5;241m=\u001b[39mlimit, tolerance\u001b[38;5;241m=\u001b[39mtolerance\n\u001b[0;32m   3951\u001b[0m     )\n\u001b[1;32m-> 3953\u001b[0m \u001b[38;5;28;01mreturn\u001b[39;00m \u001b[38;5;28;43mself\u001b[39;49m\u001b[38;5;241;43m.\u001b[39;49m\u001b[43m_get_indexer\u001b[49m\u001b[43m(\u001b[49m\u001b[43mtarget\u001b[49m\u001b[43m,\u001b[49m\u001b[43m \u001b[49m\u001b[43mmethod\u001b[49m\u001b[43m,\u001b[49m\u001b[43m \u001b[49m\u001b[43mlimit\u001b[49m\u001b[43m,\u001b[49m\u001b[43m \u001b[49m\u001b[43mtolerance\u001b[49m\u001b[43m)\u001b[49m\n",
      "File \u001b[1;32m~\\AppData\\Local\\Programs\\Python\\Python313\\Lib\\site-packages\\pandas\\core\\indexes\\base.py:3980\u001b[0m, in \u001b[0;36mIndex._get_indexer\u001b[1;34m(self, target, method, limit, tolerance)\u001b[0m\n\u001b[0;32m   3977\u001b[0m     \u001b[38;5;28;01melse\u001b[39;00m:\n\u001b[0;32m   3978\u001b[0m         tgt_values \u001b[38;5;241m=\u001b[39m target\u001b[38;5;241m.\u001b[39m_get_engine_target()\n\u001b[1;32m-> 3980\u001b[0m     indexer \u001b[38;5;241m=\u001b[39m \u001b[38;5;28;43mself\u001b[39;49m\u001b[38;5;241;43m.\u001b[39;49m\u001b[43m_engine\u001b[49m\u001b[38;5;241;43m.\u001b[39;49m\u001b[43mget_indexer\u001b[49m\u001b[43m(\u001b[49m\u001b[43mtgt_values\u001b[49m\u001b[43m)\u001b[49m\n\u001b[0;32m   3982\u001b[0m \u001b[38;5;28;01mreturn\u001b[39;00m ensure_platform_int(indexer)\n",
      "File \u001b[1;32mindex.pyx:351\u001b[0m, in \u001b[0;36mpandas._libs.index.IndexEngine.get_indexer\u001b[1;34m()\u001b[0m\n",
      "File \u001b[1;32mpandas\\\\_libs\\\\hashtable_class_helper.pxi:7132\u001b[0m, in \u001b[0;36mpandas._libs.hashtable.PyObjectHashTable.lookup\u001b[1;34m()\u001b[0m\n",
      "\u001b[1;31mTypeError\u001b[0m: unhashable type: 'DataFrame'"
     ]
    }
   ],
   "source": [
    "df[df.groupby('Country')]"
   ]
  },
  {
   "cell_type": "code",
   "execution_count": 37,
   "id": "04d56681-109a-44fc-9b1e-2cb2f5b9f716",
   "metadata": {},
   "outputs": [
    {
     "data": {
      "text/plain": [
       "array(['France', 'Spain', 'Germany'], dtype=object)"
      ]
     },
     "execution_count": 37,
     "metadata": {},
     "output_type": "execute_result"
    }
   ],
   "source": [
    "df['Country'].unique()"
   ]
  },
  {
   "cell_type": "code",
   "execution_count": 38,
   "id": "424b7db0-eab8-4635-8162-a478dc33b8ea",
   "metadata": {},
   "outputs": [
    {
     "data": {
      "text/plain": [
       "<pandas.core.groupby.generic.DataFrameGroupBy object at 0x00000223C30A88C0>"
      ]
     },
     "execution_count": 38,
     "metadata": {},
     "output_type": "execute_result"
    }
   ],
   "source": [
    "df.groupby('Gender')"
   ]
  },
  {
   "cell_type": "code",
   "execution_count": 41,
   "id": "dd8199b1-4dce-4991-95f2-be01ad0396d8",
   "metadata": {},
   "outputs": [
    {
     "name": "stdout",
     "output_type": "stream",
     "text": [
      "        CustomerId      Name  CreditScore Country  Age  Tenure    Balance  \\\n",
      "Gender                                                                      \n",
      "Female    15634602  Hargrave          619  France   42       2       0.00   \n",
      "Male      15574012       Chu          645   Spain   44       8  113755.78   \n",
      "\n",
      "        NumOfProducts     Salary       Date   rank  \n",
      "Gender                                              \n",
      "Female              1  101348.88 2023-01-01  220.5  \n",
      "Male                2  149756.71 2023-01-06  333.0  \n"
     ]
    }
   ],
   "source": [
    "gen = df.groupby('Gender').first()\n",
    "print(gen)"
   ]
  },
  {
   "cell_type": "code",
   "execution_count": 43,
   "id": "d0489fdc-8ad3-4bfd-9295-314287b24430",
   "metadata": {},
   "outputs": [
    {
     "data": {
      "text/plain": [
       "Gender\n",
       "Female    206\n",
       "Male      247\n",
       "dtype: int64"
      ]
     },
     "execution_count": 43,
     "metadata": {},
     "output_type": "execute_result"
    }
   ],
   "source": [
    "df.groupby('Gender').size()"
   ]
  },
  {
   "cell_type": "code",
   "execution_count": 44,
   "id": "7e8167ad-1e17-4434-8171-43d7f41f1b37",
   "metadata": {},
   "outputs": [
    {
     "data": {
      "text/plain": [
       "Gender\n",
       "Female    21942947.66\n",
       "Male      24999435.71\n",
       "Name: Salary, dtype: float64"
      ]
     },
     "execution_count": 44,
     "metadata": {},
     "output_type": "execute_result"
    }
   ],
   "source": [
    "df.groupby('Gender')['Salary'].sum()"
   ]
  },
  {
   "cell_type": "code",
   "execution_count": 46,
   "id": "ead5ae3e-02e4-41eb-93e5-823fbb581118",
   "metadata": {},
   "outputs": [
    {
     "data": {
      "text/plain": [
       "Gender\n",
       "Female    106519.163398\n",
       "Male      101212.290324\n",
       "Name: Salary, dtype: float64"
      ]
     },
     "execution_count": 46,
     "metadata": {},
     "output_type": "execute_result"
    }
   ],
   "source": [
    "df.groupby('Gender')['Salary'].mean()"
   ]
  },
  {
   "cell_type": "code",
   "execution_count": 52,
   "id": "682a43f2-bfb9-4096-a92f-748c2fefd72d",
   "metadata": {},
   "outputs": [
    {
     "name": "stdout",
     "output_type": "stream",
     "text": [
      "            Salary   Age\n",
      "Tenure                  \n",
      "0        58907.570  35.0\n",
      "1       114212.600  39.5\n",
      "2        90878.130  39.0\n",
      "3        94097.480  36.0\n",
      "4       112187.110  35.0\n",
      "5       126213.840  36.0\n",
      "6        85746.520  37.0\n",
      "7        83095.825  35.5\n",
      "8       136050.440  35.0\n",
      "9       108761.050  36.0\n",
      "10      122381.020  39.0\n"
     ]
    }
   ],
   "source": [
    "group = df.groupby('Tenure')[['Salary', 'Age']].median()\n",
    "print(group)"
   ]
  },
  {
   "cell_type": "code",
   "execution_count": 55,
   "id": "e1a6319d-a616-4e3e-873c-f2ffdccacd02",
   "metadata": {},
   "outputs": [
    {
     "data": {
      "text/html": [
       "<div>\n",
       "<style scoped>\n",
       "    .dataframe tbody tr th:only-of-type {\n",
       "        vertical-align: middle;\n",
       "    }\n",
       "\n",
       "    .dataframe tbody tr th {\n",
       "        vertical-align: top;\n",
       "    }\n",
       "\n",
       "    .dataframe thead th {\n",
       "        text-align: right;\n",
       "    }\n",
       "</style>\n",
       "<table border=\"1\" class=\"dataframe\">\n",
       "  <thead>\n",
       "    <tr style=\"text-align: right;\">\n",
       "      <th></th>\n",
       "      <th>min</th>\n",
       "      <th>max</th>\n",
       "    </tr>\n",
       "    <tr>\n",
       "      <th>Gender</th>\n",
       "      <th></th>\n",
       "      <th></th>\n",
       "    </tr>\n",
       "  </thead>\n",
       "  <tbody>\n",
       "    <tr>\n",
       "      <th>Female</th>\n",
       "      <td>21</td>\n",
       "      <td>80</td>\n",
       "    </tr>\n",
       "    <tr>\n",
       "      <th>Male</th>\n",
       "      <td>19</td>\n",
       "      <td>72</td>\n",
       "    </tr>\n",
       "  </tbody>\n",
       "</table>\n",
       "</div>"
      ],
      "text/plain": [
       "        min  max\n",
       "Gender          \n",
       "Female   21   80\n",
       "Male     19   72"
      ]
     },
     "execution_count": 55,
     "metadata": {},
     "output_type": "execute_result"
    }
   ],
   "source": [
    "df.groupby('Gender')['Age'].agg([\"min\", \"max\"])"
   ]
  },
  {
   "cell_type": "code",
   "execution_count": 57,
   "id": "e315c363-75a6-4345-b12a-f7dec600062a",
   "metadata": {},
   "outputs": [
    {
     "ename": "AttributeError",
     "evalue": "'SeriesGroupBy' object has no attribute 'mode'",
     "output_type": "error",
     "traceback": [
      "\u001b[1;31m---------------------------------------------------------------------------\u001b[0m",
      "\u001b[1;31mAttributeError\u001b[0m                            Traceback (most recent call last)",
      "Cell \u001b[1;32mIn[57], line 1\u001b[0m\n\u001b[1;32m----> 1\u001b[0m \u001b[43mdf\u001b[49m\u001b[38;5;241;43m.\u001b[39;49m\u001b[43mgroupby\u001b[49m\u001b[43m(\u001b[49m\u001b[38;5;124;43m'\u001b[39;49m\u001b[38;5;124;43mGender\u001b[39;49m\u001b[38;5;124;43m'\u001b[39;49m\u001b[43m)\u001b[49m\u001b[43m[\u001b[49m\u001b[43m[\u001b[49m\u001b[38;5;124;43m'\u001b[39;49m\u001b[38;5;124;43mSalary\u001b[39;49m\u001b[38;5;124;43m'\u001b[39;49m\u001b[43m,\u001b[49m\u001b[43m \u001b[49m\u001b[38;5;124;43m'\u001b[39;49m\u001b[38;5;124;43mAge\u001b[39;49m\u001b[38;5;124;43m'\u001b[39;49m\u001b[43m]\u001b[49m\u001b[43m]\u001b[49m\u001b[38;5;241;43m.\u001b[39;49m\u001b[43magg\u001b[49m\u001b[43m(\u001b[49m\u001b[43m[\u001b[49m\u001b[38;5;124;43m\"\u001b[39;49m\u001b[38;5;124;43mmin\u001b[39;49m\u001b[38;5;124;43m\"\u001b[39;49m\u001b[43m,\u001b[49m\u001b[43m \u001b[49m\u001b[38;5;124;43m\"\u001b[39;49m\u001b[38;5;124;43mmax\u001b[39;49m\u001b[38;5;124;43m\"\u001b[39;49m\u001b[43m,\u001b[49m\u001b[43m \u001b[49m\u001b[38;5;124;43m\"\u001b[39;49m\u001b[38;5;124;43mmean\u001b[39;49m\u001b[38;5;124;43m\"\u001b[39;49m\u001b[43m,\u001b[49m\u001b[43m \u001b[49m\u001b[38;5;124;43m\"\u001b[39;49m\u001b[38;5;124;43mmode\u001b[39;49m\u001b[38;5;124;43m\"\u001b[39;49m\u001b[43m]\u001b[49m\u001b[43m)\u001b[49m\n",
      "File \u001b[1;32m~\\AppData\\Local\\Programs\\Python\\Python313\\Lib\\site-packages\\pandas\\core\\groupby\\generic.py:1432\u001b[0m, in \u001b[0;36mDataFrameGroupBy.aggregate\u001b[1;34m(self, func, engine, engine_kwargs, *args, **kwargs)\u001b[0m\n\u001b[0;32m   1429\u001b[0m     kwargs[\u001b[38;5;124m\"\u001b[39m\u001b[38;5;124mengine_kwargs\u001b[39m\u001b[38;5;124m\"\u001b[39m] \u001b[38;5;241m=\u001b[39m engine_kwargs\n\u001b[0;32m   1431\u001b[0m op \u001b[38;5;241m=\u001b[39m GroupByApply(\u001b[38;5;28mself\u001b[39m, func, args\u001b[38;5;241m=\u001b[39margs, kwargs\u001b[38;5;241m=\u001b[39mkwargs)\n\u001b[1;32m-> 1432\u001b[0m result \u001b[38;5;241m=\u001b[39m \u001b[43mop\u001b[49m\u001b[38;5;241;43m.\u001b[39;49m\u001b[43magg\u001b[49m\u001b[43m(\u001b[49m\u001b[43m)\u001b[49m\n\u001b[0;32m   1433\u001b[0m \u001b[38;5;28;01mif\u001b[39;00m \u001b[38;5;129;01mnot\u001b[39;00m is_dict_like(func) \u001b[38;5;129;01mand\u001b[39;00m result \u001b[38;5;129;01mis\u001b[39;00m \u001b[38;5;129;01mnot\u001b[39;00m \u001b[38;5;28;01mNone\u001b[39;00m:\n\u001b[0;32m   1434\u001b[0m     \u001b[38;5;66;03m# GH #52849\u001b[39;00m\n\u001b[0;32m   1435\u001b[0m     \u001b[38;5;28;01mif\u001b[39;00m \u001b[38;5;129;01mnot\u001b[39;00m \u001b[38;5;28mself\u001b[39m\u001b[38;5;241m.\u001b[39mas_index \u001b[38;5;129;01mand\u001b[39;00m is_list_like(func):\n",
      "File \u001b[1;32m~\\AppData\\Local\\Programs\\Python\\Python313\\Lib\\site-packages\\pandas\\core\\apply.py:193\u001b[0m, in \u001b[0;36mApply.agg\u001b[1;34m(self)\u001b[0m\n\u001b[0;32m    190\u001b[0m     \u001b[38;5;28;01mreturn\u001b[39;00m \u001b[38;5;28mself\u001b[39m\u001b[38;5;241m.\u001b[39magg_dict_like()\n\u001b[0;32m    191\u001b[0m \u001b[38;5;28;01melif\u001b[39;00m is_list_like(func):\n\u001b[0;32m    192\u001b[0m     \u001b[38;5;66;03m# we require a list, but not a 'str'\u001b[39;00m\n\u001b[1;32m--> 193\u001b[0m     \u001b[38;5;28;01mreturn\u001b[39;00m \u001b[38;5;28;43mself\u001b[39;49m\u001b[38;5;241;43m.\u001b[39;49m\u001b[43magg_list_like\u001b[49m\u001b[43m(\u001b[49m\u001b[43m)\u001b[49m\n\u001b[0;32m    195\u001b[0m \u001b[38;5;28;01mif\u001b[39;00m \u001b[38;5;28mcallable\u001b[39m(func):\n\u001b[0;32m    196\u001b[0m     f \u001b[38;5;241m=\u001b[39m com\u001b[38;5;241m.\u001b[39mget_cython_func(func)\n",
      "File \u001b[1;32m~\\AppData\\Local\\Programs\\Python\\Python313\\Lib\\site-packages\\pandas\\core\\apply.py:326\u001b[0m, in \u001b[0;36mApply.agg_list_like\u001b[1;34m(self)\u001b[0m\n\u001b[0;32m    318\u001b[0m \u001b[38;5;28;01mdef\u001b[39;00m \u001b[38;5;21magg_list_like\u001b[39m(\u001b[38;5;28mself\u001b[39m) \u001b[38;5;241m-\u001b[39m\u001b[38;5;241m>\u001b[39m DataFrame \u001b[38;5;241m|\u001b[39m Series:\n\u001b[0;32m    319\u001b[0m \u001b[38;5;250m    \u001b[39m\u001b[38;5;124;03m\"\"\"\u001b[39;00m\n\u001b[0;32m    320\u001b[0m \u001b[38;5;124;03m    Compute aggregation in the case of a list-like argument.\u001b[39;00m\n\u001b[0;32m    321\u001b[0m \n\u001b[1;32m   (...)\u001b[0m\n\u001b[0;32m    324\u001b[0m \u001b[38;5;124;03m    Result of aggregation.\u001b[39;00m\n\u001b[0;32m    325\u001b[0m \u001b[38;5;124;03m    \"\"\"\u001b[39;00m\n\u001b[1;32m--> 326\u001b[0m     \u001b[38;5;28;01mreturn\u001b[39;00m \u001b[38;5;28;43mself\u001b[39;49m\u001b[38;5;241;43m.\u001b[39;49m\u001b[43magg_or_apply_list_like\u001b[49m\u001b[43m(\u001b[49m\u001b[43mop_name\u001b[49m\u001b[38;5;241;43m=\u001b[39;49m\u001b[38;5;124;43m\"\u001b[39;49m\u001b[38;5;124;43magg\u001b[39;49m\u001b[38;5;124;43m\"\u001b[39;49m\u001b[43m)\u001b[49m\n",
      "File \u001b[1;32m~\\AppData\\Local\\Programs\\Python\\Python313\\Lib\\site-packages\\pandas\\core\\apply.py:1571\u001b[0m, in \u001b[0;36mGroupByApply.agg_or_apply_list_like\u001b[1;34m(self, op_name)\u001b[0m\n\u001b[0;32m   1566\u001b[0m \u001b[38;5;66;03m# Only set as_index=True on groupby objects, not Window or Resample\u001b[39;00m\n\u001b[0;32m   1567\u001b[0m \u001b[38;5;66;03m# that inherit from this class.\u001b[39;00m\n\u001b[0;32m   1568\u001b[0m \u001b[38;5;28;01mwith\u001b[39;00m com\u001b[38;5;241m.\u001b[39mtemp_setattr(\n\u001b[0;32m   1569\u001b[0m     obj, \u001b[38;5;124m\"\u001b[39m\u001b[38;5;124mas_index\u001b[39m\u001b[38;5;124m\"\u001b[39m, \u001b[38;5;28;01mTrue\u001b[39;00m, condition\u001b[38;5;241m=\u001b[39m\u001b[38;5;28mhasattr\u001b[39m(obj, \u001b[38;5;124m\"\u001b[39m\u001b[38;5;124mas_index\u001b[39m\u001b[38;5;124m\"\u001b[39m)\n\u001b[0;32m   1570\u001b[0m ):\n\u001b[1;32m-> 1571\u001b[0m     keys, results \u001b[38;5;241m=\u001b[39m \u001b[38;5;28;43mself\u001b[39;49m\u001b[38;5;241;43m.\u001b[39;49m\u001b[43mcompute_list_like\u001b[49m\u001b[43m(\u001b[49m\u001b[43mop_name\u001b[49m\u001b[43m,\u001b[49m\u001b[43m \u001b[49m\u001b[43mselected_obj\u001b[49m\u001b[43m,\u001b[49m\u001b[43m \u001b[49m\u001b[43mkwargs\u001b[49m\u001b[43m)\u001b[49m\n\u001b[0;32m   1572\u001b[0m result \u001b[38;5;241m=\u001b[39m \u001b[38;5;28mself\u001b[39m\u001b[38;5;241m.\u001b[39mwrap_results_list_like(keys, results)\n\u001b[0;32m   1573\u001b[0m \u001b[38;5;28;01mreturn\u001b[39;00m result\n",
      "File \u001b[1;32m~\\AppData\\Local\\Programs\\Python\\Python313\\Lib\\site-packages\\pandas\\core\\apply.py:385\u001b[0m, in \u001b[0;36mApply.compute_list_like\u001b[1;34m(self, op_name, selected_obj, kwargs)\u001b[0m\n\u001b[0;32m    379\u001b[0m colg \u001b[38;5;241m=\u001b[39m obj\u001b[38;5;241m.\u001b[39m_gotitem(col, ndim\u001b[38;5;241m=\u001b[39m\u001b[38;5;241m1\u001b[39m, subset\u001b[38;5;241m=\u001b[39mselected_obj\u001b[38;5;241m.\u001b[39miloc[:, index])\n\u001b[0;32m    380\u001b[0m args \u001b[38;5;241m=\u001b[39m (\n\u001b[0;32m    381\u001b[0m     [\u001b[38;5;28mself\u001b[39m\u001b[38;5;241m.\u001b[39maxis, \u001b[38;5;241m*\u001b[39m\u001b[38;5;28mself\u001b[39m\u001b[38;5;241m.\u001b[39margs]\n\u001b[0;32m    382\u001b[0m     \u001b[38;5;28;01mif\u001b[39;00m include_axis(op_name, colg)\n\u001b[0;32m    383\u001b[0m     \u001b[38;5;28;01melse\u001b[39;00m \u001b[38;5;28mself\u001b[39m\u001b[38;5;241m.\u001b[39margs\n\u001b[0;32m    384\u001b[0m )\n\u001b[1;32m--> 385\u001b[0m new_res \u001b[38;5;241m=\u001b[39m \u001b[38;5;28;43mgetattr\u001b[39;49m\u001b[43m(\u001b[49m\u001b[43mcolg\u001b[49m\u001b[43m,\u001b[49m\u001b[43m \u001b[49m\u001b[43mop_name\u001b[49m\u001b[43m)\u001b[49m\u001b[43m(\u001b[49m\u001b[43mfunc\u001b[49m\u001b[43m,\u001b[49m\u001b[43m \u001b[49m\u001b[38;5;241;43m*\u001b[39;49m\u001b[43margs\u001b[49m\u001b[43m,\u001b[49m\u001b[43m \u001b[49m\u001b[38;5;241;43m*\u001b[39;49m\u001b[38;5;241;43m*\u001b[39;49m\u001b[43mkwargs\u001b[49m\u001b[43m)\u001b[49m\n\u001b[0;32m    386\u001b[0m results\u001b[38;5;241m.\u001b[39mappend(new_res)\n\u001b[0;32m    387\u001b[0m indices\u001b[38;5;241m.\u001b[39mappend(index)\n",
      "File \u001b[1;32m~\\AppData\\Local\\Programs\\Python\\Python313\\Lib\\site-packages\\pandas\\core\\groupby\\generic.py:257\u001b[0m, in \u001b[0;36mSeriesGroupBy.aggregate\u001b[1;34m(self, func, engine, engine_kwargs, *args, **kwargs)\u001b[0m\n\u001b[0;32m    255\u001b[0m kwargs[\u001b[38;5;124m\"\u001b[39m\u001b[38;5;124mengine\u001b[39m\u001b[38;5;124m\"\u001b[39m] \u001b[38;5;241m=\u001b[39m engine\n\u001b[0;32m    256\u001b[0m kwargs[\u001b[38;5;124m\"\u001b[39m\u001b[38;5;124mengine_kwargs\u001b[39m\u001b[38;5;124m\"\u001b[39m] \u001b[38;5;241m=\u001b[39m engine_kwargs\n\u001b[1;32m--> 257\u001b[0m ret \u001b[38;5;241m=\u001b[39m \u001b[38;5;28;43mself\u001b[39;49m\u001b[38;5;241;43m.\u001b[39;49m\u001b[43m_aggregate_multiple_funcs\u001b[49m\u001b[43m(\u001b[49m\u001b[43mfunc\u001b[49m\u001b[43m,\u001b[49m\u001b[43m \u001b[49m\u001b[38;5;241;43m*\u001b[39;49m\u001b[43margs\u001b[49m\u001b[43m,\u001b[49m\u001b[43m \u001b[49m\u001b[38;5;241;43m*\u001b[39;49m\u001b[38;5;241;43m*\u001b[39;49m\u001b[43mkwargs\u001b[49m\u001b[43m)\u001b[49m\n\u001b[0;32m    258\u001b[0m \u001b[38;5;28;01mif\u001b[39;00m relabeling:\n\u001b[0;32m    259\u001b[0m     \u001b[38;5;66;03m# columns is not narrowed by mypy from relabeling flag\u001b[39;00m\n\u001b[0;32m    260\u001b[0m     \u001b[38;5;28;01massert\u001b[39;00m columns \u001b[38;5;129;01mis\u001b[39;00m \u001b[38;5;129;01mnot\u001b[39;00m \u001b[38;5;28;01mNone\u001b[39;00m  \u001b[38;5;66;03m# for mypy\u001b[39;00m\n",
      "File \u001b[1;32m~\\AppData\\Local\\Programs\\Python\\Python313\\Lib\\site-packages\\pandas\\core\\groupby\\generic.py:362\u001b[0m, in \u001b[0;36mSeriesGroupBy._aggregate_multiple_funcs\u001b[1;34m(self, arg, *args, **kwargs)\u001b[0m\n\u001b[0;32m    360\u001b[0m     \u001b[38;5;28;01mfor\u001b[39;00m idx, (name, func) \u001b[38;5;129;01min\u001b[39;00m \u001b[38;5;28menumerate\u001b[39m(arg):\n\u001b[0;32m    361\u001b[0m         key \u001b[38;5;241m=\u001b[39m base\u001b[38;5;241m.\u001b[39mOutputKey(label\u001b[38;5;241m=\u001b[39mname, position\u001b[38;5;241m=\u001b[39midx)\n\u001b[1;32m--> 362\u001b[0m         results[key] \u001b[38;5;241m=\u001b[39m \u001b[38;5;28;43mself\u001b[39;49m\u001b[38;5;241;43m.\u001b[39;49m\u001b[43maggregate\u001b[49m\u001b[43m(\u001b[49m\u001b[43mfunc\u001b[49m\u001b[43m,\u001b[49m\u001b[43m \u001b[49m\u001b[38;5;241;43m*\u001b[39;49m\u001b[43margs\u001b[49m\u001b[43m,\u001b[49m\u001b[43m \u001b[49m\u001b[38;5;241;43m*\u001b[39;49m\u001b[38;5;241;43m*\u001b[39;49m\u001b[43mkwargs\u001b[49m\u001b[43m)\u001b[49m\n\u001b[0;32m    364\u001b[0m \u001b[38;5;28;01mif\u001b[39;00m \u001b[38;5;28many\u001b[39m(\u001b[38;5;28misinstance\u001b[39m(x, DataFrame) \u001b[38;5;28;01mfor\u001b[39;00m x \u001b[38;5;129;01min\u001b[39;00m results\u001b[38;5;241m.\u001b[39mvalues()):\n\u001b[0;32m    365\u001b[0m     \u001b[38;5;28;01mfrom\u001b[39;00m \u001b[38;5;21;01mpandas\u001b[39;00m \u001b[38;5;28;01mimport\u001b[39;00m concat\n",
      "File \u001b[1;32m~\\AppData\\Local\\Programs\\Python\\Python313\\Lib\\site-packages\\pandas\\core\\groupby\\generic.py:249\u001b[0m, in \u001b[0;36mSeriesGroupBy.aggregate\u001b[1;34m(self, func, engine, engine_kwargs, *args, **kwargs)\u001b[0m\n\u001b[0;32m    247\u001b[0m     \u001b[38;5;28;01mif\u001b[39;00m engine_kwargs \u001b[38;5;129;01mis\u001b[39;00m \u001b[38;5;129;01mnot\u001b[39;00m \u001b[38;5;28;01mNone\u001b[39;00m:\n\u001b[0;32m    248\u001b[0m         kwargs[\u001b[38;5;124m\"\u001b[39m\u001b[38;5;124mengine_kwargs\u001b[39m\u001b[38;5;124m\"\u001b[39m] \u001b[38;5;241m=\u001b[39m engine_kwargs\n\u001b[1;32m--> 249\u001b[0m     \u001b[38;5;28;01mreturn\u001b[39;00m \u001b[38;5;28;43mgetattr\u001b[39;49m\u001b[43m(\u001b[49m\u001b[38;5;28;43mself\u001b[39;49m\u001b[43m,\u001b[49m\u001b[43m \u001b[49m\u001b[43mfunc\u001b[49m\u001b[43m)\u001b[49m(\u001b[38;5;241m*\u001b[39margs, \u001b[38;5;241m*\u001b[39m\u001b[38;5;241m*\u001b[39mkwargs)\n\u001b[0;32m    251\u001b[0m \u001b[38;5;28;01melif\u001b[39;00m \u001b[38;5;28misinstance\u001b[39m(func, abc\u001b[38;5;241m.\u001b[39mIterable):\n\u001b[0;32m    252\u001b[0m     \u001b[38;5;66;03m# Catch instances of lists / tuples\u001b[39;00m\n\u001b[0;32m    253\u001b[0m     \u001b[38;5;66;03m# but not the class list / tuple itself.\u001b[39;00m\n\u001b[0;32m    254\u001b[0m     func \u001b[38;5;241m=\u001b[39m maybe_mangle_lambdas(func)\n",
      "File \u001b[1;32m~\\AppData\\Local\\Programs\\Python\\Python313\\Lib\\site-packages\\pandas\\core\\groupby\\groupby.py:1363\u001b[0m, in \u001b[0;36mGroupBy.__getattr__\u001b[1;34m(self, attr)\u001b[0m\n\u001b[0;32m   1360\u001b[0m \u001b[38;5;28;01mif\u001b[39;00m attr \u001b[38;5;129;01min\u001b[39;00m \u001b[38;5;28mself\u001b[39m\u001b[38;5;241m.\u001b[39mobj:\n\u001b[0;32m   1361\u001b[0m     \u001b[38;5;28;01mreturn\u001b[39;00m \u001b[38;5;28mself\u001b[39m[attr]\n\u001b[1;32m-> 1363\u001b[0m \u001b[38;5;28;01mraise\u001b[39;00m \u001b[38;5;167;01mAttributeError\u001b[39;00m(\n\u001b[0;32m   1364\u001b[0m     \u001b[38;5;124mf\u001b[39m\u001b[38;5;124m\"\u001b[39m\u001b[38;5;124m'\u001b[39m\u001b[38;5;132;01m{\u001b[39;00m\u001b[38;5;28mtype\u001b[39m(\u001b[38;5;28mself\u001b[39m)\u001b[38;5;241m.\u001b[39m\u001b[38;5;18m__name__\u001b[39m\u001b[38;5;132;01m}\u001b[39;00m\u001b[38;5;124m'\u001b[39m\u001b[38;5;124m object has no attribute \u001b[39m\u001b[38;5;124m'\u001b[39m\u001b[38;5;132;01m{\u001b[39;00mattr\u001b[38;5;132;01m}\u001b[39;00m\u001b[38;5;124m'\u001b[39m\u001b[38;5;124m\"\u001b[39m\n\u001b[0;32m   1365\u001b[0m )\n",
      "\u001b[1;31mAttributeError\u001b[0m: 'SeriesGroupBy' object has no attribute 'mode'"
     ]
    }
   ],
   "source": [
    "df.groupby('Gender')[['Salary', 'Age']].agg([\"min\", \"max\", \"mean\", \"mode\"])"
   ]
  },
  {
   "cell_type": "code",
   "execution_count": 58,
   "id": "76c336c8-50fc-4c1a-9c92-73ecc97a9f2a",
   "metadata": {},
   "outputs": [
    {
     "data": {
      "text/html": [
       "<div>\n",
       "<style scoped>\n",
       "    .dataframe tbody tr th:only-of-type {\n",
       "        vertical-align: middle;\n",
       "    }\n",
       "\n",
       "    .dataframe tbody tr th {\n",
       "        vertical-align: top;\n",
       "    }\n",
       "\n",
       "    .dataframe thead tr th {\n",
       "        text-align: left;\n",
       "    }\n",
       "\n",
       "    .dataframe thead tr:last-of-type th {\n",
       "        text-align: right;\n",
       "    }\n",
       "</style>\n",
       "<table border=\"1\" class=\"dataframe\">\n",
       "  <thead>\n",
       "    <tr>\n",
       "      <th></th>\n",
       "      <th colspan=\"3\" halign=\"left\">Salary</th>\n",
       "      <th colspan=\"3\" halign=\"left\">Age</th>\n",
       "    </tr>\n",
       "    <tr>\n",
       "      <th></th>\n",
       "      <th>min</th>\n",
       "      <th>max</th>\n",
       "      <th>mean</th>\n",
       "      <th>min</th>\n",
       "      <th>max</th>\n",
       "      <th>mean</th>\n",
       "    </tr>\n",
       "    <tr>\n",
       "      <th>Gender</th>\n",
       "      <th></th>\n",
       "      <th></th>\n",
       "      <th></th>\n",
       "      <th></th>\n",
       "      <th></th>\n",
       "      <th></th>\n",
       "    </tr>\n",
       "  </thead>\n",
       "  <tbody>\n",
       "    <tr>\n",
       "      <th>Female</th>\n",
       "      <td>1643.11</td>\n",
       "      <td>199725.39</td>\n",
       "      <td>106519.163398</td>\n",
       "      <td>21</td>\n",
       "      <td>80</td>\n",
       "      <td>38.883495</td>\n",
       "    </tr>\n",
       "    <tr>\n",
       "      <th>Male</th>\n",
       "      <td>371.05</td>\n",
       "      <td>199645.45</td>\n",
       "      <td>101212.290324</td>\n",
       "      <td>19</td>\n",
       "      <td>72</td>\n",
       "      <td>37.773279</td>\n",
       "    </tr>\n",
       "  </tbody>\n",
       "</table>\n",
       "</div>"
      ],
      "text/plain": [
       "         Salary                           Age               \n",
       "            min        max           mean min max       mean\n",
       "Gender                                                      \n",
       "Female  1643.11  199725.39  106519.163398  21  80  38.883495\n",
       "Male     371.05  199645.45  101212.290324  19  72  37.773279"
      ]
     },
     "execution_count": 58,
     "metadata": {},
     "output_type": "execute_result"
    }
   ],
   "source": [
    "\n",
    "df.groupby('Gender')[['Salary', 'Age']].agg([\"min\", \"max\", \"mean\"])\n"
   ]
  },
  {
   "cell_type": "code",
   "execution_count": 59,
   "id": "3aeb43d2-ad76-4735-80cc-f5ec082615a5",
   "metadata": {},
   "outputs": [
    {
     "data": {
      "text/html": [
       "<div>\n",
       "<style scoped>\n",
       "    .dataframe tbody tr th:only-of-type {\n",
       "        vertical-align: middle;\n",
       "    }\n",
       "\n",
       "    .dataframe tbody tr th {\n",
       "        vertical-align: top;\n",
       "    }\n",
       "\n",
       "    .dataframe thead th {\n",
       "        text-align: right;\n",
       "    }\n",
       "</style>\n",
       "<table border=\"1\" class=\"dataframe\">\n",
       "  <thead>\n",
       "    <tr style=\"text-align: right;\">\n",
       "      <th></th>\n",
       "      <th>CustomerId</th>\n",
       "      <th>Name</th>\n",
       "      <th>CreditScore</th>\n",
       "      <th>Country</th>\n",
       "      <th>Gender</th>\n",
       "      <th>Age</th>\n",
       "      <th>Tenure</th>\n",
       "      <th>Balance</th>\n",
       "      <th>NumOfProducts</th>\n",
       "      <th>Salary</th>\n",
       "      <th>Date</th>\n",
       "      <th>rank</th>\n",
       "    </tr>\n",
       "  </thead>\n",
       "  <tbody>\n",
       "    <tr>\n",
       "      <th>0</th>\n",
       "      <td>15634602</td>\n",
       "      <td>Hargrave</td>\n",
       "      <td>619</td>\n",
       "      <td>France</td>\n",
       "      <td>Female</td>\n",
       "      <td>42</td>\n",
       "      <td>2</td>\n",
       "      <td>0.00</td>\n",
       "      <td>1</td>\n",
       "      <td>101348.88</td>\n",
       "      <td>2023-01-01</td>\n",
       "      <td>220.5</td>\n",
       "    </tr>\n",
       "    <tr>\n",
       "      <th>1</th>\n",
       "      <td>15634602</td>\n",
       "      <td>Hargrave</td>\n",
       "      <td>619</td>\n",
       "      <td>France</td>\n",
       "      <td>Female</td>\n",
       "      <td>42</td>\n",
       "      <td>2</td>\n",
       "      <td>0.00</td>\n",
       "      <td>1</td>\n",
       "      <td>101348.88</td>\n",
       "      <td>2023-01-02</td>\n",
       "      <td>220.5</td>\n",
       "    </tr>\n",
       "    <tr>\n",
       "      <th>2</th>\n",
       "      <td>15634602</td>\n",
       "      <td>Onio</td>\n",
       "      <td>502</td>\n",
       "      <td>France</td>\n",
       "      <td>Female</td>\n",
       "      <td>42</td>\n",
       "      <td>8</td>\n",
       "      <td>159660.80</td>\n",
       "      <td>3</td>\n",
       "      <td>112542.58</td>\n",
       "      <td>2023-01-03</td>\n",
       "      <td>244.5</td>\n",
       "    </tr>\n",
       "    <tr>\n",
       "      <th>3</th>\n",
       "      <td>15634602</td>\n",
       "      <td>Onio</td>\n",
       "      <td>502</td>\n",
       "      <td>France</td>\n",
       "      <td>Female</td>\n",
       "      <td>42</td>\n",
       "      <td>8</td>\n",
       "      <td>159660.80</td>\n",
       "      <td>3</td>\n",
       "      <td>112542.58</td>\n",
       "      <td>2023-01-04</td>\n",
       "      <td>244.5</td>\n",
       "    </tr>\n",
       "    <tr>\n",
       "      <th>4</th>\n",
       "      <td>15737888</td>\n",
       "      <td>Mitchell</td>\n",
       "      <td>850</td>\n",
       "      <td>Spain</td>\n",
       "      <td>Female</td>\n",
       "      <td>43</td>\n",
       "      <td>2</td>\n",
       "      <td>125510.82</td>\n",
       "      <td>1</td>\n",
       "      <td>79084.10</td>\n",
       "      <td>2023-01-05</td>\n",
       "      <td>162.0</td>\n",
       "    </tr>\n",
       "    <tr>\n",
       "      <th>...</th>\n",
       "      <td>...</td>\n",
       "      <td>...</td>\n",
       "      <td>...</td>\n",
       "      <td>...</td>\n",
       "      <td>...</td>\n",
       "      <td>...</td>\n",
       "      <td>...</td>\n",
       "      <td>...</td>\n",
       "      <td>...</td>\n",
       "      <td>...</td>\n",
       "      <td>...</td>\n",
       "      <td>...</td>\n",
       "    </tr>\n",
       "    <tr>\n",
       "      <th>448</th>\n",
       "      <td>15694860</td>\n",
       "      <td>Uspensky</td>\n",
       "      <td>675</td>\n",
       "      <td>France</td>\n",
       "      <td>Female</td>\n",
       "      <td>38</td>\n",
       "      <td>6</td>\n",
       "      <td>68065.80</td>\n",
       "      <td>1</td>\n",
       "      <td>138777.00</td>\n",
       "      <td>2025-01-31</td>\n",
       "      <td>307.0</td>\n",
       "    </tr>\n",
       "    <tr>\n",
       "      <th>449</th>\n",
       "      <td>15658169</td>\n",
       "      <td>Cook</td>\n",
       "      <td>778</td>\n",
       "      <td>Spain</td>\n",
       "      <td>Female</td>\n",
       "      <td>47</td>\n",
       "      <td>6</td>\n",
       "      <td>127299.34</td>\n",
       "      <td>2</td>\n",
       "      <td>124694.99</td>\n",
       "      <td>2025-01-31</td>\n",
       "      <td>277.0</td>\n",
       "    </tr>\n",
       "    <tr>\n",
       "      <th>450</th>\n",
       "      <td>15794396</td>\n",
       "      <td>Newbold</td>\n",
       "      <td>494</td>\n",
       "      <td>Germany</td>\n",
       "      <td>Female</td>\n",
       "      <td>38</td>\n",
       "      <td>7</td>\n",
       "      <td>174937.64</td>\n",
       "      <td>1</td>\n",
       "      <td>40084.32</td>\n",
       "      <td>2025-01-31</td>\n",
       "      <td>84.0</td>\n",
       "    </tr>\n",
       "    <tr>\n",
       "      <th>451</th>\n",
       "      <td>15785798</td>\n",
       "      <td>Uchechukwu</td>\n",
       "      <td>850</td>\n",
       "      <td>France</td>\n",
       "      <td>Male</td>\n",
       "      <td>40</td>\n",
       "      <td>9</td>\n",
       "      <td>0.00</td>\n",
       "      <td>2</td>\n",
       "      <td>119232.33</td>\n",
       "      <td>2025-01-31</td>\n",
       "      <td>260.0</td>\n",
       "    </tr>\n",
       "    <tr>\n",
       "      <th>452</th>\n",
       "      <td>15710825</td>\n",
       "      <td>Ch'en</td>\n",
       "      <td>592</td>\n",
       "      <td>Spain</td>\n",
       "      <td>Male</td>\n",
       "      <td>31</td>\n",
       "      <td>7</td>\n",
       "      <td>110071.10</td>\n",
       "      <td>1</td>\n",
       "      <td>43921.36</td>\n",
       "      <td>2025-01-31</td>\n",
       "      <td>92.0</td>\n",
       "    </tr>\n",
       "  </tbody>\n",
       "</table>\n",
       "<p>453 rows × 12 columns</p>\n",
       "</div>"
      ],
      "text/plain": [
       "     CustomerId        Name  CreditScore  Country  Gender  Age  Tenure  \\\n",
       "0      15634602    Hargrave          619   France  Female   42       2   \n",
       "1      15634602    Hargrave          619   France  Female   42       2   \n",
       "2      15634602        Onio          502   France  Female   42       8   \n",
       "3      15634602        Onio          502   France  Female   42       8   \n",
       "4      15737888    Mitchell          850    Spain  Female   43       2   \n",
       "..          ...         ...          ...      ...     ...  ...     ...   \n",
       "448    15694860    Uspensky          675   France  Female   38       6   \n",
       "449    15658169        Cook          778    Spain  Female   47       6   \n",
       "450    15794396     Newbold          494  Germany  Female   38       7   \n",
       "451    15785798  Uchechukwu          850   France    Male   40       9   \n",
       "452    15710825       Ch'en          592    Spain    Male   31       7   \n",
       "\n",
       "       Balance  NumOfProducts     Salary       Date   rank  \n",
       "0         0.00              1  101348.88 2023-01-01  220.5  \n",
       "1         0.00              1  101348.88 2023-01-02  220.5  \n",
       "2    159660.80              3  112542.58 2023-01-03  244.5  \n",
       "3    159660.80              3  112542.58 2023-01-04  244.5  \n",
       "4    125510.82              1   79084.10 2023-01-05  162.0  \n",
       "..         ...            ...        ...        ...    ...  \n",
       "448   68065.80              1  138777.00 2025-01-31  307.0  \n",
       "449  127299.34              2  124694.99 2025-01-31  277.0  \n",
       "450  174937.64              1   40084.32 2025-01-31   84.0  \n",
       "451       0.00              2  119232.33 2025-01-31  260.0  \n",
       "452  110071.10              1   43921.36 2025-01-31   92.0  \n",
       "\n",
       "[453 rows x 12 columns]"
      ]
     },
     "execution_count": 59,
     "metadata": {},
     "output_type": "execute_result"
    }
   ],
   "source": [
    "df.groupby('Gender').filter(lambda x: x['Salary'].mean() > 100000)"
   ]
  },
  {
   "cell_type": "code",
   "execution_count": 60,
   "id": "157199ba-2225-43d1-985a-a9eee8a9fef8",
   "metadata": {},
   "outputs": [
    {
     "data": {
      "text/plain": [
       "0      101348.88\n",
       "1      101348.88\n",
       "2      112542.58\n",
       "3      112542.58\n",
       "4       79084.10\n",
       "         ...    \n",
       "448    138777.00\n",
       "449    124694.99\n",
       "450     40084.32\n",
       "451    119232.33\n",
       "452     43921.36\n",
       "Name: Salary, Length: 453, dtype: float64"
      ]
     },
     "execution_count": 60,
     "metadata": {},
     "output_type": "execute_result"
    }
   ],
   "source": [
    "df.groupby('Gender')['Salary'].filter(lambda x: x.max()-x.min())"
   ]
  },
  {
   "cell_type": "code",
   "execution_count": 2,
   "id": "2ac82084-ec1d-4ddc-a536-28e42d8f4ffa",
   "metadata": {},
   "outputs": [
    {
     "name": "stdout",
     "output_type": "stream",
     "text": [
      "     CustomerId        Name  CreditScore  Country  Gender  Age  Tenure  \\\n",
      "0      15634602    Hargrave          619   France  Female   42       2   \n",
      "1      15634602    Hargrave          619   France  Female   42       2   \n",
      "2      15634602        Onio          502   France  Female   42       8   \n",
      "3      15634602        Onio          502   France  Female   42       8   \n",
      "4      15737888    Mitchell          850    Spain  Female   43       2   \n",
      "..          ...         ...          ...      ...     ...  ...     ...   \n",
      "448    15694860    Uspensky          675   France  Female   38       6   \n",
      "449    15658169        Cook          778    Spain  Female   47       6   \n",
      "450    15794396     Newbold          494  Germany  Female   38       7   \n",
      "451    15785798  Uchechukwu          850   France    Male   40       9   \n",
      "452    15710825       Ch'en          592    Spain    Male   31       7   \n",
      "\n",
      "       Balance  NumOfProducts     Salary       Date  \n",
      "0         0.00              1  101348.88 2023-01-01  \n",
      "1         0.00              1  101348.88 2023-01-02  \n",
      "2    159660.80              3  112542.58 2023-01-03  \n",
      "3    159660.80              3  112542.58 2023-01-04  \n",
      "4    125510.82              1   79084.10 2023-01-05  \n",
      "..         ...            ...        ...        ...  \n",
      "448   68065.80              1  138777.00 2025-01-31  \n",
      "449  127299.34              2  124694.99 2025-01-31  \n",
      "450  174937.64              1   40084.32 2025-01-31  \n",
      "451       0.00              2  119232.33 2025-01-31  \n",
      "452  110071.10              1   43921.36 2025-01-31  \n",
      "\n",
      "[453 rows x 11 columns]\n"
     ]
    }
   ],
   "source": [
    "import pandas as pd\n",
    "file_path = \"C:/Users/Sivaraman/desktop/study/data analytics/Data (for practice)/bank_details_withdate.xlsx\"\n",
    "df = pd.read_excel(file_path)\n",
    "print(df)"
   ]
  },
  {
   "cell_type": "code",
   "execution_count": 4,
   "id": "1d493828-423b-46c8-a372-9e97b45341f8",
   "metadata": {},
   "outputs": [
    {
     "data": {
      "text/plain": [
       "Country  Gender\n",
       "France   Female    106223.828851\n",
       "         Male       93666.204554\n",
       "Germany  Female    114906.375667\n",
       "         Male      104868.331831\n",
       "Spain    Female     98425.288305\n",
       "         Male      110362.019375\n",
       "Name: Salary, dtype: float64"
      ]
     },
     "execution_count": 4,
     "metadata": {},
     "output_type": "execute_result"
    }
   ],
   "source": [
    "df.groupby(['Country', 'Gender'])['Salary'].mean()"
   ]
  },
  {
   "cell_type": "code",
   "execution_count": 8,
   "id": "79f2c83e-d8b9-4046-bb1a-fa1b835ed441",
   "metadata": {},
   "outputs": [
    {
     "data": {
      "text/plain": [
       "Gender  Country  Age  Tenure  CreditScore\n",
       "Female  France   21   1       735             22388.00\n",
       "                      8       675             18203.00\n",
       "                      10      544              9262.77\n",
       "                 22   8       799            192633.85\n",
       "                 24   6       726             54724.03\n",
       "                                               ...    \n",
       "Male    Spain    50   5       516            146145.93\n",
       "                 52   2       793            159123.82\n",
       "                      8       751            179291.85\n",
       "                 56   8       684             99398.36\n",
       "                 62   2       730            186489.95\n",
       "Name: Salary, Length: 443, dtype: float64"
      ]
     },
     "execution_count": 8,
     "metadata": {},
     "output_type": "execute_result"
    }
   ],
   "source": [
    "df.groupby(['Gender','Country','Age','Tenure','CreditScore'])['Salary'].mean()"
   ]
  },
  {
   "cell_type": "code",
   "execution_count": 9,
   "id": "693ff4e0-ae59-4d9f-8726-4df461caac2e",
   "metadata": {},
   "outputs": [],
   "source": [
    "df['Avg_sal_per_gen'] = df.groupby('Gender')['Salary'].transform('mean')"
   ]
  },
  {
   "cell_type": "code",
   "execution_count": 10,
   "id": "a8d485ed-c7e0-455d-b1b3-b5d8857a47ba",
   "metadata": {},
   "outputs": [
    {
     "name": "stdout",
     "output_type": "stream",
     "text": [
      "     CustomerId        Name  CreditScore  Country  Gender  Age  Tenure  \\\n",
      "0      15634602    Hargrave          619   France  Female   42       2   \n",
      "1      15634602    Hargrave          619   France  Female   42       2   \n",
      "2      15634602        Onio          502   France  Female   42       8   \n",
      "3      15634602        Onio          502   France  Female   42       8   \n",
      "4      15737888    Mitchell          850    Spain  Female   43       2   \n",
      "..          ...         ...          ...      ...     ...  ...     ...   \n",
      "448    15694860    Uspensky          675   France  Female   38       6   \n",
      "449    15658169        Cook          778    Spain  Female   47       6   \n",
      "450    15794396     Newbold          494  Germany  Female   38       7   \n",
      "451    15785798  Uchechukwu          850   France    Male   40       9   \n",
      "452    15710825       Ch'en          592    Spain    Male   31       7   \n",
      "\n",
      "       Balance  NumOfProducts     Salary       Date  Avg_sal_per_gen  \n",
      "0         0.00              1  101348.88 2023-01-01    106519.163398  \n",
      "1         0.00              1  101348.88 2023-01-02    106519.163398  \n",
      "2    159660.80              3  112542.58 2023-01-03    106519.163398  \n",
      "3    159660.80              3  112542.58 2023-01-04    106519.163398  \n",
      "4    125510.82              1   79084.10 2023-01-05    106519.163398  \n",
      "..         ...            ...        ...        ...              ...  \n",
      "448   68065.80              1  138777.00 2025-01-31    106519.163398  \n",
      "449  127299.34              2  124694.99 2025-01-31    106519.163398  \n",
      "450  174937.64              1   40084.32 2025-01-31    106519.163398  \n",
      "451       0.00              2  119232.33 2025-01-31    101212.290324  \n",
      "452  110071.10              1   43921.36 2025-01-31    101212.290324  \n",
      "\n",
      "[453 rows x 12 columns]\n"
     ]
    }
   ],
   "source": [
    "print(df)"
   ]
  },
  {
   "cell_type": "code",
   "execution_count": 14,
   "id": "d591360d-7dfc-477a-85b6-1ce55f3e7a0b",
   "metadata": {},
   "outputs": [],
   "source": [
    "df = df['Avg_sal_per_gen'].drop"
   ]
  },
  {
   "cell_type": "raw",
   "id": "fb36e531-da61-41b8-a4a4-4a453c224cc2",
   "metadata": {},
   "source": [
    "print(df)"
   ]
  },
  {
   "cell_type": "code",
   "execution_count": 15,
   "id": "86930d39-c473-4e5d-b4f8-913e53a65469",
   "metadata": {},
   "outputs": [
    {
     "name": "stdout",
     "output_type": "stream",
     "text": [
      "<bound method Series.drop of 0      106519.163398\n",
      "1      106519.163398\n",
      "2      106519.163398\n",
      "3      106519.163398\n",
      "4      106519.163398\n",
      "           ...      \n",
      "448    106519.163398\n",
      "449    106519.163398\n",
      "450    106519.163398\n",
      "451    101212.290324\n",
      "452    101212.290324\n",
      "Name: Avg_sal_per_gen, Length: 453, dtype: float64>\n"
     ]
    }
   ],
   "source": [
    "print(df)"
   ]
  },
  {
   "cell_type": "code",
   "execution_count": 16,
   "id": "12243f64-57d3-4772-b263-1dfdde244692",
   "metadata": {},
   "outputs": [
    {
     "name": "stdout",
     "output_type": "stream",
     "text": [
      "<bound method Series.drop of 0      106519.163398\n",
      "1      106519.163398\n",
      "2      106519.163398\n",
      "3      106519.163398\n",
      "4      106519.163398\n",
      "           ...      \n",
      "448    106519.163398\n",
      "449    106519.163398\n",
      "450    106519.163398\n",
      "451    101212.290324\n",
      "452    101212.290324\n",
      "Name: Avg_sal_per_gen, Length: 453, dtype: float64>\n"
     ]
    }
   ],
   "source": [
    "print(df)"
   ]
  },
  {
   "cell_type": "code",
   "execution_count": 17,
   "id": "28b6b2cf-565d-4da0-b34e-fb3f61b2171e",
   "metadata": {},
   "outputs": [
    {
     "name": "stdout",
     "output_type": "stream",
     "text": [
      "     CustomerId        Name  CreditScore  Country  Gender  Age  Tenure  \\\n",
      "0      15634602    Hargrave          619   France  Female   42       2   \n",
      "1      15634602    Hargrave          619   France  Female   42       2   \n",
      "2      15634602        Onio          502   France  Female   42       8   \n",
      "3      15634602        Onio          502   France  Female   42       8   \n",
      "4      15737888    Mitchell          850    Spain  Female   43       2   \n",
      "..          ...         ...          ...      ...     ...  ...     ...   \n",
      "448    15694860    Uspensky          675   France  Female   38       6   \n",
      "449    15658169        Cook          778    Spain  Female   47       6   \n",
      "450    15794396     Newbold          494  Germany  Female   38       7   \n",
      "451    15785798  Uchechukwu          850   France    Male   40       9   \n",
      "452    15710825       Ch'en          592    Spain    Male   31       7   \n",
      "\n",
      "       Balance  NumOfProducts     Salary       Date  \n",
      "0         0.00              1  101348.88 2023-01-01  \n",
      "1         0.00              1  101348.88 2023-01-02  \n",
      "2    159660.80              3  112542.58 2023-01-03  \n",
      "3    159660.80              3  112542.58 2023-01-04  \n",
      "4    125510.82              1   79084.10 2023-01-05  \n",
      "..         ...            ...        ...        ...  \n",
      "448   68065.80              1  138777.00 2025-01-31  \n",
      "449  127299.34              2  124694.99 2025-01-31  \n",
      "450  174937.64              1   40084.32 2025-01-31  \n",
      "451       0.00              2  119232.33 2025-01-31  \n",
      "452  110071.10              1   43921.36 2025-01-31  \n",
      "\n",
      "[453 rows x 11 columns]\n"
     ]
    }
   ],
   "source": [
    "import pandas as pd\n",
    "file_path = \"C:/Users/Sivaraman/desktop/study/data analytics/Data (for practice)/bank_details_withdate.xlsx\"\n",
    "df = pd.read_excel(file_path)\n",
    "print(df)"
   ]
  },
  {
   "cell_type": "code",
   "execution_count": 18,
   "id": "5ce44d8f-6979-4ccf-a967-a269bdf1e77b",
   "metadata": {},
   "outputs": [],
   "source": [
    "df['Avg_sal_per_gen'] = df.groupby('Gender')['Salary'].transform('mean')"
   ]
  },
  {
   "cell_type": "code",
   "execution_count": 19,
   "id": "ed09af0f-9fbe-4670-9acd-67a4f232bee1",
   "metadata": {},
   "outputs": [
    {
     "name": "stdout",
     "output_type": "stream",
     "text": [
      "     CustomerId        Name  CreditScore  Country  Gender  Age  Tenure  \\\n",
      "0      15634602    Hargrave          619   France  Female   42       2   \n",
      "1      15634602    Hargrave          619   France  Female   42       2   \n",
      "2      15634602        Onio          502   France  Female   42       8   \n",
      "3      15634602        Onio          502   France  Female   42       8   \n",
      "4      15737888    Mitchell          850    Spain  Female   43       2   \n",
      "..          ...         ...          ...      ...     ...  ...     ...   \n",
      "448    15694860    Uspensky          675   France  Female   38       6   \n",
      "449    15658169        Cook          778    Spain  Female   47       6   \n",
      "450    15794396     Newbold          494  Germany  Female   38       7   \n",
      "451    15785798  Uchechukwu          850   France    Male   40       9   \n",
      "452    15710825       Ch'en          592    Spain    Male   31       7   \n",
      "\n",
      "       Balance  NumOfProducts     Salary       Date  Avg_sal_per_gen  \n",
      "0         0.00              1  101348.88 2023-01-01    106519.163398  \n",
      "1         0.00              1  101348.88 2023-01-02    106519.163398  \n",
      "2    159660.80              3  112542.58 2023-01-03    106519.163398  \n",
      "3    159660.80              3  112542.58 2023-01-04    106519.163398  \n",
      "4    125510.82              1   79084.10 2023-01-05    106519.163398  \n",
      "..         ...            ...        ...        ...              ...  \n",
      "448   68065.80              1  138777.00 2025-01-31    106519.163398  \n",
      "449  127299.34              2  124694.99 2025-01-31    106519.163398  \n",
      "450  174937.64              1   40084.32 2025-01-31    106519.163398  \n",
      "451       0.00              2  119232.33 2025-01-31    101212.290324  \n",
      "452  110071.10              1   43921.36 2025-01-31    101212.290324  \n",
      "\n",
      "[453 rows x 12 columns]\n"
     ]
    }
   ],
   "source": [
    "print(df)"
   ]
  },
  {
   "cell_type": "code",
   "execution_count": 22,
   "id": "d3064f7c-c2ee-4d51-b25d-25a2cd267f74",
   "metadata": {},
   "outputs": [],
   "source": [
    "df.drop('Avg_sal_per_gen', axis = 1, inplace = True)"
   ]
  },
  {
   "cell_type": "code",
   "execution_count": 23,
   "id": "7f1ac2b8-8bc8-41d4-8e88-2f3e8c101f40",
   "metadata": {},
   "outputs": [
    {
     "name": "stdout",
     "output_type": "stream",
     "text": [
      "     CustomerId        Name  CreditScore  Country  Gender  Age  Tenure  \\\n",
      "0      15634602    Hargrave          619   France  Female   42       2   \n",
      "1      15634602    Hargrave          619   France  Female   42       2   \n",
      "2      15634602        Onio          502   France  Female   42       8   \n",
      "3      15634602        Onio          502   France  Female   42       8   \n",
      "4      15737888    Mitchell          850    Spain  Female   43       2   \n",
      "..          ...         ...          ...      ...     ...  ...     ...   \n",
      "448    15694860    Uspensky          675   France  Female   38       6   \n",
      "449    15658169        Cook          778    Spain  Female   47       6   \n",
      "450    15794396     Newbold          494  Germany  Female   38       7   \n",
      "451    15785798  Uchechukwu          850   France    Male   40       9   \n",
      "452    15710825       Ch'en          592    Spain    Male   31       7   \n",
      "\n",
      "       Balance  NumOfProducts     Salary       Date  \n",
      "0         0.00              1  101348.88 2023-01-01  \n",
      "1         0.00              1  101348.88 2023-01-02  \n",
      "2    159660.80              3  112542.58 2023-01-03  \n",
      "3    159660.80              3  112542.58 2023-01-04  \n",
      "4    125510.82              1   79084.10 2023-01-05  \n",
      "..         ...            ...        ...        ...  \n",
      "448   68065.80              1  138777.00 2025-01-31  \n",
      "449  127299.34              2  124694.99 2025-01-31  \n",
      "450  174937.64              1   40084.32 2025-01-31  \n",
      "451       0.00              2  119232.33 2025-01-31  \n",
      "452  110071.10              1   43921.36 2025-01-31  \n",
      "\n",
      "[453 rows x 11 columns]\n"
     ]
    }
   ],
   "source": [
    "print(df)"
   ]
  },
  {
   "cell_type": "code",
   "execution_count": 26,
   "id": "6a860ad3-cf29-484f-a736-269793049c65",
   "metadata": {},
   "outputs": [],
   "source": [
    "df['avg_per_gen'] = df.groupby('Gender')['Salary'].transform('mean')"
   ]
  },
  {
   "cell_type": "code",
   "execution_count": 25,
   "id": "15385b3b-bf04-4f26-90f3-a83535b02707",
   "metadata": {},
   "outputs": [
    {
     "name": "stdout",
     "output_type": "stream",
     "text": [
      "     CustomerId        Name  CreditScore  Country  Gender  Age  Tenure  \\\n",
      "0      15634602    Hargrave          619   France  Female   42       2   \n",
      "1      15634602    Hargrave          619   France  Female   42       2   \n",
      "2      15634602        Onio          502   France  Female   42       8   \n",
      "3      15634602        Onio          502   France  Female   42       8   \n",
      "4      15737888    Mitchell          850    Spain  Female   43       2   \n",
      "..          ...         ...          ...      ...     ...  ...     ...   \n",
      "448    15694860    Uspensky          675   France  Female   38       6   \n",
      "449    15658169        Cook          778    Spain  Female   47       6   \n",
      "450    15794396     Newbold          494  Germany  Female   38       7   \n",
      "451    15785798  Uchechukwu          850   France    Male   40       9   \n",
      "452    15710825       Ch'en          592    Spain    Male   31       7   \n",
      "\n",
      "       Balance  NumOfProducts     Salary       Date  \n",
      "0         0.00              1  101348.88 2023-01-01  \n",
      "1         0.00              1  101348.88 2023-01-02  \n",
      "2    159660.80              3  112542.58 2023-01-03  \n",
      "3    159660.80              3  112542.58 2023-01-04  \n",
      "4    125510.82              1   79084.10 2023-01-05  \n",
      "..         ...            ...        ...        ...  \n",
      "448   68065.80              1  138777.00 2025-01-31  \n",
      "449  127299.34              2  124694.99 2025-01-31  \n",
      "450  174937.64              1   40084.32 2025-01-31  \n",
      "451       0.00              2  119232.33 2025-01-31  \n",
      "452  110071.10              1   43921.36 2025-01-31  \n",
      "\n",
      "[453 rows x 11 columns]\n"
     ]
    }
   ],
   "source": [
    "print(df)"
   ]
  },
  {
   "cell_type": "code",
   "execution_count": 27,
   "id": "17450987-aa2a-459c-be2d-d3bea8d886fb",
   "metadata": {},
   "outputs": [],
   "source": [
    "df['avg_per_gen'] = df.groupby('Gender')['Salary'].transform('mean')"
   ]
  },
  {
   "cell_type": "code",
   "execution_count": 28,
   "id": "76da54c0-d788-4e6e-9e36-794cf3475893",
   "metadata": {},
   "outputs": [
    {
     "name": "stdout",
     "output_type": "stream",
     "text": [
      "     CustomerId        Name  CreditScore  Country  Gender  Age  Tenure  \\\n",
      "0      15634602    Hargrave          619   France  Female   42       2   \n",
      "1      15634602    Hargrave          619   France  Female   42       2   \n",
      "2      15634602        Onio          502   France  Female   42       8   \n",
      "3      15634602        Onio          502   France  Female   42       8   \n",
      "4      15737888    Mitchell          850    Spain  Female   43       2   \n",
      "..          ...         ...          ...      ...     ...  ...     ...   \n",
      "448    15694860    Uspensky          675   France  Female   38       6   \n",
      "449    15658169        Cook          778    Spain  Female   47       6   \n",
      "450    15794396     Newbold          494  Germany  Female   38       7   \n",
      "451    15785798  Uchechukwu          850   France    Male   40       9   \n",
      "452    15710825       Ch'en          592    Spain    Male   31       7   \n",
      "\n",
      "       Balance  NumOfProducts     Salary       Date    avg_per_gen  \n",
      "0         0.00              1  101348.88 2023-01-01  106519.163398  \n",
      "1         0.00              1  101348.88 2023-01-02  106519.163398  \n",
      "2    159660.80              3  112542.58 2023-01-03  106519.163398  \n",
      "3    159660.80              3  112542.58 2023-01-04  106519.163398  \n",
      "4    125510.82              1   79084.10 2023-01-05  106519.163398  \n",
      "..         ...            ...        ...        ...            ...  \n",
      "448   68065.80              1  138777.00 2025-01-31  106519.163398  \n",
      "449  127299.34              2  124694.99 2025-01-31  106519.163398  \n",
      "450  174937.64              1   40084.32 2025-01-31  106519.163398  \n",
      "451       0.00              2  119232.33 2025-01-31  101212.290324  \n",
      "452  110071.10              1   43921.36 2025-01-31  101212.290324  \n",
      "\n",
      "[453 rows x 12 columns]\n"
     ]
    }
   ],
   "source": [
    "print(df)"
   ]
  },
  {
   "cell_type": "code",
   "execution_count": 30,
   "id": "8852afe6-29ee-40cd-8d5c-c37c269a9c01",
   "metadata": {},
   "outputs": [],
   "source": [
    "df.drop('avg_per_gen', axis = 1, inplace = True)"
   ]
  },
  {
   "cell_type": "code",
   "execution_count": 31,
   "id": "d6392813-27d7-4c9f-a562-3bd45597f5bc",
   "metadata": {},
   "outputs": [
    {
     "name": "stdout",
     "output_type": "stream",
     "text": [
      "     CustomerId        Name  CreditScore  Country  Gender  Age  Tenure  \\\n",
      "0      15634602    Hargrave          619   France  Female   42       2   \n",
      "1      15634602    Hargrave          619   France  Female   42       2   \n",
      "2      15634602        Onio          502   France  Female   42       8   \n",
      "3      15634602        Onio          502   France  Female   42       8   \n",
      "4      15737888    Mitchell          850    Spain  Female   43       2   \n",
      "..          ...         ...          ...      ...     ...  ...     ...   \n",
      "448    15694860    Uspensky          675   France  Female   38       6   \n",
      "449    15658169        Cook          778    Spain  Female   47       6   \n",
      "450    15794396     Newbold          494  Germany  Female   38       7   \n",
      "451    15785798  Uchechukwu          850   France    Male   40       9   \n",
      "452    15710825       Ch'en          592    Spain    Male   31       7   \n",
      "\n",
      "       Balance  NumOfProducts     Salary       Date  \n",
      "0         0.00              1  101348.88 2023-01-01  \n",
      "1         0.00              1  101348.88 2023-01-02  \n",
      "2    159660.80              3  112542.58 2023-01-03  \n",
      "3    159660.80              3  112542.58 2023-01-04  \n",
      "4    125510.82              1   79084.10 2023-01-05  \n",
      "..         ...            ...        ...        ...  \n",
      "448   68065.80              1  138777.00 2025-01-31  \n",
      "449  127299.34              2  124694.99 2025-01-31  \n",
      "450  174937.64              1   40084.32 2025-01-31  \n",
      "451       0.00              2  119232.33 2025-01-31  \n",
      "452  110071.10              1   43921.36 2025-01-31  \n",
      "\n",
      "[453 rows x 11 columns]\n"
     ]
    }
   ],
   "source": [
    "print(df)"
   ]
  },
  {
   "cell_type": "code",
   "execution_count": 32,
   "id": "359aaa28-522d-43ac-ac9e-ac28d308fafe",
   "metadata": {},
   "outputs": [
    {
     "name": "stdout",
     "output_type": "stream",
     "text": [
      "     CustomerId        Name  CreditScore  Country  Gender  Age  Tenure  \\\n",
      "0      15634602    Hargrave          619   France  Female   42       2   \n",
      "1      15634602    Hargrave          619   France  Female   42       2   \n",
      "2      15634602        Onio          502   France  Female   42       8   \n",
      "3      15634602        Onio          502   France  Female   42       8   \n",
      "4      15737888    Mitchell          850    Spain  Female   43       2   \n",
      "..          ...         ...          ...      ...     ...  ...     ...   \n",
      "448    15694860    Uspensky          675   France  Female   38       6   \n",
      "449    15658169        Cook          778    Spain  Female   47       6   \n",
      "450    15794396     Newbold          494  Germany  Female   38       7   \n",
      "451    15785798  Uchechukwu          850   France    Male   40       9   \n",
      "452    15710825       Ch'en          592    Spain    Male   31       7   \n",
      "\n",
      "       Balance  NumOfProducts     Salary       Date  Avg_sal_per_gen  \n",
      "0         0.00              1  101348.88 2023-01-01    106519.163398  \n",
      "1         0.00              1  101348.88 2023-01-02    106519.163398  \n",
      "2    159660.80              3  112542.58 2023-01-03    106519.163398  \n",
      "3    159660.80              3  112542.58 2023-01-04    106519.163398  \n",
      "4    125510.82              1   79084.10 2023-01-05    106519.163398  \n",
      "..         ...            ...        ...        ...              ...  \n",
      "448   68065.80              1  138777.00 2025-01-31    106519.163398  \n",
      "449  127299.34              2  124694.99 2025-01-31    106519.163398  \n",
      "450  174937.64              1   40084.32 2025-01-31    106519.163398  \n",
      "451       0.00              2  119232.33 2025-01-31    101212.290324  \n",
      "452  110071.10              1   43921.36 2025-01-31    101212.290324  \n",
      "\n",
      "[453 rows x 12 columns]\n"
     ]
    }
   ],
   "source": [
    "df['Avg_sal_per_gen'] = df.groupby('Gender')['Salary'].transform('mean')\n",
    "print(df)"
   ]
  },
  {
   "cell_type": "code",
   "execution_count": 33,
   "id": "e46a21f9-72cd-4cf4-9aee-6dcb8f6e5951",
   "metadata": {},
   "outputs": [],
   "source": [
    "df.drop('Avg_sal_per_gen', axis = 1, inplace = True)"
   ]
  },
  {
   "cell_type": "code",
   "execution_count": 34,
   "id": "5fbcd2a4-e027-4105-bc78-fd474587dab8",
   "metadata": {},
   "outputs": [
    {
     "name": "stdout",
     "output_type": "stream",
     "text": [
      "     CustomerId        Name  CreditScore  Country  Gender  Age  Tenure  \\\n",
      "0      15634602    Hargrave          619   France  Female   42       2   \n",
      "1      15634602    Hargrave          619   France  Female   42       2   \n",
      "2      15634602        Onio          502   France  Female   42       8   \n",
      "3      15634602        Onio          502   France  Female   42       8   \n",
      "4      15737888    Mitchell          850    Spain  Female   43       2   \n",
      "..          ...         ...          ...      ...     ...  ...     ...   \n",
      "448    15694860    Uspensky          675   France  Female   38       6   \n",
      "449    15658169        Cook          778    Spain  Female   47       6   \n",
      "450    15794396     Newbold          494  Germany  Female   38       7   \n",
      "451    15785798  Uchechukwu          850   France    Male   40       9   \n",
      "452    15710825       Ch'en          592    Spain    Male   31       7   \n",
      "\n",
      "       Balance  NumOfProducts     Salary       Date  \n",
      "0         0.00              1  101348.88 2023-01-01  \n",
      "1         0.00              1  101348.88 2023-01-02  \n",
      "2    159660.80              3  112542.58 2023-01-03  \n",
      "3    159660.80              3  112542.58 2023-01-04  \n",
      "4    125510.82              1   79084.10 2023-01-05  \n",
      "..         ...            ...        ...        ...  \n",
      "448   68065.80              1  138777.00 2025-01-31  \n",
      "449  127299.34              2  124694.99 2025-01-31  \n",
      "450  174937.64              1   40084.32 2025-01-31  \n",
      "451       0.00              2  119232.33 2025-01-31  \n",
      "452  110071.10              1   43921.36 2025-01-31  \n",
      "\n",
      "[453 rows x 11 columns]\n"
     ]
    }
   ],
   "source": [
    "print(df\n",
    "     )"
   ]
  },
  {
   "cell_type": "code",
   "execution_count": 35,
   "id": "356af2df-206c-4186-a638-0c44324c4817",
   "metadata": {},
   "outputs": [
    {
     "name": "stdout",
     "output_type": "stream",
     "text": [
      "     CustomerId        Name  CreditScore  Country  Gender  Age  Tenure  \\\n",
      "0      15634602    Hargrave          619   France  Female   42       2   \n",
      "1      15634602    Hargrave          619   France  Female   42       2   \n",
      "2      15634602        Onio          502   France  Female   42       8   \n",
      "3      15634602        Onio          502   France  Female   42       8   \n",
      "4      15737888    Mitchell          850    Spain  Female   43       2   \n",
      "..          ...         ...          ...      ...     ...  ...     ...   \n",
      "448    15694860    Uspensky          675   France  Female   38       6   \n",
      "449    15658169        Cook          778    Spain  Female   47       6   \n",
      "450    15794396     Newbold          494  Germany  Female   38       7   \n",
      "451    15785798  Uchechukwu          850   France    Male   40       9   \n",
      "452    15710825       Ch'en          592    Spain    Male   31       7   \n",
      "\n",
      "       Balance  NumOfProducts     Salary       Date  Avg_sal_per_gen  \n",
      "0         0.00              1  101348.88 2023-01-01    106519.163398  \n",
      "1         0.00              1  101348.88 2023-01-02    106519.163398  \n",
      "2    159660.80              3  112542.58 2023-01-03    106519.163398  \n",
      "3    159660.80              3  112542.58 2023-01-04    106519.163398  \n",
      "4    125510.82              1   79084.10 2023-01-05    106519.163398  \n",
      "..         ...            ...        ...        ...              ...  \n",
      "448   68065.80              1  138777.00 2025-01-31    106519.163398  \n",
      "449  127299.34              2  124694.99 2025-01-31    106519.163398  \n",
      "450  174937.64              1   40084.32 2025-01-31    106519.163398  \n",
      "451       0.00              2  119232.33 2025-01-31    101212.290324  \n",
      "452  110071.10              1   43921.36 2025-01-31    101212.290324  \n",
      "\n",
      "[453 rows x 12 columns]\n"
     ]
    }
   ],
   "source": [
    "df['Avg_sal_per_gen'] = df.groupby('Gender')['Salary'].transform('mean')\n",
    "print(df)"
   ]
  },
  {
   "cell_type": "code",
   "execution_count": 36,
   "id": "9f2dfd8c-ad23-4281-81eb-73cf9e1226ef",
   "metadata": {},
   "outputs": [
    {
     "data": {
      "text/plain": [
       "Country\n",
       "Germany    15441341.12\n",
       "France     11164746.20\n",
       "Spain       7530723.95\n",
       "Name: Balance, dtype: float64"
      ]
     },
     "execution_count": 36,
     "metadata": {},
     "output_type": "execute_result"
    }
   ],
   "source": [
    "df.groupby('Country')['Balance'].sum().sort_values(ascending = False)"
   ]
  },
  {
   "cell_type": "code",
   "execution_count": 37,
   "id": "866fde71-3016-46f4-a8e1-87294d1ab93d",
   "metadata": {},
   "outputs": [
    {
     "data": {
      "text/plain": [
       "Country\n",
       "France     11164746.20\n",
       "Germany    15441341.12\n",
       "Spain       7530723.95\n",
       "Name: Balance, dtype: float64"
      ]
     },
     "execution_count": 37,
     "metadata": {},
     "output_type": "execute_result"
    }
   ],
   "source": [
    "df.groupby('Country')['Balance'].sum()"
   ]
  },
  {
   "cell_type": "code",
   "execution_count": 39,
   "id": "c9a63b0d-92d1-42d7-acf1-c6105656d6a0",
   "metadata": {},
   "outputs": [],
   "source": [
    "bal = df.groupby('Country')['Balance']"
   ]
  },
  {
   "cell_type": "code",
   "execution_count": 40,
   "id": "598c5074-fe83-402b-9c92-9b32aa1fe5da",
   "metadata": {},
   "outputs": [
    {
     "name": "stdout",
     "output_type": "stream",
     "text": [
      "<pandas.core.groupby.generic.SeriesGroupBy object at 0x0000022E9AE27650>\n"
     ]
    }
   ],
   "source": [
    "print(bal)"
   ]
  },
  {
   "cell_type": "code",
   "execution_count": 43,
   "id": "f79916fd-3f33-4aed-ba84-1158f9ac6e8c",
   "metadata": {},
   "outputs": [
    {
     "data": {
      "text/plain": [
       "Country\n",
       "France     19732088.02\n",
       "Germany    14340034.10\n",
       "Spain      12870261.25\n",
       "Name: Salary, dtype: float64"
      ]
     },
     "execution_count": 43,
     "metadata": {},
     "output_type": "execute_result"
    }
   ],
   "source": [
    "df.groupby('Country')['Salary'].sum().sort_values(ascending = False)"
   ]
  },
  {
   "cell_type": "code",
   "execution_count": 49,
   "id": "66998656-c7f0-4b2a-9528-2ac71bfeeff8",
   "metadata": {},
   "outputs": [],
   "source": [
    "des = df.groupby('Gender').describe()"
   ]
  },
  {
   "cell_type": "code",
   "execution_count": 47,
   "id": "aef6e3d1-a3e1-4399-afea-e0566c3a0413",
   "metadata": {},
   "outputs": [],
   "source": [
    "pd.set_option('display.max_columns', None)"
   ]
  },
  {
   "cell_type": "code",
   "execution_count": 48,
   "id": "6b03ebf5-4dfe-4ea8-baf9-db7a19f360f0",
   "metadata": {},
   "outputs": [
    {
     "name": "stdout",
     "output_type": "stream",
     "text": [
      "     CustomerId        Name  CreditScore  Country  Gender  Age  Tenure  \\\n",
      "0      15634602    Hargrave          619   France  Female   42       2   \n",
      "1      15634602    Hargrave          619   France  Female   42       2   \n",
      "2      15634602        Onio          502   France  Female   42       8   \n",
      "3      15634602        Onio          502   France  Female   42       8   \n",
      "4      15737888    Mitchell          850    Spain  Female   43       2   \n",
      "..          ...         ...          ...      ...     ...  ...     ...   \n",
      "448    15694860    Uspensky          675   France  Female   38       6   \n",
      "449    15658169        Cook          778    Spain  Female   47       6   \n",
      "450    15794396     Newbold          494  Germany  Female   38       7   \n",
      "451    15785798  Uchechukwu          850   France    Male   40       9   \n",
      "452    15710825       Ch'en          592    Spain    Male   31       7   \n",
      "\n",
      "       Balance  NumOfProducts     Salary       Date  Avg_sal_per_gen  \n",
      "0         0.00              1  101348.88 2023-01-01    106519.163398  \n",
      "1         0.00              1  101348.88 2023-01-02    106519.163398  \n",
      "2    159660.80              3  112542.58 2023-01-03    106519.163398  \n",
      "3    159660.80              3  112542.58 2023-01-04    106519.163398  \n",
      "4    125510.82              1   79084.10 2023-01-05    106519.163398  \n",
      "..         ...            ...        ...        ...              ...  \n",
      "448   68065.80              1  138777.00 2025-01-31    106519.163398  \n",
      "449  127299.34              2  124694.99 2025-01-31    106519.163398  \n",
      "450  174937.64              1   40084.32 2025-01-31    106519.163398  \n",
      "451       0.00              2  119232.33 2025-01-31    101212.290324  \n",
      "452  110071.10              1   43921.36 2025-01-31    101212.290324  \n",
      "\n",
      "[453 rows x 12 columns]\n"
     ]
    }
   ],
   "source": [
    "print(df)"
   ]
  },
  {
   "cell_type": "code",
   "execution_count": 50,
   "id": "462c05f0-0636-4497-91cc-66f296a1c3d3",
   "metadata": {},
   "outputs": [
    {
     "name": "stdout",
     "output_type": "stream",
     "text": [
      "       CustomerId                                                    \\\n",
      "            count          mean         min         25%         50%   \n",
      "Gender                                                                \n",
      "Female      206.0  1.569938e+07  15568240.0  15634602.0  15705140.5   \n",
      "Male        247.0  1.568928e+07  15566111.0  15626129.0  15685500.0   \n",
      "\n",
      "                                              CreditScore                     \\\n",
      "                75%         max           std       count        mean    min   \n",
      "Gender                                                                         \n",
      "Female  15761684.75  15813163.0  72304.007301       206.0  643.742718  376.0   \n",
      "Male    15748769.50  15813844.0  73329.800899       247.0  650.704453  411.0   \n",
      "\n",
      "                                                    Age                   \\\n",
      "           25%    50%     75%    max         std  count       mean   min   \n",
      "Gender                                                                     \n",
      "Female  557.75  644.5  716.75  850.0  102.105335  206.0  38.883495  21.0   \n",
      "Male    577.50  663.0  726.00  850.0  100.219341  247.0  37.773279  19.0   \n",
      "\n",
      "                                          Tenure                           \\\n",
      "         25%   50%   75%   max        std  count      mean  min  25%  50%   \n",
      "Gender                                                                      \n",
      "Female  32.0  37.0  43.0  80.0  10.998271  206.0  5.082524  0.0  2.0  5.0   \n",
      "Male    31.0  36.0  42.0  72.0   9.269081  247.0  5.259109  0.0  3.0  5.0   \n",
      "\n",
      "                            Balance                                     \\\n",
      "        75%   max       std   count          mean  min  25%        50%   \n",
      "Gender                                                                   \n",
      "Female  8.0  10.0  2.966148   206.0  77889.197670  0.0  0.0  99263.745   \n",
      "Male    8.0  10.0  3.022555   247.0  73245.492105  0.0  0.0  93012.890   \n",
      "\n",
      "                                             NumOfProducts                 \\\n",
      "                75%        max           std         count      mean  min   \n",
      "Gender                                                                      \n",
      "Female  128764.6075  213146.20  63407.945783         206.0  1.553398  1.0   \n",
      "Male    125101.7350  190479.48  61834.737142         247.0  1.530364  1.0   \n",
      "\n",
      "                                     Salary                          \\\n",
      "        25%  50%  75%  max       std  count           mean      min   \n",
      "Gender                                                                \n",
      "Female  1.0  1.0  2.0  4.0  0.620435  206.0  106519.163398  1643.11   \n",
      "Male    1.0  2.0  2.0  4.0  0.539204  247.0  101212.290324   371.05   \n",
      "\n",
      "                                                                    Date  \\\n",
      "              25%        50%          75%        max           std count   \n",
      "Gender                                                                     \n",
      "Female  59082.240  110959.77  156619.7775  199725.39  58078.626682   206   \n",
      "Male    52209.895   99645.04  151002.3650  199645.45  57108.921533   247   \n",
      "\n",
      "                                                            \\\n",
      "                                 mean                  min   \n",
      "Gender                                                       \n",
      "Female  2023-12-21 12:13:58.834951424  2023-01-01 00:00:00   \n",
      "Male    2023-12-16 22:50:02.429149696  2023-01-06 00:00:00   \n",
      "\n",
      "                                                                       \\\n",
      "                        25%                  50%                  75%   \n",
      "Gender                                                                  \n",
      "Female  2023-05-19 00:00:00  2024-02-06 00:00:00  2024-05-27 12:00:00   \n",
      "Male    2023-05-23 12:00:00  2024-02-02 00:00:00  2024-05-14 00:00:00   \n",
      "\n",
      "                                 Avg_sal_per_gen                 \\\n",
      "                        max  std           count           mean   \n",
      "Gender                                                            \n",
      "Female  2025-01-31 00:00:00  NaN           206.0  106519.163398   \n",
      "Male    2025-01-31 00:00:00  NaN           247.0  101212.290324   \n",
      "\n",
      "                                                                    \\\n",
      "                  min            25%            50%            75%   \n",
      "Gender                                                               \n",
      "Female  106519.163398  106519.163398  106519.163398  106519.163398   \n",
      "Male    101212.290324  101212.290324  101212.290324  101212.290324   \n",
      "\n",
      "                            \n",
      "                  max  std  \n",
      "Gender                      \n",
      "Female  106519.163398  0.0  \n",
      "Male    101212.290324  0.0  \n"
     ]
    }
   ],
   "source": [
    "print(des)"
   ]
  },
  {
   "cell_type": "code",
   "execution_count": 51,
   "id": "96930767-4e37-4c10-b71d-ceaa9522f755",
   "metadata": {},
   "outputs": [
    {
     "data": {
      "text/html": [
       "<div>\n",
       "<style scoped>\n",
       "    .dataframe tbody tr th:only-of-type {\n",
       "        vertical-align: middle;\n",
       "    }\n",
       "\n",
       "    .dataframe tbody tr th {\n",
       "        vertical-align: top;\n",
       "    }\n",
       "\n",
       "    .dataframe thead tr th {\n",
       "        text-align: left;\n",
       "    }\n",
       "\n",
       "    .dataframe thead tr:last-of-type th {\n",
       "        text-align: right;\n",
       "    }\n",
       "</style>\n",
       "<table border=\"1\" class=\"dataframe\">\n",
       "  <thead>\n",
       "    <tr>\n",
       "      <th></th>\n",
       "      <th colspan=\"8\" halign=\"left\">CustomerId</th>\n",
       "      <th colspan=\"8\" halign=\"left\">CreditScore</th>\n",
       "      <th colspan=\"8\" halign=\"left\">Age</th>\n",
       "      <th colspan=\"8\" halign=\"left\">Tenure</th>\n",
       "      <th colspan=\"8\" halign=\"left\">Balance</th>\n",
       "      <th colspan=\"8\" halign=\"left\">NumOfProducts</th>\n",
       "      <th colspan=\"8\" halign=\"left\">Salary</th>\n",
       "      <th colspan=\"8\" halign=\"left\">Date</th>\n",
       "      <th colspan=\"8\" halign=\"left\">Avg_sal_per_gen</th>\n",
       "    </tr>\n",
       "    <tr>\n",
       "      <th></th>\n",
       "      <th>count</th>\n",
       "      <th>mean</th>\n",
       "      <th>min</th>\n",
       "      <th>25%</th>\n",
       "      <th>50%</th>\n",
       "      <th>75%</th>\n",
       "      <th>max</th>\n",
       "      <th>std</th>\n",
       "      <th>count</th>\n",
       "      <th>mean</th>\n",
       "      <th>min</th>\n",
       "      <th>25%</th>\n",
       "      <th>50%</th>\n",
       "      <th>75%</th>\n",
       "      <th>max</th>\n",
       "      <th>std</th>\n",
       "      <th>count</th>\n",
       "      <th>mean</th>\n",
       "      <th>min</th>\n",
       "      <th>25%</th>\n",
       "      <th>50%</th>\n",
       "      <th>75%</th>\n",
       "      <th>max</th>\n",
       "      <th>std</th>\n",
       "      <th>count</th>\n",
       "      <th>mean</th>\n",
       "      <th>min</th>\n",
       "      <th>25%</th>\n",
       "      <th>50%</th>\n",
       "      <th>75%</th>\n",
       "      <th>max</th>\n",
       "      <th>std</th>\n",
       "      <th>count</th>\n",
       "      <th>mean</th>\n",
       "      <th>min</th>\n",
       "      <th>25%</th>\n",
       "      <th>50%</th>\n",
       "      <th>75%</th>\n",
       "      <th>max</th>\n",
       "      <th>std</th>\n",
       "      <th>count</th>\n",
       "      <th>mean</th>\n",
       "      <th>min</th>\n",
       "      <th>25%</th>\n",
       "      <th>50%</th>\n",
       "      <th>75%</th>\n",
       "      <th>max</th>\n",
       "      <th>std</th>\n",
       "      <th>count</th>\n",
       "      <th>mean</th>\n",
       "      <th>min</th>\n",
       "      <th>25%</th>\n",
       "      <th>50%</th>\n",
       "      <th>75%</th>\n",
       "      <th>max</th>\n",
       "      <th>std</th>\n",
       "      <th>count</th>\n",
       "      <th>mean</th>\n",
       "      <th>min</th>\n",
       "      <th>25%</th>\n",
       "      <th>50%</th>\n",
       "      <th>75%</th>\n",
       "      <th>max</th>\n",
       "      <th>std</th>\n",
       "      <th>count</th>\n",
       "      <th>mean</th>\n",
       "      <th>min</th>\n",
       "      <th>25%</th>\n",
       "      <th>50%</th>\n",
       "      <th>75%</th>\n",
       "      <th>max</th>\n",
       "      <th>std</th>\n",
       "    </tr>\n",
       "    <tr>\n",
       "      <th>Country</th>\n",
       "      <th></th>\n",
       "      <th></th>\n",
       "      <th></th>\n",
       "      <th></th>\n",
       "      <th></th>\n",
       "      <th></th>\n",
       "      <th></th>\n",
       "      <th></th>\n",
       "      <th></th>\n",
       "      <th></th>\n",
       "      <th></th>\n",
       "      <th></th>\n",
       "      <th></th>\n",
       "      <th></th>\n",
       "      <th></th>\n",
       "      <th></th>\n",
       "      <th></th>\n",
       "      <th></th>\n",
       "      <th></th>\n",
       "      <th></th>\n",
       "      <th></th>\n",
       "      <th></th>\n",
       "      <th></th>\n",
       "      <th></th>\n",
       "      <th></th>\n",
       "      <th></th>\n",
       "      <th></th>\n",
       "      <th></th>\n",
       "      <th></th>\n",
       "      <th></th>\n",
       "      <th></th>\n",
       "      <th></th>\n",
       "      <th></th>\n",
       "      <th></th>\n",
       "      <th></th>\n",
       "      <th></th>\n",
       "      <th></th>\n",
       "      <th></th>\n",
       "      <th></th>\n",
       "      <th></th>\n",
       "      <th></th>\n",
       "      <th></th>\n",
       "      <th></th>\n",
       "      <th></th>\n",
       "      <th></th>\n",
       "      <th></th>\n",
       "      <th></th>\n",
       "      <th></th>\n",
       "      <th></th>\n",
       "      <th></th>\n",
       "      <th></th>\n",
       "      <th></th>\n",
       "      <th></th>\n",
       "      <th></th>\n",
       "      <th></th>\n",
       "      <th></th>\n",
       "      <th></th>\n",
       "      <th></th>\n",
       "      <th></th>\n",
       "      <th></th>\n",
       "      <th></th>\n",
       "      <th></th>\n",
       "      <th></th>\n",
       "      <th></th>\n",
       "      <th></th>\n",
       "      <th></th>\n",
       "      <th></th>\n",
       "      <th></th>\n",
       "      <th></th>\n",
       "      <th></th>\n",
       "      <th></th>\n",
       "      <th></th>\n",
       "    </tr>\n",
       "  </thead>\n",
       "  <tbody>\n",
       "    <tr>\n",
       "      <th>France</th>\n",
       "      <td>199.0</td>\n",
       "      <td>1.569147e+07</td>\n",
       "      <td>15566111.0</td>\n",
       "      <td>15630481.5</td>\n",
       "      <td>15692761.0</td>\n",
       "      <td>15754650.5</td>\n",
       "      <td>15813844.0</td>\n",
       "      <td>71002.198283</td>\n",
       "      <td>199.0</td>\n",
       "      <td>647.673367</td>\n",
       "      <td>411.0</td>\n",
       "      <td>561.0</td>\n",
       "      <td>656.0</td>\n",
       "      <td>718.0</td>\n",
       "      <td>850.0</td>\n",
       "      <td>103.865827</td>\n",
       "      <td>199.0</td>\n",
       "      <td>38.939698</td>\n",
       "      <td>21.0</td>\n",
       "      <td>31.5</td>\n",
       "      <td>37.0</td>\n",
       "      <td>44.0</td>\n",
       "      <td>80.0</td>\n",
       "      <td>10.726931</td>\n",
       "      <td>199.0</td>\n",
       "      <td>4.969849</td>\n",
       "      <td>0.0</td>\n",
       "      <td>2.0</td>\n",
       "      <td>5.0</td>\n",
       "      <td>8.0</td>\n",
       "      <td>10.0</td>\n",
       "      <td>3.069744</td>\n",
       "      <td>199.0</td>\n",
       "      <td>56104.252261</td>\n",
       "      <td>0.00</td>\n",
       "      <td>0.000</td>\n",
       "      <td>0.00</td>\n",
       "      <td>118178.800</td>\n",
       "      <td>187841.99</td>\n",
       "      <td>63104.682999</td>\n",
       "      <td>199.0</td>\n",
       "      <td>1.542714</td>\n",
       "      <td>1.0</td>\n",
       "      <td>1.0</td>\n",
       "      <td>2.0</td>\n",
       "      <td>2.0</td>\n",
       "      <td>3.0</td>\n",
       "      <td>0.538361</td>\n",
       "      <td>199.0</td>\n",
       "      <td>99156.221206</td>\n",
       "      <td>371.05</td>\n",
       "      <td>46473.015</td>\n",
       "      <td>103737.82</td>\n",
       "      <td>147178.365</td>\n",
       "      <td>199638.56</td>\n",
       "      <td>57832.281795</td>\n",
       "      <td>199</td>\n",
       "      <td>2023-12-25 08:48:14.472361728</td>\n",
       "      <td>2023-01-01 00:00:00</td>\n",
       "      <td>2023-06-03 12:00:00</td>\n",
       "      <td>2024-02-04 00:00:00</td>\n",
       "      <td>2024-05-13 12:00:00</td>\n",
       "      <td>2025-01-31 00:00:00</td>\n",
       "      <td>NaN</td>\n",
       "      <td>199.0</td>\n",
       "      <td>103532.380562</td>\n",
       "      <td>101212.290324</td>\n",
       "      <td>101212.290324</td>\n",
       "      <td>101212.290324</td>\n",
       "      <td>106519.163398</td>\n",
       "      <td>106519.163398</td>\n",
       "      <td>2639.053563</td>\n",
       "    </tr>\n",
       "    <tr>\n",
       "      <th>Germany</th>\n",
       "      <td>131.0</td>\n",
       "      <td>1.569624e+07</td>\n",
       "      <td>15568240.0</td>\n",
       "      <td>15635645.0</td>\n",
       "      <td>15696674.0</td>\n",
       "      <td>15759811.0</td>\n",
       "      <td>15812878.0</td>\n",
       "      <td>72407.254609</td>\n",
       "      <td>131.0</td>\n",
       "      <td>648.076336</td>\n",
       "      <td>376.0</td>\n",
       "      <td>582.0</td>\n",
       "      <td>659.0</td>\n",
       "      <td>725.0</td>\n",
       "      <td>850.0</td>\n",
       "      <td>100.848219</td>\n",
       "      <td>131.0</td>\n",
       "      <td>37.793893</td>\n",
       "      <td>19.0</td>\n",
       "      <td>31.5</td>\n",
       "      <td>36.0</td>\n",
       "      <td>42.0</td>\n",
       "      <td>75.0</td>\n",
       "      <td>9.458995</td>\n",
       "      <td>131.0</td>\n",
       "      <td>5.274809</td>\n",
       "      <td>0.0</td>\n",
       "      <td>3.0</td>\n",
       "      <td>5.0</td>\n",
       "      <td>8.0</td>\n",
       "      <td>10.0</td>\n",
       "      <td>3.040884</td>\n",
       "      <td>131.0</td>\n",
       "      <td>117872.832977</td>\n",
       "      <td>37266.67</td>\n",
       "      <td>100249.355</td>\n",
       "      <td>116363.37</td>\n",
       "      <td>137895.095</td>\n",
       "      <td>190479.48</td>\n",
       "      <td>31007.483734</td>\n",
       "      <td>131.0</td>\n",
       "      <td>1.534351</td>\n",
       "      <td>1.0</td>\n",
       "      <td>1.0</td>\n",
       "      <td>1.0</td>\n",
       "      <td>2.0</td>\n",
       "      <td>4.0</td>\n",
       "      <td>0.648047</td>\n",
       "      <td>131.0</td>\n",
       "      <td>109465.909160</td>\n",
       "      <td>2319.96</td>\n",
       "      <td>62065.705</td>\n",
       "      <td>113656.85</td>\n",
       "      <td>157247.205</td>\n",
       "      <td>199725.39</td>\n",
       "      <td>55887.337702</td>\n",
       "      <td>131</td>\n",
       "      <td>2023-12-30 21:04:07.328244224</td>\n",
       "      <td>2023-01-08 00:00:00</td>\n",
       "      <td>2023-05-20 12:00:00</td>\n",
       "      <td>2024-02-13 00:00:00</td>\n",
       "      <td>2024-06-11 00:00:00</td>\n",
       "      <td>2025-01-31 00:00:00</td>\n",
       "      <td>NaN</td>\n",
       "      <td>131.0</td>\n",
       "      <td>103642.919213</td>\n",
       "      <td>101212.290324</td>\n",
       "      <td>101212.290324</td>\n",
       "      <td>101212.290324</td>\n",
       "      <td>106519.163398</td>\n",
       "      <td>106519.163398</td>\n",
       "      <td>2654.215470</td>\n",
       "    </tr>\n",
       "    <tr>\n",
       "      <th>Spain</th>\n",
       "      <td>123.0</td>\n",
       "      <td>1.569525e+07</td>\n",
       "      <td>15566594.0</td>\n",
       "      <td>15625872.5</td>\n",
       "      <td>15692132.0</td>\n",
       "      <td>15758110.0</td>\n",
       "      <td>15813163.0</td>\n",
       "      <td>77041.619926</td>\n",
       "      <td>123.0</td>\n",
       "      <td>646.747967</td>\n",
       "      <td>443.0</td>\n",
       "      <td>570.0</td>\n",
       "      <td>648.0</td>\n",
       "      <td>719.0</td>\n",
       "      <td>850.0</td>\n",
       "      <td>97.306478</td>\n",
       "      <td>123.0</td>\n",
       "      <td>37.723577</td>\n",
       "      <td>21.0</td>\n",
       "      <td>32.0</td>\n",
       "      <td>37.0</td>\n",
       "      <td>42.0</td>\n",
       "      <td>75.0</td>\n",
       "      <td>9.709131</td>\n",
       "      <td>123.0</td>\n",
       "      <td>5.414634</td>\n",
       "      <td>0.0</td>\n",
       "      <td>3.0</td>\n",
       "      <td>6.0</td>\n",
       "      <td>8.0</td>\n",
       "      <td>10.0</td>\n",
       "      <td>2.819507</td>\n",
       "      <td>123.0</td>\n",
       "      <td>61225.397967</td>\n",
       "      <td>0.00</td>\n",
       "      <td>0.000</td>\n",
       "      <td>34013.63</td>\n",
       "      <td>123320.025</td>\n",
       "      <td>213146.20</td>\n",
       "      <td>65200.852690</td>\n",
       "      <td>123.0</td>\n",
       "      <td>1.544715</td>\n",
       "      <td>1.0</td>\n",
       "      <td>1.0</td>\n",
       "      <td>2.0</td>\n",
       "      <td>2.0</td>\n",
       "      <td>3.0</td>\n",
       "      <td>0.561789</td>\n",
       "      <td>123.0</td>\n",
       "      <td>104636.270325</td>\n",
       "      <td>417.41</td>\n",
       "      <td>61236.390</td>\n",
       "      <td>99645.04</td>\n",
       "      <td>158511.600</td>\n",
       "      <td>199304.74</td>\n",
       "      <td>58682.956246</td>\n",
       "      <td>123</td>\n",
       "      <td>2023-11-26 03:19:01.463414528</td>\n",
       "      <td>2023-01-05 00:00:00</td>\n",
       "      <td>2023-05-14 12:00:00</td>\n",
       "      <td>2023-08-20 00:00:00</td>\n",
       "      <td>2024-05-16 00:00:00</td>\n",
       "      <td>2025-01-31 00:00:00</td>\n",
       "      <td>NaN</td>\n",
       "      <td>123.0</td>\n",
       "      <td>103757.863587</td>\n",
       "      <td>101212.290324</td>\n",
       "      <td>101212.290324</td>\n",
       "      <td>101212.290324</td>\n",
       "      <td>106519.163398</td>\n",
       "      <td>106519.163398</td>\n",
       "      <td>2662.086864</td>\n",
       "    </tr>\n",
       "  </tbody>\n",
       "</table>\n",
       "</div>"
      ],
      "text/plain": [
       "        CustomerId                                                    \\\n",
       "             count          mean         min         25%         50%   \n",
       "Country                                                                \n",
       "France       199.0  1.569147e+07  15566111.0  15630481.5  15692761.0   \n",
       "Germany      131.0  1.569624e+07  15568240.0  15635645.0  15696674.0   \n",
       "Spain        123.0  1.569525e+07  15566594.0  15625872.5  15692132.0   \n",
       "\n",
       "                                              CreditScore                     \\\n",
       "                75%         max           std       count        mean    min   \n",
       "Country                                                                        \n",
       "France   15754650.5  15813844.0  71002.198283       199.0  647.673367  411.0   \n",
       "Germany  15759811.0  15812878.0  72407.254609       131.0  648.076336  376.0   \n",
       "Spain    15758110.0  15813163.0  77041.619926       123.0  646.747967  443.0   \n",
       "\n",
       "                                                   Age                         \\\n",
       "           25%    50%    75%    max         std  count       mean   min   25%   \n",
       "Country                                                                         \n",
       "France   561.0  656.0  718.0  850.0  103.865827  199.0  38.939698  21.0  31.5   \n",
       "Germany  582.0  659.0  725.0  850.0  100.848219  131.0  37.793893  19.0  31.5   \n",
       "Spain    570.0  648.0  719.0  850.0   97.306478  123.0  37.723577  21.0  32.0   \n",
       "\n",
       "                                     Tenure                                \\\n",
       "          50%   75%   max        std  count      mean  min  25%  50%  75%   \n",
       "Country                                                                     \n",
       "France   37.0  44.0  80.0  10.726931  199.0  4.969849  0.0  2.0  5.0  8.0   \n",
       "Germany  36.0  42.0  75.0   9.458995  131.0  5.274809  0.0  3.0  5.0  8.0   \n",
       "Spain    37.0  42.0  75.0   9.709131  123.0  5.414634  0.0  3.0  6.0  8.0   \n",
       "\n",
       "                        Balance                                       \\\n",
       "          max       std   count           mean       min         25%   \n",
       "Country                                                                \n",
       "France   10.0  3.069744   199.0   56104.252261      0.00       0.000   \n",
       "Germany  10.0  3.040884   131.0  117872.832977  37266.67  100249.355   \n",
       "Spain    10.0  2.819507   123.0   61225.397967      0.00       0.000   \n",
       "\n",
       "                                                        NumOfProducts  \\\n",
       "               50%         75%        max           std         count   \n",
       "Country                                                                 \n",
       "France        0.00  118178.800  187841.99  63104.682999         199.0   \n",
       "Germany  116363.37  137895.095  190479.48  31007.483734         131.0   \n",
       "Spain     34013.63  123320.025  213146.20  65200.852690         123.0   \n",
       "\n",
       "                                                     Salary                 \\\n",
       "             mean  min  25%  50%  75%  max       std  count           mean   \n",
       "Country                                                                      \n",
       "France   1.542714  1.0  1.0  2.0  2.0  3.0  0.538361  199.0   99156.221206   \n",
       "Germany  1.534351  1.0  1.0  1.0  2.0  4.0  0.648047  131.0  109465.909160   \n",
       "Spain    1.544715  1.0  1.0  2.0  2.0  3.0  0.561789  123.0  104636.270325   \n",
       "\n",
       "                                                                             \\\n",
       "             min        25%        50%         75%        max           std   \n",
       "Country                                                                       \n",
       "France    371.05  46473.015  103737.82  147178.365  199638.56  57832.281795   \n",
       "Germany  2319.96  62065.705  113656.85  157247.205  199725.39  55887.337702   \n",
       "Spain     417.41  61236.390   99645.04  158511.600  199304.74  58682.956246   \n",
       "\n",
       "         Date                                                      \\\n",
       "        count                           mean                  min   \n",
       "Country                                                             \n",
       "France    199  2023-12-25 08:48:14.472361728  2023-01-01 00:00:00   \n",
       "Germany   131  2023-12-30 21:04:07.328244224  2023-01-08 00:00:00   \n",
       "Spain     123  2023-11-26 03:19:01.463414528  2023-01-05 00:00:00   \n",
       "\n",
       "                                                                        \\\n",
       "                         25%                  50%                  75%   \n",
       "Country                                                                  \n",
       "France   2023-06-03 12:00:00  2024-02-04 00:00:00  2024-05-13 12:00:00   \n",
       "Germany  2023-05-20 12:00:00  2024-02-13 00:00:00  2024-06-11 00:00:00   \n",
       "Spain    2023-05-14 12:00:00  2023-08-20 00:00:00  2024-05-16 00:00:00   \n",
       "\n",
       "                                  Avg_sal_per_gen                 \\\n",
       "                         max  std           count           mean   \n",
       "Country                                                            \n",
       "France   2025-01-31 00:00:00  NaN           199.0  103532.380562   \n",
       "Germany  2025-01-31 00:00:00  NaN           131.0  103642.919213   \n",
       "Spain    2025-01-31 00:00:00  NaN           123.0  103757.863587   \n",
       "\n",
       "                                                                     \\\n",
       "                   min            25%            50%            75%   \n",
       "Country                                                               \n",
       "France   101212.290324  101212.290324  101212.290324  106519.163398   \n",
       "Germany  101212.290324  101212.290324  101212.290324  106519.163398   \n",
       "Spain    101212.290324  101212.290324  101212.290324  106519.163398   \n",
       "\n",
       "                                     \n",
       "                   max          std  \n",
       "Country                              \n",
       "France   106519.163398  2639.053563  \n",
       "Germany  106519.163398  2654.215470  \n",
       "Spain    106519.163398  2662.086864  "
      ]
     },
     "execution_count": 51,
     "metadata": {},
     "output_type": "execute_result"
    }
   ],
   "source": [
    "df.groupby('Country').describe()"
   ]
  },
  {
   "cell_type": "code",
   "execution_count": 53,
   "id": "b3767f1f-5bea-4d61-93fc-884f7384934d",
   "metadata": {},
   "outputs": [],
   "source": [
    "pd.reset_option('display.max_columns')"
   ]
  },
  {
   "cell_type": "code",
   "execution_count": 54,
   "id": "14b15900-1b5e-45e3-ac44-eaece386d46c",
   "metadata": {},
   "outputs": [
    {
     "data": {
      "text/html": [
       "<div>\n",
       "<style scoped>\n",
       "    .dataframe tbody tr th:only-of-type {\n",
       "        vertical-align: middle;\n",
       "    }\n",
       "\n",
       "    .dataframe tbody tr th {\n",
       "        vertical-align: top;\n",
       "    }\n",
       "\n",
       "    .dataframe thead tr th {\n",
       "        text-align: left;\n",
       "    }\n",
       "\n",
       "    .dataframe thead tr:last-of-type th {\n",
       "        text-align: right;\n",
       "    }\n",
       "</style>\n",
       "<table border=\"1\" class=\"dataframe\">\n",
       "  <thead>\n",
       "    <tr>\n",
       "      <th></th>\n",
       "      <th colspan=\"8\" halign=\"left\">CustomerId</th>\n",
       "      <th colspan=\"2\" halign=\"left\">CreditScore</th>\n",
       "      <th>...</th>\n",
       "      <th colspan=\"2\" halign=\"left\">Date</th>\n",
       "      <th colspan=\"8\" halign=\"left\">Avg_sal_per_gen</th>\n",
       "    </tr>\n",
       "    <tr>\n",
       "      <th></th>\n",
       "      <th>count</th>\n",
       "      <th>mean</th>\n",
       "      <th>min</th>\n",
       "      <th>25%</th>\n",
       "      <th>50%</th>\n",
       "      <th>75%</th>\n",
       "      <th>max</th>\n",
       "      <th>std</th>\n",
       "      <th>count</th>\n",
       "      <th>mean</th>\n",
       "      <th>...</th>\n",
       "      <th>max</th>\n",
       "      <th>std</th>\n",
       "      <th>count</th>\n",
       "      <th>mean</th>\n",
       "      <th>min</th>\n",
       "      <th>25%</th>\n",
       "      <th>50%</th>\n",
       "      <th>75%</th>\n",
       "      <th>max</th>\n",
       "      <th>std</th>\n",
       "    </tr>\n",
       "    <tr>\n",
       "      <th>Country</th>\n",
       "      <th></th>\n",
       "      <th></th>\n",
       "      <th></th>\n",
       "      <th></th>\n",
       "      <th></th>\n",
       "      <th></th>\n",
       "      <th></th>\n",
       "      <th></th>\n",
       "      <th></th>\n",
       "      <th></th>\n",
       "      <th></th>\n",
       "      <th></th>\n",
       "      <th></th>\n",
       "      <th></th>\n",
       "      <th></th>\n",
       "      <th></th>\n",
       "      <th></th>\n",
       "      <th></th>\n",
       "      <th></th>\n",
       "      <th></th>\n",
       "      <th></th>\n",
       "    </tr>\n",
       "  </thead>\n",
       "  <tbody>\n",
       "    <tr>\n",
       "      <th>France</th>\n",
       "      <td>199.0</td>\n",
       "      <td>1.569147e+07</td>\n",
       "      <td>15566111.0</td>\n",
       "      <td>15630481.5</td>\n",
       "      <td>15692761.0</td>\n",
       "      <td>15754650.5</td>\n",
       "      <td>15813844.0</td>\n",
       "      <td>71002.198283</td>\n",
       "      <td>199.0</td>\n",
       "      <td>647.673367</td>\n",
       "      <td>...</td>\n",
       "      <td>2025-01-31 00:00:00</td>\n",
       "      <td>NaN</td>\n",
       "      <td>199.0</td>\n",
       "      <td>103532.380562</td>\n",
       "      <td>101212.290324</td>\n",
       "      <td>101212.290324</td>\n",
       "      <td>101212.290324</td>\n",
       "      <td>106519.163398</td>\n",
       "      <td>106519.163398</td>\n",
       "      <td>2639.053563</td>\n",
       "    </tr>\n",
       "    <tr>\n",
       "      <th>Germany</th>\n",
       "      <td>131.0</td>\n",
       "      <td>1.569624e+07</td>\n",
       "      <td>15568240.0</td>\n",
       "      <td>15635645.0</td>\n",
       "      <td>15696674.0</td>\n",
       "      <td>15759811.0</td>\n",
       "      <td>15812878.0</td>\n",
       "      <td>72407.254609</td>\n",
       "      <td>131.0</td>\n",
       "      <td>648.076336</td>\n",
       "      <td>...</td>\n",
       "      <td>2025-01-31 00:00:00</td>\n",
       "      <td>NaN</td>\n",
       "      <td>131.0</td>\n",
       "      <td>103642.919213</td>\n",
       "      <td>101212.290324</td>\n",
       "      <td>101212.290324</td>\n",
       "      <td>101212.290324</td>\n",
       "      <td>106519.163398</td>\n",
       "      <td>106519.163398</td>\n",
       "      <td>2654.215470</td>\n",
       "    </tr>\n",
       "    <tr>\n",
       "      <th>Spain</th>\n",
       "      <td>123.0</td>\n",
       "      <td>1.569525e+07</td>\n",
       "      <td>15566594.0</td>\n",
       "      <td>15625872.5</td>\n",
       "      <td>15692132.0</td>\n",
       "      <td>15758110.0</td>\n",
       "      <td>15813163.0</td>\n",
       "      <td>77041.619926</td>\n",
       "      <td>123.0</td>\n",
       "      <td>646.747967</td>\n",
       "      <td>...</td>\n",
       "      <td>2025-01-31 00:00:00</td>\n",
       "      <td>NaN</td>\n",
       "      <td>123.0</td>\n",
       "      <td>103757.863587</td>\n",
       "      <td>101212.290324</td>\n",
       "      <td>101212.290324</td>\n",
       "      <td>101212.290324</td>\n",
       "      <td>106519.163398</td>\n",
       "      <td>106519.163398</td>\n",
       "      <td>2662.086864</td>\n",
       "    </tr>\n",
       "  </tbody>\n",
       "</table>\n",
       "<p>3 rows × 72 columns</p>\n",
       "</div>"
      ],
      "text/plain": [
       "        CustomerId                                                    \\\n",
       "             count          mean         min         25%         50%   \n",
       "Country                                                                \n",
       "France       199.0  1.569147e+07  15566111.0  15630481.5  15692761.0   \n",
       "Germany      131.0  1.569624e+07  15568240.0  15635645.0  15696674.0   \n",
       "Spain        123.0  1.569525e+07  15566594.0  15625872.5  15692132.0   \n",
       "\n",
       "                                              CreditScore              ...  \\\n",
       "                75%         max           std       count        mean  ...   \n",
       "Country                                                                ...   \n",
       "France   15754650.5  15813844.0  71002.198283       199.0  647.673367  ...   \n",
       "Germany  15759811.0  15812878.0  72407.254609       131.0  648.076336  ...   \n",
       "Spain    15758110.0  15813163.0  77041.619926       123.0  646.747967  ...   \n",
       "\n",
       "                        Date      Avg_sal_per_gen                 \\\n",
       "                         max  std           count           mean   \n",
       "Country                                                            \n",
       "France   2025-01-31 00:00:00  NaN           199.0  103532.380562   \n",
       "Germany  2025-01-31 00:00:00  NaN           131.0  103642.919213   \n",
       "Spain    2025-01-31 00:00:00  NaN           123.0  103757.863587   \n",
       "\n",
       "                                                                     \\\n",
       "                   min            25%            50%            75%   \n",
       "Country                                                               \n",
       "France   101212.290324  101212.290324  101212.290324  106519.163398   \n",
       "Germany  101212.290324  101212.290324  101212.290324  106519.163398   \n",
       "Spain    101212.290324  101212.290324  101212.290324  106519.163398   \n",
       "\n",
       "                                     \n",
       "                   max          std  \n",
       "Country                              \n",
       "France   106519.163398  2639.053563  \n",
       "Germany  106519.163398  2654.215470  \n",
       "Spain    106519.163398  2662.086864  \n",
       "\n",
       "[3 rows x 72 columns]"
      ]
     },
     "execution_count": 54,
     "metadata": {},
     "output_type": "execute_result"
    }
   ],
   "source": [
    "df.groupby('Country').describe()"
   ]
  },
  {
   "cell_type": "code",
   "execution_count": 55,
   "id": "da08f95d-53ef-4842-bd20-b5416ab8986e",
   "metadata": {},
   "outputs": [],
   "source": [
    "pd.set_option('display.max_columns', None)"
   ]
  },
  {
   "cell_type": "code",
   "execution_count": 57,
   "id": "cd07d770-701e-4cf7-91c8-df5dd493e08d",
   "metadata": {},
   "outputs": [
    {
     "data": {
      "text/html": [
       "<div>\n",
       "<style scoped>\n",
       "    .dataframe tbody tr th:only-of-type {\n",
       "        vertical-align: middle;\n",
       "    }\n",
       "\n",
       "    .dataframe tbody tr th {\n",
       "        vertical-align: top;\n",
       "    }\n",
       "\n",
       "    .dataframe thead tr th {\n",
       "        text-align: left;\n",
       "    }\n",
       "\n",
       "    .dataframe thead tr:last-of-type th {\n",
       "        text-align: right;\n",
       "    }\n",
       "</style>\n",
       "<table border=\"1\" class=\"dataframe\">\n",
       "  <thead>\n",
       "    <tr>\n",
       "      <th></th>\n",
       "      <th colspan=\"8\" halign=\"left\">CustomerId</th>\n",
       "      <th colspan=\"8\" halign=\"left\">CreditScore</th>\n",
       "      <th colspan=\"8\" halign=\"left\">Age</th>\n",
       "      <th colspan=\"8\" halign=\"left\">Tenure</th>\n",
       "      <th colspan=\"8\" halign=\"left\">Balance</th>\n",
       "      <th colspan=\"8\" halign=\"left\">NumOfProducts</th>\n",
       "      <th colspan=\"8\" halign=\"left\">Salary</th>\n",
       "      <th colspan=\"8\" halign=\"left\">Date</th>\n",
       "      <th colspan=\"8\" halign=\"left\">Avg_sal_per_gen</th>\n",
       "    </tr>\n",
       "    <tr>\n",
       "      <th></th>\n",
       "      <th>count</th>\n",
       "      <th>mean</th>\n",
       "      <th>min</th>\n",
       "      <th>25%</th>\n",
       "      <th>50%</th>\n",
       "      <th>75%</th>\n",
       "      <th>max</th>\n",
       "      <th>std</th>\n",
       "      <th>count</th>\n",
       "      <th>mean</th>\n",
       "      <th>min</th>\n",
       "      <th>25%</th>\n",
       "      <th>50%</th>\n",
       "      <th>75%</th>\n",
       "      <th>max</th>\n",
       "      <th>std</th>\n",
       "      <th>count</th>\n",
       "      <th>mean</th>\n",
       "      <th>min</th>\n",
       "      <th>25%</th>\n",
       "      <th>50%</th>\n",
       "      <th>75%</th>\n",
       "      <th>max</th>\n",
       "      <th>std</th>\n",
       "      <th>count</th>\n",
       "      <th>mean</th>\n",
       "      <th>min</th>\n",
       "      <th>25%</th>\n",
       "      <th>50%</th>\n",
       "      <th>75%</th>\n",
       "      <th>max</th>\n",
       "      <th>std</th>\n",
       "      <th>count</th>\n",
       "      <th>mean</th>\n",
       "      <th>min</th>\n",
       "      <th>25%</th>\n",
       "      <th>50%</th>\n",
       "      <th>75%</th>\n",
       "      <th>max</th>\n",
       "      <th>std</th>\n",
       "      <th>count</th>\n",
       "      <th>mean</th>\n",
       "      <th>min</th>\n",
       "      <th>25%</th>\n",
       "      <th>50%</th>\n",
       "      <th>75%</th>\n",
       "      <th>max</th>\n",
       "      <th>std</th>\n",
       "      <th>count</th>\n",
       "      <th>mean</th>\n",
       "      <th>min</th>\n",
       "      <th>25%</th>\n",
       "      <th>50%</th>\n",
       "      <th>75%</th>\n",
       "      <th>max</th>\n",
       "      <th>std</th>\n",
       "      <th>count</th>\n",
       "      <th>mean</th>\n",
       "      <th>min</th>\n",
       "      <th>25%</th>\n",
       "      <th>50%</th>\n",
       "      <th>75%</th>\n",
       "      <th>max</th>\n",
       "      <th>std</th>\n",
       "      <th>count</th>\n",
       "      <th>mean</th>\n",
       "      <th>min</th>\n",
       "      <th>25%</th>\n",
       "      <th>50%</th>\n",
       "      <th>75%</th>\n",
       "      <th>max</th>\n",
       "      <th>std</th>\n",
       "    </tr>\n",
       "    <tr>\n",
       "      <th>Country</th>\n",
       "      <th></th>\n",
       "      <th></th>\n",
       "      <th></th>\n",
       "      <th></th>\n",
       "      <th></th>\n",
       "      <th></th>\n",
       "      <th></th>\n",
       "      <th></th>\n",
       "      <th></th>\n",
       "      <th></th>\n",
       "      <th></th>\n",
       "      <th></th>\n",
       "      <th></th>\n",
       "      <th></th>\n",
       "      <th></th>\n",
       "      <th></th>\n",
       "      <th></th>\n",
       "      <th></th>\n",
       "      <th></th>\n",
       "      <th></th>\n",
       "      <th></th>\n",
       "      <th></th>\n",
       "      <th></th>\n",
       "      <th></th>\n",
       "      <th></th>\n",
       "      <th></th>\n",
       "      <th></th>\n",
       "      <th></th>\n",
       "      <th></th>\n",
       "      <th></th>\n",
       "      <th></th>\n",
       "      <th></th>\n",
       "      <th></th>\n",
       "      <th></th>\n",
       "      <th></th>\n",
       "      <th></th>\n",
       "      <th></th>\n",
       "      <th></th>\n",
       "      <th></th>\n",
       "      <th></th>\n",
       "      <th></th>\n",
       "      <th></th>\n",
       "      <th></th>\n",
       "      <th></th>\n",
       "      <th></th>\n",
       "      <th></th>\n",
       "      <th></th>\n",
       "      <th></th>\n",
       "      <th></th>\n",
       "      <th></th>\n",
       "      <th></th>\n",
       "      <th></th>\n",
       "      <th></th>\n",
       "      <th></th>\n",
       "      <th></th>\n",
       "      <th></th>\n",
       "      <th></th>\n",
       "      <th></th>\n",
       "      <th></th>\n",
       "      <th></th>\n",
       "      <th></th>\n",
       "      <th></th>\n",
       "      <th></th>\n",
       "      <th></th>\n",
       "      <th></th>\n",
       "      <th></th>\n",
       "      <th></th>\n",
       "      <th></th>\n",
       "      <th></th>\n",
       "      <th></th>\n",
       "      <th></th>\n",
       "      <th></th>\n",
       "    </tr>\n",
       "  </thead>\n",
       "  <tbody>\n",
       "    <tr>\n",
       "      <th>France</th>\n",
       "      <td>199.0</td>\n",
       "      <td>1.569147e+07</td>\n",
       "      <td>15566111.0</td>\n",
       "      <td>15630481.5</td>\n",
       "      <td>15692761.0</td>\n",
       "      <td>15754650.5</td>\n",
       "      <td>15813844.0</td>\n",
       "      <td>71002.198283</td>\n",
       "      <td>199.0</td>\n",
       "      <td>647.673367</td>\n",
       "      <td>411.0</td>\n",
       "      <td>561.0</td>\n",
       "      <td>656.0</td>\n",
       "      <td>718.0</td>\n",
       "      <td>850.0</td>\n",
       "      <td>103.865827</td>\n",
       "      <td>199.0</td>\n",
       "      <td>38.939698</td>\n",
       "      <td>21.0</td>\n",
       "      <td>31.5</td>\n",
       "      <td>37.0</td>\n",
       "      <td>44.0</td>\n",
       "      <td>80.0</td>\n",
       "      <td>10.726931</td>\n",
       "      <td>199.0</td>\n",
       "      <td>4.969849</td>\n",
       "      <td>0.0</td>\n",
       "      <td>2.0</td>\n",
       "      <td>5.0</td>\n",
       "      <td>8.0</td>\n",
       "      <td>10.0</td>\n",
       "      <td>3.069744</td>\n",
       "      <td>199.0</td>\n",
       "      <td>56104.252261</td>\n",
       "      <td>0.00</td>\n",
       "      <td>0.000</td>\n",
       "      <td>0.00</td>\n",
       "      <td>118178.800</td>\n",
       "      <td>187841.99</td>\n",
       "      <td>63104.682999</td>\n",
       "      <td>199.0</td>\n",
       "      <td>1.542714</td>\n",
       "      <td>1.0</td>\n",
       "      <td>1.0</td>\n",
       "      <td>2.0</td>\n",
       "      <td>2.0</td>\n",
       "      <td>3.0</td>\n",
       "      <td>0.538361</td>\n",
       "      <td>199.0</td>\n",
       "      <td>99156.221206</td>\n",
       "      <td>371.05</td>\n",
       "      <td>46473.015</td>\n",
       "      <td>103737.82</td>\n",
       "      <td>147178.365</td>\n",
       "      <td>199638.56</td>\n",
       "      <td>57832.281795</td>\n",
       "      <td>199</td>\n",
       "      <td>2023-12-25 08:48:14.472361728</td>\n",
       "      <td>2023-01-01 00:00:00</td>\n",
       "      <td>2023-06-03 12:00:00</td>\n",
       "      <td>2024-02-04 00:00:00</td>\n",
       "      <td>2024-05-13 12:00:00</td>\n",
       "      <td>2025-01-31 00:00:00</td>\n",
       "      <td>NaN</td>\n",
       "      <td>199.0</td>\n",
       "      <td>103532.380562</td>\n",
       "      <td>101212.290324</td>\n",
       "      <td>101212.290324</td>\n",
       "      <td>101212.290324</td>\n",
       "      <td>106519.163398</td>\n",
       "      <td>106519.163398</td>\n",
       "      <td>2639.053563</td>\n",
       "    </tr>\n",
       "    <tr>\n",
       "      <th>Germany</th>\n",
       "      <td>131.0</td>\n",
       "      <td>1.569624e+07</td>\n",
       "      <td>15568240.0</td>\n",
       "      <td>15635645.0</td>\n",
       "      <td>15696674.0</td>\n",
       "      <td>15759811.0</td>\n",
       "      <td>15812878.0</td>\n",
       "      <td>72407.254609</td>\n",
       "      <td>131.0</td>\n",
       "      <td>648.076336</td>\n",
       "      <td>376.0</td>\n",
       "      <td>582.0</td>\n",
       "      <td>659.0</td>\n",
       "      <td>725.0</td>\n",
       "      <td>850.0</td>\n",
       "      <td>100.848219</td>\n",
       "      <td>131.0</td>\n",
       "      <td>37.793893</td>\n",
       "      <td>19.0</td>\n",
       "      <td>31.5</td>\n",
       "      <td>36.0</td>\n",
       "      <td>42.0</td>\n",
       "      <td>75.0</td>\n",
       "      <td>9.458995</td>\n",
       "      <td>131.0</td>\n",
       "      <td>5.274809</td>\n",
       "      <td>0.0</td>\n",
       "      <td>3.0</td>\n",
       "      <td>5.0</td>\n",
       "      <td>8.0</td>\n",
       "      <td>10.0</td>\n",
       "      <td>3.040884</td>\n",
       "      <td>131.0</td>\n",
       "      <td>117872.832977</td>\n",
       "      <td>37266.67</td>\n",
       "      <td>100249.355</td>\n",
       "      <td>116363.37</td>\n",
       "      <td>137895.095</td>\n",
       "      <td>190479.48</td>\n",
       "      <td>31007.483734</td>\n",
       "      <td>131.0</td>\n",
       "      <td>1.534351</td>\n",
       "      <td>1.0</td>\n",
       "      <td>1.0</td>\n",
       "      <td>1.0</td>\n",
       "      <td>2.0</td>\n",
       "      <td>4.0</td>\n",
       "      <td>0.648047</td>\n",
       "      <td>131.0</td>\n",
       "      <td>109465.909160</td>\n",
       "      <td>2319.96</td>\n",
       "      <td>62065.705</td>\n",
       "      <td>113656.85</td>\n",
       "      <td>157247.205</td>\n",
       "      <td>199725.39</td>\n",
       "      <td>55887.337702</td>\n",
       "      <td>131</td>\n",
       "      <td>2023-12-30 21:04:07.328244224</td>\n",
       "      <td>2023-01-08 00:00:00</td>\n",
       "      <td>2023-05-20 12:00:00</td>\n",
       "      <td>2024-02-13 00:00:00</td>\n",
       "      <td>2024-06-11 00:00:00</td>\n",
       "      <td>2025-01-31 00:00:00</td>\n",
       "      <td>NaN</td>\n",
       "      <td>131.0</td>\n",
       "      <td>103642.919213</td>\n",
       "      <td>101212.290324</td>\n",
       "      <td>101212.290324</td>\n",
       "      <td>101212.290324</td>\n",
       "      <td>106519.163398</td>\n",
       "      <td>106519.163398</td>\n",
       "      <td>2654.215470</td>\n",
       "    </tr>\n",
       "    <tr>\n",
       "      <th>Spain</th>\n",
       "      <td>123.0</td>\n",
       "      <td>1.569525e+07</td>\n",
       "      <td>15566594.0</td>\n",
       "      <td>15625872.5</td>\n",
       "      <td>15692132.0</td>\n",
       "      <td>15758110.0</td>\n",
       "      <td>15813163.0</td>\n",
       "      <td>77041.619926</td>\n",
       "      <td>123.0</td>\n",
       "      <td>646.747967</td>\n",
       "      <td>443.0</td>\n",
       "      <td>570.0</td>\n",
       "      <td>648.0</td>\n",
       "      <td>719.0</td>\n",
       "      <td>850.0</td>\n",
       "      <td>97.306478</td>\n",
       "      <td>123.0</td>\n",
       "      <td>37.723577</td>\n",
       "      <td>21.0</td>\n",
       "      <td>32.0</td>\n",
       "      <td>37.0</td>\n",
       "      <td>42.0</td>\n",
       "      <td>75.0</td>\n",
       "      <td>9.709131</td>\n",
       "      <td>123.0</td>\n",
       "      <td>5.414634</td>\n",
       "      <td>0.0</td>\n",
       "      <td>3.0</td>\n",
       "      <td>6.0</td>\n",
       "      <td>8.0</td>\n",
       "      <td>10.0</td>\n",
       "      <td>2.819507</td>\n",
       "      <td>123.0</td>\n",
       "      <td>61225.397967</td>\n",
       "      <td>0.00</td>\n",
       "      <td>0.000</td>\n",
       "      <td>34013.63</td>\n",
       "      <td>123320.025</td>\n",
       "      <td>213146.20</td>\n",
       "      <td>65200.852690</td>\n",
       "      <td>123.0</td>\n",
       "      <td>1.544715</td>\n",
       "      <td>1.0</td>\n",
       "      <td>1.0</td>\n",
       "      <td>2.0</td>\n",
       "      <td>2.0</td>\n",
       "      <td>3.0</td>\n",
       "      <td>0.561789</td>\n",
       "      <td>123.0</td>\n",
       "      <td>104636.270325</td>\n",
       "      <td>417.41</td>\n",
       "      <td>61236.390</td>\n",
       "      <td>99645.04</td>\n",
       "      <td>158511.600</td>\n",
       "      <td>199304.74</td>\n",
       "      <td>58682.956246</td>\n",
       "      <td>123</td>\n",
       "      <td>2023-11-26 03:19:01.463414528</td>\n",
       "      <td>2023-01-05 00:00:00</td>\n",
       "      <td>2023-05-14 12:00:00</td>\n",
       "      <td>2023-08-20 00:00:00</td>\n",
       "      <td>2024-05-16 00:00:00</td>\n",
       "      <td>2025-01-31 00:00:00</td>\n",
       "      <td>NaN</td>\n",
       "      <td>123.0</td>\n",
       "      <td>103757.863587</td>\n",
       "      <td>101212.290324</td>\n",
       "      <td>101212.290324</td>\n",
       "      <td>101212.290324</td>\n",
       "      <td>106519.163398</td>\n",
       "      <td>106519.163398</td>\n",
       "      <td>2662.086864</td>\n",
       "    </tr>\n",
       "  </tbody>\n",
       "</table>\n",
       "</div>"
      ],
      "text/plain": [
       "        CustomerId                                                    \\\n",
       "             count          mean         min         25%         50%   \n",
       "Country                                                                \n",
       "France       199.0  1.569147e+07  15566111.0  15630481.5  15692761.0   \n",
       "Germany      131.0  1.569624e+07  15568240.0  15635645.0  15696674.0   \n",
       "Spain        123.0  1.569525e+07  15566594.0  15625872.5  15692132.0   \n",
       "\n",
       "                                              CreditScore                     \\\n",
       "                75%         max           std       count        mean    min   \n",
       "Country                                                                        \n",
       "France   15754650.5  15813844.0  71002.198283       199.0  647.673367  411.0   \n",
       "Germany  15759811.0  15812878.0  72407.254609       131.0  648.076336  376.0   \n",
       "Spain    15758110.0  15813163.0  77041.619926       123.0  646.747967  443.0   \n",
       "\n",
       "                                                   Age                         \\\n",
       "           25%    50%    75%    max         std  count       mean   min   25%   \n",
       "Country                                                                         \n",
       "France   561.0  656.0  718.0  850.0  103.865827  199.0  38.939698  21.0  31.5   \n",
       "Germany  582.0  659.0  725.0  850.0  100.848219  131.0  37.793893  19.0  31.5   \n",
       "Spain    570.0  648.0  719.0  850.0   97.306478  123.0  37.723577  21.0  32.0   \n",
       "\n",
       "                                     Tenure                                \\\n",
       "          50%   75%   max        std  count      mean  min  25%  50%  75%   \n",
       "Country                                                                     \n",
       "France   37.0  44.0  80.0  10.726931  199.0  4.969849  0.0  2.0  5.0  8.0   \n",
       "Germany  36.0  42.0  75.0   9.458995  131.0  5.274809  0.0  3.0  5.0  8.0   \n",
       "Spain    37.0  42.0  75.0   9.709131  123.0  5.414634  0.0  3.0  6.0  8.0   \n",
       "\n",
       "                        Balance                                       \\\n",
       "          max       std   count           mean       min         25%   \n",
       "Country                                                                \n",
       "France   10.0  3.069744   199.0   56104.252261      0.00       0.000   \n",
       "Germany  10.0  3.040884   131.0  117872.832977  37266.67  100249.355   \n",
       "Spain    10.0  2.819507   123.0   61225.397967      0.00       0.000   \n",
       "\n",
       "                                                        NumOfProducts  \\\n",
       "               50%         75%        max           std         count   \n",
       "Country                                                                 \n",
       "France        0.00  118178.800  187841.99  63104.682999         199.0   \n",
       "Germany  116363.37  137895.095  190479.48  31007.483734         131.0   \n",
       "Spain     34013.63  123320.025  213146.20  65200.852690         123.0   \n",
       "\n",
       "                                                     Salary                 \\\n",
       "             mean  min  25%  50%  75%  max       std  count           mean   \n",
       "Country                                                                      \n",
       "France   1.542714  1.0  1.0  2.0  2.0  3.0  0.538361  199.0   99156.221206   \n",
       "Germany  1.534351  1.0  1.0  1.0  2.0  4.0  0.648047  131.0  109465.909160   \n",
       "Spain    1.544715  1.0  1.0  2.0  2.0  3.0  0.561789  123.0  104636.270325   \n",
       "\n",
       "                                                                             \\\n",
       "             min        25%        50%         75%        max           std   \n",
       "Country                                                                       \n",
       "France    371.05  46473.015  103737.82  147178.365  199638.56  57832.281795   \n",
       "Germany  2319.96  62065.705  113656.85  157247.205  199725.39  55887.337702   \n",
       "Spain     417.41  61236.390   99645.04  158511.600  199304.74  58682.956246   \n",
       "\n",
       "         Date                                                      \\\n",
       "        count                           mean                  min   \n",
       "Country                                                             \n",
       "France    199  2023-12-25 08:48:14.472361728  2023-01-01 00:00:00   \n",
       "Germany   131  2023-12-30 21:04:07.328244224  2023-01-08 00:00:00   \n",
       "Spain     123  2023-11-26 03:19:01.463414528  2023-01-05 00:00:00   \n",
       "\n",
       "                                                                        \\\n",
       "                         25%                  50%                  75%   \n",
       "Country                                                                  \n",
       "France   2023-06-03 12:00:00  2024-02-04 00:00:00  2024-05-13 12:00:00   \n",
       "Germany  2023-05-20 12:00:00  2024-02-13 00:00:00  2024-06-11 00:00:00   \n",
       "Spain    2023-05-14 12:00:00  2023-08-20 00:00:00  2024-05-16 00:00:00   \n",
       "\n",
       "                                  Avg_sal_per_gen                 \\\n",
       "                         max  std           count           mean   \n",
       "Country                                                            \n",
       "France   2025-01-31 00:00:00  NaN           199.0  103532.380562   \n",
       "Germany  2025-01-31 00:00:00  NaN           131.0  103642.919213   \n",
       "Spain    2025-01-31 00:00:00  NaN           123.0  103757.863587   \n",
       "\n",
       "                                                                     \\\n",
       "                   min            25%            50%            75%   \n",
       "Country                                                               \n",
       "France   101212.290324  101212.290324  101212.290324  106519.163398   \n",
       "Germany  101212.290324  101212.290324  101212.290324  106519.163398   \n",
       "Spain    101212.290324  101212.290324  101212.290324  106519.163398   \n",
       "\n",
       "                                     \n",
       "                   max          std  \n",
       "Country                              \n",
       "France   106519.163398  2639.053563  \n",
       "Germany  106519.163398  2654.215470  \n",
       "Spain    106519.163398  2662.086864  "
      ]
     },
     "execution_count": 57,
     "metadata": {},
     "output_type": "execute_result"
    }
   ],
   "source": [
    "df.groupby('Country').describe()"
   ]
  },
  {
   "cell_type": "code",
   "execution_count": 58,
   "id": "4f6e0578-b1f8-4498-9b5a-d8730ee8dcd3",
   "metadata": {},
   "outputs": [
    {
     "name": "stdout",
     "output_type": "stream",
     "text": [
      "     CustomerId        Name  CreditScore  Country  Gender  Age  Tenure  \\\n",
      "0      15634602    Hargrave          619   France  Female   42       2   \n",
      "1      15634602    Hargrave          619   France  Female   42       2   \n",
      "2      15634602        Onio          502   France  Female   42       8   \n",
      "3      15634602        Onio          502   France  Female   42       8   \n",
      "4      15737888    Mitchell          850    Spain  Female   43       2   \n",
      "..          ...         ...          ...      ...     ...  ...     ...   \n",
      "448    15694860    Uspensky          675   France  Female   38       6   \n",
      "449    15658169        Cook          778    Spain  Female   47       6   \n",
      "450    15794396     Newbold          494  Germany  Female   38       7   \n",
      "451    15785798  Uchechukwu          850   France    Male   40       9   \n",
      "452    15710825       Ch'en          592    Spain    Male   31       7   \n",
      "\n",
      "       Balance  NumOfProducts     Salary       Date  Avg_sal_per_gen  \n",
      "0         0.00              1  101348.88 2023-01-01    106519.163398  \n",
      "1         0.00              1  101348.88 2023-01-02    106519.163398  \n",
      "2    159660.80              3  112542.58 2023-01-03    106519.163398  \n",
      "3    159660.80              3  112542.58 2023-01-04    106519.163398  \n",
      "4    125510.82              1   79084.10 2023-01-05    106519.163398  \n",
      "..         ...            ...        ...        ...              ...  \n",
      "448   68065.80              1  138777.00 2025-01-31    106519.163398  \n",
      "449  127299.34              2  124694.99 2025-01-31    106519.163398  \n",
      "450  174937.64              1   40084.32 2025-01-31    106519.163398  \n",
      "451       0.00              2  119232.33 2025-01-31    101212.290324  \n",
      "452  110071.10              1   43921.36 2025-01-31    101212.290324  \n",
      "\n",
      "[453 rows x 12 columns]\n"
     ]
    }
   ],
   "source": [
    "print(df)"
   ]
  },
  {
   "cell_type": "code",
   "execution_count": 59,
   "id": "50893941-40b2-45c8-9634-cfd1c7b93b7b",
   "metadata": {},
   "outputs": [
    {
     "ename": "TypeError",
     "evalue": "'DatetimeArray' with dtype datetime64[ns] does not support reduction 'sum'",
     "output_type": "error",
     "traceback": [
      "\u001b[1;31m---------------------------------------------------------------------------\u001b[0m",
      "\u001b[1;31mTypeError\u001b[0m                                 Traceback (most recent call last)",
      "Cell \u001b[1;32mIn[59], line 1\u001b[0m\n\u001b[1;32m----> 1\u001b[0m \u001b[43mdf\u001b[49m\u001b[38;5;241;43m.\u001b[39;49m\u001b[43msum\u001b[49m\u001b[43m(\u001b[49m\u001b[43m)\u001b[49m\n",
      "File \u001b[1;32m~\\AppData\\Local\\Programs\\Python\\Python313\\Lib\\site-packages\\pandas\\core\\frame.py:11670\u001b[0m, in \u001b[0;36mDataFrame.sum\u001b[1;34m(self, axis, skipna, numeric_only, min_count, **kwargs)\u001b[0m\n\u001b[0;32m  11661\u001b[0m \u001b[38;5;129m@doc\u001b[39m(make_doc(\u001b[38;5;124m\"\u001b[39m\u001b[38;5;124msum\u001b[39m\u001b[38;5;124m\"\u001b[39m, ndim\u001b[38;5;241m=\u001b[39m\u001b[38;5;241m2\u001b[39m))\n\u001b[0;32m  11662\u001b[0m \u001b[38;5;28;01mdef\u001b[39;00m \u001b[38;5;21msum\u001b[39m(\n\u001b[0;32m  11663\u001b[0m     \u001b[38;5;28mself\u001b[39m,\n\u001b[1;32m   (...)\u001b[0m\n\u001b[0;32m  11668\u001b[0m     \u001b[38;5;241m*\u001b[39m\u001b[38;5;241m*\u001b[39mkwargs,\n\u001b[0;32m  11669\u001b[0m ):\n\u001b[1;32m> 11670\u001b[0m     result \u001b[38;5;241m=\u001b[39m \u001b[38;5;28;43msuper\u001b[39;49m\u001b[43m(\u001b[49m\u001b[43m)\u001b[49m\u001b[38;5;241;43m.\u001b[39;49m\u001b[43msum\u001b[49m\u001b[43m(\u001b[49m\u001b[43maxis\u001b[49m\u001b[43m,\u001b[49m\u001b[43m \u001b[49m\u001b[43mskipna\u001b[49m\u001b[43m,\u001b[49m\u001b[43m \u001b[49m\u001b[43mnumeric_only\u001b[49m\u001b[43m,\u001b[49m\u001b[43m \u001b[49m\u001b[43mmin_count\u001b[49m\u001b[43m,\u001b[49m\u001b[43m \u001b[49m\u001b[38;5;241;43m*\u001b[39;49m\u001b[38;5;241;43m*\u001b[39;49m\u001b[43mkwargs\u001b[49m\u001b[43m)\u001b[49m\n\u001b[0;32m  11671\u001b[0m     \u001b[38;5;28;01mreturn\u001b[39;00m result\u001b[38;5;241m.\u001b[39m__finalize__(\u001b[38;5;28mself\u001b[39m, method\u001b[38;5;241m=\u001b[39m\u001b[38;5;124m\"\u001b[39m\u001b[38;5;124msum\u001b[39m\u001b[38;5;124m\"\u001b[39m)\n",
      "File \u001b[1;32m~\\AppData\\Local\\Programs\\Python\\Python313\\Lib\\site-packages\\pandas\\core\\generic.py:12506\u001b[0m, in \u001b[0;36mNDFrame.sum\u001b[1;34m(self, axis, skipna, numeric_only, min_count, **kwargs)\u001b[0m\n\u001b[0;32m  12498\u001b[0m \u001b[38;5;28;01mdef\u001b[39;00m \u001b[38;5;21msum\u001b[39m(\n\u001b[0;32m  12499\u001b[0m     \u001b[38;5;28mself\u001b[39m,\n\u001b[0;32m  12500\u001b[0m     axis: Axis \u001b[38;5;241m|\u001b[39m \u001b[38;5;28;01mNone\u001b[39;00m \u001b[38;5;241m=\u001b[39m \u001b[38;5;241m0\u001b[39m,\n\u001b[1;32m   (...)\u001b[0m\n\u001b[0;32m  12504\u001b[0m     \u001b[38;5;241m*\u001b[39m\u001b[38;5;241m*\u001b[39mkwargs,\n\u001b[0;32m  12505\u001b[0m ):\n\u001b[1;32m> 12506\u001b[0m     \u001b[38;5;28;01mreturn\u001b[39;00m \u001b[38;5;28;43mself\u001b[39;49m\u001b[38;5;241;43m.\u001b[39;49m\u001b[43m_min_count_stat_function\u001b[49m\u001b[43m(\u001b[49m\n\u001b[0;32m  12507\u001b[0m \u001b[43m        \u001b[49m\u001b[38;5;124;43m\"\u001b[39;49m\u001b[38;5;124;43msum\u001b[39;49m\u001b[38;5;124;43m\"\u001b[39;49m\u001b[43m,\u001b[49m\u001b[43m \u001b[49m\u001b[43mnanops\u001b[49m\u001b[38;5;241;43m.\u001b[39;49m\u001b[43mnansum\u001b[49m\u001b[43m,\u001b[49m\u001b[43m \u001b[49m\u001b[43maxis\u001b[49m\u001b[43m,\u001b[49m\u001b[43m \u001b[49m\u001b[43mskipna\u001b[49m\u001b[43m,\u001b[49m\u001b[43m \u001b[49m\u001b[43mnumeric_only\u001b[49m\u001b[43m,\u001b[49m\u001b[43m \u001b[49m\u001b[43mmin_count\u001b[49m\u001b[43m,\u001b[49m\u001b[43m \u001b[49m\u001b[38;5;241;43m*\u001b[39;49m\u001b[38;5;241;43m*\u001b[39;49m\u001b[43mkwargs\u001b[49m\n\u001b[0;32m  12508\u001b[0m \u001b[43m    \u001b[49m\u001b[43m)\u001b[49m\n",
      "File \u001b[1;32m~\\AppData\\Local\\Programs\\Python\\Python313\\Lib\\site-packages\\pandas\\core\\generic.py:12489\u001b[0m, in \u001b[0;36mNDFrame._min_count_stat_function\u001b[1;34m(self, name, func, axis, skipna, numeric_only, min_count, **kwargs)\u001b[0m\n\u001b[0;32m  12486\u001b[0m \u001b[38;5;28;01melif\u001b[39;00m axis \u001b[38;5;129;01mis\u001b[39;00m lib\u001b[38;5;241m.\u001b[39mno_default:\n\u001b[0;32m  12487\u001b[0m     axis \u001b[38;5;241m=\u001b[39m \u001b[38;5;241m0\u001b[39m\n\u001b[1;32m> 12489\u001b[0m \u001b[38;5;28;01mreturn\u001b[39;00m \u001b[38;5;28;43mself\u001b[39;49m\u001b[38;5;241;43m.\u001b[39;49m\u001b[43m_reduce\u001b[49m\u001b[43m(\u001b[49m\n\u001b[0;32m  12490\u001b[0m \u001b[43m    \u001b[49m\u001b[43mfunc\u001b[49m\u001b[43m,\u001b[49m\n\u001b[0;32m  12491\u001b[0m \u001b[43m    \u001b[49m\u001b[43mname\u001b[49m\u001b[38;5;241;43m=\u001b[39;49m\u001b[43mname\u001b[49m\u001b[43m,\u001b[49m\n\u001b[0;32m  12492\u001b[0m \u001b[43m    \u001b[49m\u001b[43maxis\u001b[49m\u001b[38;5;241;43m=\u001b[39;49m\u001b[43maxis\u001b[49m\u001b[43m,\u001b[49m\n\u001b[0;32m  12493\u001b[0m \u001b[43m    \u001b[49m\u001b[43mskipna\u001b[49m\u001b[38;5;241;43m=\u001b[39;49m\u001b[43mskipna\u001b[49m\u001b[43m,\u001b[49m\n\u001b[0;32m  12494\u001b[0m \u001b[43m    \u001b[49m\u001b[43mnumeric_only\u001b[49m\u001b[38;5;241;43m=\u001b[39;49m\u001b[43mnumeric_only\u001b[49m\u001b[43m,\u001b[49m\n\u001b[0;32m  12495\u001b[0m \u001b[43m    \u001b[49m\u001b[43mmin_count\u001b[49m\u001b[38;5;241;43m=\u001b[39;49m\u001b[43mmin_count\u001b[49m\u001b[43m,\u001b[49m\n\u001b[0;32m  12496\u001b[0m \u001b[43m\u001b[49m\u001b[43m)\u001b[49m\n",
      "File \u001b[1;32m~\\AppData\\Local\\Programs\\Python\\Python313\\Lib\\site-packages\\pandas\\core\\frame.py:11562\u001b[0m, in \u001b[0;36mDataFrame._reduce\u001b[1;34m(self, op, name, axis, skipna, numeric_only, filter_type, **kwds)\u001b[0m\n\u001b[0;32m  11558\u001b[0m     df \u001b[38;5;241m=\u001b[39m df\u001b[38;5;241m.\u001b[39mT\n\u001b[0;32m  11560\u001b[0m \u001b[38;5;66;03m# After possibly _get_data and transposing, we are now in the\u001b[39;00m\n\u001b[0;32m  11561\u001b[0m \u001b[38;5;66;03m#  simple case where we can use BlockManager.reduce\u001b[39;00m\n\u001b[1;32m> 11562\u001b[0m res \u001b[38;5;241m=\u001b[39m \u001b[43mdf\u001b[49m\u001b[38;5;241;43m.\u001b[39;49m\u001b[43m_mgr\u001b[49m\u001b[38;5;241;43m.\u001b[39;49m\u001b[43mreduce\u001b[49m\u001b[43m(\u001b[49m\u001b[43mblk_func\u001b[49m\u001b[43m)\u001b[49m\n\u001b[0;32m  11563\u001b[0m out \u001b[38;5;241m=\u001b[39m df\u001b[38;5;241m.\u001b[39m_constructor_from_mgr(res, axes\u001b[38;5;241m=\u001b[39mres\u001b[38;5;241m.\u001b[39maxes)\u001b[38;5;241m.\u001b[39miloc[\u001b[38;5;241m0\u001b[39m]\n\u001b[0;32m  11564\u001b[0m \u001b[38;5;28;01mif\u001b[39;00m out_dtype \u001b[38;5;129;01mis\u001b[39;00m \u001b[38;5;129;01mnot\u001b[39;00m \u001b[38;5;28;01mNone\u001b[39;00m \u001b[38;5;129;01mand\u001b[39;00m out\u001b[38;5;241m.\u001b[39mdtype \u001b[38;5;241m!=\u001b[39m \u001b[38;5;124m\"\u001b[39m\u001b[38;5;124mboolean\u001b[39m\u001b[38;5;124m\"\u001b[39m:\n",
      "File \u001b[1;32m~\\AppData\\Local\\Programs\\Python\\Python313\\Lib\\site-packages\\pandas\\core\\internals\\managers.py:1500\u001b[0m, in \u001b[0;36mBlockManager.reduce\u001b[1;34m(self, func)\u001b[0m\n\u001b[0;32m   1498\u001b[0m res_blocks: \u001b[38;5;28mlist\u001b[39m[Block] \u001b[38;5;241m=\u001b[39m []\n\u001b[0;32m   1499\u001b[0m \u001b[38;5;28;01mfor\u001b[39;00m blk \u001b[38;5;129;01min\u001b[39;00m \u001b[38;5;28mself\u001b[39m\u001b[38;5;241m.\u001b[39mblocks:\n\u001b[1;32m-> 1500\u001b[0m     nbs \u001b[38;5;241m=\u001b[39m \u001b[43mblk\u001b[49m\u001b[38;5;241;43m.\u001b[39;49m\u001b[43mreduce\u001b[49m\u001b[43m(\u001b[49m\u001b[43mfunc\u001b[49m\u001b[43m)\u001b[49m\n\u001b[0;32m   1501\u001b[0m     res_blocks\u001b[38;5;241m.\u001b[39mextend(nbs)\n\u001b[0;32m   1503\u001b[0m index \u001b[38;5;241m=\u001b[39m Index([\u001b[38;5;28;01mNone\u001b[39;00m])  \u001b[38;5;66;03m# placeholder\u001b[39;00m\n",
      "File \u001b[1;32m~\\AppData\\Local\\Programs\\Python\\Python313\\Lib\\site-packages\\pandas\\core\\internals\\blocks.py:404\u001b[0m, in \u001b[0;36mBlock.reduce\u001b[1;34m(self, func)\u001b[0m\n\u001b[0;32m    398\u001b[0m \u001b[38;5;129m@final\u001b[39m\n\u001b[0;32m    399\u001b[0m \u001b[38;5;28;01mdef\u001b[39;00m \u001b[38;5;21mreduce\u001b[39m(\u001b[38;5;28mself\u001b[39m, func) \u001b[38;5;241m-\u001b[39m\u001b[38;5;241m>\u001b[39m \u001b[38;5;28mlist\u001b[39m[Block]:\n\u001b[0;32m    400\u001b[0m     \u001b[38;5;66;03m# We will apply the function and reshape the result into a single-row\u001b[39;00m\n\u001b[0;32m    401\u001b[0m     \u001b[38;5;66;03m#  Block with the same mgr_locs; squeezing will be done at a higher level\u001b[39;00m\n\u001b[0;32m    402\u001b[0m     \u001b[38;5;28;01massert\u001b[39;00m \u001b[38;5;28mself\u001b[39m\u001b[38;5;241m.\u001b[39mndim \u001b[38;5;241m==\u001b[39m \u001b[38;5;241m2\u001b[39m\n\u001b[1;32m--> 404\u001b[0m     result \u001b[38;5;241m=\u001b[39m \u001b[43mfunc\u001b[49m\u001b[43m(\u001b[49m\u001b[38;5;28;43mself\u001b[39;49m\u001b[38;5;241;43m.\u001b[39;49m\u001b[43mvalues\u001b[49m\u001b[43m)\u001b[49m\n\u001b[0;32m    406\u001b[0m     \u001b[38;5;28;01mif\u001b[39;00m \u001b[38;5;28mself\u001b[39m\u001b[38;5;241m.\u001b[39mvalues\u001b[38;5;241m.\u001b[39mndim \u001b[38;5;241m==\u001b[39m \u001b[38;5;241m1\u001b[39m:\n\u001b[0;32m    407\u001b[0m         res_values \u001b[38;5;241m=\u001b[39m result\n",
      "File \u001b[1;32m~\\AppData\\Local\\Programs\\Python\\Python313\\Lib\\site-packages\\pandas\\core\\frame.py:11463\u001b[0m, in \u001b[0;36mDataFrame._reduce.<locals>.blk_func\u001b[1;34m(values, axis)\u001b[0m\n\u001b[0;32m  11459\u001b[0m \u001b[38;5;28;01mif\u001b[39;00m \u001b[38;5;28misinstance\u001b[39m(values, ExtensionArray):\n\u001b[0;32m  11460\u001b[0m     \u001b[38;5;28;01mif\u001b[39;00m \u001b[38;5;129;01mnot\u001b[39;00m is_1d_only_ea_dtype(values\u001b[38;5;241m.\u001b[39mdtype) \u001b[38;5;129;01mand\u001b[39;00m \u001b[38;5;129;01mnot\u001b[39;00m \u001b[38;5;28misinstance\u001b[39m(\n\u001b[0;32m  11461\u001b[0m         \u001b[38;5;28mself\u001b[39m\u001b[38;5;241m.\u001b[39m_mgr, ArrayManager\n\u001b[0;32m  11462\u001b[0m     ):\n\u001b[1;32m> 11463\u001b[0m         \u001b[38;5;28;01mreturn\u001b[39;00m \u001b[43mvalues\u001b[49m\u001b[38;5;241;43m.\u001b[39;49m\u001b[43m_reduce\u001b[49m\u001b[43m(\u001b[49m\u001b[43mname\u001b[49m\u001b[43m,\u001b[49m\u001b[43m \u001b[49m\u001b[43maxis\u001b[49m\u001b[38;5;241;43m=\u001b[39;49m\u001b[38;5;241;43m1\u001b[39;49m\u001b[43m,\u001b[49m\u001b[43m \u001b[49m\u001b[43mskipna\u001b[49m\u001b[38;5;241;43m=\u001b[39;49m\u001b[43mskipna\u001b[49m\u001b[43m,\u001b[49m\u001b[43m \u001b[49m\u001b[38;5;241;43m*\u001b[39;49m\u001b[38;5;241;43m*\u001b[39;49m\u001b[43mkwds\u001b[49m\u001b[43m)\u001b[49m\n\u001b[0;32m  11464\u001b[0m     has_keepdims \u001b[38;5;241m=\u001b[39m dtype_has_keepdims\u001b[38;5;241m.\u001b[39mget(values\u001b[38;5;241m.\u001b[39mdtype)\n\u001b[0;32m  11465\u001b[0m     \u001b[38;5;28;01mif\u001b[39;00m has_keepdims \u001b[38;5;129;01mis\u001b[39;00m \u001b[38;5;28;01mNone\u001b[39;00m:\n",
      "File \u001b[1;32m~\\AppData\\Local\\Programs\\Python\\Python313\\Lib\\site-packages\\pandas\\core\\arrays\\base.py:1954\u001b[0m, in \u001b[0;36mExtensionArray._reduce\u001b[1;34m(self, name, skipna, keepdims, **kwargs)\u001b[0m\n\u001b[0;32m   1952\u001b[0m meth \u001b[38;5;241m=\u001b[39m \u001b[38;5;28mgetattr\u001b[39m(\u001b[38;5;28mself\u001b[39m, name, \u001b[38;5;28;01mNone\u001b[39;00m)\n\u001b[0;32m   1953\u001b[0m \u001b[38;5;28;01mif\u001b[39;00m meth \u001b[38;5;129;01mis\u001b[39;00m \u001b[38;5;28;01mNone\u001b[39;00m:\n\u001b[1;32m-> 1954\u001b[0m     \u001b[38;5;28;01mraise\u001b[39;00m \u001b[38;5;167;01mTypeError\u001b[39;00m(\n\u001b[0;32m   1955\u001b[0m         \u001b[38;5;124mf\u001b[39m\u001b[38;5;124m\"\u001b[39m\u001b[38;5;124m'\u001b[39m\u001b[38;5;132;01m{\u001b[39;00m\u001b[38;5;28mtype\u001b[39m(\u001b[38;5;28mself\u001b[39m)\u001b[38;5;241m.\u001b[39m\u001b[38;5;18m__name__\u001b[39m\u001b[38;5;132;01m}\u001b[39;00m\u001b[38;5;124m'\u001b[39m\u001b[38;5;124m with dtype \u001b[39m\u001b[38;5;132;01m{\u001b[39;00m\u001b[38;5;28mself\u001b[39m\u001b[38;5;241m.\u001b[39mdtype\u001b[38;5;132;01m}\u001b[39;00m\u001b[38;5;124m \u001b[39m\u001b[38;5;124m\"\u001b[39m\n\u001b[0;32m   1956\u001b[0m         \u001b[38;5;124mf\u001b[39m\u001b[38;5;124m\"\u001b[39m\u001b[38;5;124mdoes not support reduction \u001b[39m\u001b[38;5;124m'\u001b[39m\u001b[38;5;132;01m{\u001b[39;00mname\u001b[38;5;132;01m}\u001b[39;00m\u001b[38;5;124m'\u001b[39m\u001b[38;5;124m\"\u001b[39m\n\u001b[0;32m   1957\u001b[0m     )\n\u001b[0;32m   1958\u001b[0m result \u001b[38;5;241m=\u001b[39m meth(skipna\u001b[38;5;241m=\u001b[39mskipna, \u001b[38;5;241m*\u001b[39m\u001b[38;5;241m*\u001b[39mkwargs)\n\u001b[0;32m   1959\u001b[0m \u001b[38;5;28;01mif\u001b[39;00m keepdims:\n",
      "\u001b[1;31mTypeError\u001b[0m: 'DatetimeArray' with dtype datetime64[ns] does not support reduction 'sum'"
     ]
    }
   ],
   "source": [
    "df.sum()"
   ]
  },
  {
   "cell_type": "code",
   "execution_count": 61,
   "id": "157b2ff7-2b03-4310-bc7c-7a595136a5fa",
   "metadata": {},
   "outputs": [
    {
     "data": {
      "text/plain": [
       "np.int64(453)"
      ]
     },
     "execution_count": 61,
     "metadata": {},
     "output_type": "execute_result"
    }
   ],
   "source": [
    "df['Country'].count()"
   ]
  },
  {
   "cell_type": "code",
   "execution_count": 62,
   "id": "74cedb81-ba7f-435d-a8e8-ee97c31c4d63",
   "metadata": {},
   "outputs": [
    {
     "data": {
      "text/plain": [
       "np.float64(34136811.27)"
      ]
     },
     "execution_count": 62,
     "metadata": {},
     "output_type": "execute_result"
    }
   ],
   "source": [
    "df['Balance'].sum()"
   ]
  },
  {
   "cell_type": "code",
   "execution_count": 63,
   "id": "2fc5054e-8829-4d19-ac25-2674cc63b5b3",
   "metadata": {},
   "outputs": [
    {
     "data": {
      "text/plain": [
       "np.float64(37.0)"
      ]
     },
     "execution_count": 63,
     "metadata": {},
     "output_type": "execute_result"
    }
   ],
   "source": [
    "df['Age'].median()"
   ]
  },
  {
   "cell_type": "code",
   "execution_count": 64,
   "id": "6238a9dc-1c25-412f-91f5-662005afff64",
   "metadata": {},
   "outputs": [
    {
     "data": {
      "text/plain": [
       "np.float64(0.0)"
      ]
     },
     "execution_count": 64,
     "metadata": {},
     "output_type": "execute_result"
    }
   ],
   "source": [
    "df['Balance'].min()"
   ]
  },
  {
   "cell_type": "code",
   "execution_count": 65,
   "id": "be912e09-0c3c-4561-93a7-1260c97644fc",
   "metadata": {},
   "outputs": [
    {
     "ename": "KeyError",
     "evalue": "'balance'",
     "output_type": "error",
     "traceback": [
      "\u001b[1;31m---------------------------------------------------------------------------\u001b[0m",
      "\u001b[1;31mKeyError\u001b[0m                                  Traceback (most recent call last)",
      "File \u001b[1;32m~\\AppData\\Local\\Programs\\Python\\Python313\\Lib\\site-packages\\pandas\\core\\indexes\\base.py:3805\u001b[0m, in \u001b[0;36mIndex.get_loc\u001b[1;34m(self, key)\u001b[0m\n\u001b[0;32m   3804\u001b[0m \u001b[38;5;28;01mtry\u001b[39;00m:\n\u001b[1;32m-> 3805\u001b[0m     \u001b[38;5;28;01mreturn\u001b[39;00m \u001b[38;5;28;43mself\u001b[39;49m\u001b[38;5;241;43m.\u001b[39;49m\u001b[43m_engine\u001b[49m\u001b[38;5;241;43m.\u001b[39;49m\u001b[43mget_loc\u001b[49m\u001b[43m(\u001b[49m\u001b[43mcasted_key\u001b[49m\u001b[43m)\u001b[49m\n\u001b[0;32m   3806\u001b[0m \u001b[38;5;28;01mexcept\u001b[39;00m \u001b[38;5;167;01mKeyError\u001b[39;00m \u001b[38;5;28;01mas\u001b[39;00m err:\n",
      "File \u001b[1;32mindex.pyx:167\u001b[0m, in \u001b[0;36mpandas._libs.index.IndexEngine.get_loc\u001b[1;34m()\u001b[0m\n",
      "File \u001b[1;32mindex.pyx:196\u001b[0m, in \u001b[0;36mpandas._libs.index.IndexEngine.get_loc\u001b[1;34m()\u001b[0m\n",
      "File \u001b[1;32mpandas\\\\_libs\\\\hashtable_class_helper.pxi:7081\u001b[0m, in \u001b[0;36mpandas._libs.hashtable.PyObjectHashTable.get_item\u001b[1;34m()\u001b[0m\n",
      "File \u001b[1;32mpandas\\\\_libs\\\\hashtable_class_helper.pxi:7089\u001b[0m, in \u001b[0;36mpandas._libs.hashtable.PyObjectHashTable.get_item\u001b[1;34m()\u001b[0m\n",
      "\u001b[1;31mKeyError\u001b[0m: 'balance'",
      "\nThe above exception was the direct cause of the following exception:\n",
      "\u001b[1;31mKeyError\u001b[0m                                  Traceback (most recent call last)",
      "Cell \u001b[1;32mIn[65], line 1\u001b[0m\n\u001b[1;32m----> 1\u001b[0m \u001b[43mdf\u001b[49m\u001b[43m[\u001b[49m\u001b[38;5;124;43m'\u001b[39;49m\u001b[38;5;124;43mbalance\u001b[39;49m\u001b[38;5;124;43m'\u001b[39;49m\u001b[43m]\u001b[49m\u001b[38;5;241m.\u001b[39mmax()\n",
      "File \u001b[1;32m~\\AppData\\Local\\Programs\\Python\\Python313\\Lib\\site-packages\\pandas\\core\\frame.py:4102\u001b[0m, in \u001b[0;36mDataFrame.__getitem__\u001b[1;34m(self, key)\u001b[0m\n\u001b[0;32m   4100\u001b[0m \u001b[38;5;28;01mif\u001b[39;00m \u001b[38;5;28mself\u001b[39m\u001b[38;5;241m.\u001b[39mcolumns\u001b[38;5;241m.\u001b[39mnlevels \u001b[38;5;241m>\u001b[39m \u001b[38;5;241m1\u001b[39m:\n\u001b[0;32m   4101\u001b[0m     \u001b[38;5;28;01mreturn\u001b[39;00m \u001b[38;5;28mself\u001b[39m\u001b[38;5;241m.\u001b[39m_getitem_multilevel(key)\n\u001b[1;32m-> 4102\u001b[0m indexer \u001b[38;5;241m=\u001b[39m \u001b[38;5;28;43mself\u001b[39;49m\u001b[38;5;241;43m.\u001b[39;49m\u001b[43mcolumns\u001b[49m\u001b[38;5;241;43m.\u001b[39;49m\u001b[43mget_loc\u001b[49m\u001b[43m(\u001b[49m\u001b[43mkey\u001b[49m\u001b[43m)\u001b[49m\n\u001b[0;32m   4103\u001b[0m \u001b[38;5;28;01mif\u001b[39;00m is_integer(indexer):\n\u001b[0;32m   4104\u001b[0m     indexer \u001b[38;5;241m=\u001b[39m [indexer]\n",
      "File \u001b[1;32m~\\AppData\\Local\\Programs\\Python\\Python313\\Lib\\site-packages\\pandas\\core\\indexes\\base.py:3812\u001b[0m, in \u001b[0;36mIndex.get_loc\u001b[1;34m(self, key)\u001b[0m\n\u001b[0;32m   3807\u001b[0m     \u001b[38;5;28;01mif\u001b[39;00m \u001b[38;5;28misinstance\u001b[39m(casted_key, \u001b[38;5;28mslice\u001b[39m) \u001b[38;5;129;01mor\u001b[39;00m (\n\u001b[0;32m   3808\u001b[0m         \u001b[38;5;28misinstance\u001b[39m(casted_key, abc\u001b[38;5;241m.\u001b[39mIterable)\n\u001b[0;32m   3809\u001b[0m         \u001b[38;5;129;01mand\u001b[39;00m \u001b[38;5;28many\u001b[39m(\u001b[38;5;28misinstance\u001b[39m(x, \u001b[38;5;28mslice\u001b[39m) \u001b[38;5;28;01mfor\u001b[39;00m x \u001b[38;5;129;01min\u001b[39;00m casted_key)\n\u001b[0;32m   3810\u001b[0m     ):\n\u001b[0;32m   3811\u001b[0m         \u001b[38;5;28;01mraise\u001b[39;00m InvalidIndexError(key)\n\u001b[1;32m-> 3812\u001b[0m     \u001b[38;5;28;01mraise\u001b[39;00m \u001b[38;5;167;01mKeyError\u001b[39;00m(key) \u001b[38;5;28;01mfrom\u001b[39;00m \u001b[38;5;21;01merr\u001b[39;00m\n\u001b[0;32m   3813\u001b[0m \u001b[38;5;28;01mexcept\u001b[39;00m \u001b[38;5;167;01mTypeError\u001b[39;00m:\n\u001b[0;32m   3814\u001b[0m     \u001b[38;5;66;03m# If we have a listlike key, _check_indexing_error will raise\u001b[39;00m\n\u001b[0;32m   3815\u001b[0m     \u001b[38;5;66;03m#  InvalidIndexError. Otherwise we fall through and re-raise\u001b[39;00m\n\u001b[0;32m   3816\u001b[0m     \u001b[38;5;66;03m#  the TypeError.\u001b[39;00m\n\u001b[0;32m   3817\u001b[0m     \u001b[38;5;28mself\u001b[39m\u001b[38;5;241m.\u001b[39m_check_indexing_error(key)\n",
      "\u001b[1;31mKeyError\u001b[0m: 'balance'"
     ]
    }
   ],
   "source": [
    "df['balance'].max()"
   ]
  },
  {
   "cell_type": "code",
   "execution_count": 66,
   "id": "9fcb0025-c391-474a-ab3b-29c99b77ce7b",
   "metadata": {},
   "outputs": [
    {
     "data": {
      "text/plain": [
       "np.float64(213146.2)"
      ]
     },
     "execution_count": 66,
     "metadata": {},
     "output_type": "execute_result"
    }
   ],
   "source": [
    "df['Balance'].max()"
   ]
  },
  {
   "cell_type": "code",
   "execution_count": 67,
   "id": "fe5845e1-9ae1-421d-af47-dd3c55b2dd24",
   "metadata": {},
   "outputs": [
    {
     "data": {
      "text/plain": [
       "np.int64(453)"
      ]
     },
     "execution_count": 67,
     "metadata": {},
     "output_type": "execute_result"
    }
   ],
   "source": [
    "df['Country'].count()"
   ]
  },
  {
   "cell_type": "code",
   "execution_count": 68,
   "id": "6b793211-6e52-4bc9-ba84-4d24aa91b275",
   "metadata": {},
   "outputs": [
    {
     "name": "stdout",
     "output_type": "stream",
     "text": [
      "     CustomerId        Name  CreditScore  Country  Gender  Age  Tenure  \\\n",
      "0      15634602    Hargrave          619   France  Female   42       2   \n",
      "1      15634602    Hargrave          619   France  Female   42       2   \n",
      "2      15634602        Onio          502   France  Female   42       8   \n",
      "3      15634602        Onio          502   France  Female   42       8   \n",
      "4      15737888    Mitchell          850    Spain  Female   43       2   \n",
      "..          ...         ...          ...      ...     ...  ...     ...   \n",
      "448    15694860    Uspensky          675   France  Female   38       6   \n",
      "449    15658169        Cook          778    Spain  Female   47       6   \n",
      "450    15794396     Newbold          494  Germany  Female   38       7   \n",
      "451    15785798  Uchechukwu          850   France    Male   40       9   \n",
      "452    15710825       Ch'en          592    Spain    Male   31       7   \n",
      "\n",
      "       Balance  NumOfProducts     Salary       Date  Avg_sal_per_gen  \n",
      "0         0.00              1  101348.88 2023-01-01    106519.163398  \n",
      "1         0.00              1  101348.88 2023-01-02    106519.163398  \n",
      "2    159660.80              3  112542.58 2023-01-03    106519.163398  \n",
      "3    159660.80              3  112542.58 2023-01-04    106519.163398  \n",
      "4    125510.82              1   79084.10 2023-01-05    106519.163398  \n",
      "..         ...            ...        ...        ...              ...  \n",
      "448   68065.80              1  138777.00 2025-01-31    106519.163398  \n",
      "449  127299.34              2  124694.99 2025-01-31    106519.163398  \n",
      "450  174937.64              1   40084.32 2025-01-31    106519.163398  \n",
      "451       0.00              2  119232.33 2025-01-31    101212.290324  \n",
      "452  110071.10              1   43921.36 2025-01-31    101212.290324  \n",
      "\n",
      "[453 rows x 12 columns]\n"
     ]
    }
   ],
   "source": [
    "print(df)"
   ]
  },
  {
   "cell_type": "code",
   "execution_count": 69,
   "id": "e14e2271-0893-4060-a83b-a6cc7154486d",
   "metadata": {},
   "outputs": [
    {
     "data": {
      "text/plain": [
       "np.float64(10.095884735343672)"
      ]
     },
     "execution_count": 69,
     "metadata": {},
     "output_type": "execute_result"
    }
   ],
   "source": [
    "df['Age'].std()"
   ]
  },
  {
   "cell_type": "code",
   "execution_count": 70,
   "id": "f2014201-4efa-453a-85e1-96795b120d67",
   "metadata": {},
   "outputs": [
    {
     "data": {
      "text/plain": [
       "np.float64(101.92688858934537)"
      ]
     },
     "execution_count": 70,
     "metadata": {},
     "output_type": "execute_result"
    }
   ],
   "source": [
    "df['Age'].var()\n"
   ]
  },
  {
   "cell_type": "code",
   "execution_count": 71,
   "id": "6dd769a6-a59d-4e7a-82dd-bca28172f283",
   "metadata": {},
   "outputs": [
    {
     "name": "stdout",
     "output_type": "stream",
     "text": [
      "count       453.000000\n",
      "mean      75357.199272\n",
      "std       62528.365497\n",
      "min           0.000000\n",
      "25%           0.000000\n",
      "50%       97259.250000\n",
      "75%      126384.420000\n",
      "max      213146.200000\n",
      "Name: Balance, dtype: float64\n"
     ]
    }
   ],
   "source": [
    "print(df['Balance'].describe())"
   ]
  },
  {
   "cell_type": "code",
   "execution_count": 72,
   "id": "efde072a-0526-46f8-8902-580b280722f9",
   "metadata": {},
   "outputs": [
    {
     "data": {
      "text/plain": [
       "Country\n",
       "France     19732088.02\n",
       "Germany    14340034.10\n",
       "Spain      12870261.25\n",
       "Name: Salary, dtype: float64"
      ]
     },
     "execution_count": 72,
     "metadata": {},
     "output_type": "execute_result"
    }
   ],
   "source": [
    "df.groupby('Country')['Salary'].sum()"
   ]
  },
  {
   "cell_type": "code",
   "execution_count": 77,
   "id": "e113b42a-adf3-450e-87d2-114d303c3932",
   "metadata": {},
   "outputs": [
    {
     "name": "stdout",
     "output_type": "stream",
     "text": [
      "             min        max           mean     median\n",
      "Country                                              \n",
      "France    371.05  199638.56   99156.221206  103737.82\n",
      "Germany  2319.96  199725.39  109465.909160  113656.85\n",
      "Spain     417.41  199304.74  104636.270325   99645.04\n"
     ]
    }
   ],
   "source": [
    "agg_result = df.groupby('Country')['Salary'].agg(['min', 'max', 'mean', 'median'])\n",
    "print(agg_result)"
   ]
  },
  {
   "cell_type": "code",
   "execution_count": 80,
   "id": "417521d8-a48f-4ba3-9929-b00c61dce3cf",
   "metadata": {},
   "outputs": [],
   "source": [
    "df['Cumulative'] = df['Salary'].cumsum()"
   ]
  },
  {
   "cell_type": "raw",
   "id": "b67b7fd5-b2ea-4cbe-a559-e9eaf21eb5ff",
   "metadata": {},
   "source": [
    "print(df)"
   ]
  },
  {
   "cell_type": "code",
   "execution_count": 81,
   "id": "79a122be-cb85-4995-820b-84b75ec06084",
   "metadata": {},
   "outputs": [
    {
     "name": "stdout",
     "output_type": "stream",
     "text": [
      "     CustomerId        Name  CreditScore  Country  Gender  Age  Tenure  \\\n",
      "0      15634602    Hargrave          619   France  Female   42       2   \n",
      "1      15634602    Hargrave          619   France  Female   42       2   \n",
      "2      15634602        Onio          502   France  Female   42       8   \n",
      "3      15634602        Onio          502   France  Female   42       8   \n",
      "4      15737888    Mitchell          850    Spain  Female   43       2   \n",
      "..          ...         ...          ...      ...     ...  ...     ...   \n",
      "448    15694860    Uspensky          675   France  Female   38       6   \n",
      "449    15658169        Cook          778    Spain  Female   47       6   \n",
      "450    15794396     Newbold          494  Germany  Female   38       7   \n",
      "451    15785798  Uchechukwu          850   France    Male   40       9   \n",
      "452    15710825       Ch'en          592    Spain    Male   31       7   \n",
      "\n",
      "       Balance  NumOfProducts     Salary       Date  Avg_sal_per_gen  \\\n",
      "0         0.00              1  101348.88 2023-01-01    106519.163398   \n",
      "1         0.00              1  101348.88 2023-01-02    106519.163398   \n",
      "2    159660.80              3  112542.58 2023-01-03    106519.163398   \n",
      "3    159660.80              3  112542.58 2023-01-04    106519.163398   \n",
      "4    125510.82              1   79084.10 2023-01-05    106519.163398   \n",
      "..         ...            ...        ...        ...              ...   \n",
      "448   68065.80              1  138777.00 2025-01-31    106519.163398   \n",
      "449  127299.34              2  124694.99 2025-01-31    106519.163398   \n",
      "450  174937.64              1   40084.32 2025-01-31    106519.163398   \n",
      "451       0.00              2  119232.33 2025-01-31    101212.290324   \n",
      "452  110071.10              1   43921.36 2025-01-31    101212.290324   \n",
      "\n",
      "      Cumulative  \n",
      "0      101348.88  \n",
      "1      202697.76  \n",
      "2      315240.34  \n",
      "3      427782.92  \n",
      "4      506867.02  \n",
      "..           ...  \n",
      "448  46614450.37  \n",
      "449  46739145.36  \n",
      "450  46779229.68  \n",
      "451  46898462.01  \n",
      "452  46942383.37  \n",
      "\n",
      "[453 rows x 13 columns]\n"
     ]
    }
   ],
   "source": [
    "print(df)"
   ]
  },
  {
   "cell_type": "code",
   "execution_count": 82,
   "id": "091f8168-1e29-48ea-bb0d-4ace1ce24459",
   "metadata": {},
   "outputs": [
    {
     "data": {
      "text/html": [
       "<div>\n",
       "<style scoped>\n",
       "    .dataframe tbody tr th:only-of-type {\n",
       "        vertical-align: middle;\n",
       "    }\n",
       "\n",
       "    .dataframe tbody tr th {\n",
       "        vertical-align: top;\n",
       "    }\n",
       "\n",
       "    .dataframe thead th {\n",
       "        text-align: right;\n",
       "    }\n",
       "</style>\n",
       "<table border=\"1\" class=\"dataframe\">\n",
       "  <thead>\n",
       "    <tr style=\"text-align: right;\">\n",
       "      <th></th>\n",
       "      <th>Salary</th>\n",
       "    </tr>\n",
       "    <tr>\n",
       "      <th>Country</th>\n",
       "      <th></th>\n",
       "    </tr>\n",
       "  </thead>\n",
       "  <tbody>\n",
       "    <tr>\n",
       "      <th>France</th>\n",
       "      <td>19732088.02</td>\n",
       "    </tr>\n",
       "    <tr>\n",
       "      <th>Germany</th>\n",
       "      <td>14340034.10</td>\n",
       "    </tr>\n",
       "    <tr>\n",
       "      <th>Spain</th>\n",
       "      <td>12870261.25</td>\n",
       "    </tr>\n",
       "  </tbody>\n",
       "</table>\n",
       "</div>"
      ],
      "text/plain": [
       "              Salary\n",
       "Country             \n",
       "France   19732088.02\n",
       "Germany  14340034.10\n",
       "Spain    12870261.25"
      ]
     },
     "execution_count": 82,
     "metadata": {},
     "output_type": "execute_result"
    }
   ],
   "source": [
    "df.pivot_table(index='Country', values='Salary', aggfunc='sum')"
   ]
  },
  {
   "cell_type": "code",
   "execution_count": 1,
   "id": "c8eb492c-5d87-4cad-9715-5ffc4b3763f9",
   "metadata": {},
   "outputs": [
    {
     "name": "stdout",
     "output_type": "stream",
     "text": [
      "     CustomerId        Name  CreditScore  Country  Gender  Age  Tenure  \\\n",
      "0      15634602    Hargrave          619   France  Female   42       2   \n",
      "1      15634602    Hargrave          619   France  Female   42       2   \n",
      "2      15634602        Onio          502   France  Female   42       8   \n",
      "3      15634602        Onio          502   France  Female   42       8   \n",
      "4      15737888    Mitchell          850    Spain  Female   43       2   \n",
      "..          ...         ...          ...      ...     ...  ...     ...   \n",
      "448    15694860    Uspensky          675   France  Female   38       6   \n",
      "449    15658169        Cook          778    Spain  Female   47       6   \n",
      "450    15794396     Newbold          494  Germany  Female   38       7   \n",
      "451    15785798  Uchechukwu          850   France    Male   40       9   \n",
      "452    15710825       Ch'en          592    Spain    Male   31       7   \n",
      "\n",
      "       Balance  NumOfProducts     Salary       Date  \n",
      "0         0.00              1  101348.88 2023-01-01  \n",
      "1         0.00              1  101348.88 2023-01-02  \n",
      "2    159660.80              3  112542.58 2023-01-03  \n",
      "3    159660.80              3  112542.58 2023-01-04  \n",
      "4    125510.82              1   79084.10 2023-01-05  \n",
      "..         ...            ...        ...        ...  \n",
      "448   68065.80              1  138777.00 2025-01-31  \n",
      "449  127299.34              2  124694.99 2025-01-31  \n",
      "450  174937.64              1   40084.32 2025-01-31  \n",
      "451       0.00              2  119232.33 2025-01-31  \n",
      "452  110071.10              1   43921.36 2025-01-31  \n",
      "\n",
      "[453 rows x 11 columns]\n"
     ]
    }
   ],
   "source": [
    "import pandas as pd\n",
    "file_path = \"C:/Users/Sivaraman/Desktop/study/data analytics/Data (for practice)/bank_details_withdate.xlsx\"\n",
    "df = pd.read_excel(file_path)\n",
    "print(df)"
   ]
  },
  {
   "cell_type": "code",
   "execution_count": 3,
   "id": "cb56abb6-6c1f-467b-a428-707a1cfe75fb",
   "metadata": {},
   "outputs": [
    {
     "data": {
      "text/html": [
       "<div>\n",
       "<style scoped>\n",
       "    .dataframe tbody tr th:only-of-type {\n",
       "        vertical-align: middle;\n",
       "    }\n",
       "\n",
       "    .dataframe tbody tr th {\n",
       "        vertical-align: top;\n",
       "    }\n",
       "\n",
       "    .dataframe thead th {\n",
       "        text-align: right;\n",
       "    }\n",
       "</style>\n",
       "<table border=\"1\" class=\"dataframe\">\n",
       "  <thead>\n",
       "    <tr style=\"text-align: right;\">\n",
       "      <th></th>\n",
       "      <th>Salary</th>\n",
       "    </tr>\n",
       "    <tr>\n",
       "      <th>Country</th>\n",
       "      <th></th>\n",
       "    </tr>\n",
       "  </thead>\n",
       "  <tbody>\n",
       "    <tr>\n",
       "      <th>France</th>\n",
       "      <td>19732088.02</td>\n",
       "    </tr>\n",
       "    <tr>\n",
       "      <th>Germany</th>\n",
       "      <td>14340034.10</td>\n",
       "    </tr>\n",
       "    <tr>\n",
       "      <th>Spain</th>\n",
       "      <td>12870261.25</td>\n",
       "    </tr>\n",
       "  </tbody>\n",
       "</table>\n",
       "</div>"
      ],
      "text/plain": [
       "              Salary\n",
       "Country             \n",
       "France   19732088.02\n",
       "Germany  14340034.10\n",
       "Spain    12870261.25"
      ]
     },
     "execution_count": 3,
     "metadata": {},
     "output_type": "execute_result"
    }
   ],
   "source": [
    "df.pivot_table(index = 'Country', values = 'Salary', aggfunc ='sum')"
   ]
  },
  {
   "cell_type": "code",
   "execution_count": 4,
   "id": "6cf064d8-a045-4f8e-9b65-d94cc8668218",
   "metadata": {},
   "outputs": [
    {
     "data": {
      "text/html": [
       "<div>\n",
       "<style scoped>\n",
       "    .dataframe tbody tr th:only-of-type {\n",
       "        vertical-align: middle;\n",
       "    }\n",
       "\n",
       "    .dataframe tbody tr th {\n",
       "        vertical-align: top;\n",
       "    }\n",
       "\n",
       "    .dataframe thead th {\n",
       "        text-align: right;\n",
       "    }\n",
       "</style>\n",
       "<table border=\"1\" class=\"dataframe\">\n",
       "  <thead>\n",
       "    <tr style=\"text-align: right;\">\n",
       "      <th></th>\n",
       "      <th>CreditScore</th>\n",
       "    </tr>\n",
       "    <tr>\n",
       "      <th>Country</th>\n",
       "      <th></th>\n",
       "    </tr>\n",
       "  </thead>\n",
       "  <tbody>\n",
       "    <tr>\n",
       "      <th>France</th>\n",
       "      <td>647.673367</td>\n",
       "    </tr>\n",
       "    <tr>\n",
       "      <th>Germany</th>\n",
       "      <td>648.076336</td>\n",
       "    </tr>\n",
       "    <tr>\n",
       "      <th>Spain</th>\n",
       "      <td>646.747967</td>\n",
       "    </tr>\n",
       "  </tbody>\n",
       "</table>\n",
       "</div>"
      ],
      "text/plain": [
       "         CreditScore\n",
       "Country             \n",
       "France    647.673367\n",
       "Germany   648.076336\n",
       "Spain     646.747967"
      ]
     },
     "execution_count": 4,
     "metadata": {},
     "output_type": "execute_result"
    }
   ],
   "source": [
    "df.pivot_table(index = 'Country', values = 'CreditScore', aggfunc = 'mean')"
   ]
  },
  {
   "cell_type": "code",
   "execution_count": 7,
   "id": "50813cb4-2d62-42f1-9d90-5ffc6d524263",
   "metadata": {},
   "outputs": [
    {
     "data": {
      "text/html": [
       "<div>\n",
       "<style scoped>\n",
       "    .dataframe tbody tr th:only-of-type {\n",
       "        vertical-align: middle;\n",
       "    }\n",
       "\n",
       "    .dataframe tbody tr th {\n",
       "        vertical-align: top;\n",
       "    }\n",
       "\n",
       "    .dataframe thead th {\n",
       "        text-align: right;\n",
       "    }\n",
       "</style>\n",
       "<table border=\"1\" class=\"dataframe\">\n",
       "  <thead>\n",
       "    <tr style=\"text-align: right;\">\n",
       "      <th></th>\n",
       "      <th>Salary</th>\n",
       "    </tr>\n",
       "    <tr>\n",
       "      <th>Tenure</th>\n",
       "      <th></th>\n",
       "    </tr>\n",
       "  </thead>\n",
       "  <tbody>\n",
       "    <tr>\n",
       "      <th>0</th>\n",
       "      <td>1747367.69</td>\n",
       "    </tr>\n",
       "    <tr>\n",
       "      <th>1</th>\n",
       "      <td>4156564.15</td>\n",
       "    </tr>\n",
       "    <tr>\n",
       "      <th>2</th>\n",
       "      <td>5441766.69</td>\n",
       "    </tr>\n",
       "    <tr>\n",
       "      <th>3</th>\n",
       "      <td>4878182.49</td>\n",
       "    </tr>\n",
       "    <tr>\n",
       "      <th>4</th>\n",
       "      <td>3881648.94</td>\n",
       "    </tr>\n",
       "    <tr>\n",
       "      <th>5</th>\n",
       "      <td>4205740.37</td>\n",
       "    </tr>\n",
       "    <tr>\n",
       "      <th>6</th>\n",
       "      <td>3374510.51</td>\n",
       "    </tr>\n",
       "    <tr>\n",
       "      <th>7</th>\n",
       "      <td>3882429.00</td>\n",
       "    </tr>\n",
       "    <tr>\n",
       "      <th>8</th>\n",
       "      <td>6484729.56</td>\n",
       "    </tr>\n",
       "    <tr>\n",
       "      <th>9</th>\n",
       "      <td>5896892.49</td>\n",
       "    </tr>\n",
       "    <tr>\n",
       "      <th>10</th>\n",
       "      <td>2992551.48</td>\n",
       "    </tr>\n",
       "  </tbody>\n",
       "</table>\n",
       "</div>"
      ],
      "text/plain": [
       "            Salary\n",
       "Tenure            \n",
       "0       1747367.69\n",
       "1       4156564.15\n",
       "2       5441766.69\n",
       "3       4878182.49\n",
       "4       3881648.94\n",
       "5       4205740.37\n",
       "6       3374510.51\n",
       "7       3882429.00\n",
       "8       6484729.56\n",
       "9       5896892.49\n",
       "10      2992551.48"
      ]
     },
     "execution_count": 7,
     "metadata": {},
     "output_type": "execute_result"
    }
   ],
   "source": [
    "df.pivot_table(index = 'Tenure', values = 'Salary', aggfunc = 'sum')\n"
   ]
  },
  {
   "cell_type": "code",
   "execution_count": 8,
   "id": "6aa8b093-906c-4951-a851-a85323de154a",
   "metadata": {},
   "outputs": [
    {
     "data": {
      "text/html": [
       "<div>\n",
       "<style scoped>\n",
       "    .dataframe tbody tr th:only-of-type {\n",
       "        vertical-align: middle;\n",
       "    }\n",
       "\n",
       "    .dataframe tbody tr th {\n",
       "        vertical-align: top;\n",
       "    }\n",
       "\n",
       "    .dataframe thead th {\n",
       "        text-align: right;\n",
       "    }\n",
       "</style>\n",
       "<table border=\"1\" class=\"dataframe\">\n",
       "  <thead>\n",
       "    <tr style=\"text-align: right;\">\n",
       "      <th></th>\n",
       "      <th>Salary</th>\n",
       "    </tr>\n",
       "    <tr>\n",
       "      <th>Tenure</th>\n",
       "      <th></th>\n",
       "    </tr>\n",
       "  </thead>\n",
       "  <tbody>\n",
       "    <tr>\n",
       "      <th>0</th>\n",
       "      <td>1747367.69</td>\n",
       "    </tr>\n",
       "    <tr>\n",
       "      <th>1</th>\n",
       "      <td>4156564.15</td>\n",
       "    </tr>\n",
       "    <tr>\n",
       "      <th>2</th>\n",
       "      <td>5441766.69</td>\n",
       "    </tr>\n",
       "    <tr>\n",
       "      <th>3</th>\n",
       "      <td>4878182.49</td>\n",
       "    </tr>\n",
       "    <tr>\n",
       "      <th>4</th>\n",
       "      <td>3881648.94</td>\n",
       "    </tr>\n",
       "    <tr>\n",
       "      <th>5</th>\n",
       "      <td>4205740.37</td>\n",
       "    </tr>\n",
       "    <tr>\n",
       "      <th>6</th>\n",
       "      <td>3374510.51</td>\n",
       "    </tr>\n",
       "    <tr>\n",
       "      <th>7</th>\n",
       "      <td>3882429.00</td>\n",
       "    </tr>\n",
       "    <tr>\n",
       "      <th>8</th>\n",
       "      <td>6484729.56</td>\n",
       "    </tr>\n",
       "    <tr>\n",
       "      <th>9</th>\n",
       "      <td>5896892.49</td>\n",
       "    </tr>\n",
       "    <tr>\n",
       "      <th>10</th>\n",
       "      <td>2992551.48</td>\n",
       "    </tr>\n",
       "  </tbody>\n",
       "</table>\n",
       "</div>"
      ],
      "text/plain": [
       "            Salary\n",
       "Tenure            \n",
       "0       1747367.69\n",
       "1       4156564.15\n",
       "2       5441766.69\n",
       "3       4878182.49\n",
       "4       3881648.94\n",
       "5       4205740.37\n",
       "6       3374510.51\n",
       "7       3882429.00\n",
       "8       6484729.56\n",
       "9       5896892.49\n",
       "10      2992551.48"
      ]
     },
     "execution_count": 8,
     "metadata": {},
     "output_type": "execute_result"
    }
   ],
   "source": [
    "df.pivot_table(index = 'Tenure', values = 'Salary', aggfunc = 'sum')"
   ]
  },
  {
   "cell_type": "code",
   "execution_count": 10,
   "id": "8879af62-ae13-4087-950d-6b251142cf84",
   "metadata": {},
   "outputs": [
    {
     "data": {
      "text/html": [
       "<div>\n",
       "<style scoped>\n",
       "    .dataframe tbody tr th:only-of-type {\n",
       "        vertical-align: middle;\n",
       "    }\n",
       "\n",
       "    .dataframe tbody tr th {\n",
       "        vertical-align: top;\n",
       "    }\n",
       "\n",
       "    .dataframe thead th {\n",
       "        text-align: right;\n",
       "    }\n",
       "</style>\n",
       "<table border=\"1\" class=\"dataframe\">\n",
       "  <thead>\n",
       "    <tr style=\"text-align: right;\">\n",
       "      <th>Gender</th>\n",
       "      <th>Female</th>\n",
       "      <th>Male</th>\n",
       "    </tr>\n",
       "    <tr>\n",
       "      <th>Country</th>\n",
       "      <th></th>\n",
       "      <th></th>\n",
       "    </tr>\n",
       "  </thead>\n",
       "  <tbody>\n",
       "    <tr>\n",
       "      <th>France</th>\n",
       "      <td>87</td>\n",
       "      <td>112</td>\n",
       "    </tr>\n",
       "    <tr>\n",
       "      <th>Germany</th>\n",
       "      <td>60</td>\n",
       "      <td>71</td>\n",
       "    </tr>\n",
       "    <tr>\n",
       "      <th>Spain</th>\n",
       "      <td>59</td>\n",
       "      <td>64</td>\n",
       "    </tr>\n",
       "  </tbody>\n",
       "</table>\n",
       "</div>"
      ],
      "text/plain": [
       "Gender   Female  Male\n",
       "Country              \n",
       "France       87   112\n",
       "Germany      60    71\n",
       "Spain        59    64"
      ]
     },
     "execution_count": 10,
     "metadata": {},
     "output_type": "execute_result"
    }
   ],
   "source": [
    "df.pivot_table(index = 'Country', columns = 'Gender', values = 'CustomerId', aggfunc = 'count')"
   ]
  },
  {
   "cell_type": "code",
   "execution_count": 11,
   "id": "0b433f15-bf8b-4744-99d6-e24b2f08cb8a",
   "metadata": {},
   "outputs": [
    {
     "data": {
      "text/html": [
       "<div>\n",
       "<style scoped>\n",
       "    .dataframe tbody tr th:only-of-type {\n",
       "        vertical-align: middle;\n",
       "    }\n",
       "\n",
       "    .dataframe tbody tr th {\n",
       "        vertical-align: top;\n",
       "    }\n",
       "\n",
       "    .dataframe thead tr th {\n",
       "        text-align: left;\n",
       "    }\n",
       "\n",
       "    .dataframe thead tr:last-of-type th {\n",
       "        text-align: right;\n",
       "    }\n",
       "</style>\n",
       "<table border=\"1\" class=\"dataframe\">\n",
       "  <thead>\n",
       "    <tr>\n",
       "      <th></th>\n",
       "      <th colspan=\"2\" halign=\"left\">sum</th>\n",
       "      <th colspan=\"2\" halign=\"left\">mean</th>\n",
       "    </tr>\n",
       "    <tr>\n",
       "      <th></th>\n",
       "      <th>Balance</th>\n",
       "      <th>Salary</th>\n",
       "      <th>Balance</th>\n",
       "      <th>Salary</th>\n",
       "    </tr>\n",
       "    <tr>\n",
       "      <th>Country</th>\n",
       "      <th></th>\n",
       "      <th></th>\n",
       "      <th></th>\n",
       "      <th></th>\n",
       "    </tr>\n",
       "  </thead>\n",
       "  <tbody>\n",
       "    <tr>\n",
       "      <th>France</th>\n",
       "      <td>11164746.20</td>\n",
       "      <td>19732088.02</td>\n",
       "      <td>56104.252261</td>\n",
       "      <td>99156.221206</td>\n",
       "    </tr>\n",
       "    <tr>\n",
       "      <th>Germany</th>\n",
       "      <td>15441341.12</td>\n",
       "      <td>14340034.10</td>\n",
       "      <td>117872.832977</td>\n",
       "      <td>109465.909160</td>\n",
       "    </tr>\n",
       "    <tr>\n",
       "      <th>Spain</th>\n",
       "      <td>7530723.95</td>\n",
       "      <td>12870261.25</td>\n",
       "      <td>61225.397967</td>\n",
       "      <td>104636.270325</td>\n",
       "    </tr>\n",
       "  </tbody>\n",
       "</table>\n",
       "</div>"
      ],
      "text/plain": [
       "                 sum                        mean               \n",
       "             Balance       Salary        Balance         Salary\n",
       "Country                                                        \n",
       "France   11164746.20  19732088.02   56104.252261   99156.221206\n",
       "Germany  15441341.12  14340034.10  117872.832977  109465.909160\n",
       "Spain     7530723.95  12870261.25   61225.397967  104636.270325"
      ]
     },
     "execution_count": 11,
     "metadata": {},
     "output_type": "execute_result"
    }
   ],
   "source": [
    "# Multiple Aggregations (Sum and Average)\n",
    "df.pivot_table(index = 'Country', values = ['Balance', 'Salary'], aggfunc = ['sum', 'mean'])"
   ]
  },
  {
   "cell_type": "code",
   "execution_count": 12,
   "id": "e4af8e6e-b645-4d6e-93aa-e4ff52ebf8ec",
   "metadata": {},
   "outputs": [
    {
     "data": {
      "text/html": [
       "<div>\n",
       "<style scoped>\n",
       "    .dataframe tbody tr th:only-of-type {\n",
       "        vertical-align: middle;\n",
       "    }\n",
       "\n",
       "    .dataframe tbody tr th {\n",
       "        vertical-align: top;\n",
       "    }\n",
       "\n",
       "    .dataframe thead th {\n",
       "        text-align: right;\n",
       "    }\n",
       "</style>\n",
       "<table border=\"1\" class=\"dataframe\">\n",
       "  <thead>\n",
       "    <tr style=\"text-align: right;\">\n",
       "      <th></th>\n",
       "      <th></th>\n",
       "      <th>Salary</th>\n",
       "    </tr>\n",
       "    <tr>\n",
       "      <th>Country</th>\n",
       "      <th>Tenure</th>\n",
       "      <th></th>\n",
       "    </tr>\n",
       "  </thead>\n",
       "  <tbody>\n",
       "    <tr>\n",
       "      <th rowspan=\"11\" valign=\"top\">France</th>\n",
       "      <th>0</th>\n",
       "      <td>90887.332000</td>\n",
       "    </tr>\n",
       "    <tr>\n",
       "      <th>1</th>\n",
       "      <td>109414.142273</td>\n",
       "    </tr>\n",
       "    <tr>\n",
       "      <th>2</th>\n",
       "      <td>101773.140000</td>\n",
       "    </tr>\n",
       "    <tr>\n",
       "      <th>3</th>\n",
       "      <td>79159.960625</td>\n",
       "    </tr>\n",
       "    <tr>\n",
       "      <th>4</th>\n",
       "      <td>105780.266000</td>\n",
       "    </tr>\n",
       "    <tr>\n",
       "      <th>5</th>\n",
       "      <td>125285.975000</td>\n",
       "    </tr>\n",
       "    <tr>\n",
       "      <th>6</th>\n",
       "      <td>105304.670667</td>\n",
       "    </tr>\n",
       "    <tr>\n",
       "      <th>7</th>\n",
       "      <td>84252.254444</td>\n",
       "    </tr>\n",
       "    <tr>\n",
       "      <th>8</th>\n",
       "      <td>92301.817917</td>\n",
       "    </tr>\n",
       "    <tr>\n",
       "      <th>9</th>\n",
       "      <td>95867.157200</td>\n",
       "    </tr>\n",
       "    <tr>\n",
       "      <th>10</th>\n",
       "      <td>108091.784444</td>\n",
       "    </tr>\n",
       "    <tr>\n",
       "      <th rowspan=\"11\" valign=\"top\">Germany</th>\n",
       "      <th>0</th>\n",
       "      <td>100299.632000</td>\n",
       "    </tr>\n",
       "    <tr>\n",
       "      <th>1</th>\n",
       "      <td>115210.255455</td>\n",
       "    </tr>\n",
       "    <tr>\n",
       "      <th>2</th>\n",
       "      <td>106005.743846</td>\n",
       "    </tr>\n",
       "    <tr>\n",
       "      <th>3</th>\n",
       "      <td>94967.737368</td>\n",
       "    </tr>\n",
       "    <tr>\n",
       "      <th>4</th>\n",
       "      <td>105768.784000</td>\n",
       "    </tr>\n",
       "    <tr>\n",
       "      <th>5</th>\n",
       "      <td>101485.051818</td>\n",
       "    </tr>\n",
       "    <tr>\n",
       "      <th>6</th>\n",
       "      <td>98275.141000</td>\n",
       "    </tr>\n",
       "    <tr>\n",
       "      <th>7</th>\n",
       "      <td>99516.093077</td>\n",
       "    </tr>\n",
       "    <tr>\n",
       "      <th>8</th>\n",
       "      <td>146743.720000</td>\n",
       "    </tr>\n",
       "    <tr>\n",
       "      <th>9</th>\n",
       "      <td>106890.448824</td>\n",
       "    </tr>\n",
       "    <tr>\n",
       "      <th>10</th>\n",
       "      <td>136996.260909</td>\n",
       "    </tr>\n",
       "    <tr>\n",
       "      <th rowspan=\"11\" valign=\"top\">Spain</th>\n",
       "      <th>0</th>\n",
       "      <td>67399.242000</td>\n",
       "    </tr>\n",
       "    <tr>\n",
       "      <th>1</th>\n",
       "      <td>96428.042000</td>\n",
       "    </tr>\n",
       "    <tr>\n",
       "      <th>2</th>\n",
       "      <td>86717.435714</td>\n",
       "    </tr>\n",
       "    <tr>\n",
       "      <th>3</th>\n",
       "      <td>120482.407333</td>\n",
       "    </tr>\n",
       "    <tr>\n",
       "      <th>4</th>\n",
       "      <td>78706.197778</td>\n",
       "    </tr>\n",
       "    <tr>\n",
       "      <th>5</th>\n",
       "      <td>132164.425000</td>\n",
       "    </tr>\n",
       "    <tr>\n",
       "      <th>6</th>\n",
       "      <td>67682.420000</td>\n",
       "    </tr>\n",
       "    <tr>\n",
       "      <th>7</th>\n",
       "      <td>82475.323846</td>\n",
       "    </tr>\n",
       "    <tr>\n",
       "      <th>8</th>\n",
       "      <td>147516.945000</td>\n",
       "    </tr>\n",
       "    <tr>\n",
       "      <th>9</th>\n",
       "      <td>112205.062000</td>\n",
       "    </tr>\n",
       "    <tr>\n",
       "      <th>10</th>\n",
       "      <td>102553.310000</td>\n",
       "    </tr>\n",
       "  </tbody>\n",
       "</table>\n",
       "</div>"
      ],
      "text/plain": [
       "                       Salary\n",
       "Country Tenure               \n",
       "France  0        90887.332000\n",
       "        1       109414.142273\n",
       "        2       101773.140000\n",
       "        3        79159.960625\n",
       "        4       105780.266000\n",
       "        5       125285.975000\n",
       "        6       105304.670667\n",
       "        7        84252.254444\n",
       "        8        92301.817917\n",
       "        9        95867.157200\n",
       "        10      108091.784444\n",
       "Germany 0       100299.632000\n",
       "        1       115210.255455\n",
       "        2       106005.743846\n",
       "        3        94967.737368\n",
       "        4       105768.784000\n",
       "        5       101485.051818\n",
       "        6        98275.141000\n",
       "        7        99516.093077\n",
       "        8       146743.720000\n",
       "        9       106890.448824\n",
       "        10      136996.260909\n",
       "Spain   0        67399.242000\n",
       "        1        96428.042000\n",
       "        2        86717.435714\n",
       "        3       120482.407333\n",
       "        4        78706.197778\n",
       "        5       132164.425000\n",
       "        6        67682.420000\n",
       "        7        82475.323846\n",
       "        8       147516.945000\n",
       "        9       112205.062000\n",
       "        10      102553.310000"
      ]
     },
     "execution_count": 12,
     "metadata": {},
     "output_type": "execute_result"
    }
   ],
   "source": [
    "#Pivot Table with Multiple Indexes (Country & Tenure)\n",
    "\n",
    "df.pivot_table(index = ['Country', 'Tenure'] , values = 'Salary' , aggfunc = 'mean')"
   ]
  },
  {
   "cell_type": "code",
   "execution_count": 13,
   "id": "74195831-b779-4c83-a927-3a8886b034d8",
   "metadata": {},
   "outputs": [
    {
     "data": {
      "text/html": [
       "<div>\n",
       "<style scoped>\n",
       "    .dataframe tbody tr th:only-of-type {\n",
       "        vertical-align: middle;\n",
       "    }\n",
       "\n",
       "    .dataframe tbody tr th {\n",
       "        vertical-align: top;\n",
       "    }\n",
       "\n",
       "    .dataframe thead th {\n",
       "        text-align: right;\n",
       "    }\n",
       "</style>\n",
       "<table border=\"1\" class=\"dataframe\">\n",
       "  <thead>\n",
       "    <tr style=\"text-align: right;\">\n",
       "      <th></th>\n",
       "      <th>Salary</th>\n",
       "    </tr>\n",
       "    <tr>\n",
       "      <th>Date</th>\n",
       "      <th></th>\n",
       "    </tr>\n",
       "  </thead>\n",
       "  <tbody>\n",
       "    <tr>\n",
       "      <th>2023-01-01</th>\n",
       "      <td>101348.88</td>\n",
       "    </tr>\n",
       "    <tr>\n",
       "      <th>2023-01-02</th>\n",
       "      <td>101348.88</td>\n",
       "    </tr>\n",
       "    <tr>\n",
       "      <th>2023-01-03</th>\n",
       "      <td>112542.58</td>\n",
       "    </tr>\n",
       "    <tr>\n",
       "      <th>2023-01-04</th>\n",
       "      <td>112542.58</td>\n",
       "    </tr>\n",
       "    <tr>\n",
       "      <th>2023-01-05</th>\n",
       "      <td>79084.10</td>\n",
       "    </tr>\n",
       "    <tr>\n",
       "      <th>...</th>\n",
       "      <td>...</td>\n",
       "    </tr>\n",
       "    <tr>\n",
       "      <th>2025-01-27</th>\n",
       "      <td>72467.99</td>\n",
       "    </tr>\n",
       "    <tr>\n",
       "      <th>2025-01-28</th>\n",
       "      <td>199645.45</td>\n",
       "    </tr>\n",
       "    <tr>\n",
       "      <th>2025-01-29</th>\n",
       "      <td>42749.85</td>\n",
       "    </tr>\n",
       "    <tr>\n",
       "      <th>2025-01-30</th>\n",
       "      <td>136050.44</td>\n",
       "    </tr>\n",
       "    <tr>\n",
       "      <th>2025-01-31</th>\n",
       "      <td>2010117.25</td>\n",
       "    </tr>\n",
       "  </tbody>\n",
       "</table>\n",
       "<p>427 rows × 1 columns</p>\n",
       "</div>"
      ],
      "text/plain": [
       "                Salary\n",
       "Date                  \n",
       "2023-01-01   101348.88\n",
       "2023-01-02   101348.88\n",
       "2023-01-03   112542.58\n",
       "2023-01-04   112542.58\n",
       "2023-01-05    79084.10\n",
       "...                ...\n",
       "2025-01-27    72467.99\n",
       "2025-01-28   199645.45\n",
       "2025-01-29    42749.85\n",
       "2025-01-30   136050.44\n",
       "2025-01-31  2010117.25\n",
       "\n",
       "[427 rows x 1 columns]"
      ]
     },
     "execution_count": 13,
     "metadata": {},
     "output_type": "execute_result"
    }
   ],
   "source": [
    "df.pivot_table(index = 'Date', values = 'Salary', aggfunc = 'sum')"
   ]
  },
  {
   "cell_type": "code",
   "execution_count": 14,
   "id": "59126feb-7535-42ed-b6d9-b82dba5fc95d",
   "metadata": {},
   "outputs": [
    {
     "data": {
      "text/plain": [
       "Index(['CustomerId', 'Name', 'CreditScore', 'Country', 'Gender', 'Age',\n",
       "       'Tenure', 'Balance', 'NumOfProducts', 'Salary', 'Date'],\n",
       "      dtype='object')"
      ]
     },
     "execution_count": 14,
     "metadata": {},
     "output_type": "execute_result"
    }
   ],
   "source": [
    "df.columns"
   ]
  },
  {
   "cell_type": "code",
   "execution_count": 15,
   "id": "e1dc44aa-527e-4cf7-a1a5-61e95942e233",
   "metadata": {},
   "outputs": [
    {
     "name": "stdout",
     "output_type": "stream",
     "text": [
      "     CustomerId        Name  CreditScore  Country  Gender  Age  Tenure  \\\n",
      "0      15634602    Hargrave          619   France  Female   42       2   \n",
      "1      15634602    Hargrave          619   France  Female   42       2   \n",
      "2      15634602        Onio          502   France  Female   42       8   \n",
      "3      15634602        Onio          502   France  Female   42       8   \n",
      "4      15737888    Mitchell          850    Spain  Female   43       2   \n",
      "..          ...         ...          ...      ...     ...  ...     ...   \n",
      "448    15694860    Uspensky          675   France  Female   38       6   \n",
      "449    15658169        Cook          778    Spain  Female   47       6   \n",
      "450    15794396     Newbold          494  Germany  Female   38       7   \n",
      "451    15785798  Uchechukwu          850   France    Male   40       9   \n",
      "452    15710825       Ch'en          592    Spain    Male   31       7   \n",
      "\n",
      "       Balance  NumOfProducts     Salary       Date      Dep  \n",
      "0         0.00              1  101348.88 2023-01-01     Bank  \n",
      "1         0.00              1  101348.88 2023-01-02     Bank  \n",
      "2    159660.80              3  112542.58 2023-01-03     Bank  \n",
      "3    159660.80              3  112542.58 2023-01-04     Bank  \n",
      "4    125510.82              1   79084.10 2023-01-05     Bank  \n",
      "..         ...            ...        ...        ...      ...  \n",
      "448   68065.80              1  138777.00 2025-01-31  Entrepr  \n",
      "449  127299.34              2  124694.99 2025-01-31  Entrepr  \n",
      "450  174937.64              1   40084.32 2025-01-31  Entrepr  \n",
      "451       0.00              2  119232.33 2025-01-31  Entrepr  \n",
      "452  110071.10              1   43921.36 2025-01-31  Entrepr  \n",
      "\n",
      "[453 rows x 12 columns]\n"
     ]
    }
   ],
   "source": [
    "import pandas as pd\n",
    "file_path = \"C:/Users/Sivaraman/Desktop/study/data analytics/Data (for practice)/bank_details_withdate.xlsx\"\n",
    "df = pd.read_excel(file_path)\n",
    "print(df)"
   ]
  },
  {
   "cell_type": "code",
   "execution_count": 16,
   "id": "e6a9e217-d392-4627-a7ac-d79897a54dfe",
   "metadata": {},
   "outputs": [
    {
     "data": {
      "text/html": [
       "<div>\n",
       "<style scoped>\n",
       "    .dataframe tbody tr th:only-of-type {\n",
       "        vertical-align: middle;\n",
       "    }\n",
       "\n",
       "    .dataframe tbody tr th {\n",
       "        vertical-align: top;\n",
       "    }\n",
       "\n",
       "    .dataframe thead th {\n",
       "        text-align: right;\n",
       "    }\n",
       "</style>\n",
       "<table border=\"1\" class=\"dataframe\">\n",
       "  <thead>\n",
       "    <tr style=\"text-align: right;\">\n",
       "      <th></th>\n",
       "      <th>Salary</th>\n",
       "    </tr>\n",
       "    <tr>\n",
       "      <th>Dep</th>\n",
       "      <th></th>\n",
       "    </tr>\n",
       "  </thead>\n",
       "  <tbody>\n",
       "    <tr>\n",
       "      <th>Bank</th>\n",
       "      <td>1377427.37</td>\n",
       "    </tr>\n",
       "    <tr>\n",
       "      <th>Business</th>\n",
       "      <td>7153254.14</td>\n",
       "    </tr>\n",
       "    <tr>\n",
       "      <th>Clg</th>\n",
       "      <td>14252459.85</td>\n",
       "    </tr>\n",
       "    <tr>\n",
       "      <th>DA</th>\n",
       "      <td>971471.68</td>\n",
       "    </tr>\n",
       "    <tr>\n",
       "      <th>Doctors</th>\n",
       "      <td>17895497.72</td>\n",
       "    </tr>\n",
       "    <tr>\n",
       "      <th>Entrepr</th>\n",
       "      <td>2847883.55</td>\n",
       "    </tr>\n",
       "    <tr>\n",
       "      <th>IT</th>\n",
       "      <td>664658.16</td>\n",
       "    </tr>\n",
       "    <tr>\n",
       "      <th>Police</th>\n",
       "      <td>1779730.90</td>\n",
       "    </tr>\n",
       "  </tbody>\n",
       "</table>\n",
       "</div>"
      ],
      "text/plain": [
       "               Salary\n",
       "Dep                  \n",
       "Bank       1377427.37\n",
       "Business   7153254.14\n",
       "Clg       14252459.85\n",
       "DA          971471.68\n",
       "Doctors   17895497.72\n",
       "Entrepr    2847883.55\n",
       "IT          664658.16\n",
       "Police     1779730.90"
      ]
     },
     "execution_count": 16,
     "metadata": {},
     "output_type": "execute_result"
    }
   ],
   "source": [
    "df.pivot_table(index = 'Dep', values = 'Salary', aggfunc = 'sum')"
   ]
  },
  {
   "cell_type": "code",
   "execution_count": 19,
   "id": "aae70cf2-7927-4c73-98d2-87919a09c91b",
   "metadata": {},
   "outputs": [
    {
     "data": {
      "text/html": [
       "<div>\n",
       "<style scoped>\n",
       "    .dataframe tbody tr th:only-of-type {\n",
       "        vertical-align: middle;\n",
       "    }\n",
       "\n",
       "    .dataframe tbody tr th {\n",
       "        vertical-align: top;\n",
       "    }\n",
       "\n",
       "    .dataframe thead tr th {\n",
       "        text-align: left;\n",
       "    }\n",
       "\n",
       "    .dataframe thead tr:last-of-type th {\n",
       "        text-align: right;\n",
       "    }\n",
       "</style>\n",
       "<table border=\"1\" class=\"dataframe\">\n",
       "  <thead>\n",
       "    <tr>\n",
       "      <th></th>\n",
       "      <th>min</th>\n",
       "      <th>max</th>\n",
       "      <th>mean</th>\n",
       "      <th>count</th>\n",
       "    </tr>\n",
       "    <tr>\n",
       "      <th></th>\n",
       "      <th>CreditScore</th>\n",
       "      <th>CreditScore</th>\n",
       "      <th>CreditScore</th>\n",
       "      <th>CreditScore</th>\n",
       "    </tr>\n",
       "    <tr>\n",
       "      <th>Country</th>\n",
       "      <th></th>\n",
       "      <th></th>\n",
       "      <th></th>\n",
       "      <th></th>\n",
       "    </tr>\n",
       "  </thead>\n",
       "  <tbody>\n",
       "    <tr>\n",
       "      <th>France</th>\n",
       "      <td>411</td>\n",
       "      <td>850</td>\n",
       "      <td>647.673367</td>\n",
       "      <td>199</td>\n",
       "    </tr>\n",
       "    <tr>\n",
       "      <th>Germany</th>\n",
       "      <td>376</td>\n",
       "      <td>850</td>\n",
       "      <td>648.076336</td>\n",
       "      <td>131</td>\n",
       "    </tr>\n",
       "    <tr>\n",
       "      <th>Spain</th>\n",
       "      <td>443</td>\n",
       "      <td>850</td>\n",
       "      <td>646.747967</td>\n",
       "      <td>123</td>\n",
       "    </tr>\n",
       "  </tbody>\n",
       "</table>\n",
       "</div>"
      ],
      "text/plain": [
       "                min         max        mean       count\n",
       "        CreditScore CreditScore CreditScore CreditScore\n",
       "Country                                                \n",
       "France          411         850  647.673367         199\n",
       "Germany         376         850  648.076336         131\n",
       "Spain           443         850  646.747967         123"
      ]
     },
     "execution_count": 19,
     "metadata": {},
     "output_type": "execute_result"
    }
   ],
   "source": [
    "df.pivot_table(index = 'Country', values = 'CreditScore' ,aggfunc = ['min', 'max', 'mean','count'])"
   ]
  },
  {
   "cell_type": "code",
   "execution_count": 20,
   "id": "875881f4-fc5f-4b3d-af26-c6fee9041332",
   "metadata": {},
   "outputs": [
    {
     "data": {
      "text/html": [
       "<div>\n",
       "<style scoped>\n",
       "    .dataframe tbody tr th:only-of-type {\n",
       "        vertical-align: middle;\n",
       "    }\n",
       "\n",
       "    .dataframe tbody tr th {\n",
       "        vertical-align: top;\n",
       "    }\n",
       "\n",
       "    .dataframe thead th {\n",
       "        text-align: right;\n",
       "    }\n",
       "</style>\n",
       "<table border=\"1\" class=\"dataframe\">\n",
       "  <thead>\n",
       "    <tr style=\"text-align: right;\">\n",
       "      <th>Gender</th>\n",
       "      <th>Female</th>\n",
       "      <th>Male</th>\n",
       "    </tr>\n",
       "    <tr>\n",
       "      <th>Country</th>\n",
       "      <th></th>\n",
       "      <th></th>\n",
       "    </tr>\n",
       "  </thead>\n",
       "  <tbody>\n",
       "    <tr>\n",
       "      <th>France</th>\n",
       "      <td>651.183908</td>\n",
       "      <td>644.946429</td>\n",
       "    </tr>\n",
       "    <tr>\n",
       "      <th>Germany</th>\n",
       "      <td>632.266667</td>\n",
       "      <td>661.436620</td>\n",
       "    </tr>\n",
       "    <tr>\n",
       "      <th>Spain</th>\n",
       "      <td>644.440678</td>\n",
       "      <td>648.875000</td>\n",
       "    </tr>\n",
       "  </tbody>\n",
       "</table>\n",
       "</div>"
      ],
      "text/plain": [
       "Gender       Female        Male\n",
       "Country                        \n",
       "France   651.183908  644.946429\n",
       "Germany  632.266667  661.436620\n",
       "Spain    644.440678  648.875000"
      ]
     },
     "execution_count": 20,
     "metadata": {},
     "output_type": "execute_result"
    }
   ],
   "source": [
    "df.pivot_table(index = 'Country', columns = 'Gender', values = 'CreditScore', aggfunc = 'mean')"
   ]
  },
  {
   "cell_type": "code",
   "execution_count": 21,
   "id": "21eadd8e-8099-4de2-9577-c8af327821f4",
   "metadata": {},
   "outputs": [
    {
     "data": {
      "text/html": [
       "<div>\n",
       "<style scoped>\n",
       "    .dataframe tbody tr th:only-of-type {\n",
       "        vertical-align: middle;\n",
       "    }\n",
       "\n",
       "    .dataframe tbody tr th {\n",
       "        vertical-align: top;\n",
       "    }\n",
       "\n",
       "    .dataframe thead th {\n",
       "        text-align: right;\n",
       "    }\n",
       "</style>\n",
       "<table border=\"1\" class=\"dataframe\">\n",
       "  <thead>\n",
       "    <tr style=\"text-align: right;\">\n",
       "      <th>Gender</th>\n",
       "      <th>Female</th>\n",
       "      <th>Male</th>\n",
       "    </tr>\n",
       "    <tr>\n",
       "      <th>Country</th>\n",
       "      <th></th>\n",
       "      <th></th>\n",
       "    </tr>\n",
       "  </thead>\n",
       "  <tbody>\n",
       "    <tr>\n",
       "      <th>France</th>\n",
       "      <td>9241473.11</td>\n",
       "      <td>10490614.91</td>\n",
       "    </tr>\n",
       "    <tr>\n",
       "      <th>Germany</th>\n",
       "      <td>6894382.54</td>\n",
       "      <td>7445651.56</td>\n",
       "    </tr>\n",
       "    <tr>\n",
       "      <th>Spain</th>\n",
       "      <td>5807092.01</td>\n",
       "      <td>7063169.24</td>\n",
       "    </tr>\n",
       "  </tbody>\n",
       "</table>\n",
       "</div>"
      ],
      "text/plain": [
       "Gender       Female         Male\n",
       "Country                         \n",
       "France   9241473.11  10490614.91\n",
       "Germany  6894382.54   7445651.56\n",
       "Spain    5807092.01   7063169.24"
      ]
     },
     "execution_count": 21,
     "metadata": {},
     "output_type": "execute_result"
    }
   ],
   "source": [
    "df.pivot_table(index = 'Country', columns = 'Gender', values = 'Salary', aggfunc = 'sum')"
   ]
  },
  {
   "cell_type": "code",
   "execution_count": 23,
   "id": "710795a8-59ae-41d9-ac0b-4a59a4dc7890",
   "metadata": {},
   "outputs": [
    {
     "data": {
      "text/html": [
       "<div>\n",
       "<style scoped>\n",
       "    .dataframe tbody tr th:only-of-type {\n",
       "        vertical-align: middle;\n",
       "    }\n",
       "\n",
       "    .dataframe tbody tr th {\n",
       "        vertical-align: top;\n",
       "    }\n",
       "\n",
       "    .dataframe thead tr th {\n",
       "        text-align: left;\n",
       "    }\n",
       "\n",
       "    .dataframe thead tr:last-of-type th {\n",
       "        text-align: right;\n",
       "    }\n",
       "</style>\n",
       "<table border=\"1\" class=\"dataframe\">\n",
       "  <thead>\n",
       "    <tr>\n",
       "      <th></th>\n",
       "      <th colspan=\"2\" halign=\"left\">min</th>\n",
       "      <th colspan=\"2\" halign=\"left\">max</th>\n",
       "    </tr>\n",
       "    <tr>\n",
       "      <th>Gender</th>\n",
       "      <th>Female</th>\n",
       "      <th>Male</th>\n",
       "      <th>Female</th>\n",
       "      <th>Male</th>\n",
       "    </tr>\n",
       "    <tr>\n",
       "      <th>Country</th>\n",
       "      <th></th>\n",
       "      <th></th>\n",
       "      <th></th>\n",
       "      <th></th>\n",
       "    </tr>\n",
       "  </thead>\n",
       "  <tbody>\n",
       "    <tr>\n",
       "      <th>France</th>\n",
       "      <td>21</td>\n",
       "      <td>22</td>\n",
       "      <td>80</td>\n",
       "      <td>72</td>\n",
       "    </tr>\n",
       "    <tr>\n",
       "      <th>Germany</th>\n",
       "      <td>24</td>\n",
       "      <td>19</td>\n",
       "      <td>75</td>\n",
       "      <td>67</td>\n",
       "    </tr>\n",
       "    <tr>\n",
       "      <th>Spain</th>\n",
       "      <td>21</td>\n",
       "      <td>22</td>\n",
       "      <td>75</td>\n",
       "      <td>62</td>\n",
       "    </tr>\n",
       "  </tbody>\n",
       "</table>\n",
       "</div>"
      ],
      "text/plain": [
       "           min         max     \n",
       "Gender  Female Male Female Male\n",
       "Country                        \n",
       "France      21   22     80   72\n",
       "Germany     24   19     75   67\n",
       "Spain       21   22     75   62"
      ]
     },
     "execution_count": 23,
     "metadata": {},
     "output_type": "execute_result"
    }
   ],
   "source": [
    "df.pivot_table(index = 'Country', columns = 'Gender', values = 'Age', aggfunc = ['min', 'max'])"
   ]
  },
  {
   "cell_type": "code",
   "execution_count": 25,
   "id": "2389bfdd-1ec9-435f-92a5-ba002d7ee1cf",
   "metadata": {},
   "outputs": [
    {
     "ename": "KeyError",
     "evalue": "'NoOfProduct'",
     "output_type": "error",
     "traceback": [
      "\u001b[1;31m---------------------------------------------------------------------------\u001b[0m",
      "\u001b[1;31mKeyError\u001b[0m                                  Traceback (most recent call last)",
      "Cell \u001b[1;32mIn[25], line 1\u001b[0m\n\u001b[1;32m----> 1\u001b[0m \u001b[43mdf\u001b[49m\u001b[38;5;241;43m.\u001b[39;49m\u001b[43mpivot_table\u001b[49m\u001b[43m(\u001b[49m\u001b[43mindex\u001b[49m\u001b[43m \u001b[49m\u001b[38;5;241;43m=\u001b[39;49m\u001b[43m \u001b[49m\u001b[38;5;124;43m'\u001b[39;49m\u001b[38;5;124;43mCountry\u001b[39;49m\u001b[38;5;124;43m'\u001b[39;49m\u001b[43m,\u001b[49m\u001b[43m \u001b[49m\u001b[43mcolumns\u001b[49m\u001b[43m \u001b[49m\u001b[38;5;241;43m=\u001b[39;49m\u001b[43m \u001b[49m\u001b[38;5;124;43m'\u001b[39;49m\u001b[38;5;124;43mGender\u001b[39;49m\u001b[38;5;124;43m'\u001b[39;49m\u001b[43m,\u001b[49m\u001b[43m \u001b[49m\u001b[43mvalues\u001b[49m\u001b[43m \u001b[49m\u001b[38;5;241;43m=\u001b[39;49m\u001b[43m \u001b[49m\u001b[38;5;124;43m'\u001b[39;49m\u001b[38;5;124;43mNoOfProduct\u001b[39;49m\u001b[38;5;124;43m'\u001b[39;49m\u001b[43m,\u001b[49m\u001b[43m \u001b[49m\u001b[43maggfunc\u001b[49m\u001b[43m \u001b[49m\u001b[38;5;241;43m=\u001b[39;49m\u001b[43m \u001b[49m\u001b[38;5;124;43m'\u001b[39;49m\u001b[38;5;124;43msum\u001b[39;49m\u001b[38;5;124;43m'\u001b[39;49m\u001b[43m)\u001b[49m\n",
      "File \u001b[1;32m~\\AppData\\Local\\Programs\\Python\\Python313\\Lib\\site-packages\\pandas\\core\\frame.py:9509\u001b[0m, in \u001b[0;36mDataFrame.pivot_table\u001b[1;34m(self, values, index, columns, aggfunc, fill_value, margins, dropna, margins_name, observed, sort)\u001b[0m\n\u001b[0;32m   9492\u001b[0m \u001b[38;5;129m@Substitution\u001b[39m(\u001b[38;5;124m\"\u001b[39m\u001b[38;5;124m\"\u001b[39m)\n\u001b[0;32m   9493\u001b[0m \u001b[38;5;129m@Appender\u001b[39m(_shared_docs[\u001b[38;5;124m\"\u001b[39m\u001b[38;5;124mpivot_table\u001b[39m\u001b[38;5;124m\"\u001b[39m])\n\u001b[0;32m   9494\u001b[0m \u001b[38;5;28;01mdef\u001b[39;00m \u001b[38;5;21mpivot_table\u001b[39m(\n\u001b[1;32m   (...)\u001b[0m\n\u001b[0;32m   9505\u001b[0m     sort: \u001b[38;5;28mbool\u001b[39m \u001b[38;5;241m=\u001b[39m \u001b[38;5;28;01mTrue\u001b[39;00m,\n\u001b[0;32m   9506\u001b[0m ) \u001b[38;5;241m-\u001b[39m\u001b[38;5;241m>\u001b[39m DataFrame:\n\u001b[0;32m   9507\u001b[0m     \u001b[38;5;28;01mfrom\u001b[39;00m \u001b[38;5;21;01mpandas\u001b[39;00m\u001b[38;5;21;01m.\u001b[39;00m\u001b[38;5;21;01mcore\u001b[39;00m\u001b[38;5;21;01m.\u001b[39;00m\u001b[38;5;21;01mreshape\u001b[39;00m\u001b[38;5;21;01m.\u001b[39;00m\u001b[38;5;21;01mpivot\u001b[39;00m \u001b[38;5;28;01mimport\u001b[39;00m pivot_table\n\u001b[1;32m-> 9509\u001b[0m     \u001b[38;5;28;01mreturn\u001b[39;00m \u001b[43mpivot_table\u001b[49m\u001b[43m(\u001b[49m\n\u001b[0;32m   9510\u001b[0m \u001b[43m        \u001b[49m\u001b[38;5;28;43mself\u001b[39;49m\u001b[43m,\u001b[49m\n\u001b[0;32m   9511\u001b[0m \u001b[43m        \u001b[49m\u001b[43mvalues\u001b[49m\u001b[38;5;241;43m=\u001b[39;49m\u001b[43mvalues\u001b[49m\u001b[43m,\u001b[49m\n\u001b[0;32m   9512\u001b[0m \u001b[43m        \u001b[49m\u001b[43mindex\u001b[49m\u001b[38;5;241;43m=\u001b[39;49m\u001b[43mindex\u001b[49m\u001b[43m,\u001b[49m\n\u001b[0;32m   9513\u001b[0m \u001b[43m        \u001b[49m\u001b[43mcolumns\u001b[49m\u001b[38;5;241;43m=\u001b[39;49m\u001b[43mcolumns\u001b[49m\u001b[43m,\u001b[49m\n\u001b[0;32m   9514\u001b[0m \u001b[43m        \u001b[49m\u001b[43maggfunc\u001b[49m\u001b[38;5;241;43m=\u001b[39;49m\u001b[43maggfunc\u001b[49m\u001b[43m,\u001b[49m\n\u001b[0;32m   9515\u001b[0m \u001b[43m        \u001b[49m\u001b[43mfill_value\u001b[49m\u001b[38;5;241;43m=\u001b[39;49m\u001b[43mfill_value\u001b[49m\u001b[43m,\u001b[49m\n\u001b[0;32m   9516\u001b[0m \u001b[43m        \u001b[49m\u001b[43mmargins\u001b[49m\u001b[38;5;241;43m=\u001b[39;49m\u001b[43mmargins\u001b[49m\u001b[43m,\u001b[49m\n\u001b[0;32m   9517\u001b[0m \u001b[43m        \u001b[49m\u001b[43mdropna\u001b[49m\u001b[38;5;241;43m=\u001b[39;49m\u001b[43mdropna\u001b[49m\u001b[43m,\u001b[49m\n\u001b[0;32m   9518\u001b[0m \u001b[43m        \u001b[49m\u001b[43mmargins_name\u001b[49m\u001b[38;5;241;43m=\u001b[39;49m\u001b[43mmargins_name\u001b[49m\u001b[43m,\u001b[49m\n\u001b[0;32m   9519\u001b[0m \u001b[43m        \u001b[49m\u001b[43mobserved\u001b[49m\u001b[38;5;241;43m=\u001b[39;49m\u001b[43mobserved\u001b[49m\u001b[43m,\u001b[49m\n\u001b[0;32m   9520\u001b[0m \u001b[43m        \u001b[49m\u001b[43msort\u001b[49m\u001b[38;5;241;43m=\u001b[39;49m\u001b[43msort\u001b[49m\u001b[43m,\u001b[49m\n\u001b[0;32m   9521\u001b[0m \u001b[43m    \u001b[49m\u001b[43m)\u001b[49m\n",
      "File \u001b[1;32m~\\AppData\\Local\\Programs\\Python\\Python313\\Lib\\site-packages\\pandas\\core\\reshape\\pivot.py:102\u001b[0m, in \u001b[0;36mpivot_table\u001b[1;34m(data, values, index, columns, aggfunc, fill_value, margins, dropna, margins_name, observed, sort)\u001b[0m\n\u001b[0;32m     99\u001b[0m     table \u001b[38;5;241m=\u001b[39m concat(pieces, keys\u001b[38;5;241m=\u001b[39mkeys, axis\u001b[38;5;241m=\u001b[39m\u001b[38;5;241m1\u001b[39m)\n\u001b[0;32m    100\u001b[0m     \u001b[38;5;28;01mreturn\u001b[39;00m table\u001b[38;5;241m.\u001b[39m__finalize__(data, method\u001b[38;5;241m=\u001b[39m\u001b[38;5;124m\"\u001b[39m\u001b[38;5;124mpivot_table\u001b[39m\u001b[38;5;124m\"\u001b[39m)\n\u001b[1;32m--> 102\u001b[0m table \u001b[38;5;241m=\u001b[39m \u001b[43m__internal_pivot_table\u001b[49m\u001b[43m(\u001b[49m\n\u001b[0;32m    103\u001b[0m \u001b[43m    \u001b[49m\u001b[43mdata\u001b[49m\u001b[43m,\u001b[49m\n\u001b[0;32m    104\u001b[0m \u001b[43m    \u001b[49m\u001b[43mvalues\u001b[49m\u001b[43m,\u001b[49m\n\u001b[0;32m    105\u001b[0m \u001b[43m    \u001b[49m\u001b[43mindex\u001b[49m\u001b[43m,\u001b[49m\n\u001b[0;32m    106\u001b[0m \u001b[43m    \u001b[49m\u001b[43mcolumns\u001b[49m\u001b[43m,\u001b[49m\n\u001b[0;32m    107\u001b[0m \u001b[43m    \u001b[49m\u001b[43maggfunc\u001b[49m\u001b[43m,\u001b[49m\n\u001b[0;32m    108\u001b[0m \u001b[43m    \u001b[49m\u001b[43mfill_value\u001b[49m\u001b[43m,\u001b[49m\n\u001b[0;32m    109\u001b[0m \u001b[43m    \u001b[49m\u001b[43mmargins\u001b[49m\u001b[43m,\u001b[49m\n\u001b[0;32m    110\u001b[0m \u001b[43m    \u001b[49m\u001b[43mdropna\u001b[49m\u001b[43m,\u001b[49m\n\u001b[0;32m    111\u001b[0m \u001b[43m    \u001b[49m\u001b[43mmargins_name\u001b[49m\u001b[43m,\u001b[49m\n\u001b[0;32m    112\u001b[0m \u001b[43m    \u001b[49m\u001b[43mobserved\u001b[49m\u001b[43m,\u001b[49m\n\u001b[0;32m    113\u001b[0m \u001b[43m    \u001b[49m\u001b[43msort\u001b[49m\u001b[43m,\u001b[49m\n\u001b[0;32m    114\u001b[0m \u001b[43m\u001b[49m\u001b[43m)\u001b[49m\n\u001b[0;32m    115\u001b[0m \u001b[38;5;28;01mreturn\u001b[39;00m table\u001b[38;5;241m.\u001b[39m__finalize__(data, method\u001b[38;5;241m=\u001b[39m\u001b[38;5;124m\"\u001b[39m\u001b[38;5;124mpivot_table\u001b[39m\u001b[38;5;124m\"\u001b[39m)\n",
      "File \u001b[1;32m~\\AppData\\Local\\Programs\\Python\\Python313\\Lib\\site-packages\\pandas\\core\\reshape\\pivot.py:148\u001b[0m, in \u001b[0;36m__internal_pivot_table\u001b[1;34m(data, values, index, columns, aggfunc, fill_value, margins, dropna, margins_name, observed, sort)\u001b[0m\n\u001b[0;32m    146\u001b[0m \u001b[38;5;28;01mfor\u001b[39;00m i \u001b[38;5;129;01min\u001b[39;00m values:\n\u001b[0;32m    147\u001b[0m     \u001b[38;5;28;01mif\u001b[39;00m i \u001b[38;5;129;01mnot\u001b[39;00m \u001b[38;5;129;01min\u001b[39;00m data:\n\u001b[1;32m--> 148\u001b[0m         \u001b[38;5;28;01mraise\u001b[39;00m \u001b[38;5;167;01mKeyError\u001b[39;00m(i)\n\u001b[0;32m    150\u001b[0m to_filter \u001b[38;5;241m=\u001b[39m []\n\u001b[0;32m    151\u001b[0m \u001b[38;5;28;01mfor\u001b[39;00m x \u001b[38;5;129;01min\u001b[39;00m keys \u001b[38;5;241m+\u001b[39m values:\n",
      "\u001b[1;31mKeyError\u001b[0m: 'NoOfProduct'"
     ]
    }
   ],
   "source": [
    "df.pivot_table(index = 'Country', columns = 'Gender', values = 'NoOfProduct', aggfunc = 'sum')"
   ]
  },
  {
   "cell_type": "code",
   "execution_count": 26,
   "id": "1ceaf9af-88e5-41fe-9958-78e693950160",
   "metadata": {},
   "outputs": [
    {
     "ename": "KeyError",
     "evalue": "'NumOfProduct'",
     "output_type": "error",
     "traceback": [
      "\u001b[1;31m---------------------------------------------------------------------------\u001b[0m",
      "\u001b[1;31mKeyError\u001b[0m                                  Traceback (most recent call last)",
      "Cell \u001b[1;32mIn[26], line 1\u001b[0m\n\u001b[1;32m----> 1\u001b[0m \u001b[43mdf\u001b[49m\u001b[38;5;241;43m.\u001b[39;49m\u001b[43mpivot_table\u001b[49m\u001b[43m(\u001b[49m\u001b[43mindex\u001b[49m\u001b[43m \u001b[49m\u001b[38;5;241;43m=\u001b[39;49m\u001b[43m \u001b[49m\u001b[38;5;124;43m'\u001b[39;49m\u001b[38;5;124;43mCountry\u001b[39;49m\u001b[38;5;124;43m'\u001b[39;49m\u001b[43m,\u001b[49m\u001b[43m \u001b[49m\u001b[43mcolumns\u001b[49m\u001b[43m \u001b[49m\u001b[38;5;241;43m=\u001b[39;49m\u001b[43m \u001b[49m\u001b[38;5;124;43m'\u001b[39;49m\u001b[38;5;124;43mGender\u001b[39;49m\u001b[38;5;124;43m'\u001b[39;49m\u001b[43m,\u001b[49m\u001b[43m \u001b[49m\u001b[43mvalues\u001b[49m\u001b[43m \u001b[49m\u001b[38;5;241;43m=\u001b[39;49m\u001b[43m \u001b[49m\u001b[38;5;124;43m'\u001b[39;49m\u001b[38;5;124;43mNumOfProduct\u001b[39;49m\u001b[38;5;124;43m'\u001b[39;49m\u001b[43m,\u001b[49m\u001b[43m \u001b[49m\u001b[43maggfunc\u001b[49m\u001b[43m \u001b[49m\u001b[38;5;241;43m=\u001b[39;49m\u001b[43m \u001b[49m\u001b[38;5;124;43m'\u001b[39;49m\u001b[38;5;124;43msum\u001b[39;49m\u001b[38;5;124;43m'\u001b[39;49m\u001b[43m)\u001b[49m\n",
      "File \u001b[1;32m~\\AppData\\Local\\Programs\\Python\\Python313\\Lib\\site-packages\\pandas\\core\\frame.py:9509\u001b[0m, in \u001b[0;36mDataFrame.pivot_table\u001b[1;34m(self, values, index, columns, aggfunc, fill_value, margins, dropna, margins_name, observed, sort)\u001b[0m\n\u001b[0;32m   9492\u001b[0m \u001b[38;5;129m@Substitution\u001b[39m(\u001b[38;5;124m\"\u001b[39m\u001b[38;5;124m\"\u001b[39m)\n\u001b[0;32m   9493\u001b[0m \u001b[38;5;129m@Appender\u001b[39m(_shared_docs[\u001b[38;5;124m\"\u001b[39m\u001b[38;5;124mpivot_table\u001b[39m\u001b[38;5;124m\"\u001b[39m])\n\u001b[0;32m   9494\u001b[0m \u001b[38;5;28;01mdef\u001b[39;00m \u001b[38;5;21mpivot_table\u001b[39m(\n\u001b[1;32m   (...)\u001b[0m\n\u001b[0;32m   9505\u001b[0m     sort: \u001b[38;5;28mbool\u001b[39m \u001b[38;5;241m=\u001b[39m \u001b[38;5;28;01mTrue\u001b[39;00m,\n\u001b[0;32m   9506\u001b[0m ) \u001b[38;5;241m-\u001b[39m\u001b[38;5;241m>\u001b[39m DataFrame:\n\u001b[0;32m   9507\u001b[0m     \u001b[38;5;28;01mfrom\u001b[39;00m \u001b[38;5;21;01mpandas\u001b[39;00m\u001b[38;5;21;01m.\u001b[39;00m\u001b[38;5;21;01mcore\u001b[39;00m\u001b[38;5;21;01m.\u001b[39;00m\u001b[38;5;21;01mreshape\u001b[39;00m\u001b[38;5;21;01m.\u001b[39;00m\u001b[38;5;21;01mpivot\u001b[39;00m \u001b[38;5;28;01mimport\u001b[39;00m pivot_table\n\u001b[1;32m-> 9509\u001b[0m     \u001b[38;5;28;01mreturn\u001b[39;00m \u001b[43mpivot_table\u001b[49m\u001b[43m(\u001b[49m\n\u001b[0;32m   9510\u001b[0m \u001b[43m        \u001b[49m\u001b[38;5;28;43mself\u001b[39;49m\u001b[43m,\u001b[49m\n\u001b[0;32m   9511\u001b[0m \u001b[43m        \u001b[49m\u001b[43mvalues\u001b[49m\u001b[38;5;241;43m=\u001b[39;49m\u001b[43mvalues\u001b[49m\u001b[43m,\u001b[49m\n\u001b[0;32m   9512\u001b[0m \u001b[43m        \u001b[49m\u001b[43mindex\u001b[49m\u001b[38;5;241;43m=\u001b[39;49m\u001b[43mindex\u001b[49m\u001b[43m,\u001b[49m\n\u001b[0;32m   9513\u001b[0m \u001b[43m        \u001b[49m\u001b[43mcolumns\u001b[49m\u001b[38;5;241;43m=\u001b[39;49m\u001b[43mcolumns\u001b[49m\u001b[43m,\u001b[49m\n\u001b[0;32m   9514\u001b[0m \u001b[43m        \u001b[49m\u001b[43maggfunc\u001b[49m\u001b[38;5;241;43m=\u001b[39;49m\u001b[43maggfunc\u001b[49m\u001b[43m,\u001b[49m\n\u001b[0;32m   9515\u001b[0m \u001b[43m        \u001b[49m\u001b[43mfill_value\u001b[49m\u001b[38;5;241;43m=\u001b[39;49m\u001b[43mfill_value\u001b[49m\u001b[43m,\u001b[49m\n\u001b[0;32m   9516\u001b[0m \u001b[43m        \u001b[49m\u001b[43mmargins\u001b[49m\u001b[38;5;241;43m=\u001b[39;49m\u001b[43mmargins\u001b[49m\u001b[43m,\u001b[49m\n\u001b[0;32m   9517\u001b[0m \u001b[43m        \u001b[49m\u001b[43mdropna\u001b[49m\u001b[38;5;241;43m=\u001b[39;49m\u001b[43mdropna\u001b[49m\u001b[43m,\u001b[49m\n\u001b[0;32m   9518\u001b[0m \u001b[43m        \u001b[49m\u001b[43mmargins_name\u001b[49m\u001b[38;5;241;43m=\u001b[39;49m\u001b[43mmargins_name\u001b[49m\u001b[43m,\u001b[49m\n\u001b[0;32m   9519\u001b[0m \u001b[43m        \u001b[49m\u001b[43mobserved\u001b[49m\u001b[38;5;241;43m=\u001b[39;49m\u001b[43mobserved\u001b[49m\u001b[43m,\u001b[49m\n\u001b[0;32m   9520\u001b[0m \u001b[43m        \u001b[49m\u001b[43msort\u001b[49m\u001b[38;5;241;43m=\u001b[39;49m\u001b[43msort\u001b[49m\u001b[43m,\u001b[49m\n\u001b[0;32m   9521\u001b[0m \u001b[43m    \u001b[49m\u001b[43m)\u001b[49m\n",
      "File \u001b[1;32m~\\AppData\\Local\\Programs\\Python\\Python313\\Lib\\site-packages\\pandas\\core\\reshape\\pivot.py:102\u001b[0m, in \u001b[0;36mpivot_table\u001b[1;34m(data, values, index, columns, aggfunc, fill_value, margins, dropna, margins_name, observed, sort)\u001b[0m\n\u001b[0;32m     99\u001b[0m     table \u001b[38;5;241m=\u001b[39m concat(pieces, keys\u001b[38;5;241m=\u001b[39mkeys, axis\u001b[38;5;241m=\u001b[39m\u001b[38;5;241m1\u001b[39m)\n\u001b[0;32m    100\u001b[0m     \u001b[38;5;28;01mreturn\u001b[39;00m table\u001b[38;5;241m.\u001b[39m__finalize__(data, method\u001b[38;5;241m=\u001b[39m\u001b[38;5;124m\"\u001b[39m\u001b[38;5;124mpivot_table\u001b[39m\u001b[38;5;124m\"\u001b[39m)\n\u001b[1;32m--> 102\u001b[0m table \u001b[38;5;241m=\u001b[39m \u001b[43m__internal_pivot_table\u001b[49m\u001b[43m(\u001b[49m\n\u001b[0;32m    103\u001b[0m \u001b[43m    \u001b[49m\u001b[43mdata\u001b[49m\u001b[43m,\u001b[49m\n\u001b[0;32m    104\u001b[0m \u001b[43m    \u001b[49m\u001b[43mvalues\u001b[49m\u001b[43m,\u001b[49m\n\u001b[0;32m    105\u001b[0m \u001b[43m    \u001b[49m\u001b[43mindex\u001b[49m\u001b[43m,\u001b[49m\n\u001b[0;32m    106\u001b[0m \u001b[43m    \u001b[49m\u001b[43mcolumns\u001b[49m\u001b[43m,\u001b[49m\n\u001b[0;32m    107\u001b[0m \u001b[43m    \u001b[49m\u001b[43maggfunc\u001b[49m\u001b[43m,\u001b[49m\n\u001b[0;32m    108\u001b[0m \u001b[43m    \u001b[49m\u001b[43mfill_value\u001b[49m\u001b[43m,\u001b[49m\n\u001b[0;32m    109\u001b[0m \u001b[43m    \u001b[49m\u001b[43mmargins\u001b[49m\u001b[43m,\u001b[49m\n\u001b[0;32m    110\u001b[0m \u001b[43m    \u001b[49m\u001b[43mdropna\u001b[49m\u001b[43m,\u001b[49m\n\u001b[0;32m    111\u001b[0m \u001b[43m    \u001b[49m\u001b[43mmargins_name\u001b[49m\u001b[43m,\u001b[49m\n\u001b[0;32m    112\u001b[0m \u001b[43m    \u001b[49m\u001b[43mobserved\u001b[49m\u001b[43m,\u001b[49m\n\u001b[0;32m    113\u001b[0m \u001b[43m    \u001b[49m\u001b[43msort\u001b[49m\u001b[43m,\u001b[49m\n\u001b[0;32m    114\u001b[0m \u001b[43m\u001b[49m\u001b[43m)\u001b[49m\n\u001b[0;32m    115\u001b[0m \u001b[38;5;28;01mreturn\u001b[39;00m table\u001b[38;5;241m.\u001b[39m__finalize__(data, method\u001b[38;5;241m=\u001b[39m\u001b[38;5;124m\"\u001b[39m\u001b[38;5;124mpivot_table\u001b[39m\u001b[38;5;124m\"\u001b[39m)\n",
      "File \u001b[1;32m~\\AppData\\Local\\Programs\\Python\\Python313\\Lib\\site-packages\\pandas\\core\\reshape\\pivot.py:148\u001b[0m, in \u001b[0;36m__internal_pivot_table\u001b[1;34m(data, values, index, columns, aggfunc, fill_value, margins, dropna, margins_name, observed, sort)\u001b[0m\n\u001b[0;32m    146\u001b[0m \u001b[38;5;28;01mfor\u001b[39;00m i \u001b[38;5;129;01min\u001b[39;00m values:\n\u001b[0;32m    147\u001b[0m     \u001b[38;5;28;01mif\u001b[39;00m i \u001b[38;5;129;01mnot\u001b[39;00m \u001b[38;5;129;01min\u001b[39;00m data:\n\u001b[1;32m--> 148\u001b[0m         \u001b[38;5;28;01mraise\u001b[39;00m \u001b[38;5;167;01mKeyError\u001b[39;00m(i)\n\u001b[0;32m    150\u001b[0m to_filter \u001b[38;5;241m=\u001b[39m []\n\u001b[0;32m    151\u001b[0m \u001b[38;5;28;01mfor\u001b[39;00m x \u001b[38;5;129;01min\u001b[39;00m keys \u001b[38;5;241m+\u001b[39m values:\n",
      "\u001b[1;31mKeyError\u001b[0m: 'NumOfProduct'"
     ]
    }
   ],
   "source": [
    "\n",
    "df.pivot_table(index = 'Country', columns = 'Gender', values = 'NumOfProduct', aggfunc = 'sum')"
   ]
  },
  {
   "cell_type": "code",
   "execution_count": 27,
   "id": "21beb8f8-b4fd-4070-87d6-8802603da48d",
   "metadata": {},
   "outputs": [
    {
     "ename": "KeyError",
     "evalue": "'NoOfProducts'",
     "output_type": "error",
     "traceback": [
      "\u001b[1;31m---------------------------------------------------------------------------\u001b[0m",
      "\u001b[1;31mKeyError\u001b[0m                                  Traceback (most recent call last)",
      "Cell \u001b[1;32mIn[27], line 1\u001b[0m\n\u001b[1;32m----> 1\u001b[0m \u001b[43mdf\u001b[49m\u001b[38;5;241;43m.\u001b[39;49m\u001b[43mpivot_table\u001b[49m\u001b[43m(\u001b[49m\u001b[43mindex\u001b[49m\u001b[43m \u001b[49m\u001b[38;5;241;43m=\u001b[39;49m\u001b[43m \u001b[49m\u001b[38;5;124;43m'\u001b[39;49m\u001b[38;5;124;43mCountry\u001b[39;49m\u001b[38;5;124;43m'\u001b[39;49m\u001b[43m,\u001b[49m\u001b[43m \u001b[49m\u001b[43mcolumns\u001b[49m\u001b[43m \u001b[49m\u001b[38;5;241;43m=\u001b[39;49m\u001b[43m \u001b[49m\u001b[38;5;124;43m'\u001b[39;49m\u001b[38;5;124;43mGender\u001b[39;49m\u001b[38;5;124;43m'\u001b[39;49m\u001b[43m,\u001b[49m\u001b[43m \u001b[49m\u001b[43mvalues\u001b[49m\u001b[43m \u001b[49m\u001b[38;5;241;43m=\u001b[39;49m\u001b[43m \u001b[49m\u001b[38;5;124;43m'\u001b[39;49m\u001b[38;5;124;43mNoOfProducts\u001b[39;49m\u001b[38;5;124;43m'\u001b[39;49m\u001b[43m,\u001b[49m\u001b[43m \u001b[49m\u001b[43maggfunc\u001b[49m\u001b[43m \u001b[49m\u001b[38;5;241;43m=\u001b[39;49m\u001b[43m \u001b[49m\u001b[38;5;124;43m'\u001b[39;49m\u001b[38;5;124;43msum\u001b[39;49m\u001b[38;5;124;43m'\u001b[39;49m\u001b[43m)\u001b[49m\n",
      "File \u001b[1;32m~\\AppData\\Local\\Programs\\Python\\Python313\\Lib\\site-packages\\pandas\\core\\frame.py:9509\u001b[0m, in \u001b[0;36mDataFrame.pivot_table\u001b[1;34m(self, values, index, columns, aggfunc, fill_value, margins, dropna, margins_name, observed, sort)\u001b[0m\n\u001b[0;32m   9492\u001b[0m \u001b[38;5;129m@Substitution\u001b[39m(\u001b[38;5;124m\"\u001b[39m\u001b[38;5;124m\"\u001b[39m)\n\u001b[0;32m   9493\u001b[0m \u001b[38;5;129m@Appender\u001b[39m(_shared_docs[\u001b[38;5;124m\"\u001b[39m\u001b[38;5;124mpivot_table\u001b[39m\u001b[38;5;124m\"\u001b[39m])\n\u001b[0;32m   9494\u001b[0m \u001b[38;5;28;01mdef\u001b[39;00m \u001b[38;5;21mpivot_table\u001b[39m(\n\u001b[1;32m   (...)\u001b[0m\n\u001b[0;32m   9505\u001b[0m     sort: \u001b[38;5;28mbool\u001b[39m \u001b[38;5;241m=\u001b[39m \u001b[38;5;28;01mTrue\u001b[39;00m,\n\u001b[0;32m   9506\u001b[0m ) \u001b[38;5;241m-\u001b[39m\u001b[38;5;241m>\u001b[39m DataFrame:\n\u001b[0;32m   9507\u001b[0m     \u001b[38;5;28;01mfrom\u001b[39;00m \u001b[38;5;21;01mpandas\u001b[39;00m\u001b[38;5;21;01m.\u001b[39;00m\u001b[38;5;21;01mcore\u001b[39;00m\u001b[38;5;21;01m.\u001b[39;00m\u001b[38;5;21;01mreshape\u001b[39;00m\u001b[38;5;21;01m.\u001b[39;00m\u001b[38;5;21;01mpivot\u001b[39;00m \u001b[38;5;28;01mimport\u001b[39;00m pivot_table\n\u001b[1;32m-> 9509\u001b[0m     \u001b[38;5;28;01mreturn\u001b[39;00m \u001b[43mpivot_table\u001b[49m\u001b[43m(\u001b[49m\n\u001b[0;32m   9510\u001b[0m \u001b[43m        \u001b[49m\u001b[38;5;28;43mself\u001b[39;49m\u001b[43m,\u001b[49m\n\u001b[0;32m   9511\u001b[0m \u001b[43m        \u001b[49m\u001b[43mvalues\u001b[49m\u001b[38;5;241;43m=\u001b[39;49m\u001b[43mvalues\u001b[49m\u001b[43m,\u001b[49m\n\u001b[0;32m   9512\u001b[0m \u001b[43m        \u001b[49m\u001b[43mindex\u001b[49m\u001b[38;5;241;43m=\u001b[39;49m\u001b[43mindex\u001b[49m\u001b[43m,\u001b[49m\n\u001b[0;32m   9513\u001b[0m \u001b[43m        \u001b[49m\u001b[43mcolumns\u001b[49m\u001b[38;5;241;43m=\u001b[39;49m\u001b[43mcolumns\u001b[49m\u001b[43m,\u001b[49m\n\u001b[0;32m   9514\u001b[0m \u001b[43m        \u001b[49m\u001b[43maggfunc\u001b[49m\u001b[38;5;241;43m=\u001b[39;49m\u001b[43maggfunc\u001b[49m\u001b[43m,\u001b[49m\n\u001b[0;32m   9515\u001b[0m \u001b[43m        \u001b[49m\u001b[43mfill_value\u001b[49m\u001b[38;5;241;43m=\u001b[39;49m\u001b[43mfill_value\u001b[49m\u001b[43m,\u001b[49m\n\u001b[0;32m   9516\u001b[0m \u001b[43m        \u001b[49m\u001b[43mmargins\u001b[49m\u001b[38;5;241;43m=\u001b[39;49m\u001b[43mmargins\u001b[49m\u001b[43m,\u001b[49m\n\u001b[0;32m   9517\u001b[0m \u001b[43m        \u001b[49m\u001b[43mdropna\u001b[49m\u001b[38;5;241;43m=\u001b[39;49m\u001b[43mdropna\u001b[49m\u001b[43m,\u001b[49m\n\u001b[0;32m   9518\u001b[0m \u001b[43m        \u001b[49m\u001b[43mmargins_name\u001b[49m\u001b[38;5;241;43m=\u001b[39;49m\u001b[43mmargins_name\u001b[49m\u001b[43m,\u001b[49m\n\u001b[0;32m   9519\u001b[0m \u001b[43m        \u001b[49m\u001b[43mobserved\u001b[49m\u001b[38;5;241;43m=\u001b[39;49m\u001b[43mobserved\u001b[49m\u001b[43m,\u001b[49m\n\u001b[0;32m   9520\u001b[0m \u001b[43m        \u001b[49m\u001b[43msort\u001b[49m\u001b[38;5;241;43m=\u001b[39;49m\u001b[43msort\u001b[49m\u001b[43m,\u001b[49m\n\u001b[0;32m   9521\u001b[0m \u001b[43m    \u001b[49m\u001b[43m)\u001b[49m\n",
      "File \u001b[1;32m~\\AppData\\Local\\Programs\\Python\\Python313\\Lib\\site-packages\\pandas\\core\\reshape\\pivot.py:102\u001b[0m, in \u001b[0;36mpivot_table\u001b[1;34m(data, values, index, columns, aggfunc, fill_value, margins, dropna, margins_name, observed, sort)\u001b[0m\n\u001b[0;32m     99\u001b[0m     table \u001b[38;5;241m=\u001b[39m concat(pieces, keys\u001b[38;5;241m=\u001b[39mkeys, axis\u001b[38;5;241m=\u001b[39m\u001b[38;5;241m1\u001b[39m)\n\u001b[0;32m    100\u001b[0m     \u001b[38;5;28;01mreturn\u001b[39;00m table\u001b[38;5;241m.\u001b[39m__finalize__(data, method\u001b[38;5;241m=\u001b[39m\u001b[38;5;124m\"\u001b[39m\u001b[38;5;124mpivot_table\u001b[39m\u001b[38;5;124m\"\u001b[39m)\n\u001b[1;32m--> 102\u001b[0m table \u001b[38;5;241m=\u001b[39m \u001b[43m__internal_pivot_table\u001b[49m\u001b[43m(\u001b[49m\n\u001b[0;32m    103\u001b[0m \u001b[43m    \u001b[49m\u001b[43mdata\u001b[49m\u001b[43m,\u001b[49m\n\u001b[0;32m    104\u001b[0m \u001b[43m    \u001b[49m\u001b[43mvalues\u001b[49m\u001b[43m,\u001b[49m\n\u001b[0;32m    105\u001b[0m \u001b[43m    \u001b[49m\u001b[43mindex\u001b[49m\u001b[43m,\u001b[49m\n\u001b[0;32m    106\u001b[0m \u001b[43m    \u001b[49m\u001b[43mcolumns\u001b[49m\u001b[43m,\u001b[49m\n\u001b[0;32m    107\u001b[0m \u001b[43m    \u001b[49m\u001b[43maggfunc\u001b[49m\u001b[43m,\u001b[49m\n\u001b[0;32m    108\u001b[0m \u001b[43m    \u001b[49m\u001b[43mfill_value\u001b[49m\u001b[43m,\u001b[49m\n\u001b[0;32m    109\u001b[0m \u001b[43m    \u001b[49m\u001b[43mmargins\u001b[49m\u001b[43m,\u001b[49m\n\u001b[0;32m    110\u001b[0m \u001b[43m    \u001b[49m\u001b[43mdropna\u001b[49m\u001b[43m,\u001b[49m\n\u001b[0;32m    111\u001b[0m \u001b[43m    \u001b[49m\u001b[43mmargins_name\u001b[49m\u001b[43m,\u001b[49m\n\u001b[0;32m    112\u001b[0m \u001b[43m    \u001b[49m\u001b[43mobserved\u001b[49m\u001b[43m,\u001b[49m\n\u001b[0;32m    113\u001b[0m \u001b[43m    \u001b[49m\u001b[43msort\u001b[49m\u001b[43m,\u001b[49m\n\u001b[0;32m    114\u001b[0m \u001b[43m\u001b[49m\u001b[43m)\u001b[49m\n\u001b[0;32m    115\u001b[0m \u001b[38;5;28;01mreturn\u001b[39;00m table\u001b[38;5;241m.\u001b[39m__finalize__(data, method\u001b[38;5;241m=\u001b[39m\u001b[38;5;124m\"\u001b[39m\u001b[38;5;124mpivot_table\u001b[39m\u001b[38;5;124m\"\u001b[39m)\n",
      "File \u001b[1;32m~\\AppData\\Local\\Programs\\Python\\Python313\\Lib\\site-packages\\pandas\\core\\reshape\\pivot.py:148\u001b[0m, in \u001b[0;36m__internal_pivot_table\u001b[1;34m(data, values, index, columns, aggfunc, fill_value, margins, dropna, margins_name, observed, sort)\u001b[0m\n\u001b[0;32m    146\u001b[0m \u001b[38;5;28;01mfor\u001b[39;00m i \u001b[38;5;129;01min\u001b[39;00m values:\n\u001b[0;32m    147\u001b[0m     \u001b[38;5;28;01mif\u001b[39;00m i \u001b[38;5;129;01mnot\u001b[39;00m \u001b[38;5;129;01min\u001b[39;00m data:\n\u001b[1;32m--> 148\u001b[0m         \u001b[38;5;28;01mraise\u001b[39;00m \u001b[38;5;167;01mKeyError\u001b[39;00m(i)\n\u001b[0;32m    150\u001b[0m to_filter \u001b[38;5;241m=\u001b[39m []\n\u001b[0;32m    151\u001b[0m \u001b[38;5;28;01mfor\u001b[39;00m x \u001b[38;5;129;01min\u001b[39;00m keys \u001b[38;5;241m+\u001b[39m values:\n",
      "\u001b[1;31mKeyError\u001b[0m: 'NoOfProducts'"
     ]
    }
   ],
   "source": [
    "df.pivot_table(index = 'Country', columns = 'Gender', values = 'NoOfProducts', aggfunc = 'sum')"
   ]
  },
  {
   "cell_type": "code",
   "execution_count": 28,
   "id": "5a6dd34b-5f73-4f39-9e25-19a07c2c2d35",
   "metadata": {},
   "outputs": [
    {
     "data": {
      "text/html": [
       "<div>\n",
       "<style scoped>\n",
       "    .dataframe tbody tr th:only-of-type {\n",
       "        vertical-align: middle;\n",
       "    }\n",
       "\n",
       "    .dataframe tbody tr th {\n",
       "        vertical-align: top;\n",
       "    }\n",
       "\n",
       "    .dataframe thead th {\n",
       "        text-align: right;\n",
       "    }\n",
       "</style>\n",
       "<table border=\"1\" class=\"dataframe\">\n",
       "  <thead>\n",
       "    <tr style=\"text-align: right;\">\n",
       "      <th>Gender</th>\n",
       "      <th>Female</th>\n",
       "      <th>Male</th>\n",
       "    </tr>\n",
       "    <tr>\n",
       "      <th>Country</th>\n",
       "      <th></th>\n",
       "      <th></th>\n",
       "    </tr>\n",
       "  </thead>\n",
       "  <tbody>\n",
       "    <tr>\n",
       "      <th>France</th>\n",
       "      <td>137</td>\n",
       "      <td>170</td>\n",
       "    </tr>\n",
       "    <tr>\n",
       "      <th>Germany</th>\n",
       "      <td>93</td>\n",
       "      <td>108</td>\n",
       "    </tr>\n",
       "    <tr>\n",
       "      <th>Spain</th>\n",
       "      <td>90</td>\n",
       "      <td>100</td>\n",
       "    </tr>\n",
       "  </tbody>\n",
       "</table>\n",
       "</div>"
      ],
      "text/plain": [
       "Gender   Female  Male\n",
       "Country              \n",
       "France      137   170\n",
       "Germany      93   108\n",
       "Spain        90   100"
      ]
     },
     "execution_count": 28,
     "metadata": {},
     "output_type": "execute_result"
    }
   ],
   "source": [
    "df.pivot_table(index = 'Country', columns = 'Gender', values = 'NumOfProducts', aggfunc = 'sum')"
   ]
  },
  {
   "cell_type": "code",
   "execution_count": 29,
   "id": "77936818-f458-43ee-a574-80053a43082f",
   "metadata": {},
   "outputs": [
    {
     "data": {
      "text/html": [
       "<div>\n",
       "<style scoped>\n",
       "    .dataframe tbody tr th:only-of-type {\n",
       "        vertical-align: middle;\n",
       "    }\n",
       "\n",
       "    .dataframe tbody tr th {\n",
       "        vertical-align: top;\n",
       "    }\n",
       "\n",
       "    .dataframe thead th {\n",
       "        text-align: right;\n",
       "    }\n",
       "</style>\n",
       "<table border=\"1\" class=\"dataframe\">\n",
       "  <thead>\n",
       "    <tr style=\"text-align: right;\">\n",
       "      <th></th>\n",
       "      <th></th>\n",
       "      <th>Salary</th>\n",
       "    </tr>\n",
       "    <tr>\n",
       "      <th>Country</th>\n",
       "      <th>Tenure</th>\n",
       "      <th></th>\n",
       "    </tr>\n",
       "  </thead>\n",
       "  <tbody>\n",
       "    <tr>\n",
       "      <th rowspan=\"11\" valign=\"top\">France</th>\n",
       "      <th>0</th>\n",
       "      <td>90887.332000</td>\n",
       "    </tr>\n",
       "    <tr>\n",
       "      <th>1</th>\n",
       "      <td>109414.142273</td>\n",
       "    </tr>\n",
       "    <tr>\n",
       "      <th>2</th>\n",
       "      <td>101773.140000</td>\n",
       "    </tr>\n",
       "    <tr>\n",
       "      <th>3</th>\n",
       "      <td>79159.960625</td>\n",
       "    </tr>\n",
       "    <tr>\n",
       "      <th>4</th>\n",
       "      <td>105780.266000</td>\n",
       "    </tr>\n",
       "    <tr>\n",
       "      <th>5</th>\n",
       "      <td>125285.975000</td>\n",
       "    </tr>\n",
       "    <tr>\n",
       "      <th>6</th>\n",
       "      <td>105304.670667</td>\n",
       "    </tr>\n",
       "    <tr>\n",
       "      <th>7</th>\n",
       "      <td>84252.254444</td>\n",
       "    </tr>\n",
       "    <tr>\n",
       "      <th>8</th>\n",
       "      <td>92301.817917</td>\n",
       "    </tr>\n",
       "    <tr>\n",
       "      <th>9</th>\n",
       "      <td>95867.157200</td>\n",
       "    </tr>\n",
       "    <tr>\n",
       "      <th>10</th>\n",
       "      <td>108091.784444</td>\n",
       "    </tr>\n",
       "    <tr>\n",
       "      <th rowspan=\"11\" valign=\"top\">Germany</th>\n",
       "      <th>0</th>\n",
       "      <td>100299.632000</td>\n",
       "    </tr>\n",
       "    <tr>\n",
       "      <th>1</th>\n",
       "      <td>115210.255455</td>\n",
       "    </tr>\n",
       "    <tr>\n",
       "      <th>2</th>\n",
       "      <td>106005.743846</td>\n",
       "    </tr>\n",
       "    <tr>\n",
       "      <th>3</th>\n",
       "      <td>94967.737368</td>\n",
       "    </tr>\n",
       "    <tr>\n",
       "      <th>4</th>\n",
       "      <td>105768.784000</td>\n",
       "    </tr>\n",
       "    <tr>\n",
       "      <th>5</th>\n",
       "      <td>101485.051818</td>\n",
       "    </tr>\n",
       "    <tr>\n",
       "      <th>6</th>\n",
       "      <td>98275.141000</td>\n",
       "    </tr>\n",
       "    <tr>\n",
       "      <th>7</th>\n",
       "      <td>99516.093077</td>\n",
       "    </tr>\n",
       "    <tr>\n",
       "      <th>8</th>\n",
       "      <td>146743.720000</td>\n",
       "    </tr>\n",
       "    <tr>\n",
       "      <th>9</th>\n",
       "      <td>106890.448824</td>\n",
       "    </tr>\n",
       "    <tr>\n",
       "      <th>10</th>\n",
       "      <td>136996.260909</td>\n",
       "    </tr>\n",
       "    <tr>\n",
       "      <th rowspan=\"11\" valign=\"top\">Spain</th>\n",
       "      <th>0</th>\n",
       "      <td>67399.242000</td>\n",
       "    </tr>\n",
       "    <tr>\n",
       "      <th>1</th>\n",
       "      <td>96428.042000</td>\n",
       "    </tr>\n",
       "    <tr>\n",
       "      <th>2</th>\n",
       "      <td>86717.435714</td>\n",
       "    </tr>\n",
       "    <tr>\n",
       "      <th>3</th>\n",
       "      <td>120482.407333</td>\n",
       "    </tr>\n",
       "    <tr>\n",
       "      <th>4</th>\n",
       "      <td>78706.197778</td>\n",
       "    </tr>\n",
       "    <tr>\n",
       "      <th>5</th>\n",
       "      <td>132164.425000</td>\n",
       "    </tr>\n",
       "    <tr>\n",
       "      <th>6</th>\n",
       "      <td>67682.420000</td>\n",
       "    </tr>\n",
       "    <tr>\n",
       "      <th>7</th>\n",
       "      <td>82475.323846</td>\n",
       "    </tr>\n",
       "    <tr>\n",
       "      <th>8</th>\n",
       "      <td>147516.945000</td>\n",
       "    </tr>\n",
       "    <tr>\n",
       "      <th>9</th>\n",
       "      <td>112205.062000</td>\n",
       "    </tr>\n",
       "    <tr>\n",
       "      <th>10</th>\n",
       "      <td>102553.310000</td>\n",
       "    </tr>\n",
       "  </tbody>\n",
       "</table>\n",
       "</div>"
      ],
      "text/plain": [
       "                       Salary\n",
       "Country Tenure               \n",
       "France  0        90887.332000\n",
       "        1       109414.142273\n",
       "        2       101773.140000\n",
       "        3        79159.960625\n",
       "        4       105780.266000\n",
       "        5       125285.975000\n",
       "        6       105304.670667\n",
       "        7        84252.254444\n",
       "        8        92301.817917\n",
       "        9        95867.157200\n",
       "        10      108091.784444\n",
       "Germany 0       100299.632000\n",
       "        1       115210.255455\n",
       "        2       106005.743846\n",
       "        3        94967.737368\n",
       "        4       105768.784000\n",
       "        5       101485.051818\n",
       "        6        98275.141000\n",
       "        7        99516.093077\n",
       "        8       146743.720000\n",
       "        9       106890.448824\n",
       "        10      136996.260909\n",
       "Spain   0        67399.242000\n",
       "        1        96428.042000\n",
       "        2        86717.435714\n",
       "        3       120482.407333\n",
       "        4        78706.197778\n",
       "        5       132164.425000\n",
       "        6        67682.420000\n",
       "        7        82475.323846\n",
       "        8       147516.945000\n",
       "        9       112205.062000\n",
       "        10      102553.310000"
      ]
     },
     "execution_count": 29,
     "metadata": {},
     "output_type": "execute_result"
    }
   ],
   "source": [
    "df.pivot_table(index = ['Country', 'Tenure'], values = 'Salary', aggfunc = 'mean')"
   ]
  },
  {
   "cell_type": "code",
   "execution_count": 30,
   "id": "56f470e6-cc54-4718-a24e-374dd3980e1b",
   "metadata": {},
   "outputs": [
    {
     "data": {
      "text/html": [
       "<div>\n",
       "<style scoped>\n",
       "    .dataframe tbody tr th:only-of-type {\n",
       "        vertical-align: middle;\n",
       "    }\n",
       "\n",
       "    .dataframe tbody tr th {\n",
       "        vertical-align: top;\n",
       "    }\n",
       "\n",
       "    .dataframe thead tr th {\n",
       "        text-align: left;\n",
       "    }\n",
       "\n",
       "    .dataframe thead tr:last-of-type th {\n",
       "        text-align: right;\n",
       "    }\n",
       "</style>\n",
       "<table border=\"1\" class=\"dataframe\">\n",
       "  <thead>\n",
       "    <tr>\n",
       "      <th></th>\n",
       "      <th colspan=\"2\" halign=\"left\">mean</th>\n",
       "      <th colspan=\"2\" halign=\"left\">sum</th>\n",
       "    </tr>\n",
       "    <tr>\n",
       "      <th></th>\n",
       "      <th>Balance</th>\n",
       "      <th>Salary</th>\n",
       "      <th>Balance</th>\n",
       "      <th>Salary</th>\n",
       "    </tr>\n",
       "    <tr>\n",
       "      <th>Country</th>\n",
       "      <th></th>\n",
       "      <th></th>\n",
       "      <th></th>\n",
       "      <th></th>\n",
       "    </tr>\n",
       "  </thead>\n",
       "  <tbody>\n",
       "    <tr>\n",
       "      <th>France</th>\n",
       "      <td>56104.252261</td>\n",
       "      <td>99156.221206</td>\n",
       "      <td>11164746.20</td>\n",
       "      <td>19732088.02</td>\n",
       "    </tr>\n",
       "    <tr>\n",
       "      <th>Germany</th>\n",
       "      <td>117872.832977</td>\n",
       "      <td>109465.909160</td>\n",
       "      <td>15441341.12</td>\n",
       "      <td>14340034.10</td>\n",
       "    </tr>\n",
       "    <tr>\n",
       "      <th>Spain</th>\n",
       "      <td>61225.397967</td>\n",
       "      <td>104636.270325</td>\n",
       "      <td>7530723.95</td>\n",
       "      <td>12870261.25</td>\n",
       "    </tr>\n",
       "  </tbody>\n",
       "</table>\n",
       "</div>"
      ],
      "text/plain": [
       "                  mean                         sum             \n",
       "               Balance         Salary      Balance       Salary\n",
       "Country                                                        \n",
       "France    56104.252261   99156.221206  11164746.20  19732088.02\n",
       "Germany  117872.832977  109465.909160  15441341.12  14340034.10\n",
       "Spain     61225.397967  104636.270325   7530723.95  12870261.25"
      ]
     },
     "execution_count": 30,
     "metadata": {},
     "output_type": "execute_result"
    }
   ],
   "source": [
    "# Calculates both total (sum) and average (mean) for Salary and Balance, grouped by Country.\n",
    "df.pivot_table(index = 'Country', values = ['Salary', 'Balance'], aggfunc = ['mean', 'sum'])"
   ]
  },
  {
   "cell_type": "code",
   "execution_count": 31,
   "id": "6f2ec58b-29dd-41a2-a500-85001a072407",
   "metadata": {},
   "outputs": [
    {
     "data": {
      "text/plain": [
       "Index(['CustomerId', 'Name', 'CreditScore', 'Country', 'Gender', 'Age',\n",
       "       'Tenure', 'Balance', 'NumOfProducts', 'Salary', 'Date', 'Dep'],\n",
       "      dtype='object')"
      ]
     },
     "execution_count": 31,
     "metadata": {},
     "output_type": "execute_result"
    }
   ],
   "source": [
    "df.columns"
   ]
  },
  {
   "cell_type": "code",
   "execution_count": 33,
   "id": "cc023e23-a7ea-4c50-95f5-c5f719f12fed",
   "metadata": {},
   "outputs": [
    {
     "name": "stdout",
     "output_type": "stream",
     "text": [
      "   CustomerId  Name  CreditScore Country  Gender  Age  Tenure   Balance  \\\n",
      "2    15634602  Onio          502  France  Female   42       8  159660.8   \n",
      "3    15634602  Onio          502  France  Female   42       8  159660.8   \n",
      "\n",
      "   NumOfProducts     Salary       Date   Dep  \n",
      "2              3  112542.58 2023-01-03  Bank  \n",
      "3              3  112542.58 2023-01-04  Bank  \n"
     ]
    }
   ],
   "source": [
    "df_fil = df[df['Name'].str.contains('onio', case = False)]\n",
    "print(df_fil)"
   ]
  },
  {
   "cell_type": "code",
   "execution_count": 34,
   "id": "cf8d2acc-e002-4677-be19-cd56d2ef9e1d",
   "metadata": {},
   "outputs": [
    {
     "name": "stdout",
     "output_type": "stream",
     "text": [
      "Empty DataFrame\n",
      "Columns: [CustomerId, Name, CreditScore, Country, Gender, Age, Tenure, Balance, NumOfProducts, Salary, Date, Dep]\n",
      "Index: []\n"
     ]
    }
   ],
   "source": [
    "df_fil = df[df['Name'].str.contains('siva', case = False)]\n",
    "print(df_fil)"
   ]
  },
  {
   "cell_type": "code",
   "execution_count": 35,
   "id": "307b5dd6-fcf3-45e5-86f0-6dfcef8e744c",
   "metadata": {},
   "outputs": [
    {
     "name": "stdout",
     "output_type": "stream",
     "text": [
      "     CustomerId        Name  CreditScore  Country  Gender  Age  Tenure  \\\n",
      "0      15634602    Hargrave          619   France  Female   42       2   \n",
      "1      15634602    Hargrave          619   France  Female   42       2   \n",
      "2      15634602        Onio          502   France  Female   42       8   \n",
      "3      15634602        Onio          502   France  Female   42       8   \n",
      "4      15737888    Mitchell          850    Spain  Female   43       2   \n",
      "..          ...         ...          ...      ...     ...  ...     ...   \n",
      "448    15694860    Uspensky          675   France  Female   38       6   \n",
      "449    15658169        Cook          778    Spain  Female   47       6   \n",
      "450    15794396     Newbold          494  Germany  Female   38       7   \n",
      "451    15785798  Uchechukwu          850   France    Male   40       9   \n",
      "452    15710825       Ch'en          592    Spain    Male   31       7   \n",
      "\n",
      "       Balance  NumOfProducts     Salary       Date      Dep  \n",
      "0         0.00              1  101348.88 2023-01-01     Bank  \n",
      "1         0.00              1  101348.88 2023-01-02     Bank  \n",
      "2    159660.80              3  112542.58 2023-01-03     Bank  \n",
      "3    159660.80              3  112542.58 2023-01-04     Bank  \n",
      "4    125510.82              1   79084.10 2023-01-05     Bank  \n",
      "..         ...            ...        ...        ...      ...  \n",
      "448   68065.80              1  138777.00 2025-01-31  Entrepr  \n",
      "449  127299.34              2  124694.99 2025-01-31  Entrepr  \n",
      "450  174937.64              1   40084.32 2025-01-31  Entrepr  \n",
      "451       0.00              2  119232.33 2025-01-31  Entrepr  \n",
      "452  110071.10              1   43921.36 2025-01-31  Entrepr  \n",
      "\n",
      "[453 rows x 12 columns]\n"
     ]
    }
   ],
   "source": [
    "print(df)"
   ]
  },
  {
   "cell_type": "code",
   "execution_count": 36,
   "id": "09996751-47b4-4f1c-980d-098b867e0c7a",
   "metadata": {},
   "outputs": [
    {
     "name": "stdout",
     "output_type": "stream",
     "text": [
      "     CustomerId  Name  CreditScore Country  Gender  Age  Tenure    Balance  \\\n",
      "449    15658169  Cook          778   Spain  Female   47       6  127299.34   \n",
      "\n",
      "     NumOfProducts     Salary       Date      Dep  \n",
      "449              2  124694.99 2025-01-31  Entrepr  \n"
     ]
    }
   ],
   "source": [
    "df_fil = df[df['Name'].str.contains('cook', case = False)]\n",
    "print(df_fil)"
   ]
  },
  {
   "cell_type": "code",
   "execution_count": 41,
   "id": "33acc404-61b5-4da3-8910-250fac066961",
   "metadata": {},
   "outputs": [
    {
     "ename": "TypeError",
     "evalue": "'method' object is not subscriptable",
     "output_type": "error",
     "traceback": [
      "\u001b[1;31m---------------------------------------------------------------------------\u001b[0m",
      "\u001b[1;31mTypeError\u001b[0m                                 Traceback (most recent call last)",
      "Cell \u001b[1;32mIn[41], line 2\u001b[0m\n\u001b[0;32m      1\u001b[0m backup \u001b[38;5;241m=\u001b[39m df\u001b[38;5;241m.\u001b[39mcopy\n\u001b[1;32m----> 2\u001b[0m backup[\u001b[38;5;124m'\u001b[39m\u001b[38;5;124mName\u001b[39m\u001b[38;5;124m'\u001b[39m] \u001b[38;5;241m=\u001b[39m backup[\u001b[43mbackup\u001b[49m\u001b[43m[\u001b[49m\u001b[38;5;124;43m'\u001b[39;49m\u001b[38;5;124;43mName\u001b[39;49m\u001b[38;5;124;43m'\u001b[39;49m\u001b[43m]\u001b[49m\u001b[38;5;241m.\u001b[39mstr\u001b[38;5;241m.\u001b[39mreplace(\u001b[38;5;124m'\u001b[39m\u001b[38;5;124mcook\u001b[39m\u001b[38;5;124m'\u001b[39m, \u001b[38;5;124m'\u001b[39m\u001b[38;5;124msiva\u001b[39m\u001b[38;5;124m'\u001b[39m, case \u001b[38;5;241m=\u001b[39m \u001b[38;5;28;01mFalse\u001b[39;00m)]\n\u001b[0;32m      3\u001b[0m \u001b[38;5;28mprint\u001b[39m(backup)\n",
      "\u001b[1;31mTypeError\u001b[0m: 'method' object is not subscriptable"
     ]
    }
   ],
   "source": [
    "backup = df.copy\n",
    "backup['Name'] = backup[backup['Name'].str.replace('cook', 'siva', case = False)]\n",
    "print(backup)\n",
    "\n"
   ]
  },
  {
   "cell_type": "code",
   "execution_count": 40,
   "id": "28ed8254-b599-4704-9e7a-6b0811330de8",
   "metadata": {},
   "outputs": [
    {
     "name": "stdout",
     "output_type": "stream",
     "text": [
      "<bound method NDFrame.copy of      CustomerId        Name  CreditScore  Country  Gender  Age  Tenure  \\\n",
      "0      15634602    Hargrave          619   France  Female   42       2   \n",
      "1      15634602    Hargrave          619   France  Female   42       2   \n",
      "2      15634602        Onio          502   France  Female   42       8   \n",
      "3      15634602        Onio          502   France  Female   42       8   \n",
      "4      15737888    Mitchell          850    Spain  Female   43       2   \n",
      "..          ...         ...          ...      ...     ...  ...     ...   \n",
      "448    15694860    Uspensky          675   France  Female   38       6   \n",
      "449    15658169        Cook          778    Spain  Female   47       6   \n",
      "450    15794396     Newbold          494  Germany  Female   38       7   \n",
      "451    15785798  Uchechukwu          850   France    Male   40       9   \n",
      "452    15710825       Ch'en          592    Spain    Male   31       7   \n",
      "\n",
      "       Balance  NumOfProducts     Salary       Date      Dep  \n",
      "0         0.00              1  101348.88 2023-01-01     Bank  \n",
      "1         0.00              1  101348.88 2023-01-02     Bank  \n",
      "2    159660.80              3  112542.58 2023-01-03     Bank  \n",
      "3    159660.80              3  112542.58 2023-01-04     Bank  \n",
      "4    125510.82              1   79084.10 2023-01-05     Bank  \n",
      "..         ...            ...        ...        ...      ...  \n",
      "448   68065.80              1  138777.00 2025-01-31  Entrepr  \n",
      "449  127299.34              2  124694.99 2025-01-31  Entrepr  \n",
      "450  174937.64              1   40084.32 2025-01-31  Entrepr  \n",
      "451       0.00              2  119232.33 2025-01-31  Entrepr  \n",
      "452  110071.10              1   43921.36 2025-01-31  Entrepr  \n",
      "\n",
      "[453 rows x 12 columns]>\n"
     ]
    }
   ],
   "source": [
    "print(backup)"
   ]
  },
  {
   "cell_type": "code",
   "execution_count": 44,
   "id": "f1a87def-05e4-46cf-a03b-8637ff63792e",
   "metadata": {},
   "outputs": [
    {
     "ename": "TypeError",
     "evalue": "'method' object is not subscriptable",
     "output_type": "error",
     "traceback": [
      "\u001b[1;31m---------------------------------------------------------------------------\u001b[0m",
      "\u001b[1;31mTypeError\u001b[0m                                 Traceback (most recent call last)",
      "Cell \u001b[1;32mIn[44], line 1\u001b[0m\n\u001b[1;32m----> 1\u001b[0m backup[\u001b[38;5;124m'\u001b[39m\u001b[38;5;124mName\u001b[39m\u001b[38;5;124m'\u001b[39m] \u001b[38;5;241m=\u001b[39m \u001b[43mbackup\u001b[49m\u001b[43m[\u001b[49m\u001b[38;5;124;43m'\u001b[39;49m\u001b[38;5;124;43mName\u001b[39;49m\u001b[38;5;124;43m'\u001b[39;49m\u001b[43m]\u001b[49m\u001b[38;5;241m.\u001b[39mstr\u001b[38;5;241m.\u001b[39mreplace(\u001b[38;5;124m'\u001b[39m\u001b[38;5;124mcook\u001b[39m\u001b[38;5;124m'\u001b[39m, \u001b[38;5;124m'\u001b[39m\u001b[38;5;124msiva\u001b[39m\u001b[38;5;124m'\u001b[39m, case \u001b[38;5;241m=\u001b[39m \u001b[38;5;28;01mFalse\u001b[39;00m)\n\u001b[0;32m      2\u001b[0m \u001b[38;5;28mprint\u001b[39m(backup)\n",
      "\u001b[1;31mTypeError\u001b[0m: 'method' object is not subscriptable"
     ]
    }
   ],
   "source": [
    "backup['Name'] = backup['Name'].str.replace('cook', 'siva', case = False)\n",
    "print(backup)\n"
   ]
  },
  {
   "cell_type": "code",
   "execution_count": 45,
   "id": "8a455a1e-a4f9-48be-8b26-59d3c96b63ce",
   "metadata": {},
   "outputs": [
    {
     "ename": "TypeError",
     "evalue": "'method' object is not subscriptable",
     "output_type": "error",
     "traceback": [
      "\u001b[1;31m---------------------------------------------------------------------------\u001b[0m",
      "\u001b[1;31mTypeError\u001b[0m                                 Traceback (most recent call last)",
      "Cell \u001b[1;32mIn[45], line 1\u001b[0m\n\u001b[1;32m----> 1\u001b[0m backup[\u001b[38;5;124m'\u001b[39m\u001b[38;5;124mName\u001b[39m\u001b[38;5;124m'\u001b[39m] \u001b[38;5;241m=\u001b[39m \u001b[43mbackup\u001b[49m\u001b[43m[\u001b[49m\u001b[38;5;124;43m'\u001b[39;49m\u001b[38;5;124;43mName\u001b[39;49m\u001b[38;5;124;43m'\u001b[39;49m\u001b[43m]\u001b[49m\u001b[38;5;241m.\u001b[39mstr\u001b[38;5;241m.\u001b[39mreplace(\u001b[38;5;124m'\u001b[39m\u001b[38;5;124mcook\u001b[39m\u001b[38;5;124m'\u001b[39m, \u001b[38;5;124m'\u001b[39m\u001b[38;5;124msiva\u001b[39m\u001b[38;5;124m'\u001b[39m, case\u001b[38;5;241m=\u001b[39m\u001b[38;5;28;01mFalse\u001b[39;00m)\n\u001b[0;32m      2\u001b[0m \u001b[38;5;28mprint\u001b[39m(backup)\n",
      "\u001b[1;31mTypeError\u001b[0m: 'method' object is not subscriptable"
     ]
    }
   ],
   "source": [
    "backup['Name'] = backup['Name'].str.replace('cook', 'siva', case=False)\n",
    "print(backup)\n"
   ]
  },
  {
   "cell_type": "code",
   "execution_count": 46,
   "id": "99fc7292-af70-4075-99e8-7e0e1d7959d3",
   "metadata": {},
   "outputs": [
    {
     "ename": "TypeError",
     "evalue": "'method' object is not subscriptable",
     "output_type": "error",
     "traceback": [
      "\u001b[1;31m---------------------------------------------------------------------------\u001b[0m",
      "\u001b[1;31mTypeError\u001b[0m                                 Traceback (most recent call last)",
      "Cell \u001b[1;32mIn[46], line 1\u001b[0m\n\u001b[1;32m----> 1\u001b[0m backup[\u001b[38;5;124m'\u001b[39m\u001b[38;5;124mName\u001b[39m\u001b[38;5;124m'\u001b[39m] \u001b[38;5;241m=\u001b[39m \u001b[43mbackup\u001b[49m\u001b[43m[\u001b[49m\u001b[38;5;124;43m'\u001b[39;49m\u001b[38;5;124;43mName\u001b[39;49m\u001b[38;5;124;43m'\u001b[39;49m\u001b[43m]\u001b[49m\u001b[38;5;241m.\u001b[39mstr\u001b[38;5;241m.\u001b[39mreplace(\u001b[38;5;124m'\u001b[39m\u001b[38;5;124mcook\u001b[39m\u001b[38;5;124m'\u001b[39m, \u001b[38;5;124m'\u001b[39m\u001b[38;5;124msiva\u001b[39m\u001b[38;5;124m'\u001b[39m, case\u001b[38;5;241m=\u001b[39m\u001b[38;5;28;01mFalse\u001b[39;00m)\n\u001b[0;32m      3\u001b[0m \u001b[38;5;28mprint\u001b[39m(backup)\n",
      "\u001b[1;31mTypeError\u001b[0m: 'method' object is not subscriptable"
     ]
    }
   ],
   "source": [
    "backup['Name'] = backup['Name'].str.replace('cook', 'siva', case=False)\n",
    "\n",
    "print(backup)"
   ]
  },
  {
   "cell_type": "code",
   "execution_count": 47,
   "id": "dbec93c3-9b4d-4194-8661-0fa45f543826",
   "metadata": {},
   "outputs": [
    {
     "data": {
      "text/plain": [
       "method"
      ]
     },
     "execution_count": 47,
     "metadata": {},
     "output_type": "execute_result"
    }
   ],
   "source": [
    "type(backup)"
   ]
  },
  {
   "cell_type": "code",
   "execution_count": 48,
   "id": "b1349452-dd3d-447d-9b7b-d27c38ec3604",
   "metadata": {},
   "outputs": [
    {
     "name": "stdout",
     "output_type": "stream",
     "text": [
      "     CustomerId        Name  CreditScore  Country  Gender  Age  Tenure  \\\n",
      "0      15634602    Hargrave          619   France  Female   42       2   \n",
      "1      15634602    Hargrave          619   France  Female   42       2   \n",
      "2      15634602        Onio          502   France  Female   42       8   \n",
      "3      15634602        Onio          502   France  Female   42       8   \n",
      "4      15737888    Mitchell          850    Spain  Female   43       2   \n",
      "..          ...         ...          ...      ...     ...  ...     ...   \n",
      "448    15694860    Uspensky          675   France  Female   38       6   \n",
      "449    15658169        siva          778    Spain  Female   47       6   \n",
      "450    15794396     Newbold          494  Germany  Female   38       7   \n",
      "451    15785798  Uchechukwu          850   France    Male   40       9   \n",
      "452    15710825       Ch'en          592    Spain    Male   31       7   \n",
      "\n",
      "       Balance  NumOfProducts     Salary       Date      Dep  \n",
      "0         0.00              1  101348.88 2023-01-01     Bank  \n",
      "1         0.00              1  101348.88 2023-01-02     Bank  \n",
      "2    159660.80              3  112542.58 2023-01-03     Bank  \n",
      "3    159660.80              3  112542.58 2023-01-04     Bank  \n",
      "4    125510.82              1   79084.10 2023-01-05     Bank  \n",
      "..         ...            ...        ...        ...      ...  \n",
      "448   68065.80              1  138777.00 2025-01-31  Entrepr  \n",
      "449  127299.34              2  124694.99 2025-01-31  Entrepr  \n",
      "450  174937.64              1   40084.32 2025-01-31  Entrepr  \n",
      "451       0.00              2  119232.33 2025-01-31  Entrepr  \n",
      "452  110071.10              1   43921.36 2025-01-31  Entrepr  \n",
      "\n",
      "[453 rows x 12 columns]\n"
     ]
    }
   ],
   "source": [
    "df['Name'] = df['Name'].str.replace('cook', 'siva', case = False)\n",
    "print(df)"
   ]
  },
  {
   "cell_type": "code",
   "execution_count": 49,
   "id": "d9513160-a0cf-44ee-8b2c-d914c212c7bf",
   "metadata": {},
   "outputs": [],
   "source": [
    "df.loc[449, ['Country', 'Age', 'Tenure', 'Balance', 'Salary']] = ['India', 23, 25, 10000000, 100000]"
   ]
  },
  {
   "cell_type": "code",
   "execution_count": 50,
   "id": "db3a7680-3892-401e-be79-197100df5a0f",
   "metadata": {},
   "outputs": [
    {
     "name": "stdout",
     "output_type": "stream",
     "text": [
      "     CustomerId        Name  CreditScore  Country  Gender  Age  Tenure  \\\n",
      "0      15634602    Hargrave          619   France  Female   42       2   \n",
      "1      15634602    Hargrave          619   France  Female   42       2   \n",
      "2      15634602        Onio          502   France  Female   42       8   \n",
      "3      15634602        Onio          502   France  Female   42       8   \n",
      "4      15737888    Mitchell          850    Spain  Female   43       2   \n",
      "..          ...         ...          ...      ...     ...  ...     ...   \n",
      "448    15694860    Uspensky          675   France  Female   38       6   \n",
      "449    15658169        siva          778    India  Female   23      25   \n",
      "450    15794396     Newbold          494  Germany  Female   38       7   \n",
      "451    15785798  Uchechukwu          850   France    Male   40       9   \n",
      "452    15710825       Ch'en          592    Spain    Male   31       7   \n",
      "\n",
      "         Balance  NumOfProducts     Salary       Date      Dep  \n",
      "0           0.00              1  101348.88 2023-01-01     Bank  \n",
      "1           0.00              1  101348.88 2023-01-02     Bank  \n",
      "2      159660.80              3  112542.58 2023-01-03     Bank  \n",
      "3      159660.80              3  112542.58 2023-01-04     Bank  \n",
      "4      125510.82              1   79084.10 2023-01-05     Bank  \n",
      "..           ...            ...        ...        ...      ...  \n",
      "448     68065.80              1  138777.00 2025-01-31  Entrepr  \n",
      "449  10000000.00              2  100000.00 2025-01-31  Entrepr  \n",
      "450    174937.64              1   40084.32 2025-01-31  Entrepr  \n",
      "451         0.00              2  119232.33 2025-01-31  Entrepr  \n",
      "452    110071.10              1   43921.36 2025-01-31  Entrepr  \n",
      "\n",
      "[453 rows x 12 columns]\n"
     ]
    }
   ],
   "source": [
    "print(df)"
   ]
  },
  {
   "cell_type": "code",
   "execution_count": 53,
   "id": "0dd218f0-6128-46d5-b6a6-53c6258c4e54",
   "metadata": {},
   "outputs": [
    {
     "name": "stdout",
     "output_type": "stream",
     "text": [
      "     CustomerId        Name  CreditScore  Country  Gender  Age  Tenure  \\\n",
      "0      15634602    Hargrave          619   France  Female   42       2   \n",
      "1      15634602    Hargrave          619   France  Female   42       2   \n",
      "2      15634602        Onio          502   France  Female   42       8   \n",
      "3      15634602        Onio          502   France  Female   42       8   \n",
      "4      15737888    Mitchell          850    Spain  Female   43       2   \n",
      "..          ...         ...          ...      ...     ...  ...     ...   \n",
      "448    15694860    Uspensky          675   France  Female   38       6   \n",
      "449    15658169        siva          778    India    Male   23      25   \n",
      "450    15794396     Newbold          494  Germany  Female   38       7   \n",
      "451    15785798  Uchechukwu          850   France    Male   40       9   \n",
      "452    15710825       Ch'en          592    Spain    Male   31       7   \n",
      "\n",
      "         Balance  NumOfProducts     Salary       Date      Dep  \n",
      "0           0.00              1  101348.88 2023-01-01     Bank  \n",
      "1           0.00              1  101348.88 2023-01-02     Bank  \n",
      "2      159660.80              3  112542.58 2023-01-03     Bank  \n",
      "3      159660.80              3  112542.58 2023-01-04     Bank  \n",
      "4      125510.82              1   79084.10 2023-01-05     Bank  \n",
      "..           ...            ...        ...        ...      ...  \n",
      "448     68065.80              1  138777.00 2025-01-31  Entrepr  \n",
      "449  10000000.00              2  100000.00 2025-01-31  Entrepr  \n",
      "450    174937.64              1   40084.32 2025-01-31  Entrepr  \n",
      "451         0.00              2  119232.33 2025-01-31  Entrepr  \n",
      "452    110071.10              1   43921.36 2025-01-31  Entrepr  \n",
      "\n",
      "[453 rows x 12 columns]\n"
     ]
    }
   ],
   "source": [
    "df.loc[449, 'Gender'] = 'Male'\n",
    "print(df)"
   ]
  },
  {
   "cell_type": "code",
   "execution_count": 57,
   "id": "f4807b30-7836-4536-95b5-9e7f49b7fb1b",
   "metadata": {},
   "outputs": [
    {
     "data": {
      "text/plain": [
       "'SIVA'"
      ]
     },
     "execution_count": 57,
     "metadata": {},
     "output_type": "execute_result"
    }
   ],
   "source": [
    "df.loc[449, 'Name'].upper()"
   ]
  },
  {
   "cell_type": "raw",
   "id": "f7d32419-2408-45c8-a778-e70951240dbf",
   "metadata": {},
   "source": [
    "print(df)"
   ]
  },
  {
   "cell_type": "code",
   "execution_count": 58,
   "id": "1d294907-a83b-4738-a1df-dfbb242d4dda",
   "metadata": {},
   "outputs": [
    {
     "name": "stdout",
     "output_type": "stream",
     "text": [
      "     CustomerId        Name  CreditScore  Country  Gender  Age  Tenure  \\\n",
      "0      15634602    Hargrave          619   France  Female   42       2   \n",
      "1      15634602    Hargrave          619   France  Female   42       2   \n",
      "2      15634602        Onio          502   France  Female   42       8   \n",
      "3      15634602        Onio          502   France  Female   42       8   \n",
      "4      15737888    Mitchell          850    Spain  Female   43       2   \n",
      "..          ...         ...          ...      ...     ...  ...     ...   \n",
      "448    15694860    Uspensky          675   France  Female   38       6   \n",
      "449    15658169        siva          778    India    Male   23      25   \n",
      "450    15794396     Newbold          494  Germany  Female   38       7   \n",
      "451    15785798  Uchechukwu          850   France    Male   40       9   \n",
      "452    15710825       Ch'en          592    Spain    Male   31       7   \n",
      "\n",
      "         Balance  NumOfProducts     Salary       Date      Dep  \n",
      "0           0.00              1  101348.88 2023-01-01     Bank  \n",
      "1           0.00              1  101348.88 2023-01-02     Bank  \n",
      "2      159660.80              3  112542.58 2023-01-03     Bank  \n",
      "3      159660.80              3  112542.58 2023-01-04     Bank  \n",
      "4      125510.82              1   79084.10 2023-01-05     Bank  \n",
      "..           ...            ...        ...        ...      ...  \n",
      "448     68065.80              1  138777.00 2025-01-31  Entrepr  \n",
      "449  10000000.00              2  100000.00 2025-01-31  Entrepr  \n",
      "450    174937.64              1   40084.32 2025-01-31  Entrepr  \n",
      "451         0.00              2  119232.33 2025-01-31  Entrepr  \n",
      "452    110071.10              1   43921.36 2025-01-31  Entrepr  \n",
      "\n",
      "[453 rows x 12 columns]\n"
     ]
    }
   ],
   "source": [
    "print(df)"
   ]
  },
  {
   "cell_type": "code",
   "execution_count": 59,
   "id": "926c3c68-c092-426e-b735-a9381516aa00",
   "metadata": {},
   "outputs": [],
   "source": [
    "df['Name'] = df['Name'].str.upper()"
   ]
  },
  {
   "cell_type": "code",
   "execution_count": 60,
   "id": "a38042f7-180a-4667-a339-a6ac1566399c",
   "metadata": {},
   "outputs": [
    {
     "name": "stdout",
     "output_type": "stream",
     "text": [
      "     CustomerId        Name  CreditScore  Country  Gender  Age  Tenure  \\\n",
      "0      15634602    HARGRAVE          619   France  Female   42       2   \n",
      "1      15634602    HARGRAVE          619   France  Female   42       2   \n",
      "2      15634602        ONIO          502   France  Female   42       8   \n",
      "3      15634602        ONIO          502   France  Female   42       8   \n",
      "4      15737888    MITCHELL          850    Spain  Female   43       2   \n",
      "..          ...         ...          ...      ...     ...  ...     ...   \n",
      "448    15694860    USPENSKY          675   France  Female   38       6   \n",
      "449    15658169        SIVA          778    India    Male   23      25   \n",
      "450    15794396     NEWBOLD          494  Germany  Female   38       7   \n",
      "451    15785798  UCHECHUKWU          850   France    Male   40       9   \n",
      "452    15710825       CH'EN          592    Spain    Male   31       7   \n",
      "\n",
      "         Balance  NumOfProducts     Salary       Date      Dep  \n",
      "0           0.00              1  101348.88 2023-01-01     Bank  \n",
      "1           0.00              1  101348.88 2023-01-02     Bank  \n",
      "2      159660.80              3  112542.58 2023-01-03     Bank  \n",
      "3      159660.80              3  112542.58 2023-01-04     Bank  \n",
      "4      125510.82              1   79084.10 2023-01-05     Bank  \n",
      "..           ...            ...        ...        ...      ...  \n",
      "448     68065.80              1  138777.00 2025-01-31  Entrepr  \n",
      "449  10000000.00              2  100000.00 2025-01-31  Entrepr  \n",
      "450    174937.64              1   40084.32 2025-01-31  Entrepr  \n",
      "451         0.00              2  119232.33 2025-01-31  Entrepr  \n",
      "452    110071.10              1   43921.36 2025-01-31  Entrepr  \n",
      "\n",
      "[453 rows x 12 columns]\n"
     ]
    }
   ],
   "source": [
    "print(df)"
   ]
  },
  {
   "cell_type": "code",
   "execution_count": 61,
   "id": "bf096a58-4e55-4121-b851-327ddaf10c7e",
   "metadata": {},
   "outputs": [
    {
     "name": "stdout",
     "output_type": "stream",
     "text": [
      "     CustomerId        Name  CreditScore  Country  Gender  Age  Tenure  \\\n",
      "0      15634602    hargrave          619   France  Female   42       2   \n",
      "1      15634602    hargrave          619   France  Female   42       2   \n",
      "2      15634602        onio          502   France  Female   42       8   \n",
      "3      15634602        onio          502   France  Female   42       8   \n",
      "4      15737888    mitchell          850    Spain  Female   43       2   \n",
      "..          ...         ...          ...      ...     ...  ...     ...   \n",
      "448    15694860    uspensky          675   France  Female   38       6   \n",
      "449    15658169        siva          778    India    Male   23      25   \n",
      "450    15794396     newbold          494  Germany  Female   38       7   \n",
      "451    15785798  uchechukwu          850   France    Male   40       9   \n",
      "452    15710825       ch'en          592    Spain    Male   31       7   \n",
      "\n",
      "         Balance  NumOfProducts     Salary       Date      Dep  \n",
      "0           0.00              1  101348.88 2023-01-01     Bank  \n",
      "1           0.00              1  101348.88 2023-01-02     Bank  \n",
      "2      159660.80              3  112542.58 2023-01-03     Bank  \n",
      "3      159660.80              3  112542.58 2023-01-04     Bank  \n",
      "4      125510.82              1   79084.10 2023-01-05     Bank  \n",
      "..           ...            ...        ...        ...      ...  \n",
      "448     68065.80              1  138777.00 2025-01-31  Entrepr  \n",
      "449  10000000.00              2  100000.00 2025-01-31  Entrepr  \n",
      "450    174937.64              1   40084.32 2025-01-31  Entrepr  \n",
      "451         0.00              2  119232.33 2025-01-31  Entrepr  \n",
      "452    110071.10              1   43921.36 2025-01-31  Entrepr  \n",
      "\n",
      "[453 rows x 12 columns]\n"
     ]
    }
   ],
   "source": [
    "df['Name'] = df['Name'].str.lower()\n",
    "print(df)"
   ]
  },
  {
   "cell_type": "code",
   "execution_count": 66,
   "id": "0a95c50d-5b9d-41d7-87fe-9507e5f6eee5",
   "metadata": {},
   "outputs": [
    {
     "name": "stdout",
     "output_type": "stream",
     "text": [
      "     CustomerId      Name  CreditScore Country  Gender  Age  Tenure  \\\n",
      "238    15794056  johnston          668  France  Female   46       2   \n",
      "298    15650068   johnson          511  France    Male   58       0   \n",
      "\n",
      "       Balance  NumOfProducts     Salary       Date       Dep  \n",
      "238       0.00              3   89048.46 2024-02-16  Business  \n",
      "298  149117.31              1  162599.51 2024-04-16       Clg  \n"
     ]
    }
   ],
   "source": [
    "df_fil = df[df['Name'].str.upper().str.startswith('JOHN')]\n",
    "print(df_fil)"
   ]
  },
  {
   "cell_type": "code",
   "execution_count": 75,
   "id": "68a3b917-9d65-4d3e-9085-b2e4f3535c1b",
   "metadata": {},
   "outputs": [
    {
     "ename": "TypeError",
     "evalue": "StringMethods.endswith() got an unexpected keyword argument 'case'",
     "output_type": "error",
     "traceback": [
      "\u001b[1;31m---------------------------------------------------------------------------\u001b[0m",
      "\u001b[1;31mTypeError\u001b[0m                                 Traceback (most recent call last)",
      "Cell \u001b[1;32mIn[75], line 1\u001b[0m\n\u001b[1;32m----> 1\u001b[0m df_fil \u001b[38;5;241m=\u001b[39m df[\u001b[43mdf\u001b[49m\u001b[43m[\u001b[49m\u001b[38;5;124;43m'\u001b[39;49m\u001b[38;5;124;43mName\u001b[39;49m\u001b[38;5;124;43m'\u001b[39;49m\u001b[43m]\u001b[49m\u001b[38;5;241;43m.\u001b[39;49m\u001b[43mstr\u001b[49m\u001b[38;5;241;43m.\u001b[39;49m\u001b[43mendswith\u001b[49m\u001b[43m(\u001b[49m\u001b[38;5;124;43m'\u001b[39;49m\u001b[38;5;124;43mSon\u001b[39;49m\u001b[38;5;124;43m'\u001b[39;49m\u001b[43m,\u001b[49m\u001b[43m \u001b[49m\u001b[43mcase\u001b[49m\u001b[43m \u001b[49m\u001b[38;5;241;43m=\u001b[39;49m\u001b[43m \u001b[49m\u001b[38;5;28;43;01mFalse\u001b[39;49;00m\u001b[43m)\u001b[49m]\n\u001b[0;32m      2\u001b[0m \u001b[38;5;28mprint\u001b[39m(df_fil)\n",
      "File \u001b[1;32m~\\AppData\\Local\\Programs\\Python\\Python313\\Lib\\site-packages\\pandas\\core\\strings\\accessor.py:137\u001b[0m, in \u001b[0;36mforbid_nonstring_types.<locals>._forbid_nonstring_types.<locals>.wrapper\u001b[1;34m(self, *args, **kwargs)\u001b[0m\n\u001b[0;32m    132\u001b[0m     msg \u001b[38;5;241m=\u001b[39m (\n\u001b[0;32m    133\u001b[0m         \u001b[38;5;124mf\u001b[39m\u001b[38;5;124m\"\u001b[39m\u001b[38;5;124mCannot use .str.\u001b[39m\u001b[38;5;132;01m{\u001b[39;00mfunc_name\u001b[38;5;132;01m}\u001b[39;00m\u001b[38;5;124m with values of \u001b[39m\u001b[38;5;124m\"\u001b[39m\n\u001b[0;32m    134\u001b[0m         \u001b[38;5;124mf\u001b[39m\u001b[38;5;124m\"\u001b[39m\u001b[38;5;124minferred dtype \u001b[39m\u001b[38;5;124m'\u001b[39m\u001b[38;5;132;01m{\u001b[39;00m\u001b[38;5;28mself\u001b[39m\u001b[38;5;241m.\u001b[39m_inferred_dtype\u001b[38;5;132;01m}\u001b[39;00m\u001b[38;5;124m'\u001b[39m\u001b[38;5;124m.\u001b[39m\u001b[38;5;124m\"\u001b[39m\n\u001b[0;32m    135\u001b[0m     )\n\u001b[0;32m    136\u001b[0m     \u001b[38;5;28;01mraise\u001b[39;00m \u001b[38;5;167;01mTypeError\u001b[39;00m(msg)\n\u001b[1;32m--> 137\u001b[0m \u001b[38;5;28;01mreturn\u001b[39;00m \u001b[43mfunc\u001b[49m\u001b[43m(\u001b[49m\u001b[38;5;28;43mself\u001b[39;49m\u001b[43m,\u001b[49m\u001b[43m \u001b[49m\u001b[38;5;241;43m*\u001b[39;49m\u001b[43margs\u001b[49m\u001b[43m,\u001b[49m\u001b[43m \u001b[49m\u001b[38;5;241;43m*\u001b[39;49m\u001b[38;5;241;43m*\u001b[39;49m\u001b[43mkwargs\u001b[49m\u001b[43m)\u001b[49m\n",
      "\u001b[1;31mTypeError\u001b[0m: StringMethods.endswith() got an unexpected keyword argument 'case'"
     ]
    }
   ],
   "source": [
    "df_fil = df[df['Name'].str.endswith('Son', case = False)]\n",
    "print(df_fil)"
   ]
  },
  {
   "cell_type": "code",
   "execution_count": 78,
   "id": "34bf5898-e619-474f-8075-93dd612a7389",
   "metadata": {},
   "outputs": [],
   "source": [
    "df['Name_length'] = df['Name'].str.len()\n"
   ]
  },
  {
   "cell_type": "code",
   "execution_count": 79,
   "id": "fa02b224-d4db-44c5-a729-93c7d70ab9b6",
   "metadata": {},
   "outputs": [
    {
     "name": "stdout",
     "output_type": "stream",
     "text": [
      "     CustomerId        Name  CreditScore  Country  Gender  Age  Tenure  \\\n",
      "0      15634602    hargrave          619   France  Female   42       2   \n",
      "1      15634602    hargrave          619   France  Female   42       2   \n",
      "2      15634602        onio          502   France  Female   42       8   \n",
      "3      15634602        onio          502   France  Female   42       8   \n",
      "4      15737888    mitchell          850    Spain  Female   43       2   \n",
      "..          ...         ...          ...      ...     ...  ...     ...   \n",
      "448    15694860    uspensky          675   France  Female   38       6   \n",
      "449    15658169        siva          778    India    Male   23      25   \n",
      "450    15794396     newbold          494  Germany  Female   38       7   \n",
      "451    15785798  uchechukwu          850   France    Male   40       9   \n",
      "452    15710825       ch'en          592    Spain    Male   31       7   \n",
      "\n",
      "         Balance  NumOfProducts     Salary       Date      Dep  Name_length  \n",
      "0           0.00              1  101348.88 2023-01-01     Bank            8  \n",
      "1           0.00              1  101348.88 2023-01-02     Bank            8  \n",
      "2      159660.80              3  112542.58 2023-01-03     Bank            4  \n",
      "3      159660.80              3  112542.58 2023-01-04     Bank            4  \n",
      "4      125510.82              1   79084.10 2023-01-05     Bank            8  \n",
      "..           ...            ...        ...        ...      ...          ...  \n",
      "448     68065.80              1  138777.00 2025-01-31  Entrepr            8  \n",
      "449  10000000.00              2  100000.00 2025-01-31  Entrepr            4  \n",
      "450    174937.64              1   40084.32 2025-01-31  Entrepr            7  \n",
      "451         0.00              2  119232.33 2025-01-31  Entrepr           10  \n",
      "452    110071.10              1   43921.36 2025-01-31  Entrepr            5  \n",
      "\n",
      "[453 rows x 13 columns]\n"
     ]
    }
   ],
   "source": [
    "print(df)"
   ]
  },
  {
   "cell_type": "code",
   "execution_count": 80,
   "id": "1c1f726a-3c5f-49de-a4e7-2c5e1bc9b6e9",
   "metadata": {},
   "outputs": [
    {
     "name": "stdout",
     "output_type": "stream",
     "text": [
      "     CustomerId        Name  CreditScore  Country  Gender  Age  Tenure  \\\n",
      "0      15634602    hargrave          619   France  Female   42       2   \n",
      "1      15634602    hargrave          619   France  Female   42       2   \n",
      "2      15634602        onio          502   France  Female   42       8   \n",
      "3      15634602        onio          502   France  Female   42       8   \n",
      "4      15737888    mitchell          850    Spain  Female   43       2   \n",
      "..          ...         ...          ...      ...     ...  ...     ...   \n",
      "448    15694860    uspensky          675   France  Female   38       6   \n",
      "449    15658169        siva          778    India    Male   23      25   \n",
      "450    15794396     newbold          494  Germany  Female   38       7   \n",
      "451    15785798  uchechukwu          850   France    Male   40       9   \n",
      "452    15710825       ch'en          592    Spain    Male   31       7   \n",
      "\n",
      "         Balance  NumOfProducts     Salary       Date      Dep  Name_length  \\\n",
      "0           0.00              1  101348.88 2023-01-01     Bank            8   \n",
      "1           0.00              1  101348.88 2023-01-02     Bank            8   \n",
      "2      159660.80              3  112542.58 2023-01-03     Bank            4   \n",
      "3      159660.80              3  112542.58 2023-01-04     Bank            4   \n",
      "4      125510.82              1   79084.10 2023-01-05     Bank            8   \n",
      "..           ...            ...        ...        ...      ...          ...   \n",
      "448     68065.80              1  138777.00 2025-01-31  Entrepr            8   \n",
      "449  10000000.00              2  100000.00 2025-01-31  Entrepr            4   \n",
      "450    174937.64              1   40084.32 2025-01-31  Entrepr            7   \n",
      "451         0.00              2  119232.33 2025-01-31  Entrepr           10   \n",
      "452    110071.10              1   43921.36 2025-01-31  Entrepr            5   \n",
      "\n",
      "      FirstName LastName  \n",
      "0      hargrave     None  \n",
      "1      hargrave     None  \n",
      "2          onio     None  \n",
      "3          onio     None  \n",
      "4      mitchell     None  \n",
      "..          ...      ...  \n",
      "448    uspensky     None  \n",
      "449        siva     None  \n",
      "450     newbold     None  \n",
      "451  uchechukwu     None  \n",
      "452       ch'en     None  \n",
      "\n",
      "[453 rows x 15 columns]\n"
     ]
    }
   ],
   "source": [
    "#split\n",
    "df[['FirstName', 'LastName']] = df['Name'].str.split(' ', expand = True)\n",
    "print(df)"
   ]
  },
  {
   "cell_type": "code",
   "execution_count": 83,
   "id": "92345a09-fe5f-407b-b0c0-4c8fb9e0b769",
   "metadata": {},
   "outputs": [
    {
     "ename": "KeyError",
     "evalue": "('siva', 'sivaraman')",
     "output_type": "error",
     "traceback": [
      "\u001b[1;31m---------------------------------------------------------------------------\u001b[0m",
      "\u001b[1;31mKeyError\u001b[0m                                  Traceback (most recent call last)",
      "File \u001b[1;32m~\\AppData\\Local\\Programs\\Python\\Python313\\Lib\\site-packages\\pandas\\core\\indexes\\base.py:3805\u001b[0m, in \u001b[0;36mIndex.get_loc\u001b[1;34m(self, key)\u001b[0m\n\u001b[0;32m   3804\u001b[0m \u001b[38;5;28;01mtry\u001b[39;00m:\n\u001b[1;32m-> 3805\u001b[0m     \u001b[38;5;28;01mreturn\u001b[39;00m \u001b[38;5;28;43mself\u001b[39;49m\u001b[38;5;241;43m.\u001b[39;49m\u001b[43m_engine\u001b[49m\u001b[38;5;241;43m.\u001b[39;49m\u001b[43mget_loc\u001b[49m\u001b[43m(\u001b[49m\u001b[43mcasted_key\u001b[49m\u001b[43m)\u001b[49m\n\u001b[0;32m   3806\u001b[0m \u001b[38;5;28;01mexcept\u001b[39;00m \u001b[38;5;167;01mKeyError\u001b[39;00m \u001b[38;5;28;01mas\u001b[39;00m err:\n",
      "File \u001b[1;32mindex.pyx:167\u001b[0m, in \u001b[0;36mpandas._libs.index.IndexEngine.get_loc\u001b[1;34m()\u001b[0m\n",
      "File \u001b[1;32mindex.pyx:196\u001b[0m, in \u001b[0;36mpandas._libs.index.IndexEngine.get_loc\u001b[1;34m()\u001b[0m\n",
      "File \u001b[1;32mpandas\\\\_libs\\\\hashtable_class_helper.pxi:7081\u001b[0m, in \u001b[0;36mpandas._libs.hashtable.PyObjectHashTable.get_item\u001b[1;34m()\u001b[0m\n",
      "File \u001b[1;32mpandas\\\\_libs\\\\hashtable_class_helper.pxi:7089\u001b[0m, in \u001b[0;36mpandas._libs.hashtable.PyObjectHashTable.get_item\u001b[1;34m()\u001b[0m\n",
      "\u001b[1;31mKeyError\u001b[0m: ('siva', 'sivaraman')",
      "\nThe above exception was the direct cause of the following exception:\n",
      "\u001b[1;31mKeyError\u001b[0m                                  Traceback (most recent call last)",
      "Cell \u001b[1;32mIn[83], line 1\u001b[0m\n\u001b[1;32m----> 1\u001b[0m df[\u001b[38;5;241m449\u001b[39m, \u001b[38;5;124m'\u001b[39m\u001b[38;5;124mName\u001b[39m\u001b[38;5;124m'\u001b[39m] \u001b[38;5;241m=\u001b[39m \u001b[43mdf\u001b[49m\u001b[43m[\u001b[49m\u001b[38;5;124;43m'\u001b[39;49m\u001b[38;5;124;43msiva\u001b[39;49m\u001b[38;5;124;43m'\u001b[39;49m\u001b[43m,\u001b[49m\u001b[38;5;124;43m'\u001b[39;49m\u001b[38;5;124;43msivaraman\u001b[39;49m\u001b[38;5;124;43m'\u001b[39;49m\u001b[43m]\u001b[49m\n",
      "File \u001b[1;32m~\\AppData\\Local\\Programs\\Python\\Python313\\Lib\\site-packages\\pandas\\core\\frame.py:4102\u001b[0m, in \u001b[0;36mDataFrame.__getitem__\u001b[1;34m(self, key)\u001b[0m\n\u001b[0;32m   4100\u001b[0m \u001b[38;5;28;01mif\u001b[39;00m \u001b[38;5;28mself\u001b[39m\u001b[38;5;241m.\u001b[39mcolumns\u001b[38;5;241m.\u001b[39mnlevels \u001b[38;5;241m>\u001b[39m \u001b[38;5;241m1\u001b[39m:\n\u001b[0;32m   4101\u001b[0m     \u001b[38;5;28;01mreturn\u001b[39;00m \u001b[38;5;28mself\u001b[39m\u001b[38;5;241m.\u001b[39m_getitem_multilevel(key)\n\u001b[1;32m-> 4102\u001b[0m indexer \u001b[38;5;241m=\u001b[39m \u001b[38;5;28;43mself\u001b[39;49m\u001b[38;5;241;43m.\u001b[39;49m\u001b[43mcolumns\u001b[49m\u001b[38;5;241;43m.\u001b[39;49m\u001b[43mget_loc\u001b[49m\u001b[43m(\u001b[49m\u001b[43mkey\u001b[49m\u001b[43m)\u001b[49m\n\u001b[0;32m   4103\u001b[0m \u001b[38;5;28;01mif\u001b[39;00m is_integer(indexer):\n\u001b[0;32m   4104\u001b[0m     indexer \u001b[38;5;241m=\u001b[39m [indexer]\n",
      "File \u001b[1;32m~\\AppData\\Local\\Programs\\Python\\Python313\\Lib\\site-packages\\pandas\\core\\indexes\\base.py:3812\u001b[0m, in \u001b[0;36mIndex.get_loc\u001b[1;34m(self, key)\u001b[0m\n\u001b[0;32m   3807\u001b[0m     \u001b[38;5;28;01mif\u001b[39;00m \u001b[38;5;28misinstance\u001b[39m(casted_key, \u001b[38;5;28mslice\u001b[39m) \u001b[38;5;129;01mor\u001b[39;00m (\n\u001b[0;32m   3808\u001b[0m         \u001b[38;5;28misinstance\u001b[39m(casted_key, abc\u001b[38;5;241m.\u001b[39mIterable)\n\u001b[0;32m   3809\u001b[0m         \u001b[38;5;129;01mand\u001b[39;00m \u001b[38;5;28many\u001b[39m(\u001b[38;5;28misinstance\u001b[39m(x, \u001b[38;5;28mslice\u001b[39m) \u001b[38;5;28;01mfor\u001b[39;00m x \u001b[38;5;129;01min\u001b[39;00m casted_key)\n\u001b[0;32m   3810\u001b[0m     ):\n\u001b[0;32m   3811\u001b[0m         \u001b[38;5;28;01mraise\u001b[39;00m InvalidIndexError(key)\n\u001b[1;32m-> 3812\u001b[0m     \u001b[38;5;28;01mraise\u001b[39;00m \u001b[38;5;167;01mKeyError\u001b[39;00m(key) \u001b[38;5;28;01mfrom\u001b[39;00m \u001b[38;5;21;01merr\u001b[39;00m\n\u001b[0;32m   3813\u001b[0m \u001b[38;5;28;01mexcept\u001b[39;00m \u001b[38;5;167;01mTypeError\u001b[39;00m:\n\u001b[0;32m   3814\u001b[0m     \u001b[38;5;66;03m# If we have a listlike key, _check_indexing_error will raise\u001b[39;00m\n\u001b[0;32m   3815\u001b[0m     \u001b[38;5;66;03m#  InvalidIndexError. Otherwise we fall through and re-raise\u001b[39;00m\n\u001b[0;32m   3816\u001b[0m     \u001b[38;5;66;03m#  the TypeError.\u001b[39;00m\n\u001b[0;32m   3817\u001b[0m     \u001b[38;5;28mself\u001b[39m\u001b[38;5;241m.\u001b[39m_check_indexing_error(key)\n",
      "\u001b[1;31mKeyError\u001b[0m: ('siva', 'sivaraman')"
     ]
    }
   ],
   "source": [
    "df[449, 'Name'] = df['siva','sivaraman']"
   ]
  },
  {
   "cell_type": "code",
   "execution_count": 82,
   "id": "6bf19b7a-9f20-4f5d-bfc8-f9912238b2a2",
   "metadata": {},
   "outputs": [
    {
     "name": "stdout",
     "output_type": "stream",
     "text": [
      "     CustomerId        Name  CreditScore  Country  Gender  Age  Tenure  \\\n",
      "0      15634602    hargrave          619   France  Female   42       2   \n",
      "1      15634602    hargrave          619   France  Female   42       2   \n",
      "2      15634602        onio          502   France  Female   42       8   \n",
      "3      15634602        onio          502   France  Female   42       8   \n",
      "4      15737888    mitchell          850    Spain  Female   43       2   \n",
      "..          ...         ...          ...      ...     ...  ...     ...   \n",
      "448    15694860    uspensky          675   France  Female   38       6   \n",
      "449    15658169        siva          778    India    Male   23      25   \n",
      "450    15794396     newbold          494  Germany  Female   38       7   \n",
      "451    15785798  uchechukwu          850   France    Male   40       9   \n",
      "452    15710825       ch'en          592    Spain    Male   31       7   \n",
      "\n",
      "         Balance  NumOfProducts     Salary       Date      Dep  Name_length  \\\n",
      "0           0.00              1  101348.88 2023-01-01     Bank            8   \n",
      "1           0.00              1  101348.88 2023-01-02     Bank            8   \n",
      "2      159660.80              3  112542.58 2023-01-03     Bank            4   \n",
      "3      159660.80              3  112542.58 2023-01-04     Bank            4   \n",
      "4      125510.82              1   79084.10 2023-01-05     Bank            8   \n",
      "..           ...            ...        ...        ...      ...          ...   \n",
      "448     68065.80              1  138777.00 2025-01-31  Entrepr            8   \n",
      "449  10000000.00              2  100000.00 2025-01-31  Entrepr            4   \n",
      "450    174937.64              1   40084.32 2025-01-31  Entrepr            7   \n",
      "451         0.00              2  119232.33 2025-01-31  Entrepr           10   \n",
      "452    110071.10              1   43921.36 2025-01-31  Entrepr            5   \n",
      "\n",
      "      FirstName LastName (449, Name)  \n",
      "0      hargrave     None   sivaraman  \n",
      "1      hargrave     None   sivaraman  \n",
      "2          onio     None   sivaraman  \n",
      "3          onio     None   sivaraman  \n",
      "4      mitchell     None   sivaraman  \n",
      "..          ...      ...         ...  \n",
      "448    uspensky     None   sivaraman  \n",
      "449        siva     None   sivaraman  \n",
      "450     newbold     None   sivaraman  \n",
      "451  uchechukwu     None   sivaraman  \n",
      "452       ch'en     None   sivaraman  \n",
      "\n",
      "[453 rows x 16 columns]\n"
     ]
    }
   ],
   "source": [
    "print(df)"
   ]
  },
  {
   "cell_type": "code",
   "execution_count": 84,
   "id": "b9dbf989-bb79-4ea0-9150-dab600872933",
   "metadata": {},
   "outputs": [],
   "source": [
    "df['Name'] = df['Name'].str.replace('siva', 'sivaraman')"
   ]
  },
  {
   "cell_type": "code",
   "execution_count": 85,
   "id": "70835627-e34c-4014-92a2-0811de3650d7",
   "metadata": {},
   "outputs": [
    {
     "name": "stdout",
     "output_type": "stream",
     "text": [
      "     CustomerId        Name  CreditScore  Country  Gender  Age  Tenure  \\\n",
      "0      15634602    hargrave          619   France  Female   42       2   \n",
      "1      15634602    hargrave          619   France  Female   42       2   \n",
      "2      15634602        onio          502   France  Female   42       8   \n",
      "3      15634602        onio          502   France  Female   42       8   \n",
      "4      15737888    mitchell          850    Spain  Female   43       2   \n",
      "..          ...         ...          ...      ...     ...  ...     ...   \n",
      "448    15694860    uspensky          675   France  Female   38       6   \n",
      "449    15658169   sivaraman          778    India    Male   23      25   \n",
      "450    15794396     newbold          494  Germany  Female   38       7   \n",
      "451    15785798  uchechukwu          850   France    Male   40       9   \n",
      "452    15710825       ch'en          592    Spain    Male   31       7   \n",
      "\n",
      "         Balance  NumOfProducts     Salary       Date      Dep  Name_length  \\\n",
      "0           0.00              1  101348.88 2023-01-01     Bank            8   \n",
      "1           0.00              1  101348.88 2023-01-02     Bank            8   \n",
      "2      159660.80              3  112542.58 2023-01-03     Bank            4   \n",
      "3      159660.80              3  112542.58 2023-01-04     Bank            4   \n",
      "4      125510.82              1   79084.10 2023-01-05     Bank            8   \n",
      "..           ...            ...        ...        ...      ...          ...   \n",
      "448     68065.80              1  138777.00 2025-01-31  Entrepr            8   \n",
      "449  10000000.00              2  100000.00 2025-01-31  Entrepr            4   \n",
      "450    174937.64              1   40084.32 2025-01-31  Entrepr            7   \n",
      "451         0.00              2  119232.33 2025-01-31  Entrepr           10   \n",
      "452    110071.10              1   43921.36 2025-01-31  Entrepr            5   \n",
      "\n",
      "      FirstName LastName (449, Name)  \n",
      "0      hargrave     None   sivaraman  \n",
      "1      hargrave     None   sivaraman  \n",
      "2          onio     None   sivaraman  \n",
      "3          onio     None   sivaraman  \n",
      "4      mitchell     None   sivaraman  \n",
      "..          ...      ...         ...  \n",
      "448    uspensky     None   sivaraman  \n",
      "449        siva     None   sivaraman  \n",
      "450     newbold     None   sivaraman  \n",
      "451  uchechukwu     None   sivaraman  \n",
      "452       ch'en     None   sivaraman  \n",
      "\n",
      "[453 rows x 16 columns]\n"
     ]
    }
   ],
   "source": [
    "print(df)"
   ]
  },
  {
   "cell_type": "code",
   "execution_count": 1,
   "id": "7b34bffd-8cf5-4385-b20b-0ebae824d2aa",
   "metadata": {},
   "outputs": [
    {
     "name": "stdout",
     "output_type": "stream",
     "text": [
      "     CustomerId        Name  CreditScore  Country  Gender  Age  Tenure  \\\n",
      "0      15634602    Hargrave          619   France  Female   42       2   \n",
      "1      15634602    Hargrave          619   France  Female   42       2   \n",
      "2      15634602        Onio          502   France  Female   42       8   \n",
      "3      15634602        Onio          502   France  Female   42       8   \n",
      "4      15737888    Mitchell          850    Spain  Female   43       2   \n",
      "..          ...         ...          ...      ...     ...  ...     ...   \n",
      "448    15694860    Uspensky          675   France  Female   38       6   \n",
      "449    15658169        Cook          778    Spain  Female   47       6   \n",
      "450    15794396     Newbold          494  Germany  Female   38       7   \n",
      "451    15785798  Uchechukwu          850   France    Male   40       9   \n",
      "452    15710825       Ch'en          592    Spain    Male   31       7   \n",
      "\n",
      "       Balance  NumOfProducts     Salary       Date      Dep  \n",
      "0         0.00              1  101348.88 2023-01-01     Bank  \n",
      "1         0.00              1  101348.88 2023-01-02     Bank  \n",
      "2    159660.80              3  112542.58 2023-01-03     Bank  \n",
      "3    159660.80              3  112542.58 2023-01-04     Bank  \n",
      "4    125510.82              1   79084.10 2023-01-05     Bank  \n",
      "..         ...            ...        ...        ...      ...  \n",
      "448   68065.80              1  138777.00 2025-01-31  Entrepr  \n",
      "449  127299.34              2  124694.99 2025-01-31  Entrepr  \n",
      "450  174937.64              1   40084.32 2025-01-31  Entrepr  \n",
      "451       0.00              2  119232.33 2025-01-31  Entrepr  \n",
      "452  110071.10              1   43921.36 2025-01-31  Entrepr  \n",
      "\n",
      "[453 rows x 12 columns]\n"
     ]
    }
   ],
   "source": [
    "import pandas as pd\n",
    "file_path = \"C:/Users/Sivaraman/Desktop/study/data analytics/Data (for practice)/bank_details_withdate.xlsx\"\n",
    "df = pd.read_excel(file_path)\n",
    "print(df)"
   ]
  },
  {
   "cell_type": "code",
   "execution_count": 2,
   "id": "2c353c77-7fab-40fd-a962-200db4ab0a8b",
   "metadata": {},
   "outputs": [],
   "source": [
    "df[['First', 'Last']] = df['Name'].str.split(' ', expand = True)"
   ]
  },
  {
   "cell_type": "code",
   "execution_count": 3,
   "id": "0fa2faa6-b158-4bf8-bf62-f2bff96124e1",
   "metadata": {},
   "outputs": [
    {
     "name": "stdout",
     "output_type": "stream",
     "text": [
      "     CustomerId        Name  CreditScore  Country  Gender  Age  Tenure  \\\n",
      "0      15634602    Hargrave          619   France  Female   42       2   \n",
      "1      15634602    Hargrave          619   France  Female   42       2   \n",
      "2      15634602        Onio          502   France  Female   42       8   \n",
      "3      15634602        Onio          502   France  Female   42       8   \n",
      "4      15737888    Mitchell          850    Spain  Female   43       2   \n",
      "..          ...         ...          ...      ...     ...  ...     ...   \n",
      "448    15694860    Uspensky          675   France  Female   38       6   \n",
      "449    15658169        Cook          778    Spain  Female   47       6   \n",
      "450    15794396     Newbold          494  Germany  Female   38       7   \n",
      "451    15785798  Uchechukwu          850   France    Male   40       9   \n",
      "452    15710825       Ch'en          592    Spain    Male   31       7   \n",
      "\n",
      "       Balance  NumOfProducts     Salary       Date      Dep       First  Last  \n",
      "0         0.00              1  101348.88 2023-01-01     Bank    Hargrave  None  \n",
      "1         0.00              1  101348.88 2023-01-02     Bank    Hargrave  None  \n",
      "2    159660.80              3  112542.58 2023-01-03     Bank        Onio  None  \n",
      "3    159660.80              3  112542.58 2023-01-04     Bank        Onio  None  \n",
      "4    125510.82              1   79084.10 2023-01-05     Bank    Mitchell  None  \n",
      "..         ...            ...        ...        ...      ...         ...   ...  \n",
      "448   68065.80              1  138777.00 2025-01-31  Entrepr    Uspensky  None  \n",
      "449  127299.34              2  124694.99 2025-01-31  Entrepr        Cook  None  \n",
      "450  174937.64              1   40084.32 2025-01-31  Entrepr     Newbold  None  \n",
      "451       0.00              2  119232.33 2025-01-31  Entrepr  Uchechukwu  None  \n",
      "452  110071.10              1   43921.36 2025-01-31  Entrepr       Ch'en  None  \n",
      "\n",
      "[453 rows x 14 columns]\n"
     ]
    }
   ],
   "source": [
    "print(df)"
   ]
  },
  {
   "cell_type": "code",
   "execution_count": 4,
   "id": "a109e7d3-82d8-407d-9357-b5d39bd99dad",
   "metadata": {},
   "outputs": [
    {
     "ename": "KeyError",
     "evalue": "('cook', 'sivaraman')",
     "output_type": "error",
     "traceback": [
      "\u001b[1;31m---------------------------------------------------------------------------\u001b[0m",
      "\u001b[1;31mKeyError\u001b[0m                                  Traceback (most recent call last)",
      "File \u001b[1;32m~\\AppData\\Local\\Programs\\Python\\Python313\\Lib\\site-packages\\pandas\\core\\indexes\\base.py:3805\u001b[0m, in \u001b[0;36mIndex.get_loc\u001b[1;34m(self, key)\u001b[0m\n\u001b[0;32m   3804\u001b[0m \u001b[38;5;28;01mtry\u001b[39;00m:\n\u001b[1;32m-> 3805\u001b[0m     \u001b[38;5;28;01mreturn\u001b[39;00m \u001b[38;5;28;43mself\u001b[39;49m\u001b[38;5;241;43m.\u001b[39;49m\u001b[43m_engine\u001b[49m\u001b[38;5;241;43m.\u001b[39;49m\u001b[43mget_loc\u001b[49m\u001b[43m(\u001b[49m\u001b[43mcasted_key\u001b[49m\u001b[43m)\u001b[49m\n\u001b[0;32m   3806\u001b[0m \u001b[38;5;28;01mexcept\u001b[39;00m \u001b[38;5;167;01mKeyError\u001b[39;00m \u001b[38;5;28;01mas\u001b[39;00m err:\n",
      "File \u001b[1;32mindex.pyx:167\u001b[0m, in \u001b[0;36mpandas._libs.index.IndexEngine.get_loc\u001b[1;34m()\u001b[0m\n",
      "File \u001b[1;32mindex.pyx:196\u001b[0m, in \u001b[0;36mpandas._libs.index.IndexEngine.get_loc\u001b[1;34m()\u001b[0m\n",
      "File \u001b[1;32mpandas\\\\_libs\\\\hashtable_class_helper.pxi:7081\u001b[0m, in \u001b[0;36mpandas._libs.hashtable.PyObjectHashTable.get_item\u001b[1;34m()\u001b[0m\n",
      "File \u001b[1;32mpandas\\\\_libs\\\\hashtable_class_helper.pxi:7089\u001b[0m, in \u001b[0;36mpandas._libs.hashtable.PyObjectHashTable.get_item\u001b[1;34m()\u001b[0m\n",
      "\u001b[1;31mKeyError\u001b[0m: ('cook', 'sivaraman')",
      "\nThe above exception was the direct cause of the following exception:\n",
      "\u001b[1;31mKeyError\u001b[0m                                  Traceback (most recent call last)",
      "Cell \u001b[1;32mIn[4], line 1\u001b[0m\n\u001b[1;32m----> 1\u001b[0m df[\u001b[38;5;241m449\u001b[39m, \u001b[38;5;124m'\u001b[39m\u001b[38;5;124mName\u001b[39m\u001b[38;5;124m'\u001b[39m] \u001b[38;5;241m=\u001b[39m \u001b[43mdf\u001b[49m\u001b[43m[\u001b[49m\u001b[38;5;124;43m'\u001b[39;49m\u001b[38;5;124;43mcook\u001b[39;49m\u001b[38;5;124;43m'\u001b[39;49m\u001b[43m,\u001b[49m\u001b[43m \u001b[49m\u001b[38;5;124;43m'\u001b[39;49m\u001b[38;5;124;43msivaraman\u001b[39;49m\u001b[38;5;124;43m'\u001b[39;49m\u001b[43m]\u001b[49m\n",
      "File \u001b[1;32m~\\AppData\\Local\\Programs\\Python\\Python313\\Lib\\site-packages\\pandas\\core\\frame.py:4102\u001b[0m, in \u001b[0;36mDataFrame.__getitem__\u001b[1;34m(self, key)\u001b[0m\n\u001b[0;32m   4100\u001b[0m \u001b[38;5;28;01mif\u001b[39;00m \u001b[38;5;28mself\u001b[39m\u001b[38;5;241m.\u001b[39mcolumns\u001b[38;5;241m.\u001b[39mnlevels \u001b[38;5;241m>\u001b[39m \u001b[38;5;241m1\u001b[39m:\n\u001b[0;32m   4101\u001b[0m     \u001b[38;5;28;01mreturn\u001b[39;00m \u001b[38;5;28mself\u001b[39m\u001b[38;5;241m.\u001b[39m_getitem_multilevel(key)\n\u001b[1;32m-> 4102\u001b[0m indexer \u001b[38;5;241m=\u001b[39m \u001b[38;5;28;43mself\u001b[39;49m\u001b[38;5;241;43m.\u001b[39;49m\u001b[43mcolumns\u001b[49m\u001b[38;5;241;43m.\u001b[39;49m\u001b[43mget_loc\u001b[49m\u001b[43m(\u001b[49m\u001b[43mkey\u001b[49m\u001b[43m)\u001b[49m\n\u001b[0;32m   4103\u001b[0m \u001b[38;5;28;01mif\u001b[39;00m is_integer(indexer):\n\u001b[0;32m   4104\u001b[0m     indexer \u001b[38;5;241m=\u001b[39m [indexer]\n",
      "File \u001b[1;32m~\\AppData\\Local\\Programs\\Python\\Python313\\Lib\\site-packages\\pandas\\core\\indexes\\base.py:3812\u001b[0m, in \u001b[0;36mIndex.get_loc\u001b[1;34m(self, key)\u001b[0m\n\u001b[0;32m   3807\u001b[0m     \u001b[38;5;28;01mif\u001b[39;00m \u001b[38;5;28misinstance\u001b[39m(casted_key, \u001b[38;5;28mslice\u001b[39m) \u001b[38;5;129;01mor\u001b[39;00m (\n\u001b[0;32m   3808\u001b[0m         \u001b[38;5;28misinstance\u001b[39m(casted_key, abc\u001b[38;5;241m.\u001b[39mIterable)\n\u001b[0;32m   3809\u001b[0m         \u001b[38;5;129;01mand\u001b[39;00m \u001b[38;5;28many\u001b[39m(\u001b[38;5;28misinstance\u001b[39m(x, \u001b[38;5;28mslice\u001b[39m) \u001b[38;5;28;01mfor\u001b[39;00m x \u001b[38;5;129;01min\u001b[39;00m casted_key)\n\u001b[0;32m   3810\u001b[0m     ):\n\u001b[0;32m   3811\u001b[0m         \u001b[38;5;28;01mraise\u001b[39;00m InvalidIndexError(key)\n\u001b[1;32m-> 3812\u001b[0m     \u001b[38;5;28;01mraise\u001b[39;00m \u001b[38;5;167;01mKeyError\u001b[39;00m(key) \u001b[38;5;28;01mfrom\u001b[39;00m \u001b[38;5;21;01merr\u001b[39;00m\n\u001b[0;32m   3813\u001b[0m \u001b[38;5;28;01mexcept\u001b[39;00m \u001b[38;5;167;01mTypeError\u001b[39;00m:\n\u001b[0;32m   3814\u001b[0m     \u001b[38;5;66;03m# If we have a listlike key, _check_indexing_error will raise\u001b[39;00m\n\u001b[0;32m   3815\u001b[0m     \u001b[38;5;66;03m#  InvalidIndexError. Otherwise we fall through and re-raise\u001b[39;00m\n\u001b[0;32m   3816\u001b[0m     \u001b[38;5;66;03m#  the TypeError.\u001b[39;00m\n\u001b[0;32m   3817\u001b[0m     \u001b[38;5;28mself\u001b[39m\u001b[38;5;241m.\u001b[39m_check_indexing_error(key)\n",
      "\u001b[1;31mKeyError\u001b[0m: ('cook', 'sivaraman')"
     ]
    }
   ],
   "source": [
    "df[449, 'Name'] = df['cook', 'sivaraman']"
   ]
  },
  {
   "cell_type": "code",
   "execution_count": 14,
   "id": "0f9f8235-c95c-42b5-8472-68bcd53d85a2",
   "metadata": {},
   "outputs": [
    {
     "name": "stdout",
     "output_type": "stream",
     "text": [
      "     CustomerId        Name  CreditScore  Country  Gender  Age  Tenure  \\\n",
      "0      15634602    Hargrave          619   France  Female   42       2   \n",
      "1      15634602    Hargrave          619   France  Female   42       2   \n",
      "2      15634602        Onio          502   France  Female   42       8   \n",
      "3      15634602        Onio          502   France  Female   42       8   \n",
      "4      15737888    Mitchell          850    Spain  Female   43       2   \n",
      "..          ...         ...          ...      ...     ...  ...     ...   \n",
      "448    15694860    Uspensky          675   France  Female   38       6   \n",
      "449    15658169   sivaraman          778    Spain  Female   47       6   \n",
      "450    15794396     Newbold          494  Germany  Female   38       7   \n",
      "451    15785798  Uchechukwu          850   France    Male   40       9   \n",
      "452    15710825       Ch'en          592    Spain    Male   31       7   \n",
      "\n",
      "       Balance  NumOfProducts     Salary       Date      Dep       First  Last  \n",
      "0         0.00              1  101348.88 2023-01-01     Bank    Hargrave  None  \n",
      "1         0.00              1  101348.88 2023-01-02     Bank    Hargrave  None  \n",
      "2    159660.80              3  112542.58 2023-01-03     Bank        Onio  None  \n",
      "3    159660.80              3  112542.58 2023-01-04     Bank        Onio  None  \n",
      "4    125510.82              1   79084.10 2023-01-05     Bank    Mitchell  None  \n",
      "..         ...            ...        ...        ...      ...         ...   ...  \n",
      "448   68065.80              1  138777.00 2025-01-31  Entrepr    Uspensky  None  \n",
      "449  127299.34              2  124694.99 2025-01-31  Entrepr   sivaraman  None  \n",
      "450  174937.64              1   40084.32 2025-01-31  Entrepr     Newbold  None  \n",
      "451       0.00              2  119232.33 2025-01-31  Entrepr  Uchechukwu  None  \n",
      "452  110071.10              1   43921.36 2025-01-31  Entrepr       Ch'en  None  \n",
      "\n",
      "[453 rows x 14 columns]\n"
     ]
    }
   ],
   "source": [
    "df['Name'] = df['Name'].str.replace('cook','siva raman', case = False)\n",
    "print(df)"
   ]
  },
  {
   "cell_type": "code",
   "execution_count": 8,
   "id": "a934d607-d48e-45e3-8179-97ca8162387d",
   "metadata": {},
   "outputs": [
    {
     "name": "stdout",
     "output_type": "stream",
     "text": [
      "     CustomerId        Name  CreditScore  Country  Gender  Age  Tenure  \\\n",
      "0      15634602    Hargrave          619   France  Female   42       2   \n",
      "1      15634602    Hargrave          619   France  Female   42       2   \n",
      "2      15634602        Onio          502   France  Female   42       8   \n",
      "3      15634602        Onio          502   France  Female   42       8   \n",
      "4      15737888    Mitchell          850    Spain  Female   43       2   \n",
      "..          ...         ...          ...      ...     ...  ...     ...   \n",
      "448    15694860    Uspensky          675   France  Female   38       6   \n",
      "449    15658169        Cook          778    Spain  Female   47       6   \n",
      "450    15794396     Newbold          494  Germany  Female   38       7   \n",
      "451    15785798  Uchechukwu          850   France    Male   40       9   \n",
      "452    15710825       Ch'en          592    Spain    Male   31       7   \n",
      "\n",
      "       Balance  NumOfProducts     Salary       Date      Dep       First  Last  \n",
      "0         0.00              1  101348.88 2023-01-01     Bank    Hargrave  None  \n",
      "1         0.00              1  101348.88 2023-01-02     Bank    Hargrave  None  \n",
      "2    159660.80              3  112542.58 2023-01-03     Bank        Onio  None  \n",
      "3    159660.80              3  112542.58 2023-01-04     Bank        Onio  None  \n",
      "4    125510.82              1   79084.10 2023-01-05     Bank    Mitchell  None  \n",
      "..         ...            ...        ...        ...      ...         ...   ...  \n",
      "448   68065.80              1  138777.00 2025-01-31  Entrepr    Uspensky  None  \n",
      "449  127299.34              2  124694.99 2025-01-31  Entrepr        Cook  None  \n",
      "450  174937.64              1   40084.32 2025-01-31  Entrepr     Newbold  None  \n",
      "451       0.00              2  119232.33 2025-01-31  Entrepr  Uchechukwu  None  \n",
      "452  110071.10              1   43921.36 2025-01-31  Entrepr       Ch'en  None  \n",
      "\n",
      "[453 rows x 14 columns]\n"
     ]
    }
   ],
   "source": [
    "print(df)"
   ]
  },
  {
   "cell_type": "code",
   "execution_count": 11,
   "id": "bf50150e-5a7e-4d22-b447-45ffd20c1afd",
   "metadata": {},
   "outputs": [],
   "source": [
    "df[['First', 'Last']] = df['Name'].str.split(' ', expand = True)"
   ]
  },
  {
   "cell_type": "code",
   "execution_count": 12,
   "id": "d2d5d1e2-8668-458e-8743-41dc2ec21d06",
   "metadata": {},
   "outputs": [
    {
     "name": "stdout",
     "output_type": "stream",
     "text": [
      "     CustomerId        Name  CreditScore  Country  Gender  Age  Tenure  \\\n",
      "0      15634602    Hargrave          619   France  Female   42       2   \n",
      "1      15634602    Hargrave          619   France  Female   42       2   \n",
      "2      15634602        Onio          502   France  Female   42       8   \n",
      "3      15634602        Onio          502   France  Female   42       8   \n",
      "4      15737888    Mitchell          850    Spain  Female   43       2   \n",
      "..          ...         ...          ...      ...     ...  ...     ...   \n",
      "448    15694860    Uspensky          675   France  Female   38       6   \n",
      "449    15658169   sivaraman          778    Spain  Female   47       6   \n",
      "450    15794396     Newbold          494  Germany  Female   38       7   \n",
      "451    15785798  Uchechukwu          850   France    Male   40       9   \n",
      "452    15710825       Ch'en          592    Spain    Male   31       7   \n",
      "\n",
      "       Balance  NumOfProducts     Salary       Date      Dep       First  Last  \n",
      "0         0.00              1  101348.88 2023-01-01     Bank    Hargrave  None  \n",
      "1         0.00              1  101348.88 2023-01-02     Bank    Hargrave  None  \n",
      "2    159660.80              3  112542.58 2023-01-03     Bank        Onio  None  \n",
      "3    159660.80              3  112542.58 2023-01-04     Bank        Onio  None  \n",
      "4    125510.82              1   79084.10 2023-01-05     Bank    Mitchell  None  \n",
      "..         ...            ...        ...        ...      ...         ...   ...  \n",
      "448   68065.80              1  138777.00 2025-01-31  Entrepr    Uspensky  None  \n",
      "449  127299.34              2  124694.99 2025-01-31  Entrepr   sivaraman  None  \n",
      "450  174937.64              1   40084.32 2025-01-31  Entrepr     Newbold  None  \n",
      "451       0.00              2  119232.33 2025-01-31  Entrepr  Uchechukwu  None  \n",
      "452  110071.10              1   43921.36 2025-01-31  Entrepr       Ch'en  None  \n",
      "\n",
      "[453 rows x 14 columns]\n"
     ]
    }
   ],
   "source": [
    "print(df)"
   ]
  },
  {
   "cell_type": "code",
   "execution_count": 15,
   "id": "d6daf605-49ac-4035-a95e-e50ba76a4355",
   "metadata": {},
   "outputs": [
    {
     "name": "stdout",
     "output_type": "stream",
     "text": [
      "     CustomerId        Name  CreditScore  Country  Gender  Age  Tenure  \\\n",
      "0      15634602    Hargrave          619   France  Female   42       2   \n",
      "1      15634602    Hargrave          619   France  Female   42       2   \n",
      "2      15634602        Onio          502   France  Female   42       8   \n",
      "3      15634602        Onio          502   France  Female   42       8   \n",
      "4      15737888    Mitchell          850    Spain  Female   43       2   \n",
      "..          ...         ...          ...      ...     ...  ...     ...   \n",
      "448    15694860    Uspensky          675   France  Female   38       6   \n",
      "449    15658169   sivaraman          778    Spain  Female   47       6   \n",
      "450    15794396     Newbold          494  Germany  Female   38       7   \n",
      "451    15785798  Uchechukwu          850   France    Male   40       9   \n",
      "452    15710825       Ch'en          592    Spain    Male   31       7   \n",
      "\n",
      "       Balance  NumOfProducts     Salary       Date      Dep       First  Last  \n",
      "0         0.00              1  101348.88 2023-01-01     Bank    Hargrave  None  \n",
      "1         0.00              1  101348.88 2023-01-02     Bank    Hargrave  None  \n",
      "2    159660.80              3  112542.58 2023-01-03     Bank        Onio  None  \n",
      "3    159660.80              3  112542.58 2023-01-04     Bank        Onio  None  \n",
      "4    125510.82              1   79084.10 2023-01-05     Bank    Mitchell  None  \n",
      "..         ...            ...        ...        ...      ...         ...   ...  \n",
      "448   68065.80              1  138777.00 2025-01-31  Entrepr    Uspensky  None  \n",
      "449  127299.34              2  124694.99 2025-01-31  Entrepr   sivaraman  None  \n",
      "450  174937.64              1   40084.32 2025-01-31  Entrepr     Newbold  None  \n",
      "451       0.00              2  119232.33 2025-01-31  Entrepr  Uchechukwu  None  \n",
      "452  110071.10              1   43921.36 2025-01-31  Entrepr       Ch'en  None  \n",
      "\n",
      "[453 rows x 14 columns]\n"
     ]
    }
   ],
   "source": [
    "df['Name'] = df['Name'].str.replace('cook','siva raman', case = False)\n",
    "print(df)"
   ]
  },
  {
   "cell_type": "code",
   "execution_count": 16,
   "id": "f2f76a67-62ac-49b6-9708-b65a07a288c3",
   "metadata": {},
   "outputs": [],
   "source": [
    "df[['First', 'Last']] = df['Name'].str.split(' ', expand = True)"
   ]
  },
  {
   "cell_type": "code",
   "execution_count": 17,
   "id": "f9089e91-d828-4d01-96f2-5ffa6f79731c",
   "metadata": {},
   "outputs": [
    {
     "name": "stdout",
     "output_type": "stream",
     "text": [
      "     CustomerId        Name  CreditScore  Country  Gender  Age  Tenure  \\\n",
      "0      15634602    Hargrave          619   France  Female   42       2   \n",
      "1      15634602    Hargrave          619   France  Female   42       2   \n",
      "2      15634602        Onio          502   France  Female   42       8   \n",
      "3      15634602        Onio          502   France  Female   42       8   \n",
      "4      15737888    Mitchell          850    Spain  Female   43       2   \n",
      "..          ...         ...          ...      ...     ...  ...     ...   \n",
      "448    15694860    Uspensky          675   France  Female   38       6   \n",
      "449    15658169   sivaraman          778    Spain  Female   47       6   \n",
      "450    15794396     Newbold          494  Germany  Female   38       7   \n",
      "451    15785798  Uchechukwu          850   France    Male   40       9   \n",
      "452    15710825       Ch'en          592    Spain    Male   31       7   \n",
      "\n",
      "       Balance  NumOfProducts     Salary       Date      Dep       First  Last  \n",
      "0         0.00              1  101348.88 2023-01-01     Bank    Hargrave  None  \n",
      "1         0.00              1  101348.88 2023-01-02     Bank    Hargrave  None  \n",
      "2    159660.80              3  112542.58 2023-01-03     Bank        Onio  None  \n",
      "3    159660.80              3  112542.58 2023-01-04     Bank        Onio  None  \n",
      "4    125510.82              1   79084.10 2023-01-05     Bank    Mitchell  None  \n",
      "..         ...            ...        ...        ...      ...         ...   ...  \n",
      "448   68065.80              1  138777.00 2025-01-31  Entrepr    Uspensky  None  \n",
      "449  127299.34              2  124694.99 2025-01-31  Entrepr   sivaraman  None  \n",
      "450  174937.64              1   40084.32 2025-01-31  Entrepr     Newbold  None  \n",
      "451       0.00              2  119232.33 2025-01-31  Entrepr  Uchechukwu  None  \n",
      "452  110071.10              1   43921.36 2025-01-31  Entrepr       Ch'en  None  \n",
      "\n",
      "[453 rows x 14 columns]\n"
     ]
    }
   ],
   "source": [
    "print(df)"
   ]
  },
  {
   "cell_type": "code",
   "execution_count": 18,
   "id": "d40d7086-3503-41db-89f0-6b51b3ede38d",
   "metadata": {},
   "outputs": [],
   "source": [
    "df['First'] = df['Name'].str.split().str[0]\n",
    "df['Last'] = df['Name'].str.split().str[-1]"
   ]
  },
  {
   "cell_type": "code",
   "execution_count": 19,
   "id": "9fe42c86-b290-4882-9c46-4053c216af08",
   "metadata": {},
   "outputs": [
    {
     "name": "stdout",
     "output_type": "stream",
     "text": [
      "     CustomerId        Name  CreditScore  Country  Gender  Age  Tenure  \\\n",
      "0      15634602    Hargrave          619   France  Female   42       2   \n",
      "1      15634602    Hargrave          619   France  Female   42       2   \n",
      "2      15634602        Onio          502   France  Female   42       8   \n",
      "3      15634602        Onio          502   France  Female   42       8   \n",
      "4      15737888    Mitchell          850    Spain  Female   43       2   \n",
      "..          ...         ...          ...      ...     ...  ...     ...   \n",
      "448    15694860    Uspensky          675   France  Female   38       6   \n",
      "449    15658169   sivaraman          778    Spain  Female   47       6   \n",
      "450    15794396     Newbold          494  Germany  Female   38       7   \n",
      "451    15785798  Uchechukwu          850   France    Male   40       9   \n",
      "452    15710825       Ch'en          592    Spain    Male   31       7   \n",
      "\n",
      "       Balance  NumOfProducts     Salary       Date      Dep       First  \\\n",
      "0         0.00              1  101348.88 2023-01-01     Bank    Hargrave   \n",
      "1         0.00              1  101348.88 2023-01-02     Bank    Hargrave   \n",
      "2    159660.80              3  112542.58 2023-01-03     Bank        Onio   \n",
      "3    159660.80              3  112542.58 2023-01-04     Bank        Onio   \n",
      "4    125510.82              1   79084.10 2023-01-05     Bank    Mitchell   \n",
      "..         ...            ...        ...        ...      ...         ...   \n",
      "448   68065.80              1  138777.00 2025-01-31  Entrepr    Uspensky   \n",
      "449  127299.34              2  124694.99 2025-01-31  Entrepr   sivaraman   \n",
      "450  174937.64              1   40084.32 2025-01-31  Entrepr     Newbold   \n",
      "451       0.00              2  119232.33 2025-01-31  Entrepr  Uchechukwu   \n",
      "452  110071.10              1   43921.36 2025-01-31  Entrepr       Ch'en   \n",
      "\n",
      "           Last  \n",
      "0      Hargrave  \n",
      "1      Hargrave  \n",
      "2          Onio  \n",
      "3          Onio  \n",
      "4      Mitchell  \n",
      "..          ...  \n",
      "448    Uspensky  \n",
      "449   sivaraman  \n",
      "450     Newbold  \n",
      "451  Uchechukwu  \n",
      "452       Ch'en  \n",
      "\n",
      "[453 rows x 14 columns]\n"
     ]
    }
   ],
   "source": [
    "print(df)"
   ]
  },
  {
   "cell_type": "code",
   "execution_count": 20,
   "id": "a1307633-5778-43b5-b16a-c04f71253047",
   "metadata": {},
   "outputs": [
    {
     "ename": "KeyError",
     "evalue": "\"['First'] not found in axis\"",
     "output_type": "error",
     "traceback": [
      "\u001b[1;31m---------------------------------------------------------------------------\u001b[0m",
      "\u001b[1;31mKeyError\u001b[0m                                  Traceback (most recent call last)",
      "Cell \u001b[1;32mIn[20], line 1\u001b[0m\n\u001b[1;32m----> 1\u001b[0m \u001b[43mdf\u001b[49m\u001b[38;5;241;43m.\u001b[39;49m\u001b[43mdrop\u001b[49m\u001b[43m(\u001b[49m\u001b[38;5;124;43m'\u001b[39;49m\u001b[38;5;124;43mFirst\u001b[39;49m\u001b[38;5;124;43m'\u001b[39;49m\u001b[43m)\u001b[49m\n",
      "File \u001b[1;32m~\\AppData\\Local\\Programs\\Python\\Python313\\Lib\\site-packages\\pandas\\core\\frame.py:5581\u001b[0m, in \u001b[0;36mDataFrame.drop\u001b[1;34m(self, labels, axis, index, columns, level, inplace, errors)\u001b[0m\n\u001b[0;32m   5433\u001b[0m \u001b[38;5;28;01mdef\u001b[39;00m \u001b[38;5;21mdrop\u001b[39m(\n\u001b[0;32m   5434\u001b[0m     \u001b[38;5;28mself\u001b[39m,\n\u001b[0;32m   5435\u001b[0m     labels: IndexLabel \u001b[38;5;241m|\u001b[39m \u001b[38;5;28;01mNone\u001b[39;00m \u001b[38;5;241m=\u001b[39m \u001b[38;5;28;01mNone\u001b[39;00m,\n\u001b[1;32m   (...)\u001b[0m\n\u001b[0;32m   5442\u001b[0m     errors: IgnoreRaise \u001b[38;5;241m=\u001b[39m \u001b[38;5;124m\"\u001b[39m\u001b[38;5;124mraise\u001b[39m\u001b[38;5;124m\"\u001b[39m,\n\u001b[0;32m   5443\u001b[0m ) \u001b[38;5;241m-\u001b[39m\u001b[38;5;241m>\u001b[39m DataFrame \u001b[38;5;241m|\u001b[39m \u001b[38;5;28;01mNone\u001b[39;00m:\n\u001b[0;32m   5444\u001b[0m \u001b[38;5;250m    \u001b[39m\u001b[38;5;124;03m\"\"\"\u001b[39;00m\n\u001b[0;32m   5445\u001b[0m \u001b[38;5;124;03m    Drop specified labels from rows or columns.\u001b[39;00m\n\u001b[0;32m   5446\u001b[0m \n\u001b[1;32m   (...)\u001b[0m\n\u001b[0;32m   5579\u001b[0m \u001b[38;5;124;03m            weight  1.0     0.8\u001b[39;00m\n\u001b[0;32m   5580\u001b[0m \u001b[38;5;124;03m    \"\"\"\u001b[39;00m\n\u001b[1;32m-> 5581\u001b[0m     \u001b[38;5;28;01mreturn\u001b[39;00m \u001b[38;5;28;43msuper\u001b[39;49m\u001b[43m(\u001b[49m\u001b[43m)\u001b[49m\u001b[38;5;241;43m.\u001b[39;49m\u001b[43mdrop\u001b[49m\u001b[43m(\u001b[49m\n\u001b[0;32m   5582\u001b[0m \u001b[43m        \u001b[49m\u001b[43mlabels\u001b[49m\u001b[38;5;241;43m=\u001b[39;49m\u001b[43mlabels\u001b[49m\u001b[43m,\u001b[49m\n\u001b[0;32m   5583\u001b[0m \u001b[43m        \u001b[49m\u001b[43maxis\u001b[49m\u001b[38;5;241;43m=\u001b[39;49m\u001b[43maxis\u001b[49m\u001b[43m,\u001b[49m\n\u001b[0;32m   5584\u001b[0m \u001b[43m        \u001b[49m\u001b[43mindex\u001b[49m\u001b[38;5;241;43m=\u001b[39;49m\u001b[43mindex\u001b[49m\u001b[43m,\u001b[49m\n\u001b[0;32m   5585\u001b[0m \u001b[43m        \u001b[49m\u001b[43mcolumns\u001b[49m\u001b[38;5;241;43m=\u001b[39;49m\u001b[43mcolumns\u001b[49m\u001b[43m,\u001b[49m\n\u001b[0;32m   5586\u001b[0m \u001b[43m        \u001b[49m\u001b[43mlevel\u001b[49m\u001b[38;5;241;43m=\u001b[39;49m\u001b[43mlevel\u001b[49m\u001b[43m,\u001b[49m\n\u001b[0;32m   5587\u001b[0m \u001b[43m        \u001b[49m\u001b[43minplace\u001b[49m\u001b[38;5;241;43m=\u001b[39;49m\u001b[43minplace\u001b[49m\u001b[43m,\u001b[49m\n\u001b[0;32m   5588\u001b[0m \u001b[43m        \u001b[49m\u001b[43merrors\u001b[49m\u001b[38;5;241;43m=\u001b[39;49m\u001b[43merrors\u001b[49m\u001b[43m,\u001b[49m\n\u001b[0;32m   5589\u001b[0m \u001b[43m    \u001b[49m\u001b[43m)\u001b[49m\n",
      "File \u001b[1;32m~\\AppData\\Local\\Programs\\Python\\Python313\\Lib\\site-packages\\pandas\\core\\generic.py:4788\u001b[0m, in \u001b[0;36mNDFrame.drop\u001b[1;34m(self, labels, axis, index, columns, level, inplace, errors)\u001b[0m\n\u001b[0;32m   4786\u001b[0m \u001b[38;5;28;01mfor\u001b[39;00m axis, labels \u001b[38;5;129;01min\u001b[39;00m axes\u001b[38;5;241m.\u001b[39mitems():\n\u001b[0;32m   4787\u001b[0m     \u001b[38;5;28;01mif\u001b[39;00m labels \u001b[38;5;129;01mis\u001b[39;00m \u001b[38;5;129;01mnot\u001b[39;00m \u001b[38;5;28;01mNone\u001b[39;00m:\n\u001b[1;32m-> 4788\u001b[0m         obj \u001b[38;5;241m=\u001b[39m \u001b[43mobj\u001b[49m\u001b[38;5;241;43m.\u001b[39;49m\u001b[43m_drop_axis\u001b[49m\u001b[43m(\u001b[49m\u001b[43mlabels\u001b[49m\u001b[43m,\u001b[49m\u001b[43m \u001b[49m\u001b[43maxis\u001b[49m\u001b[43m,\u001b[49m\u001b[43m \u001b[49m\u001b[43mlevel\u001b[49m\u001b[38;5;241;43m=\u001b[39;49m\u001b[43mlevel\u001b[49m\u001b[43m,\u001b[49m\u001b[43m \u001b[49m\u001b[43merrors\u001b[49m\u001b[38;5;241;43m=\u001b[39;49m\u001b[43merrors\u001b[49m\u001b[43m)\u001b[49m\n\u001b[0;32m   4790\u001b[0m \u001b[38;5;28;01mif\u001b[39;00m inplace:\n\u001b[0;32m   4791\u001b[0m     \u001b[38;5;28mself\u001b[39m\u001b[38;5;241m.\u001b[39m_update_inplace(obj)\n",
      "File \u001b[1;32m~\\AppData\\Local\\Programs\\Python\\Python313\\Lib\\site-packages\\pandas\\core\\generic.py:4830\u001b[0m, in \u001b[0;36mNDFrame._drop_axis\u001b[1;34m(self, labels, axis, level, errors, only_slice)\u001b[0m\n\u001b[0;32m   4828\u001b[0m         new_axis \u001b[38;5;241m=\u001b[39m axis\u001b[38;5;241m.\u001b[39mdrop(labels, level\u001b[38;5;241m=\u001b[39mlevel, errors\u001b[38;5;241m=\u001b[39merrors)\n\u001b[0;32m   4829\u001b[0m     \u001b[38;5;28;01melse\u001b[39;00m:\n\u001b[1;32m-> 4830\u001b[0m         new_axis \u001b[38;5;241m=\u001b[39m \u001b[43maxis\u001b[49m\u001b[38;5;241;43m.\u001b[39;49m\u001b[43mdrop\u001b[49m\u001b[43m(\u001b[49m\u001b[43mlabels\u001b[49m\u001b[43m,\u001b[49m\u001b[43m \u001b[49m\u001b[43merrors\u001b[49m\u001b[38;5;241;43m=\u001b[39;49m\u001b[43merrors\u001b[49m\u001b[43m)\u001b[49m\n\u001b[0;32m   4831\u001b[0m     indexer \u001b[38;5;241m=\u001b[39m axis\u001b[38;5;241m.\u001b[39mget_indexer(new_axis)\n\u001b[0;32m   4833\u001b[0m \u001b[38;5;66;03m# Case for non-unique axis\u001b[39;00m\n\u001b[0;32m   4834\u001b[0m \u001b[38;5;28;01melse\u001b[39;00m:\n",
      "File \u001b[1;32m~\\AppData\\Local\\Programs\\Python\\Python313\\Lib\\site-packages\\pandas\\core\\indexes\\base.py:7070\u001b[0m, in \u001b[0;36mIndex.drop\u001b[1;34m(self, labels, errors)\u001b[0m\n\u001b[0;32m   7068\u001b[0m \u001b[38;5;28;01mif\u001b[39;00m mask\u001b[38;5;241m.\u001b[39many():\n\u001b[0;32m   7069\u001b[0m     \u001b[38;5;28;01mif\u001b[39;00m errors \u001b[38;5;241m!=\u001b[39m \u001b[38;5;124m\"\u001b[39m\u001b[38;5;124mignore\u001b[39m\u001b[38;5;124m\"\u001b[39m:\n\u001b[1;32m-> 7070\u001b[0m         \u001b[38;5;28;01mraise\u001b[39;00m \u001b[38;5;167;01mKeyError\u001b[39;00m(\u001b[38;5;124mf\u001b[39m\u001b[38;5;124m\"\u001b[39m\u001b[38;5;132;01m{\u001b[39;00mlabels[mask]\u001b[38;5;241m.\u001b[39mtolist()\u001b[38;5;132;01m}\u001b[39;00m\u001b[38;5;124m not found in axis\u001b[39m\u001b[38;5;124m\"\u001b[39m)\n\u001b[0;32m   7071\u001b[0m     indexer \u001b[38;5;241m=\u001b[39m indexer[\u001b[38;5;241m~\u001b[39mmask]\n\u001b[0;32m   7072\u001b[0m \u001b[38;5;28;01mreturn\u001b[39;00m \u001b[38;5;28mself\u001b[39m\u001b[38;5;241m.\u001b[39mdelete(indexer)\n",
      "\u001b[1;31mKeyError\u001b[0m: \"['First'] not found in axis\""
     ]
    }
   ],
   "source": [
    "df.drop('First')"
   ]
  },
  {
   "cell_type": "code",
   "execution_count": 21,
   "id": "0855f127-c549-4697-ab28-fb44fc10ecb1",
   "metadata": {},
   "outputs": [
    {
     "ename": "ValueError",
     "evalue": "Need to specify at least one of 'labels', 'index' or 'columns'",
     "output_type": "error",
     "traceback": [
      "\u001b[1;31m---------------------------------------------------------------------------\u001b[0m",
      "\u001b[1;31mValueError\u001b[0m                                Traceback (most recent call last)",
      "\u001b[1;32m~\\AppData\\Local\\Temp\\ipykernel_10584\\113755892.py\u001b[0m in \u001b[0;36m?\u001b[1;34m()\u001b[0m\n\u001b[1;32m----> 1\u001b[1;33m \u001b[0mdf\u001b[0m\u001b[1;33m[\u001b[0m\u001b[1;34m'First'\u001b[0m\u001b[1;33m]\u001b[0m\u001b[1;33m.\u001b[0m\u001b[0mdrop\u001b[0m\u001b[1;33m(\u001b[0m\u001b[1;33m)\u001b[0m\u001b[1;33m\u001b[0m\u001b[1;33m\u001b[0m\u001b[0m\n\u001b[0m",
      "\u001b[1;32m~\\AppData\\Local\\Programs\\Python\\Python313\\Lib\\site-packages\\pandas\\core\\series.py\u001b[0m in \u001b[0;36m?\u001b[1;34m(self, labels, axis, index, columns, level, inplace, errors)\u001b[0m\n\u001b[0;32m   5352\u001b[0m         \u001b[0mfalcon\u001b[0m  \u001b[0mspeed\u001b[0m     \u001b[1;36m320.0\u001b[0m\u001b[1;33m\u001b[0m\u001b[1;33m\u001b[0m\u001b[0m\n\u001b[0;32m   5353\u001b[0m                 \u001b[0mlength\u001b[0m      \u001b[1;36m0.3\u001b[0m\u001b[1;33m\u001b[0m\u001b[1;33m\u001b[0m\u001b[0m\n\u001b[0;32m   5354\u001b[0m         \u001b[0mdtype\u001b[0m\u001b[1;33m:\u001b[0m \u001b[0mfloat64\u001b[0m\u001b[1;33m\u001b[0m\u001b[1;33m\u001b[0m\u001b[0m\n\u001b[0;32m   5355\u001b[0m         \"\"\"\n\u001b[1;32m-> 5356\u001b[1;33m         return super().drop(\n\u001b[0m\u001b[0;32m   5357\u001b[0m             \u001b[0mlabels\u001b[0m\u001b[1;33m=\u001b[0m\u001b[0mlabels\u001b[0m\u001b[1;33m,\u001b[0m\u001b[1;33m\u001b[0m\u001b[1;33m\u001b[0m\u001b[0m\n\u001b[0;32m   5358\u001b[0m             \u001b[0maxis\u001b[0m\u001b[1;33m=\u001b[0m\u001b[0maxis\u001b[0m\u001b[1;33m,\u001b[0m\u001b[1;33m\u001b[0m\u001b[1;33m\u001b[0m\u001b[0m\n\u001b[0;32m   5359\u001b[0m             \u001b[0mindex\u001b[0m\u001b[1;33m=\u001b[0m\u001b[0mindex\u001b[0m\u001b[1;33m,\u001b[0m\u001b[1;33m\u001b[0m\u001b[1;33m\u001b[0m\u001b[0m\n",
      "\u001b[1;32m~\\AppData\\Local\\Programs\\Python\\Python313\\Lib\\site-packages\\pandas\\core\\generic.py\u001b[0m in \u001b[0;36m?\u001b[1;34m(self, labels, axis, index, columns, level, inplace, errors)\u001b[0m\n\u001b[0;32m   4776\u001b[0m             \u001b[0maxes\u001b[0m \u001b[1;33m=\u001b[0m \u001b[1;33m{\u001b[0m\u001b[1;34m\"index\"\u001b[0m\u001b[1;33m:\u001b[0m \u001b[0mindex\u001b[0m\u001b[1;33m}\u001b[0m\u001b[1;33m\u001b[0m\u001b[1;33m\u001b[0m\u001b[0m\n\u001b[0;32m   4777\u001b[0m             \u001b[1;32mif\u001b[0m \u001b[0mself\u001b[0m\u001b[1;33m.\u001b[0m\u001b[0mndim\u001b[0m \u001b[1;33m==\u001b[0m \u001b[1;36m2\u001b[0m\u001b[1;33m:\u001b[0m\u001b[1;33m\u001b[0m\u001b[1;33m\u001b[0m\u001b[0m\n\u001b[0;32m   4778\u001b[0m                 \u001b[0maxes\u001b[0m\u001b[1;33m[\u001b[0m\u001b[1;34m\"columns\"\u001b[0m\u001b[1;33m]\u001b[0m \u001b[1;33m=\u001b[0m \u001b[0mcolumns\u001b[0m\u001b[1;33m\u001b[0m\u001b[1;33m\u001b[0m\u001b[0m\n\u001b[0;32m   4779\u001b[0m         \u001b[1;32melse\u001b[0m\u001b[1;33m:\u001b[0m\u001b[1;33m\u001b[0m\u001b[1;33m\u001b[0m\u001b[0m\n\u001b[1;32m-> 4780\u001b[1;33m             raise ValueError(\n\u001b[0m\u001b[0;32m   4781\u001b[0m                 \u001b[1;34m\"Need to specify at least one of 'labels', 'index' or 'columns'\"\u001b[0m\u001b[1;33m\u001b[0m\u001b[1;33m\u001b[0m\u001b[0m\n\u001b[0;32m   4782\u001b[0m             \u001b[1;33m)\u001b[0m\u001b[1;33m\u001b[0m\u001b[1;33m\u001b[0m\u001b[0m\n\u001b[0;32m   4783\u001b[0m \u001b[1;33m\u001b[0m\u001b[0m\n",
      "\u001b[1;31mValueError\u001b[0m: Need to specify at least one of 'labels', 'index' or 'columns'"
     ]
    }
   ],
   "source": [
    "df['First'].drop()"
   ]
  },
  {
   "cell_type": "code",
   "execution_count": 22,
   "id": "7157acb1-1357-46c1-9ab5-f79b99817401",
   "metadata": {},
   "outputs": [
    {
     "ename": "ValueError",
     "evalue": "Need to specify at least one of 'labels', 'index' or 'columns'",
     "output_type": "error",
     "traceback": [
      "\u001b[1;31m---------------------------------------------------------------------------\u001b[0m",
      "\u001b[1;31mValueError\u001b[0m                                Traceback (most recent call last)",
      "\u001b[1;32m~\\AppData\\Local\\Temp\\ipykernel_10584\\198722100.py\u001b[0m in \u001b[0;36m?\u001b[1;34m()\u001b[0m\n\u001b[1;32m----> 1\u001b[1;33m \u001b[0mdf\u001b[0m\u001b[1;33m[\u001b[0m\u001b[0mdf\u001b[0m\u001b[1;33m[\u001b[0m\u001b[1;34m'First'\u001b[0m\u001b[1;33m]\u001b[0m\u001b[1;33m.\u001b[0m\u001b[0mdrop\u001b[0m\u001b[1;33m(\u001b[0m\u001b[1;33m)\u001b[0m\u001b[1;33m]\u001b[0m\u001b[1;33m\u001b[0m\u001b[1;33m\u001b[0m\u001b[0m\n\u001b[0m",
      "\u001b[1;32m~\\AppData\\Local\\Programs\\Python\\Python313\\Lib\\site-packages\\pandas\\core\\series.py\u001b[0m in \u001b[0;36m?\u001b[1;34m(self, labels, axis, index, columns, level, inplace, errors)\u001b[0m\n\u001b[0;32m   5352\u001b[0m         \u001b[0mfalcon\u001b[0m  \u001b[0mspeed\u001b[0m     \u001b[1;36m320.0\u001b[0m\u001b[1;33m\u001b[0m\u001b[1;33m\u001b[0m\u001b[0m\n\u001b[0;32m   5353\u001b[0m                 \u001b[0mlength\u001b[0m      \u001b[1;36m0.3\u001b[0m\u001b[1;33m\u001b[0m\u001b[1;33m\u001b[0m\u001b[0m\n\u001b[0;32m   5354\u001b[0m         \u001b[0mdtype\u001b[0m\u001b[1;33m:\u001b[0m \u001b[0mfloat64\u001b[0m\u001b[1;33m\u001b[0m\u001b[1;33m\u001b[0m\u001b[0m\n\u001b[0;32m   5355\u001b[0m         \"\"\"\n\u001b[1;32m-> 5356\u001b[1;33m         return super().drop(\n\u001b[0m\u001b[0;32m   5357\u001b[0m             \u001b[0mlabels\u001b[0m\u001b[1;33m=\u001b[0m\u001b[0mlabels\u001b[0m\u001b[1;33m,\u001b[0m\u001b[1;33m\u001b[0m\u001b[1;33m\u001b[0m\u001b[0m\n\u001b[0;32m   5358\u001b[0m             \u001b[0maxis\u001b[0m\u001b[1;33m=\u001b[0m\u001b[0maxis\u001b[0m\u001b[1;33m,\u001b[0m\u001b[1;33m\u001b[0m\u001b[1;33m\u001b[0m\u001b[0m\n\u001b[0;32m   5359\u001b[0m             \u001b[0mindex\u001b[0m\u001b[1;33m=\u001b[0m\u001b[0mindex\u001b[0m\u001b[1;33m,\u001b[0m\u001b[1;33m\u001b[0m\u001b[1;33m\u001b[0m\u001b[0m\n",
      "\u001b[1;32m~\\AppData\\Local\\Programs\\Python\\Python313\\Lib\\site-packages\\pandas\\core\\generic.py\u001b[0m in \u001b[0;36m?\u001b[1;34m(self, labels, axis, index, columns, level, inplace, errors)\u001b[0m\n\u001b[0;32m   4776\u001b[0m             \u001b[0maxes\u001b[0m \u001b[1;33m=\u001b[0m \u001b[1;33m{\u001b[0m\u001b[1;34m\"index\"\u001b[0m\u001b[1;33m:\u001b[0m \u001b[0mindex\u001b[0m\u001b[1;33m}\u001b[0m\u001b[1;33m\u001b[0m\u001b[1;33m\u001b[0m\u001b[0m\n\u001b[0;32m   4777\u001b[0m             \u001b[1;32mif\u001b[0m \u001b[0mself\u001b[0m\u001b[1;33m.\u001b[0m\u001b[0mndim\u001b[0m \u001b[1;33m==\u001b[0m \u001b[1;36m2\u001b[0m\u001b[1;33m:\u001b[0m\u001b[1;33m\u001b[0m\u001b[1;33m\u001b[0m\u001b[0m\n\u001b[0;32m   4778\u001b[0m                 \u001b[0maxes\u001b[0m\u001b[1;33m[\u001b[0m\u001b[1;34m\"columns\"\u001b[0m\u001b[1;33m]\u001b[0m \u001b[1;33m=\u001b[0m \u001b[0mcolumns\u001b[0m\u001b[1;33m\u001b[0m\u001b[1;33m\u001b[0m\u001b[0m\n\u001b[0;32m   4779\u001b[0m         \u001b[1;32melse\u001b[0m\u001b[1;33m:\u001b[0m\u001b[1;33m\u001b[0m\u001b[1;33m\u001b[0m\u001b[0m\n\u001b[1;32m-> 4780\u001b[1;33m             raise ValueError(\n\u001b[0m\u001b[0;32m   4781\u001b[0m                 \u001b[1;34m\"Need to specify at least one of 'labels', 'index' or 'columns'\"\u001b[0m\u001b[1;33m\u001b[0m\u001b[1;33m\u001b[0m\u001b[0m\n\u001b[0;32m   4782\u001b[0m             \u001b[1;33m)\u001b[0m\u001b[1;33m\u001b[0m\u001b[1;33m\u001b[0m\u001b[0m\n\u001b[0;32m   4783\u001b[0m \u001b[1;33m\u001b[0m\u001b[0m\n",
      "\u001b[1;31mValueError\u001b[0m: Need to specify at least one of 'labels', 'index' or 'columns'"
     ]
    }
   ],
   "source": [
    "df[df['First'].drop()]"
   ]
  },
  {
   "cell_type": "code",
   "execution_count": 23,
   "id": "46a85e1f-5521-4350-b81b-70e0926f9161",
   "metadata": {},
   "outputs": [],
   "source": [
    "df = df.drop('First', axis = 1)"
   ]
  },
  {
   "cell_type": "code",
   "execution_count": 24,
   "id": "55c3553f-d20f-4f6e-982c-85530abb82ee",
   "metadata": {},
   "outputs": [
    {
     "name": "stdout",
     "output_type": "stream",
     "text": [
      "     CustomerId        Name  CreditScore  Country  Gender  Age  Tenure  \\\n",
      "0      15634602    Hargrave          619   France  Female   42       2   \n",
      "1      15634602    Hargrave          619   France  Female   42       2   \n",
      "2      15634602        Onio          502   France  Female   42       8   \n",
      "3      15634602        Onio          502   France  Female   42       8   \n",
      "4      15737888    Mitchell          850    Spain  Female   43       2   \n",
      "..          ...         ...          ...      ...     ...  ...     ...   \n",
      "448    15694860    Uspensky          675   France  Female   38       6   \n",
      "449    15658169   sivaraman          778    Spain  Female   47       6   \n",
      "450    15794396     Newbold          494  Germany  Female   38       7   \n",
      "451    15785798  Uchechukwu          850   France    Male   40       9   \n",
      "452    15710825       Ch'en          592    Spain    Male   31       7   \n",
      "\n",
      "       Balance  NumOfProducts     Salary       Date      Dep        Last  \n",
      "0         0.00              1  101348.88 2023-01-01     Bank    Hargrave  \n",
      "1         0.00              1  101348.88 2023-01-02     Bank    Hargrave  \n",
      "2    159660.80              3  112542.58 2023-01-03     Bank        Onio  \n",
      "3    159660.80              3  112542.58 2023-01-04     Bank        Onio  \n",
      "4    125510.82              1   79084.10 2023-01-05     Bank    Mitchell  \n",
      "..         ...            ...        ...        ...      ...         ...  \n",
      "448   68065.80              1  138777.00 2025-01-31  Entrepr    Uspensky  \n",
      "449  127299.34              2  124694.99 2025-01-31  Entrepr   sivaraman  \n",
      "450  174937.64              1   40084.32 2025-01-31  Entrepr     Newbold  \n",
      "451       0.00              2  119232.33 2025-01-31  Entrepr  Uchechukwu  \n",
      "452  110071.10              1   43921.36 2025-01-31  Entrepr       Ch'en  \n",
      "\n",
      "[453 rows x 13 columns]\n"
     ]
    }
   ],
   "source": [
    "print(df)"
   ]
  },
  {
   "cell_type": "code",
   "execution_count": 25,
   "id": "9165fd56-b077-4077-b5f8-aca886c734b6",
   "metadata": {},
   "outputs": [
    {
     "name": "stdout",
     "output_type": "stream",
     "text": [
      "     CustomerId        Name  CreditScore  Country  Gender  Age  Tenure  \\\n",
      "0      15634602    Hargrave          619   France  Female   42       2   \n",
      "1      15634602    Hargrave          619   France  Female   42       2   \n",
      "2      15634602        Onio          502   France  Female   42       8   \n",
      "3      15634602        Onio          502   France  Female   42       8   \n",
      "4      15737888    Mitchell          850    Spain  Female   43       2   \n",
      "..          ...         ...          ...      ...     ...  ...     ...   \n",
      "448    15694860    Uspensky          675   France  Female   38       6   \n",
      "449    15658169   sivaraman          778    Spain  Female   47       6   \n",
      "450    15794396     Newbold          494  Germany  Female   38       7   \n",
      "451    15785798  Uchechukwu          850   France    Male   40       9   \n",
      "452    15710825       Ch'en          592    Spain    Male   31       7   \n",
      "\n",
      "       Balance  NumOfProducts     Salary       Date      Dep  \n",
      "0         0.00              1  101348.88 2023-01-01     Bank  \n",
      "1         0.00              1  101348.88 2023-01-02     Bank  \n",
      "2    159660.80              3  112542.58 2023-01-03     Bank  \n",
      "3    159660.80              3  112542.58 2023-01-04     Bank  \n",
      "4    125510.82              1   79084.10 2023-01-05     Bank  \n",
      "..         ...            ...        ...        ...      ...  \n",
      "448   68065.80              1  138777.00 2025-01-31  Entrepr  \n",
      "449  127299.34              2  124694.99 2025-01-31  Entrepr  \n",
      "450  174937.64              1   40084.32 2025-01-31  Entrepr  \n",
      "451       0.00              2  119232.33 2025-01-31  Entrepr  \n",
      "452  110071.10              1   43921.36 2025-01-31  Entrepr  \n",
      "\n",
      "[453 rows x 12 columns]\n"
     ]
    }
   ],
   "source": [
    "df = df.drop('Last', axis = 1)\n",
    "print(df)"
   ]
  },
  {
   "cell_type": "code",
   "execution_count": 26,
   "id": "548c0342-9248-4d83-a7ec-e0154f7d1b89",
   "metadata": {},
   "outputs": [
    {
     "ename": "TypeError",
     "evalue": "'Series' object is not callable",
     "output_type": "error",
     "traceback": [
      "\u001b[1;31m---------------------------------------------------------------------------\u001b[0m",
      "\u001b[1;31mTypeError\u001b[0m                                 Traceback (most recent call last)",
      "Cell \u001b[1;32mIn[26], line 1\u001b[0m\n\u001b[1;32m----> 1\u001b[0m \u001b[43mdf\u001b[49m\u001b[38;5;241;43m.\u001b[39;49m\u001b[43mdtypes\u001b[49m\u001b[43m(\u001b[49m\u001b[43m)\u001b[49m\n",
      "\u001b[1;31mTypeError\u001b[0m: 'Series' object is not callable"
     ]
    }
   ],
   "source": [
    "df.dtypes()"
   ]
  },
  {
   "cell_type": "code",
   "execution_count": 27,
   "id": "16997b0c-4109-43bd-a04f-802df46f4f55",
   "metadata": {},
   "outputs": [
    {
     "data": {
      "text/plain": [
       "CustomerId                int64\n",
       "Name                     object\n",
       "CreditScore               int64\n",
       "Country                  object\n",
       "Gender                   object\n",
       "Age                       int64\n",
       "Tenure                    int64\n",
       "Balance                 float64\n",
       "NumOfProducts             int64\n",
       "Salary                  float64\n",
       "Date             datetime64[ns]\n",
       "Dep                      object\n",
       "dtype: object"
      ]
     },
     "execution_count": 27,
     "metadata": {},
     "output_type": "execute_result"
    }
   ],
   "source": [
    "df.dtypes"
   ]
  },
  {
   "cell_type": "code",
   "execution_count": 29,
   "id": "a2ec28b3-a331-4799-bc3f-8599bd09e62c",
   "metadata": {},
   "outputs": [],
   "source": [
    "df['Age'] = df['Age'].astype('object')"
   ]
  },
  {
   "cell_type": "code",
   "execution_count": 30,
   "id": "a6ee50b7-01b5-4c24-ac62-f378900ebfd5",
   "metadata": {},
   "outputs": [
    {
     "name": "stdout",
     "output_type": "stream",
     "text": [
      "CustomerId                int64\n",
      "Name                     object\n",
      "CreditScore               int64\n",
      "Country                  object\n",
      "Gender                   object\n",
      "Age                      object\n",
      "Tenure                    int64\n",
      "Balance                 float64\n",
      "NumOfProducts             int64\n",
      "Salary                  float64\n",
      "Date             datetime64[ns]\n",
      "Dep                      object\n",
      "dtype: object\n"
     ]
    }
   ],
   "source": [
    "print(df.dtypes)"
   ]
  },
  {
   "cell_type": "code",
   "execution_count": 32,
   "id": "8beba590-c91b-467c-b532-39f88c0fd4bc",
   "metadata": {},
   "outputs": [],
   "source": [
    "df['Age'] = df['Age'].astype('int')"
   ]
  },
  {
   "cell_type": "code",
   "execution_count": 33,
   "id": "e509644d-1214-4816-bd99-621e2654c328",
   "metadata": {},
   "outputs": [
    {
     "name": "stdout",
     "output_type": "stream",
     "text": [
      "CustomerId                int64\n",
      "Name                     object\n",
      "CreditScore               int64\n",
      "Country                  object\n",
      "Gender                   object\n",
      "Age                       int64\n",
      "Tenure                    int64\n",
      "Balance                 float64\n",
      "NumOfProducts             int64\n",
      "Salary                  float64\n",
      "Date             datetime64[ns]\n",
      "Dep                      object\n",
      "dtype: object\n"
     ]
    }
   ],
   "source": [
    "print(df.dtypes)"
   ]
  },
  {
   "cell_type": "code",
   "execution_count": 34,
   "id": "cae3a332-7477-4ccb-b8e4-e62d11be6216",
   "metadata": {},
   "outputs": [],
   "source": [
    "df['Salary'] = df['Salary'].astype('str')"
   ]
  },
  {
   "cell_type": "code",
   "execution_count": 35,
   "id": "be726c7a-a03b-4f18-b0dc-e0b10a7dc162",
   "metadata": {},
   "outputs": [
    {
     "name": "stdout",
     "output_type": "stream",
     "text": [
      "CustomerId                int64\n",
      "Name                     object\n",
      "CreditScore               int64\n",
      "Country                  object\n",
      "Gender                   object\n",
      "Age                       int64\n",
      "Tenure                    int64\n",
      "Balance                 float64\n",
      "NumOfProducts             int64\n",
      "Salary                   object\n",
      "Date             datetime64[ns]\n",
      "Dep                      object\n",
      "dtype: object\n"
     ]
    }
   ],
   "source": [
    "print(df.dtypes)"
   ]
  },
  {
   "cell_type": "code",
   "execution_count": 41,
   "id": "ca7dccb5-095d-4ca3-9000-84e70b51e777",
   "metadata": {},
   "outputs": [],
   "source": [
    "df['Salary'] = df['Salary'].astype(float)"
   ]
  },
  {
   "cell_type": "code",
   "execution_count": 37,
   "id": "819d9194-9660-48a0-b380-87d53743135b",
   "metadata": {},
   "outputs": [
    {
     "name": "stdout",
     "output_type": "stream",
     "text": [
      "CustomerId                int64\n",
      "Name                     object\n",
      "CreditScore               int64\n",
      "Country                  object\n",
      "Gender                   object\n",
      "Age                       int64\n",
      "Tenure                    int64\n",
      "Balance                 float64\n",
      "NumOfProducts             int64\n",
      "Salary                   object\n",
      "Date             datetime64[ns]\n",
      "Dep                      object\n",
      "salary                  float64\n",
      "dtype: object\n"
     ]
    }
   ],
   "source": [
    "print(df.dtypes)"
   ]
  },
  {
   "cell_type": "code",
   "execution_count": 42,
   "id": "56aa27d4-9232-4a7c-9881-c3305f525276",
   "metadata": {},
   "outputs": [
    {
     "name": "stdout",
     "output_type": "stream",
     "text": [
      "CustomerId                int64\n",
      "Name                     object\n",
      "CreditScore               int64\n",
      "Country                  object\n",
      "Gender                   object\n",
      "Age                       int64\n",
      "Tenure                    int64\n",
      "Balance                 float64\n",
      "NumOfProducts             int64\n",
      "Salary                  float64\n",
      "Date             datetime64[ns]\n",
      "Dep                      object\n",
      "salary                  float64\n",
      "dtype: object\n"
     ]
    }
   ],
   "source": [
    "print(df.dtypes)"
   ]
  },
  {
   "cell_type": "code",
   "execution_count": 44,
   "id": "3159ef65-8b35-4e6e-81bc-88f6c4c3b59d",
   "metadata": {},
   "outputs": [],
   "source": [
    "df['Date'] = df['Date'].astype(str)"
   ]
  },
  {
   "cell_type": "code",
   "execution_count": 45,
   "id": "10adeba0-7caa-4072-9175-714c8e4a0022",
   "metadata": {},
   "outputs": [
    {
     "name": "stdout",
     "output_type": "stream",
     "text": [
      "CustomerId         int64\n",
      "Name              object\n",
      "CreditScore        int64\n",
      "Country           object\n",
      "Gender            object\n",
      "Age                int64\n",
      "Tenure             int64\n",
      "Balance          float64\n",
      "NumOfProducts      int64\n",
      "Salary           float64\n",
      "Date              object\n",
      "Dep               object\n",
      "salary           float64\n",
      "dtype: object\n"
     ]
    }
   ],
   "source": [
    "print(df.dtypes)"
   ]
  },
  {
   "cell_type": "code",
   "execution_count": 46,
   "id": "0ce50593-301f-4745-be8f-9ad21100021f",
   "metadata": {},
   "outputs": [],
   "source": [
    "df['Date'] = pd.to_datetime(df['Date'])"
   ]
  },
  {
   "cell_type": "code",
   "execution_count": 47,
   "id": "8a2365d8-4fb2-4d5d-a54a-22ea1360fbf3",
   "metadata": {},
   "outputs": [
    {
     "name": "stdout",
     "output_type": "stream",
     "text": [
      "CustomerId                int64\n",
      "Name                     object\n",
      "CreditScore               int64\n",
      "Country                  object\n",
      "Gender                   object\n",
      "Age                       int64\n",
      "Tenure                    int64\n",
      "Balance                 float64\n",
      "NumOfProducts             int64\n",
      "Salary                  float64\n",
      "Date             datetime64[ns]\n",
      "Dep                      object\n",
      "salary                  float64\n",
      "dtype: object\n"
     ]
    }
   ],
   "source": [
    "print(df.dtypes)"
   ]
  },
  {
   "cell_type": "code",
   "execution_count": 48,
   "id": "8af3ab8b-253f-49d8-8519-5a6d114b71d0",
   "metadata": {},
   "outputs": [],
   "source": [
    "df['Date'] = df['Date'].astype('str')"
   ]
  },
  {
   "cell_type": "code",
   "execution_count": 49,
   "id": "301e6e52-338e-456a-8938-10e7675c566d",
   "metadata": {},
   "outputs": [
    {
     "name": "stdout",
     "output_type": "stream",
     "text": [
      "     CustomerId        Name  CreditScore  Country  Gender  Age  Tenure  \\\n",
      "0      15634602    Hargrave          619   France  Female   42       2   \n",
      "1      15634602    Hargrave          619   France  Female   42       2   \n",
      "2      15634602        Onio          502   France  Female   42       8   \n",
      "3      15634602        Onio          502   France  Female   42       8   \n",
      "4      15737888    Mitchell          850    Spain  Female   43       2   \n",
      "..          ...         ...          ...      ...     ...  ...     ...   \n",
      "448    15694860    Uspensky          675   France  Female   38       6   \n",
      "449    15658169   sivaraman          778    Spain  Female   47       6   \n",
      "450    15794396     Newbold          494  Germany  Female   38       7   \n",
      "451    15785798  Uchechukwu          850   France    Male   40       9   \n",
      "452    15710825       Ch'en          592    Spain    Male   31       7   \n",
      "\n",
      "       Balance  NumOfProducts     Salary        Date      Dep     salary  \n",
      "0         0.00              1  101348.88  2023-01-01     Bank  101348.88  \n",
      "1         0.00              1  101348.88  2023-01-02     Bank  101348.88  \n",
      "2    159660.80              3  112542.58  2023-01-03     Bank  112542.58  \n",
      "3    159660.80              3  112542.58  2023-01-04     Bank  112542.58  \n",
      "4    125510.82              1   79084.10  2023-01-05     Bank   79084.10  \n",
      "..         ...            ...        ...         ...      ...        ...  \n",
      "448   68065.80              1  138777.00  2025-01-31  Entrepr  138777.00  \n",
      "449  127299.34              2  124694.99  2025-01-31  Entrepr  124694.99  \n",
      "450  174937.64              1   40084.32  2025-01-31  Entrepr   40084.32  \n",
      "451       0.00              2  119232.33  2025-01-31  Entrepr  119232.33  \n",
      "452  110071.10              1   43921.36  2025-01-31  Entrepr   43921.36  \n",
      "\n",
      "[453 rows x 13 columns]\n"
     ]
    }
   ],
   "source": [
    "print(df)"
   ]
  },
  {
   "cell_type": "code",
   "execution_count": 50,
   "id": "7f88882f-838e-4e69-957b-5ad127d42241",
   "metadata": {},
   "outputs": [
    {
     "name": "stdout",
     "output_type": "stream",
     "text": [
      "CustomerId         int64\n",
      "Name              object\n",
      "CreditScore        int64\n",
      "Country           object\n",
      "Gender            object\n",
      "Age                int64\n",
      "Tenure             int64\n",
      "Balance          float64\n",
      "NumOfProducts      int64\n",
      "Salary           float64\n",
      "Date              object\n",
      "Dep               object\n",
      "salary           float64\n",
      "dtype: object\n"
     ]
    }
   ],
   "source": [
    "print(df.dtypes)"
   ]
  },
  {
   "cell_type": "code",
   "execution_count": 51,
   "id": "2985003b-8c4b-465d-8f2b-bbc17fcbe19a",
   "metadata": {},
   "outputs": [
    {
     "name": "stdout",
     "output_type": "stream",
     "text": [
      "CustomerId                int64\n",
      "Name                     object\n",
      "CreditScore               int64\n",
      "Country                  object\n",
      "Gender                   object\n",
      "Age                       int64\n",
      "Tenure                    int64\n",
      "Balance                 float64\n",
      "NumOfProducts             int64\n",
      "Salary                  float64\n",
      "Date             datetime64[ns]\n",
      "Dep                      object\n",
      "salary                  float64\n",
      "dtype: object\n"
     ]
    }
   ],
   "source": [
    "df['Date'] = pd.to_datetime(df['Date'])\n",
    "print(df.dtypes)"
   ]
  },
  {
   "cell_type": "code",
   "execution_count": 52,
   "id": "5e15e89f-0bc3-4609-95c1-3e70304d8627",
   "metadata": {},
   "outputs": [],
   "source": [
    "df = df.astype({'Age':'float', 'Tenure':'float', 'Balance':'int' })"
   ]
  },
  {
   "cell_type": "code",
   "execution_count": 53,
   "id": "d0985c5e-4a2b-4d6f-a580-2bebbe37d43a",
   "metadata": {},
   "outputs": [
    {
     "name": "stdout",
     "output_type": "stream",
     "text": [
      "CustomerId                int64\n",
      "Name                     object\n",
      "CreditScore               int64\n",
      "Country                  object\n",
      "Gender                   object\n",
      "Age                     float64\n",
      "Tenure                  float64\n",
      "Balance                   int64\n",
      "NumOfProducts             int64\n",
      "Salary                  float64\n",
      "Date             datetime64[ns]\n",
      "Dep                      object\n",
      "salary                  float64\n",
      "dtype: object\n"
     ]
    }
   ],
   "source": [
    "print(df.dtypes)"
   ]
  },
  {
   "cell_type": "code",
   "execution_count": 56,
   "id": "f2408245-9f34-4628-aa3c-68a24e72ae99",
   "metadata": {},
   "outputs": [],
   "source": [
    "df = df.astype({'Age':'int', 'Tenure':'int', 'Balance':'float'})"
   ]
  },
  {
   "cell_type": "code",
   "execution_count": 57,
   "id": "425e54dd-5c31-41ed-8c8a-e89d1248537e",
   "metadata": {},
   "outputs": [
    {
     "name": "stdout",
     "output_type": "stream",
     "text": [
      "CustomerId                int64\n",
      "Name                     object\n",
      "CreditScore               int64\n",
      "Country                  object\n",
      "Gender                   object\n",
      "Age                       int64\n",
      "Tenure                    int64\n",
      "Balance                 float64\n",
      "NumOfProducts             int64\n",
      "Salary                  float64\n",
      "Date             datetime64[ns]\n",
      "Dep                      object\n",
      "salary                  float64\n",
      "dtype: object\n"
     ]
    }
   ],
   "source": [
    "print(df.dtypes)"
   ]
  },
  {
   "cell_type": "code",
   "execution_count": 1,
   "id": "9e80c5bf-3ab1-4f29-adbd-b91d79ab043f",
   "metadata": {},
   "outputs": [],
   "source": [
    "import pandas as pd"
   ]
  },
  {
   "cell_type": "code",
   "execution_count": 3,
   "id": "2702a894-dc94-41a3-b450-2e1259db1e1c",
   "metadata": {},
   "outputs": [
    {
     "name": "stdout",
     "output_type": "stream",
     "text": [
      "    CustomerId      Name  CreditScore  Country  Gender  Age  Tenure  \\\n",
      "0     15634602  Hargrave          619   France  Female   42       2   \n",
      "1     15634602  Hargrave          619   France  Female   42       2   \n",
      "2     15634602      Onio          502   France  Female   42       8   \n",
      "3     15634602      Onio          502   France  Female   42       8   \n",
      "4     15737888  Mitchell          850    Spain  Female   43       2   \n",
      "5     15574012       Chu          645    Spain    Male   44       8   \n",
      "6     15574012  Bartlett          822   France    Male   50       7   \n",
      "7     15574012  Bartlett          376  Germany  Female   29       4   \n",
      "8     15574012  Bartlett          501   France    Male   44       4   \n",
      "9     15574012  Bartlett          684   France    Male   27       2   \n",
      "10    15574012  Bartlett          528   France    Male   31       6   \n",
      "11    15737173   Andrews          528    Spain    Male   24       3   \n",
      "12    15737173   Andrews          528    Spain    Male   24       3   \n",
      "13    15737173   Andrews          528    Spain    Male   24       3   \n",
      "\n",
      "      Balance  NumOfProducts     Salary       Date   Dep  \n",
      "0        0.00              1  101348.88 2023-01-01  Bank  \n",
      "1        0.00              1  101348.88 2023-01-02  Bank  \n",
      "2   159660.80              3  112542.58 2023-01-03  Bank  \n",
      "3   159660.80              3  112542.58 2023-01-04  Bank  \n",
      "4   125510.82              1    79084.1 2023-01-05  Bank  \n",
      "5   113755.78              2  149756.71 2023-01-06  Bank  \n",
      "6        0.00              2    invalid 2023-01-07  Bank  \n",
      "7   115046.74              4  119346.88 2023-01-08  Bank  \n",
      "8   142051.07              2    74940.5 2023-01-09  Bank  \n",
      "9   142051.07              1   71725.73 2023-01-10  Bank  \n",
      "10  142051.07              2        not 2023-01-11  Bank  \n",
      "11  142051.07              2   76390.01 2023-01-12  Bank  \n",
      "12  142051.07              2   76390.01 2023-01-13  Bank  \n",
      "13  142051.07              2   76390.01 2023-01-14  Bank  \n"
     ]
    }
   ],
   "source": [
    "import pandas as pd\n",
    "file_path = \"C:/Users/Sivaraman/Desktop/study/data analytics/Data (for practice)/bank_details_1b.xlsx\"\n",
    "df = pd.read_excel(file_path)\n",
    "print(df)"
   ]
  },
  {
   "cell_type": "code",
   "execution_count": 5,
   "id": "6c0f69a7-54ed-4c17-aea8-2c0a63f6a3f3",
   "metadata": {},
   "outputs": [
    {
     "name": "stdout",
     "output_type": "stream",
     "text": [
      "object\n"
     ]
    }
   ],
   "source": [
    "print(df['Salary'].dtype)"
   ]
  },
  {
   "cell_type": "code",
   "execution_count": 6,
   "id": "07a1c46a-5116-425d-83e9-7be1e3e6d745",
   "metadata": {},
   "outputs": [
    {
     "ename": "ValueError",
     "evalue": "could not convert string to float: 'invalid'",
     "output_type": "error",
     "traceback": [
      "\u001b[1;31m---------------------------------------------------------------------------\u001b[0m",
      "\u001b[1;31mValueError\u001b[0m                                Traceback (most recent call last)",
      "Cell \u001b[1;32mIn[6], line 1\u001b[0m\n\u001b[1;32m----> 1\u001b[0m \u001b[43mdf\u001b[49m\u001b[43m[\u001b[49m\u001b[38;5;124;43m'\u001b[39;49m\u001b[38;5;124;43mSalary\u001b[39;49m\u001b[38;5;124;43m'\u001b[39;49m\u001b[43m]\u001b[49m\u001b[38;5;241;43m.\u001b[39;49m\u001b[43mastype\u001b[49m\u001b[43m(\u001b[49m\u001b[38;5;28;43mfloat\u001b[39;49m\u001b[43m)\u001b[49m\n",
      "File \u001b[1;32m~\\AppData\\Local\\Programs\\Python\\Python313\\Lib\\site-packages\\pandas\\core\\generic.py:6643\u001b[0m, in \u001b[0;36mNDFrame.astype\u001b[1;34m(self, dtype, copy, errors)\u001b[0m\n\u001b[0;32m   6637\u001b[0m     results \u001b[38;5;241m=\u001b[39m [\n\u001b[0;32m   6638\u001b[0m         ser\u001b[38;5;241m.\u001b[39mastype(dtype, copy\u001b[38;5;241m=\u001b[39mcopy, errors\u001b[38;5;241m=\u001b[39merrors) \u001b[38;5;28;01mfor\u001b[39;00m _, ser \u001b[38;5;129;01min\u001b[39;00m \u001b[38;5;28mself\u001b[39m\u001b[38;5;241m.\u001b[39mitems()\n\u001b[0;32m   6639\u001b[0m     ]\n\u001b[0;32m   6641\u001b[0m \u001b[38;5;28;01melse\u001b[39;00m:\n\u001b[0;32m   6642\u001b[0m     \u001b[38;5;66;03m# else, only a single dtype is given\u001b[39;00m\n\u001b[1;32m-> 6643\u001b[0m     new_data \u001b[38;5;241m=\u001b[39m \u001b[38;5;28;43mself\u001b[39;49m\u001b[38;5;241;43m.\u001b[39;49m\u001b[43m_mgr\u001b[49m\u001b[38;5;241;43m.\u001b[39;49m\u001b[43mastype\u001b[49m\u001b[43m(\u001b[49m\u001b[43mdtype\u001b[49m\u001b[38;5;241;43m=\u001b[39;49m\u001b[43mdtype\u001b[49m\u001b[43m,\u001b[49m\u001b[43m \u001b[49m\u001b[43mcopy\u001b[49m\u001b[38;5;241;43m=\u001b[39;49m\u001b[43mcopy\u001b[49m\u001b[43m,\u001b[49m\u001b[43m \u001b[49m\u001b[43merrors\u001b[49m\u001b[38;5;241;43m=\u001b[39;49m\u001b[43merrors\u001b[49m\u001b[43m)\u001b[49m\n\u001b[0;32m   6644\u001b[0m     res \u001b[38;5;241m=\u001b[39m \u001b[38;5;28mself\u001b[39m\u001b[38;5;241m.\u001b[39m_constructor_from_mgr(new_data, axes\u001b[38;5;241m=\u001b[39mnew_data\u001b[38;5;241m.\u001b[39maxes)\n\u001b[0;32m   6645\u001b[0m     \u001b[38;5;28;01mreturn\u001b[39;00m res\u001b[38;5;241m.\u001b[39m__finalize__(\u001b[38;5;28mself\u001b[39m, method\u001b[38;5;241m=\u001b[39m\u001b[38;5;124m\"\u001b[39m\u001b[38;5;124mastype\u001b[39m\u001b[38;5;124m\"\u001b[39m)\n",
      "File \u001b[1;32m~\\AppData\\Local\\Programs\\Python\\Python313\\Lib\\site-packages\\pandas\\core\\internals\\managers.py:430\u001b[0m, in \u001b[0;36mBaseBlockManager.astype\u001b[1;34m(self, dtype, copy, errors)\u001b[0m\n\u001b[0;32m    427\u001b[0m \u001b[38;5;28;01melif\u001b[39;00m using_copy_on_write():\n\u001b[0;32m    428\u001b[0m     copy \u001b[38;5;241m=\u001b[39m \u001b[38;5;28;01mFalse\u001b[39;00m\n\u001b[1;32m--> 430\u001b[0m \u001b[38;5;28;01mreturn\u001b[39;00m \u001b[38;5;28;43mself\u001b[39;49m\u001b[38;5;241;43m.\u001b[39;49m\u001b[43mapply\u001b[49m\u001b[43m(\u001b[49m\n\u001b[0;32m    431\u001b[0m \u001b[43m    \u001b[49m\u001b[38;5;124;43m\"\u001b[39;49m\u001b[38;5;124;43mastype\u001b[39;49m\u001b[38;5;124;43m\"\u001b[39;49m\u001b[43m,\u001b[49m\n\u001b[0;32m    432\u001b[0m \u001b[43m    \u001b[49m\u001b[43mdtype\u001b[49m\u001b[38;5;241;43m=\u001b[39;49m\u001b[43mdtype\u001b[49m\u001b[43m,\u001b[49m\n\u001b[0;32m    433\u001b[0m \u001b[43m    \u001b[49m\u001b[43mcopy\u001b[49m\u001b[38;5;241;43m=\u001b[39;49m\u001b[43mcopy\u001b[49m\u001b[43m,\u001b[49m\n\u001b[0;32m    434\u001b[0m \u001b[43m    \u001b[49m\u001b[43merrors\u001b[49m\u001b[38;5;241;43m=\u001b[39;49m\u001b[43merrors\u001b[49m\u001b[43m,\u001b[49m\n\u001b[0;32m    435\u001b[0m \u001b[43m    \u001b[49m\u001b[43musing_cow\u001b[49m\u001b[38;5;241;43m=\u001b[39;49m\u001b[43musing_copy_on_write\u001b[49m\u001b[43m(\u001b[49m\u001b[43m)\u001b[49m\u001b[43m,\u001b[49m\n\u001b[0;32m    436\u001b[0m \u001b[43m\u001b[49m\u001b[43m)\u001b[49m\n",
      "File \u001b[1;32m~\\AppData\\Local\\Programs\\Python\\Python313\\Lib\\site-packages\\pandas\\core\\internals\\managers.py:363\u001b[0m, in \u001b[0;36mBaseBlockManager.apply\u001b[1;34m(self, f, align_keys, **kwargs)\u001b[0m\n\u001b[0;32m    361\u001b[0m         applied \u001b[38;5;241m=\u001b[39m b\u001b[38;5;241m.\u001b[39mapply(f, \u001b[38;5;241m*\u001b[39m\u001b[38;5;241m*\u001b[39mkwargs)\n\u001b[0;32m    362\u001b[0m     \u001b[38;5;28;01melse\u001b[39;00m:\n\u001b[1;32m--> 363\u001b[0m         applied \u001b[38;5;241m=\u001b[39m \u001b[38;5;28;43mgetattr\u001b[39;49m\u001b[43m(\u001b[49m\u001b[43mb\u001b[49m\u001b[43m,\u001b[49m\u001b[43m \u001b[49m\u001b[43mf\u001b[49m\u001b[43m)\u001b[49m\u001b[43m(\u001b[49m\u001b[38;5;241;43m*\u001b[39;49m\u001b[38;5;241;43m*\u001b[39;49m\u001b[43mkwargs\u001b[49m\u001b[43m)\u001b[49m\n\u001b[0;32m    364\u001b[0m     result_blocks \u001b[38;5;241m=\u001b[39m extend_blocks(applied, result_blocks)\n\u001b[0;32m    366\u001b[0m out \u001b[38;5;241m=\u001b[39m \u001b[38;5;28mtype\u001b[39m(\u001b[38;5;28mself\u001b[39m)\u001b[38;5;241m.\u001b[39mfrom_blocks(result_blocks, \u001b[38;5;28mself\u001b[39m\u001b[38;5;241m.\u001b[39maxes)\n",
      "File \u001b[1;32m~\\AppData\\Local\\Programs\\Python\\Python313\\Lib\\site-packages\\pandas\\core\\internals\\blocks.py:758\u001b[0m, in \u001b[0;36mBlock.astype\u001b[1;34m(self, dtype, copy, errors, using_cow, squeeze)\u001b[0m\n\u001b[0;32m    755\u001b[0m         \u001b[38;5;28;01mraise\u001b[39;00m \u001b[38;5;167;01mValueError\u001b[39;00m(\u001b[38;5;124m\"\u001b[39m\u001b[38;5;124mCan not squeeze with more than one column.\u001b[39m\u001b[38;5;124m\"\u001b[39m)\n\u001b[0;32m    756\u001b[0m     values \u001b[38;5;241m=\u001b[39m values[\u001b[38;5;241m0\u001b[39m, :]  \u001b[38;5;66;03m# type: ignore[call-overload]\u001b[39;00m\n\u001b[1;32m--> 758\u001b[0m new_values \u001b[38;5;241m=\u001b[39m \u001b[43mastype_array_safe\u001b[49m\u001b[43m(\u001b[49m\u001b[43mvalues\u001b[49m\u001b[43m,\u001b[49m\u001b[43m \u001b[49m\u001b[43mdtype\u001b[49m\u001b[43m,\u001b[49m\u001b[43m \u001b[49m\u001b[43mcopy\u001b[49m\u001b[38;5;241;43m=\u001b[39;49m\u001b[43mcopy\u001b[49m\u001b[43m,\u001b[49m\u001b[43m \u001b[49m\u001b[43merrors\u001b[49m\u001b[38;5;241;43m=\u001b[39;49m\u001b[43merrors\u001b[49m\u001b[43m)\u001b[49m\n\u001b[0;32m    760\u001b[0m new_values \u001b[38;5;241m=\u001b[39m maybe_coerce_values(new_values)\n\u001b[0;32m    762\u001b[0m refs \u001b[38;5;241m=\u001b[39m \u001b[38;5;28;01mNone\u001b[39;00m\n",
      "File \u001b[1;32m~\\AppData\\Local\\Programs\\Python\\Python313\\Lib\\site-packages\\pandas\\core\\dtypes\\astype.py:237\u001b[0m, in \u001b[0;36mastype_array_safe\u001b[1;34m(values, dtype, copy, errors)\u001b[0m\n\u001b[0;32m    234\u001b[0m     dtype \u001b[38;5;241m=\u001b[39m dtype\u001b[38;5;241m.\u001b[39mnumpy_dtype\n\u001b[0;32m    236\u001b[0m \u001b[38;5;28;01mtry\u001b[39;00m:\n\u001b[1;32m--> 237\u001b[0m     new_values \u001b[38;5;241m=\u001b[39m \u001b[43mastype_array\u001b[49m\u001b[43m(\u001b[49m\u001b[43mvalues\u001b[49m\u001b[43m,\u001b[49m\u001b[43m \u001b[49m\u001b[43mdtype\u001b[49m\u001b[43m,\u001b[49m\u001b[43m \u001b[49m\u001b[43mcopy\u001b[49m\u001b[38;5;241;43m=\u001b[39;49m\u001b[43mcopy\u001b[49m\u001b[43m)\u001b[49m\n\u001b[0;32m    238\u001b[0m \u001b[38;5;28;01mexcept\u001b[39;00m (\u001b[38;5;167;01mValueError\u001b[39;00m, \u001b[38;5;167;01mTypeError\u001b[39;00m):\n\u001b[0;32m    239\u001b[0m     \u001b[38;5;66;03m# e.g. _astype_nansafe can fail on object-dtype of strings\u001b[39;00m\n\u001b[0;32m    240\u001b[0m     \u001b[38;5;66;03m#  trying to convert to float\u001b[39;00m\n\u001b[0;32m    241\u001b[0m     \u001b[38;5;28;01mif\u001b[39;00m errors \u001b[38;5;241m==\u001b[39m \u001b[38;5;124m\"\u001b[39m\u001b[38;5;124mignore\u001b[39m\u001b[38;5;124m\"\u001b[39m:\n",
      "File \u001b[1;32m~\\AppData\\Local\\Programs\\Python\\Python313\\Lib\\site-packages\\pandas\\core\\dtypes\\astype.py:182\u001b[0m, in \u001b[0;36mastype_array\u001b[1;34m(values, dtype, copy)\u001b[0m\n\u001b[0;32m    179\u001b[0m     values \u001b[38;5;241m=\u001b[39m values\u001b[38;5;241m.\u001b[39mastype(dtype, copy\u001b[38;5;241m=\u001b[39mcopy)\n\u001b[0;32m    181\u001b[0m \u001b[38;5;28;01melse\u001b[39;00m:\n\u001b[1;32m--> 182\u001b[0m     values \u001b[38;5;241m=\u001b[39m \u001b[43m_astype_nansafe\u001b[49m\u001b[43m(\u001b[49m\u001b[43mvalues\u001b[49m\u001b[43m,\u001b[49m\u001b[43m \u001b[49m\u001b[43mdtype\u001b[49m\u001b[43m,\u001b[49m\u001b[43m \u001b[49m\u001b[43mcopy\u001b[49m\u001b[38;5;241;43m=\u001b[39;49m\u001b[43mcopy\u001b[49m\u001b[43m)\u001b[49m\n\u001b[0;32m    184\u001b[0m \u001b[38;5;66;03m# in pandas we don't store numpy str dtypes, so convert to object\u001b[39;00m\n\u001b[0;32m    185\u001b[0m \u001b[38;5;28;01mif\u001b[39;00m \u001b[38;5;28misinstance\u001b[39m(dtype, np\u001b[38;5;241m.\u001b[39mdtype) \u001b[38;5;129;01mand\u001b[39;00m \u001b[38;5;28missubclass\u001b[39m(values\u001b[38;5;241m.\u001b[39mdtype\u001b[38;5;241m.\u001b[39mtype, \u001b[38;5;28mstr\u001b[39m):\n",
      "File \u001b[1;32m~\\AppData\\Local\\Programs\\Python\\Python313\\Lib\\site-packages\\pandas\\core\\dtypes\\astype.py:133\u001b[0m, in \u001b[0;36m_astype_nansafe\u001b[1;34m(arr, dtype, copy, skipna)\u001b[0m\n\u001b[0;32m    129\u001b[0m     \u001b[38;5;28;01mraise\u001b[39;00m \u001b[38;5;167;01mValueError\u001b[39;00m(msg)\n\u001b[0;32m    131\u001b[0m \u001b[38;5;28;01mif\u001b[39;00m copy \u001b[38;5;129;01mor\u001b[39;00m arr\u001b[38;5;241m.\u001b[39mdtype \u001b[38;5;241m==\u001b[39m \u001b[38;5;28mobject\u001b[39m \u001b[38;5;129;01mor\u001b[39;00m dtype \u001b[38;5;241m==\u001b[39m \u001b[38;5;28mobject\u001b[39m:\n\u001b[0;32m    132\u001b[0m     \u001b[38;5;66;03m# Explicit copy, or required since NumPy can't view from / to object.\u001b[39;00m\n\u001b[1;32m--> 133\u001b[0m     \u001b[38;5;28;01mreturn\u001b[39;00m \u001b[43marr\u001b[49m\u001b[38;5;241;43m.\u001b[39;49m\u001b[43mastype\u001b[49m\u001b[43m(\u001b[49m\u001b[43mdtype\u001b[49m\u001b[43m,\u001b[49m\u001b[43m \u001b[49m\u001b[43mcopy\u001b[49m\u001b[38;5;241;43m=\u001b[39;49m\u001b[38;5;28;43;01mTrue\u001b[39;49;00m\u001b[43m)\u001b[49m\n\u001b[0;32m    135\u001b[0m \u001b[38;5;28;01mreturn\u001b[39;00m arr\u001b[38;5;241m.\u001b[39mastype(dtype, copy\u001b[38;5;241m=\u001b[39mcopy)\n",
      "\u001b[1;31mValueError\u001b[0m: could not convert string to float: 'invalid'"
     ]
    }
   ],
   "source": [
    "df['Salary'].astype(float)"
   ]
  },
  {
   "cell_type": "code",
   "execution_count": 8,
   "id": "6c3be18d-a15f-44e0-9120-71584d240e8a",
   "metadata": {},
   "outputs": [],
   "source": [
    "df['Salary'] = pd.to_numeric(df['Salary'], errors = 'coerce')"
   ]
  },
  {
   "cell_type": "code",
   "execution_count": 9,
   "id": "a6fcbd28-7fd9-452b-9409-bf899e5e8795",
   "metadata": {},
   "outputs": [
    {
     "name": "stdout",
     "output_type": "stream",
     "text": [
      "float64\n"
     ]
    }
   ],
   "source": [
    "print(df['Salary'].dtype)"
   ]
  },
  {
   "cell_type": "code",
   "execution_count": 10,
   "id": "50190433-b044-4b23-96e9-8e71bb210f3a",
   "metadata": {},
   "outputs": [
    {
     "name": "stdout",
     "output_type": "stream",
     "text": [
      "    CustomerId      Name  CreditScore  Country  Gender  Age  Tenure  \\\n",
      "0     15634602  Hargrave          619   France  Female   42       2   \n",
      "1     15634602  Hargrave          619   France  Female   42       2   \n",
      "2     15634602      Onio          502   France  Female   42       8   \n",
      "3     15634602      Onio          502   France  Female   42       8   \n",
      "4     15737888  Mitchell          850    Spain  Female   43       2   \n",
      "5     15574012       Chu          645    Spain    Male   44       8   \n",
      "6     15574012  Bartlett          822   France    Male   50       7   \n",
      "7     15574012  Bartlett          376  Germany  Female   29       4   \n",
      "8     15574012  Bartlett          501   France    Male   44       4   \n",
      "9     15574012  Bartlett          684   France    Male   27       2   \n",
      "10    15574012  Bartlett          528   France    Male   31       6   \n",
      "11    15737173   Andrews          528    Spain    Male   24       3   \n",
      "12    15737173   Andrews          528    Spain    Male   24       3   \n",
      "13    15737173   Andrews          528    Spain    Male   24       3   \n",
      "\n",
      "      Balance  NumOfProducts     Salary       Date   Dep  \n",
      "0        0.00              1  101348.88 2023-01-01  Bank  \n",
      "1        0.00              1  101348.88 2023-01-02  Bank  \n",
      "2   159660.80              3  112542.58 2023-01-03  Bank  \n",
      "3   159660.80              3  112542.58 2023-01-04  Bank  \n",
      "4   125510.82              1    79084.1 2023-01-05  Bank  \n",
      "5   113755.78              2  149756.71 2023-01-06  Bank  \n",
      "6        0.00              2    invalid 2023-01-07  Bank  \n",
      "7   115046.74              4  119346.88 2023-01-08  Bank  \n",
      "8   142051.07              2    74940.5 2023-01-09  Bank  \n",
      "9   142051.07              1   71725.73 2023-01-10  Bank  \n",
      "10  142051.07              2        not 2023-01-11  Bank  \n",
      "11  142051.07              2   76390.01 2023-01-12  Bank  \n",
      "12  142051.07              2   76390.01 2023-01-13  Bank  \n",
      "13  142051.07              2   76390.01 2023-01-14  Bank  \n"
     ]
    }
   ],
   "source": [
    "import pandas as pd\n",
    "file_path = \"C:/Users/Sivaraman/Desktop/study/data analytics/Data (for practice)/bank_details_1b.xlsx\"\n",
    "df = pd.read_excel(file_path)\n",
    "print(df)"
   ]
  },
  {
   "cell_type": "code",
   "execution_count": 14,
   "id": "d83a5edb-8ab0-4c2a-8adc-5724f48f0af1",
   "metadata": {},
   "outputs": [
    {
     "name": "stdout",
     "output_type": "stream",
     "text": [
      "CustomerId                int64\n",
      "Name                     object\n",
      "CreditScore               int64\n",
      "Country                  object\n",
      "Gender                   object\n",
      "Age                       int64\n",
      "Tenure                    int64\n",
      "Balance                 float64\n",
      "NumOfProducts             int64\n",
      "Salary                   object\n",
      "Date             datetime64[ns]\n",
      "Dep                      object\n",
      "dtype: object\n"
     ]
    }
   ],
   "source": [
    "print(df.dtypes)"
   ]
  },
  {
   "cell_type": "code",
   "execution_count": 15,
   "id": "f673a867-98c3-45da-aafe-2c8febf6367a",
   "metadata": {},
   "outputs": [],
   "source": [
    "df['Salary'] = pd.to_numeric(df['Salary'], errors = 'coerce')"
   ]
  },
  {
   "cell_type": "code",
   "execution_count": 16,
   "id": "521b3256-f29d-4aff-ad1a-3429db4af8bf",
   "metadata": {},
   "outputs": [
    {
     "name": "stdout",
     "output_type": "stream",
     "text": [
      "CustomerId                int64\n",
      "Name                     object\n",
      "CreditScore               int64\n",
      "Country                  object\n",
      "Gender                   object\n",
      "Age                       int64\n",
      "Tenure                    int64\n",
      "Balance                 float64\n",
      "NumOfProducts             int64\n",
      "Salary                  float64\n",
      "Date             datetime64[ns]\n",
      "Dep                      object\n",
      "dtype: object\n"
     ]
    }
   ],
   "source": [
    "print(df.dtypes)"
   ]
  },
  {
   "cell_type": "code",
   "execution_count": 18,
   "id": "d30888aa-55ca-4c55-b2c6-88719a815e96",
   "metadata": {},
   "outputs": [],
   "source": [
    "df = df.astype({'CreditScore':'object', 'Age': 'object', 'Tenure': 'object'})"
   ]
  },
  {
   "cell_type": "code",
   "execution_count": 19,
   "id": "5811afbc-96b3-4cce-b0bb-c12f01ac1e78",
   "metadata": {},
   "outputs": [
    {
     "name": "stdout",
     "output_type": "stream",
     "text": [
      "CustomerId                int64\n",
      "Name                     object\n",
      "CreditScore              object\n",
      "Country                  object\n",
      "Gender                   object\n",
      "Age                      object\n",
      "Tenure                   object\n",
      "Balance                 float64\n",
      "NumOfProducts             int64\n",
      "Salary                  float64\n",
      "Date             datetime64[ns]\n",
      "Dep                      object\n",
      "dtype: object\n"
     ]
    }
   ],
   "source": [
    "print(df.dtypes)"
   ]
  },
  {
   "cell_type": "code",
   "execution_count": 20,
   "id": "14da0b23-78d7-43f0-b8a0-a2e7402dd6df",
   "metadata": {},
   "outputs": [],
   "source": [
    "df = df.astype({'Age': 'int', 'CreditScore':'int', 'Tenure': 'int'})"
   ]
  },
  {
   "cell_type": "code",
   "execution_count": 21,
   "id": "274f5a42-2c02-4a55-9245-3ccd27baa12b",
   "metadata": {},
   "outputs": [
    {
     "name": "stdout",
     "output_type": "stream",
     "text": [
      "CustomerId                int64\n",
      "Name                     object\n",
      "CreditScore               int64\n",
      "Country                  object\n",
      "Gender                   object\n",
      "Age                       int64\n",
      "Tenure                    int64\n",
      "Balance                 float64\n",
      "NumOfProducts             int64\n",
      "Salary                  float64\n",
      "Date             datetime64[ns]\n",
      "Dep                      object\n",
      "dtype: object\n"
     ]
    }
   ],
   "source": [
    "print(df.dtypes)"
   ]
  },
  {
   "cell_type": "code",
   "execution_count": 22,
   "id": "34925251-ee80-4f6d-853a-26110360a97d",
   "metadata": {},
   "outputs": [
    {
     "ename": "ValueError",
     "evalue": "Unable to parse string \"Hargrave\" at position 0",
     "output_type": "error",
     "traceback": [
      "\u001b[1;31m---------------------------------------------------------------------------\u001b[0m",
      "\u001b[1;31mValueError\u001b[0m                                Traceback (most recent call last)",
      "File \u001b[1;32mlib.pyx:2391\u001b[0m, in \u001b[0;36mpandas._libs.lib.maybe_convert_numeric\u001b[1;34m()\u001b[0m\n",
      "\u001b[1;31mValueError\u001b[0m: Unable to parse string \"Hargrave\"",
      "\nDuring handling of the above exception, another exception occurred:\n",
      "\u001b[1;31mValueError\u001b[0m                                Traceback (most recent call last)",
      "Cell \u001b[1;32mIn[22], line 1\u001b[0m\n\u001b[1;32m----> 1\u001b[0m df \u001b[38;5;241m=\u001b[39m \u001b[43mdf\u001b[49m\u001b[38;5;241;43m.\u001b[39;49m\u001b[43mapply\u001b[49m\u001b[43m(\u001b[49m\u001b[43mpd\u001b[49m\u001b[38;5;241;43m.\u001b[39;49m\u001b[43mto_numeric\u001b[49m\u001b[43m)\u001b[49m\n",
      "File \u001b[1;32m~\\AppData\\Local\\Programs\\Python\\Python313\\Lib\\site-packages\\pandas\\core\\frame.py:10374\u001b[0m, in \u001b[0;36mDataFrame.apply\u001b[1;34m(self, func, axis, raw, result_type, args, by_row, engine, engine_kwargs, **kwargs)\u001b[0m\n\u001b[0;32m  10360\u001b[0m \u001b[38;5;28;01mfrom\u001b[39;00m \u001b[38;5;21;01mpandas\u001b[39;00m\u001b[38;5;21;01m.\u001b[39;00m\u001b[38;5;21;01mcore\u001b[39;00m\u001b[38;5;21;01m.\u001b[39;00m\u001b[38;5;21;01mapply\u001b[39;00m \u001b[38;5;28;01mimport\u001b[39;00m frame_apply\n\u001b[0;32m  10362\u001b[0m op \u001b[38;5;241m=\u001b[39m frame_apply(\n\u001b[0;32m  10363\u001b[0m     \u001b[38;5;28mself\u001b[39m,\n\u001b[0;32m  10364\u001b[0m     func\u001b[38;5;241m=\u001b[39mfunc,\n\u001b[1;32m   (...)\u001b[0m\n\u001b[0;32m  10372\u001b[0m     kwargs\u001b[38;5;241m=\u001b[39mkwargs,\n\u001b[0;32m  10373\u001b[0m )\n\u001b[1;32m> 10374\u001b[0m \u001b[38;5;28;01mreturn\u001b[39;00m \u001b[43mop\u001b[49m\u001b[38;5;241;43m.\u001b[39;49m\u001b[43mapply\u001b[49m\u001b[43m(\u001b[49m\u001b[43m)\u001b[49m\u001b[38;5;241m.\u001b[39m__finalize__(\u001b[38;5;28mself\u001b[39m, method\u001b[38;5;241m=\u001b[39m\u001b[38;5;124m\"\u001b[39m\u001b[38;5;124mapply\u001b[39m\u001b[38;5;124m\"\u001b[39m)\n",
      "File \u001b[1;32m~\\AppData\\Local\\Programs\\Python\\Python313\\Lib\\site-packages\\pandas\\core\\apply.py:916\u001b[0m, in \u001b[0;36mFrameApply.apply\u001b[1;34m(self)\u001b[0m\n\u001b[0;32m    913\u001b[0m \u001b[38;5;28;01melif\u001b[39;00m \u001b[38;5;28mself\u001b[39m\u001b[38;5;241m.\u001b[39mraw:\n\u001b[0;32m    914\u001b[0m     \u001b[38;5;28;01mreturn\u001b[39;00m \u001b[38;5;28mself\u001b[39m\u001b[38;5;241m.\u001b[39mapply_raw(engine\u001b[38;5;241m=\u001b[39m\u001b[38;5;28mself\u001b[39m\u001b[38;5;241m.\u001b[39mengine, engine_kwargs\u001b[38;5;241m=\u001b[39m\u001b[38;5;28mself\u001b[39m\u001b[38;5;241m.\u001b[39mengine_kwargs)\n\u001b[1;32m--> 916\u001b[0m \u001b[38;5;28;01mreturn\u001b[39;00m \u001b[38;5;28;43mself\u001b[39;49m\u001b[38;5;241;43m.\u001b[39;49m\u001b[43mapply_standard\u001b[49m\u001b[43m(\u001b[49m\u001b[43m)\u001b[49m\n",
      "File \u001b[1;32m~\\AppData\\Local\\Programs\\Python\\Python313\\Lib\\site-packages\\pandas\\core\\apply.py:1063\u001b[0m, in \u001b[0;36mFrameApply.apply_standard\u001b[1;34m(self)\u001b[0m\n\u001b[0;32m   1061\u001b[0m \u001b[38;5;28;01mdef\u001b[39;00m \u001b[38;5;21mapply_standard\u001b[39m(\u001b[38;5;28mself\u001b[39m):\n\u001b[0;32m   1062\u001b[0m     \u001b[38;5;28;01mif\u001b[39;00m \u001b[38;5;28mself\u001b[39m\u001b[38;5;241m.\u001b[39mengine \u001b[38;5;241m==\u001b[39m \u001b[38;5;124m\"\u001b[39m\u001b[38;5;124mpython\u001b[39m\u001b[38;5;124m\"\u001b[39m:\n\u001b[1;32m-> 1063\u001b[0m         results, res_index \u001b[38;5;241m=\u001b[39m \u001b[38;5;28;43mself\u001b[39;49m\u001b[38;5;241;43m.\u001b[39;49m\u001b[43mapply_series_generator\u001b[49m\u001b[43m(\u001b[49m\u001b[43m)\u001b[49m\n\u001b[0;32m   1064\u001b[0m     \u001b[38;5;28;01melse\u001b[39;00m:\n\u001b[0;32m   1065\u001b[0m         results, res_index \u001b[38;5;241m=\u001b[39m \u001b[38;5;28mself\u001b[39m\u001b[38;5;241m.\u001b[39mapply_series_numba()\n",
      "File \u001b[1;32m~\\AppData\\Local\\Programs\\Python\\Python313\\Lib\\site-packages\\pandas\\core\\apply.py:1081\u001b[0m, in \u001b[0;36mFrameApply.apply_series_generator\u001b[1;34m(self)\u001b[0m\n\u001b[0;32m   1078\u001b[0m \u001b[38;5;28;01mwith\u001b[39;00m option_context(\u001b[38;5;124m\"\u001b[39m\u001b[38;5;124mmode.chained_assignment\u001b[39m\u001b[38;5;124m\"\u001b[39m, \u001b[38;5;28;01mNone\u001b[39;00m):\n\u001b[0;32m   1079\u001b[0m     \u001b[38;5;28;01mfor\u001b[39;00m i, v \u001b[38;5;129;01min\u001b[39;00m \u001b[38;5;28menumerate\u001b[39m(series_gen):\n\u001b[0;32m   1080\u001b[0m         \u001b[38;5;66;03m# ignore SettingWithCopy here in case the user mutates\u001b[39;00m\n\u001b[1;32m-> 1081\u001b[0m         results[i] \u001b[38;5;241m=\u001b[39m \u001b[38;5;28;43mself\u001b[39;49m\u001b[38;5;241;43m.\u001b[39;49m\u001b[43mfunc\u001b[49m\u001b[43m(\u001b[49m\u001b[43mv\u001b[49m\u001b[43m,\u001b[49m\u001b[43m \u001b[49m\u001b[38;5;241;43m*\u001b[39;49m\u001b[38;5;28;43mself\u001b[39;49m\u001b[38;5;241;43m.\u001b[39;49m\u001b[43margs\u001b[49m\u001b[43m,\u001b[49m\u001b[43m \u001b[49m\u001b[38;5;241;43m*\u001b[39;49m\u001b[38;5;241;43m*\u001b[39;49m\u001b[38;5;28;43mself\u001b[39;49m\u001b[38;5;241;43m.\u001b[39;49m\u001b[43mkwargs\u001b[49m\u001b[43m)\u001b[49m\n\u001b[0;32m   1082\u001b[0m         \u001b[38;5;28;01mif\u001b[39;00m \u001b[38;5;28misinstance\u001b[39m(results[i], ABCSeries):\n\u001b[0;32m   1083\u001b[0m             \u001b[38;5;66;03m# If we have a view on v, we need to make a copy because\u001b[39;00m\n\u001b[0;32m   1084\u001b[0m             \u001b[38;5;66;03m#  series_generator will swap out the underlying data\u001b[39;00m\n\u001b[0;32m   1085\u001b[0m             results[i] \u001b[38;5;241m=\u001b[39m results[i]\u001b[38;5;241m.\u001b[39mcopy(deep\u001b[38;5;241m=\u001b[39m\u001b[38;5;28;01mFalse\u001b[39;00m)\n",
      "File \u001b[1;32m~\\AppData\\Local\\Programs\\Python\\Python313\\Lib\\site-packages\\pandas\\core\\tools\\numeric.py:232\u001b[0m, in \u001b[0;36mto_numeric\u001b[1;34m(arg, errors, downcast, dtype_backend)\u001b[0m\n\u001b[0;32m    230\u001b[0m coerce_numeric \u001b[38;5;241m=\u001b[39m errors \u001b[38;5;129;01mnot\u001b[39;00m \u001b[38;5;129;01min\u001b[39;00m (\u001b[38;5;124m\"\u001b[39m\u001b[38;5;124mignore\u001b[39m\u001b[38;5;124m\"\u001b[39m, \u001b[38;5;124m\"\u001b[39m\u001b[38;5;124mraise\u001b[39m\u001b[38;5;124m\"\u001b[39m)\n\u001b[0;32m    231\u001b[0m \u001b[38;5;28;01mtry\u001b[39;00m:\n\u001b[1;32m--> 232\u001b[0m     values, new_mask \u001b[38;5;241m=\u001b[39m \u001b[43mlib\u001b[49m\u001b[38;5;241;43m.\u001b[39;49m\u001b[43mmaybe_convert_numeric\u001b[49m\u001b[43m(\u001b[49m\u001b[43m  \u001b[49m\u001b[38;5;66;43;03m# type: ignore[call-overload]\u001b[39;49;00m\n\u001b[0;32m    233\u001b[0m \u001b[43m        \u001b[49m\u001b[43mvalues\u001b[49m\u001b[43m,\u001b[49m\n\u001b[0;32m    234\u001b[0m \u001b[43m        \u001b[49m\u001b[38;5;28;43mset\u001b[39;49m\u001b[43m(\u001b[49m\u001b[43m)\u001b[49m\u001b[43m,\u001b[49m\n\u001b[0;32m    235\u001b[0m \u001b[43m        \u001b[49m\u001b[43mcoerce_numeric\u001b[49m\u001b[38;5;241;43m=\u001b[39;49m\u001b[43mcoerce_numeric\u001b[49m\u001b[43m,\u001b[49m\n\u001b[0;32m    236\u001b[0m \u001b[43m        \u001b[49m\u001b[43mconvert_to_masked_nullable\u001b[49m\u001b[38;5;241;43m=\u001b[39;49m\u001b[43mdtype_backend\u001b[49m\u001b[43m \u001b[49m\u001b[38;5;129;43;01mis\u001b[39;49;00m\u001b[43m \u001b[49m\u001b[38;5;129;43;01mnot\u001b[39;49;00m\u001b[43m \u001b[49m\u001b[43mlib\u001b[49m\u001b[38;5;241;43m.\u001b[39;49m\u001b[43mno_default\u001b[49m\n\u001b[0;32m    237\u001b[0m \u001b[43m        \u001b[49m\u001b[38;5;129;43;01mor\u001b[39;49;00m\u001b[43m \u001b[49m\u001b[38;5;28;43misinstance\u001b[39;49m\u001b[43m(\u001b[49m\u001b[43mvalues_dtype\u001b[49m\u001b[43m,\u001b[49m\u001b[43m \u001b[49m\u001b[43mStringDtype\u001b[49m\u001b[43m)\u001b[49m\n\u001b[0;32m    238\u001b[0m \u001b[43m        \u001b[49m\u001b[38;5;129;43;01mand\u001b[39;49;00m\u001b[43m \u001b[49m\u001b[38;5;129;43;01mnot\u001b[39;49;00m\u001b[43m \u001b[49m\u001b[43mvalues_dtype\u001b[49m\u001b[38;5;241;43m.\u001b[39;49m\u001b[43mstorage\u001b[49m\u001b[43m \u001b[49m\u001b[38;5;241;43m==\u001b[39;49m\u001b[43m \u001b[49m\u001b[38;5;124;43m\"\u001b[39;49m\u001b[38;5;124;43mpyarrow_numpy\u001b[39;49m\u001b[38;5;124;43m\"\u001b[39;49m\u001b[43m,\u001b[49m\n\u001b[0;32m    239\u001b[0m \u001b[43m    \u001b[49m\u001b[43m)\u001b[49m\n\u001b[0;32m    240\u001b[0m \u001b[38;5;28;01mexcept\u001b[39;00m (\u001b[38;5;167;01mValueError\u001b[39;00m, \u001b[38;5;167;01mTypeError\u001b[39;00m):\n\u001b[0;32m    241\u001b[0m     \u001b[38;5;28;01mif\u001b[39;00m errors \u001b[38;5;241m==\u001b[39m \u001b[38;5;124m\"\u001b[39m\u001b[38;5;124mraise\u001b[39m\u001b[38;5;124m\"\u001b[39m:\n",
      "File \u001b[1;32mlib.pyx:2433\u001b[0m, in \u001b[0;36mpandas._libs.lib.maybe_convert_numeric\u001b[1;34m()\u001b[0m\n",
      "\u001b[1;31mValueError\u001b[0m: Unable to parse string \"Hargrave\" at position 0"
     ]
    }
   ],
   "source": [
    "df = df.apply(pd.to_numeric)"
   ]
  },
  {
   "cell_type": "code",
   "execution_count": 23,
   "id": "02b18077-7610-42e7-ad6f-7dc0dc540695",
   "metadata": {},
   "outputs": [],
   "source": [
    "import pandas as pd\n",
    "\n",
    "# Creating a DataFrame with mixed object types\n",
    "data = {\n",
    "    'A': [1, 2, 3],                      # Integer column\n",
    "    'B': ['4', '5', '6'],                # Numeric values stored as strings\n",
    "    'C': [7.1, 8.2, '9.3'],              # Mixed float and string\n",
    "    'D': ['apple', 'banana', 'cherry']    # String column\n",
    "}\n",
    "\n",
    "df1 = pd.DataFrame(data)"
   ]
  },
  {
   "cell_type": "code",
   "execution_count": 24,
   "id": "cd1ac927-51d3-4032-84a5-5f201ca314c7",
   "metadata": {},
   "outputs": [
    {
     "name": "stdout",
     "output_type": "stream",
     "text": [
      "A     int64\n",
      "B    object\n",
      "C    object\n",
      "D    object\n",
      "dtype: object\n"
     ]
    }
   ],
   "source": [
    "print(df1.dtypes)"
   ]
  },
  {
   "cell_type": "code",
   "execution_count": 27,
   "id": "03e0b38e-0e40-4381-9651-e1d2d9fb52c2",
   "metadata": {},
   "outputs": [
    {
     "ename": "AttributeError",
     "evalue": "'function' object has no attribute 'infer_objects'",
     "output_type": "error",
     "traceback": [
      "\u001b[1;31m---------------------------------------------------------------------------\u001b[0m",
      "\u001b[1;31mAttributeError\u001b[0m                            Traceback (most recent call last)",
      "Cell \u001b[1;32mIn[27], line 1\u001b[0m\n\u001b[1;32m----> 1\u001b[0m df1 \u001b[38;5;241m=\u001b[39m \u001b[43mdf1\u001b[49m\u001b[38;5;241;43m.\u001b[39;49m\u001b[43minfer_objects\u001b[49m()\n",
      "\u001b[1;31mAttributeError\u001b[0m: 'function' object has no attribute 'infer_objects'"
     ]
    }
   ],
   "source": [
    "df1 = df1.infer_objects()"
   ]
  },
  {
   "cell_type": "code",
   "execution_count": 26,
   "id": "30dbbcd4-5a9f-4782-beb1-5a981cbe9564",
   "metadata": {},
   "outputs": [
    {
     "ename": "AttributeError",
     "evalue": "'function' object has no attribute 'dtypes'",
     "output_type": "error",
     "traceback": [
      "\u001b[1;31m---------------------------------------------------------------------------\u001b[0m",
      "\u001b[1;31mAttributeError\u001b[0m                            Traceback (most recent call last)",
      "Cell \u001b[1;32mIn[26], line 1\u001b[0m\n\u001b[1;32m----> 1\u001b[0m \u001b[38;5;28mprint\u001b[39m(\u001b[43mdf1\u001b[49m\u001b[38;5;241;43m.\u001b[39;49m\u001b[43mdtypes\u001b[49m)\n",
      "\u001b[1;31mAttributeError\u001b[0m: 'function' object has no attribute 'dtypes'"
     ]
    }
   ],
   "source": [
    "print(df1.dtypes)"
   ]
  },
  {
   "cell_type": "code",
   "execution_count": 28,
   "id": "2dc10fe3-59ae-457a-860b-61aab7b921ca",
   "metadata": {},
   "outputs": [],
   "source": [
    "import pandas as pd\n",
    "\n",
    "# Creating a DataFrame with mixed object types\n",
    "data = {\n",
    "    'A': [1, 2, 3],                      # Integer column\n",
    "    'B': ['4', '5', '6'],                # Numeric values stored as strings\n",
    "    'C': [7.1, 8.2, '9.3'],              # Mixed float and string\n",
    "    'D': ['apple', 'banana', 'cherry']    # String column\n",
    "}\n",
    "\n",
    "df1 = pd.DataFrame(data)"
   ]
  },
  {
   "cell_type": "code",
   "execution_count": 29,
   "id": "9bbf27ee-5e7c-4ff6-a488-a3a6b4037171",
   "metadata": {},
   "outputs": [
    {
     "name": "stdout",
     "output_type": "stream",
     "text": [
      "A     int64\n",
      "B    object\n",
      "C    object\n",
      "D    object\n",
      "dtype: object\n"
     ]
    }
   ],
   "source": [
    "print(df1.dtypes)"
   ]
  },
  {
   "cell_type": "code",
   "execution_count": 30,
   "id": "b6d81427-9881-4f78-bea6-a6cb57be11b8",
   "metadata": {},
   "outputs": [],
   "source": [
    "df1 = df1.infer_objects()"
   ]
  },
  {
   "cell_type": "code",
   "execution_count": 31,
   "id": "a5a9b6e0-a2e4-407a-a2cb-3deabc01c71f",
   "metadata": {},
   "outputs": [
    {
     "name": "stdout",
     "output_type": "stream",
     "text": [
      "A     int64\n",
      "B    object\n",
      "C    object\n",
      "D    object\n",
      "dtype: object\n"
     ]
    }
   ],
   "source": [
    "print(df1.dtypes)"
   ]
  },
  {
   "cell_type": "code",
   "execution_count": 32,
   "id": "38c9e727-ba76-4b55-b6e9-ba247e61e0e7",
   "metadata": {},
   "outputs": [
    {
     "name": "stdout",
     "output_type": "stream",
     "text": [
      "A     int64\n",
      "B    object\n",
      "C    object\n",
      "D    object\n",
      "dtype: object\n"
     ]
    }
   ],
   "source": [
    "print(df1.dtypes)"
   ]
  },
  {
   "cell_type": "code",
   "execution_count": 34,
   "id": "87a64aaa-0eb0-45b8-a791-5b4fbebc6d43",
   "metadata": {},
   "outputs": [],
   "source": [
    "df1 = df1.astype('string')"
   ]
  },
  {
   "cell_type": "raw",
   "id": "472b8cd4-7c68-429b-b43d-23dee31a5079",
   "metadata": {},
   "source": [
    "print(df1)"
   ]
  },
  {
   "cell_type": "code",
   "execution_count": 35,
   "id": "43693a46-063d-445a-b456-4b308dee59bf",
   "metadata": {},
   "outputs": [
    {
     "name": "stdout",
     "output_type": "stream",
     "text": [
      "A    string[python]\n",
      "B    string[python]\n",
      "C    string[python]\n",
      "D    string[python]\n",
      "dtype: object\n"
     ]
    }
   ],
   "source": [
    "print(df1.dtypes)"
   ]
  },
  {
   "cell_type": "code",
   "execution_count": 36,
   "id": "e5453b00-b4ce-4423-8582-1279fbf9a83e",
   "metadata": {},
   "outputs": [],
   "source": [
    "df1 = df1.infer_objects()"
   ]
  },
  {
   "cell_type": "code",
   "execution_count": 37,
   "id": "ec98acf3-3327-4b32-98b0-82bed5e0faa2",
   "metadata": {},
   "outputs": [
    {
     "name": "stdout",
     "output_type": "stream",
     "text": [
      "A    string[python]\n",
      "B    string[python]\n",
      "C    string[python]\n",
      "D    string[python]\n",
      "dtype: object\n"
     ]
    }
   ],
   "source": [
    "print(df1.dtypes)"
   ]
  },
  {
   "cell_type": "code",
   "execution_count": 38,
   "id": "595dcd58-8459-447f-a944-a4290d243570",
   "metadata": {},
   "outputs": [],
   "source": [
    "df1 = df1.astype('object')"
   ]
  },
  {
   "cell_type": "code",
   "execution_count": 39,
   "id": "90a58e63-f0b2-441e-becd-479e8a4173e8",
   "metadata": {},
   "outputs": [
    {
     "name": "stdout",
     "output_type": "stream",
     "text": [
      "A    object\n",
      "B    object\n",
      "C    object\n",
      "D    object\n",
      "dtype: object\n"
     ]
    }
   ],
   "source": [
    "print(df1.dtypes)"
   ]
  },
  {
   "cell_type": "code",
   "execution_count": 40,
   "id": "73c91300-bc58-4bf2-a321-1dd5c64a261e",
   "metadata": {},
   "outputs": [],
   "source": [
    "df1 = df1.infer_objects()"
   ]
  },
  {
   "cell_type": "code",
   "execution_count": 41,
   "id": "ba908edd-9043-469b-b9c4-a27dfaa5effb",
   "metadata": {},
   "outputs": [
    {
     "name": "stdout",
     "output_type": "stream",
     "text": [
      "A    object\n",
      "B    object\n",
      "C    object\n",
      "D    object\n",
      "dtype: object\n"
     ]
    }
   ],
   "source": [
    "print(df1.dtypes\n",
    "     )"
   ]
  },
  {
   "cell_type": "code",
   "execution_count": 42,
   "id": "473a2af9-9376-4fa7-a457-eff72d823258",
   "metadata": {},
   "outputs": [
    {
     "name": "stdout",
     "output_type": "stream",
     "text": [
      "15000.0\n"
     ]
    }
   ],
   "source": [
    "print((50*15000)/50)"
   ]
  },
  {
   "cell_type": "code",
   "execution_count": 43,
   "id": "4a89e8e4-7fc5-4803-8790-ddec49f9ac6b",
   "metadata": {},
   "outputs": [
    {
     "name": "stdout",
     "output_type": "stream",
     "text": [
      "16666.666666666668\n"
     ]
    }
   ],
   "source": [
    "print(((50*15000)+100000)/51)"
   ]
  },
  {
   "cell_type": "code",
   "execution_count": 44,
   "id": "f17c1430-a8a9-4419-b79e-e48a475293c4",
   "metadata": {},
   "outputs": [
    {
     "name": "stdout",
     "output_type": "stream",
     "text": [
      "    CustomerId      Name  CreditScore  Country  Gender  Age  Tenure  \\\n",
      "0     15634602  Hargrave          619   France  Female   42       2   \n",
      "1     15634602  Hargrave          619   France  Female   42       2   \n",
      "2     15634602      Onio          502   France  Female   42       8   \n",
      "3     15634602      Onio          502   France  Female   42       8   \n",
      "4     15737888  Mitchell          850    Spain  Female   43       2   \n",
      "5     15574012       Chu          645    Spain    Male   44       8   \n",
      "6     15574012  Bartlett          822   France    Male   50       7   \n",
      "7     15574012  Bartlett          376  Germany  Female   29       4   \n",
      "8     15574012  Bartlett          501   France    Male   44       4   \n",
      "9     15574012  Bartlett          684   France    Male   27       2   \n",
      "10    15574012  Bartlett          528   France    Male   31       6   \n",
      "11    15737173   Andrews          528    Spain    Male   24       3   \n",
      "12    15737173   Andrews          528    Spain    Male   24       3   \n",
      "13    15737173   Andrews          528    Spain    Male   24       3   \n",
      "\n",
      "      Balance  NumOfProducts     Salary       Date   Dep  \n",
      "0        0.00              1  101348.88 2023-01-01  Bank  \n",
      "1        0.00              1  101348.88 2023-01-02  Bank  \n",
      "2   159660.80              3  112542.58 2023-01-03  Bank  \n",
      "3   159660.80              3  112542.58 2023-01-04  Bank  \n",
      "4   125510.82              1   79084.10 2023-01-05  Bank  \n",
      "5   113755.78              2  149756.71 2023-01-06  Bank  \n",
      "6        0.00              2        NaN 2023-01-07  Bank  \n",
      "7   115046.74              4  119346.88 2023-01-08  Bank  \n",
      "8   142051.07              2   74940.50 2023-01-09  Bank  \n",
      "9   142051.07              1   71725.73 2023-01-10  Bank  \n",
      "10  142051.07              2        NaN 2023-01-11  Bank  \n",
      "11  142051.07              2   76390.01 2023-01-12  Bank  \n",
      "12  142051.07              2   76390.01 2023-01-13  Bank  \n",
      "13  142051.07              2   76390.01 2023-01-14  Bank  \n"
     ]
    }
   ],
   "source": [
    "print(df)"
   ]
  },
  {
   "cell_type": "code",
   "execution_count": 51,
   "id": "544206a1-a175-47ca-8f7d-0e87a947a93f",
   "metadata": {},
   "outputs": [
    {
     "name": "stdout",
     "output_type": "stream",
     "text": [
      "71725.73\n"
     ]
    }
   ],
   "source": [
    "print(df['Salary'].min())\n",
    "      "
   ]
  },
  {
   "cell_type": "code",
   "execution_count": 46,
   "id": "5c33cf61-4e05-485e-8105-ed27e21ea2df",
   "metadata": {},
   "outputs": [
    {
     "name": "stdout",
     "output_type": "stream",
     "text": [
      "float64\n"
     ]
    }
   ],
   "source": [
    "print(df['Salary'].dtypes)"
   ]
  },
  {
   "cell_type": "code",
   "execution_count": 49,
   "id": "e0b02922-fb68-43ae-ab96-094b982a7a4c",
   "metadata": {},
   "outputs": [
    {
     "ename": "IntCastingNaNError",
     "evalue": "Cannot convert non-finite values (NA or inf) to integer",
     "output_type": "error",
     "traceback": [
      "\u001b[1;31m---------------------------------------------------------------------------\u001b[0m",
      "\u001b[1;31mIntCastingNaNError\u001b[0m                        Traceback (most recent call last)",
      "Cell \u001b[1;32mIn[49], line 1\u001b[0m\n\u001b[1;32m----> 1\u001b[0m df[\u001b[38;5;124m'\u001b[39m\u001b[38;5;124mSalary\u001b[39m\u001b[38;5;124m'\u001b[39m] \u001b[38;5;241m=\u001b[39m \u001b[43mdf\u001b[49m\u001b[43m[\u001b[49m\u001b[38;5;124;43m'\u001b[39;49m\u001b[38;5;124;43mSalary\u001b[39;49m\u001b[38;5;124;43m'\u001b[39;49m\u001b[43m]\u001b[49m\u001b[38;5;241;43m.\u001b[39;49m\u001b[43mastype\u001b[49m\u001b[43m(\u001b[49m\u001b[38;5;28;43mint\u001b[39;49m\u001b[43m)\u001b[49m\n",
      "File \u001b[1;32m~\\AppData\\Local\\Programs\\Python\\Python313\\Lib\\site-packages\\pandas\\core\\generic.py:6643\u001b[0m, in \u001b[0;36mNDFrame.astype\u001b[1;34m(self, dtype, copy, errors)\u001b[0m\n\u001b[0;32m   6637\u001b[0m     results \u001b[38;5;241m=\u001b[39m [\n\u001b[0;32m   6638\u001b[0m         ser\u001b[38;5;241m.\u001b[39mastype(dtype, copy\u001b[38;5;241m=\u001b[39mcopy, errors\u001b[38;5;241m=\u001b[39merrors) \u001b[38;5;28;01mfor\u001b[39;00m _, ser \u001b[38;5;129;01min\u001b[39;00m \u001b[38;5;28mself\u001b[39m\u001b[38;5;241m.\u001b[39mitems()\n\u001b[0;32m   6639\u001b[0m     ]\n\u001b[0;32m   6641\u001b[0m \u001b[38;5;28;01melse\u001b[39;00m:\n\u001b[0;32m   6642\u001b[0m     \u001b[38;5;66;03m# else, only a single dtype is given\u001b[39;00m\n\u001b[1;32m-> 6643\u001b[0m     new_data \u001b[38;5;241m=\u001b[39m \u001b[38;5;28;43mself\u001b[39;49m\u001b[38;5;241;43m.\u001b[39;49m\u001b[43m_mgr\u001b[49m\u001b[38;5;241;43m.\u001b[39;49m\u001b[43mastype\u001b[49m\u001b[43m(\u001b[49m\u001b[43mdtype\u001b[49m\u001b[38;5;241;43m=\u001b[39;49m\u001b[43mdtype\u001b[49m\u001b[43m,\u001b[49m\u001b[43m \u001b[49m\u001b[43mcopy\u001b[49m\u001b[38;5;241;43m=\u001b[39;49m\u001b[43mcopy\u001b[49m\u001b[43m,\u001b[49m\u001b[43m \u001b[49m\u001b[43merrors\u001b[49m\u001b[38;5;241;43m=\u001b[39;49m\u001b[43merrors\u001b[49m\u001b[43m)\u001b[49m\n\u001b[0;32m   6644\u001b[0m     res \u001b[38;5;241m=\u001b[39m \u001b[38;5;28mself\u001b[39m\u001b[38;5;241m.\u001b[39m_constructor_from_mgr(new_data, axes\u001b[38;5;241m=\u001b[39mnew_data\u001b[38;5;241m.\u001b[39maxes)\n\u001b[0;32m   6645\u001b[0m     \u001b[38;5;28;01mreturn\u001b[39;00m res\u001b[38;5;241m.\u001b[39m__finalize__(\u001b[38;5;28mself\u001b[39m, method\u001b[38;5;241m=\u001b[39m\u001b[38;5;124m\"\u001b[39m\u001b[38;5;124mastype\u001b[39m\u001b[38;5;124m\"\u001b[39m)\n",
      "File \u001b[1;32m~\\AppData\\Local\\Programs\\Python\\Python313\\Lib\\site-packages\\pandas\\core\\internals\\managers.py:430\u001b[0m, in \u001b[0;36mBaseBlockManager.astype\u001b[1;34m(self, dtype, copy, errors)\u001b[0m\n\u001b[0;32m    427\u001b[0m \u001b[38;5;28;01melif\u001b[39;00m using_copy_on_write():\n\u001b[0;32m    428\u001b[0m     copy \u001b[38;5;241m=\u001b[39m \u001b[38;5;28;01mFalse\u001b[39;00m\n\u001b[1;32m--> 430\u001b[0m \u001b[38;5;28;01mreturn\u001b[39;00m \u001b[38;5;28;43mself\u001b[39;49m\u001b[38;5;241;43m.\u001b[39;49m\u001b[43mapply\u001b[49m\u001b[43m(\u001b[49m\n\u001b[0;32m    431\u001b[0m \u001b[43m    \u001b[49m\u001b[38;5;124;43m\"\u001b[39;49m\u001b[38;5;124;43mastype\u001b[39;49m\u001b[38;5;124;43m\"\u001b[39;49m\u001b[43m,\u001b[49m\n\u001b[0;32m    432\u001b[0m \u001b[43m    \u001b[49m\u001b[43mdtype\u001b[49m\u001b[38;5;241;43m=\u001b[39;49m\u001b[43mdtype\u001b[49m\u001b[43m,\u001b[49m\n\u001b[0;32m    433\u001b[0m \u001b[43m    \u001b[49m\u001b[43mcopy\u001b[49m\u001b[38;5;241;43m=\u001b[39;49m\u001b[43mcopy\u001b[49m\u001b[43m,\u001b[49m\n\u001b[0;32m    434\u001b[0m \u001b[43m    \u001b[49m\u001b[43merrors\u001b[49m\u001b[38;5;241;43m=\u001b[39;49m\u001b[43merrors\u001b[49m\u001b[43m,\u001b[49m\n\u001b[0;32m    435\u001b[0m \u001b[43m    \u001b[49m\u001b[43musing_cow\u001b[49m\u001b[38;5;241;43m=\u001b[39;49m\u001b[43musing_copy_on_write\u001b[49m\u001b[43m(\u001b[49m\u001b[43m)\u001b[49m\u001b[43m,\u001b[49m\n\u001b[0;32m    436\u001b[0m \u001b[43m\u001b[49m\u001b[43m)\u001b[49m\n",
      "File \u001b[1;32m~\\AppData\\Local\\Programs\\Python\\Python313\\Lib\\site-packages\\pandas\\core\\internals\\managers.py:363\u001b[0m, in \u001b[0;36mBaseBlockManager.apply\u001b[1;34m(self, f, align_keys, **kwargs)\u001b[0m\n\u001b[0;32m    361\u001b[0m         applied \u001b[38;5;241m=\u001b[39m b\u001b[38;5;241m.\u001b[39mapply(f, \u001b[38;5;241m*\u001b[39m\u001b[38;5;241m*\u001b[39mkwargs)\n\u001b[0;32m    362\u001b[0m     \u001b[38;5;28;01melse\u001b[39;00m:\n\u001b[1;32m--> 363\u001b[0m         applied \u001b[38;5;241m=\u001b[39m \u001b[38;5;28;43mgetattr\u001b[39;49m\u001b[43m(\u001b[49m\u001b[43mb\u001b[49m\u001b[43m,\u001b[49m\u001b[43m \u001b[49m\u001b[43mf\u001b[49m\u001b[43m)\u001b[49m\u001b[43m(\u001b[49m\u001b[38;5;241;43m*\u001b[39;49m\u001b[38;5;241;43m*\u001b[39;49m\u001b[43mkwargs\u001b[49m\u001b[43m)\u001b[49m\n\u001b[0;32m    364\u001b[0m     result_blocks \u001b[38;5;241m=\u001b[39m extend_blocks(applied, result_blocks)\n\u001b[0;32m    366\u001b[0m out \u001b[38;5;241m=\u001b[39m \u001b[38;5;28mtype\u001b[39m(\u001b[38;5;28mself\u001b[39m)\u001b[38;5;241m.\u001b[39mfrom_blocks(result_blocks, \u001b[38;5;28mself\u001b[39m\u001b[38;5;241m.\u001b[39maxes)\n",
      "File \u001b[1;32m~\\AppData\\Local\\Programs\\Python\\Python313\\Lib\\site-packages\\pandas\\core\\internals\\blocks.py:758\u001b[0m, in \u001b[0;36mBlock.astype\u001b[1;34m(self, dtype, copy, errors, using_cow, squeeze)\u001b[0m\n\u001b[0;32m    755\u001b[0m         \u001b[38;5;28;01mraise\u001b[39;00m \u001b[38;5;167;01mValueError\u001b[39;00m(\u001b[38;5;124m\"\u001b[39m\u001b[38;5;124mCan not squeeze with more than one column.\u001b[39m\u001b[38;5;124m\"\u001b[39m)\n\u001b[0;32m    756\u001b[0m     values \u001b[38;5;241m=\u001b[39m values[\u001b[38;5;241m0\u001b[39m, :]  \u001b[38;5;66;03m# type: ignore[call-overload]\u001b[39;00m\n\u001b[1;32m--> 758\u001b[0m new_values \u001b[38;5;241m=\u001b[39m \u001b[43mastype_array_safe\u001b[49m\u001b[43m(\u001b[49m\u001b[43mvalues\u001b[49m\u001b[43m,\u001b[49m\u001b[43m \u001b[49m\u001b[43mdtype\u001b[49m\u001b[43m,\u001b[49m\u001b[43m \u001b[49m\u001b[43mcopy\u001b[49m\u001b[38;5;241;43m=\u001b[39;49m\u001b[43mcopy\u001b[49m\u001b[43m,\u001b[49m\u001b[43m \u001b[49m\u001b[43merrors\u001b[49m\u001b[38;5;241;43m=\u001b[39;49m\u001b[43merrors\u001b[49m\u001b[43m)\u001b[49m\n\u001b[0;32m    760\u001b[0m new_values \u001b[38;5;241m=\u001b[39m maybe_coerce_values(new_values)\n\u001b[0;32m    762\u001b[0m refs \u001b[38;5;241m=\u001b[39m \u001b[38;5;28;01mNone\u001b[39;00m\n",
      "File \u001b[1;32m~\\AppData\\Local\\Programs\\Python\\Python313\\Lib\\site-packages\\pandas\\core\\dtypes\\astype.py:237\u001b[0m, in \u001b[0;36mastype_array_safe\u001b[1;34m(values, dtype, copy, errors)\u001b[0m\n\u001b[0;32m    234\u001b[0m     dtype \u001b[38;5;241m=\u001b[39m dtype\u001b[38;5;241m.\u001b[39mnumpy_dtype\n\u001b[0;32m    236\u001b[0m \u001b[38;5;28;01mtry\u001b[39;00m:\n\u001b[1;32m--> 237\u001b[0m     new_values \u001b[38;5;241m=\u001b[39m \u001b[43mastype_array\u001b[49m\u001b[43m(\u001b[49m\u001b[43mvalues\u001b[49m\u001b[43m,\u001b[49m\u001b[43m \u001b[49m\u001b[43mdtype\u001b[49m\u001b[43m,\u001b[49m\u001b[43m \u001b[49m\u001b[43mcopy\u001b[49m\u001b[38;5;241;43m=\u001b[39;49m\u001b[43mcopy\u001b[49m\u001b[43m)\u001b[49m\n\u001b[0;32m    238\u001b[0m \u001b[38;5;28;01mexcept\u001b[39;00m (\u001b[38;5;167;01mValueError\u001b[39;00m, \u001b[38;5;167;01mTypeError\u001b[39;00m):\n\u001b[0;32m    239\u001b[0m     \u001b[38;5;66;03m# e.g. _astype_nansafe can fail on object-dtype of strings\u001b[39;00m\n\u001b[0;32m    240\u001b[0m     \u001b[38;5;66;03m#  trying to convert to float\u001b[39;00m\n\u001b[0;32m    241\u001b[0m     \u001b[38;5;28;01mif\u001b[39;00m errors \u001b[38;5;241m==\u001b[39m \u001b[38;5;124m\"\u001b[39m\u001b[38;5;124mignore\u001b[39m\u001b[38;5;124m\"\u001b[39m:\n",
      "File \u001b[1;32m~\\AppData\\Local\\Programs\\Python\\Python313\\Lib\\site-packages\\pandas\\core\\dtypes\\astype.py:182\u001b[0m, in \u001b[0;36mastype_array\u001b[1;34m(values, dtype, copy)\u001b[0m\n\u001b[0;32m    179\u001b[0m     values \u001b[38;5;241m=\u001b[39m values\u001b[38;5;241m.\u001b[39mastype(dtype, copy\u001b[38;5;241m=\u001b[39mcopy)\n\u001b[0;32m    181\u001b[0m \u001b[38;5;28;01melse\u001b[39;00m:\n\u001b[1;32m--> 182\u001b[0m     values \u001b[38;5;241m=\u001b[39m \u001b[43m_astype_nansafe\u001b[49m\u001b[43m(\u001b[49m\u001b[43mvalues\u001b[49m\u001b[43m,\u001b[49m\u001b[43m \u001b[49m\u001b[43mdtype\u001b[49m\u001b[43m,\u001b[49m\u001b[43m \u001b[49m\u001b[43mcopy\u001b[49m\u001b[38;5;241;43m=\u001b[39;49m\u001b[43mcopy\u001b[49m\u001b[43m)\u001b[49m\n\u001b[0;32m    184\u001b[0m \u001b[38;5;66;03m# in pandas we don't store numpy str dtypes, so convert to object\u001b[39;00m\n\u001b[0;32m    185\u001b[0m \u001b[38;5;28;01mif\u001b[39;00m \u001b[38;5;28misinstance\u001b[39m(dtype, np\u001b[38;5;241m.\u001b[39mdtype) \u001b[38;5;129;01mand\u001b[39;00m \u001b[38;5;28missubclass\u001b[39m(values\u001b[38;5;241m.\u001b[39mdtype\u001b[38;5;241m.\u001b[39mtype, \u001b[38;5;28mstr\u001b[39m):\n",
      "File \u001b[1;32m~\\AppData\\Local\\Programs\\Python\\Python313\\Lib\\site-packages\\pandas\\core\\dtypes\\astype.py:101\u001b[0m, in \u001b[0;36m_astype_nansafe\u001b[1;34m(arr, dtype, copy, skipna)\u001b[0m\n\u001b[0;32m     96\u001b[0m     \u001b[38;5;28;01mreturn\u001b[39;00m lib\u001b[38;5;241m.\u001b[39mensure_string_array(\n\u001b[0;32m     97\u001b[0m         arr, skipna\u001b[38;5;241m=\u001b[39mskipna, convert_na_value\u001b[38;5;241m=\u001b[39m\u001b[38;5;28;01mFalse\u001b[39;00m\n\u001b[0;32m     98\u001b[0m     )\u001b[38;5;241m.\u001b[39mreshape(shape)\n\u001b[0;32m    100\u001b[0m \u001b[38;5;28;01melif\u001b[39;00m np\u001b[38;5;241m.\u001b[39missubdtype(arr\u001b[38;5;241m.\u001b[39mdtype, np\u001b[38;5;241m.\u001b[39mfloating) \u001b[38;5;129;01mand\u001b[39;00m dtype\u001b[38;5;241m.\u001b[39mkind \u001b[38;5;129;01min\u001b[39;00m \u001b[38;5;124m\"\u001b[39m\u001b[38;5;124miu\u001b[39m\u001b[38;5;124m\"\u001b[39m:\n\u001b[1;32m--> 101\u001b[0m     \u001b[38;5;28;01mreturn\u001b[39;00m \u001b[43m_astype_float_to_int_nansafe\u001b[49m\u001b[43m(\u001b[49m\u001b[43marr\u001b[49m\u001b[43m,\u001b[49m\u001b[43m \u001b[49m\u001b[43mdtype\u001b[49m\u001b[43m,\u001b[49m\u001b[43m \u001b[49m\u001b[43mcopy\u001b[49m\u001b[43m)\u001b[49m\n\u001b[0;32m    103\u001b[0m \u001b[38;5;28;01melif\u001b[39;00m arr\u001b[38;5;241m.\u001b[39mdtype \u001b[38;5;241m==\u001b[39m \u001b[38;5;28mobject\u001b[39m:\n\u001b[0;32m    104\u001b[0m     \u001b[38;5;66;03m# if we have a datetime/timedelta array of objects\u001b[39;00m\n\u001b[0;32m    105\u001b[0m     \u001b[38;5;66;03m# then coerce to datetime64[ns] and use DatetimeArray.astype\u001b[39;00m\n\u001b[0;32m    107\u001b[0m     \u001b[38;5;28;01mif\u001b[39;00m lib\u001b[38;5;241m.\u001b[39mis_np_dtype(dtype, \u001b[38;5;124m\"\u001b[39m\u001b[38;5;124mM\u001b[39m\u001b[38;5;124m\"\u001b[39m):\n",
      "File \u001b[1;32m~\\AppData\\Local\\Programs\\Python\\Python313\\Lib\\site-packages\\pandas\\core\\dtypes\\astype.py:145\u001b[0m, in \u001b[0;36m_astype_float_to_int_nansafe\u001b[1;34m(values, dtype, copy)\u001b[0m\n\u001b[0;32m    141\u001b[0m \u001b[38;5;250m\u001b[39m\u001b[38;5;124;03m\"\"\"\u001b[39;00m\n\u001b[0;32m    142\u001b[0m \u001b[38;5;124;03mastype with a check preventing converting NaN to an meaningless integer value.\u001b[39;00m\n\u001b[0;32m    143\u001b[0m \u001b[38;5;124;03m\"\"\"\u001b[39;00m\n\u001b[0;32m    144\u001b[0m \u001b[38;5;28;01mif\u001b[39;00m \u001b[38;5;129;01mnot\u001b[39;00m np\u001b[38;5;241m.\u001b[39misfinite(values)\u001b[38;5;241m.\u001b[39mall():\n\u001b[1;32m--> 145\u001b[0m     \u001b[38;5;28;01mraise\u001b[39;00m IntCastingNaNError(\n\u001b[0;32m    146\u001b[0m         \u001b[38;5;124m\"\u001b[39m\u001b[38;5;124mCannot convert non-finite values (NA or inf) to integer\u001b[39m\u001b[38;5;124m\"\u001b[39m\n\u001b[0;32m    147\u001b[0m     )\n\u001b[0;32m    148\u001b[0m \u001b[38;5;28;01mif\u001b[39;00m dtype\u001b[38;5;241m.\u001b[39mkind \u001b[38;5;241m==\u001b[39m \u001b[38;5;124m\"\u001b[39m\u001b[38;5;124mu\u001b[39m\u001b[38;5;124m\"\u001b[39m:\n\u001b[0;32m    149\u001b[0m     \u001b[38;5;66;03m# GH#45151\u001b[39;00m\n\u001b[0;32m    150\u001b[0m     \u001b[38;5;28;01mif\u001b[39;00m \u001b[38;5;129;01mnot\u001b[39;00m (values \u001b[38;5;241m>\u001b[39m\u001b[38;5;241m=\u001b[39m \u001b[38;5;241m0\u001b[39m)\u001b[38;5;241m.\u001b[39mall():\n",
      "\u001b[1;31mIntCastingNaNError\u001b[0m: Cannot convert non-finite values (NA or inf) to integer"
     ]
    }
   ],
   "source": [
    "df['Salary'] = df['Salary'].astype(int)"
   ]
  },
  {
   "cell_type": "code",
   "execution_count": 53,
   "id": "c5157517-9f58-435d-9a2e-a47e25b2250e",
   "metadata": {},
   "outputs": [
    {
     "name": "stdout",
     "output_type": "stream",
     "text": [
      "       Unnamed: 0       Name  CreditScore  Country  Gender   Age  Tenure  \\\n",
      "0      15634602.0   Hargrave          619   France  Female  42.0     2.0   \n",
      "1      15634602.0   Hargrave          619   France  Female  42.0     2.0   \n",
      "2      15634602.0       Onio          502   France  Female  42.0     8.0   \n",
      "3      15634602.0       Onio          502   France  Female  42.0     8.0   \n",
      "4      15737888.0   Mitchell          850    Spain  Female  43.0     2.0   \n",
      "...           ...        ...          ...      ...     ...   ...     ...   \n",
      "9996   15569892.0  Johnstone          516   France    Male  35.0    10.0   \n",
      "9997   15569892.0  Johnstone          516   France    Male  35.0    10.0   \n",
      "9998   15682355.0  Sabbatini          772  Germany    Male  42.0     3.0   \n",
      "9999   15628319.0     Walker          792   France  Female  28.0     4.0   \n",
      "10000         NaN        NaN      6505288      NaN     NaN   NaN     NaN   \n",
      "\n",
      "         Balance  NumOfProducts     Salary        Date  \n",
      "0           0.00            1.0  101348.88  01-01-2023  \n",
      "1           0.00            1.0  101348.88  02-01-2023  \n",
      "2      159660.80            3.0  112542.58  03-01-2023  \n",
      "3      159660.80            3.0  112542.58  04-01-2023  \n",
      "4      125510.82            1.0   79084.10  05-01-2023  \n",
      "...          ...            ...        ...         ...  \n",
      "9996    57369.61            1.0  101699.77         NaN  \n",
      "9997    57369.61            1.0  101699.77         NaN  \n",
      "9998    75075.31            2.0   92888.52         NaN  \n",
      "9999   130142.79            1.0   38190.78         NaN  \n",
      "10000        NaN            NaN        NaN         NaN  \n",
      "\n",
      "[10001 rows x 11 columns]\n"
     ]
    }
   ],
   "source": [
    "import pandas as pd\n",
    "file_path = \"C:/Users/Sivaraman/Desktop/study/data analytics/Data (for practice)/bank_details_1.csv\"\n",
    "df = pd.read_csv(file_path)\n",
    "print(df)"
   ]
  },
  {
   "cell_type": "code",
   "execution_count": 54,
   "id": "f56705c8-8b0e-4594-ae08-916418d1549e",
   "metadata": {},
   "outputs": [
    {
     "data": {
      "text/plain": [
       "np.float64(96878.42000000001)"
      ]
     },
     "execution_count": 54,
     "metadata": {},
     "output_type": "execute_result"
    }
   ],
   "source": [
    "df['Salary'].median()"
   ]
  },
  {
   "cell_type": "code",
   "execution_count": 56,
   "id": "667f075e-f7d3-4713-bac0-daf144a684cb",
   "metadata": {},
   "outputs": [
    {
     "data": {
      "image/png": "[encoded data removed]",
      "text/plain": [
       "<Figure size 600x400 with 1 Axes>"
      ]
     },
     "metadata": {},
     "output_type": "display_data"
    }
   ],
   "source": [
    "import numpy as np\n",
    "import pandas as pd\n",
    "import seaborn as sns\n",
    "import matplotlib.pyplot as plt\n",
    "\n",
    "# Sample salary data (in ₹)\n",
    "salaries = [25000, 27000, 30000, 32000, 35000, 40000, 45000, 50000, 55000, 60000, 500000]  # 500000 is an outlier\n",
    "\n",
    "# Convert to DataFrame\n",
    "df = pd.DataFrame(salaries, columns=['Salary'])\n",
    "\n",
    "# Boxplot to visualize outliers\n",
    "plt.figure(figsize=(6, 4))\n",
    "sns.boxplot(data=df, y='Salary')\n",
    "plt.title(\"Salary Distribution with Outliers\")\n",
    "plt.show()\n"
   ]
  },
  {
   "cell_type": "code",
   "execution_count": 57,
   "id": "5324fda3-5877-4bb7-ae41-b3743e17ab99",
   "metadata": {},
   "outputs": [
    {
     "data": {
      "text/plain": [
       "np.float64(81727.27272727272)"
      ]
     },
     "execution_count": 57,
     "metadata": {},
     "output_type": "execute_result"
    }
   ],
   "source": [
    "df['Salary'].mean()"
   ]
  },
  {
   "cell_type": "code",
   "execution_count": 58,
   "id": "ae8a6331-d0b8-45e7-a8b4-dd93adffc46b",
   "metadata": {},
   "outputs": [
    {
     "data": {
      "text/plain": [
       "np.int64(500000)"
      ]
     },
     "execution_count": 58,
     "metadata": {},
     "output_type": "execute_result"
    }
   ],
   "source": [
    "df['Salary'].max()"
   ]
  },
  {
   "cell_type": "code",
   "execution_count": 59,
   "id": "cef2d74d-e13a-4c37-88a2-d3943c36cde4",
   "metadata": {},
   "outputs": [
    {
     "data": {
      "text/plain": [
       "np.int64(25000)"
      ]
     },
     "execution_count": 59,
     "metadata": {},
     "output_type": "execute_result"
    }
   ],
   "source": [
    "df['Salary'].min()"
   ]
  },
  {
   "cell_type": "code",
   "execution_count": 62,
   "id": "82305264-9e0e-428f-9daf-46f4496d204e",
   "metadata": {},
   "outputs": [
    {
     "data": {
      "text/plain": [
       "np.float64(40000.0)"
      ]
     },
     "execution_count": 62,
     "metadata": {},
     "output_type": "execute_result"
    }
   ],
   "source": [
    "df['Salary'].median()"
   ]
  },
  {
   "cell_type": "code",
   "execution_count": null,
   "id": "993e5127-a890-4b43-bf72-f01f1ab9f84d",
   "metadata": {},
   "outputs": [],
   "source": []
  }
 ],
 "metadata": {
  "kernelspec": {
   "display_name": "Python 3 (ipykernel)",
   "language": "python",
   "name": "python3"
  },
  "language_info": {
   "codemirror_mode": {
    "name": "ipython",
    "version": 3
   },
   "file_extension": ".py",
   "mimetype": "text/x-python",
   "name": "python",
   "nbconvert_exporter": "python",
   "pygments_lexer": "ipython3",
   "version": "3.13.0"
  }
 },
 "nbformat": 4,
 "nbformat_minor": 5
}
