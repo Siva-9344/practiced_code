{
 "cells": [
  {
   "cell_type": "code",
   "execution_count": 2,
   "id": "644096d7-5a2c-4a70-b7ea-c19b902abd3e",
   "metadata": {},
   "outputs": [
    {
     "name": "stdout",
     "output_type": "stream",
     "text": [
      "      Name\n",
      "0    alice\n",
      "1      bob\n",
      "2  charlie\n",
      "\n",
      "      Name\n",
      "0    ALICE\n",
      "1      BOB\n",
      "2  CHARLIE\n"
     ]
    }
   ],
   "source": [
    "#  Apply Custom Function on a Column\n",
    "# Use Case: Convert names to uppercase.\n",
    "\n",
    "import pandas as pd\n",
    "\n",
    "df = pd.DataFrame({'Name': ['alice', 'bob', 'charlie']})\n",
    "print(df)\n",
    "print()\n",
    "\n",
    "def to_upper(name):\n",
    "    return name.upper()\n",
    "df['Name']  = df['Name'].apply(to_upper)    \n",
    "print(df)"
   ]
  },
  {
   "cell_type": "code",
   "execution_count": 7,
   "id": "7f394e8b-a257-40d4-bd2a-104a5e0b57ae",
   "metadata": {},
   "outputs": [
    {
     "name": "stdout",
     "output_type": "stream",
     "text": [
      "  First   Last\n",
      "0  John    Doe\n",
      "1  Jane  Smith\n",
      "\n",
      "  First   Last   Full_Name\n",
      "0  John    Doe    John Doe\n",
      "1  Jane  Smith  Jane Smith\n"
     ]
    }
   ],
   "source": [
    "''' 📌 2. Apply Custom Function on Multiple Columns (Row-wise)\n",
    "Use Case: Calculate Full Name\n",
    "'''\n",
    "\n",
    "df = pd.DataFrame({\n",
    "    'First': ['John', 'Jane'],\n",
    "    'Last': ['Doe', 'Smith']\n",
    "})\n",
    "print(df)\n",
    "print()\n",
    "\n",
    "def full_name(row):\n",
    "    return row['First']+' '+ row['Last']\n",
    "df['Full_Name'] = df.apply(full_name, axis = 1)\n",
    "print(df)\n",
    "\n"
   ]
  },
  {
   "cell_type": "code",
   "execution_count": 11,
   "id": "15456827-0d4d-47dc-8b1f-349cb7fdb87a",
   "metadata": {},
   "outputs": [
    {
     "name": "stdout",
     "output_type": "stream",
     "text": [
      "  Name  Score\n",
      "0    A     45\n",
      "1    B     80\n",
      "2    C     60\n",
      "\n",
      "  Name  Score Pass_Fail\n",
      "0    A     45      Fail\n",
      "1    B     80      Pass\n",
      "2    C     60      Pass\n"
     ]
    }
   ],
   "source": [
    "'''\n",
    "📌 3. Categorize Based on Values\n",
    "Use Case: Label score into Pass/Fail\n",
    "'''\n",
    "df = pd.DataFrame({'Name': ['A', 'B', 'C'], 'Score': [45, 80, 60]})\n",
    "print(df)\n",
    "print()\n",
    "\n",
    "def pass_fail(check):\n",
    "    return 'Pass' if check> 50 else 'Fail'\n",
    "df['Pass_Fail'] = df['Score'].apply(pass_fail)\n",
    "print(df)"
   ]
  },
  {
   "cell_type": "code",
   "execution_count": 18,
   "id": "62d12132-7404-4d04-b717-399488ac329a",
   "metadata": {},
   "outputs": [
    {
     "name": "stdout",
     "output_type": "stream",
     "text": [
      "  Employee   Dept  Salary\n",
      "0      Tom  Sales   50000\n",
      "1    Jerry     HR   45000\n",
      "2   Mickey  Sales   55000\n",
      "\n",
      "  Employee   Dept  Salary  New_Salary\n",
      "0      Tom  Sales   50000       52000\n",
      "1    Jerry     HR   45000       45000\n",
      "2   Mickey  Sales   55000       57000\n"
     ]
    }
   ],
   "source": [
    "'''\n",
    "📌 4. Apply Function with Condition Based on Another Column\n",
    "Use Case: Add bonus only if department is ‘Sales’\n",
    "'''\n",
    "df = pd.DataFrame({\n",
    "    'Employee': ['Tom', 'Jerry', 'Mickey'],\n",
    "    'Dept': ['Sales', 'HR', 'Sales'],\n",
    "    'Salary': [50000, 45000, 55000]\n",
    "})\n",
    "print(df)\n",
    "print()\n",
    "\n",
    "def add_bonus(row):\n",
    "    if row['Dept'] == 'Sales':\n",
    "        return row['Salary']+2000\n",
    "    return row['Salary']\n",
    "\n",
    "df['New_Salary'] = df.apply(add_bonus, axis = 1)\n",
    "print(df)\n",
    "\n",
    "\n",
    "    \n",
    "  "
   ]
  },
  {
   "cell_type": "code",
   "execution_count": 21,
   "id": "81c29777-02a3-4b53-9fb1-6077b2a96992",
   "metadata": {},
   "outputs": [
    {
     "name": "stdout",
     "output_type": "stream",
     "text": [
      "   Numbers  Squared\n",
      "0        2        4\n",
      "1        3        9\n",
      "2        4       16\n"
     ]
    }
   ],
   "source": [
    "''' Use Lambda with apply() (Quick Custom Logic)\n",
    "Use Case: Square the values'''\n",
    "\n",
    "df = pd.DataFrame({'Numbers': [2, 3, 4]})\n",
    "df['Squared'] = df['Numbers'].apply(lambda x: x**2)\n",
    "print(df)"
   ]
  },
  {
   "cell_type": "code",
   "execution_count": 25,
   "id": "1102b13c-c43c-4b46-993e-29ec35eaa374",
   "metadata": {},
   "outputs": [
    {
     "name": "stdout",
     "output_type": "stream",
     "text": [
      "        Date  Weekday\n",
      "0 2024-01-01   Monday\n",
      "1 2024-01-02  Tuesday\n"
     ]
    }
   ],
   "source": [
    "'''\n",
    " Datetime Column Transformation\n",
    "Use Case: Extract weekday from date\n",
    "'''\n",
    "df = pd.DataFrame({'Date': pd.to_datetime(['2024-01-01', '2024-01-02'])})\n",
    "df['Weekday'] = df['Date'].apply(lambda x: x.strftime('%A'))\n",
    "print(df)\n",
    "\n",
    "#df['Weekday'] = df['Date'].apply(lambda x: x.strftime('%A'))\n"
   ]
  },
  {
   "cell_type": "code",
   "execution_count": null,
   "id": "53cd13cb-bdf5-4106-957a-e285da765d24",
   "metadata": {},
   "outputs": [],
   "source": [
    "# you need to practice these all things\n",
    "'''\n",
    "Code | Meaning | Example\n",
    "%d | Day of the month (01–31) | 18\n",
    "%m | Month (01–12) | 04\n",
    "%b | Month name (short) | Apr\n",
    "%B | Month name (full) | April\n",
    "%y | Year (2 digits) | 25\n",
    "%Y | Year (4 digits) | 2025\n",
    "%a | Weekday name (short) | Fri\n",
    "%A | Weekday name (full) | Friday\n",
    "%w | Weekday as number (0=Sun) | 5\n",
    "%j | Day of the year (001–366) | 108\n",
    "\n",
    "Code | Meaning | Example\n",
    "%H | Hour (24-hour clock) | 14\n",
    "%I | Hour (12-hour clock) | 02\n",
    "%p | AM or PM | PM\n",
    "%M | Minute | 45\n",
    "%S | Second | 30\n",
    "\n",
    "\n",
    "Code | Meaning | Example\n",
    "%c | Full date & time | Fri Apr 18 14:45:30 2025\n",
    "%x | Date (local format) | 04/18/25\n",
    "%X | Time (local format) | 14:45:30\n",
    "'''"
   ]
  }
 ],
 "metadata": {
  "kernelspec": {
   "display_name": "Python 3 (ipykernel)",
   "language": "python",
   "name": "python3"
  },
  "language_info": {
   "codemirror_mode": {
    "name": "ipython",
    "version": 3
   },
   "file_extension": ".py",
   "mimetype": "text/x-python",
   "name": "python",
   "nbconvert_exporter": "python",
   "pygments_lexer": "ipython3",
   "version": "3.13.0"
  }
 },
 "nbformat": 4,
 "nbformat_minor": 5
}
