{
 "cells": [
  {
   "cell_type": "code",
   "execution_count": 2,
   "id": "111c89e6-216b-4f21-890c-8138e2018c17",
   "metadata": {},
   "outputs": [
    {
     "name": "stdout",
     "output_type": "stream",
     "text": [
      "<class 'numpy.ndarray'>\n",
      "[[1 2 3]\n",
      " [4 5 6]]\n"
     ]
    }
   ],
   "source": [
    "# creating array\n",
    "# 1d array\n",
    "\n",
    "import numpy as np\n",
    "\n",
    "arr = np.array([1,2,3,4,5])\n",
    "print(type(arr))\n",
    "\n",
    "# 2D Array (Matrix)\n",
    "arr2 = np.array([[1,2,3],[4,5,6]])\n",
    "print(arr2)\n"
   ]
  },
  {
   "cell_type": "code",
   "execution_count": 5,
   "id": "3195d0d4-584e-46e0-9970-f987a11afa2a",
   "metadata": {},
   "outputs": [
    {
     "name": "stdout",
     "output_type": "stream",
     "text": [
      "[5 7 9]\n",
      "[ 4 10 18]\n",
      "[0.25 0.4  0.5 ]\n",
      "[-3 -3 -3]\n"
     ]
    }
   ],
   "source": [
    "# 🔹 Basic Array Operations\n",
    "#✅ Math operations (faster than lists)\n",
    "\n",
    "a = np.array([1,2,3])\n",
    "b = np.array([4,5,6])\n",
    "print(a+b)\n",
    "print(a*b)\n",
    "print(a/b)\n",
    "print(a-b)"
   ]
  },
  {
   "cell_type": "code",
   "execution_count": 12,
   "id": "e696c20c-abca-489a-b8f5-99e6a485f154",
   "metadata": {},
   "outputs": [
    {
     "data": {
      "text/plain": [
       "array([[5, 5, 5],\n",
       "       [5, 5, 5]])"
      ]
     },
     "execution_count": 12,
     "metadata": {},
     "output_type": "execute_result"
    }
   ],
   "source": [
    "#🔹 Useful NumPy Functions\n",
    "# 1. np.zeros() → Creates array of 0s\n",
    "np.zeros((2,3))\n",
    "\n",
    "np.ones((2,3)) # its mean fillled with 1 in 2 row and 3 column\n",
    "\n",
    "np.full((2,3),5)"
   ]
  },
  {
   "cell_type": "code",
   "execution_count": 17,
   "id": "0d8f4a4e-8d8e-4532-90fd-9f6d043fa60f",
   "metadata": {},
   "outputs": [
    {
     "data": {
      "text/plain": [
       "array([0, 2, 4, 6, 8])"
      ]
     },
     "execution_count": 17,
     "metadata": {},
     "output_type": "execute_result"
    }
   ],
   "source": [
    "# np.arange() → Like range(), but returns an array\n",
    "np.arange(0, 10, 2)\n"
   ]
  },
  {
   "cell_type": "code",
   "execution_count": 29,
   "id": "0b4ee763-1abf-471e-9e10-23b06426a421",
   "metadata": {},
   "outputs": [
    {
     "name": "stdout",
     "output_type": "stream",
     "text": [
      "[0.   0.25 0.5  0.75 1.  ]\n",
      "----------\n",
      "[0.         0.14285714 0.28571429 0.42857143 0.57142857 0.71428571\n",
      " 0.85714286 1.        ]\n",
      "----------\n",
      "[0. 1. 2. 3. 4. 5.]\n"
     ]
    }
   ],
   "source": [
    "# np.linspace() → Evenly spaced numbers\n",
    "''' \n",
    "uses: \n",
    "#) Evenly spaced values in a range (for graphs, sampling, scaling, etc.)\n",
    "#) To generate values including both start and end points\n",
    "\n",
    "How it Works:\n",
    "0 = start\n",
    "\n",
    "1 = end\n",
    "\n",
    "5 = number of values you want\n",
    "'''\n",
    "print(np.linspace(0,1,5)) # 5 values came from 0 to 1\n",
    "print('-'*10)\n",
    "print(np.linspace(0,1,8)) # 8 values came from 0 to 1\n",
    "print('-'*10)\n",
    "print(np.linspace(0,5,6)) # 6 values came from 0 to 5"
   ]
  },
  {
   "cell_type": "code",
   "execution_count": 34,
   "id": "bff4b5cd-1649-48bf-b1f0-8f4594602c0d",
   "metadata": {},
   "outputs": [
    {
     "name": "stdout",
     "output_type": "stream",
     "text": [
      "6\n",
      "(2, 3)\n",
      "2\n",
      "int64\n"
     ]
    }
   ],
   "source": [
    "#  Array Attributes (Properties)\n",
    "arr = np.array([[1,2,3],[4,5,6]])\n",
    "print(arr.size) # total elements\n",
    "print(arr.shape)  # (2, 3) → 2 rows, 3 columns\n",
    "print(arr.ndim) # 2 → 2 dimensions\n",
    "print(arr.dtype)\n"
   ]
  },
  {
   "cell_type": "code",
   "execution_count": 39,
   "id": "a627fcd1-239b-49a0-8139-92960bc3340c",
   "metadata": {},
   "outputs": [
    {
     "name": "stdout",
     "output_type": "stream",
     "text": [
      "2\n",
      "[1 2 3 4 5]\n",
      "[1 2 3]\n",
      "[1 4]\n"
     ]
    }
   ],
   "source": [
    "# 🔹 Indexing & Slicing\n",
    "'''\n",
    "a = np.array([10, 20, 30, 40])\n",
    "\n",
    "print(a[1])      # 20\n",
    "print(a[1:3])    # [20 30]\n",
    "\n",
    "matrix = np.array([[1, 2], [3, 4]])\n",
    "print(matrix[0, 1])  # 2 → Row 0, Col 1\n",
    "'''\n",
    "\n",
    "\n",
    "a = np.array([1,2,3,4,5])\n",
    "print(a[1])\n",
    "print(a[0:])\n",
    "print(a[0:3])\n",
    "print(a[0:5:3])"
   ]
  },
  {
   "cell_type": "code",
   "execution_count": 46,
   "id": "275c11cf-847b-4365-a146-7ac1c941a8c0",
   "metadata": {},
   "outputs": [
    {
     "name": "stdout",
     "output_type": "stream",
     "text": [
      "5\n",
      "4\n",
      "1\n",
      "3\n"
     ]
    }
   ],
   "source": [
    "matrix = np.array([[1,2,3],[4,5,6]])\n",
    "print(matrix[1, 1]) # output : 5\n",
    "print(matrix[1,0]) # output : 4\n",
    "print(matrix[0,0]) # output : 1\n",
    "print(matrix[0,2]) # outout : 3"
   ]
  },
  {
   "cell_type": "code",
   "execution_count": 47,
   "id": "6fffbc63-1c6b-4145-9d32-659f4f4cabb9",
   "metadata": {},
   "outputs": [
    {
     "name": "stdout",
     "output_type": "stream",
     "text": [
      "[ 200  400  600  800 1000]\n"
     ]
    }
   ],
   "source": [
    "#  Real-Life Example: Double all sales\n",
    "sales = np.array([100,200,300,400,500])\n",
    "doubled = sales * 2\n",
    "print(doubled)"
   ]
  },
  {
   "cell_type": "code",
   "execution_count": null,
   "id": "475db222-2461-43f0-ad64-dfe85e338cec",
   "metadata": {},
   "outputs": [],
   "source": []
  }
 ],
 "metadata": {
  "kernelspec": {
   "display_name": "Python 3 (ipykernel)",
   "language": "python",
   "name": "python3"
  },
  "language_info": {
   "codemirror_mode": {
    "name": "ipython",
    "version": 3
   },
   "file_extension": ".py",
   "mimetype": "text/x-python",
   "name": "python",
   "nbconvert_exporter": "python",
   "pygments_lexer": "ipython3",
   "version": "3.13.0"
  }
 },
 "nbformat": 4,
 "nbformat_minor": 5
}
