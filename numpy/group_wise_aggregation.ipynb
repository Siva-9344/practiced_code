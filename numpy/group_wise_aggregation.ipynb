{
 "cells": [
  {
   "cell_type": "code",
   "execution_count": 26,
   "id": "db3d89dc-86a7-4ffe-a5a8-0a8cc48186e2",
   "metadata": {},
   "outputs": [
    {
     "name": "stdout",
     "output_type": "stream",
     "text": [
      "['A' 'B' 'C'] [0 1 0 2 1 0]\n",
      "\n",
      "[0. 0. 0.]\n",
      "\n",
      "{np.str_('A'): np.float64(30.0), np.str_('B'): np.float64(45.0), np.str_('C'): np.float64(30.0)}\n",
      "\n",
      "--------------------\n",
      "Group-wise Mean\n",
      "{np.str_('A'): np.float64(10.0), np.str_('B'): np.float64(15.0), np.str_('C'): np.float64(10.0)}\n",
      "\n",
      "--------------------\n",
      "Get group 'B' values\n",
      "[20 25]\n"
     ]
    }
   ],
   "source": [
    "'''\n",
    "import numpy as np\n",
    "\n",
    "# Sample data\n",
    "labels = np.array(['A', 'B', 'A', 'C', 'B', 'A'])\n",
    "values = np.array([10, 20, 15, 30, 25, 5])\n",
    "\n",
    "unique_labels, inverse = np.unique(labels, return_inverse=True)\n",
    "\n",
    "# Initialize result array\n",
    "group_sum = np.zeros(len(unique_labels))\n",
    "np.add.at(group_sum, inverse, values)\n",
    "\n",
    "# Display results\n",
    "print(dict(zip(unique_labels, group_sum)))\n",
    "\n",
    "'''\n",
    "#  Example 1: Group-wise Sum\n",
    "\n",
    "import numpy as np\n",
    "labels = np.array(['A', 'B', 'A', 'C', 'B', 'A'])\n",
    "values = np.array([10, 20, 15, 30, 25, 5])\n",
    "\n",
    "unique_labels, inverse = np.unique(labels, return_inverse = True)\n",
    "print(unique_labels, inverse)\n",
    "print()\n",
    "\n",
    "group_sum = np.zeros(len(unique_labels)) # Initialize result array\n",
    "print(group_sum)\n",
    "print()\n",
    "np.add.at(group_sum, inverse, values) # this is like ======> np.add.at(target_array, index_array, values_array)\n",
    "print(dict(zip(unique_labels, group_sum)))\n",
    "print()\n",
    "print('-'*20)\n",
    "\n",
    "#  Example 2: Group-wise Mean\n",
    "count = len(np.bincount(inverse))\n",
    "group_means = group_sum/count\n",
    "print('Group-wise Mean')\n",
    "print(dict(zip(unique_labels, group_means)))\n",
    "\n",
    "print()\n",
    "print('-'*20)\n",
    "# Example 3: Conditional Group Filtering\n",
    "# Get group 'B' values\n",
    "print(\"Get group 'B' values\")\n",
    "b_values = values[labels == 'B'] \n",
    "print(b_values)\n"
   ]
  },
  {
   "cell_type": "code",
   "execution_count": 28,
   "id": "d755c942-37b2-4363-955d-de6efe0d37d5",
   "metadata": {},
   "outputs": [
    {
     "name": "stdout",
     "output_type": "stream",
     "text": [
      "['A' 'B' 'C'] [0 1 0 2 1 0]\n",
      "[-inf -inf -inf]\n"
     ]
    }
   ],
   "source": [
    "# Task 1: Group-wise Maximum\n",
    "\n",
    "labels = np.array(['A', 'B', 'A', 'C', 'B', 'A'])\n",
    "values = np.array([10, 20, 15, 30, 25, 5])\n",
    "\n",
    "# Find the maximum value for each group ('A', 'B', 'C').\n",
    "\n",
    "'''\n",
    "import numpy as np\n",
    "\n",
    "labels = np.array(['A', 'B', 'A', 'C', 'B', 'A'])\n",
    "values = np.array([10, 20, 15, 30, 25, 5])\n",
    "\n",
    "unique_labels, inverse = np.unique(labels, return_inverse=True)\n",
    "group_max = np.full(len(unique_labels), -np.inf)  # start with -infinity\n",
    "\n",
    "for i, val in enumerate(values):\n",
    "    group_max[inverse[i]] = max(group_max[inverse[i]], val)\n",
    "\n",
    "print(dict(zip(unique_labels, group_max)))\n",
    "\n",
    "'''\n",
    "\n",
    "unique_labels, inverse = np.unique(labels, return_inverse = True)\n",
    "print(unique_labels, inverse)\n",
    "group_max = np.full(len(unique_labels), -np.inf)\n",
    "print(group_max)\n",
    "\n",
    "for i, val in enumerate(values)\n",
    "print()\n"
   ]
  },
  {
   "cell_type": "code",
   "execution_count": null,
   "id": "4842b76f-fa86-4745-83b3-ea008a6b3510",
   "metadata": {},
   "outputs": [],
   "source": []
  }
 ],
 "metadata": {
  "kernelspec": {
   "display_name": "Python 3 (ipykernel)",
   "language": "python",
   "name": "python3"
  },
  "language_info": {
   "codemirror_mode": {
    "name": "ipython",
    "version": 3
   },
   "file_extension": ".py",
   "mimetype": "text/x-python",
   "name": "python",
   "nbconvert_exporter": "python",
   "pygments_lexer": "ipython3",
   "version": "3.13.0"
  }
 },
 "nbformat": 4,
 "nbformat_minor": 5
}
