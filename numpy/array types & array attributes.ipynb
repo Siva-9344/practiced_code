{
 "cells": [
  {
   "cell_type": "code",
   "execution_count": 3,
   "id": "c6c6ee86-ee27-4b3b-8bd9-702745e8def4",
   "metadata": {},
   "outputs": [
    {
     "name": "stdout",
     "output_type": "stream",
     "text": [
      "int64\n",
      "float64\n",
      "<U4\n"
     ]
    }
   ],
   "source": [
    "import numpy as np\n",
    "\n",
    "a = np.array([1,2,3,4,5])\n",
    "print(a.dtype)\n",
    "\n",
    "b = np.array([1.2, 2.3, 4.5])\n",
    "print(b.dtype)\n",
    "\n",
    "c = np.array(['siva', 'tony', 'abi'])\n",
    "print(c.dtype)"
   ]
  },
  {
   "cell_type": "code",
   "execution_count": 8,
   "id": "33e306b5-8d39-4314-a0a8-116b6197ef54",
   "metadata": {},
   "outputs": [
    {
     "name": "stdout",
     "output_type": "stream",
     "text": [
      "[1. 2. 3. 4. 5.]\n",
      "float64\n"
     ]
    }
   ],
   "source": [
    "#  Force a data type:\n",
    "a = np.array([1,2,3,4,5],dtype = 'float')\n",
    "print(a)\n",
    "print(a.dtype)"
   ]
  },
  {
   "cell_type": "code",
   "execution_count": 28,
   "id": "8e6372a1-e030-49be-86c5-1d0b524df0f3",
   "metadata": {},
   "outputs": [
    {
     "name": "stdout",
     "output_type": "stream",
     "text": [
      "[1 2 3 4 5]\n",
      "one dimension array : 1\n",
      "--------------------\n",
      "[[1 2 3]\n",
      " [4 5 6]]\n",
      "two dimension array : 2\n",
      "--------------------\n",
      "[[[1 2 3]\n",
      "  [4 5 6]]\n",
      "\n",
      " [[3 2 1]\n",
      "  [6 5 4]]]\n",
      "three dimension array : 3\n",
      "--------------------\n",
      "(5,)\n",
      "--------------------\n",
      "2 row 3 column\n",
      "(2, 3)\n",
      "--------------------\n",
      "\n",
      "output: (2, 2, 3)\n",
      "size: 12\n",
      "float64\n"
     ]
    }
   ],
   "source": [
    "#  2. Array Attributes (properties/info about the array)\n",
    "# These help you understand the structure of your array.\n",
    "\n",
    "# ndim → Number of dimensions\n",
    "\n",
    "one_d = np.array([1,2,3,4,5])\n",
    "print(one_d)\n",
    "print('one dimension array :',one_d.ndim)\n",
    "print('-'*20)\n",
    "\n",
    "two_d = np.array([[1,2,3],[4,5,6]])\n",
    "print(two_d)\n",
    "print('two dimension array :', two_d.ndim)\n",
    "print('-'*20)\n",
    "\n",
    "three_d = np.array([\n",
    "    [[1,2,3],[4,5,6]], \n",
    "    [[3,2,1],[6,5,4]]\n",
    "                   ])  # multiple matrices is the 3 dimensional, or 3d mean like image\n",
    "print(three_d)\n",
    "print('three dimension array :',three_d.ndim)\n",
    "print('-'*20)\n",
    "\n",
    "print(one_d.shape)\n",
    "print('-'*20)\n",
    "print('2 row 3 column')\n",
    "print(two_d.shape)\n",
    "print('-'*20)\n",
    "print()\n",
    "print('output:',three_d.shape) # output: (2, 2, 3)  ----> this mean:\n",
    "'''\n",
    "\n",
    "explanation about: print('output:',three_d.shape)\n",
    "\n",
    "[[[1 2 3]\n",
    "  [4 5 6]]\n",
    "\n",
    " [[3 2 1]\n",
    "  [6 5 4]]]\n",
    "three dimension array : 3\n",
    "\n",
    "2 → You have 2 matrices (or 2 blocks)\n",
    "\n",
    "2 → Each matrix has 2 rows\n",
    "\n",
    "3 → Each row has 3 columns/elements\n",
    "\n",
    "So the shape is (blocks, rows, columns) = (2, 2, 3)\n",
    "\n",
    "\n",
    "'''\n",
    "print('size:',three_d.size)\n",
    "\n",
    "# convetr datatype from int to float in 3d matrix\n",
    "float_three_d = three_d.astype(float)\n",
    "print(float_three_d.dtype)\n",
    "\n"
   ]
  },
  {
   "cell_type": "code",
   "execution_count": 55,
   "id": "a8600888-64e1-492b-a83b-8abf369f0c26",
   "metadata": {},
   "outputs": [
    {
     "name": "stdout",
     "output_type": "stream",
     "text": [
      "a : [1 2 3 4 5]\n",
      "datatype : int32\n",
      "each element size in bytes : 4\n",
      "total memory of this array:  20\n",
      "--------------------\n",
      "b: [1.2 2.2 3.3 4.5 5.1]\n",
      "datatype : float32\n",
      "each element size in bytes : 4\n",
      "Total memory used by the array: 20\n"
     ]
    }
   ],
   "source": [
    "'''\n",
    "✅ What is .itemsize?\n",
    ".itemsize tells you:\n",
    "\n",
    "💡 \"How much memory (in bytes) each element in the NumPy array takes.\"\n",
    "'''\n",
    "# Especially useful when working with large datasets in data analysis or machine learning.\n",
    "\n",
    "a = np.array([1,2,3,4,5], dtype = np.int32)\n",
    "print('a :',a)\n",
    "print('datatype :', a.dtype)\n",
    "print('each element size in bytes :', a.itemsize) # How much memory does one item take?\n",
    "print('total memory of this array: ', a.nbytes) # How much memory does the whole array take?\n",
    "print('-'*20)\n",
    "\n",
    "b = np.array([1.2, 2.2, 3.3, 4.5, 5.1], dtype = np.float32)\n",
    "print('b:', b)\n",
    "print('datatype :',b.dtype)\n",
    "print('each element size in bytes :', b.itemsize) #.itemsize mean : Meaning: Size (in bytes) of a single element in the array or How much memory does one item take? \n",
    "print('Total memory used by the array:', b.nbytes) # 🔸 nbytes →Total memory (in bytes) used by the entire array or \"How much memory does the whole array take?\"\n",
    "\n",
    "# So, NumPy only supports types that fit cleanly in 1, 2, 4, or 8 bytes"
   ]
  },
  {
   "cell_type": "code",
   "execution_count": 10,
   "id": "3a670870-8797-4cbd-872f-3fec482e04f6",
   "metadata": {},
   "outputs": [
    {
     "name": "stdout",
     "output_type": "stream",
     "text": [
      "normal :\n",
      "[[1 2]\n",
      " [3 4]]\n",
      "\n",
      "after transpose:\n",
      "[[1 3]\n",
      " [2 4]]\n"
     ]
    }
   ],
   "source": [
    "# transpose\n",
    "import numpy as np\n",
    "a = np.array([[1,2],\n",
    "              [3,4]])\n",
    "\n",
    "print(\"normal :\")\n",
    "print(a)\n",
    "print()\n",
    "print('after transpose:')\n",
    "print(a.T)\n",
    "\n"
   ]
  },
  {
   "cell_type": "code",
   "execution_count": null,
   "id": "84b64fdd-0996-417c-abe7-a78c16bd727b",
   "metadata": {},
   "outputs": [],
   "source": []
  },
  {
   "cell_type": "code",
   "execution_count": null,
   "id": "8ba114f4-336c-4f28-bb69-0f4f6a5ab833",
   "metadata": {},
   "outputs": [],
   "source": []
  }
 ],
 "metadata": {
  "kernelspec": {
   "display_name": "Python 3 (ipykernel)",
   "language": "python",
   "name": "python3"
  },
  "language_info": {
   "codemirror_mode": {
    "name": "ipython",
    "version": 3
   },
   "file_extension": ".py",
   "mimetype": "text/x-python",
   "name": "python",
   "nbconvert_exporter": "python",
   "pygments_lexer": "ipython3",
   "version": "3.13.0"
  }
 },
 "nbformat": 4,
 "nbformat_minor": 5
}
