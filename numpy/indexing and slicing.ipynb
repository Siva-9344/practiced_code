{
 "cells": [
  {
   "cell_type": "code",
   "execution_count": 2,
   "id": "8ae57ce3-a2ac-467f-950c-ebb5b1fa6821",
   "metadata": {},
   "outputs": [
    {
     "name": "stdout",
     "output_type": "stream",
     "text": [
      "1\n",
      "6\n",
      "[1 2 3 4 5 6]\n",
      "[4 5 6]\n",
      "[1 3 5]\n",
      "[6 5 4 3 2 1]\n"
     ]
    }
   ],
   "source": [
    "import numpy as np\n",
    "\n",
    "#  Basic Slicing (1D Array)\n",
    "a = np.array([1,2,3,4,5,6])\n",
    "print(a[0])\n",
    "print(a[-1])\n",
    "print(a[0:])\n",
    "print(a[3:])\n",
    "print(a[0:5:2])\n",
    "print(a[::-1])"
   ]
  },
  {
   "cell_type": "code",
   "execution_count": 17,
   "id": "c3063b97-788e-410b-a7dd-2951561844d7",
   "metadata": {},
   "outputs": [
    {
     "name": "stdout",
     "output_type": "stream",
     "text": [
      "[[1 2 3]\n",
      " [4 5 6]\n",
      " [7 8 9]]\n",
      "dimension : 2\n",
      "--------------------\n",
      "1\n",
      "--------------------\n",
      "6\n",
      "--------------------\n",
      "9\n"
     ]
    }
   ],
   "source": [
    "# Indexing in 2D Array\n",
    "arr2d = np.array([[1,2,3],\n",
    "                 [4,5,6],\n",
    "                  [7,8,9]])\n",
    "print(arr2d)\n",
    "print('dimension :',arr2d.ndim)\n",
    "# # First row, first column\n",
    "print(\"-\"*20)\n",
    "print(arr2d[0,0])\n",
    "print(\"-\"*20)\n",
    "\n",
    "## Second row, third column\n",
    "print(arr2d[1,2]) # dont confuse its working in indexing, index strarts from 0 right.\n",
    "print(\"-\"*20)\n",
    "\n",
    "# # Last element\n",
    "print(arr2d[2,2])"
   ]
  },
  {
   "cell_type": "code",
   "execution_count": 29,
   "id": "6d54975f-2a21-483f-ab7b-5bbc40e50677",
   "metadata": {},
   "outputs": [
    {
     "name": "stdout",
     "output_type": "stream",
     "text": [
      "[[2 3]\n",
      " [5 6]]\n",
      "\n",
      "--------------------\n",
      "first two columns of all rows:\n",
      "[[1 2]\n",
      " [4 5]\n",
      " [7 8]]\n",
      "--------------------\n",
      "\n",
      "Get the last row only, using slicing.\n",
      "[[7 8 9]]\n",
      "--------------------\n",
      "Get the middle element (5) using slicing (not indexing directly)\n",
      "[[5]]\n"
     ]
    }
   ],
   "source": [
    "# Slicing in 2D Array\n",
    "import numpy as np\n",
    "arr2d = np.array([[1, 2, 3],\n",
    "                  [4, 5, 6],\n",
    "                  [7, 8, 9]])\n",
    "\n",
    "\n",
    "print(arr2d[0:2, 1:]) # o:2 is mentioned row index from 0 to 1, 2is exclusive.  & 1:  mean column index from 1 to end\n",
    "print()\n",
    "print('-'*20)\n",
    "# Get the first two columns of all rows.\n",
    "print('first two columns of all rows:')\n",
    "print(arr2d[0: , 0:2])\n",
    "print('-'*20)\n",
    "print()\n",
    "print('Get the last row only, using slicing.')\n",
    "print(arr2d[2:])\n",
    "print('-'* 20)\n",
    "print('Get the middle element (5) using slicing (not indexing directly)')\n",
    "print(arr2d[1:2,1:2])"
   ]
  },
  {
   "cell_type": "code",
   "execution_count": 39,
   "id": "0cd42344-a9ba-426d-98bf-87038bfdcadc",
   "metadata": {},
   "outputs": [
    {
     "name": "stdout",
     "output_type": "stream",
     "text": [
      "[1 5 9]\n",
      "--------------------\n",
      "2d array: \n",
      "[[1 2 3]\n",
      " [4 5 6]\n",
      " [7 8 9]]\n",
      "\n",
      "diagnal : [1 5 9]\n",
      "--------------------\n"
     ]
    }
   ],
   "source": [
    "# Get Diagonal Elements\n",
    "print(np.diag(arr2d))\n",
    "print(\"-\"*20)\n",
    "print ('2d array: ')\n",
    "print(arr2d)\n",
    "print()\n",
    "print('diagnal :',arr2d[[0,1,2],[0,1,2]]) \n",
    "print('-'*20)\n"
   ]
  },
  {
   "cell_type": "code",
   "execution_count": 50,
   "id": "2b5e1bb9-a19e-495c-8c54-65445bb158d2",
   "metadata": {},
   "outputs": [
    {
     "name": "stdout",
     "output_type": "stream",
     "text": [
      "2d array\n",
      "[[1 2 3]\n",
      " [4 5 6]\n",
      " [7 8 9]]\n",
      "--------------------\n",
      "\n",
      " Entire second row\n",
      "[4 5 6]\n",
      "--------------------\n",
      "All rows, second column\n",
      "[2 5 8]\n",
      "\n",
      "this also working\n",
      "[2 5 8]\n"
     ]
    }
   ],
   "source": [
    "#  Row & Column Accessing (2D Array)\n",
    "print('2d array')\n",
    "print(arr2d)\n",
    "print('-'*20)\n",
    "print()\n",
    "#  Entire second row\n",
    "print(' Entire second row')\n",
    "print(arr2d[1])\n",
    "print('-'*20)\n",
    "print('All rows, second column')\n",
    "print(arr2d[[0,1,2],[1]])\n",
    "print()\n",
    "print('this also working')\n",
    "print(arr2d[:,1])"
   ]
  },
  {
   "cell_type": "code",
   "execution_count": 75,
   "id": "c805cc7b-f8f4-43b1-8393-99e978444e17",
   "metadata": {},
   "outputs": [
    {
     "name": "stdout",
     "output_type": "stream",
     "text": [
      "[15 20 25 30]\n",
      "--------------------\n",
      "[ 5 10 15 20]\n",
      "--------------------\n",
      "[15 20]\n",
      "--------------------\n",
      "Get all even numbers\n",
      "array : [ 5 10 15 20 25 30]\n",
      "even : [10 20 30]\n",
      "--------------------\n",
      "[ 5 10 15 20 -1 -1]\n"
     ]
    }
   ],
   "source": [
    "# Boolean Indexing\n",
    "arr = np.array([5, 10, 15, 20, 25, 30])\n",
    "print(arr[arr>10])\n",
    "arr>10\n",
    "print('-'*20)\n",
    "# Get all elements less than or equal to 20\n",
    "print(arr[arr<=20])\n",
    "print('-'*20)\n",
    "\n",
    "# Get all elements between 10 and 25 (inclusive)\n",
    "print(arr[(arr>10) & (arr<25)])\n",
    "\n",
    "print('-'*20)\n",
    "print('Get all even numbers')\n",
    "print('array :',arr)\n",
    "print('even :',arr[((arr)%2 == 0)])\n",
    "print('-'*20)\n",
    "\n",
    "'''\n",
    "🔹 Task 4:\n",
    "Replace all elements greater than 20 with -1\n",
    "👉 Final array should look like: [5, 10, 15, 20, -1, -1]\n",
    "\n",
    "'''\n",
    "arr[arr>20] = -1\n",
    "print(arr)"
   ]
  },
  {
   "cell_type": "code",
   "execution_count": 84,
   "id": "f600b767-151a-43e4-a06e-9545a3e51b31",
   "metadata": {},
   "outputs": [
    {
     "name": "stdout",
     "output_type": "stream",
     "text": [
      "[200 400]\n",
      "[20 30 50]\n",
      "\n",
      "[50 10 20]\n",
      "\n",
      "[ 5 15 25]\n"
     ]
    }
   ],
   "source": [
    "#   Fancy Indexing (Indexing with Arrays or Lists)  mean (Fancy indexing gives exact positions you specify)\n",
    "'''\n",
    "This is different from slicing (arr[0:3]) because:\n",
    "\n",
    "Slicing gives a range\n",
    "\n",
    "Fancy indexing gives exact positions you specify\n",
    "'''\n",
    "arr = np.array([100, 200, 300, 400])\n",
    "print(arr[[1,3]]) # Fancy indexing gives exact positions you specify\n",
    "\n",
    "arr = np.array([10, 20, 30, 40, 50])\n",
    "# [20 30 50]\n",
    "print(arr[[1,2,4]])\n",
    "print()\n",
    "\n",
    "# [50 10 20] (custom order!)\n",
    "print(arr[[4,0,1]])\n",
    "print()\n",
    "\n",
    "# task\n",
    "arr = np.array([5, 10, 15, 20, 25])\n",
    "# Get elements at positions 0, 2, and 4 using fancy indexing\n",
    "print(arr[[0,2,4]])\n",
    "\n"
   ]
  },
  {
   "cell_type": "code",
   "execution_count": 86,
   "id": "06e6bb39-3251-485b-a8c2-d0e7c14511bc",
   "metadata": {},
   "outputs": [
    {
     "name": "stdout",
     "output_type": "stream",
     "text": [
      "[0 2 4 6]\n",
      "\n",
      "Get every third element from the array.\n",
      "[0 3 6]\n"
     ]
    }
   ],
   "source": [
    "# ✅ 8. Slicing with Step\n",
    "arr = np.array([0, 1, 2, 3, 4, 5, 6])\n",
    "# # Every second element\n",
    "print(arr[::2])\n",
    "print()\n",
    "\n",
    "#Get every third element from the array.\n",
    "print('Get every third element from the array.')\n",
    "print(arr[::3])"
   ]
  },
  {
   "cell_type": "code",
   "execution_count": 100,
   "id": "e49c8d34-c3f6-4cd3-915a-d1b900421fa9",
   "metadata": {},
   "outputs": [
    {
     "name": "stdout",
     "output_type": "stream",
     "text": [
      "array : [10 20 30 40 50 60 70]\n",
      "\n",
      "[10 20  0  0  0 60 70]\n",
      "--------------------\n",
      "[-1 -1 -1  0  0 60 70]\n",
      "--------------------\n",
      "[ -1  -1  -1   0   0 100 100]\n",
      "--------------------\n",
      "[20 40 60 80 50 60 70]\n"
     ]
    }
   ],
   "source": [
    "# Modifying Sliced Values\n",
    "\n",
    "arr = np.array([10, 20, 30, 40, 50, 60, 70])\n",
    "\n",
    "# task1 \n",
    "'''\n",
    "Change the middle three elements (30, 40, 50) to 0\n",
    "👉 Expected Output: [10 20 0 0 0 60 70]\n",
    "'''\n",
    "print('array :',arr)\n",
    "print()\n",
    "arr[2:5] = 0\n",
    "print(arr)\n",
    "print('-'*20)\n",
    "\n",
    "# Replace the first three elements with -1\n",
    "arr[:3] = -1\n",
    "print(arr)\n",
    "print('-'*20)\n",
    "\n",
    "# Replace the last two elements with 100\n",
    "arr[5:] = 100\n",
    "print(arr)\n",
    "\n",
    "\n",
    "print('-'*20)\n",
    "# Double the value of the first four elements using slicing\n",
    "arr1 = np.array([10, 20, 30, 40, 50, 60, 70])\n",
    "arr1[:4] = arr1[:4]*2\n",
    "print(arr1)\n"
   ]
  },
  {
   "cell_type": "code",
   "execution_count": 117,
   "id": "54896751-69b0-494d-964f-8c9350fb0579",
   "metadata": {},
   "outputs": [
    {
     "name": "stdout",
     "output_type": "stream",
     "text": [
      "this is indices:  (array([2, 3]),)\n",
      "this is values:  [15 20]\n",
      "\n",
      "Task1 : Find the indices where values are less than 15\n",
      "this is indices:  (array([0, 1]),)\n",
      "this is values:  [15 20]\n",
      "\n",
      "task 2\n",
      "Use np.where() to replace values greater than 10 with -1\n",
      "[ 5 10 -1 -1]\n"
     ]
    }
   ],
   "source": [
    "#  Using np.where() for conditional indexing\n",
    "\n",
    "arr = np.array([5, 10, 15, 20])\n",
    "\n",
    "result = np.where(arr > 10)\n",
    "print('this is indices: ',result)\n",
    "print('this is values: ',arr[result])\n",
    "\n",
    "print()\n",
    "print('Task1 : Find the indices where values are less than 15')\n",
    "task1 = np.where(arr<15)\n",
    "print('this is indices: ',task1)\n",
    "print('this is values: ',arr[result])\n",
    "print()\n",
    "print('task 2')\n",
    "print('Use np.where() to replace values greater than 10 with -1')\n",
    "arr = np.array([5, 10, 15, 20])\n",
    "task2 = np.where(arr>10,-1,arr) # # if value > 10, replace with -1, else keep original\n",
    "print(task2)\n",
    "\n",
    "\n"
   ]
  },
  {
   "cell_type": "code",
   "execution_count": 5,
   "id": "af462193-0222-40f1-8b0f-272cbcb51bbe",
   "metadata": {},
   "outputs": [
    {
     "name": "stdout",
     "output_type": "stream",
     "text": [
      "dimension : 3\n",
      "4\n"
     ]
    }
   ],
   "source": [
    "import numpy as np\n",
    "\n",
    "a = np.array([[[1,2],\n",
    "               [3,4]],\n",
    "              [[5,6],\n",
    "               [7,8]]\n",
    "             ])\n",
    "print('dimension :',a.ndim)\n",
    "# # First block, second row, second column\n",
    "print(a[0,1,1])\n"
   ]
  },
  {
   "cell_type": "code",
   "execution_count": 14,
   "id": "2ae9ca9c-18b4-4a2c-bd4d-c22af1afa67e",
   "metadata": {},
   "outputs": [
    {
     "name": "stdout",
     "output_type": "stream",
     "text": [
      "[1 5]\n",
      "--------------------\n",
      "[20 30 40]\n",
      "--------------------\n",
      "[9 7 5 3 1]\n"
     ]
    }
   ],
   "source": [
    "# tasks\n",
    "#Create a 1D NumPy array with values [2, 4, 6, 8, 10].\n",
    "a = np.array([1,2,3,4,5])\n",
    "print(a[[0,-1]]) # Print the first and last element using indexing.\n",
    "print('-'*20)\n",
    "\n",
    "'''\n",
    "Task:\n",
    "Slice the array [10, 20, 30, 40, 50, 60] to get a new array containing only [20, 30, 40].\n",
    "'''\n",
    "a1  = np.array([10, 20, 30, 40, 50, 60])\n",
    "print(a1[1:4])\n",
    "print('-'*20)\n",
    "\n",
    "'''\n",
    "Task:\n",
    "Reverse the array [1, 3, 5, 7, 9] using slicing.\n",
    "'''\n",
    "a2 = np.array([1, 3, 5, 7, 9])\n",
    "print(a2[::-1])"
   ]
  },
  {
   "cell_type": "code",
   "execution_count": 20,
   "id": "66c2b97d-dcdc-4500-892f-a79efb6f0016",
   "metadata": {},
   "outputs": [
    {
     "name": "stdout",
     "output_type": "stream",
     "text": [
      "22\n",
      "--------------------\n",
      "task 2\n",
      "[[22 23]\n",
      " [32 33]]\n"
     ]
    }
   ],
   "source": [
    "# task print The element 22\n",
    "a3 = arr = np.array([[11, 12, 13],\n",
    "                [21, 22, 23],\n",
    "                [31, 32, 33]])\n",
    "print(a3[1,1])\n",
    "print('-'*20)\n",
    "print ('task 2')\n",
    "\n",
    "# task 2 : From the same array above, slice the middle 2x2 block:\n",
    "[[22, 23],\n",
    " [32, 33]]\n",
    "\n",
    "print(a3[1:,1:])"
   ]
  },
  {
   "cell_type": "code",
   "execution_count": 21,
   "id": "8ec00d17-7a19-4b6e-9c25-0a140d0a1242",
   "metadata": {},
   "outputs": [
    {
     "name": "stdout",
     "output_type": "stream",
     "text": [
      "[12 17 24]\n"
     ]
    }
   ],
   "source": [
    "# From the array [5, 12, 17, 8, 24], use boolean indexing to get values greater than 10.\n",
    "a4  = np.array([5, 12, 17, 8, 24])\n",
    "result = a4>10\n",
    "print(a4[result])"
   ]
  },
  {
   "cell_type": "code",
   "execution_count": 23,
   "id": "21c1b5f4-1af0-4378-a580-2a5248c01b48",
   "metadata": {},
   "outputs": [
    {
     "name": "stdout",
     "output_type": "stream",
     "text": [
      "[50 10 30]\n"
     ]
    }
   ],
   "source": [
    "# Given arr = np.array([10, 20, 30, 40, 50]), use fancy indexing to get [50, 10, 30].\n",
    "a5 = np.array([10, 20, 30, 40, 50])\n",
    "print(a5[[4,0,2]])"
   ]
  },
  {
   "cell_type": "code",
   "execution_count": 25,
   "id": "fe971e3f-df88-456d-809c-8ea24f187c7c",
   "metadata": {},
   "outputs": [
    {
     "name": "stdout",
     "output_type": "stream",
     "text": [
      "[3 0 0 7 5]\n"
     ]
    }
   ],
   "source": [
    "'''\n",
    "✅ Exercise 8: Conditional Replace (Boolean Indexing)\n",
    "Task:\n",
    "From the array [3, 9, 12, 7, 5], replace all values greater than 8 with 0.\n",
    "'''\n",
    "a6 = np.array([3, 9, 12, 7, 5])\n",
    "greater = a6>8\n",
    "a6[greater] = 0\n",
    "print(a6)\n"
   ]
  },
  {
   "cell_type": "code",
   "execution_count": 26,
   "id": "f80ed610-8dbf-41ba-81f7-c52d048ef202",
   "metadata": {},
   "outputs": [
    {
     "name": "stdout",
     "output_type": "stream",
     "text": [
      "[ 0  3  6  9 12 15 18]\n"
     ]
    }
   ],
   "source": [
    "'''\n",
    "✅ Exercise 9: Step Slicing\n",
    "Task:\n",
    "Create an array of numbers 0 to 20. Slice it to get every third element.\n",
    "'''\n",
    "a7 = np.array([0,1,2,3,4,5,6,7,8,9,10,11,12,13,14,15,16,17,18,19,20])\n",
    "print(a7[0::3])"
   ]
  },
  {
   "cell_type": "code",
   "execution_count": 27,
   "id": "d789fdc9-1a7e-4a13-85ab-1c33d80c8455",
   "metadata": {},
   "outputs": [
    {
     "name": "stdout",
     "output_type": "stream",
     "text": [
      "(array([0, 2, 4]),)\n"
     ]
    }
   ],
   "source": [
    "'''\n",
    "✅ Exercise 10: np.where() Use\n",
    "Task:\n",
    "From the array [4, 7, 2, 9, 5], find the indices of values less than 6, and extract those values.\n",
    "'''\n",
    "a8 = np.array([4, 7, 2, 9, 5])\n",
    "result = np.where(a8<6)\n",
    "print(result)"
   ]
  },
  {
   "cell_type": "code",
   "execution_count": null,
   "id": "d4b59d37-3166-42b0-952f-cc3be1dc7a84",
   "metadata": {},
   "outputs": [],
   "source": []
  }
 ],
 "metadata": {
  "kernelspec": {
   "display_name": "Python 3 (ipykernel)",
   "language": "python",
   "name": "python3"
  },
  "language_info": {
   "codemirror_mode": {
    "name": "ipython",
    "version": 3
   },
   "file_extension": ".py",
   "mimetype": "text/x-python",
   "name": "python",
   "nbconvert_exporter": "python",
   "pygments_lexer": "ipython3",
   "version": "3.13.0"
  }
 },
 "nbformat": 4,
 "nbformat_minor": 5
}
