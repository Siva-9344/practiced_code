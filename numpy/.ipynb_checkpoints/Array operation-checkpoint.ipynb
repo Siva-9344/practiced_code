{
 "cells": [
  {
   "cell_type": "code",
   "execution_count": 27,
   "id": "8c4dac03-c45b-431c-a34c-0874c9f02eca",
   "metadata": {},
   "outputs": [
    {
     "name": "stdout",
     "output_type": "stream",
     "text": [
      "add : [5 7 9]\n",
      "sub : [-3 -3 -3]\n",
      "mul : [ 4 10 18]\n",
      "div : [0.25 0.4  0.5 ]\n",
      "modu: [1 2 3]\n",
      "\n",
      "--------------------\n",
      "[False False False]\n",
      "[ True  True  True]\n",
      "[False False False]\n",
      "\n",
      "--------------------\n",
      "[7 9]\n",
      "[ 7 17]\n",
      "\n",
      "--------------------\n",
      "OR operation:\n",
      "a:  [False False False  True  True  True]\n",
      "b: [False False  True  True False  True]\n",
      "\n",
      "res: [False False  True  True  True  True]\n",
      "\n",
      "--------------------\n",
      "Not operation\n",
      "a:  [False False False  True  True  True]\n",
      "b: [False False  True  True False  True]\n",
      "\n",
      "a res: [ True  True  True False False False]\n",
      "b res: [ True  True False False  True False]\n"
     ]
    }
   ],
   "source": [
    "# ✅ NumPy – Array Operations (Full Guide + Tasks)\n",
    "'''\n",
    " 1. Arithmetic Operations\n",
    "Add, Subtract, Multiply, Divide, Power, Modulus\n",
    "'''\n",
    "import numpy as np\n",
    "\n",
    "a = np.array([1, 2, 3])\n",
    "b = np.array([4,5,6])\n",
    "print('add :',a+b)\n",
    "print('sub :',a-b)\n",
    "print('mul :', a*b)\n",
    "print('div :', a/b)\n",
    "print('modu:', a%b)\n",
    "print()\n",
    "print('-'*20)\n",
    "\n",
    "#  2. Comparison Operations\n",
    "print(a>b)\n",
    "print(a<b)\n",
    "print(a==b)\n",
    "print()\n",
    "print('-'*20)\n",
    "\n",
    "'''\n",
    "3. Logical Operations\n",
    "Use: np.logical_and(), np.logical_or(), np.logical_not()\n",
    "# Create two arrays and apply logical operations to filter values.\n",
    "\n",
    "'''\n",
    "a = np.array([1, 2, 3,7,8,9])\n",
    "b = np.array([4,5,6,7,1,17])\n",
    "res = np.logical_and(a>5,b>5)\n",
    "print(a[res])\n",
    "print(b[res])\n",
    "\n",
    "'''\n",
    "a = [False, False, False, True, True, True]\n",
    "b = [False, False, True, True, False, True]\n",
    "\n",
    "works like this:\n",
    "True and True → True\n",
    "\n",
    "True and False → False\n",
    "\n",
    "False and True → False\n",
    "\n",
    "False and False → False\n",
    "'''\n",
    "print()\n",
    "print('-'*20)\n",
    "print('OR operation:')\n",
    "print('a: ',a>5)\n",
    "print('b:',b>5)\n",
    "print()\n",
    "print('res:',np.logical_or(a>5, b>5))\n",
    "print()\n",
    "print('-'*20)\n",
    "print('Not operation')\n",
    "print('a: ',a>5)\n",
    "print('b:',b>5)\n",
    "print()\n",
    "print('a res:',np.logical_not(a>5))\n",
    "print('b res:',np.logical_not(b>5))\n",
    "\n",
    "\n",
    "\n"
   ]
  },
  {
   "cell_type": "code",
   "execution_count": 49,
   "id": "8ca454d6-13f2-4d2a-8724-9700882dcfef",
   "metadata": {},
   "outputs": [
    {
     "name": "stdout",
     "output_type": "stream",
     "text": [
      "axis 0 means column wise, sum:  [5 7 9]\n",
      "axis 1: row wise, sum:  [ 6 15]\n",
      "\n",
      "axis 0 :mean : [2.5 3.5 4.5]\n",
      "axis 1 :mean : [2. 5.]\n",
      "\n",
      "axis 0 :min : [1 2 3]\n",
      "axis 1: min : [1 4]\n",
      "\n",
      "axis 0 means column wise: std : [1.5 1.5 1.5]\n",
      "axis 1: row wise: std: [0.81649658 0.81649658]\n",
      "\n",
      "axis 0 means column wise: var: [2.25 2.25 2.25]\n",
      "axis 1: row wise: var:  [0.66666667 0.66666667]\n",
      "\n",
      "--------------------\n",
      "[[1 2 3]\n",
      " [4 5 6]]\n",
      "\n",
      "axis 0 means column wise: cumsum:\n",
      "[[1 2 3]\n",
      " [5 7 9]]\n",
      "\n",
      "axis 1 means row wise: cumsum:\n",
      "[[ 1  3  6]\n",
      " [ 4  9 15]]\n",
      "\n"
     ]
    }
   ],
   "source": [
    "'''\n",
    "🔸 4. Aggregate Functions (Axis wise)\n",
    "sum(), mean(), min(), max(), std(), var(), cumsum()\n",
    "'''\n",
    "a = np.array([[1,2,3],\n",
    "              [4,5,6]])\n",
    "print('axis 0 means column wise, sum: ',a.sum(axis = 0))\n",
    "print('axis 1: row wise, sum: ',a.sum(axis = 1))\n",
    "print()\n",
    "print('axis 0 :mean :',a.mean(axis = 0))\n",
    "print('axis 1 :mean :', a.mean(axis =1))\n",
    "print()\n",
    "print('axis 0 :min :', a.min(axis = 0))\n",
    "print('axis 1: min :', a.min(axis = 1))\n",
    "print()\n",
    "print('axis 0 means column wise: std :', a.std(axis = 0))\n",
    "print('axis 1: row wise: std:', a.std(axis = 1))\n",
    "print()\n",
    "print('axis 0 means column wise: var:',a.var(axis = 0))\n",
    "print('axis 1: row wise: var: ',a.var(axis = 1))\n",
    "print()\n",
    "print('-'*20)\n",
    "print(a)\n",
    "print()\n",
    "print('axis 0 means column wise: cumsum:')\n",
    "print( a.cumsum(axis = 0))\n",
    "print()\n",
    "print('axis 1 means row wise: cumsum:')\n",
    "print( a.cumsum(axis = 1))\n",
    "print()"
   ]
  },
  {
   "cell_type": "code",
   "execution_count": 51,
   "id": "b6ebcad9-3b25-437d-ba3b-f31b372107b7",
   "metadata": {},
   "outputs": [
    {
     "name": "stdout",
     "output_type": "stream",
     "text": [
      "[3 4 5]\n",
      "\n",
      "--------------------\n",
      "[6 7 8]\n"
     ]
    }
   ],
   "source": [
    "'''\n",
    "5. Broadcasting\n",
    "Operations between different shape\n",
    "'''\n",
    "a = np.array([1,2,3])\n",
    "b = 2\n",
    "print(a+b)\n",
    "print()\n",
    "print('-'*20)\n",
    "\n",
    "# # Multiply a 1D array by a scalar and another 1D array of shape (3,)\n",
    "a = np.array([4,5,6])\n",
    "b = 2\n",
    "print(a+b)"
   ]
  },
  {
   "cell_type": "code",
   "execution_count": 61,
   "id": "a10a2f6d-c92c-40a0-bf2e-48a2ba8829a0",
   "metadata": {},
   "outputs": [
    {
     "name": "stdout",
     "output_type": "stream",
     "text": [
      "dot matrics:\n",
      "three types model is there like (np.dot(), np.matmul(), @)\n",
      "\n",
      "[[19 22]\n",
      " [43 50]]\n",
      "\n",
      "[[19 22]\n",
      " [43 50]]\n",
      "\n",
      "[[19 22]\n",
      " [43 50]]\n"
     ]
    }
   ],
   "source": [
    "a = np.array([[1, 2], [3, 4]])\n",
    "b = np.array([[5, 6], [7, 8]])\n",
    "print('dot matrics:')\n",
    "print('three types model is there like (np.dot(), np.matmul(), @)')\n",
    "print()\n",
    "print(np.dot(a, b))\n",
    "print()\n",
    "print(np.matmul(a,b))\n",
    "print()\n",
    "print(a@b)\n",
    "\n"
   ]
  },
  {
   "cell_type": "code",
   "execution_count": 62,
   "id": "887a0720-7fb3-4ae9-9727-4dfd3ddd71a5",
   "metadata": {},
   "outputs": [
    {
     "name": "stdout",
     "output_type": "stream",
     "text": [
      "[[ 5 12]\n",
      " [21 32]]\n"
     ]
    }
   ],
   "source": [
    "#  7. Element-wise vs Matrix Multiplication\n",
    "\n",
    "a = np.array([[1, 2], \n",
    "              [3, 4]])\n",
    "\n",
    "b = np.array([[5, 6], \n",
    "              [7, 8]])\n",
    "print(a*b)"
   ]
  },
  {
   "cell_type": "code",
   "execution_count": null,
   "id": "1744377b-a804-4eee-a2e0-4858422b4d44",
   "metadata": {},
   "outputs": [],
   "source": []
  }
 ],
 "metadata": {
  "kernelspec": {
   "display_name": "Python 3 (ipykernel)",
   "language": "python",
   "name": "python3"
  },
  "language_info": {
   "codemirror_mode": {
    "name": "ipython",
    "version": 3
   },
   "file_extension": ".py",
   "mimetype": "text/x-python",
   "name": "python",
   "nbconvert_exporter": "python",
   "pygments_lexer": "ipython3",
   "version": "3.13.0"
  }
 },
 "nbformat": 4,
 "nbformat_minor": 5
}
