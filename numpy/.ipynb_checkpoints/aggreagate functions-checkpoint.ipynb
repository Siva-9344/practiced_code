{
 "cells": [
  {
   "cell_type": "code",
   "execution_count": 6,
   "id": "5626a3e4-9201-4545-acf6-fac91ffb40a8",
   "metadata": {},
   "outputs": [
    {
     "name": "stdout",
     "output_type": "stream",
     "text": [
      "[2 4 6 8]\n",
      "6\n",
      "384\n",
      "[ 2  6 12 20]\n",
      "[  2   8  48 384]\n"
     ]
    }
   ],
   "source": [
    "# some basics i completed so i move to next\n",
    "\n",
    "'''\n",
    "import numpy as np\n",
    "\n",
    "arr = np.array([2, 4, 6, 8])\n",
    "\n",
    "print(\"Array:\", arr)\n",
    "print(\"Peak to Peak (np.ptp):\", np.ptp(arr))\n",
    "print(\"Product (np.prod):\", np.prod(arr))\n",
    "print(\"Cumulative Sum (np.cumsum):\", np.cumsum(arr))\n",
    "print(\"Cumulative Product (np.cumprod):\", np.cumprod(arr))\n",
    "\n",
    "'''\n",
    "import numpy as np\n",
    "\n",
    "a = np.array([2, 4, 6, 8])\n",
    "print(a)\n",
    "print(np.ptp(a)) # peak to peak: mean (max- min)\n",
    "print(np.prod(a))\n",
    "print(np.cumsum(a))\n",
    "print(np.cumprod(a))"
   ]
  },
  {
   "cell_type": "code",
   "execution_count": 4,
   "id": "6eb4c61d-e3a7-45a9-b373-5f398c20f898",
   "metadata": {},
   "outputs": [
    {
     "name": "stdout",
     "output_type": "stream",
     "text": [
      "[0.77395605 0.43887844 0.85859792 0.69736803 0.09417735]\n",
      "[5 9 7 7 7 7 5 1]\n"
     ]
    }
   ],
   "source": [
    "'''\n",
    "import numpy as np\n",
    "\n",
    "rng = np.random.default_rng(42)  # create generator\n",
    "print(rng.random(3))             # three floats in [0, 1)\n",
    "print(rng.integers(0, 10, size=5))  # five random ints 0-9\n",
    "'''\n",
    "import numpy as np\n",
    "\n",
    "rng = np.random.default_rng(42)\n",
    "print(rng.random(5))\n",
    "print(rng.integers(0,10, size = 8))"
   ]
  },
  {
   "cell_type": "code",
   "execution_count": 6,
   "id": "c179ae7c-64ef-4bb3-9713-b1070c94fc98",
   "metadata": {},
   "outputs": [
    {
     "data": {
      "image/png": "[encoded data removed]",
      "text/plain": [
       "<Figure size 640x480 with 1 Axes>"
      ]
     },
     "metadata": {},
     "output_type": "display_data"
    }
   ],
   "source": [
    "import numpy as np\n",
    "import matplotlib.pyplot as plt\n",
    "\n",
    "rng = np.random.default_rng()\n",
    "heights = rng.normal(168, 10, 1000)\n",
    "\n",
    "plt.hist(heights, bins=30, edgecolor='black')\n",
    "plt.title(\"Normal Distribution of Heights\")\n",
    "plt.xlabel(\"Height (cm)\")\n",
    "plt.ylabel(\"Number of People\")\n",
    "plt.show()\n"
   ]
  },
  {
   "cell_type": "code",
   "execution_count": 14,
   "id": "8f28a591-12a2-4e94-a07b-47741bdccf7a",
   "metadata": {},
   "outputs": [
    {
     "name": "stdout",
     "output_type": "stream",
     "text": [
      "True\n",
      "False\n",
      "[ True False  True]\n",
      "[ True False  True]\n",
      "[ True False  True]\n",
      "True\n",
      "True\n",
      "False\n"
     ]
    }
   ],
   "source": [
    "import numpy as np\n",
    "\n",
    "# np.all\n",
    "\n",
    "a = np.array([20,30,40,50])\n",
    "result = np.all(a>10)\n",
    "print(result)\n",
    "\n",
    "# np.any\n",
    "a = np.array([20,30,40,50])\n",
    "res = np.any(a<20)\n",
    "print(res)\n",
    "\n",
    "\n",
    "status = np.array([\n",
    "    [1, 1, 1],   # all good\n",
    "    [1, 0, 1],   # one failure\n",
    "    [1, 1, 1]    # all good\n",
    "])\n",
    "\n",
    "res = np.all(status ==1, axis = 1)\n",
    "print(res)\n",
    "\n",
    "status = np.array([\n",
    "    [1, 1, 1],\n",
    "    [1, 0, 1],\n",
    "    [1, 1, 1]\n",
    "])\n",
    "# TASK 1: Check which rows have all 1s (machine worked all 3 days)\n",
    "# TASK 2: Check which columns have any failure\n",
    "\n",
    "s = np.all(status == 1, axis = 1)\n",
    "print(s)\n",
    "print(np.all(status == 1, axis = 0))\n",
    "\n",
    "\n",
    "# task 2\n",
    "# Array of student scores\n",
    "scores = np.array([75, 80, 88, 95, 60, 70])\n",
    "\n",
    "# TASK: Check if all students scored more than 50.\n",
    "# Use np.all()\n",
    "print(np.all(scores > 50))\n",
    "\n",
    "#  Task 2: Check if Any Value is Negative\n",
    "temps = np.array([32, 35, -2, 30, 28, 25])\n",
    "print(np.any(temps < 0))\n",
    "\n",
    "#  Task 3: Use axis Parameter for Row-wise/Column-wise Checks\n",
    "# Matrix of 3x3 where each row is a machine's daily status: 1 = working, 0 = failed\n",
    "status = np.array([\n",
    "    [1, 1, 1],\n",
    "    [1, 0, 1],\n",
    "    [1, 1, 1]\n",
    "])\n",
    "\n",
    "# Task 4: Combine with Conditions\n",
    "# Array of product ratings by customers (0–5)\n",
    "ratings = np.array([5, 4, 5, 3, 0, 2, 5])\n",
    "\n",
    "res = np.all(ratings > 0) and  np.all(ratings < 5)\n",
    "print(res)\n"
   ]
  },
  {
   "cell_type": "code",
   "execution_count": 19,
   "id": "17323836-dd55-41f3-8995-225dae1efba9",
   "metadata": {},
   "outputs": [
    {
     "name": "stdout",
     "output_type": "stream",
     "text": [
      "[False  True False]\n",
      "\n"
     ]
    }
   ],
   "source": [
    "# Simulated sensor readings (NaN means missing value)\n",
    "import numpy as np\n",
    "readings = np.array([\n",
    "    [np.nan, 2.0, 3.0],\n",
    "    [1.0, 2.5, 3.1],\n",
    "    [2.1, 2.2, np.nan]\n",
    "])\n",
    "\n",
    "# TASK: Find rows where all values are present (not NaN)\n",
    "# Use np.isnan() and np.any()/np.all() with axis\n",
    "# find booleans\n",
    "\n",
    "boo = np.isnan(readings) # this line is convert the booleans\n",
    "check_row_wise = ~np.any((boo), axis = 1)  # check row wise # ~ this is invert symbol\n",
    "print(check_row_wise)\n",
    "\n",
    "'''\n",
    "🎯 Final meaning:\n",
    "\n",
    "Row 0: ❌ has NaN → False\n",
    "\n",
    "Row 1: ✅ all values present → True\n",
    "\n",
    "Row 2: ❌ has NaN → False\n",
    "'''\n",
    "print()"
   ]
  },
  {
   "cell_type": "code",
   "execution_count": 53,
   "id": "03591e60-a75e-4f15-9b92-f2b96dcece7e",
   "metadata": {
    "scrolled": true
   },
   "outputs": [
    {
     "name": "stdout",
     "output_type": "stream",
     "text": [
      "[ True False  True False  True]\n",
      "----------------------------------------\n",
      "[False  True False]\n",
      "------------------------------\n",
      "[[False False False]\n",
      " [ True False False]\n",
      " [False False False]\n",
      " [False False  True]]\n",
      "\n",
      "[ True False  True False]\n",
      "--------------------\n",
      "[ True False  True  True]\n",
      "--------------------\n",
      "\n",
      "[ True False  True False]\n"
     ]
    }
   ],
   "source": [
    "#  Task 1: Detect Fully Working Days\n",
    "\n",
    "log = np.array([\n",
    "    [1, 1, 1],\n",
    "    [1, 0, 1],\n",
    "    [1, 1, 1],\n",
    "    [1, 1, 0],\n",
    "    [1, 1, 1]\n",
    "])\n",
    "\n",
    "# ✅ Task: Find which days (rows) all machines were working.\n",
    "# Hint: Use np.all(..., axis=1)\n",
    "# wor = true = 1,  not = false = 0\n",
    "\n",
    "res = np.all(log == 1, axis = 1)\n",
    "print(res)\n",
    "print('--'* 20)\n",
    "\n",
    "# Task 2: Check if Any Order is Invalid\n",
    "\n",
    "orders = np.array([\n",
    "    [200, 150, 300],\n",
    "    [100, -50, 120],\n",
    "    [90, 80, 70]\n",
    "])\n",
    "\n",
    "# ✅ Task: Identify rows with any negative values (invalid orders).\n",
    "# Hint: np.any(orders < 0, axis=1)\n",
    "\n",
    "res = np.any(orders < 0, axis = 1)\n",
    "print(res)\n",
    "print('-'*30)\n",
    "\n",
    "\n",
    "# Task 3: Data Completion Check\n",
    "\n",
    "survey = np.array([\n",
    "    [5.0, 3.0, 4.0],\n",
    "    [np.nan, 4.0, 2.0],\n",
    "    [3.0, 2.0, 1.0],\n",
    "    [4.0, 3.0, np.nan]\n",
    "])\n",
    "\n",
    "# ✅ Task: Find rows where **all questions were answered**.\n",
    "# Hint: Use np.isnan() + np.any()\n",
    "\n",
    "boo = np.isnan(survey)\n",
    "res = ~np.any(boo == True, axis = 1)\n",
    "print(boo)\n",
    "print()\n",
    "print(res)\n",
    "\n",
    "# res = ~np.any(np.isnan(survey), axis=1)  this correct gpt version\n",
    "print('-'* 20)\n",
    "\n",
    "# 🔹 Task 4: Threshold Evaluation\n",
    "data = np.array([\n",
    "    [55, 60, 58, 62],\n",
    "    [45, 47, 50, 49],\n",
    "    [61, 63, 60, 65],\n",
    "    [58, 59, 60, 57]\n",
    "])\n",
    "\n",
    "# ✅ Task: Find which rows (time points) **all readings were >= 50**.\n",
    "# Hint: Use np.all(data >= 50, axis=1)\n",
    "print(np.all(data >= 50, axis = 1))\n",
    "print('-'* 20)\n",
    "print()\n",
    "\n",
    "# 🔹 Task 5: Complex Condition - Pass or Fail\n",
    "\n",
    "grades = np.array([\n",
    "    [40, 50, 45],\n",
    "    [30, 42, 40],\n",
    "    [60, 70, 80],\n",
    "    [35, 35, 34]\n",
    "])\n",
    "\n",
    "# ✅ Task: Return a Boolean array indicating which students passed all subjects.\n",
    "# Hint: np.all(grades >= 35, axis=1)\n",
    "\n",
    "print(np.all(grades>=35, axis = 1))"
   ]
  },
  {
   "cell_type": "code",
   "execution_count": null,
   "id": "7c528694-717d-4540-94b7-dfa6b7ee84a5",
   "metadata": {},
   "outputs": [],
   "source": [
    "# "
   ]
  }
 ],
 "metadata": {
  "kernelspec": {
   "display_name": "Python 3 (ipykernel)",
   "language": "python",
   "name": "python3"
  },
  "language_info": {
   "codemirror_mode": {
    "name": "ipython",
    "version": 3
   },
   "file_extension": ".py",
   "mimetype": "text/x-python",
   "name": "python",
   "nbconvert_exporter": "python",
   "pygments_lexer": "ipython3",
   "version": "3.13.0"
  }
 },
 "nbformat": 4,
 "nbformat_minor": 5
}
