{
 "cells": [
  {
   "cell_type": "code",
   "execution_count": 14,
   "id": "22463994-088e-4aac-9921-1a824048a875",
   "metadata": {},
   "outputs": [
    {
     "name": "stdout",
     "output_type": "stream",
     "text": [
      "<class 'dict'>\n",
      "{'Name': 'siva', 'Age': 23, 'Loc': 'Chennail'}\n",
      "#Accessing Values (get())\n",
      "siva\n",
      "(Notfound)\n",
      "{'Name': 'siva', 'Age': 23, 'Loc': 'Chennail', 'job': 'Engineer'}\n",
      "{'Name': 'siva', 'Age': 22, 'Loc': 'Chennail', 'job': 'Engineer'}\n",
      "rem_value Chennail\n",
      "{'Name': 'siva', 'Age': 22, 'job': 'Engineer'}\n"
     ]
    }
   ],
   "source": [
    "#Creating a Dictionary\n",
    "\n",
    "emp = {'Name':'siva', 'Age':23, 'Loc':'Chennail'}\n",
    "print(type(emp))\n",
    "print(emp)\n",
    "\n",
    "#Accessing Values (get())\n",
    "print('#Accessing Values (get())')\n",
    "print(emp.get('Name'))\n",
    "print(emp.get('Salary', '(Notfound)'))\n",
    "\n",
    "#Adding a New Key-Value Pair\n",
    "emp['job'] = 'Engineer'\n",
    "print(emp)\n",
    "\n",
    "#Updating an Existing Value\n",
    "emp['Age'] = 22\n",
    "print(emp)\n",
    "\n",
    "#Removing a Key (pop())\n",
    "rem_value = emp.pop('Loc')\n",
    "print('rem_value: ',rem_value)\n",
    "print(emp)"
   ]
  },
  {
   "cell_type": "code",
   "execution_count": 15,
   "id": "5f7b58aa-b64c-4eee-a5ab-b30531d6bee0",
   "metadata": {},
   "outputs": [
    {
     "name": "stdout",
     "output_type": "stream",
     "text": [
      "{'Name': 'siva', 'Age': 22}\n"
     ]
    }
   ],
   "source": [
    "#Removing the Last Inserted Item (popitem())\n",
    "emp.popitem()\n",
    "print(emp)"
   ]
  },
  {
   "cell_type": "code",
   "execution_count": 17,
   "id": "d1ec8cba-b9f0-4b8e-aa5c-8e06c623fcb6",
   "metadata": {},
   "outputs": [
    {
     "name": "stdout",
     "output_type": "stream",
     "text": [
      "key is exist\n"
     ]
    }
   ],
   "source": [
    "#Checking if a Key Exists\n",
    "if 'Age' in emp:\n",
    "    print('key is exist')"
   ]
  },
  {
   "cell_type": "code",
   "execution_count": 25,
   "id": "692d92f2-8fbc-4989-8c0e-b4b500e351af",
   "metadata": {},
   "outputs": [
    {
     "name": "stdout",
     "output_type": "stream",
     "text": [
      "{'Name': 'Siva', 'Age': 23, 'Loc': 'chennai', 'job': 'Software Engineer'}\n",
      "<class 'dict'>\n"
     ]
    }
   ],
   "source": [
    "emp1 = {'Name':'Siva', 'Age':23, 'Loc':'chennai', 'job':'Software Engineer'}\n",
    "print(emp1)\n",
    "print(type(emp1))"
   ]
  },
  {
   "cell_type": "code",
   "execution_count": 26,
   "id": "9f27ac73-5a78-4077-9d4a-c06ce5c2b867",
   "metadata": {},
   "outputs": [
    {
     "name": "stdout",
     "output_type": "stream",
     "text": [
      "Name --> Siva\n",
      "Age --> 23\n",
      "Loc --> chennai\n",
      "job --> Software Engineer\n"
     ]
    }
   ],
   "source": [
    "#Looping Through Dictionary\n",
    "for key, value in emp1.items():\n",
    "    print(key ,'-->', value)"
   ]
  },
  {
   "cell_type": "code",
   "execution_count": 29,
   "id": "3e79b7b3-2cd9-4949-bc70-38abf108a9cc",
   "metadata": {},
   "outputs": [
    {
     "name": "stdout",
     "output_type": "stream",
     "text": [
      "dict_keys(['Name', 'Age', 'Loc', 'job'])\n",
      "\n",
      "dict_values(['Siva', 23, 'chennai', 'Software Engineer'])\n"
     ]
    }
   ],
   "source": [
    "# Getting Only Keys (keys())\n",
    "print(emp1.keys())\n",
    "print()\n",
    "#Getting Only Values (values())\n",
    "print(emp1.values())\n"
   ]
  },
  {
   "cell_type": "code",
   "execution_count": 32,
   "id": "f435a359-2e99-42ed-9fc4-d5c09da92d9c",
   "metadata": {},
   "outputs": [
    {
     "name": "stdout",
     "output_type": "stream",
     "text": [
      "{'Name': 'Siva', 'Age': 23, 'Loc': 'chennai', 'job': 'Software Engineer', 'Country': 'India', 'Gender': 'Male'}\n",
      "Name ---> Siva\n",
      "Age ---> 23\n",
      "Loc ---> chennai\n",
      "job ---> Software Engineer\n",
      "Country ---> India\n",
      "Gender ---> Male\n"
     ]
    }
   ],
   "source": [
    "#Merging Two Dictionaries (update())\n",
    "new_data = {'Country':'India', 'Gender':'Male'}\n",
    "emp1.update(new_data)\n",
    "print(emp1)\n",
    "\n",
    "for keys, values in emp1.items():\n",
    "    print(keys ,'--->',values)"
   ]
  },
  {
   "cell_type": "code",
   "execution_count": 33,
   "id": "d9778895-815a-4d3c-837e-ff9d31ecbf82",
   "metadata": {},
   "outputs": [
    {
     "name": "stdout",
     "output_type": "stream",
     "text": [
      "{'Name': 'Siva', 'Age': 23, 'Loc': 'chennai', 'job': 'Software Engineer', 'Country': 'India', 'Gender': 'Male'}\n"
     ]
    }
   ],
   "source": [
    "#Copying a Dictionary (copy())\n",
    "new  = emp1.copy()\n",
    "print(new)"
   ]
  },
  {
   "cell_type": "code",
   "execution_count": 34,
   "id": "9756ff58-3f60-48e7-baf0-9dc5edc9adef",
   "metadata": {},
   "outputs": [
    {
     "name": "stdout",
     "output_type": "stream",
     "text": [
      "{'Name': 'Siva', 'Age': 23, 'Loc': 'chennai', 'job': 'Software Engineer', 'Country': 'India', 'Gender': 'Male'}\n"
     ]
    }
   ],
   "source": [
    "print(new)"
   ]
  },
  {
   "cell_type": "code",
   "execution_count": 35,
   "id": "71e08b17-ff82-4cc5-a0b9-c3fcdf0f4160",
   "metadata": {},
   "outputs": [
    {
     "name": "stdout",
     "output_type": "stream",
     "text": [
      "{}\n"
     ]
    }
   ],
   "source": [
    "new.clear()\n",
    "print(new)"
   ]
  },
  {
   "cell_type": "code",
   "execution_count": 37,
   "id": "141a117a-a8e9-4393-8be2-a271022240e0",
   "metadata": {},
   "outputs": [
    {
     "name": "stdout",
     "output_type": "stream",
     "text": [
      "{'Age': 'unknown', 'Name': 'unknown', 'Loc': 'unknown'}\n"
     ]
    }
   ],
   "source": [
    "#Creating a Dictionary with Default Values (fromkeys())\n",
    "keys = {'Name','Age','Loc'}\n",
    "def_key = dict.fromkeys(keys, 'unknown')\n",
    "print(def_key)"
   ]
  },
  {
   "cell_type": "code",
   "execution_count": null,
   "id": "3a0b34f5-6612-4f8a-86ea-ab823c59a59e",
   "metadata": {},
   "outputs": [],
   "source": []
  }
 ],
 "metadata": {
  "kernelspec": {
   "display_name": "Python 3 (ipykernel)",
   "language": "python",
   "name": "python3"
  },
  "language_info": {
   "codemirror_mode": {
    "name": "ipython",
    "version": 3
   },
   "file_extension": ".py",
   "mimetype": "text/x-python",
   "name": "python",
   "nbconvert_exporter": "python",
   "pygments_lexer": "ipython3",
   "version": "3.13.0"
  }
 },
 "nbformat": 4,
 "nbformat_minor": 5
}
