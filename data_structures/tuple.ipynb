{
 "cells": [
  {
   "cell_type": "code",
   "execution_count": 2,
   "id": "0c405f50-2052-47ed-9f6c-51d51d842a59",
   "metadata": {},
   "outputs": [
    {
     "name": "stdout",
     "output_type": "stream",
     "text": [
      "(1, 2, 3, 4, 5)\n"
     ]
    }
   ],
   "source": [
    "# creating a tuple\n",
    "\n",
    "a = (1,2,3,4,5)\n",
    "print(a)"
   ]
  },
  {
   "cell_type": "code",
   "execution_count": 20,
   "id": "98be6e87-3a5d-4f54-8b0a-c082fe043bfb",
   "metadata": {},
   "outputs": [
    {
     "name": "stdout",
     "output_type": "stream",
     "text": [
      "mixed_data: (1, 'hello', 3.4, 'd')\n",
      "nested_tuple: (1, (2, 3, 4), (5, 6))\n",
      "Accessing Elements: 30\n",
      "slicing_tuple: (20, 30)\n",
      "apple\n",
      "banana\n",
      "cherry\n",
      "concatenation:  (1, 2, 3, 4, 5, 6)\n",
      "repeat : pythonpythonpythonpython\n",
      "False\n",
      "tuple len:  4\n"
     ]
    }
   ],
   "source": [
    "# Tuple with Different Data Types\n",
    "mixed_data = (1,'hello',3.4,'d')\n",
    "print('mixed_data:', mixed_data)\n",
    "\n",
    "#nested tuple\n",
    "nested_tuple = (1,(2,3,4),(5,6))\n",
    "print('nested_tuple:',nested_tuple)\n",
    "\n",
    "#Accessing Elements in a Tuple\n",
    "my_tuple = (10, 20, 30, 40)\n",
    "print('Accessing Elements:', my_tuple[2])\n",
    "\n",
    "#Slicing a Tuple\n",
    "my_tuple = (10, 20, 30, 40)\n",
    "print('slicing_tuple:' , my_tuple[1:3])\n",
    "\n",
    "#Iterating Over a Tuple\n",
    "fruits = (\"apple\", \"banana\", \"cherry\")\n",
    "for i in fruits:\n",
    "    print(i)\n",
    "\n",
    "#Tuple Concatenation\n",
    "tuple1 = (1, 2, 3)\n",
    "tuple2 = (4, 5, 6)\n",
    "\n",
    "concatenation = tuple1+tuple2\n",
    "print('concatenation: ',concatenation)\n",
    "\n",
    "#Repeating a Tuple\n",
    "a = ('python')*4\n",
    "print('repeat :', a)\n",
    "\n",
    "#Checking if an Element Exists\n",
    "my_tuple = (10, 20, 30, 40)\n",
    "print(10 not in my_tuple)\n",
    "\n",
    "print('tuple len: ',len(my_tuple))"
   ]
  },
  {
   "cell_type": "code",
   "execution_count": null,
   "id": "3aa8175c-6d10-46db-9711-5eed6c0a9883",
   "metadata": {},
   "outputs": [],
   "source": []
  }
 ],
 "metadata": {
  "kernelspec": {
   "display_name": "Python 3 (ipykernel)",
   "language": "python",
   "name": "python3"
  },
  "language_info": {
   "codemirror_mode": {
    "name": "ipython",
    "version": 3
   },
   "file_extension": ".py",
   "mimetype": "text/x-python",
   "name": "python",
   "nbconvert_exporter": "python",
   "pygments_lexer": "ipython3",
   "version": "3.13.0"
  }
 },
 "nbformat": 4,
 "nbformat_minor": 5
}
