{
 "cells": [
  {
   "cell_type": "code",
   "execution_count": 1,
   "id": "6ad913be-28d6-4a96-bbea-f860b3a41cba",
   "metadata": {},
   "outputs": [
    {
     "name": "stdout",
     "output_type": "stream",
     "text": [
      "['hello', 25, 2.5, 'h', True]\n",
      "[1, 2, 2, 2, 2, 2, 3, 3, 3]\n"
     ]
    }
   ],
   "source": [
    "# creating list\n",
    "a = ['hello', 25, 2.5, 'h', True]\n",
    "b = [1,2,2,2,2,2,3,3,3]\n",
    "print(a)\n",
    "print(b)"
   ]
  },
  {
   "cell_type": "code",
   "execution_count": 2,
   "id": "b9153e60-7abb-48ab-b4cf-799c77460329",
   "metadata": {},
   "outputs": [
    {
     "name": "stdout",
     "output_type": "stream",
     "text": [
      "apple\n"
     ]
    }
   ],
   "source": [
    "# acessing elements\n",
    "fruits = [\"apple\", \"banana\", \"cherry\", \"grape\"]\n",
    "print(fruits[0])"
   ]
  },
  {
   "cell_type": "code",
   "execution_count": 3,
   "id": "dd0bc715-02b3-4559-bde8-a456400f5f25",
   "metadata": {},
   "outputs": [
    {
     "name": "stdout",
     "output_type": "stream",
     "text": [
      "['apple', 'banana', 'cherry']\n"
     ]
    }
   ],
   "source": [
    "print(fruits[0:3])"
   ]
  },
  {
   "cell_type": "code",
   "execution_count": 4,
   "id": "36ec7e6b-f008-46ed-a8ee-e36a4e175a04",
   "metadata": {},
   "outputs": [
    {
     "name": "stdout",
     "output_type": "stream",
     "text": [
      "['apple', 'banana', 'cherry']\n"
     ]
    }
   ],
   "source": [
    "print(fruits[:3])"
   ]
  },
  {
   "cell_type": "code",
   "execution_count": 8,
   "id": "b143837e-5c56-4961-a66f-9b98890e5130",
   "metadata": {},
   "outputs": [
    {
     "name": "stdout",
     "output_type": "stream",
     "text": [
      "['grape', 'cherry', 'banana', 'apple']\n"
     ]
    }
   ],
   "source": [
    "print(fruits[::-1])"
   ]
  },
  {
   "cell_type": "code",
   "execution_count": 9,
   "id": "667720ec-52b2-4597-b0d0-276141065de9",
   "metadata": {},
   "outputs": [
    {
     "name": "stdout",
     "output_type": "stream",
     "text": [
      "['red', 'orange', 'green']\n"
     ]
    }
   ],
   "source": [
    "#Modifying Lists (Mutable Property)\n",
    "\n",
    "colors = [\"red\", \"blue\", \"green\"]\n",
    "#change, add, insert\n",
    "\n",
    "colors[1] = 'orange' #change\n",
    "print(colors)"
   ]
  },
  {
   "cell_type": "code",
   "execution_count": 14,
   "id": "9d9eeaac-e965-4443-8aed-e4b1510d9aa3",
   "metadata": {},
   "outputs": [
    {
     "name": "stdout",
     "output_type": "stream",
     "text": [
      "['red', 'blue', 'green', 'ball']\n"
     ]
    }
   ],
   "source": [
    "colors = [\"red\", \"blue\", \"green\"]\n",
    "colors.append(\"ball\")\n",
    "print(colors)\n"
   ]
  },
  {
   "cell_type": "code",
   "execution_count": 15,
   "id": "fbcc0e35-320f-48eb-a8c5-9b6a12b9e2ad",
   "metadata": {},
   "outputs": [
    {
     "name": "stdout",
     "output_type": "stream",
     "text": [
      "['red', 'blue', 'food', 'green']\n"
     ]
    }
   ],
   "source": [
    "colors = [\"red\", \"blue\", \"green\"]\n",
    "colors.insert(2, 'food')\n",
    "print(colors)"
   ]
  },
  {
   "cell_type": "code",
   "execution_count": 17,
   "id": "dcd49ecb-1705-4aaf-ba4b-c35afff8cdff",
   "metadata": {},
   "outputs": [
    {
     "name": "stdout",
     "output_type": "stream",
     "text": [
      "['dog', 'rabbit', 'elephant']\n"
     ]
    }
   ],
   "source": [
    "animals = [\"dog\", \"cat\", \"rabbit\", \"elephant\"]\n",
    "#remove\n",
    "animals.remove('cat')\n",
    "print(animals)"
   ]
  },
  {
   "cell_type": "code",
   "execution_count": 18,
   "id": "6e5a7a85-d05d-44bf-9dfd-caf60a19ed01",
   "metadata": {},
   "outputs": [
    {
     "name": "stdout",
     "output_type": "stream",
     "text": [
      "['dog', 'rabbit', 'elephant']\n"
     ]
    }
   ],
   "source": [
    "animals.pop\n",
    "print(animals)"
   ]
  },
  {
   "cell_type": "code",
   "execution_count": 20,
   "id": "e25e0b60-0c06-4dad-9013-6394944bb000",
   "metadata": {},
   "outputs": [
    {
     "name": "stdout",
     "output_type": "stream",
     "text": [
      "rabbit\n",
      "['dog']\n"
     ]
    }
   ],
   "source": [
    "popped = animals.pop()\n",
    "print(popped)\n",
    "print(animals)"
   ]
  },
  {
   "cell_type": "code",
   "execution_count": 21,
   "id": "4fbfecea-c10f-46d0-8b42-9dd3460c2b9f",
   "metadata": {},
   "outputs": [
    {
     "name": "stdout",
     "output_type": "stream",
     "text": [
      "['dog', 'rabbit', 'elephant']\n"
     ]
    }
   ],
   "source": [
    "animals = [\"dog\", \"cat\", \"rabbit\", \"elephant\"]\n",
    "del animals[1]\n",
    "print(animals)"
   ]
  },
  {
   "cell_type": "code",
   "execution_count": 22,
   "id": "897a484d-d012-4e39-8d11-301228bbc3a2",
   "metadata": {},
   "outputs": [
    {
     "name": "stdout",
     "output_type": "stream",
     "text": [
      "[]\n"
     ]
    }
   ],
   "source": [
    "animals.clear()\n",
    "print(animals)"
   ]
  },
  {
   "cell_type": "code",
   "execution_count": 27,
   "id": "cb23a9a9-8d97-4a71-8e36-91d99bfe095b",
   "metadata": {},
   "outputs": [
    {
     "name": "stdout",
     "output_type": "stream",
     "text": [
      "concatenate:  [1, 2, 3, 4, 5, 6]\n",
      "repeated : [1, 2, 3, 1, 2, 3]\n"
     ]
    }
   ],
   "source": [
    "list1 = [1, 2, 3]\n",
    "list2 = [4, 5, 6]\n",
    "# concatenation\n",
    "list3 = list1+list2\n",
    "print('concatenate: ',list3)\n",
    "repeated = list1 *2\n",
    "print('repeated :',repeated)"
   ]
  },
  {
   "cell_type": "code",
   "execution_count": 31,
   "id": "7f144cab-e5af-4e9c-ae88-03c9da21f1d1",
   "metadata": {},
   "outputs": [
    {
     "name": "stdout",
     "output_type": "stream",
     "text": [
      "True\n",
      "True\n",
      "False\n"
     ]
    }
   ],
   "source": [
    "#Checking for an Element (in and not in)\n",
    "\n",
    "numbers = [10, 20, 30, 40]\n",
    "print(20 in numbers)\n",
    "print(60 not in numbers)\n",
    "print(20 not in numbers)"
   ]
  },
  {
   "cell_type": "code",
   "execution_count": 36,
   "id": "0ca5f23b-ed8d-4c8f-88d9-e73fcddd2681",
   "metadata": {},
   "outputs": [
    {
     "name": "stdout",
     "output_type": "stream",
     "text": [
      "[1, 4, 9, 16, 25]\n",
      "['APPLE', 'BANANA', 'CHERRY']\n"
     ]
    }
   ],
   "source": [
    "# List Comprehension (Shorter Syntax)\n",
    "squares = [i*i for i in range (1,6)]\n",
    "print(squares)\n",
    "\n",
    "# Convert all strings to uppercase\n",
    "words = [\"apple\", \"banana\", \"cherry\"]\n",
    "upper = [j.upper() for j in words]\n",
    "print(upper)"
   ]
  },
  {
   "cell_type": "code",
   "execution_count": 46,
   "id": "c5feb470-5294-4dd2-bc89-ec40dd8f5bff",
   "metadata": {},
   "outputs": [
    {
     "name": "stdout",
     "output_type": "stream",
     "text": [
      "using list comprehension\n",
      "cubes : [1, 8, 27, 64, 125, 216, 343, 512, 729, 1000]\n",
      "even_numbers : [2, 4, 6, 8, 10]\n",
      "even_squares only:  [4, 16, 36, 64, 100]\n"
     ]
    }
   ],
   "source": [
    "# list comprehension\n",
    "print('using list comprehension')\n",
    "#cubes list comprehension\n",
    "\n",
    "cubes = [i**3 for i in range(1,11)]\n",
    "print('cubes :',cubes)\n",
    "\n",
    "# Extract even numbers from a list\n",
    "\n",
    "numbers = [1, 2, 3, 4, 5, 6, 7, 8, 9, 10]\n",
    "even_numbers = [num for num in numbers if num%2 == 0] # that first \"num\" It tells Python what to include in the new list. If you remove it, the syntax becomes invalid.\n",
    "print(\"even_numbers :\",even_numbers)\n",
    "\n",
    "# see this example easily understood\n",
    "#if you want to store squares of even numbers\n",
    "even_squares = [ num**2 for num in range (1,11) if num%2 == 0]\n",
    "print('even_squares only: ',even_squares)\n"
   ]
  },
  {
   "cell_type": "code",
   "execution_count": 50,
   "id": "0be36551-2ed6-4e3c-a107-83fc1b202aa3",
   "metadata": {},
   "outputs": [
    {
     "name": "stdout",
     "output_type": "stream",
     "text": [
      "words len : [5, 5, 6]\n"
     ]
    }
   ],
   "source": [
    "#list comprehension\n",
    "#Get the length of each word in a list\n",
    "\n",
    "words = [\"hello\", \"world\", \"python\"]\n",
    "length = [len(i)for i in words]\n",
    "print('words len :',length)"
   ]
  },
  {
   "cell_type": "code",
   "execution_count": 52,
   "id": "595e7592-9f57-44c9-990c-89bf98925ed2",
   "metadata": {},
   "outputs": [
    {
     "name": "stdout",
     "output_type": "stream",
     "text": [
      "farrenheit : [32.0, 50.0, 68.0, 86.0, 104.0]\n"
     ]
    }
   ],
   "source": [
    "# Convert temperatures from Celsius to Fahrenheit formula --> (tem * 9/5)+32\n",
    "celsius = [0, 10, 20, 30, 40]\n",
    "f = [(i* 9/5)+ 32 for i in celsius]\n",
    "print('farrenheit :',f)"
   ]
  },
  {
   "cell_type": "code",
   "execution_count": 54,
   "id": "67d8d6fd-ba43-4646-beff-4b82d49b268b",
   "metadata": {},
   "outputs": [
    {
     "name": "stdout",
     "output_type": "stream",
     "text": [
      "['es', 'os', 'os']\n"
     ]
    }
   ],
   "source": [
    "#Extract vowels from a string\n",
    "sen = \"hello world\"\n",
    "vow = [char for char in sen if char in 'aeiou'] #that char is create the new list\n",
    "print(vow)"
   ]
  },
  {
   "cell_type": "code",
   "execution_count": 72,
   "id": "5778cf64-eca3-4739-8b10-8d0ca11ed836",
   "metadata": {},
   "outputs": [
    {
     "name": "stdout",
     "output_type": "stream",
     "text": [
      "sort : [1, 1, 2, 3, 4, 5, 9]\n",
      "reverse : [9, 5, 4, 3, 2, 1, 1]\n"
     ]
    }
   ],
   "source": [
    "# Sorting & Reversing a List\n",
    "nums = [3, 1, 4, 1, 5, 9, 2]\n",
    "#nums.sort(reverse = True)\n",
    "nums.sort()\n",
    "print('sort :',nums)\n",
    "\n",
    "nums.sort(reverse = True)\n",
    "print('reverse :',nums)\n"
   ]
  },
  {
   "cell_type": "code",
   "execution_count": 80,
   "id": "f4c8f8d6-bd3d-4204-add6-7db4b281ec28",
   "metadata": {},
   "outputs": [
    {
     "name": "stdout",
     "output_type": "stream",
     "text": [
      "copy1:  [1, 2, 3]\n",
      "copy2 :  [1, 2, 3]\n",
      "append_copy:  [1, 2, 3, 4]\n",
      "copy4:  [1, 2, 3]\n"
     ]
    }
   ],
   "source": [
    "#Copying a List (copy(), Slicing, list())\n",
    "original = [1, 2, 3]\n",
    "copy1 = original[:]\n",
    "print('copy1: ',copy1)\n",
    "\n",
    "copy2 = original.copy() # i think it is act as alike shallow copy\n",
    "print('copy2 : ',copy2)\n",
    "\n",
    "copy2.append(4)\n",
    "print('append_copy: ',copy2)\n",
    "\n",
    "copy4 = list(original)\n",
    "print('copy4: ', copy4)"
   ]
  },
  {
   "cell_type": "code",
   "execution_count": 82,
   "id": "164b7ae5-1165-4106-8386-1b2ca457d47a",
   "metadata": {},
   "outputs": [
    {
     "name": "stdout",
     "output_type": "stream",
     "text": [
      "max : 40\n",
      "min : 5\n",
      "sum:  75\n"
     ]
    }
   ],
   "source": [
    "# Finding Maximum, Minimum, and Sum\n",
    "num = [10, 20, 5, 40]\n",
    "print('max :', max(num))\n",
    "print('min :', min(num))\n",
    "print('sum: ',sum(num))"
   ]
  },
  {
   "cell_type": "code",
   "execution_count": 100,
   "id": "5f691157-ba80-4861-a274-fd5665bfe438",
   "metadata": {},
   "outputs": [
    {
     "name": "stdout",
     "output_type": "stream",
     "text": [
      "rem_dup:  [1, 2, 3, 4, 5]\n",
      "evens:  [2, 4, 6, 8, 10, 12, 14, 16, 18, 20]\n",
      "Counter({3: 3, 2: 2, 1: 1, 4: 1})\n",
      "sec_larg_num:  45\n"
     ]
    }
   ],
   "source": [
    "#Task\n",
    "#to remove all duplicate elements from a list.\n",
    "\n",
    "numbers = [1, 2, 2, 3, 4, 4, 5]\n",
    "rem_dup = list(set(numbers))\n",
    "print('rem_dup: ', rem_dup)\n",
    "\n",
    "# Create a list of the first 10 even numbers using list comprehension.\n",
    "evens = [i for i in range(2,21,2)]\n",
    "print('evens: ',evens)\n",
    "\n",
    "# count the frequency of elements in a list.\n",
    "from collections import Counter \n",
    "# this is build in module, no need to install counter = class, collections = module, actually python have the more number of build in modules.\n",
    "numbers = [1, 2, 2, 3, 3, 3, 4]\n",
    "freq = Counter(numbers)\n",
    "print(freq)\n",
    "\n",
    "#Find the second largest element in a list.\n",
    "numb = [10, 20, 4, 45, 99]\n",
    "numb.sort()\n",
    "print('sec_larg_num: ',numb[-2])\n",
    "\n"
   ]
  },
  {
   "cell_type": "code",
   "execution_count": null,
   "id": "1b3ba525-fdeb-4a5f-a099-c4e7efba38f2",
   "metadata": {},
   "outputs": [],
   "source": []
  },
  {
   "cell_type": "code",
   "execution_count": null,
   "id": "82fff8f3-2468-40f9-8786-3710e754645d",
   "metadata": {},
   "outputs": [],
   "source": []
  },
  {
   "cell_type": "code",
   "execution_count": null,
   "id": "5d348425-a773-44d3-b838-d0fb33c26b24",
   "metadata": {},
   "outputs": [],
   "source": []
  },
  {
   "cell_type": "code",
   "execution_count": null,
   "id": "ba63f61f-1543-4bcc-9851-79600a65cac4",
   "metadata": {},
   "outputs": [],
   "source": []
  },
  {
   "cell_type": "code",
   "execution_count": null,
   "id": "44644418-6b57-451e-9b38-f437f2e66502",
   "metadata": {},
   "outputs": [],
   "source": []
  },
  {
   "cell_type": "markdown",
   "id": "0e82214a-1a2f-4c95-b686-e570e910e77f",
   "metadata": {
    "jp-MarkdownHeadingCollapsed": true
   },
   "source": []
  }
 ],
 "metadata": {
  "kernelspec": {
   "display_name": "Python 3 (ipykernel)",
   "language": "python",
   "name": "python3"
  },
  "language_info": {
   "codemirror_mode": {
    "name": "ipython",
    "version": 3
   },
   "file_extension": ".py",
   "mimetype": "text/x-python",
   "name": "python",
   "nbconvert_exporter": "python",
   "pygments_lexer": "ipython3",
   "version": "3.13.0"
  }
 },
 "nbformat": 4,
 "nbformat_minor": 5
}
