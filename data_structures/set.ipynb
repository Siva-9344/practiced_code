{
 "cells": [
  {
   "cell_type": "code",
   "execution_count": 9,
   "id": "e007fe99-8669-421f-ba6b-7c7deda11dca",
   "metadata": {},
   "outputs": [
    {
     "name": "stdout",
     "output_type": "stream",
     "text": [
      "set : {1, 2, 3, 4}\n",
      "<class 'set'>\n",
      "add_element:  {1, 2, 3, 4}\n",
      "rem_ele:  {1, 3}\n",
      "True\n",
      "False\n"
     ]
    }
   ],
   "source": [
    "#creating set\n",
    "a = {1,2,3,4}\n",
    "print('set :', a)\n",
    "\n",
    "# create empty set\n",
    "b = {}\n",
    "print(type(a))\n",
    "\n",
    "#Adding Elements to a Set\n",
    "my_set = {1, 2, 3}\n",
    "my_set.add(4)\n",
    "print('add_element: ',my_set)\n",
    "\n",
    "my_set1 = {1, 2, 3}\n",
    "my_set1.remove(2)\n",
    "my_set1.discard(5) # Does nothing (no error if 5 is not in set)\n",
    "print('rem_ele: ',my_set1)\n",
    "\n",
    "#Checking if an Element Exists in a Set\n",
    "my_set = {10, 20, 30}\n",
    "print(20 in my_set)\n",
    "print(50 in my_set)\n"
   ]
  },
  {
   "cell_type": "code",
   "execution_count": 27,
   "id": "4ddbcbc3-dd43-4dfb-8755-89600ece81ff",
   "metadata": {},
   "outputs": [
    {
     "name": "stdout",
     "output_type": "stream",
     "text": [
      "union:  {1, 2, 3, 4, 5}\n",
      "union1:  {1, 2, 3, 4, 5}\n",
      "\n",
      "comm_ele:  {3}\n",
      "comm_ele1:  {3}\n",
      "\n",
      "\n",
      "diff : {1, 2}\n",
      "diff1 : {5}\n",
      "dif:  {1, 2}\n",
      "dif1:  {5}\n",
      "\n",
      "result:  {1, 2, 4, 5}\n",
      "result:  {1, 2, 4, 5}\n"
     ]
    }
   ],
   "source": [
    "#. Set Operations (Union, Intersection, Difference, Symmetric Difference)\n",
    "\n",
    "#Union (| or union()) – Combines two sets, removing duplicates\n",
    "set1 = {1, 2, 3}\n",
    "set2 = {3, 4, 5}\n",
    "union = set1 | set2\n",
    "union1 = set1.union(set2)\n",
    "print('union: ',union)\n",
    "print('union1: ',union1)\n",
    "print()\n",
    "\n",
    "#Intersection (& or intersection()) – Finds common elements\n",
    "set1 = {1, 2, 3}\n",
    "set2 = {3, 4, 5}\n",
    "comm_ele = set1 & set2\n",
    "comm_ele1 = set1.intersection(set2)\n",
    "print('comm_ele: ',comm_ele)\n",
    "print('comm_ele1: ',comm_ele1)\n",
    "print()\n",
    "\n",
    "#Difference (- or difference()) – Finds elements in one set but not the other\n",
    "set1 = {1, 2, 3, 4}\n",
    "set2 = {3, 4, 5}\n",
    "diff = set1-set2\n",
    "diff1 = set2-set1\n",
    "print()\n",
    "\n",
    "# Difference (- or difference()) – Finds elements in one set but not the other\n",
    "dif = set1.difference(set2)\n",
    "dif1 = set2.difference(set1)\n",
    "print('diff :', diff)\n",
    "print('diff1 :', diff1)\n",
    "print('dif: ', dif)\n",
    "print('dif1: ',dif1)\n",
    "print()\n",
    "\n",
    "#Symmetric Difference (^ or symmetric_difference()) – Finds elements that are in one set or the other, but not both\n",
    "set1 = {1, 2, 3}\n",
    "set2 = {3, 4, 5}\n",
    "result = set1 ^ set2\n",
    "result1 = set1.symmetric_difference(set2)\n",
    "print('result: ',result)\n",
    "print('result: ',result1)\n",
    "\n"
   ]
  },
  {
   "cell_type": "code",
   "execution_count": 31,
   "id": "c7d943e3-51e9-49e9-a6bf-5926665de581",
   "metadata": {},
   "outputs": [
    {
     "name": "stdout",
     "output_type": "stream",
     "text": [
      "see the diff btwn set and list, set is the unordered, list is ordered\n",
      "set comprehension:  {64, 1, 4, 36, 100, 9, 16, 49, 81, 25}\n",
      "list comprehension:  [1, 4, 9, 16, 25, 36, 49, 64, 81, 100]\n"
     ]
    }
   ],
   "source": [
    "# Set Comprehension (Creating Sets in One Line)\n",
    "squares = {i**2 for i in range (1,11)} # set comprehension\n",
    "squares1 = [i**2 for i in range (1,11)] # list comprehension\n",
    "print('see the diff btwn set and list, set is the unordered, list is ordered.')\n",
    "print('set comprehension: ',squares)\n",
    "print('list comprehension: ',squares1)"
   ]
  },
  {
   "cell_type": "code",
   "execution_count": 34,
   "id": "f77ad454-83fc-4d9b-b2ea-f38d33bfb1e0",
   "metadata": {},
   "outputs": [
    {
     "name": "stdout",
     "output_type": "stream",
     "text": [
      "lenght:  5\n",
      "\n",
      "None\n"
     ]
    }
   ],
   "source": [
    "#Finding the Length of a Set\n",
    "my_set = {10, 20, 30, 40, 50}\n",
    "print('lenght: ',len(my_set))\n",
    "print()\n",
    "\n",
    "#Removing All Elements from a Set\n",
    "my_set = {10, 20, 30, 40, 50}\n",
    "print(my_set.clear())\n",
    "print()"
   ]
  },
  {
   "cell_type": "code",
   "execution_count": 37,
   "id": "31c6030f-223f-42f6-ad0f-35ccf3d49d42",
   "metadata": {},
   "outputs": [
    {
     "name": "stdout",
     "output_type": "stream",
     "text": [
      "Converting a List into a Set (Removing Duplicates):  {1, 2, 3, 4, 5}\n"
     ]
    }
   ],
   "source": [
    "#Converting a List into a Set (Removing Duplicates)\n",
    "my_list = [1, 2, 2, 3, 4, 4, 5]\n",
    "print('Converting a List into a Set (Removing Duplicates): ',set(my_list))"
   ]
  },
  {
   "cell_type": "code",
   "execution_count": 38,
   "id": "f808e652-978e-4af3-9b47-f92d099d5b26",
   "metadata": {},
   "outputs": [
    {
     "name": "stdout",
     "output_type": "stream",
     "text": [
      "frozenset({1, 2, 3, 4, 5})\n"
     ]
    }
   ],
   "source": [
    "#Creating a Frozenset\n",
    "my_frozenset = frozenset([1,2,3,4,5])\n",
    "print(my_frozenset)"
   ]
  },
  {
   "cell_type": "code",
   "execution_count": 51,
   "id": "f5fe563e-efe4-45b3-8402-f78d618a2d57",
   "metadata": {},
   "outputs": [
    {
     "name": "stdout",
     "output_type": "stream",
     "text": [
      "result:  frozenset({1, 2, 3, 4, 5})\n",
      "\n",
      "intersection:  frozenset({3})\n",
      "diff:  frozenset({1, 2})\n",
      "diff2:  frozenset({4, 5})\n",
      "\n",
      "Symmetric_Difference frozenset({1, 2, 4, 5, 6, 7, 8})\n"
     ]
    }
   ],
   "source": [
    "# Allowed Operations on Frozenset\n",
    "fs1 = frozenset([1,2,3])\n",
    "fs2 = frozenset([3,4,5])\n",
    "result = fs1 | fs2\n",
    "inter = fs1.intersection(fs2) # (&) also we are able to use\n",
    "diff = fs1-fs2 #Difference (-) – Elements in one set but not the other\n",
    "diff2 = fs2-fs1 #Difference (-) – Elements in one set but not the other\n",
    "\n",
    "\n",
    "print('result: ',result)\n",
    "print()\n",
    "print('intersection: ',inter)\n",
    "print('diff: ', diff)\n",
    "\n",
    "print('diff2: ',diff2)\n",
    "print()\n",
    "#Symmetric Difference (^) – Elements that are in one set or the other, but not both\n",
    "fs1 = frozenset([1,2,3,4])\n",
    "fs2 = frozenset([3,5,6,7,8])\n",
    "Symmetric_Difference = fs1 ^ fs2\n",
    "print('Symmetric_Difference', Symmetric_Difference)\n"
   ]
  },
  {
   "cell_type": "code",
   "execution_count": 53,
   "id": "03c262c2-ed5a-4574-a312-1f7e5b0e9525",
   "metadata": {},
   "outputs": [
    {
     "name": "stdout",
     "output_type": "stream",
     "text": [
      "True\n",
      "False\n"
     ]
    }
   ],
   "source": [
    "# Checking if an Element Exists in a Frozenset\n",
    "fs = frozenset([10, 20, 30])\n",
    "print(20 in fs)\n",
    "print(50 in fs)\n"
   ]
  },
  {
   "cell_type": "code",
   "execution_count": 54,
   "id": "8c44b4de-1120-4a4f-8598-637f1ba1ccd5",
   "metadata": {},
   "outputs": [
    {
     "name": "stdout",
     "output_type": "stream",
     "text": [
      "{frozenset({1, 2}): 'set A', frozenset({3, 4}): 'setB'}\n"
     ]
    }
   ],
   "source": [
    "#Using Frozenset as a Dictionary Key (Important Use Case ✅)\n",
    "#Since frozensets are immutable, they can be used as keys in a dictionary (normal sets cannot be used as keys).\n",
    "'''data = {frozenset([1, 2, 3]): \"Set A\", frozenset([4, 5]): \"Set B\"}\n",
    "print(data)\n",
    "'''\n",
    "data = {frozenset([1,2]): 'set A', frozenset([3,4]):'setB'}\n",
    "print(data)"
   ]
  },
  {
   "cell_type": "code",
   "execution_count": null,
   "id": "b57fe315-2204-4d5d-8548-3a857c2c0bc4",
   "metadata": {},
   "outputs": [],
   "source": [
    "'''✅ When to Use Frozenset?\n",
    "When you need a read-only set (e.g., constant values).\n",
    "\n",
    "When you need to use a set as a dictionary key or store it inside another set.\n",
    "\n",
    "When you want to ensure data integrity (no accidental modifications).\n",
    "\n",
    "'''"
   ]
  }
 ],
 "metadata": {
  "kernelspec": {
   "display_name": "Python 3 (ipykernel)",
   "language": "python",
   "name": "python3"
  },
  "language_info": {
   "codemirror_mode": {
    "name": "ipython",
    "version": 3
   },
   "file_extension": ".py",
   "mimetype": "text/x-python",
   "name": "python",
   "nbconvert_exporter": "python",
   "pygments_lexer": "ipython3",
   "version": "3.13.0"
  }
 },
 "nbformat": 4,
 "nbformat_minor": 5
}
