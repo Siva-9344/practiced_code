{
 "cells": [
  {
   "cell_type": "code",
   "execution_count": 1,
   "id": "5c48e9fa-4525-4f0d-8404-5f9e4c50ea36",
   "metadata": {},
   "outputs": [],
   "source": [
    "# Time complexity\n",
    "\n",
    "# O(1) ===> best\n",
    "# O(log n) ===> good\n",
    "# O(n) ===> good\n",
    "\n",
    "# O(n logn) ===> not good\n",
    "\n",
    "# O(n^2), O(2^n), O(n!) ====> this are all worst case\n",
    "\n",
    "# incase you want to study about that go to BigO  chaetsheet\n",
    "\n",
    "#--------------------------------------------------------------------------------\n",
    "\n",
    "# Space complexity\n",
    "\n",
    "# It measures how much extra memory (not counting input) your program uses.\n",
    "'''\n",
    "Using extra arrays, recursion stack, etc., affects space.\n",
    "\n",
    "Example: storing results in a new list = O(n) space.\n",
    "'''\n"
   ]
  },
  {
   "cell_type": "code",
   "execution_count": 7,
   "id": "350e45b1-5f24-4333-910b-70a89e96313f",
   "metadata": {},
   "outputs": [
    {
     "name": "stdout",
     "output_type": "stream",
     "text": [
      "0\n",
      "1\n",
      "2\n",
      "3\n",
      "4\n",
      "--------------------\n",
      "1\n",
      "--------------------\n",
      "\n",
      " Nested loop over n → O(n²) time.\n",
      "1 1\n",
      "1 2\n",
      "1 3\n",
      "1 4\n",
      "1 5\n",
      "1 9\n",
      "1 8\n",
      "1 7\n",
      "1 6\n",
      "2 1\n",
      "2 2\n",
      "2 3\n",
      "2 4\n",
      "2 5\n",
      "2 9\n",
      "2 8\n",
      "2 7\n",
      "2 6\n",
      "3 1\n",
      "3 2\n",
      "3 3\n",
      "3 4\n",
      "3 5\n",
      "3 9\n",
      "3 8\n",
      "3 7\n",
      "3 6\n",
      "4 1\n",
      "4 2\n",
      "4 3\n",
      "4 4\n",
      "4 5\n",
      "4 9\n",
      "4 8\n",
      "4 7\n",
      "4 6\n",
      "5 1\n",
      "5 2\n",
      "5 3\n",
      "5 4\n",
      "5 5\n",
      "5 9\n",
      "5 8\n",
      "5 7\n",
      "5 6\n",
      "9 1\n",
      "9 2\n",
      "9 3\n",
      "9 4\n",
      "9 5\n",
      "9 9\n",
      "9 8\n",
      "9 7\n",
      "9 6\n",
      "8 1\n",
      "8 2\n",
      "8 3\n",
      "8 4\n",
      "8 5\n",
      "8 9\n",
      "8 8\n",
      "8 7\n",
      "8 6\n",
      "7 1\n",
      "7 2\n",
      "7 3\n",
      "7 4\n",
      "7 5\n",
      "7 9\n",
      "7 8\n",
      "7 7\n",
      "7 6\n",
      "6 1\n",
      "6 2\n",
      "6 3\n",
      "6 4\n",
      "6 5\n",
      "6 9\n",
      "6 8\n",
      "6 7\n",
      "6 6\n"
     ]
    }
   ],
   "source": [
    "# 🔹 3. Practical Understanding (with examples)\n",
    "\n",
    "import numpy as np\n",
    "\n",
    "# Example 1: O(n)\n",
    "\n",
    "def print_numbers(n):\n",
    "    for i in range (n):\n",
    "        print(i)\n",
    "\n",
    "print_numbers(5) # 👉 This runs the loop n times → O(n) time.\n",
    "print('-'*20)\n",
    "\n",
    "# Example 2: O(1)\n",
    "def print_first(arr):\n",
    "    print(arr[0])\n",
    "\n",
    "s = np.array([1,2,3,4,5])\n",
    "print_first(s) #  Only 1 operation → O(1) time.\n",
    "print('-'*20)\n",
    "print()\n",
    "\n",
    "def print_pairs(arr):\n",
    "    for i in arr:\n",
    "        for j in arr:\n",
    "            print(i, j)\n",
    "\n",
    "s = np.array([1,2,3,4,5,9,8,7,6])\n",
    "print(\" Nested loop over n → O(n²) time.\")\n",
    "print_pairs(s) # 👉 Nested loop over n → O(n²) time.\n",
    "\n",
    "\n",
    "\n"
   ]
  },
  {
   "cell_type": "code",
   "execution_count": 19,
   "id": "e7f320f3-d787-441c-8921-84456de3a977",
   "metadata": {},
   "outputs": [
    {
     "name": "stdout",
     "output_type": "stream",
     "text": [
      "method 2 is better than method1\n"
     ]
    },
    {
     "data": {
      "text/plain": [
       "False"
      ]
     },
     "execution_count": 19,
     "metadata": {},
     "output_type": "execute_result"
    }
   ],
   "source": [
    "# 🔹 4. Task for You (Understand & Practice)\n",
    "# ✅ Task 1: Identify the time complexity\n",
    "# What is the time complexity of this code?\n",
    "\n",
    "# check duplicates\n",
    "'''\n",
    "def check_duplicates(arr):\n",
    "    for i in range(len(arr)):\n",
    "        for j in range(i + 1, len(arr)):\n",
    "            if arr[i] == arr[j]:\n",
    "                return True\n",
    "    return False\n",
    "\n",
    "'''\n",
    "print(\"method 2 is better than method1\")\n",
    "# methode 1 for find duplicates\n",
    "def check_duplicates(arr):\n",
    "    for i in range(len(arr)):\n",
    "        for j in range (i+1, len(arr)):\n",
    "            if arr[i] == arr[j]:\n",
    "                return True\n",
    "    return False\n",
    "\n",
    "s = np.array([1,2,2,3,5,6])\n",
    "#print(len(s))\n",
    "check_duplicates(s)  # this code runs O(n^2)\n",
    "\n",
    "# method 2\n",
    "\n",
    "def duplicates_check_set(arr):\n",
    "    return len(arr) != len(set(arr))\n",
    "\n",
    "s = np.array([1,2,3,4])\n",
    "duplicates_check_set(s) #  Overall Time Complexity = O(n)\n",
    "\n",
    "\n",
    "# method 2 is better than method1\n"
   ]
  },
  {
   "cell_type": "code",
   "execution_count": 44,
   "id": "607ff9c6-c66a-4df7-b2a3-d1a63dac2efa",
   "metadata": {},
   "outputs": [
    {
     "name": "stdout",
     "output_type": "stream",
     "text": [
      "12\n",
      "12\n",
      "\n"
     ]
    }
   ],
   "source": [
    "'''\n",
    "✅ Task 3: Implement and Analyze\n",
    "Write a function that:\n",
    "\n",
    "Takes a list of numbers\n",
    "Returns the sum of all even numbers\n",
    "Also write its time and space complexity.\n",
    "'''\n",
    "# my try:\n",
    "\n",
    "def sum_even_num(s):\n",
    "    j = 0\n",
    "    for i in s:\n",
    "        if i%2 == 0:\n",
    "            j = i+j\n",
    "    print(j)                  \n",
    "k = [1,2,3,4,6,7]\n",
    "sum_even_num(k)\n",
    "\n",
    "# next method\n",
    "'''\n",
    "def sum_even_num(s):\n",
    "    print(sum(i for i in s if i % 2 == 0))\n",
    "'''\n",
    "\n",
    "def sum_even_num(s):\n",
    "    print(sum(i for i in s if i% 2== 0))\n",
    "sum_even_num([1,2,3,4,6,7])  \n",
    "\n",
    "'''\n",
    "🧠 Time and Space Complexity:\n",
    "Time Complexity:\n",
    "O(n) → You loop through each element once\n",
    "\n",
    "Space Complexity:\n",
    "O(1) → You use a single variable (total), not storing any extra data\n",
    "'''\n",
    "print()"
   ]
  },
  {
   "cell_type": "code",
   "execution_count": 47,
   "id": "59d9e692-e486-42ca-b8e8-61aac5bf95ac",
   "metadata": {},
   "outputs": [
    {
     "name": "stdout",
     "output_type": "stream",
     "text": [
      "<generator object squared.<locals>.<genexpr> at 0x000001DD8432EA80>\n"
     ]
    }
   ],
   "source": [
    "# 🔥 Next Set of Time & Space Complexity Tasks\n",
    "#✅ Task 4: Analyze time complexity of this function\n",
    "\n",
    "'''\n",
    "def find_max(arr):\n",
    "    max_val = arr[0]\n",
    "    for i in arr:\n",
    "        if i > max_val:\n",
    "            max_val = i\n",
    "    return max_val\n",
    "\n",
    "'''\n",
    "# find the maximun number in that array\n",
    "\n",
    "def max(arr):\n",
    "    max_val = arr[0]\n",
    "    for i in arr:\n",
    "        if i > max_val:\n",
    "            max_val = i\n",
    "    return max_val\n",
    "s = np.array([1,2,3,4,5,6])\n",
    "max(s)\n",
    "\n",
    "# space_complexity = o(1)\n",
    "# time_complexity = o(n)"
   ]
  },
  {
   "cell_type": "code",
   "execution_count": 58,
   "id": "2cfc8aa3-585c-415a-9fc3-863a9a27f664",
   "metadata": {},
   "outputs": [
    {
     "name": "stdout",
     "output_type": "stream",
     "text": [
      "[1, 4, 9, 16]\n",
      "------------------------------\n",
      "1\n",
      "4\n",
      "9\n",
      "16\n"
     ]
    }
   ],
   "source": [
    "'''\n",
    "✅ Task 5: Write a function and analyze complexity\n",
    "Write a function that:\n",
    "\n",
    "Takes a list of numbers\n",
    "Returns a new list with each number squared\n",
    "Explain time and space complexity.\n",
    "'''\n",
    "\n",
    "def squared(num):\n",
    "    print([i**2 for i in num])\n",
    "s = [1,2,3,4]\n",
    "squared(s)\n",
    "\n",
    "#time complexity : o(n)\n",
    "#space complexity : o(n)\n",
    "print('-'*30)\n",
    "\n",
    "# method 2\n",
    "def squared_gen(num):\n",
    "    for i in num:\n",
    "        print(i**2)\n",
    "squared_gen([1,2,3,4])\n",
    "#time complexity : o(n)\n",
    "#space complexity : o(1) constant because we are not created any kind of list"
   ]
  },
  {
   "cell_type": "code",
   "execution_count": 63,
   "id": "aecf9dd7-b4d0-4f2c-86df-e4e4ce47504c",
   "metadata": {},
   "outputs": [
    {
     "name": "stdout",
     "output_type": "stream",
     "text": [
      "[np.int64(2), np.int64(3), np.int64(4), np.int64(5), np.int64(3), np.int64(4), np.int64(5), np.int64(6), np.int64(4), np.int64(5), np.int64(6), np.int64(7), np.int64(5), np.int64(6), np.int64(7), np.int64(8)]\n",
      "\n"
     ]
    }
   ],
   "source": [
    "# ✅ Task 6: Nested loops with different lengths\n",
    "\n",
    "'''\n",
    "def pair_sums(arr1, arr2):\n",
    "    result = []\n",
    "    for i in arr1:\n",
    "        for j in arr2:\n",
    "            result.append(i + j)\n",
    "    return result\n",
    "'''\n",
    "# pair sum\n",
    "def pair_sums(arr1,arr2):\n",
    "    x = []\n",
    "    for i in arr1:\n",
    "        for j in arr2:\n",
    "             x.append(i+j)\n",
    "    print(x)\n",
    "m = np.array([1,2,3,4])\n",
    "n = np.array([1,2,3,4])\n",
    "pair_sums(m,n)\n",
    "\n",
    "# time complexity : o(n^2)\n",
    "# space complexity :o(n^2)\n",
    "\n",
    "'''\n",
    "🔁 Time Complexity:\n",
    "Outer loop runs m times\n",
    "\n",
    "Inner loop runs n times for each i\n",
    "\n",
    "Total operations = m × n\n",
    "✅ So: Time Complexity = O(m × n)\n",
    "(Since m and n are both 4 in your example, it's 16 total operations)\n",
    "\n",
    "💾 Space Complexity:\n",
    "You're storing m × n results in the list x\n",
    "So Space Complexity = O(m × n)\n",
    "'''\n",
    "print()"
   ]
  },
  {
   "cell_type": "code",
   "execution_count": 64,
   "id": "60294509-291c-4ddd-82b1-d7f4b60a909d",
   "metadata": {},
   "outputs": [
    {
     "name": "stdout",
     "output_type": "stream",
     "text": [
      "hello 5\n",
      "hello 4\n",
      "hello 3\n",
      "hello 2\n",
      "hello 1\n"
     ]
    }
   ],
   "source": [
    "# 🧠 Recursion = Repeating the same function with smaller values\n",
    "\n",
    "\n",
    "def say_hello(n):\n",
    "    if n == 0:\n",
    "       return # stop\n",
    "    print('hello',n)\n",
    "    say_hello(n-1)  # call itself with smaller number\n",
    "s = 5\n",
    "say_hello(s)\n"
   ]
  },
  {
   "cell_type": "code",
   "execution_count": 65,
   "id": "1e426013-a123-4492-a527-cdde056516bc",
   "metadata": {},
   "outputs": [
    {
     "data": {
      "text/plain": [
       "120"
      ]
     },
     "execution_count": 65,
     "metadata": {},
     "output_type": "execute_result"
    }
   ],
   "source": [
    "# ✅ Task 7: Analyze recursive function complexity\n",
    "\n",
    "def factoria(s):\n",
    "    if s == 0:\n",
    "        return 1\n",
    "    else:\n",
    "        return s* factorial(s-1)\n",
    "factorial(5)  \n",
    "\n",
    "'''\n",
    "✅ Final Answer:\n",
    "Type\tComplexity\n",
    "Time Complexity\tO(n)\n",
    "Space Complexity\tO(n)\n",
    "'''\n",
    "    "
   ]
  },
  {
   "cell_type": "code",
   "execution_count": 78,
   "id": "780d252e-e047-445c-903a-9dd794b36dfd",
   "metadata": {},
   "outputs": [
    {
     "data": {
      "text/plain": [
       "True"
      ]
     },
     "execution_count": 78,
     "metadata": {},
     "output_type": "execute_result"
    }
   ],
   "source": [
    "# ✅ Task 8: Optimize this function (with explanation)\n",
    "import numpy as np\n",
    "def contains_duplicate(arr):\n",
    "    for i in arr:\n",
    "        if arr.count(i)>1:\n",
    "            return True\n",
    "    return False\n",
    "n = np.array([1,2,3,4,4])\n",
    "contains_duplicate(n.tolist())  # this is normal versions\n",
    "\n",
    "# optimized version\n",
    "'''\n",
    "def contains_duplicate(arr):\n",
    "    seen = set()\n",
    "    for i in arr:\n",
    "        if i in seen:\n",
    "            return True\n",
    "        seen.add(i)\n",
    "    return False\n",
    "\n",
    "'''\n",
    "\n",
    "def contains_duplicate(arr):\n",
    "    seen = set()\n",
    "    for i in arr:\n",
    "        if i in seen:\n",
    "            return True\n",
    "        seen.add(i)\n",
    "    return False  \n",
    "contains_duplicate(np.array([1,2,3,4,4]))  \n",
    "\n",
    "time  = o(n)\n",
    "space = o(n)\n",
    "\n",
    "    \n"
   ]
  },
  {
   "cell_type": "code",
   "execution_count": 12,
   "id": "bfbd1388-8e4e-498f-8997-04c27f650070",
   "metadata": {},
   "outputs": [
    {
     "name": "stdout",
     "output_type": "stream",
     "text": [
      "[np.int64(4)]\n",
      "[4]\n"
     ]
    }
   ],
   "source": [
    "'''\n",
    "Task 9: Find intersection of two arrays\n",
    "Write a function that takes two arrays and returns a list of common elements.\n",
    "'''\n",
    "# my version\n",
    "\n",
    "import numpy as np\n",
    "def comm_elem(arr1,arr2):\n",
    "    store = []\n",
    "    for i in arr1:\n",
    "        for j in arr2:\n",
    "            if i == j:\n",
    "                store.append(i)            \n",
    "    print(store)\n",
    "a = np.array([1,2,3,4])\n",
    "b = np.array([5,6,7,4])\n",
    "comm_elem(a,b)\n",
    "\n",
    "time = o(n^2) # worst case =====> its take more time\n",
    "space = o(n)\n",
    "\n",
    "#------------------------------------------------------\n",
    "\n",
    "def com_ele(arr1,arr2):\n",
    "    result  = np.intersect1d(arr1,arr2)\n",
    "    print(result)\n",
    "a = np.array([1,2,3,4])\n",
    "b = np.array([5,6,7,4])\n",
    "com_ele(a,b)\n",
    "\n",
    "time = o(n)\n",
    "space = o(1)\n",
    "    \n"
   ]
  },
  {
   "cell_type": "code",
   "execution_count": null,
   "id": "f5ec45c2-cb37-44e5-8055-020efc713570",
   "metadata": {},
   "outputs": [],
   "source": []
  }
 ],
 "metadata": {
  "kernelspec": {
   "display_name": "Python 3 (ipykernel)",
   "language": "python",
   "name": "python3"
  },
  "language_info": {
   "codemirror_mode": {
    "name": "ipython",
    "version": 3
   },
   "file_extension": ".py",
   "mimetype": "text/x-python",
   "name": "python",
   "nbconvert_exporter": "python",
   "pygments_lexer": "ipython3",
   "version": "3.13.0"
  }
 },
 "nbformat": 4,
 "nbformat_minor": 5
}
